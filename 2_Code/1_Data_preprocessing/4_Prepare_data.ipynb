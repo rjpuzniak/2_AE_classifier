{
 "cells": [
  {
   "cell_type": "code",
   "execution_count": 1,
   "metadata": {},
   "outputs": [],
   "source": [
    "# Imports\n",
    "import nibabel as nib\n",
    "import numpy as np\n",
    "import subprocess\n",
    "import glob\n",
    "import os\n",
    "\n",
    "from nilearn.image import resample_img\n",
    "from skimage.measure import label\n",
    "from scipy.ndimage.morphology import binary_dilation"
   ]
  },
  {
   "cell_type": "code",
   "execution_count": 2,
   "metadata": {},
   "outputs": [],
   "source": [
    "# Function selecting a bounding box (with a margin of choice) around optic chiasm mask created by FreeSurfer\n",
    "\n",
    "def centered_bb(img, x_dim=32, y_dim=32, z_dim=12):\n",
    "\n",
    "    a = np.any(img, axis=(1, 2))\n",
    "    b = np.any(img, axis=(0, 2))\n",
    "    c = np.any(img, axis=(0, 1))\n",
    "    \n",
    "    amin, amax = np.where(a)[0][[0, -1]]\n",
    "    bmin, bmax = np.where(b)[0][[0, -1]]\n",
    "    cmin, cmax = np.where(c)[0][[0, -1]]\n",
    "    \n",
    "    return int((amin+amax)/2)-int(x_dim/2)+1,int((amin+amax)/2)+int(x_dim/2), int((bmin+bmax)/2)-int(y_dim/2)+1,int((bmin+bmax)/2)+int(y_dim/2),int((cmin+cmax)/2)-int(z_dim/2)+1,int((cmin+cmax)/2)+int(z_dim/2)"
   ]
  },
  {
   "cell_type": "code",
   "execution_count": 3,
   "metadata": {},
   "outputs": [],
   "source": [
    "def extract_mask(output_dir,group, sub, t1w_image, brain_mask, chiasm_mask):\n",
    "    \n",
    "    # Make output directory\n",
    "    output_folder=output_dir+group+'/'+sub+'/'\n",
    "    os.makedirs(output_folder, exist_ok=True)\n",
    "    \n",
    "    # Load all files\n",
    "    t1w = nib.load(t1w_image)\n",
    "    brain = nib.load(brain_mask)\n",
    "    chiasm = nib.load(chiasm_mask)\n",
    "    \n",
    "    # Resample chiasm mask to T1w image's resolution\n",
    "    chiasm_resampled = resample_img(chiasm, t1w.affine, t1w.shape, 'linear')\n",
    "   \n",
    "    # Calculate coordinates from mask\n",
    "    chiasm_data = chiasm_resampled.get_fdata()\n",
    "    a_min, a_max, b_min, b_max, c_min, c_max = centered_bb(chiasm_data,32,12,32)\n",
    "    \n",
    "    # 1. Extract patch with optic chiasm and save it\n",
    "    t1w_data = t1w.get_fdata()\n",
    "\n",
    "    cropped = t1w.slicer[a_min:a_max+1,b_min:b_max+1,c_min:c_max+1]\n",
    "    cropped.to_filename(output_folder+'chiasm.nii.gz')\n",
    "    \n",
    "    # 2. Crop the same patch from brain mask\n",
    "    \n",
    "    brain_data = brain.get_fdata()\n",
    "    \n",
    "    # Sphere patch  \n",
    "    \n",
    "    # Calculate the center and radius of the sphere\n",
    "    sphere_center = ((a_min+a_max)//2,(b_min+b_max)//2,(c_min+c_max)//2)\n",
    "    sphere_radius = np.int((16**2+16**2+6**2)**(0.5))\n",
    "\n",
    "    for x in range(sphere_center[0]-sphere_radius, sphere_center[0]+sphere_radius+1):\n",
    "        for y in range(sphere_center[1]-sphere_radius, sphere_center[1]+sphere_radius+1):\n",
    "            for z in range(sphere_center[2]-sphere_radius, sphere_center[2]+sphere_radius+1):\n",
    "                \n",
    "                dist = sphere_radius - ((x-sphere_center[0])**2+(y-sphere_center[1])**2+(z-sphere_center[2])**2)**(0.5)\n",
    "                if dist>0: brain_data[x,y,z] = 0  \n",
    "                    \n",
    "    # Square patch\n",
    "    \n",
    "    #brain_data[a_min:a_max+1,b_min:b_max+1,c_min:c_max+1]=0\n",
    "    \n",
    "    img = nib.Nifti1Image(brain_data, brain.affine)\n",
    "    nib.save(img, output_folder+'sampling_distribution.nii.gz')\n",
    "\n",
    "    # Here we just want to save the sampling distribution with proper affine\n",
    "    #brain_resampled = resample_img(brain, t1w.affine, t1w.shape, 'linear')\n",
    "    #nib.save(brain_resampled, output_folder+'sampling_distribution.nii.gz' )\n",
    "        \n",
    "    return None"
   ]
  },
  {
   "cell_type": "code",
   "execution_count": 4,
   "metadata": {},
   "outputs": [],
   "source": [
    "data_dir='../../1_Data/1_Input/'\n",
    "#datasets=['ABIDE','Athletes','CHIASM','COBRE','Leipzig','HCP','UoN','MCIC']\n",
    "datasets=['MCIC']"
   ]
  },
  {
   "cell_type": "code",
   "execution_count": 5,
   "metadata": {},
   "outputs": [
    {
     "name": "stdout",
     "output_type": "stream",
     "text": [
      "MCIC\n",
      "../../1_Data/1_Input/MCIC/A00036128\n",
      "../../1_Data/1_Input/MCIC/A00036289\n",
      "../../1_Data/1_Input/MCIC/A00036292\n",
      "../../1_Data/1_Input/MCIC/A00036276\n",
      "../../1_Data/1_Input/MCIC/A00036326\n",
      "../../1_Data/1_Input/MCIC/A00036106\n",
      "../../1_Data/1_Input/MCIC/A00036127\n",
      "../../1_Data/1_Input/MCIC/A00036357\n",
      "../../1_Data/1_Input/MCIC/A00036123\n",
      "../../1_Data/1_Input/MCIC/A00036129\n",
      "../../1_Data/1_Input/MCIC/A00036254\n",
      "../../1_Data/1_Input/MCIC/A00036157\n",
      "../../1_Data/1_Input/MCIC/A00036309\n",
      "../../1_Data/1_Input/MCIC/A00036115\n",
      "../../1_Data/1_Input/MCIC/A00036297\n",
      "../../1_Data/1_Input/MCIC/A00036299\n",
      "../../1_Data/1_Input/MCIC/A00036308\n",
      "../../1_Data/1_Input/MCIC/A00036442\n",
      "../../1_Data/1_Input/MCIC/A00036462\n",
      "../../1_Data/1_Input/MCIC/A00036455\n",
      "../../1_Data/1_Input/MCIC/A00036131\n",
      "../../1_Data/1_Input/MCIC/A00036119\n",
      "../../1_Data/1_Input/MCIC/A00036388\n",
      "../../1_Data/1_Input/MCIC/A00036358\n",
      "../../1_Data/1_Input/MCIC/A00036107\n",
      "../../1_Data/1_Input/MCIC/A00036111\n",
      "../../1_Data/1_Input/MCIC/A00036370\n",
      "../../1_Data/1_Input/MCIC/A00036412\n",
      "../../1_Data/1_Input/MCIC/A00036366\n",
      "../../1_Data/1_Input/MCIC/A00036199\n",
      "../../1_Data/1_Input/MCIC/A00036336\n"
     ]
    }
   ],
   "source": [
    "# Iterate through all datasets and all subjects\n",
    "for dataset in datasets:\n",
    "    \n",
    "    dataset_dir=data_dir+dataset\n",
    "    print(dataset)\n",
    "        \n",
    "    subjects = [os.path.basename(os.path.dirname(f)) for f in glob.glob(dataset_dir+'/*/mask_optic_chiasm.nii.gz')]\n",
    "    \n",
    "    for subject in subjects:\n",
    "        \n",
    "        subject_dir = dataset_dir+'/'+subject\n",
    "        \n",
    "        print(subject_dir)\n",
    "        \n",
    "        try:\n",
    "            extract_mask(data_dir,dataset,subject,subject_dir+'/t1w_1mm_iso.nii.gz',subject_dir+'/t1w_1mm_iso_brain_mask.nii.gz', subject_dir+'/mask_optic_chiasm.nii.gz')\n",
    "        except:\n",
    "            print('Unexpected problem!')"
   ]
  },
  {
   "cell_type": "code",
   "execution_count": null,
   "metadata": {},
   "outputs": [],
   "source": []
  }
 ],
 "metadata": {
  "authors": [
   {
    "date": "July, 2020",
    "email": "rjpuzniak@gmail.com",
    "name": "Robert Puzniak"
   }
  ],
  "kernelspec": {
   "display_name": "Python 3 (ipykernel)",
   "language": "python",
   "name": "python3"
  },
  "language_info": {
   "codemirror_mode": {
    "name": "ipython",
    "version": 3
   },
   "file_extension": ".py",
   "mimetype": "text/x-python",
   "name": "python",
   "nbconvert_exporter": "python",
   "pygments_lexer": "ipython3",
   "version": "3.8.12"
  }
 },
 "nbformat": 4,
 "nbformat_minor": 4
}
