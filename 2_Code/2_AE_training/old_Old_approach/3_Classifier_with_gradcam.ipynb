{
 "cells": [
  {
   "cell_type": "markdown",
   "metadata": {},
   "source": [
    "# Dataloaders"
   ]
  },
  {
   "cell_type": "code",
   "execution_count": 1,
   "metadata": {},
   "outputs": [],
   "source": [
    "# Importing libraries\n",
    "import torchio as tio\n",
    "import glob\n",
    "import numpy as np\n",
    "import random\n",
    "import os\n",
    "import pickle\n",
    "\n",
    "from collections import OrderedDict\n",
    "from pathlib import Path\n",
    "\n",
    "from tqdm import tqdm\n",
    "import time\n",
    "\n",
    "import torchio as tio\n",
    "from torchio.transforms import (RescaleIntensity,RandomFlip,Compose, HistogramStandardization)\n",
    "\n",
    "from sklearn.metrics import accuracy_score\n",
    "\n",
    "from torch.utils.data import DataLoader\n",
    "import torch\n",
    "import torch.nn as nn\n",
    "\n",
    "import matplotlib.pyplot as plt"
   ]
  },
  {
   "cell_type": "code",
   "execution_count": 2,
   "metadata": {},
   "outputs": [],
   "source": [
    "def save_obj(obj, name ):\n",
    "    with open(name + '.pkl', 'wb') as f:\n",
    "        pickle.dump(obj, f, pickle.HIGHEST_PROTOCOL)\n",
    "\n",
    "def load_obj(name ):\n",
    "    with open(name + '.pkl', 'rb') as f:\n",
    "        return pickle.load(f) "
   ]
  },
  {
   "cell_type": "code",
   "execution_count": 3,
   "metadata": {},
   "outputs": [],
   "source": [
    "def assign_ids_to_groups(category, groups, nr_con_per_dataset, nr_alb_per_dataset=[]):\n",
    "    \n",
    "    # Create dictionary for given category (public, UoN, CHIASM) storing IDs of relevant subjects\n",
    "    dictionary={}\n",
    "    \n",
    "    # Run only for datasets (train, train_dev, test_dev, test) where action is needed\n",
    "    nonzeroind = np.nonzero(nr_con_per_dataset)[0]\n",
    "    datasets=['train','train_dev','test_dev','test']\n",
    "    \n",
    "    for i in nonzeroind:\n",
    "\n",
    "        # Select only relevant datasets (see comment above)\n",
    "        dataset=datasets[i]\n",
    "\n",
    "        dictionary[dataset]={}\n",
    "    \n",
    "    for group in groups:\n",
    "        \n",
    "        # Create list of indices for given dataset (e.g. HCP, ABIDE)\n",
    "        tmp_ids = [os.path.basename(path) for path in glob.glob('../../1_Data/1_Input/'+group+'/*')]\n",
    "        random.shuffle(tmp_ids)\n",
    "        \n",
    "        # If the dataset contains data from both control and albinism, the equal split must be ensured\n",
    "        if nr_alb_per_dataset:\n",
    "            \n",
    "            con_ids=[]\n",
    "            alb_ids=[]\n",
    "            \n",
    "            for subid in tmp_ids:\n",
    "                if subid in ids_albinism:\n",
    "                    alb_ids.append(subid)\n",
    "                else:\n",
    "                    con_ids.append(subid)\n",
    "\n",
    "            for i in nonzeroind:\n",
    "\n",
    "                dataset = datasets[i]\n",
    "\n",
    "                dictionary[dataset][group]={}\n",
    "                \n",
    "                candidates = con_ids[:nr_con_per_dataset[i]] + alb_ids[:nr_alb_per_dataset[i]]\n",
    "                random.shuffle(candidates)\n",
    "                \n",
    "                dictionary[dataset][group]= candidates\n",
    "                \n",
    "                del con_ids[:nr_con_per_dataset[i]]\n",
    "                del alb_ids[:nr_alb_per_dataset[i]]\n",
    "        \n",
    "        # Otherwise no action is required\n",
    "        else:\n",
    "    \n",
    "            for i in nonzeroind:\n",
    "\n",
    "                # Only for datasets where we require a >0 participants\n",
    "                dataset=datasets[i]\n",
    "\n",
    "                dictionary[dataset][group]={}\n",
    "\n",
    "                # Select first X participants from the list and delete them\n",
    "                dictionary[dataset][group]=tmp_ids[:nr_con_per_dataset[i]]\n",
    "                del tmp_ids[:nr_con_per_dataset[i]]\n",
    "\n",
    "    save_obj(dictionary, 'ids_'+str(category))\n",
    "    \n",
    "    return dictionary"
   ]
  },
  {
   "cell_type": "code",
   "execution_count": 4,
   "metadata": {},
   "outputs": [],
   "source": [
    "# List IDs of all participants with albinism\n",
    "ids_albinism=['Nyst01','Nyst02','Nyst03','Nyst04','Nyst05','Nyst06','Nyst07','Nyst08','Nyst09',\n",
    "              'Nyst10','Nyst11','Nyst12','Nyst13','Nyst16','Nyst20','Nyst21','Nyst24', 'Nyst25',\n",
    "              'Nyst31','Nyst35','Nyst37','Nyst43','Nyst45','sub-ALB1','sub-ALB2','sub-ALB3','sub-ALB4',\n",
    "              'sub-ALB5','sub-ALB6','sub-ALB7','sub-ALB8','sub-ALB9'] "
   ]
  },
  {
   "cell_type": "code",
   "execution_count": 5,
   "metadata": {},
   "outputs": [
    {
     "name": "stdout",
     "output_type": "stream",
     "text": [
      "1111\n",
      "43\n",
      "17\n"
     ]
    }
   ],
   "source": [
    "# Create dictionaries asigning subjects to train/train_dev/test_dev/test groups\n",
    "public=['HCP']\n",
    "UoN=['UoN']\n",
    "CHIASM=['CHIASM']\n",
    "\n",
    "for group in public:\n",
    "    print(len([os.path.basename(path) for path in glob.glob('../../1_Data/1_Input/'+group+'/*')]))\n",
    "public_dict = assign_ids_to_groups('public',public,[20,10,0,0])\n",
    "\n",
    "for group in UoN:\n",
    "    print(len([os.path.basename(path) for path in glob.glob('../../1_Data/1_Input/'+group+'/*')]))\n",
    "UoN_dict = assign_ids_to_groups('UoN',UoN,[16,5,0,0],[17,5,0,0])\n",
    "\n",
    "for group in CHIASM:\n",
    "    print(len([os.path.basename(path) for path in glob.glob('../../1_Data/1_Input/'+group+'/*')]))\n",
    "CHIASM_dict = assign_ids_to_groups('CHIASM',CHIASM,[0,0,3,5],[0,0,3,6])"
   ]
  },
  {
   "cell_type": "code",
   "execution_count": 6,
   "metadata": {},
   "outputs": [],
   "source": [
    "# Merge obtained dictionary into a single one with study design\n",
    "design = {}\n",
    "\n",
    "design['train']={}\n",
    "design['train_dev']={}\n",
    "design['test_dev']={}\n",
    "design['test']={}"
   ]
  },
  {
   "cell_type": "code",
   "execution_count": 7,
   "metadata": {},
   "outputs": [],
   "source": [
    "list_of_dictionaries = ['public_dict','UoN_dict','CHIASM_dict']\n",
    "\n",
    "for dictionary_name in list_of_dictionaries:\n",
    "    \n",
    "    processed_dictionary = eval(dictionary_name)\n",
    "    \n",
    "    for dataset_key in list(processed_dictionary.keys()):\n",
    "    \n",
    "        for group_key in list(processed_dictionary[dataset_key].keys()):\n",
    "    \n",
    "            for subid in processed_dictionary[dataset_key][group_key]:\n",
    "            \n",
    "                path_to_folder='../../1_Data/1_Input/'+group_key+'/'+subid+'/'\n",
    "        \n",
    "                files={}\n",
    "                files['brain']=path_to_folder+'brain_skull-stripped.nii.gz'\n",
    "                files['probs']=path_to_folder+'sampling_distribution.nii.gz'\n",
    "                files['chiasm']=path_to_folder+'chiasm.nii.gz'\n",
    "                files['is_alb']=1 if subid in ids_albinism else 0\n",
    "                \n",
    "                design[dataset_key][subid]=files\n",
    "                \n",
    "                # The training dataset contains 36 controls (20 from HCP and 16 from UoN) and 17 people with albinism\n",
    "                # The sample of albinism is upsampled by a factor of 2 to aid the training\n",
    "                if (dataset_key == 'train' and group_key == \"UoN\" and subid in ids_albinism):\n",
    "                    design[dataset_key][subid+'_2']=files\n",
    "                "
   ]
  },
  {
   "cell_type": "code",
   "execution_count": 8,
   "metadata": {},
   "outputs": [],
   "source": [
    "# Data preprocessing and augmentation\n",
    "\n",
    "# Rescale\n",
    "rescale = RescaleIntensity((0,1))\n",
    "\n",
    "# Flip\n",
    "flip = RandomFlip((0,1,2), flip_probability=0.5, p=0.25)\n",
    "\n",
    "# Composing transforms - flip serves as data augmentation and is used only for training\n",
    "transform_train = Compose([rescale, flip])\n",
    "transform_dev = Compose([rescale])"
   ]
  },
  {
   "cell_type": "code",
   "execution_count": 9,
   "metadata": {},
   "outputs": [],
   "source": [
    "# Dictionary with all chiasm images\n",
    "subjects_chiasms_list = {'train': [tio.Subject(t1=tio.Image(design['train'][sub]['chiasm'], type=tio.INTENSITY), albinism =design['train'][sub]['is_alb']) for sub in design['train']],\n",
    "                'train_dev': [tio.Subject(t1=tio.Image(design['train_dev'][sub]['chiasm'], type=tio.INTENSITY), albinism =design['train_dev'][sub]['is_alb']) for sub in design['train_dev']],\n",
    "                'test_dev':[tio.Subject(t1=tio.Image(design['test_dev'][sub]['chiasm'], type=tio.INTENSITY), albinism =design['test_dev'][sub]['is_alb']) for sub in design['test_dev']],\n",
    "                'test':[tio.Subject(t1=tio.Image(design['test'][sub]['chiasm'], type=tio.INTENSITY), albinism =design['test'][sub]['is_alb']) for sub in design['test']]}"
   ]
  },
  {
   "cell_type": "code",
   "execution_count": 10,
   "metadata": {},
   "outputs": [],
   "source": [
    "# Dataset containing only chiasm images\n",
    "dataset_chiasms = {'train': tio.SubjectsDataset(subjects_chiasms_list['train'], transform = Compose([rescale, flip])),\n",
    "           'train_dev': tio.SubjectsDataset(subjects_chiasms_list['train_dev'], transform = Compose([rescale])),\n",
    "           'test_dev': tio.SubjectsDataset(subjects_chiasms_list['test_dev'], transform = Compose([rescale])),\n",
    "           'test': tio.SubjectsDataset(subjects_chiasms_list['test'], transform = Compose([rescale]))}"
   ]
  },
  {
   "cell_type": "code",
   "execution_count": 11,
   "metadata": {},
   "outputs": [],
   "source": [
    "# Standard dataloader with images of chiasm\n",
    "\n",
    "# Dataloader\n",
    "dataloader_chiasms={'train': DataLoader(dataset=dataset_chiasms['train'], batch_size = 10, shuffle=True, num_workers =8),\n",
    "            'train_dev': DataLoader(dataset=dataset_chiasms['train_dev'], batch_size = 10, shuffle=True, num_workers =8),\n",
    "            'test_dev': DataLoader(dataset=dataset_chiasms['test_dev'], batch_size = 10, shuffle=True, num_workers =8),\n",
    "            'test': DataLoader(dataset=dataset_chiasms['test'], batch_size = 10, shuffle=True, num_workers =8)\n",
    "           }"
   ]
  },
  {
   "cell_type": "code",
   "execution_count": 12,
   "metadata": {},
   "outputs": [
    {
     "name": "stdout",
     "output_type": "stream",
     "text": [
      "train\n"
     ]
    },
    {
     "data": {
      "image/png": "[encoded data removed]",
      "text/plain": [
       "<Figure size 1440x1440 with 10 Axes>"
      ]
     },
     "metadata": {
      "needs_background": "light"
     },
     "output_type": "display_data"
    },
    {
     "name": "stdout",
     "output_type": "stream",
     "text": [
      "train_dev\n"
     ]
    },
    {
     "data": {
      "image/png": "[encoded data removed]",
      "text/plain": [
       "<Figure size 1440x1440 with 10 Axes>"
      ]
     },
     "metadata": {
      "needs_background": "light"
     },
     "output_type": "display_data"
    },
    {
     "name": "stdout",
     "output_type": "stream",
     "text": [
      "test_dev\n"
     ]
    },
    {
     "data": {
      "image/png": "[encoded data removed]",
      "text/plain": [
       "<Figure size 1440x1440 with 6 Axes>"
      ]
     },
     "metadata": {
      "needs_background": "light"
     },
     "output_type": "display_data"
    }
   ],
   "source": [
    "# Visualize results\n",
    "for group in ['train', 'train_dev', 'test_dev']:\n",
    "    \n",
    "    print(group)\n",
    "    \n",
    "    batch = next(enumerate(dataloader_chiasms[group]))\n",
    "    \n",
    "    data = batch[1]['t1']['data']\n",
    "    labels = batch[1]['t1']['path']\n",
    "    \n",
    "    inputs = data.cpu().numpy()\n",
    "\n",
    "        \n",
    "    fig = plt.figure(figsize=(20,20))\n",
    "    \n",
    "    for i in range(inputs.shape[0]):\n",
    "        \n",
    "        plt.subplot(inputs.shape[0],1,i+1)\n",
    "        plt.imshow(inputs[i,0,:,:,5],cmap='gray');\n",
    "        plt.title(labels[i])    \n",
    "        plt.axis('off')\n",
    "    \n",
    "    plt.show()"
   ]
  },
  {
   "cell_type": "code",
   "execution_count": 13,
   "metadata": {},
   "outputs": [
    {
     "data": {
      "text/plain": [
       "['../../1_Data/1_Input/CHIASM/sub-CON2/chiasm.nii.gz',\n",
       " '../../1_Data/1_Input/CHIASM/sub-ALB2/chiasm.nii.gz',\n",
       " '../../1_Data/1_Input/CHIASM/sub-CON4/chiasm.nii.gz',\n",
       " '../../1_Data/1_Input/CHIASM/sub-CON3/chiasm.nii.gz',\n",
       " '../../1_Data/1_Input/CHIASM/sub-ALB4/chiasm.nii.gz',\n",
       " '../../1_Data/1_Input/CHIASM/sub-ALB6/chiasm.nii.gz']"
      ]
     },
     "execution_count": 13,
     "metadata": {},
     "output_type": "execute_result"
    }
   ],
   "source": [
    "batch[1]['t1']['path']"
   ]
  },
  {
   "cell_type": "code",
   "execution_count": 14,
   "metadata": {},
   "outputs": [
    {
     "data": {
      "text/plain": [
       "(0,\n",
       " {'t1': {'data': tensor([[[[[5.0346e-01, 3.6805e-01, 3.9686e-01,  ..., 2.1973e-01,\n",
       "               7.3669e-01, 1.0000e+00],\n",
       "              [6.3509e-01, 2.9020e-01, 3.5487e-01,  ..., 6.2392e-01,\n",
       "               1.0000e+00, 9.8572e-01],\n",
       "              [5.6859e-01, 3.8969e-01, 3.9164e-01,  ..., 8.5687e-01,\n",
       "               1.0000e+00, 9.5969e-01],\n",
       "              ...,\n",
       "              [9.6606e-01, 7.8463e-01, 7.3424e-01,  ..., 5.6380e-01,\n",
       "               6.9140e-01, 7.7435e-01],\n",
       "              [1.0000e+00, 7.3354e-01, 6.8395e-01,  ..., 5.8419e-01,\n",
       "               6.7443e-01, 7.0254e-01],\n",
       "              [9.3356e-01, 6.7934e-01, 6.9280e-01,  ..., 6.2398e-01,\n",
       "               6.0826e-01, 7.1688e-01]],\n",
       "   \n",
       "             [[8.2208e-01, 4.0150e-01, 2.8587e-01,  ..., 2.2217e-01,\n",
       "               3.7590e-01, 7.7380e-01],\n",
       "              [9.2132e-01, 5.1195e-01, 2.4171e-01,  ..., 4.4694e-01,\n",
       "               8.6624e-01, 1.0000e+00],\n",
       "              [7.2347e-01, 3.5798e-01, 2.7665e-01,  ..., 7.8375e-01,\n",
       "               1.0000e+00, 9.9393e-01],\n",
       "              ...,\n",
       "              [9.9716e-01, 8.7948e-01, 6.8819e-01,  ..., 6.9820e-01,\n",
       "               7.0696e-01, 7.1224e-01],\n",
       "              [9.4873e-01, 8.6828e-01, 6.1174e-01,  ..., 6.6146e-01,\n",
       "               6.7891e-01, 7.3757e-01],\n",
       "              [9.2184e-01, 8.9221e-01, 5.6590e-01,  ..., 6.6582e-01,\n",
       "               6.7953e-01, 7.4273e-01]],\n",
       "   \n",
       "             [[6.8407e-01, 7.9485e-01, 2.1003e-01,  ..., 2.5327e-01,\n",
       "               2.1262e-01, 3.0723e-01],\n",
       "              [5.2882e-01, 4.8741e-01, 2.7103e-01,  ..., 2.7256e-01,\n",
       "               4.5140e-01, 7.4291e-01],\n",
       "              [3.1462e-01, 3.0830e-01, 2.0377e-01,  ..., 4.9477e-01,\n",
       "               8.9160e-01, 1.0000e+00],\n",
       "              ...,\n",
       "              [1.0000e+00, 8.0462e-01, 4.0809e-01,  ..., 6.6756e-01,\n",
       "               7.0577e-01, 8.3444e-01],\n",
       "              [1.0000e+00, 7.1276e-01, 5.2675e-01,  ..., 7.0791e-01,\n",
       "               6.8621e-01, 7.6614e-01],\n",
       "              [9.2944e-01, 6.5487e-01, 5.3627e-01,  ..., 6.8896e-01,\n",
       "               6.3170e-01, 7.6464e-01]],\n",
       "   \n",
       "             ...,\n",
       "   \n",
       "             [[2.9130e-01, 4.0727e-01, 4.5582e-01,  ..., 2.9600e-01,\n",
       "               3.1318e-01, 2.4848e-01],\n",
       "              [4.3324e-01, 5.0798e-01, 4.0062e-01,  ..., 2.3133e-01,\n",
       "               6.1943e-01, 8.1399e-01],\n",
       "              [4.2979e-01, 4.3522e-01, 3.5966e-01,  ..., 3.1120e-01,\n",
       "               9.1571e-01, 1.0000e+00],\n",
       "              ...,\n",
       "              [0.0000e+00, 3.9280e-01, 6.3698e-01,  ..., 4.1984e-01,\n",
       "               5.1115e-01, 4.7819e-01],\n",
       "              [0.0000e+00, 4.3703e-01, 4.3248e-01,  ..., 3.9894e-01,\n",
       "               4.4227e-01, 4.6757e-01],\n",
       "              [5.7823e-01, 4.1282e-01, 2.3347e-01,  ..., 4.0809e-01,\n",
       "               4.3287e-01, 4.6666e-01]],\n",
       "   \n",
       "             [[6.1837e-01, 7.1941e-01, 7.0620e-01,  ..., 3.5682e-01,\n",
       "               4.8390e-01, 7.5335e-01],\n",
       "              [5.9230e-01, 6.9787e-01, 6.6503e-01,  ..., 3.2286e-01,\n",
       "               8.7857e-01, 1.0000e+00],\n",
       "              [6.4605e-01, 6.2767e-01, 5.6917e-01,  ..., 4.0413e-01,\n",
       "               9.8813e-01, 9.6707e-01],\n",
       "              ...,\n",
       "              [0.0000e+00, 3.5337e-01, 5.6493e-01,  ..., 5.3313e-01,\n",
       "               5.6548e-01, 5.1253e-01],\n",
       "              [0.0000e+00, 2.9118e-01, 4.2921e-01,  ..., 4.8195e-01,\n",
       "               5.3157e-01, 5.1503e-01],\n",
       "              [5.0441e-01, 3.1007e-01, 2.5816e-01,  ..., 5.2605e-01,\n",
       "               5.1714e-01, 4.9733e-01]],\n",
       "   \n",
       "             [[7.5817e-01, 7.6342e-01, 7.1435e-01,  ..., 5.3328e-01,\n",
       "               7.3293e-01, 1.0000e+00],\n",
       "              [6.5310e-01, 7.1969e-01, 6.7901e-01,  ..., 5.3838e-01,\n",
       "               7.7267e-01, 9.9960e-01],\n",
       "              [6.9283e-01, 6.4293e-01, 5.8235e-01,  ..., 5.0374e-01,\n",
       "               5.7970e-01, 1.0000e+00],\n",
       "              ...,\n",
       "              [8.7710e-02, 3.2505e-01, 4.6120e-01,  ..., 5.7842e-01,\n",
       "               5.7598e-01, 5.1967e-01],\n",
       "              [0.0000e+00, 2.8236e-01, 4.6342e-01,  ..., 5.8281e-01,\n",
       "               5.3984e-01, 5.7552e-01],\n",
       "              [1.9767e-01, 1.2626e-01, 3.5060e-01,  ..., 6.7016e-01,\n",
       "               5.9960e-01, 5.6276e-01]]]],\n",
       "   \n",
       "   \n",
       "   \n",
       "           [[[[7.7389e-01, 6.6497e-01, 6.6420e-01,  ..., 2.7235e-01,\n",
       "               5.2666e-01, 8.4890e-01],\n",
       "              [7.0125e-01, 6.7186e-01, 7.2082e-01,  ..., 2.7064e-01,\n",
       "               1.8357e-01, 6.5667e-01],\n",
       "              [7.3296e-01, 7.7664e-01, 6.7385e-01,  ..., 2.8758e-01,\n",
       "               6.3250e-01, 1.0000e+00],\n",
       "              ...,\n",
       "              [5.5705e-01, 6.4141e-01, 4.2671e-01,  ..., 3.6644e-01,\n",
       "               3.2963e-01, 4.5228e-01],\n",
       "              [3.4187e-01, 5.6975e-01, 3.4001e-01,  ..., 5.3935e-01,\n",
       "               4.4990e-01, 4.0873e-01],\n",
       "              [2.0896e-01, 5.4640e-01, 5.9362e-01,  ..., 5.6667e-01,\n",
       "               5.6438e-01, 4.8378e-01]],\n",
       "   \n",
       "             [[7.1389e-01, 8.2070e-01, 6.5954e-01,  ..., 2.5105e-01,\n",
       "               7.2527e-01, 1.0000e+00],\n",
       "              [6.7150e-01, 7.1059e-01, 5.1659e-01,  ..., 2.8690e-01,\n",
       "               1.5076e-01, 4.2604e-01],\n",
       "              [6.6701e-01, 5.6307e-01, 3.0164e-01,  ..., 2.3539e-01,\n",
       "               4.9001e-01, 7.6937e-01],\n",
       "              ...,\n",
       "              [2.3255e-01, 3.3946e-01, 4.9507e-01,  ..., 4.9519e-01,\n",
       "               4.3464e-01, 4.9480e-01],\n",
       "              [2.2715e-01, 3.0369e-01, 4.8289e-01,  ..., 5.8238e-01,\n",
       "               5.6688e-01, 5.6362e-01],\n",
       "              [1.3627e-01, 2.7259e-01, 4.1227e-01,  ..., 5.2980e-01,\n",
       "               4.9944e-01, 6.1632e-01]],\n",
       "   \n",
       "             [[5.2193e-01, 6.4101e-01, 4.8195e-01,  ..., 2.7409e-01,\n",
       "               6.4834e-01, 1.0000e+00],\n",
       "              [4.7859e-01, 3.3570e-01, 2.3197e-01,  ..., 2.9557e-01,\n",
       "               2.4696e-01, 5.2232e-01],\n",
       "              [3.5441e-01, 2.2361e-01, 2.1323e-01,  ..., 2.8721e-01,\n",
       "               2.3548e-01, 3.7278e-01],\n",
       "              ...,\n",
       "              [1.2174e-01, 2.3255e-01, 4.2503e-01,  ..., 5.8074e-01,\n",
       "               6.4409e-01, 5.9972e-01],\n",
       "              [2.0020e-02, 1.0651e-01, 3.7687e-01,  ..., 6.2786e-01,\n",
       "               6.1858e-01, 6.3726e-01],\n",
       "              [5.7314e-02, 1.0981e-01, 3.5792e-01,  ..., 5.6969e-01,\n",
       "               5.7271e-01, 6.5093e-01]],\n",
       "   \n",
       "             ...,\n",
       "   \n",
       "             [[4.5231e-01, 6.8526e-01, 7.1090e-01,  ..., 9.6231e-01,\n",
       "               9.9542e-01, 9.8804e-01],\n",
       "              [5.5132e-01, 6.6540e-01, 6.6829e-01,  ..., 5.9166e-01,\n",
       "               1.0000e+00, 1.0000e+00],\n",
       "              [5.9145e-01, 6.9506e-01, 6.1831e-01,  ..., 1.2702e-01,\n",
       "               4.8546e-01, 9.2123e-01],\n",
       "              ...,\n",
       "              [0.0000e+00, 0.0000e+00, 1.6938e-02,  ..., 2.8401e-01,\n",
       "               3.7422e-01, 3.9201e-01],\n",
       "              [0.0000e+00, 0.0000e+00, 5.0844e-02,  ..., 2.8690e-01,\n",
       "               3.1730e-01, 3.9039e-01],\n",
       "              [0.0000e+00, 7.5625e-02, 5.2004e-02,  ..., 2.9814e-01,\n",
       "               3.6839e-01, 4.3040e-01]],\n",
       "   \n",
       "             [[7.7074e-01, 7.0818e-01, 6.5120e-01,  ..., 7.6986e-01,\n",
       "               1.0000e+00, 9.9796e-01],\n",
       "              [7.3226e-01, 6.9317e-01, 6.6692e-01,  ..., 3.3885e-01,\n",
       "               7.3446e-01, 1.0000e+00],\n",
       "              [6.5590e-01, 6.6314e-01, 7.6907e-01,  ..., 3.4306e-01,\n",
       "               2.7955e-01, 7.9015e-01],\n",
       "              ...,\n",
       "              [0.0000e+00, 0.0000e+00, 7.3702e-02,  ..., 1.5888e-01,\n",
       "               2.7235e-01, 4.2470e-01],\n",
       "              [0.0000e+00, 0.0000e+00, 4.5625e-02,  ..., 1.7969e-01,\n",
       "               3.0497e-01, 3.7913e-01],\n",
       "              [0.0000e+00, 1.8555e-02, 1.0886e-01,  ..., 2.3521e-01,\n",
       "               3.7736e-01, 3.8694e-01]],\n",
       "   \n",
       "             [[7.4282e-01, 6.8462e-01, 7.5509e-01,  ..., 5.4604e-01,\n",
       "               8.5983e-01, 1.0000e+00],\n",
       "              [6.8319e-01, 6.5404e-01, 7.5668e-01,  ..., 5.3063e-01,\n",
       "               3.8777e-01, 8.7747e-01],\n",
       "              [7.4038e-01, 7.8433e-01, 8.0117e-01,  ..., 5.8492e-01,\n",
       "               4.4893e-01, 9.1614e-01],\n",
       "              ...,\n",
       "              [0.0000e+00, 0.0000e+00, 1.1081e-01,  ..., 1.8470e-01,\n",
       "               2.8413e-01, 4.2555e-01],\n",
       "              [0.0000e+00, 0.0000e+00, 1.1527e-01,  ..., 6.5706e-02,\n",
       "               1.3810e-01, 3.4730e-01],\n",
       "              [0.0000e+00, 4.9623e-02, 9.6927e-02,  ..., 2.1574e-01,\n",
       "               2.9322e-01, 3.8942e-01]]]],\n",
       "   \n",
       "   \n",
       "   \n",
       "           [[[[4.9883e-01, 5.2944e-01, 4.6873e-01,  ..., 6.0173e-01,\n",
       "               5.6136e-01, 5.2846e-01],\n",
       "              [5.2095e-01, 7.3241e-01, 6.5719e-01,  ..., 6.3332e-01,\n",
       "               5.5629e-01, 3.0293e-01],\n",
       "              [5.1631e-01, 6.9631e-01, 6.0005e-01,  ..., 5.1140e-01,\n",
       "               2.5810e-01, 1.8925e-01],\n",
       "              ...,\n",
       "              [7.9455e-01, 7.6583e-01, 5.3438e-01,  ..., 4.1411e-01,\n",
       "               3.7300e-01, 2.3307e-01],\n",
       "              [5.9224e-01, 7.9788e-01, 4.9699e-01,  ..., 3.6338e-01,\n",
       "               4.3745e-01, 4.5610e-01],\n",
       "              [7.5011e-01, 6.6536e-01, 3.6897e-01,  ..., 5.9609e-01,\n",
       "               5.8345e-01, 5.7738e-01]],\n",
       "   \n",
       "             [[4.5775e-01, 1.7557e-01, 2.3875e-01,  ..., 4.0828e-01,\n",
       "               4.2378e-01, 2.4860e-01],\n",
       "              [1.9633e-01, 2.9673e-01, 4.3837e-01,  ..., 4.1115e-01,\n",
       "               2.7036e-01, 2.2040e-01],\n",
       "              [2.9493e-01, 4.7691e-01, 4.1591e-01,  ..., 4.3706e-01,\n",
       "               2.2431e-01, 3.0131e-01],\n",
       "              ...,\n",
       "              [9.2294e-01, 5.5986e-01, 4.6855e-01,  ..., 4.7105e-01,\n",
       "               4.1728e-01, 6.3686e-01],\n",
       "              [7.5182e-01, 4.1697e-01, 5.3429e-01,  ..., 6.2243e-01,\n",
       "               4.7349e-01, 5.7619e-01],\n",
       "              [7.1563e-01, 5.4195e-01, 4.8842e-01,  ..., 6.0598e-01,\n",
       "               6.0332e-01, 5.9694e-01]],\n",
       "   \n",
       "             [[3.6799e-01, 2.8767e-01, 5.7454e-01,  ..., 3.1184e-01,\n",
       "               2.5932e-01, 2.0417e-01],\n",
       "              [3.0909e-01, 2.9560e-01, 9.3661e-02,  ..., 2.1653e-01,\n",
       "               9.2959e-02, 2.3518e-01],\n",
       "              [2.7943e-01, 2.1235e-01, 1.4423e-01,  ..., 1.3617e-01,\n",
       "               2.3710e-01, 3.1297e-01],\n",
       "              ...,\n",
       "              [9.8358e-01, 4.8866e-01, 5.5403e-01,  ..., 6.6674e-01,\n",
       "               6.2340e-01, 7.3324e-01],\n",
       "              [8.3077e-01, 2.4152e-01, 6.5069e-01,  ..., 7.1123e-01,\n",
       "               7.4175e-01, 6.9506e-01],\n",
       "              [4.4908e-01, 2.9157e-01, 6.6228e-01,  ..., 6.0332e-01,\n",
       "               6.5880e-01, 5.9551e-01]],\n",
       "   \n",
       "             ...,\n",
       "   \n",
       "             [[4.7240e-01, 4.7075e-01, 5.5226e-01,  ..., 1.8571e-01,\n",
       "               2.5254e-01, 1.6926e-01],\n",
       "              [3.5768e-01, 5.8345e-01, 4.1749e-01,  ..., 1.9272e-01,\n",
       "               1.4554e-01, 2.1769e-01],\n",
       "              [2.5227e-01, 4.0229e-01, 3.8249e-01,  ..., 2.3969e-01,\n",
       "               1.3095e-01, 2.1113e-01],\n",
       "              ...,\n",
       "              [3.2752e-01, 3.9204e-01, 4.3431e-01,  ..., 4.5756e-01,\n",
       "               2.4870e-01, 2.2117e-01],\n",
       "              [2.6026e-01, 3.7846e-01, 4.4539e-01,  ..., 4.8177e-01,\n",
       "               4.0886e-01, 3.1831e-01],\n",
       "              [3.4361e-01, 3.5386e-01, 4.4090e-01,  ..., 4.6446e-01,\n",
       "               5.3227e-01, 4.8277e-01]],\n",
       "   \n",
       "             [[5.5858e-01, 7.4276e-01, 5.7747e-01,  ..., 4.0281e-01,\n",
       "               2.6981e-01, 8.4017e-02],\n",
       "              [7.1776e-01, 7.1215e-01, 6.7000e-01,  ..., 3.6732e-01,\n",
       "               1.3260e-01, 2.0954e-01],\n",
       "              [5.1442e-01, 5.8870e-01, 6.6320e-01,  ..., 2.7476e-01,\n",
       "               2.3624e-01, 1.3337e-01],\n",
       "              ...,\n",
       "              [3.1394e-01, 3.9061e-01, 4.4203e-01,  ..., 4.8064e-01,\n",
       "               5.5831e-01, 3.9640e-01],\n",
       "              [3.6970e-01, 3.2432e-01, 5.0624e-01,  ..., 5.0493e-01,\n",
       "               5.5116e-01, 4.5753e-01],\n",
       "              [3.6470e-01, 3.4983e-01, 4.5375e-01,  ..., 4.8827e-01,\n",
       "               5.1103e-01, 5.3853e-01]],\n",
       "   \n",
       "             [[7.2567e-01, 6.3259e-01, 7.3251e-01,  ..., 6.8548e-01,\n",
       "               5.9661e-01, 2.5755e-01],\n",
       "              [7.1090e-01, 7.2124e-01, 7.9583e-01,  ..., 7.0971e-01,\n",
       "               4.0025e-01, 1.8027e-01],\n",
       "              [7.8533e-01, 6.7486e-01, 6.5136e-01,  ..., 6.4650e-01,\n",
       "               3.7403e-01, 3.0061e-02],\n",
       "              ...,\n",
       "              [4.1243e-01, 4.4758e-01, 5.5998e-01,  ..., 5.4259e-01,\n",
       "               5.3822e-01, 5.7167e-01],\n",
       "              [4.3110e-01, 3.8133e-01, 6.2322e-01,  ..., 5.7741e-01,\n",
       "               4.6297e-01, 5.8260e-01],\n",
       "              [4.2344e-01, 4.4765e-01, 5.8443e-01,  ..., 5.6197e-01,\n",
       "               5.1299e-01, 5.4018e-01]]]],\n",
       "   \n",
       "   \n",
       "   \n",
       "           [[[[7.4523e-01, 4.9040e-01, 2.5965e-01,  ..., 5.0475e-01,\n",
       "               4.3165e-01, 5.9230e-01],\n",
       "              [6.4611e-01, 6.9195e-01, 6.0860e-01,  ..., 3.1147e-01,\n",
       "               6.4254e-01, 7.7587e-01],\n",
       "              [6.9671e-01, 6.8954e-01, 7.0602e-01,  ..., 5.2501e-01,\n",
       "               1.0000e+00, 1.0000e+00],\n",
       "              ...,\n",
       "              [7.0248e-01, 7.2866e-01, 6.9228e-01,  ..., 6.1370e-01,\n",
       "               4.2692e-01, 6.1257e-01],\n",
       "              [7.3324e-01, 7.2262e-01, 6.5157e-01,  ..., 6.9808e-01,\n",
       "               4.5064e-01, 5.5400e-01],\n",
       "              [7.5390e-01, 7.4267e-01, 6.7895e-01,  ..., 7.0217e-01,\n",
       "               5.0215e-01, 5.9206e-01]],\n",
       "   \n",
       "             [[4.1502e-01, 5.6691e-01, 2.7226e-01,  ..., 2.1769e-01,\n",
       "               5.3731e-01, 9.8685e-01],\n",
       "              [4.3425e-01, 3.5453e-01, 3.6888e-01,  ..., 3.3802e-01,\n",
       "               2.6905e-01, 3.5136e-01],\n",
       "              [4.7218e-01, 3.3766e-01, 4.1762e-01,  ..., 3.1816e-01,\n",
       "               7.4697e-01, 8.8223e-01],\n",
       "              ...,\n",
       "              [6.9585e-01, 6.7779e-01, 6.8056e-01,  ..., 5.5431e-01,\n",
       "               5.3462e-01, 6.9652e-01],\n",
       "              [6.4449e-01, 7.6959e-01, 6.8252e-01,  ..., 6.2178e-01,\n",
       "               5.7369e-01, 6.3366e-01],\n",
       "              [6.8157e-01, 6.8035e-01, 6.4495e-01,  ..., 5.9859e-01,\n",
       "               6.2258e-01, 6.4141e-01]],\n",
       "   \n",
       "             [[3.7645e-01, 4.4295e-01, 2.9612e-01,  ..., 2.6402e-01,\n",
       "               6.2105e-01, 9.8077e-01],\n",
       "              [1.8894e-01, 3.1053e-01, 2.9163e-01,  ..., 3.8249e-01,\n",
       "               2.2156e-01, 6.6094e-01],\n",
       "              [1.5699e-01, 1.9007e-01, 3.3595e-01,  ..., 3.5853e-01,\n",
       "               3.5279e-01, 5.9920e-01],\n",
       "              ...,\n",
       "              [7.4969e-01, 6.2719e-01, 6.7144e-01,  ..., 7.1078e-01,\n",
       "               7.3513e-01, 6.9063e-01],\n",
       "              [6.3436e-01, 6.3640e-01, 5.6371e-01,  ..., 6.7925e-01,\n",
       "               7.2799e-01, 6.4092e-01],\n",
       "              [7.0257e-01, 6.0250e-01, 5.5025e-01,  ..., 6.5761e-01,\n",
       "               6.7269e-01, 6.7306e-01]],\n",
       "   \n",
       "             ...,\n",
       "   \n",
       "             [[6.4797e-01, 7.7917e-01, 4.3242e-01,  ..., 5.7198e-01,\n",
       "               2.6337e-01, 3.1092e-01],\n",
       "              [2.7537e-01, 5.7204e-01, 4.3815e-01,  ..., 4.8497e-01,\n",
       "               1.8821e-01, 6.7248e-01],\n",
       "              [5.9819e-01, 3.2740e-01, 2.7616e-01,  ..., 2.9716e-01,\n",
       "               3.3024e-01, 8.2580e-01],\n",
       "              ...,\n",
       "              [4.1340e-01, 2.9936e-01, 3.8127e-01,  ..., 4.1588e-01,\n",
       "               4.5366e-01, 4.8799e-01],\n",
       "              [2.8397e-01, 3.2228e-01, 4.1896e-01,  ..., 5.0642e-01,\n",
       "               5.0472e-01, 5.6261e-01],\n",
       "              [3.2298e-01, 3.1806e-01, 4.0431e-01,  ..., 5.4695e-01,\n",
       "               6.1498e-01, 6.5117e-01]],\n",
       "   \n",
       "             [[6.5319e-01, 6.2349e-01, 6.8654e-01,  ..., 6.8432e-01,\n",
       "               6.0640e-01, 3.2307e-01],\n",
       "              [6.4040e-01, 6.2499e-01, 6.0482e-01,  ..., 8.0956e-01,\n",
       "               2.9133e-01, 2.1540e-01],\n",
       "              [6.4357e-01, 5.9563e-01, 5.0945e-01,  ..., 6.5810e-01,\n",
       "               1.1353e-02, 6.2893e-01],\n",
       "              ...,\n",
       "              [4.1993e-01, 2.8733e-01, 2.9789e-01,  ..., 4.4670e-01,\n",
       "               4.9620e-01, 4.6211e-01],\n",
       "              [4.2766e-01, 2.8721e-01, 3.6103e-01,  ..., 4.5827e-01,\n",
       "               4.2802e-01, 4.5589e-01],\n",
       "              [3.0326e-01, 2.6859e-01, 4.0901e-01,  ..., 4.8183e-01,\n",
       "               4.6739e-01, 4.5207e-01]],\n",
       "   \n",
       "             [[5.0139e-01, 6.5889e-01, 7.2997e-01,  ..., 6.2862e-01,\n",
       "               7.8695e-01, 2.8230e-01],\n",
       "              [6.2459e-01, 5.4933e-01, 6.3591e-01,  ..., 6.4388e-01,\n",
       "               6.9069e-01, 2.7937e-01],\n",
       "              [4.1777e-01, 5.4649e-01, 5.8657e-01,  ..., 6.5893e-01,\n",
       "               5.8089e-01, 3.6055e-01],\n",
       "              ...,\n",
       "              [3.9015e-01, 3.8502e-01, 2.7708e-01,  ..., 4.5479e-01,\n",
       "               4.5073e-01, 3.5237e-01],\n",
       "              [2.3853e-01, 2.4491e-01, 4.1517e-01,  ..., 3.9589e-01,\n",
       "               4.9080e-01, 4.8070e-01],\n",
       "              [3.7062e-01, 3.8804e-01, 3.5856e-01,  ..., 4.0657e-01,\n",
       "               4.2695e-01, 5.1424e-01]]]],\n",
       "   \n",
       "   \n",
       "   \n",
       "           [[[[1.8628e-01, 2.7558e-01, 2.9112e-01,  ..., 4.1697e-01,\n",
       "               9.8685e-01, 1.0000e+00],\n",
       "              [2.1433e-01, 5.2577e-01, 5.2782e-01,  ..., 3.4046e-01,\n",
       "               3.7907e-01, 8.6605e-01],\n",
       "              [1.8003e-01, 4.8836e-01, 4.8512e-01,  ..., 2.8797e-01,\n",
       "               2.2904e-01, 3.0735e-01],\n",
       "              ...,\n",
       "              [5.4720e-01, 7.5121e-01, 5.1836e-01,  ..., 4.8433e-01,\n",
       "               8.5098e-01, 7.7841e-01],\n",
       "              [3.4581e-01, 3.7883e-01, 2.5422e-01,  ..., 5.1836e-01,\n",
       "               8.2485e-01, 7.1749e-01],\n",
       "              [9.4668e-02, 1.0828e-01, 1.4820e-01,  ..., 6.5123e-01,\n",
       "               7.1364e-01, 7.2802e-01]],\n",
       "   \n",
       "             [[3.1397e-01, 1.9852e-01, 1.5079e-01,  ..., 4.8537e-01,\n",
       "               9.8608e-01, 9.9908e-01],\n",
       "              [2.3066e-01, 2.0328e-01, 2.2922e-01,  ..., 2.0417e-01,\n",
       "               4.9077e-01, 9.9979e-01],\n",
       "              [2.4329e-01, 2.2163e-01, 2.5529e-01,  ..., 3.3863e-01,\n",
       "               1.9825e-01, 4.3022e-01],\n",
       "              ...,\n",
       "              [4.0547e-01, 4.3251e-01, 3.3061e-01,  ..., 7.0898e-01,\n",
       "               8.4787e-01, 8.1701e-01],\n",
       "              [8.3621e-02, 1.1603e-01, 4.5534e-02,  ..., 7.5967e-01,\n",
       "               8.5885e-01, 8.0444e-01],\n",
       "              [5.1027e-02, 5.7527e-02, 2.9389e-02,  ..., 6.6543e-01,\n",
       "               8.0166e-01, 7.7105e-01]],\n",
       "   \n",
       "             [[3.2340e-01, 2.2468e-01, 2.8428e-01,  ..., 5.8879e-01,\n",
       "               1.0000e+00, 9.8910e-01],\n",
       "              [2.0740e-01, 2.0130e-01, 3.0424e-01,  ..., 2.4647e-01,\n",
       "               5.3786e-01, 1.0000e+00],\n",
       "              [2.8846e-01, 3.1306e-01, 2.7793e-01,  ..., 2.9359e-01,\n",
       "               2.3222e-01, 5.1259e-01],\n",
       "              ...,\n",
       "              [1.1652e-01, 8.4780e-02, 1.7365e-01,  ..., 7.4471e-01,\n",
       "               8.0618e-01, 8.4506e-01],\n",
       "              [2.9511e-02, 9.6744e-03, 3.8850e-02,  ..., 8.0206e-01,\n",
       "               8.7347e-01, 8.4167e-01],\n",
       "              [0.0000e+00, 5.0356e-03, 5.0722e-02,  ..., 6.7409e-01,\n",
       "               8.2592e-01, 7.8948e-01]],\n",
       "   \n",
       "             ...,\n",
       "   \n",
       "             [[7.3885e-01, 7.3815e-01, 7.3189e-01,  ..., 7.4371e-01,\n",
       "               6.5804e-01, 5.2940e-01],\n",
       "              [7.6550e-01, 8.2159e-01, 8.5266e-01,  ..., 7.8790e-01,\n",
       "               5.2501e-01, 3.1230e-01],\n",
       "              [7.3946e-01, 7.2378e-01, 8.3337e-01,  ..., 6.5755e-01,\n",
       "               3.4263e-01, 4.0147e-01],\n",
       "              ...,\n",
       "              [0.0000e+00, 0.0000e+00, 0.0000e+00,  ..., 3.6778e-01,\n",
       "               3.0805e-01, 3.3992e-01],\n",
       "              [0.0000e+00, 0.0000e+00, 5.6398e-01,  ..., 3.7678e-01,\n",
       "               4.4597e-01, 4.7389e-01],\n",
       "              [0.0000e+00, 0.0000e+00, 3.9283e-01,  ..., 4.1731e-01,\n",
       "               4.2192e-01, 4.0718e-01]],\n",
       "   \n",
       "             [[7.4859e-01, 8.0380e-01, 7.5539e-01,  ..., 7.2097e-01,\n",
       "               8.4472e-01, 4.6211e-01],\n",
       "              [7.5426e-01, 8.0102e-01, 8.6306e-01,  ..., 8.0721e-01,\n",
       "               7.5384e-01, 5.4271e-01],\n",
       "              [7.9067e-01, 8.8772e-01, 8.4982e-01,  ..., 7.9736e-01,\n",
       "               6.1156e-01, 3.7443e-01],\n",
       "              ...,\n",
       "              [0.0000e+00, 0.0000e+00, 4.9754e-01,  ..., 4.2936e-01,\n",
       "               4.8314e-01, 4.7707e-01],\n",
       "              [0.0000e+00, 0.0000e+00, 4.6806e-01,  ..., 4.0492e-01,\n",
       "               4.8851e-01, 5.2751e-01],\n",
       "              [0.0000e+00, 0.0000e+00, 4.7890e-01,  ..., 3.9348e-01,\n",
       "               4.7896e-01, 4.5390e-01]],\n",
       "   \n",
       "             [[8.4185e-01, 7.4905e-01, 7.1529e-01,  ..., 7.8549e-01,\n",
       "               7.3193e-01, 6.8679e-01],\n",
       "              [7.3904e-01, 7.4813e-01, 8.9279e-01,  ..., 8.0087e-01,\n",
       "               8.5998e-01, 6.3857e-01],\n",
       "              [8.2592e-01, 8.5961e-01, 7.9528e-01,  ..., 7.2585e-01,\n",
       "               7.7194e-01, 6.1995e-01],\n",
       "              ...,\n",
       "              [0.0000e+00, 0.0000e+00, 1.2760e-01,  ..., 4.6300e-01,\n",
       "               4.9028e-01, 5.1454e-01],\n",
       "              [0.0000e+00, 0.0000e+00, 2.5797e-01,  ..., 4.5540e-01,\n",
       "               4.4572e-01, 4.8827e-01],\n",
       "              [0.0000e+00, 0.0000e+00, 2.5898e-01,  ..., 4.6715e-01,\n",
       "               4.8930e-01, 4.9275e-01]]]],\n",
       "   \n",
       "   \n",
       "   \n",
       "           [[[[0.0000e+00, 0.0000e+00, 0.0000e+00,  ..., 0.0000e+00,\n",
       "               0.0000e+00, 0.0000e+00],\n",
       "              [0.0000e+00, 0.0000e+00, 0.0000e+00,  ..., 0.0000e+00,\n",
       "               0.0000e+00, 3.0519e-05],\n",
       "              [0.0000e+00, 0.0000e+00, 0.0000e+00,  ..., 0.0000e+00,\n",
       "               0.0000e+00, 4.8769e-02],\n",
       "              ...,\n",
       "              [3.0183e-01, 7.1648e-01, 9.1791e-01,  ..., 9.1183e-01,\n",
       "               8.9496e-01, 8.1707e-01],\n",
       "              [1.3962e-01, 2.4595e-01, 4.5027e-01,  ..., 6.8624e-01,\n",
       "               7.6608e-01, 8.7536e-01],\n",
       "              [1.3297e-01, 1.6208e-01, 4.5634e-01,  ..., 7.2558e-01,\n",
       "               7.4276e-01, 5.8892e-01]],\n",
       "   \n",
       "             [[0.0000e+00, 0.0000e+00, 0.0000e+00,  ..., 0.0000e+00,\n",
       "               0.0000e+00, 0.0000e+00],\n",
       "              [0.0000e+00, 0.0000e+00, 0.0000e+00,  ..., 0.0000e+00,\n",
       "               0.0000e+00, 0.0000e+00],\n",
       "              [0.0000e+00, 0.0000e+00, 0.0000e+00,  ..., 0.0000e+00,\n",
       "               0.0000e+00, 4.2055e-02],\n",
       "              ...,\n",
       "              [2.2178e-01, 3.4443e-01, 5.9944e-01,  ..., 7.8863e-01,\n",
       "               8.2253e-01, 8.3752e-01],\n",
       "              [1.8039e-01, 2.9264e-01, 5.9014e-01,  ..., 8.6450e-01,\n",
       "               8.4851e-01, 8.4878e-01],\n",
       "              [1.9382e-01, 1.6138e-01, 1.1792e-01,  ..., 5.4158e-01,\n",
       "               5.7994e-01, 4.6904e-01]],\n",
       "   \n",
       "             [[0.0000e+00, 0.0000e+00, 0.0000e+00,  ..., 0.0000e+00,\n",
       "               0.0000e+00, 0.0000e+00],\n",
       "              [0.0000e+00, 0.0000e+00, 0.0000e+00,  ..., 0.0000e+00,\n",
       "               0.0000e+00, 0.0000e+00],\n",
       "              [0.0000e+00, 0.0000e+00, 0.0000e+00,  ..., 0.0000e+00,\n",
       "               0.0000e+00, 2.2523e-02],\n",
       "              ...,\n",
       "              [1.9388e-01, 2.0707e-01, 2.2831e-01,  ..., 6.2722e-01,\n",
       "               7.2698e-01, 7.9461e-01],\n",
       "              [1.9422e-01, 1.9150e-01, 3.0692e-01,  ..., 8.4909e-01,\n",
       "               8.4713e-01, 7.8170e-01],\n",
       "              [2.0594e-01, 2.4696e-01, 1.5412e-01,  ..., 6.1525e-01,\n",
       "               5.3822e-01, 5.5049e-01]],\n",
       "   \n",
       "             ...,\n",
       "   \n",
       "             [[0.0000e+00, 0.0000e+00, 0.0000e+00,  ..., 0.0000e+00,\n",
       "               0.0000e+00, 2.6124e-02],\n",
       "              [0.0000e+00, 0.0000e+00, 0.0000e+00,  ..., 0.0000e+00,\n",
       "               0.0000e+00, 4.5686e-02],\n",
       "              [0.0000e+00, 0.0000e+00, 0.0000e+00,  ..., 0.0000e+00,\n",
       "               1.8311e-03, 1.5986e-01],\n",
       "              ...,\n",
       "              [5.3130e-01, 6.0848e-01, 6.8026e-01,  ..., 9.3164e-01,\n",
       "               9.1864e-01, 8.5983e-01],\n",
       "              [8.0581e-01, 8.9679e-01, 8.4219e-01,  ..., 8.3645e-01,\n",
       "               9.5117e-01, 8.1793e-01],\n",
       "              [8.4896e-01, 7.3681e-01, 6.3747e-01,  ..., 7.9196e-01,\n",
       "               7.3327e-01, 6.9808e-01]],\n",
       "   \n",
       "             [[0.0000e+00, 0.0000e+00, 0.0000e+00,  ..., 0.0000e+00,\n",
       "               0.0000e+00, 2.7863e-02],\n",
       "              [0.0000e+00, 0.0000e+00, 0.0000e+00,  ..., 0.0000e+00,\n",
       "               6.1983e-02, 4.5412e-02],\n",
       "              [0.0000e+00, 0.0000e+00, 0.0000e+00,  ..., 8.1881e-02,\n",
       "               5.2614e-02, 2.2877e-01],\n",
       "              ...,\n",
       "              [5.9496e-01, 6.3359e-01, 7.2225e-01,  ..., 9.2352e-01,\n",
       "               8.7774e-01, 8.5882e-01],\n",
       "              [7.3315e-01, 8.1231e-01, 9.1208e-01,  ..., 9.4659e-01,\n",
       "               8.3471e-01, 8.6129e-01],\n",
       "              [8.9660e-01, 7.3016e-01, 8.8647e-01,  ..., 8.2275e-01,\n",
       "               6.9341e-01, 8.0984e-01]],\n",
       "   \n",
       "             [[0.0000e+00, 0.0000e+00, 0.0000e+00,  ..., 0.0000e+00,\n",
       "               0.0000e+00, 2.6246e-02],\n",
       "              [0.0000e+00, 0.0000e+00, 0.0000e+00,  ..., 0.0000e+00,\n",
       "               4.7914e-02, 5.7741e-02],\n",
       "              [0.0000e+00, 0.0000e+00, 0.0000e+00,  ..., 5.4323e-02,\n",
       "               9.3204e-02, 2.7177e-01],\n",
       "              ...,\n",
       "              [6.4025e-01, 6.3445e-01, 8.1683e-01,  ..., 9.4333e-01,\n",
       "               9.7815e-01, 9.3551e-01],\n",
       "              [7.1322e-01, 7.8283e-01, 8.4027e-01,  ..., 8.7182e-01,\n",
       "               7.8411e-01, 8.8501e-01],\n",
       "              [8.1756e-01, 8.7356e-01, 8.8360e-01,  ..., 7.2753e-01,\n",
       "               7.6199e-01, 8.3154e-01]]]]]),\n",
       "   'affine': tensor([[[  1.,   0.,   0., -12.],\n",
       "            [  0.,   1.,   0.,  -6.],\n",
       "            [  0.,   0.,   1., -16.],\n",
       "            [  0.,   0.,   0.,   1.]],\n",
       "   \n",
       "           [[  1.,   0.,   0., -11.],\n",
       "            [  0.,   1.,   0.,  -9.],\n",
       "            [  0.,   0.,   1., -15.],\n",
       "            [  0.,   0.,   0.,   1.]],\n",
       "   \n",
       "           [[  1.,   0.,   0., -12.],\n",
       "            [  0.,   1.,   0.,  -9.],\n",
       "            [  0.,   0.,   1., -18.],\n",
       "            [  0.,   0.,   0.,   1.]],\n",
       "   \n",
       "           [[  1.,   0.,   0.,  -9.],\n",
       "            [  0.,   1.,   0.,  -8.],\n",
       "            [  0.,   0.,   1., -16.],\n",
       "            [  0.,   0.,   0.,   1.]],\n",
       "   \n",
       "           [[  1.,   0.,   0.,  -9.],\n",
       "            [  0.,   1.,   0., -11.],\n",
       "            [  0.,   0.,   1., -17.],\n",
       "            [  0.,   0.,   0.,   1.]],\n",
       "   \n",
       "           [[  1.,   0.,   0., -12.],\n",
       "            [  0.,   1.,   0., -87.],\n",
       "            [  0.,   0.,   1., -51.],\n",
       "            [  0.,   0.,   0.,   1.]]], dtype=torch.float64),\n",
       "   'path': ['../../1_Data/1_Input/CHIASM/sub-CON2/chiasm.nii.gz',\n",
       "    '../../1_Data/1_Input/CHIASM/sub-ALB2/chiasm.nii.gz',\n",
       "    '../../1_Data/1_Input/CHIASM/sub-CON4/chiasm.nii.gz',\n",
       "    '../../1_Data/1_Input/CHIASM/sub-CON3/chiasm.nii.gz',\n",
       "    '../../1_Data/1_Input/CHIASM/sub-ALB4/chiasm.nii.gz',\n",
       "    '../../1_Data/1_Input/CHIASM/sub-ALB6/chiasm.nii.gz'],\n",
       "   'stem': ['chiasm', 'chiasm', 'chiasm', 'chiasm', 'chiasm', 'chiasm'],\n",
       "   'type': ['intensity',\n",
       "    'intensity',\n",
       "    'intensity',\n",
       "    'intensity',\n",
       "    'intensity',\n",
       "    'intensity']},\n",
       "  'albinism': tensor([0, 1, 0, 0, 1, 1])})"
      ]
     },
     "execution_count": 14,
     "metadata": {},
     "output_type": "execute_result"
    }
   ],
   "source": [
    "batch"
   ]
  },
  {
   "cell_type": "markdown",
   "metadata": {},
   "source": [
    "# Network"
   ]
  },
  {
   "cell_type": "code",
   "execution_count": 15,
   "metadata": {},
   "outputs": [],
   "source": [
    "# U-Net architecture\n",
    "\n",
    "class UNet(nn.Module):\n",
    "    \n",
    "    def __init__(self, in_channels=1, out_channels=1, init_features=64, scaling=2):\n",
    "        super(UNet, self).__init__()\n",
    "                \n",
    "        # Encoding layers\n",
    "        self.encoder1 = self.unet_block(in_channels, init_features, \"enc1\")\n",
    "        self.pool1 = nn.AvgPool3d(kernel_size=2, stride=2, padding=0)\n",
    "        self.encoder2 = self.unet_block(init_features, int(init_features/scaling), name='enc2')\n",
    "        self.pool2 = nn.AvgPool3d(kernel_size=2, stride=2, padding=0)\n",
    "\n",
    "        # Bottleneck layer\n",
    "        self.bottleneck = self.unet_block(int(init_features/scaling), int(init_features/(scaling**2)), name='bottleneck')\n",
    "        \n",
    "        # Decoding layers (where merge with prevois encoding layers occurs)        \n",
    "        self.upconv2 = nn.ConvTranspose3d(int(init_features/(scaling**2)), int(init_features/scaling), kernel_size=2, stride=2)\n",
    "        self.decoder2 = self.unet_block(int(init_features/scaling), int(init_features/scaling), name='dec2')\n",
    "                \n",
    "        self.upconv1 = nn.ConvTranspose3d(int(init_features/scaling), init_features, kernel_size=2, stride=2)\n",
    "        self.decoder1 = self.unet_block(init_features, init_features, name='dec1')\n",
    "        \n",
    "        # Final convolution - output equals number of output channels\n",
    "        self.conv = nn.Conv3d(init_features, out_channels, kernel_size=1) \n",
    "        \n",
    "    def forward(self,x):\n",
    "        \n",
    "        # Encoding\n",
    "        enc1 = self.encoder1(x)\n",
    "        enc2 = self.encoder2(self.pool1(enc1))\n",
    "\n",
    "        # Bottleneck\n",
    "        bottleneck = self.bottleneck(self.pool2(enc2))\n",
    "\n",
    "        # Upconvolving, concatenating data from respective encoding phase and executing UNet block\n",
    "        dec2 = self.upconv2(bottleneck)\n",
    "        dec2 = self.decoder2(dec2)\n",
    "        dec1 = self.upconv1(dec2)\n",
    "        dec1 = self.decoder1(dec1)\n",
    "        \n",
    "        out_conv = self.conv(dec1)\n",
    "        \n",
    "        return torch.sigmoid(out_conv)\n",
    "    \n",
    "    def unet_block(self, in_channels, features, name):\n",
    "        \n",
    "        return nn.Sequential(OrderedDict([(name+'conv1',nn.Conv3d(in_channels=in_channels, out_channels=features, kernel_size=3, padding=1, bias=False)),\n",
    "                             (name+'bnorm1', nn.BatchNorm3d(num_features=features)),\n",
    "                             (name+'relu1', nn.ReLU(inplace=True)),\n",
    "                             (name+'conv2', nn.Conv3d(in_channels=features, out_channels=features, kernel_size=3, padding=1, bias=False)),\n",
    "                             (name+'bnorm2', nn.BatchNorm3d(num_features=features)),\n",
    "                             (name+'relu2', nn.ReLU(inplace=True))])\n",
    "                            )\n",
    "\n",
    "    def output_latent_representations(self,x):\n",
    "        \n",
    "        print(x.shape)\n",
    "\n",
    "        # Encoding\n",
    "        enc1 = self.encoder1(x)\n",
    "        enc2 = self.encoder2(self.pool1(enc1))\n",
    "\n",
    "        # Bottleneck\n",
    "        bottleneck = self.bottleneck(self.pool2(enc2))\n",
    "        \n",
    "        print(bottleneck.shape)\n",
    "        \n",
    "        return bottleneck"
   ]
  },
  {
   "cell_type": "code",
   "execution_count": 199,
   "metadata": {},
   "outputs": [],
   "source": [
    "class Classify_chiasm(nn.Module):\n",
    "    \n",
    "    def __init__(self, weights_file='50ep_0005lr.pt'):\n",
    "        super(Classify_chiasm, self).__init__()\n",
    "        \n",
    "        # Initialize the network_extracting_features and load its weights\n",
    "        network_extracting_features = UNet(1,1,64,2)\n",
    "        network_extracting_features.load_state_dict(torch.load(weights_file))\n",
    "        \n",
    "        child = network_extracting_features.children()\n",
    "        \n",
    "        # Copying the desired components (analysis stream) from network_extracting_features\n",
    "        self.feature_extraction = nn.Sequential(*list(child)[:5])\n",
    "        \n",
    "        # Classification layers\n",
    "        self.classifier = nn.Linear(16*6*6*2,1)\n",
    "        \n",
    "        # Placeholder for gradients\n",
    "        self.gradients = None\n",
    "    \n",
    "    # Freeze all the layers apart from the classifying one\n",
    "    def freeze_feature_extraction(self):\n",
    "        \n",
    "        counter = 0\n",
    "        for layer in classifying_network.children():\n",
    "            counter += 1\n",
    "            if counter < 2:\n",
    "                #print(layer)\n",
    "                for param in layer.parameters():\n",
    "                    param.requires_grad = False\n",
    "            \n",
    "    # Hook for the activations' gradients\n",
    "    def activations_hook(self, grad):\n",
    "        self.gradients = grad\n",
    "        \n",
    "    def forward(self,x):\n",
    "        \n",
    "        # To ensure that gradients will be tracked\n",
    "        #x.requires_grad = True\n",
    "        \n",
    "        # Feature extraction\n",
    "        x = self.feature_extraction(x)\n",
    "        \n",
    "        # Register the hook\n",
    "        if self.train and x.requires_grad:\n",
    "            h = x.register_hook(self.activations_hook)\n",
    "\n",
    "        # Flatten the image\n",
    "        #x = torch.flatten(x, start_dim=1)\n",
    "        x = x.view((x.shape[0], -1))        \n",
    "\n",
    "        # Classifying FC layer and activation function\n",
    "        x = self.classifier(x)\n",
    "        \n",
    "        return torch.sigmoid(x)\n",
    "\n",
    "    # Output latent representations (or activations) of the last CNN layer\n",
    "    def output_latent_representations(self,x):        \n",
    "        return self.feature_extraction(x)     \n",
    "    \n",
    "    # Output gradient\n",
    "    def output_activation_gradient(self):\n",
    "        return self.gradients\n",
    "    \n",
    "    def gradcam(self, x):\n",
    "        \n",
    "        # Calculate prediction\n",
    "        pred = self.forward(x)\n",
    "        \n",
    "        # Get the gradient from the prediction\n",
    "        pred.backward()\n",
    "         \n",
    "        # Extract the gradients from final layer extracting features\n",
    "        gradients = self.output_activation_gradient()\n",
    "        print(gradients.shape)\n",
    "        \n",
    "        # Pool the gradients\n",
    "        pooled_gradients = torch.mean(gradients, dim=[0,2,3,4])\n",
    "        \n",
    "        # Extract activations\n",
    "        activations = self.output_latent_representations(x).detach()\n",
    "        \n",
    "        # Weight activations by the gradients\n",
    "        activations[:, i, :, :, :] *= pooled_gradients[i]\n",
    "        \n",
    "        # Average the channels of the activations\n",
    "        heatmap = torch.mean(activations, dim=1).squeeze()\n",
    "        \n",
    "        heatmap = np.maximum(heatmap, 0)\n",
    "        \n",
    "        heatmap /= torch.max(heatmap)\n",
    "        \n",
    "        return heatmap    \n",
    "        "
   ]
  },
  {
   "cell_type": "code",
   "execution_count": 38,
   "metadata": {},
   "outputs": [],
   "source": [
    "   def gradcam(self, x, class_id):\n",
    "        \n",
    "        pred = self.forward(x)\n",
    "        \n",
    "        pred[:, class_id].backward()\n",
    "        \n",
    "        gradients = self.get_activations_gradient()\n",
    "        \n",
    "        pooled_gradients = torch.mean(gradients, dim=[0,2,3])\n",
    "        \n",
    "        activations = self.get_activations(x).detach()\n",
    "        \n",
    "        for i in range(512):\n",
    "            activations[:, i, :, :] *= pooled_gradients[i]\n",
    "            \n",
    "        heatmap = torch.mean(activations, dim=1).squeeze()\n",
    "        \n",
    "        heatmap = np.maximum(heatmap, 0)\n",
    "        \n",
    "        heatmap /= torch.max(heatmap)\n",
    "        \n",
    "        return heatmap"
   ]
  },
  {
   "cell_type": "code",
   "execution_count": 200,
   "metadata": {},
   "outputs": [],
   "source": [
    "#classifying_network = Classify_chiasm()"
   ]
  },
  {
   "cell_type": "code",
   "execution_count": 201,
   "metadata": {},
   "outputs": [
    {
     "data": {
      "text/plain": [
       "<All keys matched successfully>"
      ]
     },
     "execution_count": 201,
     "metadata": {},
     "output_type": "execute_result"
    }
   ],
   "source": [
    "# Testing gradcam\n",
    "classifying_network = Classify_chiasm()\n",
    "classifying_network.load_state_dict(torch.load('first_model.pt'))"
   ]
  },
  {
   "cell_type": "code",
   "execution_count": 202,
   "metadata": {},
   "outputs": [
    {
     "data": {
      "text/plain": [
       "torch.Size([6, 1, 24, 24, 8])"
      ]
     },
     "execution_count": 202,
     "metadata": {},
     "output_type": "execute_result"
    }
   ],
   "source": [
    "input_example.shape"
   ]
  },
  {
   "cell_type": "code",
   "execution_count": 203,
   "metadata": {},
   "outputs": [],
   "source": [
    "input_example.requires_grad = True"
   ]
  },
  {
   "cell_type": "code",
   "execution_count": 290,
   "metadata": {},
   "outputs": [],
   "source": [
    "example = input_example[1,:]"
   ]
  },
  {
   "cell_type": "code",
   "execution_count": 291,
   "metadata": {},
   "outputs": [],
   "source": [
    "example = torch.unsqueeze(example,0);"
   ]
  },
  {
   "cell_type": "code",
   "execution_count": 292,
   "metadata": {},
   "outputs": [
    {
     "data": {
      "text/plain": [
       "torch.Size([1, 1, 24, 24, 8])"
      ]
     },
     "execution_count": 292,
     "metadata": {},
     "output_type": "execute_result"
    }
   ],
   "source": [
    "example.shape"
   ]
  },
  {
   "cell_type": "code",
   "execution_count": 293,
   "metadata": {},
   "outputs": [],
   "source": [
    "prediction = classifying_network(example.to(device='cpu'))"
   ]
  },
  {
   "cell_type": "code",
   "execution_count": 294,
   "metadata": {},
   "outputs": [
    {
     "name": "stdout",
     "output_type": "stream",
     "text": [
      "torch.Size([1, 16, 6, 6, 2])\n"
     ]
    }
   ],
   "source": [
    "explanation = classifying_network.gradcam(example.to(device='cpu')) "
   ]
  },
  {
   "cell_type": "code",
   "execution_count": 295,
   "metadata": {},
   "outputs": [
    {
     "data": {
      "text/plain": [
       "torch.Size([6, 6, 2])"
      ]
     },
     "execution_count": 295,
     "metadata": {},
     "output_type": "execute_result"
    }
   ],
   "source": [
    "explanation.shape"
   ]
  },
  {
   "cell_type": "code",
   "execution_count": 296,
   "metadata": {},
   "outputs": [],
   "source": [
    "example = example.detach().numpy()"
   ]
  },
  {
   "cell_type": "code",
   "execution_count": 297,
   "metadata": {},
   "outputs": [],
   "source": [
    "from scipy.ndimage import zoom\n",
    "example_resampled = zoom(explanation, (4, 4, 4))"
   ]
  },
  {
   "cell_type": "code",
   "execution_count": 298,
   "metadata": {},
   "outputs": [
    {
     "data": {
      "text/plain": [
       "(24, 24, 8)"
      ]
     },
     "execution_count": 298,
     "metadata": {},
     "output_type": "execute_result"
    }
   ],
   "source": [
    "example_resampled.shape"
   ]
  },
  {
   "cell_type": "code",
   "execution_count": 299,
   "metadata": {},
   "outputs": [
    {
     "data": {
      "image/png": "[encoded data removed]",
      "text/plain": [
       "<Figure size 1440x1440 with 16 Axes>"
      ]
     },
     "metadata": {
      "needs_background": "light"
     },
     "output_type": "display_data"
    }
   ],
   "source": [
    "fig = plt.figure(figsize=(20,20))\n",
    "\n",
    "for i in range(example.shape[4]):\n",
    "    \n",
    "    plt.subplot(example.shape[4],2,2*i+1)\n",
    "    plt.imshow(example_resampled[:,:,i], cmap='jet', alpha = 1)\n",
    "    plt.subplot(example.shape[4],2,2*i+2)\n",
    "    plt.imshow(example[0,0,:,:,i], cmap='gray', alpha = 1);\n",
    "    #plt.title(str(labels.numpy()[i])+' vs prediction= '+str(output[i][0]))    \n",
    "    plt.axis('off')\n",
    "\n",
    "plt.show()"
   ]
  },
  {
   "cell_type": "code",
   "execution_count": 301,
   "metadata": {},
   "outputs": [
    {
     "data": {
      "image/png": "[encoded data removed]",
      "text/plain": [
       "<Figure size 1440x1440 with 2 Axes>"
      ]
     },
     "metadata": {
      "needs_background": "light"
     },
     "output_type": "display_data"
    }
   ],
   "source": [
    "fig = plt.figure(figsize=(20,20))\n",
    "\n",
    "for i in range(explanation.shape[2]):\n",
    "\n",
    "    plt.subplot(explanation.shape[0],1,i+1)\n",
    "    plt.imshow(explanation[:,:,i]);\n",
    "    #plt.title(str(labels.numpy()[i])+' vs prediction= '+str(output[i][0]))    \n",
    "    plt.axis('off')\n",
    "\n",
    "plt.show()"
   ]
  },
  {
   "cell_type": "code",
   "execution_count": 150,
   "metadata": {},
   "outputs": [
    {
     "data": {
      "text/plain": [
       "tensor([[0.4681]], grad_fn=<SigmoidBackward>)"
      ]
     },
     "execution_count": 150,
     "metadata": {},
     "output_type": "execute_result"
    }
   ],
   "source": [
    "prediction"
   ]
  },
  {
   "cell_type": "code",
   "execution_count": 70,
   "metadata": {},
   "outputs": [
    {
     "data": {
      "image/png": "[encoded data removed]",
      "text/plain": [
       "<Figure size 1440x1440 with 6 Axes>"
      ]
     },
     "metadata": {
      "needs_background": "light"
     },
     "output_type": "display_data"
    }
   ],
   "source": [
    "fig = plt.figure(figsize=(20,20))\n",
    "\n",
    "for i in range(prediction.shape[0]):\n",
    "\n",
    "    plt.subplot(inputs.shape[0],1,i+1)\n",
    "    plt.imshow(inputs[i,0,:,:,5],cmap='gray');\n",
    "    #plt.title(str(labels.numpy()[i])+' vs prediction= '+str(output[i][0]))    \n",
    "    plt.axis('off')\n",
    "\n",
    "plt.show()"
   ]
  },
  {
   "cell_type": "code",
   "execution_count": null,
   "metadata": {},
   "outputs": [],
   "source": []
  },
  {
   "cell_type": "code",
   "execution_count": null,
   "metadata": {},
   "outputs": [],
   "source": []
  },
  {
   "cell_type": "code",
   "execution_count": null,
   "metadata": {},
   "outputs": [],
   "source": []
  },
  {
   "cell_type": "code",
   "execution_count": 27,
   "metadata": {},
   "outputs": [
    {
     "name": "stdout",
     "output_type": "stream",
     "text": [
      "20\n"
     ]
    }
   ],
   "source": [
    "# Count layers where require_grad = True\n",
    "counter = 0\n",
    "for layer in classifying_network.children():\n",
    "    for param in layer.parameters():\n",
    "        if param.requires_grad == True:\n",
    "            counter += 1\n",
    "\n",
    "print(counter)\n",
    "            "
   ]
  },
  {
   "cell_type": "code",
   "execution_count": 28,
   "metadata": {},
   "outputs": [],
   "source": [
    "# Freeze the network\n",
    "classifying_network.freeze_feature_extraction()"
   ]
  },
  {
   "cell_type": "code",
   "execution_count": 29,
   "metadata": {},
   "outputs": [
    {
     "name": "stdout",
     "output_type": "stream",
     "text": [
      "2\n"
     ]
    }
   ],
   "source": [
    "# Count layers where require_grad = True\n",
    "counter = 0\n",
    "for layer in classifying_network.children():\n",
    "    for param in layer.parameters():\n",
    "        if param.requires_grad == True:\n",
    "            counter += 1\n",
    "\n",
    "print(counter)\n",
    "            "
   ]
  },
  {
   "cell_type": "code",
   "execution_count": 18,
   "metadata": {},
   "outputs": [],
   "source": [
    "#print(classifying_network)"
   ]
  },
  {
   "cell_type": "code",
   "execution_count": 22,
   "metadata": {},
   "outputs": [
    {
     "name": "stdout",
     "output_type": "stream",
     "text": [
      "torch.Size([6, 1152])\n",
      "torch.Size([6, 1])\n",
      "tensor([[0.3878],\n",
      "        [0.4795],\n",
      "        [0.3825],\n",
      "        [0.4782],\n",
      "        [0.4904],\n",
      "        [0.4491]], grad_fn=<SigmoidBackward>)\n"
     ]
    }
   ],
   "source": [
    "input_example = torch.from_numpy(inputs)\n",
    "input_example.requires_grad = True\n",
    "\n",
    "data = classifying_network(input_example)\n",
    "print(data.shape)\n",
    "print(data)"
   ]
  },
  {
   "cell_type": "code",
   "execution_count": 31,
   "metadata": {},
   "outputs": [
    {
     "name": "stdout",
     "output_type": "stream",
     "text": [
      "torch.Size([6, 16, 6, 6, 2])\n"
     ]
    }
   ],
   "source": [
    "print(classifying_network.output_latent_representations(input_example).shape)"
   ]
  },
  {
   "cell_type": "code",
   "execution_count": 32,
   "metadata": {},
   "outputs": [
    {
     "name": "stdout",
     "output_type": "stream",
     "text": [
      "None\n"
     ]
    }
   ],
   "source": [
    "print(classifying_network.output_activation_gradient())"
   ]
  },
  {
   "cell_type": "code",
   "execution_count": 33,
   "metadata": {},
   "outputs": [],
   "source": [
    "#data[1,:].backward()"
   ]
  },
  {
   "cell_type": "code",
   "execution_count": 34,
   "metadata": {},
   "outputs": [],
   "source": [
    "#print(classifying_network.output_activation_gradient())"
   ]
  },
  {
   "cell_type": "code",
   "execution_count": 35,
   "metadata": {},
   "outputs": [],
   "source": [
    "# Moar\n",
    "#classifying_network.gradients"
   ]
  },
  {
   "cell_type": "markdown",
   "metadata": {},
   "source": [
    "## Training"
   ]
  },
  {
   "cell_type": "code",
   "execution_count": 36,
   "metadata": {},
   "outputs": [
    {
     "name": "stdout",
     "output_type": "stream",
     "text": [
      "cuda\n"
     ]
    }
   ],
   "source": [
    "# Try setting CUDA if possible\n",
    "if torch.cuda.is_available():\n",
    "    device = torch.device(\"cuda\")\n",
    "else:\n",
    "    device = torch.device(\"cpu\") \n",
    "    \n",
    "print(device)"
   ]
  },
  {
   "cell_type": "code",
   "execution_count": 37,
   "metadata": {},
   "outputs": [],
   "source": [
    "# Criterion\n",
    "criterion = nn.BCELoss()\n",
    "\n",
    "# Optimizer\n",
    "#optimizer = torch.optim.Adam(params=classifying_network.parameters(), lr=0.0001)\n",
    "optimizer = torch.optim.Adam(params=filter(lambda p: p.requires_grad, classifying_network.parameters()), lr=0.0001)\n",
    "\n",
    "# Number of epochs\n",
    "n_epochs = 100"
   ]
  },
  {
   "cell_type": "code",
   "execution_count": 38,
   "metadata": {},
   "outputs": [],
   "source": [
    "# Exemplary use of criterion"
   ]
  },
  {
   "cell_type": "code",
   "execution_count": 39,
   "metadata": {},
   "outputs": [
    {
     "data": {
      "text/plain": [
       "tensor([0, 1, 1, 0, 0, 1])"
      ]
     },
     "execution_count": 39,
     "metadata": {},
     "output_type": "execute_result"
    }
   ],
   "source": [
    "batch[1]['albinism']"
   ]
  },
  {
   "cell_type": "code",
   "execution_count": 40,
   "metadata": {},
   "outputs": [
    {
     "data": {
      "text/plain": [
       "tensor([[0.4973],\n",
       "        [0.4968],\n",
       "        [0.4075],\n",
       "        [0.5625],\n",
       "        [0.6042],\n",
       "        [0.5764]], grad_fn=<SigmoidBackward>)"
      ]
     },
     "execution_count": 40,
     "metadata": {},
     "output_type": "execute_result"
    }
   ],
   "source": [
    "data"
   ]
  },
  {
   "cell_type": "code",
   "execution_count": 41,
   "metadata": {},
   "outputs": [
    {
     "data": {
      "text/plain": [
       "tensor(0.7649, grad_fn=<BinaryCrossEntropyBackward>)"
      ]
     },
     "execution_count": 41,
     "metadata": {},
     "output_type": "execute_result"
    }
   ],
   "source": [
    "criterion(data.reshape(-1), batch[1]['albinism'].float())"
   ]
  },
  {
   "cell_type": "code",
   "execution_count": 42,
   "metadata": {},
   "outputs": [
    {
     "data": {
      "text/plain": [
       "tensor([False, False, False,  True,  True,  True])"
      ]
     },
     "execution_count": 42,
     "metadata": {},
     "output_type": "execute_result"
    }
   ],
   "source": [
    "# Prediction\n",
    "(data>0.5).reshape(-1)"
   ]
  },
  {
   "cell_type": "code",
   "execution_count": 43,
   "metadata": {},
   "outputs": [
    {
     "data": {
      "text/plain": [
       "tensor([0, 1, 1, 0, 0, 1])"
      ]
     },
     "execution_count": 43,
     "metadata": {},
     "output_type": "execute_result"
    }
   ],
   "source": [
    "# Labels\n",
    "batch[1]['albinism']"
   ]
  },
  {
   "cell_type": "code",
   "execution_count": 44,
   "metadata": {},
   "outputs": [
    {
     "name": "stdout",
     "output_type": "stream",
     "text": [
      "0.3333333333333333\n"
     ]
    }
   ],
   "source": [
    "# Calculate accuracy\n",
    "print(accuracy_score((data>0.5).reshape(-1),batch[1]['albinism']))"
   ]
  },
  {
   "cell_type": "code",
   "execution_count": 45,
   "metadata": {},
   "outputs": [],
   "source": [
    "# Function returning trained model\n",
    "def train_network(n_epochs, dataloaders, model, optimizer, criterion, device, save_path):\n",
    "    \n",
    "    track_train_loss = []\n",
    "    track_train_dev_loss = []\n",
    "    track_test_dev_loss = []\n",
    "    \n",
    "    track_train_acc = []\n",
    "    track_train_dev_acc = []\n",
    "    track_test_dev_acc = []\n",
    "    \n",
    "    valid_loss_min = np.Inf\n",
    "    \n",
    "    model.to(device)\n",
    "        \n",
    "    for epoch in tqdm(range(1, n_epochs+1)):\n",
    "        \n",
    "        # Initialize loss monitoring variables\n",
    "        train_loss = 0.0\n",
    "        train_dev_loss = 0.0\n",
    "        test_dev_loss = 0.0\n",
    "        \n",
    "        train_acc = 0.0\n",
    "        train_dev_acc = 0.0\n",
    "        test_dev_acc = 0.0\n",
    "        \n",
    "        i = 0\n",
    "        j = 0\n",
    "        k = 0\n",
    "                \n",
    "        # Training\n",
    "        model.train()\n",
    "        \n",
    "        for batch in dataloaders['train']:\n",
    "            \n",
    "            data = batch['t1']['data'].to(device)\n",
    "            data.requires_grad = True\n",
    "            \n",
    "            optimizer.zero_grad()\n",
    "            \n",
    "            output = model(data)\n",
    "            loss = criterion(output.reshape(-1), batch['albinism'].float().to(device))\n",
    "            loss.backward()\n",
    "            \n",
    "            optimizer.step()\n",
    "            \n",
    "            train_loss += loss.item()\n",
    "            train_acc += accuracy_score((output>0.5).reshape(-1).cpu(),batch['albinism'])\n",
    "            \n",
    "            i+=1\n",
    "            \n",
    "        track_train_loss.append(train_loss/i)\n",
    "        track_train_acc.append(train_acc/i)\n",
    "        \n",
    "        # Validation on two datasets\n",
    "        model.eval()\n",
    "        \n",
    "        for batch in dataloaders['train_dev']:\n",
    "            \n",
    "            data = batch['t1']['data'].to(device)\n",
    "            data.requires_grad = True\n",
    "            \n",
    "            with torch.no_grad():\n",
    "                \n",
    "                output = model(data)\n",
    "                loss = criterion(output.reshape(-1), batch['albinism'].float().to(device))\n",
    "                \n",
    "                train_dev_loss += loss.item()\n",
    "                train_dev_acc += accuracy_score((output>0.5).reshape(-1).cpu(),batch['albinism'])\n",
    "                \n",
    "                j+=1\n",
    "                \n",
    "        track_train_dev_loss.append(train_dev_loss/j)\n",
    "        track_train_dev_acc.append(train_dev_acc/j)\n",
    "        \n",
    "        \n",
    "        for batch in dataloaders['test_dev']:\n",
    "            \n",
    "            data = batch['t1']['data'].to(device)\n",
    "            data.requires_grad = True\n",
    "            \n",
    "            with torch.no_grad():\n",
    "                \n",
    "                output = model(data)\n",
    "                loss = criterion(output.reshape(-1), batch['albinism'].float().to(device))\n",
    "                \n",
    "                test_dev_loss += loss.item()\n",
    "                test_dev_acc += accuracy_score((output>0.5).reshape(-1).cpu(),batch['albinism'])\n",
    "                \n",
    "                k+=1\n",
    "                \n",
    "        track_test_dev_loss.append(test_dev_loss/k)\n",
    "        track_test_dev_acc.append(test_dev_acc/k)\n",
    "        \n",
    "        print('END OF EPOCH: {} \\nTraining acc per batch: {:.6f}\\nTraining_dev acc per batch: {:.6f}\\nTest_dev acc per batch: {:.6f}'.format(epoch, train_acc/i, train_dev_acc/j, test_dev_acc/k))\n",
    "       \n",
    "        \n",
    "        ## Save the model if reached min validation loss\n",
    "        if train_dev_loss + test_dev_loss < valid_loss_min:\n",
    "            valid_loss_min = train_dev_loss + test_dev_loss\n",
    "            torch.save(model.state_dict(),save_path)\n",
    "                        \n",
    "    # return trained model\n",
    "    return model, track_train_loss, track_train_dev_loss, track_test_dev_loss, track_train_acc, track_train_dev_acc, track_test_dev_acc       "
   ]
  },
  {
   "cell_type": "code",
   "execution_count": 46,
   "metadata": {},
   "outputs": [
    {
     "name": "stderr",
     "output_type": "stream",
     "text": [
      "  1%|          | 1/100 [00:09<15:04,  9.14s/it]"
     ]
    },
    {
     "name": "stdout",
     "output_type": "stream",
     "text": [
      "END OF EPOCH: 1 \n",
      "Training acc per batch: 0.557143\n",
      "Training_dev acc per batch: 0.416667\n",
      "Test_dev acc per batch: 0.333333\n"
     ]
    },
    {
     "name": "stderr",
     "output_type": "stream",
     "text": [
      "\r",
      "  2%|▏         | 2/100 [00:09<10:40,  6.54s/it]"
     ]
    },
    {
     "name": "stdout",
     "output_type": "stream",
     "text": [
      "END OF EPOCH: 2 \n",
      "Training acc per batch: 0.642857\n",
      "Training_dev acc per batch: 0.572222\n",
      "Test_dev acc per batch: 0.166667\n"
     ]
    },
    {
     "name": "stderr",
     "output_type": "stream",
     "text": [
      "\r",
      "  3%|▎         | 3/100 [00:10<07:38,  4.73s/it]"
     ]
    },
    {
     "name": "stdout",
     "output_type": "stream",
     "text": [
      "END OF EPOCH: 3 \n",
      "Training acc per batch: 0.600000\n",
      "Training_dev acc per batch: 0.572222\n",
      "Test_dev acc per batch: 0.166667\n"
     ]
    },
    {
     "name": "stderr",
     "output_type": "stream",
     "text": [
      "\r",
      "  4%|▍         | 4/100 [00:10<05:30,  3.45s/it]"
     ]
    },
    {
     "name": "stdout",
     "output_type": "stream",
     "text": [
      "END OF EPOCH: 4 \n",
      "Training acc per batch: 0.714286\n",
      "Training_dev acc per batch: 0.577778\n",
      "Test_dev acc per batch: 0.333333\n"
     ]
    },
    {
     "name": "stderr",
     "output_type": "stream",
     "text": [
      "\r",
      "  5%|▌         | 5/100 [00:11<04:01,  2.55s/it]"
     ]
    },
    {
     "name": "stdout",
     "output_type": "stream",
     "text": [
      "END OF EPOCH: 5 \n",
      "Training acc per batch: 0.785714\n",
      "Training_dev acc per batch: 0.627778\n",
      "Test_dev acc per batch: 0.333333\n"
     ]
    },
    {
     "name": "stderr",
     "output_type": "stream",
     "text": [
      "\r",
      "  6%|▌         | 6/100 [00:11<03:00,  1.92s/it]"
     ]
    },
    {
     "name": "stdout",
     "output_type": "stream",
     "text": [
      "END OF EPOCH: 6 \n",
      "Training acc per batch: 0.757143\n",
      "Training_dev acc per batch: 0.633333\n",
      "Test_dev acc per batch: 0.333333\n"
     ]
    },
    {
     "name": "stderr",
     "output_type": "stream",
     "text": [
      "\r",
      "  7%|▋         | 7/100 [00:11<02:17,  1.48s/it]"
     ]
    },
    {
     "name": "stdout",
     "output_type": "stream",
     "text": [
      "END OF EPOCH: 7 \n",
      "Training acc per batch: 0.700000\n",
      "Training_dev acc per batch: 0.633333\n",
      "Test_dev acc per batch: 0.333333\n"
     ]
    },
    {
     "name": "stderr",
     "output_type": "stream",
     "text": [
      "\r",
      "  8%|▊         | 8/100 [00:12<01:48,  1.18s/it]"
     ]
    },
    {
     "name": "stdout",
     "output_type": "stream",
     "text": [
      "END OF EPOCH: 8 \n",
      "Training acc per batch: 0.785714\n",
      "Training_dev acc per batch: 0.627778\n",
      "Test_dev acc per batch: 0.500000\n"
     ]
    },
    {
     "name": "stderr",
     "output_type": "stream",
     "text": [
      "\r",
      "  9%|▉         | 9/100 [00:12<01:27,  1.04it/s]"
     ]
    },
    {
     "name": "stdout",
     "output_type": "stream",
     "text": [
      "END OF EPOCH: 9 \n",
      "Training acc per batch: 0.828571\n",
      "Training_dev acc per batch: 0.627778\n",
      "Test_dev acc per batch: 0.500000\n"
     ]
    },
    {
     "name": "stderr",
     "output_type": "stream",
     "text": [
      "\r",
      " 10%|█         | 10/100 [00:13<01:12,  1.24it/s]"
     ]
    },
    {
     "name": "stdout",
     "output_type": "stream",
     "text": [
      "END OF EPOCH: 10 \n",
      "Training acc per batch: 0.814286\n",
      "Training_dev acc per batch: 0.677778\n",
      "Test_dev acc per batch: 0.500000\n"
     ]
    },
    {
     "name": "stderr",
     "output_type": "stream",
     "text": [
      "\r",
      " 11%|█         | 11/100 [00:13<01:02,  1.41it/s]"
     ]
    },
    {
     "name": "stdout",
     "output_type": "stream",
     "text": [
      "END OF EPOCH: 11 \n",
      "Training acc per batch: 0.814286\n",
      "Training_dev acc per batch: 0.677778\n",
      "Test_dev acc per batch: 0.500000\n"
     ]
    },
    {
     "name": "stderr",
     "output_type": "stream",
     "text": [
      "\r",
      " 12%|█▏        | 12/100 [00:14<00:56,  1.57it/s]"
     ]
    },
    {
     "name": "stdout",
     "output_type": "stream",
     "text": [
      "END OF EPOCH: 12 \n",
      "Training acc per batch: 0.828571\n",
      "Training_dev acc per batch: 0.683333\n",
      "Test_dev acc per batch: 0.500000\n"
     ]
    },
    {
     "name": "stderr",
     "output_type": "stream",
     "text": [
      "\r",
      " 13%|█▎        | 13/100 [00:14<00:50,  1.72it/s]"
     ]
    },
    {
     "name": "stdout",
     "output_type": "stream",
     "text": [
      "END OF EPOCH: 13 \n",
      "Training acc per batch: 0.814286\n",
      "Training_dev acc per batch: 0.688889\n",
      "Test_dev acc per batch: 0.500000\n"
     ]
    },
    {
     "name": "stderr",
     "output_type": "stream",
     "text": [
      "\r",
      " 14%|█▍        | 14/100 [00:15<00:46,  1.85it/s]"
     ]
    },
    {
     "name": "stdout",
     "output_type": "stream",
     "text": [
      "END OF EPOCH: 14 \n",
      "Training acc per batch: 0.814286\n",
      "Training_dev acc per batch: 0.677778\n",
      "Test_dev acc per batch: 0.500000\n"
     ]
    },
    {
     "name": "stderr",
     "output_type": "stream",
     "text": [
      "\r",
      " 15%|█▌        | 15/100 [00:15<00:43,  1.93it/s]"
     ]
    },
    {
     "name": "stdout",
     "output_type": "stream",
     "text": [
      "END OF EPOCH: 15 \n",
      "Training acc per batch: 0.857143\n",
      "Training_dev acc per batch: 0.688889\n",
      "Test_dev acc per batch: 0.500000\n"
     ]
    },
    {
     "name": "stderr",
     "output_type": "stream",
     "text": [
      "\r",
      " 16%|█▌        | 16/100 [00:16<00:42,  2.00it/s]"
     ]
    },
    {
     "name": "stdout",
     "output_type": "stream",
     "text": [
      "END OF EPOCH: 16 \n",
      "Training acc per batch: 0.785714\n",
      "Training_dev acc per batch: 0.683333\n",
      "Test_dev acc per batch: 0.500000\n"
     ]
    },
    {
     "name": "stderr",
     "output_type": "stream",
     "text": [
      "\r",
      " 17%|█▋        | 17/100 [00:16<00:40,  2.05it/s]"
     ]
    },
    {
     "name": "stdout",
     "output_type": "stream",
     "text": [
      "END OF EPOCH: 17 \n",
      "Training acc per batch: 0.785714\n",
      "Training_dev acc per batch: 0.688889\n",
      "Test_dev acc per batch: 0.500000\n"
     ]
    },
    {
     "name": "stderr",
     "output_type": "stream",
     "text": [
      "\r",
      " 18%|█▊        | 18/100 [00:16<00:38,  2.12it/s]"
     ]
    },
    {
     "name": "stdout",
     "output_type": "stream",
     "text": [
      "END OF EPOCH: 18 \n",
      "Training acc per batch: 0.814286\n",
      "Training_dev acc per batch: 0.683333\n",
      "Test_dev acc per batch: 0.500000\n"
     ]
    },
    {
     "name": "stderr",
     "output_type": "stream",
     "text": [
      "\r",
      " 19%|█▉        | 19/100 [00:17<00:37,  2.15it/s]"
     ]
    },
    {
     "name": "stdout",
     "output_type": "stream",
     "text": [
      "END OF EPOCH: 19 \n",
      "Training acc per batch: 0.842857\n",
      "Training_dev acc per batch: 0.727778\n",
      "Test_dev acc per batch: 0.500000\n"
     ]
    },
    {
     "name": "stderr",
     "output_type": "stream",
     "text": [
      "\r",
      " 20%|██        | 20/100 [00:17<00:36,  2.19it/s]"
     ]
    },
    {
     "name": "stdout",
     "output_type": "stream",
     "text": [
      "END OF EPOCH: 20 \n",
      "Training acc per batch: 0.814286\n",
      "Training_dev acc per batch: 0.738889\n",
      "Test_dev acc per batch: 0.500000\n"
     ]
    },
    {
     "name": "stderr",
     "output_type": "stream",
     "text": [
      "\r",
      " 21%|██        | 21/100 [00:18<00:35,  2.22it/s]"
     ]
    },
    {
     "name": "stdout",
     "output_type": "stream",
     "text": [
      "END OF EPOCH: 21 \n",
      "Training acc per batch: 0.814286\n",
      "Training_dev acc per batch: 0.733333\n",
      "Test_dev acc per batch: 0.500000\n"
     ]
    },
    {
     "name": "stderr",
     "output_type": "stream",
     "text": [
      "\r",
      " 22%|██▏       | 22/100 [00:18<00:36,  2.14it/s]"
     ]
    },
    {
     "name": "stdout",
     "output_type": "stream",
     "text": [
      "END OF EPOCH: 22 \n",
      "Training acc per batch: 0.814286\n",
      "Training_dev acc per batch: 0.738889\n",
      "Test_dev acc per batch: 0.500000\n"
     ]
    },
    {
     "name": "stderr",
     "output_type": "stream",
     "text": [
      "\r",
      " 23%|██▎       | 23/100 [00:19<00:37,  2.05it/s]"
     ]
    },
    {
     "name": "stdout",
     "output_type": "stream",
     "text": [
      "END OF EPOCH: 23 \n",
      "Training acc per batch: 0.800000\n",
      "Training_dev acc per batch: 0.733333\n",
      "Test_dev acc per batch: 0.500000\n"
     ]
    },
    {
     "name": "stderr",
     "output_type": "stream",
     "text": [
      "\r",
      " 24%|██▍       | 24/100 [00:19<00:37,  2.03it/s]"
     ]
    },
    {
     "name": "stdout",
     "output_type": "stream",
     "text": [
      "END OF EPOCH: 24 \n",
      "Training acc per batch: 0.828571\n",
      "Training_dev acc per batch: 0.733333\n",
      "Test_dev acc per batch: 0.500000\n"
     ]
    },
    {
     "name": "stderr",
     "output_type": "stream",
     "text": [
      "\r",
      " 25%|██▌       | 25/100 [00:20<00:36,  2.05it/s]"
     ]
    },
    {
     "name": "stdout",
     "output_type": "stream",
     "text": [
      "END OF EPOCH: 25 \n",
      "Training acc per batch: 0.814286\n",
      "Training_dev acc per batch: 0.744444\n",
      "Test_dev acc per batch: 0.500000\n"
     ]
    },
    {
     "name": "stderr",
     "output_type": "stream",
     "text": [
      "\r",
      " 26%|██▌       | 26/100 [00:20<00:35,  2.10it/s]"
     ]
    },
    {
     "name": "stdout",
     "output_type": "stream",
     "text": [
      "END OF EPOCH: 26 \n",
      "Training acc per batch: 0.814286\n",
      "Training_dev acc per batch: 0.744444\n",
      "Test_dev acc per batch: 0.500000\n"
     ]
    },
    {
     "name": "stderr",
     "output_type": "stream",
     "text": [
      "\r",
      " 27%|██▋       | 27/100 [00:21<00:35,  2.08it/s]"
     ]
    },
    {
     "name": "stdout",
     "output_type": "stream",
     "text": [
      "END OF EPOCH: 27 \n",
      "Training acc per batch: 0.871429\n",
      "Training_dev acc per batch: 0.744444\n",
      "Test_dev acc per batch: 0.500000\n"
     ]
    },
    {
     "name": "stderr",
     "output_type": "stream",
     "text": [
      "\r",
      " 28%|██▊       | 28/100 [00:21<00:35,  2.05it/s]"
     ]
    },
    {
     "name": "stdout",
     "output_type": "stream",
     "text": [
      "END OF EPOCH: 28 \n",
      "Training acc per batch: 0.857143\n",
      "Training_dev acc per batch: 0.744444\n",
      "Test_dev acc per batch: 0.500000\n"
     ]
    },
    {
     "name": "stderr",
     "output_type": "stream",
     "text": [
      "\r",
      " 29%|██▉       | 29/100 [00:22<00:34,  2.04it/s]"
     ]
    },
    {
     "name": "stdout",
     "output_type": "stream",
     "text": [
      "END OF EPOCH: 29 \n",
      "Training acc per batch: 0.814286\n",
      "Training_dev acc per batch: 0.738889\n",
      "Test_dev acc per batch: 0.500000\n"
     ]
    },
    {
     "name": "stderr",
     "output_type": "stream",
     "text": [
      "\r",
      " 30%|███       | 30/100 [00:22<00:34,  2.04it/s]"
     ]
    },
    {
     "name": "stdout",
     "output_type": "stream",
     "text": [
      "END OF EPOCH: 30 \n",
      "Training acc per batch: 0.800000\n",
      "Training_dev acc per batch: 0.733333\n",
      "Test_dev acc per batch: 0.500000\n"
     ]
    },
    {
     "name": "stderr",
     "output_type": "stream",
     "text": [
      "\r",
      " 31%|███       | 31/100 [00:23<00:33,  2.04it/s]"
     ]
    },
    {
     "name": "stdout",
     "output_type": "stream",
     "text": [
      "END OF EPOCH: 31 \n",
      "Training acc per batch: 0.857143\n",
      "Training_dev acc per batch: 0.744444\n",
      "Test_dev acc per batch: 0.500000\n"
     ]
    },
    {
     "name": "stderr",
     "output_type": "stream",
     "text": [
      "\r",
      " 32%|███▏      | 32/100 [00:23<00:32,  2.11it/s]"
     ]
    },
    {
     "name": "stdout",
     "output_type": "stream",
     "text": [
      "END OF EPOCH: 32 \n",
      "Training acc per batch: 0.828571\n",
      "Training_dev acc per batch: 0.733333\n",
      "Test_dev acc per batch: 0.500000\n"
     ]
    },
    {
     "name": "stderr",
     "output_type": "stream",
     "text": [
      "\r",
      " 33%|███▎      | 33/100 [00:24<00:31,  2.15it/s]"
     ]
    },
    {
     "name": "stdout",
     "output_type": "stream",
     "text": [
      "END OF EPOCH: 33 \n",
      "Training acc per batch: 0.814286\n",
      "Training_dev acc per batch: 0.744444\n",
      "Test_dev acc per batch: 0.500000\n"
     ]
    },
    {
     "name": "stderr",
     "output_type": "stream",
     "text": [
      "\r",
      " 34%|███▍      | 34/100 [00:24<00:30,  2.13it/s]"
     ]
    },
    {
     "name": "stdout",
     "output_type": "stream",
     "text": [
      "END OF EPOCH: 34 \n",
      "Training acc per batch: 0.842857\n",
      "Training_dev acc per batch: 0.738889\n",
      "Test_dev acc per batch: 0.500000\n"
     ]
    },
    {
     "name": "stderr",
     "output_type": "stream",
     "text": [
      "\r",
      " 35%|███▌      | 35/100 [00:25<00:30,  2.11it/s]"
     ]
    },
    {
     "name": "stdout",
     "output_type": "stream",
     "text": [
      "END OF EPOCH: 35 \n",
      "Training acc per batch: 0.842857\n",
      "Training_dev acc per batch: 0.744444\n",
      "Test_dev acc per batch: 0.500000\n"
     ]
    },
    {
     "name": "stderr",
     "output_type": "stream",
     "text": [
      "\r",
      " 36%|███▌      | 36/100 [00:25<00:29,  2.16it/s]"
     ]
    },
    {
     "name": "stdout",
     "output_type": "stream",
     "text": [
      "END OF EPOCH: 36 \n",
      "Training acc per batch: 0.857143\n",
      "Training_dev acc per batch: 0.727778\n",
      "Test_dev acc per batch: 0.500000\n"
     ]
    },
    {
     "name": "stderr",
     "output_type": "stream",
     "text": [
      "\r",
      " 37%|███▋      | 37/100 [00:25<00:29,  2.16it/s]"
     ]
    },
    {
     "name": "stdout",
     "output_type": "stream",
     "text": [
      "END OF EPOCH: 37 \n",
      "Training acc per batch: 0.871429\n",
      "Training_dev acc per batch: 0.727778\n",
      "Test_dev acc per batch: 0.500000\n"
     ]
    },
    {
     "name": "stderr",
     "output_type": "stream",
     "text": [
      "\r",
      " 38%|███▊      | 38/100 [00:26<00:28,  2.17it/s]"
     ]
    },
    {
     "name": "stdout",
     "output_type": "stream",
     "text": [
      "END OF EPOCH: 38 \n",
      "Training acc per batch: 0.871429\n",
      "Training_dev acc per batch: 0.738889\n",
      "Test_dev acc per batch: 0.500000\n"
     ]
    },
    {
     "name": "stderr",
     "output_type": "stream",
     "text": [
      "\r",
      " 39%|███▉      | 39/100 [00:26<00:27,  2.20it/s]"
     ]
    },
    {
     "name": "stdout",
     "output_type": "stream",
     "text": [
      "END OF EPOCH: 39 \n",
      "Training acc per batch: 0.814286\n",
      "Training_dev acc per batch: 0.738889\n",
      "Test_dev acc per batch: 0.500000\n"
     ]
    },
    {
     "name": "stderr",
     "output_type": "stream",
     "text": [
      "\r",
      " 40%|████      | 40/100 [00:27<00:28,  2.14it/s]"
     ]
    },
    {
     "name": "stdout",
     "output_type": "stream",
     "text": [
      "END OF EPOCH: 40 \n",
      "Training acc per batch: 0.814286\n",
      "Training_dev acc per batch: 0.738889\n",
      "Test_dev acc per batch: 0.500000\n"
     ]
    },
    {
     "name": "stderr",
     "output_type": "stream",
     "text": [
      "\r",
      " 41%|████      | 41/100 [00:27<00:28,  2.09it/s]"
     ]
    },
    {
     "name": "stdout",
     "output_type": "stream",
     "text": [
      "END OF EPOCH: 41 \n",
      "Training acc per batch: 0.871429\n",
      "Training_dev acc per batch: 0.738889\n",
      "Test_dev acc per batch: 0.500000\n"
     ]
    },
    {
     "name": "stderr",
     "output_type": "stream",
     "text": [
      "\r",
      " 42%|████▏     | 42/100 [00:28<00:27,  2.07it/s]"
     ]
    },
    {
     "name": "stdout",
     "output_type": "stream",
     "text": [
      "END OF EPOCH: 42 \n",
      "Training acc per batch: 0.842857\n",
      "Training_dev acc per batch: 0.733333\n",
      "Test_dev acc per batch: 0.500000\n"
     ]
    },
    {
     "name": "stderr",
     "output_type": "stream",
     "text": [
      "\r",
      " 43%|████▎     | 43/100 [00:28<00:27,  2.04it/s]"
     ]
    },
    {
     "name": "stdout",
     "output_type": "stream",
     "text": [
      "END OF EPOCH: 43 \n",
      "Training acc per batch: 0.857143\n",
      "Training_dev acc per batch: 0.738889\n",
      "Test_dev acc per batch: 0.500000\n"
     ]
    },
    {
     "name": "stderr",
     "output_type": "stream",
     "text": [
      "\r",
      " 44%|████▍     | 44/100 [00:29<00:28,  1.97it/s]"
     ]
    },
    {
     "name": "stdout",
     "output_type": "stream",
     "text": [
      "END OF EPOCH: 44 \n",
      "Training acc per batch: 0.814286\n",
      "Training_dev acc per batch: 0.733333\n",
      "Test_dev acc per batch: 0.500000\n"
     ]
    },
    {
     "name": "stderr",
     "output_type": "stream",
     "text": [
      "\r",
      " 45%|████▌     | 45/100 [00:29<00:26,  2.06it/s]"
     ]
    },
    {
     "name": "stdout",
     "output_type": "stream",
     "text": [
      "END OF EPOCH: 45 \n",
      "Training acc per batch: 0.900000\n",
      "Training_dev acc per batch: 0.738889\n",
      "Test_dev acc per batch: 0.500000\n"
     ]
    },
    {
     "name": "stderr",
     "output_type": "stream",
     "text": [
      "\r",
      " 46%|████▌     | 46/100 [00:30<00:26,  2.05it/s]"
     ]
    },
    {
     "name": "stdout",
     "output_type": "stream",
     "text": [
      "END OF EPOCH: 46 \n",
      "Training acc per batch: 0.828571\n",
      "Training_dev acc per batch: 0.738889\n",
      "Test_dev acc per batch: 0.500000\n"
     ]
    },
    {
     "name": "stderr",
     "output_type": "stream",
     "text": [
      "\r",
      " 47%|████▋     | 47/100 [00:30<00:25,  2.06it/s]"
     ]
    },
    {
     "name": "stdout",
     "output_type": "stream",
     "text": [
      "END OF EPOCH: 47 \n",
      "Training acc per batch: 0.828571\n",
      "Training_dev acc per batch: 0.744444\n",
      "Test_dev acc per batch: 0.500000\n"
     ]
    },
    {
     "name": "stderr",
     "output_type": "stream",
     "text": [
      "\r",
      " 48%|████▊     | 48/100 [00:31<00:24,  2.14it/s]"
     ]
    },
    {
     "name": "stdout",
     "output_type": "stream",
     "text": [
      "END OF EPOCH: 48 \n",
      "Training acc per batch: 0.871429\n",
      "Training_dev acc per batch: 0.733333\n",
      "Test_dev acc per batch: 0.500000\n"
     ]
    },
    {
     "name": "stderr",
     "output_type": "stream",
     "text": [
      "\r",
      " 49%|████▉     | 49/100 [00:31<00:24,  2.10it/s]"
     ]
    },
    {
     "name": "stdout",
     "output_type": "stream",
     "text": [
      "END OF EPOCH: 49 \n",
      "Training acc per batch: 0.842857\n",
      "Training_dev acc per batch: 0.727778\n",
      "Test_dev acc per batch: 0.500000\n"
     ]
    },
    {
     "name": "stderr",
     "output_type": "stream",
     "text": [
      "\r",
      " 50%|█████     | 50/100 [00:32<00:23,  2.10it/s]"
     ]
    },
    {
     "name": "stdout",
     "output_type": "stream",
     "text": [
      "END OF EPOCH: 50 \n",
      "Training acc per batch: 0.857143\n",
      "Training_dev acc per batch: 0.733333\n",
      "Test_dev acc per batch: 0.500000\n"
     ]
    },
    {
     "name": "stderr",
     "output_type": "stream",
     "text": [
      "\r",
      " 51%|█████     | 51/100 [00:32<00:22,  2.13it/s]"
     ]
    },
    {
     "name": "stdout",
     "output_type": "stream",
     "text": [
      "END OF EPOCH: 51 \n",
      "Training acc per batch: 0.857143\n",
      "Training_dev acc per batch: 0.738889\n",
      "Test_dev acc per batch: 0.500000\n"
     ]
    },
    {
     "name": "stderr",
     "output_type": "stream",
     "text": [
      "\r",
      " 52%|█████▏    | 52/100 [00:33<00:22,  2.18it/s]"
     ]
    },
    {
     "name": "stdout",
     "output_type": "stream",
     "text": [
      "END OF EPOCH: 52 \n",
      "Training acc per batch: 0.857143\n",
      "Training_dev acc per batch: 0.738889\n",
      "Test_dev acc per batch: 0.500000\n"
     ]
    },
    {
     "name": "stderr",
     "output_type": "stream",
     "text": [
      "\r",
      " 53%|█████▎    | 53/100 [00:33<00:22,  2.11it/s]"
     ]
    },
    {
     "name": "stdout",
     "output_type": "stream",
     "text": [
      "END OF EPOCH: 53 \n",
      "Training acc per batch: 0.814286\n",
      "Training_dev acc per batch: 0.750000\n",
      "Test_dev acc per batch: 0.500000\n"
     ]
    },
    {
     "name": "stderr",
     "output_type": "stream",
     "text": [
      "\r",
      " 54%|█████▍    | 54/100 [00:34<00:21,  2.11it/s]"
     ]
    },
    {
     "name": "stdout",
     "output_type": "stream",
     "text": [
      "END OF EPOCH: 54 \n",
      "Training acc per batch: 0.871429\n",
      "Training_dev acc per batch: 0.738889\n",
      "Test_dev acc per batch: 0.500000\n"
     ]
    },
    {
     "name": "stderr",
     "output_type": "stream",
     "text": [
      "\r",
      " 55%|█████▌    | 55/100 [00:34<00:21,  2.10it/s]"
     ]
    },
    {
     "name": "stdout",
     "output_type": "stream",
     "text": [
      "END OF EPOCH: 55 \n",
      "Training acc per batch: 0.871429\n",
      "Training_dev acc per batch: 0.744444\n",
      "Test_dev acc per batch: 0.500000\n"
     ]
    },
    {
     "name": "stderr",
     "output_type": "stream",
     "text": [
      "\r",
      " 56%|█████▌    | 56/100 [00:35<00:21,  2.06it/s]"
     ]
    },
    {
     "name": "stdout",
     "output_type": "stream",
     "text": [
      "END OF EPOCH: 56 \n",
      "Training acc per batch: 0.857143\n",
      "Training_dev acc per batch: 0.733333\n",
      "Test_dev acc per batch: 0.500000\n"
     ]
    },
    {
     "name": "stderr",
     "output_type": "stream",
     "text": [
      "\r",
      " 57%|█████▋    | 57/100 [00:35<00:20,  2.07it/s]"
     ]
    },
    {
     "name": "stdout",
     "output_type": "stream",
     "text": [
      "END OF EPOCH: 57 \n",
      "Training acc per batch: 0.842857\n",
      "Training_dev acc per batch: 0.744444\n",
      "Test_dev acc per batch: 0.500000\n"
     ]
    },
    {
     "name": "stderr",
     "output_type": "stream",
     "text": [
      "\r",
      " 58%|█████▊    | 58/100 [00:36<00:20,  2.03it/s]"
     ]
    },
    {
     "name": "stdout",
     "output_type": "stream",
     "text": [
      "END OF EPOCH: 58 \n",
      "Training acc per batch: 0.857143\n",
      "Training_dev acc per batch: 0.738889\n",
      "Test_dev acc per batch: 0.500000\n"
     ]
    },
    {
     "name": "stderr",
     "output_type": "stream",
     "text": [
      "\r",
      " 59%|█████▉    | 59/100 [00:36<00:19,  2.06it/s]"
     ]
    },
    {
     "name": "stdout",
     "output_type": "stream",
     "text": [
      "END OF EPOCH: 59 \n",
      "Training acc per batch: 0.800000\n",
      "Training_dev acc per batch: 0.733333\n",
      "Test_dev acc per batch: 0.500000\n"
     ]
    },
    {
     "name": "stderr",
     "output_type": "stream",
     "text": [
      "\r",
      " 60%|██████    | 60/100 [00:37<00:19,  2.08it/s]"
     ]
    },
    {
     "name": "stdout",
     "output_type": "stream",
     "text": [
      "END OF EPOCH: 60 \n",
      "Training acc per batch: 0.871429\n",
      "Training_dev acc per batch: 0.733333\n",
      "Test_dev acc per batch: 0.500000\n"
     ]
    },
    {
     "name": "stderr",
     "output_type": "stream",
     "text": [
      "\r",
      " 61%|██████    | 61/100 [00:37<00:18,  2.06it/s]"
     ]
    },
    {
     "name": "stdout",
     "output_type": "stream",
     "text": [
      "END OF EPOCH: 61 \n",
      "Training acc per batch: 0.857143\n",
      "Training_dev acc per batch: 0.744444\n",
      "Test_dev acc per batch: 0.500000\n"
     ]
    },
    {
     "name": "stderr",
     "output_type": "stream",
     "text": [
      "\r",
      " 62%|██████▏   | 62/100 [00:38<00:18,  2.04it/s]"
     ]
    },
    {
     "name": "stdout",
     "output_type": "stream",
     "text": [
      "END OF EPOCH: 62 \n",
      "Training acc per batch: 0.871429\n",
      "Training_dev acc per batch: 0.727778\n",
      "Test_dev acc per batch: 0.500000\n"
     ]
    },
    {
     "name": "stderr",
     "output_type": "stream",
     "text": [
      "\r",
      " 63%|██████▎   | 63/100 [00:38<00:18,  2.05it/s]"
     ]
    },
    {
     "name": "stdout",
     "output_type": "stream",
     "text": [
      "END OF EPOCH: 63 \n",
      "Training acc per batch: 0.871429\n",
      "Training_dev acc per batch: 0.733333\n",
      "Test_dev acc per batch: 0.500000\n"
     ]
    },
    {
     "name": "stderr",
     "output_type": "stream",
     "text": [
      "\r",
      " 64%|██████▍   | 64/100 [00:38<00:16,  2.13it/s]"
     ]
    },
    {
     "name": "stdout",
     "output_type": "stream",
     "text": [
      "END OF EPOCH: 64 \n",
      "Training acc per batch: 0.814286\n",
      "Training_dev acc per batch: 0.738889\n",
      "Test_dev acc per batch: 0.500000\n"
     ]
    },
    {
     "name": "stderr",
     "output_type": "stream",
     "text": [
      "\r",
      " 65%|██████▌   | 65/100 [00:39<00:16,  2.19it/s]"
     ]
    },
    {
     "name": "stdout",
     "output_type": "stream",
     "text": [
      "END OF EPOCH: 65 \n",
      "Training acc per batch: 0.871429\n",
      "Training_dev acc per batch: 0.744444\n",
      "Test_dev acc per batch: 0.500000\n"
     ]
    },
    {
     "name": "stderr",
     "output_type": "stream",
     "text": [
      "\r",
      " 66%|██████▌   | 66/100 [00:39<00:15,  2.22it/s]"
     ]
    },
    {
     "name": "stdout",
     "output_type": "stream",
     "text": [
      "END OF EPOCH: 66 \n",
      "Training acc per batch: 0.842857\n",
      "Training_dev acc per batch: 0.738889\n",
      "Test_dev acc per batch: 0.500000\n"
     ]
    },
    {
     "name": "stderr",
     "output_type": "stream",
     "text": [
      "\r",
      " 67%|██████▋   | 67/100 [00:40<00:15,  2.20it/s]"
     ]
    },
    {
     "name": "stdout",
     "output_type": "stream",
     "text": [
      "END OF EPOCH: 67 \n",
      "Training acc per batch: 0.885714\n",
      "Training_dev acc per batch: 0.738889\n",
      "Test_dev acc per batch: 0.500000\n"
     ]
    },
    {
     "name": "stderr",
     "output_type": "stream",
     "text": [
      "\r",
      " 68%|██████▊   | 68/100 [00:40<00:14,  2.20it/s]"
     ]
    },
    {
     "name": "stdout",
     "output_type": "stream",
     "text": [
      "END OF EPOCH: 68 \n",
      "Training acc per batch: 0.871429\n",
      "Training_dev acc per batch: 0.727778\n",
      "Test_dev acc per batch: 0.500000\n"
     ]
    },
    {
     "name": "stderr",
     "output_type": "stream",
     "text": [
      "\r",
      " 69%|██████▉   | 69/100 [00:41<00:14,  2.16it/s]"
     ]
    },
    {
     "name": "stdout",
     "output_type": "stream",
     "text": [
      "END OF EPOCH: 69 \n",
      "Training acc per batch: 0.871429\n",
      "Training_dev acc per batch: 0.738889\n",
      "Test_dev acc per batch: 0.500000\n"
     ]
    },
    {
     "name": "stderr",
     "output_type": "stream",
     "text": [
      "\r",
      " 70%|███████   | 70/100 [00:41<00:13,  2.22it/s]"
     ]
    },
    {
     "name": "stdout",
     "output_type": "stream",
     "text": [
      "END OF EPOCH: 70 \n",
      "Training acc per batch: 0.857143\n",
      "Training_dev acc per batch: 0.744444\n",
      "Test_dev acc per batch: 0.500000\n"
     ]
    },
    {
     "name": "stderr",
     "output_type": "stream",
     "text": [
      "\r",
      " 71%|███████   | 71/100 [00:42<00:12,  2.23it/s]"
     ]
    },
    {
     "name": "stdout",
     "output_type": "stream",
     "text": [
      "END OF EPOCH: 71 \n",
      "Training acc per batch: 0.885714\n",
      "Training_dev acc per batch: 0.733333\n",
      "Test_dev acc per batch: 0.500000\n"
     ]
    },
    {
     "name": "stderr",
     "output_type": "stream",
     "text": [
      "\r",
      " 72%|███████▏  | 72/100 [00:42<00:12,  2.16it/s]"
     ]
    },
    {
     "name": "stdout",
     "output_type": "stream",
     "text": [
      "END OF EPOCH: 72 \n",
      "Training acc per batch: 0.900000\n",
      "Training_dev acc per batch: 0.738889\n",
      "Test_dev acc per batch: 0.500000\n"
     ]
    },
    {
     "name": "stderr",
     "output_type": "stream",
     "text": [
      "\r",
      " 73%|███████▎  | 73/100 [00:43<00:12,  2.14it/s]"
     ]
    },
    {
     "name": "stdout",
     "output_type": "stream",
     "text": [
      "END OF EPOCH: 73 \n",
      "Training acc per batch: 0.900000\n",
      "Training_dev acc per batch: 0.738889\n",
      "Test_dev acc per batch: 0.500000\n"
     ]
    },
    {
     "name": "stderr",
     "output_type": "stream",
     "text": [
      "\r",
      " 74%|███████▍  | 74/100 [00:43<00:11,  2.18it/s]"
     ]
    },
    {
     "name": "stdout",
     "output_type": "stream",
     "text": [
      "END OF EPOCH: 74 \n",
      "Training acc per batch: 0.842857\n",
      "Training_dev acc per batch: 0.738889\n",
      "Test_dev acc per batch: 0.500000\n"
     ]
    },
    {
     "name": "stderr",
     "output_type": "stream",
     "text": [
      "\r",
      " 75%|███████▌  | 75/100 [00:43<00:11,  2.10it/s]"
     ]
    },
    {
     "name": "stdout",
     "output_type": "stream",
     "text": [
      "END OF EPOCH: 75 \n",
      "Training acc per batch: 0.871429\n",
      "Training_dev acc per batch: 0.744444\n",
      "Test_dev acc per batch: 0.500000\n"
     ]
    },
    {
     "name": "stderr",
     "output_type": "stream",
     "text": [
      "\r",
      " 76%|███████▌  | 76/100 [00:44<00:11,  2.13it/s]"
     ]
    },
    {
     "name": "stdout",
     "output_type": "stream",
     "text": [
      "END OF EPOCH: 76 \n",
      "Training acc per batch: 0.828571\n",
      "Training_dev acc per batch: 0.733333\n",
      "Test_dev acc per batch: 0.500000\n"
     ]
    },
    {
     "name": "stderr",
     "output_type": "stream",
     "text": [
      "\r",
      " 77%|███████▋  | 77/100 [00:44<00:10,  2.10it/s]"
     ]
    },
    {
     "name": "stdout",
     "output_type": "stream",
     "text": [
      "END OF EPOCH: 77 \n",
      "Training acc per batch: 0.885714\n",
      "Training_dev acc per batch: 0.727778\n",
      "Test_dev acc per batch: 0.500000\n"
     ]
    },
    {
     "name": "stderr",
     "output_type": "stream",
     "text": [
      "\r",
      " 78%|███████▊  | 78/100 [00:45<00:10,  2.14it/s]"
     ]
    },
    {
     "name": "stdout",
     "output_type": "stream",
     "text": [
      "END OF EPOCH: 78 \n",
      "Training acc per batch: 0.871429\n",
      "Training_dev acc per batch: 0.727778\n",
      "Test_dev acc per batch: 0.500000\n"
     ]
    },
    {
     "name": "stderr",
     "output_type": "stream",
     "text": [
      "\r",
      " 79%|███████▉  | 79/100 [00:45<00:09,  2.18it/s]"
     ]
    },
    {
     "name": "stdout",
     "output_type": "stream",
     "text": [
      "END OF EPOCH: 79 \n",
      "Training acc per batch: 0.885714\n",
      "Training_dev acc per batch: 0.727778\n",
      "Test_dev acc per batch: 0.500000\n"
     ]
    },
    {
     "name": "stderr",
     "output_type": "stream",
     "text": [
      "\r",
      " 80%|████████  | 80/100 [00:46<00:09,  2.16it/s]"
     ]
    },
    {
     "name": "stdout",
     "output_type": "stream",
     "text": [
      "END OF EPOCH: 80 \n",
      "Training acc per batch: 0.900000\n",
      "Training_dev acc per batch: 0.733333\n",
      "Test_dev acc per batch: 0.500000\n"
     ]
    },
    {
     "name": "stderr",
     "output_type": "stream",
     "text": [
      "\r",
      " 81%|████████  | 81/100 [00:46<00:08,  2.16it/s]"
     ]
    },
    {
     "name": "stdout",
     "output_type": "stream",
     "text": [
      "END OF EPOCH: 81 \n",
      "Training acc per batch: 0.885714\n",
      "Training_dev acc per batch: 0.733333\n",
      "Test_dev acc per batch: 0.500000\n"
     ]
    },
    {
     "name": "stderr",
     "output_type": "stream",
     "text": [
      "\r",
      " 82%|████████▏ | 82/100 [00:47<00:08,  2.19it/s]"
     ]
    },
    {
     "name": "stdout",
     "output_type": "stream",
     "text": [
      "END OF EPOCH: 82 \n",
      "Training acc per batch: 0.857143\n",
      "Training_dev acc per batch: 0.738889\n",
      "Test_dev acc per batch: 0.500000\n"
     ]
    },
    {
     "name": "stderr",
     "output_type": "stream",
     "text": [
      "\r",
      " 83%|████████▎ | 83/100 [00:47<00:07,  2.15it/s]"
     ]
    },
    {
     "name": "stdout",
     "output_type": "stream",
     "text": [
      "END OF EPOCH: 83 \n",
      "Training acc per batch: 0.871429\n",
      "Training_dev acc per batch: 0.733333\n",
      "Test_dev acc per batch: 0.500000\n"
     ]
    },
    {
     "name": "stderr",
     "output_type": "stream",
     "text": [
      "\r",
      " 84%|████████▍ | 84/100 [00:48<00:07,  2.17it/s]"
     ]
    },
    {
     "name": "stdout",
     "output_type": "stream",
     "text": [
      "END OF EPOCH: 84 \n",
      "Training acc per batch: 0.885714\n",
      "Training_dev acc per batch: 0.738889\n",
      "Test_dev acc per batch: 0.500000\n"
     ]
    },
    {
     "name": "stderr",
     "output_type": "stream",
     "text": [
      "\r",
      " 85%|████████▌ | 85/100 [00:48<00:06,  2.21it/s]"
     ]
    },
    {
     "name": "stdout",
     "output_type": "stream",
     "text": [
      "END OF EPOCH: 85 \n",
      "Training acc per batch: 0.914286\n",
      "Training_dev acc per batch: 0.744444\n",
      "Test_dev acc per batch: 0.500000\n"
     ]
    },
    {
     "name": "stderr",
     "output_type": "stream",
     "text": [
      "\r",
      " 86%|████████▌ | 86/100 [00:49<00:06,  2.13it/s]"
     ]
    },
    {
     "name": "stdout",
     "output_type": "stream",
     "text": [
      "END OF EPOCH: 86 \n",
      "Training acc per batch: 0.914286\n",
      "Training_dev acc per batch: 0.727778\n",
      "Test_dev acc per batch: 0.500000\n"
     ]
    },
    {
     "name": "stderr",
     "output_type": "stream",
     "text": [
      "\r",
      " 87%|████████▋ | 87/100 [00:49<00:06,  2.07it/s]"
     ]
    },
    {
     "name": "stdout",
     "output_type": "stream",
     "text": [
      "END OF EPOCH: 87 \n",
      "Training acc per batch: 0.885714\n",
      "Training_dev acc per batch: 0.738889\n",
      "Test_dev acc per batch: 0.500000\n"
     ]
    },
    {
     "name": "stderr",
     "output_type": "stream",
     "text": [
      "\r",
      " 88%|████████▊ | 88/100 [00:50<00:05,  2.10it/s]"
     ]
    },
    {
     "name": "stdout",
     "output_type": "stream",
     "text": [
      "END OF EPOCH: 88 \n",
      "Training acc per batch: 0.914286\n",
      "Training_dev acc per batch: 0.733333\n",
      "Test_dev acc per batch: 0.500000\n"
     ]
    },
    {
     "name": "stderr",
     "output_type": "stream",
     "text": [
      "\r",
      " 89%|████████▉ | 89/100 [00:50<00:05,  2.17it/s]"
     ]
    },
    {
     "name": "stdout",
     "output_type": "stream",
     "text": [
      "END OF EPOCH: 89 \n",
      "Training acc per batch: 0.871429\n",
      "Training_dev acc per batch: 0.727778\n",
      "Test_dev acc per batch: 0.500000\n"
     ]
    },
    {
     "name": "stderr",
     "output_type": "stream",
     "text": [
      "\r",
      " 90%|█████████ | 90/100 [00:50<00:04,  2.17it/s]"
     ]
    },
    {
     "name": "stdout",
     "output_type": "stream",
     "text": [
      "END OF EPOCH: 90 \n",
      "Training acc per batch: 0.885714\n",
      "Training_dev acc per batch: 0.738889\n",
      "Test_dev acc per batch: 0.500000\n"
     ]
    },
    {
     "name": "stderr",
     "output_type": "stream",
     "text": [
      "\r",
      " 91%|█████████ | 91/100 [00:51<00:04,  2.20it/s]"
     ]
    },
    {
     "name": "stdout",
     "output_type": "stream",
     "text": [
      "END OF EPOCH: 91 \n",
      "Training acc per batch: 0.900000\n",
      "Training_dev acc per batch: 0.733333\n",
      "Test_dev acc per batch: 0.500000\n"
     ]
    },
    {
     "name": "stderr",
     "output_type": "stream",
     "text": [
      "\r",
      " 92%|█████████▏| 92/100 [00:51<00:03,  2.23it/s]"
     ]
    },
    {
     "name": "stdout",
     "output_type": "stream",
     "text": [
      "END OF EPOCH: 92 \n",
      "Training acc per batch: 0.914286\n",
      "Training_dev acc per batch: 0.744444\n",
      "Test_dev acc per batch: 0.500000\n"
     ]
    },
    {
     "name": "stderr",
     "output_type": "stream",
     "text": [
      "\r",
      " 93%|█████████▎| 93/100 [00:52<00:03,  2.24it/s]"
     ]
    },
    {
     "name": "stdout",
     "output_type": "stream",
     "text": [
      "END OF EPOCH: 93 \n",
      "Training acc per batch: 0.900000\n",
      "Training_dev acc per batch: 0.727778\n",
      "Test_dev acc per batch: 0.500000\n"
     ]
    },
    {
     "name": "stderr",
     "output_type": "stream",
     "text": [
      "\r",
      " 94%|█████████▍| 94/100 [00:52<00:02,  2.20it/s]"
     ]
    },
    {
     "name": "stdout",
     "output_type": "stream",
     "text": [
      "END OF EPOCH: 94 \n",
      "Training acc per batch: 0.900000\n",
      "Training_dev acc per batch: 0.733333\n",
      "Test_dev acc per batch: 0.500000\n"
     ]
    },
    {
     "name": "stderr",
     "output_type": "stream",
     "text": [
      "\r",
      " 95%|█████████▌| 95/100 [00:53<00:02,  2.11it/s]"
     ]
    },
    {
     "name": "stdout",
     "output_type": "stream",
     "text": [
      "END OF EPOCH: 95 \n",
      "Training acc per batch: 0.900000\n",
      "Training_dev acc per batch: 0.733333\n",
      "Test_dev acc per batch: 0.500000\n"
     ]
    },
    {
     "name": "stderr",
     "output_type": "stream",
     "text": [
      "\r",
      " 96%|█████████▌| 96/100 [00:53<00:01,  2.09it/s]"
     ]
    },
    {
     "name": "stdout",
     "output_type": "stream",
     "text": [
      "END OF EPOCH: 96 \n",
      "Training acc per batch: 0.885714\n",
      "Training_dev acc per batch: 0.733333\n",
      "Test_dev acc per batch: 0.500000\n"
     ]
    },
    {
     "name": "stderr",
     "output_type": "stream",
     "text": [
      "\r",
      " 97%|█████████▋| 97/100 [00:54<00:01,  1.98it/s]"
     ]
    },
    {
     "name": "stdout",
     "output_type": "stream",
     "text": [
      "END OF EPOCH: 97 \n",
      "Training acc per batch: 0.857143\n",
      "Training_dev acc per batch: 0.727778\n",
      "Test_dev acc per batch: 0.500000\n"
     ]
    },
    {
     "name": "stderr",
     "output_type": "stream",
     "text": [
      "\r",
      " 98%|█████████▊| 98/100 [00:54<00:01,  1.95it/s]"
     ]
    },
    {
     "name": "stdout",
     "output_type": "stream",
     "text": [
      "END OF EPOCH: 98 \n",
      "Training acc per batch: 0.885714\n",
      "Training_dev acc per batch: 0.738889\n",
      "Test_dev acc per batch: 0.500000\n"
     ]
    },
    {
     "name": "stderr",
     "output_type": "stream",
     "text": [
      "\r",
      " 99%|█████████▉| 99/100 [00:55<00:00,  1.99it/s]"
     ]
    },
    {
     "name": "stdout",
     "output_type": "stream",
     "text": [
      "END OF EPOCH: 99 \n",
      "Training acc per batch: 0.900000\n",
      "Training_dev acc per batch: 0.738889\n",
      "Test_dev acc per batch: 0.500000\n"
     ]
    },
    {
     "name": "stderr",
     "output_type": "stream",
     "text": [
      "100%|██████████| 100/100 [00:55<00:00,  1.79it/s]"
     ]
    },
    {
     "name": "stdout",
     "output_type": "stream",
     "text": [
      "END OF EPOCH: 100 \n",
      "Training acc per batch: 0.942857\n",
      "Training_dev acc per batch: 0.744444\n",
      "Test_dev acc per batch: 0.500000\n"
     ]
    },
    {
     "name": "stderr",
     "output_type": "stream",
     "text": [
      "\n"
     ]
    }
   ],
   "source": [
    "trained_model, train_loss, train_dev_loss, test_dev_loss, track_train_acc, track_train_dev_acc, track_test_dev_acc = train_network(100, dataloader_chiasms, classifying_network, optimizer, criterion, device,'first_model.pt')"
   ]
  },
  {
   "cell_type": "code",
   "execution_count": 47,
   "metadata": {},
   "outputs": [
    {
     "data": {
      "image/png": "[encoded data removed]",
      "text/plain": [
       "<Figure size 432x288 with 1 Axes>"
      ]
     },
     "metadata": {
      "needs_background": "light"
     },
     "output_type": "display_data"
    }
   ],
   "source": [
    "plt.plot(train_loss, label='train')\n",
    "plt.plot(train_dev_loss, label='train_dev')\n",
    "plt.plot(test_dev_loss, label='test_dev')\n",
    "plt.legend();"
   ]
  },
  {
   "cell_type": "code",
   "execution_count": 48,
   "metadata": {},
   "outputs": [
    {
     "data": {
      "image/png": "[encoded data removed]",
      "text/plain": [
       "<Figure size 432x288 with 1 Axes>"
      ]
     },
     "metadata": {
      "needs_background": "light"
     },
     "output_type": "display_data"
    }
   ],
   "source": [
    "plt.plot(track_train_acc, label='train')\n",
    "plt.plot(track_train_dev_acc, label='train_dev')\n",
    "plt.plot(track_test_dev_acc, label='test_dev')\n",
    "plt.legend();"
   ]
  },
  {
   "cell_type": "markdown",
   "metadata": {},
   "source": [
    "# Evaluation"
   ]
  },
  {
   "cell_type": "code",
   "execution_count": 198,
   "metadata": {},
   "outputs": [
    {
     "data": {
      "text/plain": [
       "<All keys matched successfully>"
      ]
     },
     "execution_count": 198,
     "metadata": {},
     "output_type": "execute_result"
    }
   ],
   "source": [
    "# Load trained model\n",
    "classifying_network.load_state_dict(torch.load('first_model.pt'))"
   ]
  },
  {
   "cell_type": "code",
   "execution_count": 233,
   "metadata": {},
   "outputs": [
    {
     "name": "stdout",
     "output_type": "stream",
     "text": [
      "train\n"
     ]
    },
    {
     "data": {
      "image/png": "[encoded data removed]",
      "text/plain": [
       "<Figure size 1440x1440 with 10 Axes>"
      ]
     },
     "metadata": {
      "needs_background": "light"
     },
     "output_type": "display_data"
    },
    {
     "name": "stdout",
     "output_type": "stream",
     "text": [
      "train_dev\n"
     ]
    },
    {
     "data": {
      "image/png": "[encoded data removed]",
      "text/plain": [
       "<Figure size 1440x1440 with 10 Axes>"
      ]
     },
     "metadata": {
      "needs_background": "light"
     },
     "output_type": "display_data"
    },
    {
     "name": "stdout",
     "output_type": "stream",
     "text": [
      "test_dev\n"
     ]
    },
    {
     "data": {
      "image/png": "[encoded data removed]",
      "text/plain": [
       "<Figure size 1440x1440 with 6 Axes>"
      ]
     },
     "metadata": {
      "needs_background": "light"
     },
     "output_type": "display_data"
    }
   ],
   "source": [
    "# Visualize results\n",
    "for group in ['train', 'train_dev', 'test_dev']:\n",
    "    \n",
    "    print(group)\n",
    "    \n",
    "    batch = next(enumerate(dataloader_chiasms[group]))\n",
    "    \n",
    "    data = batch[1]['t1']['data']\n",
    "    labels = batch[1]['albinism']\n",
    "    \n",
    "    inputs = data.cpu().numpy()\n",
    "    \n",
    "    output = classifying_network(data.to(device))\n",
    "    output = (output.detach().cpu().numpy())\n",
    "    \n",
    "    fig = plt.figure(figsize=(20,20))\n",
    "    \n",
    "    for i in range(inputs.shape[0]):\n",
    "                \n",
    "        plt.subplot(inputs.shape[0],1,i+1)\n",
    "        plt.imshow(inputs[i,0,:,:,5],cmap='gray');\n",
    "        plt.title(str(labels.numpy()[i])+' vs prediction= '+str(output[i][0]))    \n",
    "        plt.axis('off')\n",
    "    \n",
    "    plt.show()"
   ]
  },
  {
   "cell_type": "code",
   "execution_count": null,
   "metadata": {},
   "outputs": [],
   "source": [
    "# GradCAM attempt"
   ]
  },
  {
   "cell_type": "code",
   "execution_count": null,
   "metadata": {},
   "outputs": [],
   "source": [
    "# TO DO\n",
    "\n",
    "# 0. ADDITIONAL LAYERS IN FC SECTION\n",
    "# 1. ACQUIRE MORE IMAGES\n",
    "# 2. RESIZE ALL IMAGES DURING PREPROCESSING\n",
    "# 3. IMPLEMENT GRADCAM\n",
    "# 4. IMPLEMENT LIME\n",
    "# 5. IMPLEMENT SHAP\n",
    "# 6. USE MORE DATA AUGMENTATION\n",
    "# 7. CONSIDER K-FOLD VALIDATION\n",
    "# 8. PENALIZE MISCLASIFICATION OF ALBINISM\n"
   ]
  },
  {
   "cell_type": "code",
   "execution_count": null,
   "metadata": {},
   "outputs": [],
   "source": []
  },
  {
   "cell_type": "code",
   "execution_count": null,
   "metadata": {},
   "outputs": [],
   "source": []
  },
  {
   "cell_type": "code",
   "execution_count": null,
   "metadata": {},
   "outputs": [],
   "source": []
  },
  {
   "cell_type": "code",
   "execution_count": null,
   "metadata": {},
   "outputs": [],
   "source": [
    "# Evaluate the model on all datasets\n",
    "\n",
    "unet.eval()\n",
    "\n",
    "for group in ['train', 'train_dev', 'test_dev']:\n",
    "    \n",
    "    i=0\n",
    "    track_loss = 0\n",
    "    \n",
    "    for batch in dataloader[group]: \n",
    "        \n",
    "            data = batch['t1']['data'].to(device)\n",
    "            \n",
    "            with torch.no_grad():\n",
    "                \n",
    "                output = unet(data)\n",
    "                loss = criterion(output,data)\n",
    "                \n",
    "                track_loss += loss.item()\n",
    "                i+=1\n",
    "                \n",
    "    print(group, ': loss per batch = ', track_loss/i)"
   ]
  },
  {
   "cell_type": "code",
   "execution_count": null,
   "metadata": {},
   "outputs": [],
   "source": [
    "# Visualize the output (train_dev and test_dev)\n",
    "\n",
    "# Generate sample from two dev datasets\n",
    "train_dev_input = next(enumerate(dataloader['train_dev']))\n",
    "test_dev_input = next(enumerate(dataloader['test_dev']))"
   ]
  },
  {
   "cell_type": "code",
   "execution_count": null,
   "metadata": {},
   "outputs": [],
   "source": [
    "# Run network on samples\n",
    "train_dev_output = unet(train_dev_input[1]['t1']['data'].to(device))\n",
    "test_dev_output = unet(test_dev_input[1]['t1']['data'].to(device))"
   ]
  },
  {
   "cell_type": "code",
   "execution_count": null,
   "metadata": {},
   "outputs": [],
   "source": [
    "# Visualize train_dev sample\n",
    "\n",
    "inputs = train_dev_input[1]['t1']['data'].to('cpu')\n",
    "outputs = train_dev_output.cpu().detach().numpy()\n",
    "\n",
    "fig = plt.figure(figsize=(20,75))\n",
    "\n",
    "print(outputs.shape[0])\n",
    "\n",
    "for i in range(outputs.shape[0]):\n",
    "    \n",
    "    plt.subplot(outputs.shape[0],2,2*i+1)\n",
    "    plt.imshow(inputs[i,0,:,:,5],cmap='gray');\n",
    "    \n",
    "    plt.subplot(outputs.shape[0],2,2*i+2)\n",
    "    plt.imshow(outputs[i,0,:,:,5], cmap ='gray')\n",
    "    \n",
    "plt.show()"
   ]
  },
  {
   "cell_type": "code",
   "execution_count": null,
   "metadata": {},
   "outputs": [],
   "source": [
    "# Visualize test-dev sample\n",
    "\n",
    "inputs = test_dev_input[1]['t1']['data'].to('cpu')\n",
    "outputs = test_dev_output.cpu().detach().numpy()\n",
    "\n",
    "fig = plt.figure(figsize=(20,75))\n",
    "\n",
    "print(outputs.shape[0])\n",
    "\n",
    "for i in range(outputs.shape[0]):\n",
    "    \n",
    "    plt.subplot(outputs.shape[0],2,2*i+1)\n",
    "    plt.imshow(inputs[i,0,:,:,5],cmap='gray');\n",
    "    \n",
    "    plt.subplot(outputs.shape[0],2,2*i+2)\n",
    "    plt.imshow(outputs[i,0,:,:,5], cmap ='gray')\n",
    "    \n",
    "plt.show()"
   ]
  },
  {
   "cell_type": "code",
   "execution_count": null,
   "metadata": {},
   "outputs": [],
   "source": [
    "# Visualize latent representations\n"
   ]
  },
  {
   "cell_type": "code",
   "execution_count": null,
   "metadata": {},
   "outputs": [],
   "source": [
    "# TO DOs\n",
    "\n",
    "# visualize latent representations\n",
    "\n",
    "# visualize results on optic chiasm images only\n",
    "\n",
    "# find out what's inside loaded files with standardization results"
   ]
  }
 ],
 "metadata": {
  "kernelspec": {
   "display_name": "Python 3",
   "language": "python",
   "name": "python3"
  },
  "language_info": {
   "codemirror_mode": {
    "name": "ipython",
    "version": 3
   },
   "file_extension": ".py",
   "mimetype": "text/x-python",
   "name": "python",
   "nbconvert_exporter": "python",
   "pygments_lexer": "ipython3",
   "version": "3.8.12"
  }
 },
 "nbformat": 4,
 "nbformat_minor": 4
}
