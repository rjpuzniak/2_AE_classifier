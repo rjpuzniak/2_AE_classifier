{
 "cells": [
  {
   "cell_type": "markdown",
   "metadata": {},
   "source": [
    "# Dataloaders"
   ]
  },
  {
   "cell_type": "code",
   "execution_count": 1,
   "metadata": {},
   "outputs": [],
   "source": [
    "# Importing libraries\n",
    "import torchio as tio\n",
    "import glob\n",
    "import numpy as np\n",
    "import random\n",
    "import os\n",
    "\n",
    "from collections import OrderedDict\n",
    "from pathlib import Path\n",
    "\n",
    "from tqdm import tqdm\n",
    "import time\n",
    "\n",
    "import torchio as tio\n",
    "from torchio.transforms import (RescaleIntensity,RandomFlip,Compose, HistogramStandardization)\n",
    "\n",
    "from torch.utils.data import DataLoader\n",
    "import torch\n",
    "import torch.nn as nn\n",
    "\n",
    "import matplotlib.pyplot as plt"
   ]
  },
  {
   "cell_type": "code",
   "execution_count": 2,
   "metadata": {},
   "outputs": [],
   "source": [
    "# Define dictionary describing assignment of participants to the groups\n",
    "\n",
    "# Groups\n",
    "train_groups=['HCP']\n",
    "\n",
    "# Dictionary with study design\n",
    "design = {}\n",
    "design['train']={}\n",
    "\n",
    "\n",
    "# Training data\n",
    "for group in train_groups:\n",
    "\n",
    "    # Idices of all subjects\n",
    "    ids=[os.path.basename(path) for path in glob.glob('../../1_Data/1_Input/HCP/100307/*')]      \n",
    "\n",
    "    path_to_folder='../../1_Data/1_Input/HCP/100307/'\n",
    "\n",
    "    files={}\n",
    "    files['brain']=path_to_folder+'t1w_1mm_iso.nii.gz'\n",
    "    files['probs']=path_to_folder+'sampling_distribution.nii.gz'\n",
    "    files['chiasm']=path_to_folder+'chiasm.nii.gz'\n",
    "\n",
    "    design['train']=files\n",
    "\n",
    " "
   ]
  },
  {
   "cell_type": "code",
   "execution_count": 3,
   "metadata": {},
   "outputs": [
    {
     "data": {
      "text/plain": [
       "{'train': {'brain': '../../1_Data/1_Input/HCP/100307/t1w_1mm_iso.nii.gz',\n",
       "  'probs': '../../1_Data/1_Input/HCP/100307/sampling_distribution.nii.gz',\n",
       "  'chiasm': '../../1_Data/1_Input/HCP/100307/chiasm.nii.gz'}}"
      ]
     },
     "execution_count": 3,
     "metadata": {},
     "output_type": "execute_result"
    }
   ],
   "source": [
    "design"
   ]
  },
  {
   "cell_type": "code",
   "execution_count": 4,
   "metadata": {},
   "outputs": [],
   "source": [
    "# Dictionary with all images\n",
    "subjects_list = {'train': [tio.Subject(\n",
    "                            t1=tio.Image(design['train']['brain'], type=tio.INTENSITY),\n",
    "                            probs = tio.Image(design['train']['probs'], type = tio.INTENSITY))]}"
   ]
  },
  {
   "cell_type": "code",
   "execution_count": 5,
   "metadata": {},
   "outputs": [
    {
     "data": {
      "text/plain": [
       "{'train': [Subject(Keys: ('t1', 'probs'); images: 2)]}"
      ]
     },
     "execution_count": 5,
     "metadata": {},
     "output_type": "execute_result"
    }
   ],
   "source": [
    "subjects_list"
   ]
  },
  {
   "cell_type": "code",
   "execution_count": 6,
   "metadata": {},
   "outputs": [],
   "source": [
    "# Rescale\n",
    "rescale = RescaleIntensity((0,1))\n",
    "\n",
    "transform_train = Compose([rescale]) # leaving out standardization for now\n"
   ]
  },
  {
   "cell_type": "code",
   "execution_count": 7,
   "metadata": {},
   "outputs": [],
   "source": [
    "# Torchio's (Pytorch's) Dataset\n",
    "dataset = {'train': tio.SubjectsDataset(subjects_list['train'], transform=transform_train)}"
   ]
  },
  {
   "cell_type": "code",
   "execution_count": 8,
   "metadata": {},
   "outputs": [],
   "source": [
    "# Sampler\n",
    "patch_size = (24,24,8)\n",
    "queue_length = 600\n",
    "samples_per_volume = 20\n",
    "\n",
    "sampler = tio.data.WeightedSampler(patch_size,'probs')"
   ]
  },
  {
   "cell_type": "code",
   "execution_count": 9,
   "metadata": {},
   "outputs": [],
   "source": [
    "# Dataloader\n",
    "dataloader={'train': DataLoader( tio.Queue(dataset['train'], queue_length, samples_per_volume, sampler, num_workers=8), batch_size = 10)}"
   ]
  },
  {
   "cell_type": "code",
   "execution_count": 10,
   "metadata": {},
   "outputs": [],
   "source": [
    "# Create dataloader for images of the chiasm exclusively\n",
    "\n",
    "# Dictionary with all chiasm images\n",
    "subjects_chiasms_list = {'train': [tio.Subject(t1=tio.Image(design['train']['chiasm'], type=tio.INTENSITY))]}\n",
    "\n",
    "# Dataset containing only chiasm images\n",
    "dataset_chiasms = {'train': tio.SubjectsDataset(subjects_chiasms_list['train'], transform = Compose([rescale]))}\n",
    "\n",
    "# Standard dataloader with images of chiasm\n",
    "# Dataloader\n",
    "dataloader_chiasms={'train': DataLoader(dataset=dataset_chiasms['train'], batch_size = 10, shuffle=True, num_workers =8)}"
   ]
  },
  {
   "cell_type": "markdown",
   "metadata": {},
   "source": [
    "# Network and parameters"
   ]
  },
  {
   "cell_type": "code",
   "execution_count": 11,
   "metadata": {},
   "outputs": [
    {
     "name": "stdout",
     "output_type": "stream",
     "text": [
      "cuda\n"
     ]
    }
   ],
   "source": [
    "# Try setting CUDA if possible\n",
    "if torch.cuda.is_available():\n",
    "    device = torch.device(\"cuda\")\n",
    "else:\n",
    "    device = torch.device(\"cpu\") \n",
    "    \n",
    "print(device)"
   ]
  },
  {
   "cell_type": "code",
   "execution_count": 12,
   "metadata": {},
   "outputs": [],
   "source": [
    "# U-Net architecture\n",
    "\n",
    "class UNet(nn.Module):\n",
    "    \n",
    "    def __init__(self, in_channels=1, out_channels=1, init_features=10, scaling=2):\n",
    "        super(UNet, self).__init__()\n",
    "                \n",
    "        # Encoding layers\n",
    "        self.encoder1 = self.unet_block(in_channels, init_features, \"enc1\")\n",
    "        self.pool1 = nn.AvgPool3d(kernel_size=2, stride=2, padding=0)\n",
    "        self.encoder2 = self.unet_block(init_features, init_features*scaling, name='enc2')\n",
    "        self.pool2 = nn.AvgPool3d(kernel_size=2, stride=2, padding=0)\n",
    "\n",
    "        # Bottleneck layer\n",
    "        self.bottleneck = self.unet_block(init_features*scaling, init_features*scaling**2, name='bottleneck')\n",
    "        \n",
    "        # Decoding layers (where merge with prevois encoding layers occurs)        \n",
    "        self.upconv2 = nn.ConvTranspose3d(init_features*scaling**2, init_features*scaling, kernel_size=2, stride=2)\n",
    "        self.decoder2 = self.unet_block(init_features*scaling, init_features*scaling, name='dec2')\n",
    "                \n",
    "        self.upconv1 = nn.ConvTranspose3d(init_features*scaling, init_features, kernel_size=2, stride=2)\n",
    "        self.decoder1 = self.unet_block(init_features, init_features, name='dec1')\n",
    "        \n",
    "        # Final convolution - output equals number of output channels\n",
    "        self.conv = nn.Conv3d(init_features, out_channels, kernel_size=1) \n",
    "        \n",
    "    def forward(self,x):\n",
    "        \n",
    "        # Encoding\n",
    "        enc1 = self.encoder1(x)\n",
    "        enc2 = self.encoder2(self.pool1(enc1))\n",
    "\n",
    "        # Bottleneck\n",
    "        bottleneck = self.bottleneck(self.pool2(enc2))\n",
    "\n",
    "        # Upconvolving, concatenating data from respective encoding phase and executing UNet block\n",
    "        dec2 = self.upconv2(bottleneck)\n",
    "        dec2 = self.decoder2(dec2)\n",
    "        dec1 = self.upconv1(dec2)\n",
    "        dec1 = self.decoder1(dec1)\n",
    "        \n",
    "        out_conv = self.conv(dec1)\n",
    "        \n",
    "        return torch.sigmoid(out_conv)\n",
    "    \n",
    "    def unet_block(self, in_channels, features, name):\n",
    "        \n",
    "        return nn.Sequential(OrderedDict([(name+'conv1',nn.Conv3d(in_channels=in_channels, out_channels=features, kernel_size=3, padding=1, bias=False)),\n",
    "                             (name+'bnorm1', nn.BatchNorm3d(num_features=features)),\n",
    "                             (name+'relu1', nn.ReLU(inplace=True)),\n",
    "                             (name+'conv2', nn.Conv3d(in_channels=features, out_channels=features, kernel_size=3, padding=1, bias=False)),\n",
    "                             (name+'bnorm2', nn.BatchNorm3d(num_features=features)),\n",
    "                             (name+'relu2', nn.ReLU(inplace=True))])\n",
    "                            )\n",
    "\n",
    "    def output_latent_representations(self,x):\n",
    "        \n",
    "        print(x.shape)\n",
    "\n",
    "        # Encoding\n",
    "        enc1 = self.encoder1(x)\n",
    "        enc2 = self.encoder2(self.pool1(enc1))\n",
    "\n",
    "        # Bottleneck\n",
    "        bottleneck = self.bottleneck(self.pool2(enc2))\n",
    "        \n",
    "        print(bottleneck.shape)\n",
    "        \n",
    "        return bottleneck"
   ]
  },
  {
   "cell_type": "code",
   "execution_count": 13,
   "metadata": {},
   "outputs": [],
   "source": [
    "# 4,2 looks so far best on the brain, chiasm suboptimal - 4*2**2 = 16 -> compression 16/64\n",
    "# 4,4 greatly reconstructs the brain, but is mediocre on the chiasm -> compression 1/1\n",
    "\n",
    "# increasing number of initial layers help greatly\n",
    "\n",
    "# Try different init_features and scaling + activation function for an output\n",
    "\n",
    "#unet = UNet(1,1,4,4)\n",
    "#unet.to(device)"
   ]
  },
  {
   "cell_type": "code",
   "execution_count": 14,
   "metadata": {},
   "outputs": [],
   "source": [
    "# U-Net architecture\n",
    "\n",
    "class UNet(nn.Module):\n",
    "    \n",
    "    def __init__(self, in_channels=1, out_channels=1, init_features=64, scaling=2):\n",
    "        super(UNet, self).__init__()\n",
    "                \n",
    "        # Encoding layers\n",
    "        self.encoder1 = self.unet_block(in_channels, init_features, \"enc1\")\n",
    "        self.pool1 = nn.AvgPool3d(kernel_size=2, stride=2, padding=0)\n",
    "\n",
    "        # Bottleneck layer\n",
    "        self.bottleneck = self.unet_block(init_features, int(init_features/(scaling)), name='bottleneck')\n",
    "        \n",
    "        # Decoding layers (where merge with prevois encoding layers occurs)        \n",
    "       \n",
    "        self.upconv1 = nn.ConvTranspose3d(int(init_features/scaling), init_features, kernel_size=2, stride=2)\n",
    "        self.decoder1 = self.unet_block(init_features, init_features, name='dec1')\n",
    "        \n",
    "        # Final convolution - output equals number of output channels\n",
    "        self.conv = nn.Conv3d(init_features, out_channels, kernel_size=1) \n",
    "        \n",
    "    def forward(self,x):\n",
    "        \n",
    "        # Encoding\n",
    "        enc1 = self.encoder1(x)\n",
    "        \n",
    "        # Bottleneck\n",
    "        bottleneck = self.bottleneck(self.pool1(enc1))\n",
    "        \n",
    "        # Upconvolving, concatenating data from respective encoding phase and executing UNet block\n",
    "        dec1 = self.upconv1(bottleneck)\n",
    "        dec1 = self.decoder1(dec1)\n",
    "        \n",
    "        out_conv = self.conv(dec1)\n",
    "        \n",
    "        return torch.sigmoid(out_conv)\n",
    "    \n",
    "    def unet_block(self, in_channels, features, name):\n",
    "        \n",
    "        return nn.Sequential(OrderedDict([(name+'conv1',nn.Conv3d(in_channels=in_channels, out_channels=features, kernel_size=3, padding=1, bias=False)),\n",
    "                             (name+'bnorm1', nn.BatchNorm3d(num_features=features)),\n",
    "                             (name+'relu1', nn.ReLU(inplace=True)),\n",
    "                             (name+'conv2', nn.Conv3d(in_channels=features, out_channels=features, kernel_size=3, padding=1, bias=False)),\n",
    "                             (name+'bnorm2', nn.BatchNorm3d(num_features=features)),\n",
    "                             (name+'relu2', nn.ReLU(inplace=True))])\n",
    "                            )\n",
    "\n",
    "    def output_latent_representations(self,x):\n",
    "        \n",
    "        print(x.shape)\n",
    "\n",
    "        # Encoding\n",
    "        enc1 = self.encoder1(x)\n",
    "        enc2 = self.encoder2(self.pool1(enc1))\n",
    "\n",
    "        # Bottleneck\n",
    "        bottleneck = self.bottleneck(self.pool2(enc2))\n",
    "        \n",
    "        print(bottleneck.shape)\n",
    "        \n",
    "        return bottleneck"
   ]
  },
  {
   "cell_type": "code",
   "execution_count": 15,
   "metadata": {},
   "outputs": [
    {
     "data": {
      "text/plain": [
       "UNet(\n",
       "  (encoder1): Sequential(\n",
       "    (enc1conv1): Conv3d(1, 32, kernel_size=(3, 3, 3), stride=(1, 1, 1), padding=(1, 1, 1), bias=False)\n",
       "    (enc1bnorm1): BatchNorm3d(32, eps=1e-05, momentum=0.1, affine=True, track_running_stats=True)\n",
       "    (enc1relu1): ReLU(inplace=True)\n",
       "    (enc1conv2): Conv3d(32, 32, kernel_size=(3, 3, 3), stride=(1, 1, 1), padding=(1, 1, 1), bias=False)\n",
       "    (enc1bnorm2): BatchNorm3d(32, eps=1e-05, momentum=0.1, affine=True, track_running_stats=True)\n",
       "    (enc1relu2): ReLU(inplace=True)\n",
       "  )\n",
       "  (pool1): AvgPool3d(kernel_size=2, stride=2, padding=0)\n",
       "  (bottleneck): Sequential(\n",
       "    (bottleneckconv1): Conv3d(32, 16, kernel_size=(3, 3, 3), stride=(1, 1, 1), padding=(1, 1, 1), bias=False)\n",
       "    (bottleneckbnorm1): BatchNorm3d(16, eps=1e-05, momentum=0.1, affine=True, track_running_stats=True)\n",
       "    (bottleneckrelu1): ReLU(inplace=True)\n",
       "    (bottleneckconv2): Conv3d(16, 16, kernel_size=(3, 3, 3), stride=(1, 1, 1), padding=(1, 1, 1), bias=False)\n",
       "    (bottleneckbnorm2): BatchNorm3d(16, eps=1e-05, momentum=0.1, affine=True, track_running_stats=True)\n",
       "    (bottleneckrelu2): ReLU(inplace=True)\n",
       "  )\n",
       "  (upconv1): ConvTranspose3d(16, 32, kernel_size=(2, 2, 2), stride=(2, 2, 2))\n",
       "  (decoder1): Sequential(\n",
       "    (dec1conv1): Conv3d(32, 32, kernel_size=(3, 3, 3), stride=(1, 1, 1), padding=(1, 1, 1), bias=False)\n",
       "    (dec1bnorm1): BatchNorm3d(32, eps=1e-05, momentum=0.1, affine=True, track_running_stats=True)\n",
       "    (dec1relu1): ReLU(inplace=True)\n",
       "    (dec1conv2): Conv3d(32, 32, kernel_size=(3, 3, 3), stride=(1, 1, 1), padding=(1, 1, 1), bias=False)\n",
       "    (dec1bnorm2): BatchNorm3d(32, eps=1e-05, momentum=0.1, affine=True, track_running_stats=True)\n",
       "    (dec1relu2): ReLU(inplace=True)\n",
       "  )\n",
       "  (conv): Conv3d(32, 1, kernel_size=(1, 1, 1), stride=(1, 1, 1))\n",
       ")"
      ]
     },
     "execution_count": 15,
     "metadata": {},
     "output_type": "execute_result"
    }
   ],
   "source": [
    "# Trying very high number of initial input features that is furtherly greatly reduced\n",
    "# Init features is high, scaling goes down\n",
    "\n",
    "unet = UNet(1,1,32,2) # works perfectly\n",
    "\n",
    "#unet = UNet(1,1,4,1)\n",
    "\n",
    "unet.to(device)"
   ]
  },
  {
   "cell_type": "code",
   "execution_count": 16,
   "metadata": {},
   "outputs": [],
   "source": [
    "# Criterion\n",
    "#criterion = DiceLoss()\n",
    "criterion = nn.MSELoss()\n",
    "\n",
    "# Optimizer\n",
    "optimizer = torch.optim.Adam(params=unet.parameters(), lr=0.001) # previously 0.0005\n",
    "\n",
    "# Number of epochs\n",
    "n_epochs = 100"
   ]
  },
  {
   "cell_type": "markdown",
   "metadata": {},
   "source": [
    "# Training"
   ]
  },
  {
   "cell_type": "code",
   "execution_count": 17,
   "metadata": {},
   "outputs": [],
   "source": [
    "# Function returning trained model\n",
    "def train_network(n_epochs, dataloaders, model, optimizer, criterion, device, save_path):\n",
    "    \n",
    "    track_train_loss = []\n",
    "    \n",
    "    model.to(device)\n",
    "        \n",
    "    for epoch in tqdm(range(1, n_epochs+1)):\n",
    "        \n",
    "        # Initialize loss monitoring variables\n",
    "        train_loss = 0.0        \n",
    "        \n",
    "        \n",
    "        # Training\n",
    "        model.train()\n",
    "        \n",
    "        for batch in dataloaders['train']:\n",
    "            \n",
    "            i = 0\n",
    "            \n",
    "            data = batch['t1']['data'].to(device)\n",
    "            \n",
    "            optimizer.zero_grad()\n",
    "            \n",
    "            output = model(data)\n",
    "            loss = criterion(output, data)\n",
    "            loss.backward()\n",
    "            \n",
    "            optimizer.step()\n",
    "            \n",
    "            train_loss += loss.item()\n",
    "            i+=1\n",
    "            \n",
    "        track_train_loss.append(train_loss/i)\n",
    "        \n",
    "        # Print summary of epoch\n",
    "        print('END OF EPOCH: {} \\tTraining loss per batch: {:.6f}'.format(epoch, train_loss))\n",
    "       \n",
    "    # return trained model\n",
    "    return model, track_train_loss"
   ]
  },
  {
   "cell_type": "code",
   "execution_count": 18,
   "metadata": {
    "scrolled": true
   },
   "outputs": [],
   "source": [
    "#trained_model, train_loss = train_network(1000, dataloader, unet, optimizer, criterion, device,'200ep_00005lr.pt')"
   ]
  },
  {
   "cell_type": "code",
   "execution_count": 19,
   "metadata": {},
   "outputs": [
    {
     "name": "stderr",
     "output_type": "stream",
     "text": [
      "  0%|▎                                                                             | 1/250 [00:01<04:44,  1.14s/it]"
     ]
    },
    {
     "name": "stdout",
     "output_type": "stream",
     "text": [
      "END OF EPOCH: 1 \tTraining loss per batch: 0.215862\n"
     ]
    },
    {
     "name": "stderr",
     "output_type": "stream",
     "text": [
      "\r",
      "  1%|▌                                                                             | 2/250 [00:02<05:05,  1.23s/it]"
     ]
    },
    {
     "name": "stdout",
     "output_type": "stream",
     "text": [
      "END OF EPOCH: 2 \tTraining loss per batch: 0.132634\n"
     ]
    },
    {
     "name": "stderr",
     "output_type": "stream",
     "text": [
      "\r",
      "  1%|▉                                                                             | 3/250 [00:03<04:45,  1.15s/it]"
     ]
    },
    {
     "name": "stdout",
     "output_type": "stream",
     "text": [
      "END OF EPOCH: 3 \tTraining loss per batch: 0.115263\n"
     ]
    },
    {
     "name": "stderr",
     "output_type": "stream",
     "text": [
      "\r",
      "  2%|█▏                                                                            | 4/250 [00:05<05:16,  1.29s/it]"
     ]
    },
    {
     "name": "stdout",
     "output_type": "stream",
     "text": [
      "END OF EPOCH: 4 \tTraining loss per batch: 0.102545\n"
     ]
    },
    {
     "name": "stderr",
     "output_type": "stream",
     "text": [
      "\r",
      "  2%|█▌                                                                            | 5/250 [00:06<05:21,  1.31s/it]"
     ]
    },
    {
     "name": "stdout",
     "output_type": "stream",
     "text": [
      "END OF EPOCH: 5 \tTraining loss per batch: 0.069187\n"
     ]
    },
    {
     "name": "stderr",
     "output_type": "stream",
     "text": [
      "\r",
      "  2%|█▊                                                                            | 6/250 [00:07<04:51,  1.19s/it]"
     ]
    },
    {
     "name": "stdout",
     "output_type": "stream",
     "text": [
      "END OF EPOCH: 6 \tTraining loss per batch: 0.059342\n"
     ]
    },
    {
     "name": "stderr",
     "output_type": "stream",
     "text": [
      "\r",
      "  3%|██▏                                                                           | 7/250 [00:08<04:31,  1.12s/it]"
     ]
    },
    {
     "name": "stdout",
     "output_type": "stream",
     "text": [
      "END OF EPOCH: 7 \tTraining loss per batch: 0.066047\n"
     ]
    },
    {
     "name": "stderr",
     "output_type": "stream",
     "text": [
      "\r",
      "  3%|██▍                                                                           | 8/250 [00:09<04:19,  1.07s/it]"
     ]
    },
    {
     "name": "stdout",
     "output_type": "stream",
     "text": [
      "END OF EPOCH: 8 \tTraining loss per batch: 0.068121\n"
     ]
    },
    {
     "name": "stderr",
     "output_type": "stream",
     "text": [
      "\r",
      "  4%|██▊                                                                           | 9/250 [00:10<04:07,  1.03s/it]"
     ]
    },
    {
     "name": "stdout",
     "output_type": "stream",
     "text": [
      "END OF EPOCH: 9 \tTraining loss per batch: 0.052423\n"
     ]
    },
    {
     "name": "stderr",
     "output_type": "stream",
     "text": [
      "\r",
      "  4%|███                                                                          | 10/250 [00:11<03:58,  1.00it/s]"
     ]
    },
    {
     "name": "stdout",
     "output_type": "stream",
     "text": [
      "END OF EPOCH: 10 \tTraining loss per batch: 0.051540\n"
     ]
    },
    {
     "name": "stderr",
     "output_type": "stream",
     "text": [
      "\r",
      "  4%|███▍                                                                         | 11/250 [00:12<03:53,  1.02it/s]"
     ]
    },
    {
     "name": "stdout",
     "output_type": "stream",
     "text": [
      "END OF EPOCH: 11 \tTraining loss per batch: 0.039923\n"
     ]
    },
    {
     "name": "stderr",
     "output_type": "stream",
     "text": [
      "\r",
      "  5%|███▋                                                                         | 12/250 [00:13<03:51,  1.03it/s]"
     ]
    },
    {
     "name": "stdout",
     "output_type": "stream",
     "text": [
      "END OF EPOCH: 12 \tTraining loss per batch: 0.037183\n"
     ]
    },
    {
     "name": "stderr",
     "output_type": "stream",
     "text": [
      "\r",
      "  5%|████                                                                         | 13/250 [00:14<03:49,  1.03it/s]"
     ]
    },
    {
     "name": "stdout",
     "output_type": "stream",
     "text": [
      "END OF EPOCH: 13 \tTraining loss per batch: 0.044576\n"
     ]
    },
    {
     "name": "stderr",
     "output_type": "stream",
     "text": [
      "\r",
      "  6%|████▎                                                                        | 14/250 [00:14<03:46,  1.04it/s]"
     ]
    },
    {
     "name": "stdout",
     "output_type": "stream",
     "text": [
      "END OF EPOCH: 14 \tTraining loss per batch: 0.045565\n"
     ]
    },
    {
     "name": "stderr",
     "output_type": "stream",
     "text": [
      "\r",
      "  6%|████▌                                                                        | 15/250 [00:15<03:42,  1.06it/s]"
     ]
    },
    {
     "name": "stdout",
     "output_type": "stream",
     "text": [
      "END OF EPOCH: 15 \tTraining loss per batch: 0.033073\n"
     ]
    },
    {
     "name": "stderr",
     "output_type": "stream",
     "text": [
      "\r",
      "  6%|████▉                                                                        | 16/250 [00:16<03:38,  1.07it/s]"
     ]
    },
    {
     "name": "stdout",
     "output_type": "stream",
     "text": [
      "END OF EPOCH: 16 \tTraining loss per batch: 0.037075\n"
     ]
    },
    {
     "name": "stderr",
     "output_type": "stream",
     "text": [
      "\r",
      "  7%|█████▏                                                                       | 17/250 [00:17<03:41,  1.05it/s]"
     ]
    },
    {
     "name": "stdout",
     "output_type": "stream",
     "text": [
      "END OF EPOCH: 17 \tTraining loss per batch: 0.033263\n"
     ]
    },
    {
     "name": "stderr",
     "output_type": "stream",
     "text": [
      "\r",
      "  7%|█████▌                                                                       | 18/250 [00:18<03:41,  1.05it/s]"
     ]
    },
    {
     "name": "stdout",
     "output_type": "stream",
     "text": [
      "END OF EPOCH: 18 \tTraining loss per batch: 0.023177\n"
     ]
    },
    {
     "name": "stderr",
     "output_type": "stream",
     "text": [
      "\r",
      "  8%|█████▊                                                                       | 19/250 [00:19<03:38,  1.06it/s]"
     ]
    },
    {
     "name": "stdout",
     "output_type": "stream",
     "text": [
      "END OF EPOCH: 19 \tTraining loss per batch: 0.020185\n"
     ]
    },
    {
     "name": "stderr",
     "output_type": "stream",
     "text": [
      "\r",
      "  8%|██████▏                                                                      | 20/250 [00:20<03:37,  1.06it/s]"
     ]
    },
    {
     "name": "stdout",
     "output_type": "stream",
     "text": [
      "END OF EPOCH: 20 \tTraining loss per batch: 0.021385\n"
     ]
    },
    {
     "name": "stderr",
     "output_type": "stream",
     "text": [
      "\r",
      "  8%|██████▍                                                                      | 21/250 [00:21<03:34,  1.07it/s]"
     ]
    },
    {
     "name": "stdout",
     "output_type": "stream",
     "text": [
      "END OF EPOCH: 21 \tTraining loss per batch: 0.019984\n"
     ]
    },
    {
     "name": "stderr",
     "output_type": "stream",
     "text": [
      "\r",
      "  9%|██████▊                                                                      | 22/250 [00:22<03:30,  1.08it/s]"
     ]
    },
    {
     "name": "stdout",
     "output_type": "stream",
     "text": [
      "END OF EPOCH: 22 \tTraining loss per batch: 0.014787\n"
     ]
    },
    {
     "name": "stderr",
     "output_type": "stream",
     "text": [
      "\r",
      "  9%|███████                                                                      | 23/250 [00:23<03:36,  1.05it/s]"
     ]
    },
    {
     "name": "stdout",
     "output_type": "stream",
     "text": [
      "END OF EPOCH: 23 \tTraining loss per batch: 0.018787\n"
     ]
    },
    {
     "name": "stderr",
     "output_type": "stream",
     "text": [
      "\r",
      " 10%|███████▍                                                                     | 24/250 [00:24<03:35,  1.05it/s]"
     ]
    },
    {
     "name": "stdout",
     "output_type": "stream",
     "text": [
      "END OF EPOCH: 24 \tTraining loss per batch: 0.016276\n"
     ]
    },
    {
     "name": "stderr",
     "output_type": "stream",
     "text": [
      "\r",
      " 10%|███████▋                                                                     | 25/250 [00:25<03:32,  1.06it/s]"
     ]
    },
    {
     "name": "stdout",
     "output_type": "stream",
     "text": [
      "END OF EPOCH: 25 \tTraining loss per batch: 0.013472\n"
     ]
    },
    {
     "name": "stderr",
     "output_type": "stream",
     "text": [
      "\r",
      " 10%|████████                                                                     | 26/250 [00:26<03:28,  1.07it/s]"
     ]
    },
    {
     "name": "stdout",
     "output_type": "stream",
     "text": [
      "END OF EPOCH: 26 \tTraining loss per batch: 0.012931\n"
     ]
    },
    {
     "name": "stderr",
     "output_type": "stream",
     "text": [
      "\r",
      " 11%|████████▎                                                                    | 27/250 [00:27<03:29,  1.07it/s]"
     ]
    },
    {
     "name": "stdout",
     "output_type": "stream",
     "text": [
      "END OF EPOCH: 27 \tTraining loss per batch: 0.018725\n"
     ]
    },
    {
     "name": "stderr",
     "output_type": "stream",
     "text": [
      "\r",
      " 11%|████████▌                                                                    | 28/250 [00:28<03:29,  1.06it/s]"
     ]
    },
    {
     "name": "stdout",
     "output_type": "stream",
     "text": [
      "END OF EPOCH: 28 \tTraining loss per batch: 0.013735\n"
     ]
    },
    {
     "name": "stderr",
     "output_type": "stream",
     "text": [
      "\r",
      " 12%|████████▉                                                                    | 29/250 [00:29<03:28,  1.06it/s]"
     ]
    },
    {
     "name": "stdout",
     "output_type": "stream",
     "text": [
      "END OF EPOCH: 29 \tTraining loss per batch: 0.012688\n"
     ]
    },
    {
     "name": "stderr",
     "output_type": "stream",
     "text": [
      "\r",
      " 12%|█████████▏                                                                   | 30/250 [00:29<03:24,  1.07it/s]"
     ]
    },
    {
     "name": "stdout",
     "output_type": "stream",
     "text": [
      "END OF EPOCH: 30 \tTraining loss per batch: 0.012400\n"
     ]
    },
    {
     "name": "stderr",
     "output_type": "stream",
     "text": [
      "\r",
      " 12%|█████████▌                                                                   | 31/250 [00:30<03:22,  1.08it/s]"
     ]
    },
    {
     "name": "stdout",
     "output_type": "stream",
     "text": [
      "END OF EPOCH: 31 \tTraining loss per batch: 0.012512\n"
     ]
    },
    {
     "name": "stderr",
     "output_type": "stream",
     "text": [
      "\r",
      " 13%|█████████▊                                                                   | 32/250 [00:31<03:21,  1.08it/s]"
     ]
    },
    {
     "name": "stdout",
     "output_type": "stream",
     "text": [
      "END OF EPOCH: 32 \tTraining loss per batch: 0.013609\n"
     ]
    },
    {
     "name": "stderr",
     "output_type": "stream",
     "text": [
      "\r",
      " 13%|██████████▏                                                                  | 33/250 [00:32<03:21,  1.08it/s]"
     ]
    },
    {
     "name": "stdout",
     "output_type": "stream",
     "text": [
      "END OF EPOCH: 33 \tTraining loss per batch: 0.006921\n"
     ]
    },
    {
     "name": "stderr",
     "output_type": "stream",
     "text": [
      "\r",
      " 14%|██████████▍                                                                  | 34/250 [00:33<03:22,  1.07it/s]"
     ]
    },
    {
     "name": "stdout",
     "output_type": "stream",
     "text": [
      "END OF EPOCH: 34 \tTraining loss per batch: 0.007748\n"
     ]
    },
    {
     "name": "stderr",
     "output_type": "stream",
     "text": [
      "\r",
      " 14%|██████████▊                                                                  | 35/250 [00:34<03:23,  1.05it/s]"
     ]
    },
    {
     "name": "stdout",
     "output_type": "stream",
     "text": [
      "END OF EPOCH: 35 \tTraining loss per batch: 0.010914\n"
     ]
    },
    {
     "name": "stderr",
     "output_type": "stream",
     "text": [
      "\r",
      " 14%|███████████                                                                  | 36/250 [00:35<03:17,  1.08it/s]"
     ]
    },
    {
     "name": "stdout",
     "output_type": "stream",
     "text": [
      "END OF EPOCH: 36 \tTraining loss per batch: 0.006539\n"
     ]
    },
    {
     "name": "stderr",
     "output_type": "stream",
     "text": [
      "\r",
      " 15%|███████████▍                                                                 | 37/250 [00:36<03:18,  1.07it/s]"
     ]
    },
    {
     "name": "stdout",
     "output_type": "stream",
     "text": [
      "END OF EPOCH: 37 \tTraining loss per batch: 0.008135\n"
     ]
    },
    {
     "name": "stderr",
     "output_type": "stream",
     "text": [
      "\r",
      " 15%|███████████▋                                                                 | 38/250 [00:37<03:18,  1.07it/s]"
     ]
    },
    {
     "name": "stdout",
     "output_type": "stream",
     "text": [
      "END OF EPOCH: 38 \tTraining loss per batch: 0.007605\n"
     ]
    },
    {
     "name": "stderr",
     "output_type": "stream",
     "text": [
      "\r",
      " 16%|████████████                                                                 | 39/250 [00:38<03:16,  1.07it/s]"
     ]
    },
    {
     "name": "stdout",
     "output_type": "stream",
     "text": [
      "END OF EPOCH: 39 \tTraining loss per batch: 0.005985\n"
     ]
    },
    {
     "name": "stderr",
     "output_type": "stream",
     "text": [
      "\r",
      " 16%|████████████▎                                                                | 40/250 [00:39<03:15,  1.07it/s]"
     ]
    },
    {
     "name": "stdout",
     "output_type": "stream",
     "text": [
      "END OF EPOCH: 40 \tTraining loss per batch: 0.004201\n"
     ]
    },
    {
     "name": "stderr",
     "output_type": "stream",
     "text": [
      "\r",
      " 16%|████████████▋                                                                | 41/250 [00:40<03:10,  1.10it/s]"
     ]
    },
    {
     "name": "stdout",
     "output_type": "stream",
     "text": [
      "END OF EPOCH: 41 \tTraining loss per batch: 0.003742\n"
     ]
    },
    {
     "name": "stderr",
     "output_type": "stream",
     "text": [
      "\r",
      " 17%|████████████▉                                                                | 42/250 [00:41<03:14,  1.07it/s]"
     ]
    },
    {
     "name": "stdout",
     "output_type": "stream",
     "text": [
      "END OF EPOCH: 42 \tTraining loss per batch: 0.004618\n"
     ]
    },
    {
     "name": "stderr",
     "output_type": "stream",
     "text": [
      "\r",
      " 17%|█████████████▏                                                               | 43/250 [00:42<03:13,  1.07it/s]"
     ]
    },
    {
     "name": "stdout",
     "output_type": "stream",
     "text": [
      "END OF EPOCH: 43 \tTraining loss per batch: 0.007660\n"
     ]
    },
    {
     "name": "stderr",
     "output_type": "stream",
     "text": [
      "\r",
      " 18%|█████████████▌                                                               | 44/250 [00:43<03:15,  1.05it/s]"
     ]
    },
    {
     "name": "stdout",
     "output_type": "stream",
     "text": [
      "END OF EPOCH: 44 \tTraining loss per batch: 0.003919\n"
     ]
    },
    {
     "name": "stderr",
     "output_type": "stream",
     "text": [
      "\r",
      " 18%|█████████████▊                                                               | 45/250 [00:44<03:15,  1.05it/s]"
     ]
    },
    {
     "name": "stdout",
     "output_type": "stream",
     "text": [
      "END OF EPOCH: 45 \tTraining loss per batch: 0.002446\n"
     ]
    },
    {
     "name": "stderr",
     "output_type": "stream",
     "text": [
      "\r",
      " 18%|██████████████▏                                                              | 46/250 [00:44<03:15,  1.04it/s]"
     ]
    },
    {
     "name": "stdout",
     "output_type": "stream",
     "text": [
      "END OF EPOCH: 46 \tTraining loss per batch: 0.004361\n"
     ]
    },
    {
     "name": "stderr",
     "output_type": "stream",
     "text": [
      "\r",
      " 19%|██████████████▍                                                              | 47/250 [00:46<03:18,  1.02it/s]"
     ]
    },
    {
     "name": "stdout",
     "output_type": "stream",
     "text": [
      "END OF EPOCH: 47 \tTraining loss per batch: 0.004642\n"
     ]
    },
    {
     "name": "stderr",
     "output_type": "stream",
     "text": [
      "\r",
      " 19%|██████████████▊                                                              | 48/250 [00:47<03:19,  1.01it/s]"
     ]
    },
    {
     "name": "stdout",
     "output_type": "stream",
     "text": [
      "END OF EPOCH: 48 \tTraining loss per batch: 0.003831\n"
     ]
    },
    {
     "name": "stderr",
     "output_type": "stream",
     "text": [
      "\r",
      " 20%|███████████████                                                              | 49/250 [00:47<03:16,  1.02it/s]"
     ]
    },
    {
     "name": "stdout",
     "output_type": "stream",
     "text": [
      "END OF EPOCH: 49 \tTraining loss per batch: 0.002675\n"
     ]
    },
    {
     "name": "stderr",
     "output_type": "stream",
     "text": [
      "\r",
      " 20%|███████████████▍                                                             | 50/250 [00:48<03:15,  1.02it/s]"
     ]
    },
    {
     "name": "stdout",
     "output_type": "stream",
     "text": [
      "END OF EPOCH: 50 \tTraining loss per batch: 0.002130\n"
     ]
    },
    {
     "name": "stderr",
     "output_type": "stream",
     "text": [
      "\r",
      " 20%|███████████████▋                                                             | 51/250 [00:49<03:16,  1.01it/s]"
     ]
    },
    {
     "name": "stdout",
     "output_type": "stream",
     "text": [
      "END OF EPOCH: 51 \tTraining loss per batch: 0.004097\n"
     ]
    },
    {
     "name": "stderr",
     "output_type": "stream",
     "text": [
      "\r",
      " 21%|████████████████                                                             | 52/250 [00:50<03:14,  1.02it/s]"
     ]
    },
    {
     "name": "stdout",
     "output_type": "stream",
     "text": [
      "END OF EPOCH: 52 \tTraining loss per batch: 0.004203\n"
     ]
    },
    {
     "name": "stderr",
     "output_type": "stream",
     "text": [
      "\r",
      " 21%|████████████████▎                                                            | 53/250 [00:51<03:10,  1.03it/s]"
     ]
    },
    {
     "name": "stdout",
     "output_type": "stream",
     "text": [
      "END OF EPOCH: 53 \tTraining loss per batch: 0.002055\n"
     ]
    },
    {
     "name": "stderr",
     "output_type": "stream",
     "text": [
      "\r",
      " 22%|████████████████▋                                                            | 54/250 [00:52<03:08,  1.04it/s]"
     ]
    },
    {
     "name": "stdout",
     "output_type": "stream",
     "text": [
      "END OF EPOCH: 54 \tTraining loss per batch: 0.002335\n"
     ]
    },
    {
     "name": "stderr",
     "output_type": "stream",
     "text": [
      "\r",
      " 22%|████████████████▉                                                            | 55/250 [00:53<03:06,  1.05it/s]"
     ]
    },
    {
     "name": "stdout",
     "output_type": "stream",
     "text": [
      "END OF EPOCH: 55 \tTraining loss per batch: 0.003282\n"
     ]
    },
    {
     "name": "stderr",
     "output_type": "stream",
     "text": [
      "\r",
      " 22%|█████████████████▏                                                           | 56/250 [00:54<03:03,  1.06it/s]"
     ]
    },
    {
     "name": "stdout",
     "output_type": "stream",
     "text": [
      "END OF EPOCH: 56 \tTraining loss per batch: 0.002027\n"
     ]
    },
    {
     "name": "stderr",
     "output_type": "stream",
     "text": [
      "\r",
      " 23%|█████████████████▌                                                           | 57/250 [00:55<03:02,  1.06it/s]"
     ]
    },
    {
     "name": "stdout",
     "output_type": "stream",
     "text": [
      "END OF EPOCH: 57 \tTraining loss per batch: 0.002105\n"
     ]
    },
    {
     "name": "stderr",
     "output_type": "stream",
     "text": [
      "\r",
      " 23%|█████████████████▊                                                           | 58/250 [00:56<03:00,  1.07it/s]"
     ]
    },
    {
     "name": "stdout",
     "output_type": "stream",
     "text": [
      "END OF EPOCH: 58 \tTraining loss per batch: 0.002700\n"
     ]
    },
    {
     "name": "stderr",
     "output_type": "stream",
     "text": [
      "\r",
      " 24%|██████████████████▏                                                          | 59/250 [00:57<02:58,  1.07it/s]"
     ]
    },
    {
     "name": "stdout",
     "output_type": "stream",
     "text": [
      "END OF EPOCH: 59 \tTraining loss per batch: 0.001588\n"
     ]
    },
    {
     "name": "stderr",
     "output_type": "stream",
     "text": [
      "\r",
      " 24%|██████████████████▍                                                          | 60/250 [00:58<02:56,  1.07it/s]"
     ]
    },
    {
     "name": "stdout",
     "output_type": "stream",
     "text": [
      "END OF EPOCH: 60 \tTraining loss per batch: 0.002937\n"
     ]
    },
    {
     "name": "stderr",
     "output_type": "stream",
     "text": [
      "\r",
      " 24%|██████████████████▊                                                          | 61/250 [00:59<02:58,  1.06it/s]"
     ]
    },
    {
     "name": "stdout",
     "output_type": "stream",
     "text": [
      "END OF EPOCH: 61 \tTraining loss per batch: 0.003244\n"
     ]
    },
    {
     "name": "stderr",
     "output_type": "stream",
     "text": [
      "\r",
      " 25%|███████████████████                                                          | 62/250 [01:00<03:00,  1.04it/s]"
     ]
    },
    {
     "name": "stdout",
     "output_type": "stream",
     "text": [
      "END OF EPOCH: 62 \tTraining loss per batch: 0.002037\n"
     ]
    },
    {
     "name": "stderr",
     "output_type": "stream",
     "text": [
      "\r",
      " 25%|███████████████████▍                                                         | 63/250 [01:01<02:56,  1.06it/s]"
     ]
    },
    {
     "name": "stdout",
     "output_type": "stream",
     "text": [
      "END OF EPOCH: 63 \tTraining loss per batch: 0.001725\n"
     ]
    },
    {
     "name": "stderr",
     "output_type": "stream",
     "text": [
      "\r",
      " 26%|███████████████████▋                                                         | 64/250 [01:02<02:55,  1.06it/s]"
     ]
    },
    {
     "name": "stdout",
     "output_type": "stream",
     "text": [
      "END OF EPOCH: 64 \tTraining loss per batch: 0.003192\n"
     ]
    },
    {
     "name": "stderr",
     "output_type": "stream",
     "text": [
      "\r",
      " 26%|████████████████████                                                         | 65/250 [01:03<02:52,  1.07it/s]"
     ]
    },
    {
     "name": "stdout",
     "output_type": "stream",
     "text": [
      "END OF EPOCH: 65 \tTraining loss per batch: 0.001674\n"
     ]
    },
    {
     "name": "stderr",
     "output_type": "stream",
     "text": [
      "\r",
      " 26%|████████████████████▎                                                        | 66/250 [01:04<02:53,  1.06it/s]"
     ]
    },
    {
     "name": "stdout",
     "output_type": "stream",
     "text": [
      "END OF EPOCH: 66 \tTraining loss per batch: 0.001901\n"
     ]
    },
    {
     "name": "stderr",
     "output_type": "stream",
     "text": [
      "\r",
      " 27%|████████████████████▋                                                        | 67/250 [01:05<02:53,  1.06it/s]"
     ]
    },
    {
     "name": "stdout",
     "output_type": "stream",
     "text": [
      "END OF EPOCH: 67 \tTraining loss per batch: 0.002481\n"
     ]
    },
    {
     "name": "stderr",
     "output_type": "stream",
     "text": [
      "\r",
      " 27%|████████████████████▉                                                        | 68/250 [01:05<02:51,  1.06it/s]"
     ]
    },
    {
     "name": "stdout",
     "output_type": "stream",
     "text": [
      "END OF EPOCH: 68 \tTraining loss per batch: 0.003430\n"
     ]
    },
    {
     "name": "stderr",
     "output_type": "stream",
     "text": [
      "\r",
      " 28%|█████████████████████▎                                                       | 69/250 [01:06<02:49,  1.07it/s]"
     ]
    },
    {
     "name": "stdout",
     "output_type": "stream",
     "text": [
      "END OF EPOCH: 69 \tTraining loss per batch: 0.002075\n"
     ]
    },
    {
     "name": "stderr",
     "output_type": "stream",
     "text": [
      "\r",
      " 28%|█████████████████████▌                                                       | 70/250 [01:07<02:47,  1.07it/s]"
     ]
    },
    {
     "name": "stdout",
     "output_type": "stream",
     "text": [
      "END OF EPOCH: 70 \tTraining loss per batch: 0.004288\n"
     ]
    },
    {
     "name": "stderr",
     "output_type": "stream",
     "text": [
      "\r",
      " 28%|█████████████████████▊                                                       | 71/250 [01:08<02:48,  1.07it/s]"
     ]
    },
    {
     "name": "stdout",
     "output_type": "stream",
     "text": [
      "END OF EPOCH: 71 \tTraining loss per batch: 0.002736\n"
     ]
    },
    {
     "name": "stderr",
     "output_type": "stream",
     "text": [
      "\r",
      " 29%|██████████████████████▏                                                      | 72/250 [01:09<02:48,  1.06it/s]"
     ]
    },
    {
     "name": "stdout",
     "output_type": "stream",
     "text": [
      "END OF EPOCH: 72 \tTraining loss per batch: 0.001909\n"
     ]
    },
    {
     "name": "stderr",
     "output_type": "stream",
     "text": [
      "\r",
      " 29%|██████████████████████▍                                                      | 73/250 [01:10<02:47,  1.06it/s]"
     ]
    },
    {
     "name": "stdout",
     "output_type": "stream",
     "text": [
      "END OF EPOCH: 73 \tTraining loss per batch: 0.002877\n"
     ]
    },
    {
     "name": "stderr",
     "output_type": "stream",
     "text": [
      "\r",
      " 30%|██████████████████████▊                                                      | 74/250 [01:11<02:45,  1.07it/s]"
     ]
    },
    {
     "name": "stdout",
     "output_type": "stream",
     "text": [
      "END OF EPOCH: 74 \tTraining loss per batch: 0.001907\n"
     ]
    },
    {
     "name": "stderr",
     "output_type": "stream",
     "text": [
      "\r",
      " 30%|███████████████████████                                                      | 75/250 [01:12<02:43,  1.07it/s]"
     ]
    },
    {
     "name": "stdout",
     "output_type": "stream",
     "text": [
      "END OF EPOCH: 75 \tTraining loss per batch: 0.003020\n"
     ]
    },
    {
     "name": "stderr",
     "output_type": "stream",
     "text": [
      "\r",
      " 30%|███████████████████████▍                                                     | 76/250 [01:13<02:45,  1.05it/s]"
     ]
    },
    {
     "name": "stdout",
     "output_type": "stream",
     "text": [
      "END OF EPOCH: 76 \tTraining loss per batch: 0.001644\n"
     ]
    },
    {
     "name": "stderr",
     "output_type": "stream",
     "text": [
      "\r",
      " 31%|███████████████████████▋                                                     | 77/250 [01:14<02:45,  1.05it/s]"
     ]
    },
    {
     "name": "stdout",
     "output_type": "stream",
     "text": [
      "END OF EPOCH: 77 \tTraining loss per batch: 0.002000\n"
     ]
    },
    {
     "name": "stderr",
     "output_type": "stream",
     "text": [
      "\r",
      " 31%|████████████████████████                                                     | 78/250 [01:15<02:43,  1.05it/s]"
     ]
    },
    {
     "name": "stdout",
     "output_type": "stream",
     "text": [
      "END OF EPOCH: 78 \tTraining loss per batch: 0.001448\n"
     ]
    },
    {
     "name": "stderr",
     "output_type": "stream",
     "text": [
      "\r",
      " 32%|████████████████████████▎                                                    | 79/250 [01:16<02:41,  1.06it/s]"
     ]
    },
    {
     "name": "stdout",
     "output_type": "stream",
     "text": [
      "END OF EPOCH: 79 \tTraining loss per batch: 0.002010\n"
     ]
    },
    {
     "name": "stderr",
     "output_type": "stream",
     "text": [
      "\r",
      " 32%|████████████████████████▋                                                    | 80/250 [01:17<02:39,  1.07it/s]"
     ]
    },
    {
     "name": "stdout",
     "output_type": "stream",
     "text": [
      "END OF EPOCH: 80 \tTraining loss per batch: 0.001451\n"
     ]
    },
    {
     "name": "stderr",
     "output_type": "stream",
     "text": [
      "\r",
      " 32%|████████████████████████▉                                                    | 81/250 [01:18<02:41,  1.05it/s]"
     ]
    },
    {
     "name": "stdout",
     "output_type": "stream",
     "text": [
      "END OF EPOCH: 81 \tTraining loss per batch: 0.001972\n"
     ]
    },
    {
     "name": "stderr",
     "output_type": "stream",
     "text": [
      "\r",
      " 33%|█████████████████████████▎                                                   | 82/250 [01:19<02:40,  1.05it/s]"
     ]
    },
    {
     "name": "stdout",
     "output_type": "stream",
     "text": [
      "END OF EPOCH: 82 \tTraining loss per batch: 0.002758\n"
     ]
    },
    {
     "name": "stderr",
     "output_type": "stream",
     "text": [
      "\r",
      " 33%|█████████████████████████▌                                                   | 83/250 [01:20<02:40,  1.04it/s]"
     ]
    },
    {
     "name": "stdout",
     "output_type": "stream",
     "text": [
      "END OF EPOCH: 83 \tTraining loss per batch: 0.002906\n"
     ]
    },
    {
     "name": "stderr",
     "output_type": "stream",
     "text": [
      "\r",
      " 34%|█████████████████████████▊                                                   | 84/250 [01:21<02:36,  1.06it/s]"
     ]
    },
    {
     "name": "stdout",
     "output_type": "stream",
     "text": [
      "END OF EPOCH: 84 \tTraining loss per batch: 0.002035\n"
     ]
    },
    {
     "name": "stderr",
     "output_type": "stream",
     "text": [
      "\r",
      " 34%|██████████████████████████▏                                                  | 85/250 [01:22<02:33,  1.07it/s]"
     ]
    },
    {
     "name": "stdout",
     "output_type": "stream",
     "text": [
      "END OF EPOCH: 85 \tTraining loss per batch: 0.001477\n"
     ]
    },
    {
     "name": "stderr",
     "output_type": "stream",
     "text": [
      "\r",
      " 34%|██████████████████████████▍                                                  | 86/250 [01:22<02:32,  1.08it/s]"
     ]
    },
    {
     "name": "stdout",
     "output_type": "stream",
     "text": [
      "END OF EPOCH: 86 \tTraining loss per batch: 0.001554\n"
     ]
    },
    {
     "name": "stderr",
     "output_type": "stream",
     "text": [
      "\r",
      " 35%|██████████████████████████▊                                                  | 87/250 [01:23<02:32,  1.07it/s]"
     ]
    },
    {
     "name": "stdout",
     "output_type": "stream",
     "text": [
      "END OF EPOCH: 87 \tTraining loss per batch: 0.001766\n"
     ]
    },
    {
     "name": "stderr",
     "output_type": "stream",
     "text": [
      "\r",
      " 35%|███████████████████████████                                                  | 88/250 [01:24<02:30,  1.07it/s]"
     ]
    },
    {
     "name": "stdout",
     "output_type": "stream",
     "text": [
      "END OF EPOCH: 88 \tTraining loss per batch: 0.001710\n"
     ]
    },
    {
     "name": "stderr",
     "output_type": "stream",
     "text": [
      "\r",
      " 36%|███████████████████████████▍                                                 | 89/250 [01:25<02:29,  1.08it/s]"
     ]
    },
    {
     "name": "stdout",
     "output_type": "stream",
     "text": [
      "END OF EPOCH: 89 \tTraining loss per batch: 0.002555\n"
     ]
    },
    {
     "name": "stderr",
     "output_type": "stream",
     "text": [
      "\r",
      " 36%|███████████████████████████▋                                                 | 90/250 [01:26<02:32,  1.05it/s]"
     ]
    },
    {
     "name": "stdout",
     "output_type": "stream",
     "text": [
      "END OF EPOCH: 90 \tTraining loss per batch: 0.001461\n"
     ]
    },
    {
     "name": "stderr",
     "output_type": "stream",
     "text": [
      "\r",
      " 36%|████████████████████████████                                                 | 91/250 [01:27<02:32,  1.04it/s]"
     ]
    },
    {
     "name": "stdout",
     "output_type": "stream",
     "text": [
      "END OF EPOCH: 91 \tTraining loss per batch: 0.002921\n"
     ]
    },
    {
     "name": "stderr",
     "output_type": "stream",
     "text": [
      "\r",
      " 37%|████████████████████████████▎                                                | 92/250 [01:28<02:32,  1.03it/s]"
     ]
    },
    {
     "name": "stdout",
     "output_type": "stream",
     "text": [
      "END OF EPOCH: 92 \tTraining loss per batch: 0.001592\n"
     ]
    },
    {
     "name": "stderr",
     "output_type": "stream",
     "text": [
      "\r",
      " 37%|████████████████████████████▋                                                | 93/250 [01:29<02:29,  1.05it/s]"
     ]
    },
    {
     "name": "stdout",
     "output_type": "stream",
     "text": [
      "END OF EPOCH: 93 \tTraining loss per batch: 0.001521\n"
     ]
    },
    {
     "name": "stderr",
     "output_type": "stream",
     "text": [
      "\r",
      " 38%|████████████████████████████▉                                                | 94/250 [01:30<02:28,  1.05it/s]"
     ]
    },
    {
     "name": "stdout",
     "output_type": "stream",
     "text": [
      "END OF EPOCH: 94 \tTraining loss per batch: 0.001946\n"
     ]
    },
    {
     "name": "stderr",
     "output_type": "stream",
     "text": [
      "\r",
      " 38%|█████████████████████████████▎                                               | 95/250 [01:31<02:29,  1.04it/s]"
     ]
    },
    {
     "name": "stdout",
     "output_type": "stream",
     "text": [
      "END OF EPOCH: 95 \tTraining loss per batch: 0.001637\n"
     ]
    },
    {
     "name": "stderr",
     "output_type": "stream",
     "text": [
      "\r",
      " 38%|█████████████████████████████▌                                               | 96/250 [01:32<02:30,  1.03it/s]"
     ]
    },
    {
     "name": "stdout",
     "output_type": "stream",
     "text": [
      "END OF EPOCH: 96 \tTraining loss per batch: 0.002140\n"
     ]
    },
    {
     "name": "stderr",
     "output_type": "stream",
     "text": [
      "\r",
      " 39%|█████████████████████████████▉                                               | 97/250 [01:33<02:26,  1.04it/s]"
     ]
    },
    {
     "name": "stdout",
     "output_type": "stream",
     "text": [
      "END OF EPOCH: 97 \tTraining loss per batch: 0.001814\n"
     ]
    },
    {
     "name": "stderr",
     "output_type": "stream",
     "text": [
      "\r",
      " 39%|██████████████████████████████▏                                              | 98/250 [01:34<02:24,  1.05it/s]"
     ]
    },
    {
     "name": "stdout",
     "output_type": "stream",
     "text": [
      "END OF EPOCH: 98 \tTraining loss per batch: 0.003165\n"
     ]
    },
    {
     "name": "stderr",
     "output_type": "stream",
     "text": [
      "\r",
      " 40%|██████████████████████████████▍                                              | 99/250 [01:35<02:22,  1.06it/s]"
     ]
    },
    {
     "name": "stdout",
     "output_type": "stream",
     "text": [
      "END OF EPOCH: 99 \tTraining loss per batch: 0.001896\n"
     ]
    },
    {
     "name": "stderr",
     "output_type": "stream",
     "text": [
      "\r",
      " 40%|██████████████████████████████▍                                             | 100/250 [01:36<02:21,  1.06it/s]"
     ]
    },
    {
     "name": "stdout",
     "output_type": "stream",
     "text": [
      "END OF EPOCH: 100 \tTraining loss per batch: 0.001344\n"
     ]
    },
    {
     "name": "stderr",
     "output_type": "stream",
     "text": [
      "\r",
      " 40%|██████████████████████████████▋                                             | 101/250 [01:37<02:22,  1.05it/s]"
     ]
    },
    {
     "name": "stdout",
     "output_type": "stream",
     "text": [
      "END OF EPOCH: 101 \tTraining loss per batch: 0.001856\n"
     ]
    },
    {
     "name": "stderr",
     "output_type": "stream",
     "text": [
      "\r",
      " 41%|███████████████████████████████                                             | 102/250 [01:38<02:20,  1.06it/s]"
     ]
    },
    {
     "name": "stdout",
     "output_type": "stream",
     "text": [
      "END OF EPOCH: 102 \tTraining loss per batch: 0.001465\n"
     ]
    },
    {
     "name": "stderr",
     "output_type": "stream",
     "text": [
      "\r",
      " 41%|███████████████████████████████▎                                            | 103/250 [01:39<02:17,  1.07it/s]"
     ]
    },
    {
     "name": "stdout",
     "output_type": "stream",
     "text": [
      "END OF EPOCH: 103 \tTraining loss per batch: 0.002067\n"
     ]
    },
    {
     "name": "stderr",
     "output_type": "stream",
     "text": [
      "\r",
      " 42%|███████████████████████████████▌                                            | 104/250 [01:40<02:17,  1.06it/s]"
     ]
    },
    {
     "name": "stdout",
     "output_type": "stream",
     "text": [
      "END OF EPOCH: 104 \tTraining loss per batch: 0.001777\n"
     ]
    },
    {
     "name": "stderr",
     "output_type": "stream",
     "text": [
      "\r",
      " 42%|███████████████████████████████▉                                            | 105/250 [01:40<02:15,  1.07it/s]"
     ]
    },
    {
     "name": "stdout",
     "output_type": "stream",
     "text": [
      "END OF EPOCH: 105 \tTraining loss per batch: 0.001399\n"
     ]
    },
    {
     "name": "stderr",
     "output_type": "stream",
     "text": [
      "\r",
      " 42%|████████████████████████████████▏                                           | 106/250 [01:41<02:16,  1.05it/s]"
     ]
    },
    {
     "name": "stdout",
     "output_type": "stream",
     "text": [
      "END OF EPOCH: 106 \tTraining loss per batch: 0.001633\n"
     ]
    },
    {
     "name": "stderr",
     "output_type": "stream",
     "text": [
      "\r",
      " 43%|████████████████████████████████▌                                           | 107/250 [01:42<02:12,  1.08it/s]"
     ]
    },
    {
     "name": "stdout",
     "output_type": "stream",
     "text": [
      "END OF EPOCH: 107 \tTraining loss per batch: 0.002104\n"
     ]
    },
    {
     "name": "stderr",
     "output_type": "stream",
     "text": [
      "\r",
      " 43%|████████████████████████████████▊                                           | 108/250 [01:43<02:12,  1.07it/s]"
     ]
    },
    {
     "name": "stdout",
     "output_type": "stream",
     "text": [
      "END OF EPOCH: 108 \tTraining loss per batch: 0.002001\n"
     ]
    },
    {
     "name": "stderr",
     "output_type": "stream",
     "text": [
      "\r",
      " 44%|█████████████████████████████████▏                                          | 109/250 [01:44<02:09,  1.09it/s]"
     ]
    },
    {
     "name": "stdout",
     "output_type": "stream",
     "text": [
      "END OF EPOCH: 109 \tTraining loss per batch: 0.001329\n"
     ]
    },
    {
     "name": "stderr",
     "output_type": "stream",
     "text": [
      "\r",
      " 44%|█████████████████████████████████▍                                          | 110/250 [01:45<02:10,  1.08it/s]"
     ]
    },
    {
     "name": "stdout",
     "output_type": "stream",
     "text": [
      "END OF EPOCH: 110 \tTraining loss per batch: 0.001210\n"
     ]
    },
    {
     "name": "stderr",
     "output_type": "stream",
     "text": [
      "\r",
      " 44%|█████████████████████████████████▋                                          | 111/250 [01:46<02:09,  1.07it/s]"
     ]
    },
    {
     "name": "stdout",
     "output_type": "stream",
     "text": [
      "END OF EPOCH: 111 \tTraining loss per batch: 0.001757\n"
     ]
    },
    {
     "name": "stderr",
     "output_type": "stream",
     "text": [
      "\r",
      " 45%|██████████████████████████████████                                          | 112/250 [01:47<02:09,  1.07it/s]"
     ]
    },
    {
     "name": "stdout",
     "output_type": "stream",
     "text": [
      "END OF EPOCH: 112 \tTraining loss per batch: 0.001473\n"
     ]
    },
    {
     "name": "stderr",
     "output_type": "stream",
     "text": [
      "\r",
      " 45%|██████████████████████████████████▎                                         | 113/250 [01:48<02:09,  1.06it/s]"
     ]
    },
    {
     "name": "stdout",
     "output_type": "stream",
     "text": [
      "END OF EPOCH: 113 \tTraining loss per batch: 0.001571\n"
     ]
    },
    {
     "name": "stderr",
     "output_type": "stream",
     "text": [
      "\r",
      " 46%|██████████████████████████████████▋                                         | 114/250 [01:49<02:07,  1.07it/s]"
     ]
    },
    {
     "name": "stdout",
     "output_type": "stream",
     "text": [
      "END OF EPOCH: 114 \tTraining loss per batch: 0.001643\n"
     ]
    },
    {
     "name": "stderr",
     "output_type": "stream",
     "text": [
      "\r",
      " 46%|██████████████████████████████████▉                                         | 115/250 [01:50<02:08,  1.05it/s]"
     ]
    },
    {
     "name": "stdout",
     "output_type": "stream",
     "text": [
      "END OF EPOCH: 115 \tTraining loss per batch: 0.002099\n"
     ]
    },
    {
     "name": "stderr",
     "output_type": "stream",
     "text": [
      "\r",
      " 46%|███████████████████████████████████▎                                        | 116/250 [01:51<02:08,  1.05it/s]"
     ]
    },
    {
     "name": "stdout",
     "output_type": "stream",
     "text": [
      "END OF EPOCH: 116 \tTraining loss per batch: 0.001550\n"
     ]
    },
    {
     "name": "stderr",
     "output_type": "stream",
     "text": [
      "\r",
      " 47%|███████████████████████████████████▌                                        | 117/250 [01:52<02:06,  1.05it/s]"
     ]
    },
    {
     "name": "stdout",
     "output_type": "stream",
     "text": [
      "END OF EPOCH: 117 \tTraining loss per batch: 0.001960\n"
     ]
    },
    {
     "name": "stderr",
     "output_type": "stream",
     "text": [
      "\r",
      " 47%|███████████████████████████████████▊                                        | 118/250 [01:53<02:05,  1.05it/s]"
     ]
    },
    {
     "name": "stdout",
     "output_type": "stream",
     "text": [
      "END OF EPOCH: 118 \tTraining loss per batch: 0.001138\n"
     ]
    },
    {
     "name": "stderr",
     "output_type": "stream",
     "text": [
      "\r",
      " 48%|████████████████████████████████████▏                                       | 119/250 [01:54<02:03,  1.06it/s]"
     ]
    },
    {
     "name": "stdout",
     "output_type": "stream",
     "text": [
      "END OF EPOCH: 119 \tTraining loss per batch: 0.001702\n"
     ]
    },
    {
     "name": "stderr",
     "output_type": "stream",
     "text": [
      "\r",
      " 48%|████████████████████████████████████▍                                       | 120/250 [01:55<02:05,  1.04it/s]"
     ]
    },
    {
     "name": "stdout",
     "output_type": "stream",
     "text": [
      "END OF EPOCH: 120 \tTraining loss per batch: 0.001298\n"
     ]
    },
    {
     "name": "stderr",
     "output_type": "stream",
     "text": [
      "\r",
      " 48%|████████████████████████████████████▊                                       | 121/250 [01:56<02:03,  1.04it/s]"
     ]
    },
    {
     "name": "stdout",
     "output_type": "stream",
     "text": [
      "END OF EPOCH: 121 \tTraining loss per batch: 0.001482\n"
     ]
    },
    {
     "name": "stderr",
     "output_type": "stream",
     "text": [
      "\r",
      " 49%|█████████████████████████████████████                                       | 122/250 [01:57<02:01,  1.05it/s]"
     ]
    },
    {
     "name": "stdout",
     "output_type": "stream",
     "text": [
      "END OF EPOCH: 122 \tTraining loss per batch: 0.001357\n"
     ]
    },
    {
     "name": "stderr",
     "output_type": "stream",
     "text": [
      "\r",
      " 49%|█████████████████████████████████████▍                                      | 123/250 [01:57<02:00,  1.05it/s]"
     ]
    },
    {
     "name": "stdout",
     "output_type": "stream",
     "text": [
      "END OF EPOCH: 123 \tTraining loss per batch: 0.001423\n"
     ]
    },
    {
     "name": "stderr",
     "output_type": "stream",
     "text": [
      "\r",
      " 50%|█████████████████████████████████████▋                                      | 124/250 [01:58<01:57,  1.07it/s]"
     ]
    },
    {
     "name": "stdout",
     "output_type": "stream",
     "text": [
      "END OF EPOCH: 124 \tTraining loss per batch: 0.001171\n"
     ]
    },
    {
     "name": "stderr",
     "output_type": "stream",
     "text": [
      "\r",
      " 50%|██████████████████████████████████████                                      | 125/250 [01:59<01:56,  1.08it/s]"
     ]
    },
    {
     "name": "stdout",
     "output_type": "stream",
     "text": [
      "END OF EPOCH: 125 \tTraining loss per batch: 0.002006\n"
     ]
    },
    {
     "name": "stderr",
     "output_type": "stream",
     "text": [
      "\r",
      " 50%|██████████████████████████████████████▎                                     | 126/250 [02:00<01:54,  1.09it/s]"
     ]
    },
    {
     "name": "stdout",
     "output_type": "stream",
     "text": [
      "END OF EPOCH: 126 \tTraining loss per batch: 0.001227\n"
     ]
    },
    {
     "name": "stderr",
     "output_type": "stream",
     "text": [
      "\r",
      " 51%|██████████████████████████████████████▌                                     | 127/250 [02:01<01:55,  1.06it/s]"
     ]
    },
    {
     "name": "stdout",
     "output_type": "stream",
     "text": [
      "END OF EPOCH: 127 \tTraining loss per batch: 0.001389\n"
     ]
    },
    {
     "name": "stderr",
     "output_type": "stream",
     "text": [
      "\r",
      " 51%|██████████████████████████████████████▉                                     | 128/250 [02:02<01:54,  1.07it/s]"
     ]
    },
    {
     "name": "stdout",
     "output_type": "stream",
     "text": [
      "END OF EPOCH: 128 \tTraining loss per batch: 0.001062\n"
     ]
    },
    {
     "name": "stderr",
     "output_type": "stream",
     "text": [
      "\r",
      " 52%|███████████████████████████████████████▏                                    | 129/250 [02:03<01:53,  1.07it/s]"
     ]
    },
    {
     "name": "stdout",
     "output_type": "stream",
     "text": [
      "END OF EPOCH: 129 \tTraining loss per batch: 0.001454\n"
     ]
    },
    {
     "name": "stderr",
     "output_type": "stream",
     "text": [
      "\r",
      " 52%|███████████████████████████████████████▌                                    | 130/250 [02:04<01:52,  1.07it/s]"
     ]
    },
    {
     "name": "stdout",
     "output_type": "stream",
     "text": [
      "END OF EPOCH: 130 \tTraining loss per batch: 0.001689\n"
     ]
    },
    {
     "name": "stderr",
     "output_type": "stream",
     "text": [
      "\r",
      " 52%|███████████████████████████████████████▊                                    | 131/250 [02:05<01:50,  1.08it/s]"
     ]
    },
    {
     "name": "stdout",
     "output_type": "stream",
     "text": [
      "END OF EPOCH: 131 \tTraining loss per batch: 0.002871\n"
     ]
    },
    {
     "name": "stderr",
     "output_type": "stream",
     "text": [
      "\r",
      " 53%|████████████████████████████████████████▏                                   | 132/250 [02:06<01:50,  1.07it/s]"
     ]
    },
    {
     "name": "stdout",
     "output_type": "stream",
     "text": [
      "END OF EPOCH: 132 \tTraining loss per batch: 0.001559\n"
     ]
    },
    {
     "name": "stderr",
     "output_type": "stream",
     "text": [
      "\r",
      " 53%|████████████████████████████████████████▍                                   | 133/250 [02:07<01:48,  1.07it/s]"
     ]
    },
    {
     "name": "stdout",
     "output_type": "stream",
     "text": [
      "END OF EPOCH: 133 \tTraining loss per batch: 0.001548\n"
     ]
    },
    {
     "name": "stderr",
     "output_type": "stream",
     "text": [
      "\r",
      " 54%|████████████████████████████████████████▋                                   | 134/250 [02:08<01:47,  1.08it/s]"
     ]
    },
    {
     "name": "stdout",
     "output_type": "stream",
     "text": [
      "END OF EPOCH: 134 \tTraining loss per batch: 0.001611\n"
     ]
    },
    {
     "name": "stderr",
     "output_type": "stream",
     "text": [
      "\r",
      " 54%|█████████████████████████████████████████                                   | 135/250 [02:09<01:46,  1.08it/s]"
     ]
    },
    {
     "name": "stdout",
     "output_type": "stream",
     "text": [
      "END OF EPOCH: 135 \tTraining loss per batch: 0.002244\n"
     ]
    },
    {
     "name": "stderr",
     "output_type": "stream",
     "text": [
      "\r",
      " 54%|█████████████████████████████████████████▎                                  | 136/250 [02:10<01:46,  1.07it/s]"
     ]
    },
    {
     "name": "stdout",
     "output_type": "stream",
     "text": [
      "END OF EPOCH: 136 \tTraining loss per batch: 0.001108\n"
     ]
    },
    {
     "name": "stderr",
     "output_type": "stream",
     "text": [
      "\r",
      " 55%|█████████████████████████████████████████▋                                  | 137/250 [02:10<01:45,  1.08it/s]"
     ]
    },
    {
     "name": "stdout",
     "output_type": "stream",
     "text": [
      "END OF EPOCH: 137 \tTraining loss per batch: 0.001179\n"
     ]
    },
    {
     "name": "stderr",
     "output_type": "stream",
     "text": [
      "\r",
      " 55%|█████████████████████████████████████████▉                                  | 138/250 [02:11<01:45,  1.07it/s]"
     ]
    },
    {
     "name": "stdout",
     "output_type": "stream",
     "text": [
      "END OF EPOCH: 138 \tTraining loss per batch: 0.001253\n"
     ]
    },
    {
     "name": "stderr",
     "output_type": "stream",
     "text": [
      "\r",
      " 56%|██████████████████████████████████████████▎                                 | 139/250 [02:12<01:43,  1.07it/s]"
     ]
    },
    {
     "name": "stdout",
     "output_type": "stream",
     "text": [
      "END OF EPOCH: 139 \tTraining loss per batch: 0.001905\n"
     ]
    },
    {
     "name": "stderr",
     "output_type": "stream",
     "text": [
      "\r",
      " 56%|██████████████████████████████████████████▌                                 | 140/250 [02:13<01:43,  1.06it/s]"
     ]
    },
    {
     "name": "stdout",
     "output_type": "stream",
     "text": [
      "END OF EPOCH: 140 \tTraining loss per batch: 0.002143\n"
     ]
    },
    {
     "name": "stderr",
     "output_type": "stream",
     "text": [
      "\r",
      " 56%|██████████████████████████████████████████▊                                 | 141/250 [02:14<01:41,  1.08it/s]"
     ]
    },
    {
     "name": "stdout",
     "output_type": "stream",
     "text": [
      "END OF EPOCH: 141 \tTraining loss per batch: 0.001457\n"
     ]
    },
    {
     "name": "stderr",
     "output_type": "stream",
     "text": [
      "\r",
      " 57%|███████████████████████████████████████████▏                                | 142/250 [02:15<01:40,  1.07it/s]"
     ]
    },
    {
     "name": "stdout",
     "output_type": "stream",
     "text": [
      "END OF EPOCH: 142 \tTraining loss per batch: 0.001353\n"
     ]
    },
    {
     "name": "stderr",
     "output_type": "stream",
     "text": [
      "\r",
      " 57%|███████████████████████████████████████████▍                                | 143/250 [02:16<01:40,  1.06it/s]"
     ]
    },
    {
     "name": "stdout",
     "output_type": "stream",
     "text": [
      "END OF EPOCH: 143 \tTraining loss per batch: 0.001356\n"
     ]
    },
    {
     "name": "stderr",
     "output_type": "stream",
     "text": [
      "\r",
      " 58%|███████████████████████████████████████████▊                                | 144/250 [02:17<01:39,  1.07it/s]"
     ]
    },
    {
     "name": "stdout",
     "output_type": "stream",
     "text": [
      "END OF EPOCH: 144 \tTraining loss per batch: 0.001292\n"
     ]
    },
    {
     "name": "stderr",
     "output_type": "stream",
     "text": [
      "\r",
      " 58%|████████████████████████████████████████████                                | 145/250 [02:18<01:39,  1.06it/s]"
     ]
    },
    {
     "name": "stdout",
     "output_type": "stream",
     "text": [
      "END OF EPOCH: 145 \tTraining loss per batch: 0.001071\n"
     ]
    },
    {
     "name": "stderr",
     "output_type": "stream",
     "text": [
      "\r",
      " 58%|████████████████████████████████████████████▍                               | 146/250 [02:19<01:38,  1.06it/s]"
     ]
    },
    {
     "name": "stdout",
     "output_type": "stream",
     "text": [
      "END OF EPOCH: 146 \tTraining loss per batch: 0.001077\n"
     ]
    },
    {
     "name": "stderr",
     "output_type": "stream",
     "text": [
      "\r",
      " 59%|████████████████████████████████████████████▋                               | 147/250 [02:20<01:37,  1.06it/s]"
     ]
    },
    {
     "name": "stdout",
     "output_type": "stream",
     "text": [
      "END OF EPOCH: 147 \tTraining loss per batch: 0.001115\n"
     ]
    },
    {
     "name": "stderr",
     "output_type": "stream",
     "text": [
      "\r",
      " 59%|████████████████████████████████████████████▉                               | 148/250 [02:21<01:38,  1.04it/s]"
     ]
    },
    {
     "name": "stdout",
     "output_type": "stream",
     "text": [
      "END OF EPOCH: 148 \tTraining loss per batch: 0.001041\n"
     ]
    },
    {
     "name": "stderr",
     "output_type": "stream",
     "text": [
      "\r",
      " 60%|█████████████████████████████████████████████▎                              | 149/250 [02:22<01:36,  1.05it/s]"
     ]
    },
    {
     "name": "stdout",
     "output_type": "stream",
     "text": [
      "END OF EPOCH: 149 \tTraining loss per batch: 0.001348\n"
     ]
    },
    {
     "name": "stderr",
     "output_type": "stream",
     "text": [
      "\r",
      " 60%|█████████████████████████████████████████████▌                              | 150/250 [02:23<01:35,  1.04it/s]"
     ]
    },
    {
     "name": "stdout",
     "output_type": "stream",
     "text": [
      "END OF EPOCH: 150 \tTraining loss per batch: 0.001741\n"
     ]
    },
    {
     "name": "stderr",
     "output_type": "stream",
     "text": [
      "\r",
      " 60%|█████████████████████████████████████████████▉                              | 151/250 [02:24<01:33,  1.06it/s]"
     ]
    },
    {
     "name": "stdout",
     "output_type": "stream",
     "text": [
      "END OF EPOCH: 151 \tTraining loss per batch: 0.001517\n"
     ]
    },
    {
     "name": "stderr",
     "output_type": "stream",
     "text": [
      "\r",
      " 61%|██████████████████████████████████████████████▏                             | 152/250 [02:25<01:32,  1.06it/s]"
     ]
    },
    {
     "name": "stdout",
     "output_type": "stream",
     "text": [
      "END OF EPOCH: 152 \tTraining loss per batch: 0.002453\n"
     ]
    },
    {
     "name": "stderr",
     "output_type": "stream",
     "text": [
      "\r",
      " 61%|██████████████████████████████████████████████▌                             | 153/250 [02:26<01:31,  1.06it/s]"
     ]
    },
    {
     "name": "stdout",
     "output_type": "stream",
     "text": [
      "END OF EPOCH: 153 \tTraining loss per batch: 0.001248\n"
     ]
    },
    {
     "name": "stderr",
     "output_type": "stream",
     "text": [
      "\r",
      " 62%|██████████████████████████████████████████████▊                             | 154/250 [02:27<01:29,  1.07it/s]"
     ]
    },
    {
     "name": "stdout",
     "output_type": "stream",
     "text": [
      "END OF EPOCH: 154 \tTraining loss per batch: 0.001712\n"
     ]
    },
    {
     "name": "stderr",
     "output_type": "stream",
     "text": [
      "\r",
      " 62%|███████████████████████████████████████████████                             | 155/250 [02:27<01:27,  1.08it/s]"
     ]
    },
    {
     "name": "stdout",
     "output_type": "stream",
     "text": [
      "END OF EPOCH: 155 \tTraining loss per batch: 0.001139\n"
     ]
    },
    {
     "name": "stderr",
     "output_type": "stream",
     "text": [
      "\r",
      " 62%|███████████████████████████████████████████████▍                            | 156/250 [02:28<01:26,  1.08it/s]"
     ]
    },
    {
     "name": "stdout",
     "output_type": "stream",
     "text": [
      "END OF EPOCH: 156 \tTraining loss per batch: 0.001206\n"
     ]
    },
    {
     "name": "stderr",
     "output_type": "stream",
     "text": [
      "\r",
      " 63%|███████████████████████████████████████████████▋                            | 157/250 [02:29<01:26,  1.07it/s]"
     ]
    },
    {
     "name": "stdout",
     "output_type": "stream",
     "text": [
      "END OF EPOCH: 157 \tTraining loss per batch: 0.001455\n"
     ]
    },
    {
     "name": "stderr",
     "output_type": "stream",
     "text": [
      "\r",
      " 63%|████████████████████████████████████████████████                            | 158/250 [02:30<01:25,  1.08it/s]"
     ]
    },
    {
     "name": "stdout",
     "output_type": "stream",
     "text": [
      "END OF EPOCH: 158 \tTraining loss per batch: 0.001274\n"
     ]
    },
    {
     "name": "stderr",
     "output_type": "stream",
     "text": [
      "\r",
      " 64%|████████████████████████████████████████████████▎                           | 159/250 [02:31<01:26,  1.05it/s]"
     ]
    },
    {
     "name": "stdout",
     "output_type": "stream",
     "text": [
      "END OF EPOCH: 159 \tTraining loss per batch: 0.001431\n"
     ]
    },
    {
     "name": "stderr",
     "output_type": "stream",
     "text": [
      "\r",
      " 64%|████████████████████████████████████████████████▋                           | 160/250 [02:32<01:26,  1.04it/s]"
     ]
    },
    {
     "name": "stdout",
     "output_type": "stream",
     "text": [
      "END OF EPOCH: 160 \tTraining loss per batch: 0.001366\n"
     ]
    },
    {
     "name": "stderr",
     "output_type": "stream",
     "text": [
      "\r",
      " 64%|████████████████████████████████████████████████▉                           | 161/250 [02:33<01:24,  1.06it/s]"
     ]
    },
    {
     "name": "stdout",
     "output_type": "stream",
     "text": [
      "END OF EPOCH: 161 \tTraining loss per batch: 0.001689\n"
     ]
    },
    {
     "name": "stderr",
     "output_type": "stream",
     "text": [
      "\r",
      " 65%|█████████████████████████████████████████████████▏                          | 162/250 [02:34<01:22,  1.07it/s]"
     ]
    },
    {
     "name": "stdout",
     "output_type": "stream",
     "text": [
      "END OF EPOCH: 162 \tTraining loss per batch: 0.001867\n"
     ]
    },
    {
     "name": "stderr",
     "output_type": "stream",
     "text": [
      "\r",
      " 65%|█████████████████████████████████████████████████▌                          | 163/250 [02:35<01:21,  1.07it/s]"
     ]
    },
    {
     "name": "stdout",
     "output_type": "stream",
     "text": [
      "END OF EPOCH: 163 \tTraining loss per batch: 0.001279\n"
     ]
    },
    {
     "name": "stderr",
     "output_type": "stream",
     "text": [
      "\r",
      " 66%|█████████████████████████████████████████████████▊                          | 164/250 [02:36<01:19,  1.08it/s]"
     ]
    },
    {
     "name": "stdout",
     "output_type": "stream",
     "text": [
      "END OF EPOCH: 164 \tTraining loss per batch: 0.001281\n"
     ]
    },
    {
     "name": "stderr",
     "output_type": "stream",
     "text": [
      "\r",
      " 66%|██████████████████████████████████████████████████▏                         | 165/250 [02:37<01:18,  1.08it/s]"
     ]
    },
    {
     "name": "stdout",
     "output_type": "stream",
     "text": [
      "END OF EPOCH: 165 \tTraining loss per batch: 0.001287\n"
     ]
    },
    {
     "name": "stderr",
     "output_type": "stream",
     "text": [
      "\r",
      " 66%|██████████████████████████████████████████████████▍                         | 166/250 [02:38<01:18,  1.07it/s]"
     ]
    },
    {
     "name": "stdout",
     "output_type": "stream",
     "text": [
      "END OF EPOCH: 166 \tTraining loss per batch: 0.001307\n"
     ]
    },
    {
     "name": "stderr",
     "output_type": "stream",
     "text": [
      "\r",
      " 67%|██████████████████████████████████████████████████▊                         | 167/250 [02:39<01:18,  1.06it/s]"
     ]
    },
    {
     "name": "stdout",
     "output_type": "stream",
     "text": [
      "END OF EPOCH: 167 \tTraining loss per batch: 0.001408\n"
     ]
    },
    {
     "name": "stderr",
     "output_type": "stream",
     "text": [
      "\r",
      " 67%|███████████████████████████████████████████████████                         | 168/250 [02:40<01:16,  1.07it/s]"
     ]
    },
    {
     "name": "stdout",
     "output_type": "stream",
     "text": [
      "END OF EPOCH: 168 \tTraining loss per batch: 0.002130\n"
     ]
    },
    {
     "name": "stderr",
     "output_type": "stream",
     "text": [
      "\r",
      " 68%|███████████████████████████████████████████████████▍                        | 169/250 [02:41<01:14,  1.08it/s]"
     ]
    },
    {
     "name": "stdout",
     "output_type": "stream",
     "text": [
      "END OF EPOCH: 169 \tTraining loss per batch: 0.001254\n"
     ]
    },
    {
     "name": "stderr",
     "output_type": "stream",
     "text": [
      "\r",
      " 68%|███████████████████████████████████████████████████▋                        | 170/250 [02:41<01:14,  1.07it/s]"
     ]
    },
    {
     "name": "stdout",
     "output_type": "stream",
     "text": [
      "END OF EPOCH: 170 \tTraining loss per batch: 0.001110\n"
     ]
    },
    {
     "name": "stderr",
     "output_type": "stream",
     "text": [
      "\r",
      " 68%|███████████████████████████████████████████████████▉                        | 171/250 [02:42<01:13,  1.07it/s]"
     ]
    },
    {
     "name": "stdout",
     "output_type": "stream",
     "text": [
      "END OF EPOCH: 171 \tTraining loss per batch: 0.001447\n"
     ]
    },
    {
     "name": "stderr",
     "output_type": "stream",
     "text": [
      "\r",
      " 69%|████████████████████████████████████████████████████▎                       | 172/250 [02:43<01:13,  1.06it/s]"
     ]
    },
    {
     "name": "stdout",
     "output_type": "stream",
     "text": [
      "END OF EPOCH: 172 \tTraining loss per batch: 0.001124\n"
     ]
    },
    {
     "name": "stderr",
     "output_type": "stream",
     "text": [
      "\r",
      " 69%|████████████████████████████████████████████████████▌                       | 173/250 [02:44<01:12,  1.06it/s]"
     ]
    },
    {
     "name": "stdout",
     "output_type": "stream",
     "text": [
      "END OF EPOCH: 173 \tTraining loss per batch: 0.001812\n"
     ]
    },
    {
     "name": "stderr",
     "output_type": "stream",
     "text": [
      "\r",
      " 70%|████████████████████████████████████████████████████▉                       | 174/250 [02:45<01:12,  1.05it/s]"
     ]
    },
    {
     "name": "stdout",
     "output_type": "stream",
     "text": [
      "END OF EPOCH: 174 \tTraining loss per batch: 0.001285\n"
     ]
    },
    {
     "name": "stderr",
     "output_type": "stream",
     "text": [
      "\r",
      " 70%|█████████████████████████████████████████████████████▏                      | 175/250 [02:46<01:12,  1.03it/s]"
     ]
    },
    {
     "name": "stdout",
     "output_type": "stream",
     "text": [
      "END OF EPOCH: 175 \tTraining loss per batch: 0.001091\n"
     ]
    },
    {
     "name": "stderr",
     "output_type": "stream",
     "text": [
      "\r",
      " 70%|█████████████████████████████████████████████████████▌                      | 176/250 [02:47<01:11,  1.04it/s]"
     ]
    },
    {
     "name": "stdout",
     "output_type": "stream",
     "text": [
      "END OF EPOCH: 176 \tTraining loss per batch: 0.001303\n"
     ]
    },
    {
     "name": "stderr",
     "output_type": "stream",
     "text": [
      "\r",
      " 71%|█████████████████████████████████████████████████████▊                      | 177/250 [02:48<01:09,  1.05it/s]"
     ]
    },
    {
     "name": "stdout",
     "output_type": "stream",
     "text": [
      "END OF EPOCH: 177 \tTraining loss per batch: 0.001579\n"
     ]
    },
    {
     "name": "stderr",
     "output_type": "stream",
     "text": [
      "\r",
      " 71%|██████████████████████████████████████████████████████                      | 178/250 [02:49<01:08,  1.05it/s]"
     ]
    },
    {
     "name": "stdout",
     "output_type": "stream",
     "text": [
      "END OF EPOCH: 178 \tTraining loss per batch: 0.001050\n"
     ]
    },
    {
     "name": "stderr",
     "output_type": "stream",
     "text": [
      "\r",
      " 72%|██████████████████████████████████████████████████████▍                     | 179/250 [02:50<01:08,  1.04it/s]"
     ]
    },
    {
     "name": "stdout",
     "output_type": "stream",
     "text": [
      "END OF EPOCH: 179 \tTraining loss per batch: 0.001196\n"
     ]
    },
    {
     "name": "stderr",
     "output_type": "stream",
     "text": [
      "\r",
      " 72%|██████████████████████████████████████████████████████▋                     | 180/250 [02:51<01:06,  1.05it/s]"
     ]
    },
    {
     "name": "stdout",
     "output_type": "stream",
     "text": [
      "END OF EPOCH: 180 \tTraining loss per batch: 0.001910\n"
     ]
    },
    {
     "name": "stderr",
     "output_type": "stream",
     "text": [
      "\r",
      " 72%|███████████████████████████████████████████████████████                     | 181/250 [02:52<01:05,  1.06it/s]"
     ]
    },
    {
     "name": "stdout",
     "output_type": "stream",
     "text": [
      "END OF EPOCH: 181 \tTraining loss per batch: 0.000952\n"
     ]
    },
    {
     "name": "stderr",
     "output_type": "stream",
     "text": [
      "\r",
      " 73%|███████████████████████████████████████████████████████▎                    | 182/250 [02:53<01:04,  1.06it/s]"
     ]
    },
    {
     "name": "stdout",
     "output_type": "stream",
     "text": [
      "END OF EPOCH: 182 \tTraining loss per batch: 0.001095\n"
     ]
    },
    {
     "name": "stderr",
     "output_type": "stream",
     "text": [
      "\r",
      " 73%|███████████████████████████████████████████████████████▋                    | 183/250 [02:54<01:03,  1.06it/s]"
     ]
    },
    {
     "name": "stdout",
     "output_type": "stream",
     "text": [
      "END OF EPOCH: 183 \tTraining loss per batch: 0.001050\n"
     ]
    },
    {
     "name": "stderr",
     "output_type": "stream",
     "text": [
      "\r",
      " 74%|███████████████████████████████████████████████████████▉                    | 184/250 [02:55<01:03,  1.04it/s]"
     ]
    },
    {
     "name": "stdout",
     "output_type": "stream",
     "text": [
      "END OF EPOCH: 184 \tTraining loss per batch: 0.001314\n"
     ]
    },
    {
     "name": "stderr",
     "output_type": "stream",
     "text": [
      "\r",
      " 74%|████████████████████████████████████████████████████████▏                   | 185/250 [02:56<01:01,  1.05it/s]"
     ]
    },
    {
     "name": "stdout",
     "output_type": "stream",
     "text": [
      "END OF EPOCH: 185 \tTraining loss per batch: 0.001579\n"
     ]
    },
    {
     "name": "stderr",
     "output_type": "stream",
     "text": [
      "\r",
      " 74%|████████████████████████████████████████████████████████▌                   | 186/250 [02:57<01:00,  1.05it/s]"
     ]
    },
    {
     "name": "stdout",
     "output_type": "stream",
     "text": [
      "END OF EPOCH: 186 \tTraining loss per batch: 0.001351\n"
     ]
    },
    {
     "name": "stderr",
     "output_type": "stream",
     "text": [
      "\r",
      " 75%|████████████████████████████████████████████████████████▊                   | 187/250 [02:58<00:59,  1.05it/s]"
     ]
    },
    {
     "name": "stdout",
     "output_type": "stream",
     "text": [
      "END OF EPOCH: 187 \tTraining loss per batch: 0.001809\n"
     ]
    },
    {
     "name": "stderr",
     "output_type": "stream",
     "text": [
      "\r",
      " 75%|█████████████████████████████████████████████████████████▏                  | 188/250 [02:59<00:58,  1.06it/s]"
     ]
    },
    {
     "name": "stdout",
     "output_type": "stream",
     "text": [
      "END OF EPOCH: 188 \tTraining loss per batch: 0.002320\n"
     ]
    },
    {
     "name": "stderr",
     "output_type": "stream",
     "text": [
      "\r",
      " 76%|█████████████████████████████████████████████████████████▍                  | 189/250 [03:00<00:57,  1.05it/s]"
     ]
    },
    {
     "name": "stdout",
     "output_type": "stream",
     "text": [
      "END OF EPOCH: 189 \tTraining loss per batch: 0.001300\n"
     ]
    },
    {
     "name": "stderr",
     "output_type": "stream",
     "text": [
      "\r",
      " 76%|█████████████████████████████████████████████████████████▊                  | 190/250 [03:01<00:56,  1.06it/s]"
     ]
    },
    {
     "name": "stdout",
     "output_type": "stream",
     "text": [
      "END OF EPOCH: 190 \tTraining loss per batch: 0.000968\n"
     ]
    },
    {
     "name": "stderr",
     "output_type": "stream",
     "text": [
      "\r",
      " 76%|██████████████████████████████████████████████████████████                  | 191/250 [03:01<00:56,  1.05it/s]"
     ]
    },
    {
     "name": "stdout",
     "output_type": "stream",
     "text": [
      "END OF EPOCH: 191 \tTraining loss per batch: 0.002208\n"
     ]
    },
    {
     "name": "stderr",
     "output_type": "stream",
     "text": [
      "\r",
      " 77%|██████████████████████████████████████████████████████████▎                 | 192/250 [03:02<00:54,  1.06it/s]"
     ]
    },
    {
     "name": "stdout",
     "output_type": "stream",
     "text": [
      "END OF EPOCH: 192 \tTraining loss per batch: 0.001216\n"
     ]
    },
    {
     "name": "stderr",
     "output_type": "stream",
     "text": [
      "\r",
      " 77%|██████████████████████████████████████████████████████████▋                 | 193/250 [03:03<00:53,  1.06it/s]"
     ]
    },
    {
     "name": "stdout",
     "output_type": "stream",
     "text": [
      "END OF EPOCH: 193 \tTraining loss per batch: 0.001243\n"
     ]
    },
    {
     "name": "stderr",
     "output_type": "stream",
     "text": [
      "\r",
      " 78%|██████████████████████████████████████████████████████████▉                 | 194/250 [03:04<00:52,  1.07it/s]"
     ]
    },
    {
     "name": "stdout",
     "output_type": "stream",
     "text": [
      "END OF EPOCH: 194 \tTraining loss per batch: 0.000863\n"
     ]
    },
    {
     "name": "stderr",
     "output_type": "stream",
     "text": [
      "\r",
      " 78%|███████████████████████████████████████████████████████████▎                | 195/250 [03:05<00:51,  1.07it/s]"
     ]
    },
    {
     "name": "stdout",
     "output_type": "stream",
     "text": [
      "END OF EPOCH: 195 \tTraining loss per batch: 0.001557\n"
     ]
    },
    {
     "name": "stderr",
     "output_type": "stream",
     "text": [
      "\r",
      " 78%|███████████████████████████████████████████████████████████▌                | 196/250 [03:06<00:50,  1.08it/s]"
     ]
    },
    {
     "name": "stdout",
     "output_type": "stream",
     "text": [
      "END OF EPOCH: 196 \tTraining loss per batch: 0.001434\n"
     ]
    },
    {
     "name": "stderr",
     "output_type": "stream",
     "text": [
      "\r",
      " 79%|███████████████████████████████████████████████████████████▉                | 197/250 [03:07<00:49,  1.07it/s]"
     ]
    },
    {
     "name": "stdout",
     "output_type": "stream",
     "text": [
      "END OF EPOCH: 197 \tTraining loss per batch: 0.001689\n"
     ]
    },
    {
     "name": "stderr",
     "output_type": "stream",
     "text": [
      "\r",
      " 79%|████████████████████████████████████████████████████████████▏               | 198/250 [03:08<00:49,  1.06it/s]"
     ]
    },
    {
     "name": "stdout",
     "output_type": "stream",
     "text": [
      "END OF EPOCH: 198 \tTraining loss per batch: 0.001545\n"
     ]
    },
    {
     "name": "stderr",
     "output_type": "stream",
     "text": [
      "\r",
      " 80%|████████████████████████████████████████████████████████████▍               | 199/250 [03:09<00:48,  1.04it/s]"
     ]
    },
    {
     "name": "stdout",
     "output_type": "stream",
     "text": [
      "END OF EPOCH: 199 \tTraining loss per batch: 0.001333\n"
     ]
    },
    {
     "name": "stderr",
     "output_type": "stream",
     "text": [
      "\r",
      " 80%|████████████████████████████████████████████████████████████▊               | 200/250 [03:10<00:47,  1.04it/s]"
     ]
    },
    {
     "name": "stdout",
     "output_type": "stream",
     "text": [
      "END OF EPOCH: 200 \tTraining loss per batch: 0.001212\n"
     ]
    },
    {
     "name": "stderr",
     "output_type": "stream",
     "text": [
      "\r",
      " 80%|█████████████████████████████████████████████████████████████               | 201/250 [03:11<00:46,  1.05it/s]"
     ]
    },
    {
     "name": "stdout",
     "output_type": "stream",
     "text": [
      "END OF EPOCH: 201 \tTraining loss per batch: 0.000974\n"
     ]
    },
    {
     "name": "stderr",
     "output_type": "stream",
     "text": [
      "\r",
      " 81%|█████████████████████████████████████████████████████████████▍              | 202/250 [03:12<00:45,  1.07it/s]"
     ]
    },
    {
     "name": "stdout",
     "output_type": "stream",
     "text": [
      "END OF EPOCH: 202 \tTraining loss per batch: 0.001413\n"
     ]
    },
    {
     "name": "stderr",
     "output_type": "stream",
     "text": [
      "\r",
      " 81%|█████████████████████████████████████████████████████████████▋              | 203/250 [03:13<00:43,  1.07it/s]"
     ]
    },
    {
     "name": "stdout",
     "output_type": "stream",
     "text": [
      "END OF EPOCH: 203 \tTraining loss per batch: 0.001207\n"
     ]
    },
    {
     "name": "stderr",
     "output_type": "stream",
     "text": [
      "\r",
      " 82%|██████████████████████████████████████████████████████████████              | 204/250 [03:14<00:43,  1.07it/s]"
     ]
    },
    {
     "name": "stdout",
     "output_type": "stream",
     "text": [
      "END OF EPOCH: 204 \tTraining loss per batch: 0.000931\n"
     ]
    },
    {
     "name": "stderr",
     "output_type": "stream",
     "text": [
      "\r",
      " 82%|██████████████████████████████████████████████████████████████▎             | 205/250 [03:15<00:42,  1.06it/s]"
     ]
    },
    {
     "name": "stdout",
     "output_type": "stream",
     "text": [
      "END OF EPOCH: 205 \tTraining loss per batch: 0.001239\n"
     ]
    },
    {
     "name": "stderr",
     "output_type": "stream",
     "text": [
      "\r",
      " 82%|██████████████████████████████████████████████████████████████▌             | 206/250 [03:16<00:41,  1.06it/s]"
     ]
    },
    {
     "name": "stdout",
     "output_type": "stream",
     "text": [
      "END OF EPOCH: 206 \tTraining loss per batch: 0.000952\n"
     ]
    },
    {
     "name": "stderr",
     "output_type": "stream",
     "text": [
      "\r",
      " 83%|██████████████████████████████████████████████████████████████▉             | 207/250 [03:17<00:40,  1.06it/s]"
     ]
    },
    {
     "name": "stdout",
     "output_type": "stream",
     "text": [
      "END OF EPOCH: 207 \tTraining loss per batch: 0.001897\n"
     ]
    },
    {
     "name": "stderr",
     "output_type": "stream",
     "text": [
      "\r",
      " 83%|███████████████████████████████████████████████████████████████▏            | 208/250 [03:17<00:39,  1.06it/s]"
     ]
    },
    {
     "name": "stdout",
     "output_type": "stream",
     "text": [
      "END OF EPOCH: 208 \tTraining loss per batch: 0.001338\n"
     ]
    },
    {
     "name": "stderr",
     "output_type": "stream",
     "text": [
      "\r",
      " 84%|███████████████████████████████████████████████████████████████▌            | 209/250 [03:18<00:38,  1.06it/s]"
     ]
    },
    {
     "name": "stdout",
     "output_type": "stream",
     "text": [
      "END OF EPOCH: 209 \tTraining loss per batch: 0.001080\n"
     ]
    },
    {
     "name": "stderr",
     "output_type": "stream",
     "text": [
      "\r",
      " 84%|███████████████████████████████████████████████████████████████▊            | 210/250 [03:19<00:38,  1.05it/s]"
     ]
    },
    {
     "name": "stdout",
     "output_type": "stream",
     "text": [
      "END OF EPOCH: 210 \tTraining loss per batch: 0.001271\n"
     ]
    },
    {
     "name": "stderr",
     "output_type": "stream",
     "text": [
      "\r",
      " 84%|████████████████████████████████████████████████████████████████▏           | 211/250 [03:20<00:37,  1.03it/s]"
     ]
    },
    {
     "name": "stdout",
     "output_type": "stream",
     "text": [
      "END OF EPOCH: 211 \tTraining loss per batch: 0.001625\n"
     ]
    },
    {
     "name": "stderr",
     "output_type": "stream",
     "text": [
      "\r",
      " 85%|████████████████████████████████████████████████████████████████▍           | 212/250 [03:21<00:36,  1.04it/s]"
     ]
    },
    {
     "name": "stdout",
     "output_type": "stream",
     "text": [
      "END OF EPOCH: 212 \tTraining loss per batch: 0.001982\n"
     ]
    },
    {
     "name": "stderr",
     "output_type": "stream",
     "text": [
      "\r",
      " 85%|████████████████████████████████████████████████████████████████▊           | 213/250 [03:22<00:35,  1.06it/s]"
     ]
    },
    {
     "name": "stdout",
     "output_type": "stream",
     "text": [
      "END OF EPOCH: 213 \tTraining loss per batch: 0.000955\n"
     ]
    },
    {
     "name": "stderr",
     "output_type": "stream",
     "text": [
      "\r",
      " 86%|█████████████████████████████████████████████████████████████████           | 214/250 [03:23<00:34,  1.06it/s]"
     ]
    },
    {
     "name": "stdout",
     "output_type": "stream",
     "text": [
      "END OF EPOCH: 214 \tTraining loss per batch: 0.000965\n"
     ]
    },
    {
     "name": "stderr",
     "output_type": "stream",
     "text": [
      "\r",
      " 86%|█████████████████████████████████████████████████████████████████▎          | 215/250 [03:24<00:34,  1.03it/s]"
     ]
    },
    {
     "name": "stdout",
     "output_type": "stream",
     "text": [
      "END OF EPOCH: 215 \tTraining loss per batch: 0.001197\n"
     ]
    },
    {
     "name": "stderr",
     "output_type": "stream",
     "text": [
      "\r",
      " 86%|█████████████████████████████████████████████████████████████████▋          | 216/250 [03:25<00:33,  1.03it/s]"
     ]
    },
    {
     "name": "stdout",
     "output_type": "stream",
     "text": [
      "END OF EPOCH: 216 \tTraining loss per batch: 0.001012\n"
     ]
    },
    {
     "name": "stderr",
     "output_type": "stream",
     "text": [
      "\r",
      " 87%|█████████████████████████████████████████████████████████████████▉          | 217/250 [03:26<00:31,  1.05it/s]"
     ]
    },
    {
     "name": "stdout",
     "output_type": "stream",
     "text": [
      "END OF EPOCH: 217 \tTraining loss per batch: 0.001274\n"
     ]
    },
    {
     "name": "stderr",
     "output_type": "stream",
     "text": [
      "\r",
      " 87%|██████████████████████████████████████████████████████████████████▎         | 218/250 [03:27<00:30,  1.05it/s]"
     ]
    },
    {
     "name": "stdout",
     "output_type": "stream",
     "text": [
      "END OF EPOCH: 218 \tTraining loss per batch: 0.001064\n"
     ]
    },
    {
     "name": "stderr",
     "output_type": "stream",
     "text": [
      "\r",
      " 88%|██████████████████████████████████████████████████████████████████▌         | 219/250 [03:28<00:29,  1.04it/s]"
     ]
    },
    {
     "name": "stdout",
     "output_type": "stream",
     "text": [
      "END OF EPOCH: 219 \tTraining loss per batch: 0.001537\n"
     ]
    },
    {
     "name": "stderr",
     "output_type": "stream",
     "text": [
      "\r",
      " 88%|██████████████████████████████████████████████████████████████████▉         | 220/250 [03:29<00:29,  1.03it/s]"
     ]
    },
    {
     "name": "stdout",
     "output_type": "stream",
     "text": [
      "END OF EPOCH: 220 \tTraining loss per batch: 0.001365\n"
     ]
    },
    {
     "name": "stderr",
     "output_type": "stream",
     "text": [
      "\r",
      " 88%|███████████████████████████████████████████████████████████████████▏        | 221/250 [03:30<00:27,  1.04it/s]"
     ]
    },
    {
     "name": "stdout",
     "output_type": "stream",
     "text": [
      "END OF EPOCH: 221 \tTraining loss per batch: 0.000881\n"
     ]
    },
    {
     "name": "stderr",
     "output_type": "stream",
     "text": [
      "\r",
      " 89%|███████████████████████████████████████████████████████████████████▍        | 222/250 [03:31<00:26,  1.04it/s]"
     ]
    },
    {
     "name": "stdout",
     "output_type": "stream",
     "text": [
      "END OF EPOCH: 222 \tTraining loss per batch: 0.001563\n"
     ]
    },
    {
     "name": "stderr",
     "output_type": "stream",
     "text": [
      "\r",
      " 89%|███████████████████████████████████████████████████████████████████▊        | 223/250 [03:32<00:25,  1.06it/s]"
     ]
    },
    {
     "name": "stdout",
     "output_type": "stream",
     "text": [
      "END OF EPOCH: 223 \tTraining loss per batch: 0.001401\n"
     ]
    },
    {
     "name": "stderr",
     "output_type": "stream",
     "text": [
      "\r",
      " 90%|████████████████████████████████████████████████████████████████████        | 224/250 [03:33<00:24,  1.05it/s]"
     ]
    },
    {
     "name": "stdout",
     "output_type": "stream",
     "text": [
      "END OF EPOCH: 224 \tTraining loss per batch: 0.000914\n"
     ]
    },
    {
     "name": "stderr",
     "output_type": "stream",
     "text": [
      "\r",
      " 90%|████████████████████████████████████████████████████████████████████▍       | 225/250 [03:34<00:23,  1.05it/s]"
     ]
    },
    {
     "name": "stdout",
     "output_type": "stream",
     "text": [
      "END OF EPOCH: 225 \tTraining loss per batch: 0.001107\n"
     ]
    },
    {
     "name": "stderr",
     "output_type": "stream",
     "text": [
      "\r",
      " 90%|████████████████████████████████████████████████████████████████████▋       | 226/250 [03:35<00:22,  1.06it/s]"
     ]
    },
    {
     "name": "stdout",
     "output_type": "stream",
     "text": [
      "END OF EPOCH: 226 \tTraining loss per batch: 0.000775\n"
     ]
    },
    {
     "name": "stderr",
     "output_type": "stream",
     "text": [
      "\r",
      " 91%|█████████████████████████████████████████████████████████████████████       | 227/250 [03:36<00:21,  1.06it/s]"
     ]
    },
    {
     "name": "stdout",
     "output_type": "stream",
     "text": [
      "END OF EPOCH: 227 \tTraining loss per batch: 0.001267\n"
     ]
    },
    {
     "name": "stderr",
     "output_type": "stream",
     "text": [
      "\r",
      " 91%|█████████████████████████████████████████████████████████████████████▎      | 228/250 [03:37<00:20,  1.08it/s]"
     ]
    },
    {
     "name": "stdout",
     "output_type": "stream",
     "text": [
      "END OF EPOCH: 228 \tTraining loss per batch: 0.001244\n"
     ]
    },
    {
     "name": "stderr",
     "output_type": "stream",
     "text": [
      "\r",
      " 92%|█████████████████████████████████████████████████████████████████████▌      | 229/250 [03:37<00:19,  1.07it/s]"
     ]
    },
    {
     "name": "stdout",
     "output_type": "stream",
     "text": [
      "END OF EPOCH: 229 \tTraining loss per batch: 0.001228\n"
     ]
    },
    {
     "name": "stderr",
     "output_type": "stream",
     "text": [
      "\r",
      " 92%|█████████████████████████████████████████████████████████████████████▉      | 230/250 [03:38<00:18,  1.06it/s]"
     ]
    },
    {
     "name": "stdout",
     "output_type": "stream",
     "text": [
      "END OF EPOCH: 230 \tTraining loss per batch: 0.001169\n"
     ]
    },
    {
     "name": "stderr",
     "output_type": "stream",
     "text": [
      "\r",
      " 92%|██████████████████████████████████████████████████████████████████████▏     | 231/250 [03:39<00:17,  1.06it/s]"
     ]
    },
    {
     "name": "stdout",
     "output_type": "stream",
     "text": [
      "END OF EPOCH: 231 \tTraining loss per batch: 0.001304\n"
     ]
    },
    {
     "name": "stderr",
     "output_type": "stream",
     "text": [
      "\r",
      " 93%|██████████████████████████████████████████████████████████████████████▌     | 232/250 [03:40<00:16,  1.06it/s]"
     ]
    },
    {
     "name": "stdout",
     "output_type": "stream",
     "text": [
      "END OF EPOCH: 232 \tTraining loss per batch: 0.001410\n"
     ]
    },
    {
     "name": "stderr",
     "output_type": "stream",
     "text": [
      "\r",
      " 93%|██████████████████████████████████████████████████████████████████████▊     | 233/250 [03:41<00:15,  1.08it/s]"
     ]
    },
    {
     "name": "stdout",
     "output_type": "stream",
     "text": [
      "END OF EPOCH: 233 \tTraining loss per batch: 0.001104\n"
     ]
    },
    {
     "name": "stderr",
     "output_type": "stream",
     "text": [
      "\r",
      " 94%|███████████████████████████████████████████████████████████████████████▏    | 234/250 [03:42<00:14,  1.08it/s]"
     ]
    },
    {
     "name": "stdout",
     "output_type": "stream",
     "text": [
      "END OF EPOCH: 234 \tTraining loss per batch: 0.001287\n"
     ]
    },
    {
     "name": "stderr",
     "output_type": "stream",
     "text": [
      "\r",
      " 94%|███████████████████████████████████████████████████████████████████████▍    | 235/250 [03:43<00:14,  1.06it/s]"
     ]
    },
    {
     "name": "stdout",
     "output_type": "stream",
     "text": [
      "END OF EPOCH: 235 \tTraining loss per batch: 0.000985\n"
     ]
    },
    {
     "name": "stderr",
     "output_type": "stream",
     "text": [
      "\r",
      " 94%|███████████████████████████████████████████████████████████████████████▋    | 236/250 [03:44<00:13,  1.06it/s]"
     ]
    },
    {
     "name": "stdout",
     "output_type": "stream",
     "text": [
      "END OF EPOCH: 236 \tTraining loss per batch: 0.000921\n"
     ]
    },
    {
     "name": "stderr",
     "output_type": "stream",
     "text": [
      "\r",
      " 95%|████████████████████████████████████████████████████████████████████████    | 237/250 [03:45<00:12,  1.04it/s]"
     ]
    },
    {
     "name": "stdout",
     "output_type": "stream",
     "text": [
      "END OF EPOCH: 237 \tTraining loss per batch: 0.001279\n"
     ]
    },
    {
     "name": "stderr",
     "output_type": "stream",
     "text": [
      "\r",
      " 95%|████████████████████████████████████████████████████████████████████████▎   | 238/250 [03:46<00:11,  1.06it/s]"
     ]
    },
    {
     "name": "stdout",
     "output_type": "stream",
     "text": [
      "END OF EPOCH: 238 \tTraining loss per batch: 0.001381\n"
     ]
    },
    {
     "name": "stderr",
     "output_type": "stream",
     "text": [
      "\r",
      " 96%|████████████████████████████████████████████████████████████████████████▋   | 239/250 [03:47<00:10,  1.07it/s]"
     ]
    },
    {
     "name": "stdout",
     "output_type": "stream",
     "text": [
      "END OF EPOCH: 239 \tTraining loss per batch: 0.001207\n"
     ]
    },
    {
     "name": "stderr",
     "output_type": "stream",
     "text": [
      "\r",
      " 96%|████████████████████████████████████████████████████████████████████████▉   | 240/250 [03:48<00:09,  1.06it/s]"
     ]
    },
    {
     "name": "stdout",
     "output_type": "stream",
     "text": [
      "END OF EPOCH: 240 \tTraining loss per batch: 0.001488\n"
     ]
    },
    {
     "name": "stderr",
     "output_type": "stream",
     "text": [
      "\r",
      " 96%|█████████████████████████████████████████████████████████████████████████▎  | 241/250 [03:49<00:08,  1.05it/s]"
     ]
    },
    {
     "name": "stdout",
     "output_type": "stream",
     "text": [
      "END OF EPOCH: 241 \tTraining loss per batch: 0.001015\n"
     ]
    },
    {
     "name": "stderr",
     "output_type": "stream",
     "text": [
      "\r",
      " 97%|█████████████████████████████████████████████████████████████████████████▌  | 242/250 [03:50<00:07,  1.05it/s]"
     ]
    },
    {
     "name": "stdout",
     "output_type": "stream",
     "text": [
      "END OF EPOCH: 242 \tTraining loss per batch: 0.001497\n"
     ]
    },
    {
     "name": "stderr",
     "output_type": "stream",
     "text": [
      "\r",
      " 97%|█████████████████████████████████████████████████████████████████████████▊  | 243/250 [03:51<00:06,  1.06it/s]"
     ]
    },
    {
     "name": "stdout",
     "output_type": "stream",
     "text": [
      "END OF EPOCH: 243 \tTraining loss per batch: 0.001038\n"
     ]
    },
    {
     "name": "stderr",
     "output_type": "stream",
     "text": [
      "\r",
      " 98%|██████████████████████████████████████████████████████████████████████████▏ | 244/250 [03:52<00:05,  1.06it/s]"
     ]
    },
    {
     "name": "stdout",
     "output_type": "stream",
     "text": [
      "END OF EPOCH: 244 \tTraining loss per batch: 0.001017\n"
     ]
    },
    {
     "name": "stderr",
     "output_type": "stream",
     "text": [
      "\r",
      " 98%|██████████████████████████████████████████████████████████████████████████▍ | 245/250 [03:53<00:04,  1.05it/s]"
     ]
    },
    {
     "name": "stdout",
     "output_type": "stream",
     "text": [
      "END OF EPOCH: 245 \tTraining loss per batch: 0.001464\n"
     ]
    },
    {
     "name": "stderr",
     "output_type": "stream",
     "text": [
      "\r",
      " 98%|██████████████████████████████████████████████████████████████████████████▊ | 246/250 [03:54<00:03,  1.07it/s]"
     ]
    },
    {
     "name": "stdout",
     "output_type": "stream",
     "text": [
      "END OF EPOCH: 246 \tTraining loss per batch: 0.000946\n"
     ]
    },
    {
     "name": "stderr",
     "output_type": "stream",
     "text": [
      "\r",
      " 99%|███████████████████████████████████████████████████████████████████████████ | 247/250 [03:54<00:02,  1.08it/s]"
     ]
    },
    {
     "name": "stdout",
     "output_type": "stream",
     "text": [
      "END OF EPOCH: 247 \tTraining loss per batch: 0.000998\n"
     ]
    },
    {
     "name": "stderr",
     "output_type": "stream",
     "text": [
      "\r",
      " 99%|███████████████████████████████████████████████████████████████████████████▍| 248/250 [03:55<00:01,  1.08it/s]"
     ]
    },
    {
     "name": "stdout",
     "output_type": "stream",
     "text": [
      "END OF EPOCH: 248 \tTraining loss per batch: 0.001799\n"
     ]
    },
    {
     "name": "stderr",
     "output_type": "stream",
     "text": [
      "\r",
      "100%|███████████████████████████████████████████████████████████████████████████▋| 249/250 [03:56<00:00,  1.06it/s]"
     ]
    },
    {
     "name": "stdout",
     "output_type": "stream",
     "text": [
      "END OF EPOCH: 249 \tTraining loss per batch: 0.000906\n"
     ]
    },
    {
     "name": "stderr",
     "output_type": "stream",
     "text": [
      "100%|████████████████████████████████████████████████████████████████████████████| 250/250 [03:57<00:00,  1.05it/s]"
     ]
    },
    {
     "name": "stdout",
     "output_type": "stream",
     "text": [
      "END OF EPOCH: 250 \tTraining loss per batch: 0.001625\n"
     ]
    },
    {
     "name": "stderr",
     "output_type": "stream",
     "text": [
      "\n"
     ]
    }
   ],
   "source": [
    "trained_model, train_loss = train_network(250, dataloader, unet, optimizer, criterion, device,'1000ep_00005lr.pt')"
   ]
  },
  {
   "cell_type": "code",
   "execution_count": 20,
   "metadata": {},
   "outputs": [
    {
     "data": {
      "image/png": "[encoded data removed]",
      "text/plain": [
       "<Figure size 432x288 with 1 Axes>"
      ]
     },
     "metadata": {
      "needs_background": "light"
     },
     "output_type": "display_data"
    }
   ],
   "source": [
    "plt.plot(train_loss, label='train');\n",
    "plt.legend();"
   ]
  },
  {
   "cell_type": "code",
   "execution_count": 21,
   "metadata": {},
   "outputs": [],
   "source": [
    "unet = trained_model"
   ]
  },
  {
   "cell_type": "code",
   "execution_count": 22,
   "metadata": {},
   "outputs": [
    {
     "name": "stdout",
     "output_type": "stream",
     "text": [
      "train : loss per batch =  0.0005529393383767456\n"
     ]
    }
   ],
   "source": [
    "# Evaluate the model on all datasets\n",
    "\n",
    "unet.eval()\n",
    "\n",
    "for group in ['train']:\n",
    "    \n",
    "    i=0\n",
    "    track_loss = 0\n",
    "    \n",
    "    for batch in dataloader[group]: \n",
    "        \n",
    "            data = batch['t1']['data'].to(device)\n",
    "            \n",
    "            with torch.no_grad():\n",
    "                \n",
    "                output = unet(data)\n",
    "                loss = criterion(output,data)\n",
    "                \n",
    "                track_loss += loss.item()\n",
    "                i+=1\n",
    "                \n",
    "    print(group, ': loss per batch = ', track_loss/i)"
   ]
  },
  {
   "cell_type": "code",
   "execution_count": 23,
   "metadata": {},
   "outputs": [],
   "source": [
    "# Visualize the output (train_dev and test_dev)\n",
    "\n",
    "# Generate sample from two dev datasets\n",
    "train_input = next(enumerate(dataloader['train']))"
   ]
  },
  {
   "cell_type": "code",
   "execution_count": 24,
   "metadata": {},
   "outputs": [],
   "source": [
    "# Run network on samples\n",
    "train_output = unet(train_input[1]['t1']['data'].to(device))"
   ]
  },
  {
   "cell_type": "code",
   "execution_count": 25,
   "metadata": {},
   "outputs": [],
   "source": [
    "# Extract latent representations\n",
    "\n",
    "#train_latent = unet.output_latent_representations(train_input[1]['t1']['data'].to(device))"
   ]
  },
  {
   "cell_type": "code",
   "execution_count": 26,
   "metadata": {},
   "outputs": [
    {
     "data": {
      "image/png": "[encoded data removed]",
      "text/plain": [
       "<Figure size 1440x5400 with 30 Axes>"
      ]
     },
     "metadata": {
      "needs_background": "light"
     },
     "output_type": "display_data"
    }
   ],
   "source": [
    "# Visualize train sample\n",
    "\n",
    "inputs = train_input[1]['t1']['data'].to('cpu')\n",
    "#latent = train_latent.cpu().detach().numpy()\n",
    "outputs = train_output.cpu().detach().numpy()\n",
    "\n",
    "fig = plt.figure(figsize=(20,75))\n",
    "\n",
    "for i in range(outputs.shape[0]):\n",
    "    \n",
    "    plt.subplot(outputs.shape[0],3,3*i+1)\n",
    "    plt.imshow(inputs[i,0,:,:,5],cmap='gray');\n",
    "    \n",
    "    plt.subplot(outputs.shape[0],3,3*i+2)\n",
    "    plt.imshow(outputs[i,0,:,:,5], cmap ='gray')\n",
    "    \n",
    "    plt.subplot(outputs.shape[0],3,3*i+3)\n",
    "    plt.imshow(inputs[i,0,:,:,5]-outputs[i,0,:,:,5], cmap ='gray')\n",
    "    \n",
    "plt.show()"
   ]
  },
  {
   "cell_type": "markdown",
   "metadata": {},
   "source": [
    "# Evaluate and visualize results for chiasms\n"
   ]
  },
  {
   "cell_type": "code",
   "execution_count": 27,
   "metadata": {},
   "outputs": [
    {
     "name": "stdout",
     "output_type": "stream",
     "text": [
      "train\n"
     ]
    },
    {
     "data": {
      "image/png": "[encoded data removed]",
      "text/plain": [
       "<Figure size 1440x1440 with 3 Axes>"
      ]
     },
     "metadata": {
      "needs_background": "light"
     },
     "output_type": "display_data"
    },
    {
     "data": {
      "image/png": "[encoded data removed]",
      "text/plain": [
       "<Figure size 1440x1440 with 3 Axes>"
      ]
     },
     "metadata": {
      "needs_background": "light"
     },
     "output_type": "display_data"
    },
    {
     "data": {
      "image/png": "[encoded data removed]",
      "text/plain": [
       "<Figure size 1440x1440 with 3 Axes>"
      ]
     },
     "metadata": {
      "needs_background": "light"
     },
     "output_type": "display_data"
    },
    {
     "data": {
      "image/png": "[encoded data removed]",
      "text/plain": [
       "<Figure size 1440x1440 with 3 Axes>"
      ]
     },
     "metadata": {
      "needs_background": "light"
     },
     "output_type": "display_data"
    },
    {
     "data": {
      "image/png": "[encoded data removed]",
      "text/plain": [
       "<Figure size 1440x1440 with 3 Axes>"
      ]
     },
     "metadata": {
      "needs_background": "light"
     },
     "output_type": "display_data"
    },
    {
     "data": {
      "image/png": "[encoded data removed]",
      "text/plain": [
       "<Figure size 1440x1440 with 3 Axes>"
      ]
     },
     "metadata": {
      "needs_background": "light"
     },
     "output_type": "display_data"
    },
    {
     "data": {
      "image/png": "[encoded data removed]",
      "text/plain": [
       "<Figure size 1440x1440 with 3 Axes>"
      ]
     },
     "metadata": {
      "needs_background": "light"
     },
     "output_type": "display_data"
    },
    {
     "data": {
      "image/png": "[encoded data removed]",
      "text/plain": [
       "<Figure size 1440x1440 with 3 Axes>"
      ]
     },
     "metadata": {
      "needs_background": "light"
     },
     "output_type": "display_data"
    }
   ],
   "source": [
    "# Visualize results\n",
    "\n",
    "unet.eval()\n",
    "\n",
    "for group in ['train']:\n",
    "    \n",
    "    print(group)\n",
    "    \n",
    "    batch = next(enumerate(dataloader_chiasms[group]))\n",
    "    \n",
    "    data = batch[1]['t1']['data']\n",
    "    \n",
    "    output = unet(data.to(device))\n",
    "    \n",
    "    inputs = data.cpu().numpy()\n",
    "    outputs = output.cpu().detach().numpy()   \n",
    "    \n",
    "    for i in range(outputs.shape[0]):\n",
    "        for j in range(8):\n",
    "            \n",
    "            fig = plt.figure(figsize=(20,20))\n",
    "        \n",
    "            plt.subplot(outputs.shape[0],3,3*i+1)\n",
    "            plt.imshow(inputs[i,0,:,:,j],cmap='gray');\n",
    "\n",
    "            plt.subplot(outputs.shape[0],3,3*i+2)\n",
    "            plt.imshow(outputs[i,0,:,:,j],cmap='gray');\n",
    "\n",
    "            plt.subplot(outputs.shape[0],3,3*i+3)\n",
    "            plt.imshow(inputs[i,0,:,:,j]-outputs[i,0,:,:,5],cmap='gray');\n",
    "    \n",
    "    \n",
    "            plt.show()"
   ]
  },
  {
   "cell_type": "code",
   "execution_count": 28,
   "metadata": {},
   "outputs": [
    {
     "name": "stdout",
     "output_type": "stream",
     "text": [
      "torch.Size([1, 1, 32, 32, 12])\n"
     ]
    }
   ],
   "source": [
    "batch = next(enumerate(dataloader_chiasms['train']))\n",
    "print(batch[1]['t1']['data'].shape)"
   ]
  },
  {
   "cell_type": "code",
   "execution_count": 32,
   "metadata": {},
   "outputs": [
    {
     "name": "stdout",
     "output_type": "stream",
     "text": [
      "22\n"
     ]
    }
   ],
   "source": [
    "i=0\n",
    "for _ in unet.parameters():\n",
    "    i+=1\n",
    "print(i)"
   ]
  },
  {
   "cell_type": "code",
   "execution_count": 33,
   "metadata": {},
   "outputs": [
    {
     "name": "stdout",
     "output_type": "stream",
     "text": [
      "Parameter containing:\n",
      "tensor([[[[[ 1.0709e-01,  5.4275e-02, -1.6429e-01],\n",
      "           [-1.3064e-02,  1.5452e-02,  8.8602e-02],\n",
      "           [-1.6920e-01,  3.8158e-02, -3.8449e-02]],\n",
      "\n",
      "          [[ 4.8307e-02, -2.6258e-02, -2.0566e-01],\n",
      "           [-1.3920e-03, -5.2482e-02, -7.3643e-03],\n",
      "           [-1.4685e-01, -5.6201e-03, -1.1288e-01]],\n",
      "\n",
      "          [[ 1.1723e-01,  8.3695e-02, -1.2057e-01],\n",
      "           [ 1.5456e-01,  1.8157e-01, -1.2520e-01],\n",
      "           [-8.2316e-02, -1.8993e-01,  1.8613e-02]]]],\n",
      "\n",
      "\n",
      "\n",
      "        [[[[-1.2346e-01,  5.2126e-02,  1.2608e-01],\n",
      "           [ 6.8348e-02, -1.7998e-01, -1.3416e-01],\n",
      "           [-9.7581e-02,  1.6624e-01, -1.1913e-01]],\n",
      "\n",
      "          [[-1.0245e-02, -1.2971e-01, -1.4605e-01],\n",
      "           [-1.4047e-01, -1.8274e-01, -7.2708e-02],\n",
      "           [ 4.2326e-02,  8.2021e-02,  1.5381e-01]],\n",
      "\n",
      "          [[-1.2028e-01,  1.9719e-01,  1.1695e-01],\n",
      "           [ 1.0761e-01, -1.9725e-01,  8.5372e-02],\n",
      "           [-9.1482e-02,  6.6440e-02, -8.4531e-02]]]],\n",
      "\n",
      "\n",
      "\n",
      "        [[[[ 1.3551e-02, -1.4427e-01,  8.4260e-02],\n",
      "           [ 1.5454e-01, -1.9011e-01, -1.0573e-01],\n",
      "           [ 1.6490e-01, -1.4499e-01, -1.2904e-01]],\n",
      "\n",
      "          [[ 2.6634e-02, -1.7825e-01,  1.8163e-01],\n",
      "           [ 1.2767e-01, -6.5236e-02,  7.7488e-03],\n",
      "           [-4.6380e-03,  1.1104e-01,  1.2164e-01]],\n",
      "\n",
      "          [[-6.5376e-02, -1.1995e-01, -8.4530e-02],\n",
      "           [-9.0526e-02, -1.6703e-01, -1.0725e-01],\n",
      "           [-1.6192e-02, -1.0417e-01, -7.3290e-02]]]],\n",
      "\n",
      "\n",
      "\n",
      "        [[[[ 1.6023e-01,  1.7729e-01, -8.1606e-02],\n",
      "           [ 2.1628e-02,  1.1718e-01,  7.9511e-02],\n",
      "           [ 1.1122e-01, -1.1364e-01,  6.4525e-02]],\n",
      "\n",
      "          [[ 2.6861e-02,  1.9271e-01, -2.2170e-01],\n",
      "           [ 1.6344e-01,  1.8076e-01, -2.5943e-02],\n",
      "           [ 1.5411e-01,  1.7301e-01,  8.4004e-02]],\n",
      "\n",
      "          [[ 1.0086e-01,  1.0566e-01,  8.7313e-02],\n",
      "           [-4.8994e-02, -1.4038e-01, -9.4836e-02],\n",
      "           [-1.3924e-01, -1.6409e-01, -1.3633e-01]]]],\n",
      "\n",
      "\n",
      "\n",
      "        [[[[-8.0128e-02,  1.2947e-01, -5.8928e-02],\n",
      "           [-7.0785e-02,  1.8083e-01, -1.3568e-01],\n",
      "           [ 4.9201e-02, -4.2460e-02, -1.0406e-01]],\n",
      "\n",
      "          [[-1.9952e-01,  1.0439e-01, -3.9915e-02],\n",
      "           [-1.3267e-01, -2.0276e-01, -1.7521e-01],\n",
      "           [-9.2889e-03,  1.4552e-01,  1.4911e-02]],\n",
      "\n",
      "          [[-2.5336e-03,  5.3106e-02,  9.3599e-02],\n",
      "           [ 1.2230e-01, -5.5787e-02,  2.7854e-03],\n",
      "           [-9.7159e-02,  7.9025e-02, -1.4683e-01]]]],\n",
      "\n",
      "\n",
      "\n",
      "        [[[[-5.8405e-02,  8.2326e-02, -1.3554e-01],\n",
      "           [-1.1018e-01, -7.4770e-02,  4.7901e-02],\n",
      "           [ 1.0469e-02, -1.3591e-01,  8.4752e-02]],\n",
      "\n",
      "          [[ 1.1966e-01,  2.7183e-02, -7.9586e-02],\n",
      "           [-7.3634e-02,  1.6366e-01, -9.3658e-02],\n",
      "           [ 5.3141e-02,  1.5994e-01, -1.0719e-02]],\n",
      "\n",
      "          [[-6.3799e-02,  9.0551e-02,  1.7691e-01],\n",
      "           [-2.7449e-02, -3.4254e-02,  2.9030e-02],\n",
      "           [ 3.7548e-02,  7.2109e-02, -1.4739e-01]]]],\n",
      "\n",
      "\n",
      "\n",
      "        [[[[-2.3466e-02,  6.6653e-02,  1.5428e-01],\n",
      "           [ 1.2712e-01, -1.2459e-01, -1.1910e-01],\n",
      "           [ 7.6249e-02, -3.3319e-02,  2.8173e-02]],\n",
      "\n",
      "          [[ 8.9027e-02, -6.1978e-02, -1.9791e-01],\n",
      "           [-1.1727e-01, -1.6505e-01,  7.1212e-02],\n",
      "           [-8.9673e-03, -9.8980e-02, -1.3609e-01]],\n",
      "\n",
      "          [[ 9.3418e-02, -1.1417e-02,  8.5206e-02],\n",
      "           [-1.3209e-01, -1.6327e-01,  5.5269e-02],\n",
      "           [ 9.6021e-02, -2.2707e-02, -1.4408e-01]]]],\n",
      "\n",
      "\n",
      "\n",
      "        [[[[-2.0031e-02, -7.5406e-03,  1.7774e-01],\n",
      "           [-3.0213e-02, -8.0847e-02,  1.5534e-01],\n",
      "           [-1.5024e-01, -1.4835e-01, -8.1794e-04]],\n",
      "\n",
      "          [[-2.9794e-02,  4.2413e-02,  1.1832e-01],\n",
      "           [-1.8152e-01,  1.5115e-01,  6.3812e-03],\n",
      "           [ 1.0638e-02,  1.4356e-01,  1.8713e-01]],\n",
      "\n",
      "          [[-1.9139e-01,  2.2882e-02,  1.5074e-01],\n",
      "           [ 6.9885e-02, -1.6234e-01,  1.7394e-01],\n",
      "           [ 6.4459e-02,  1.7611e-01,  6.3823e-02]]]],\n",
      "\n",
      "\n",
      "\n",
      "        [[[[ 1.8400e-01,  2.3466e-02,  3.6199e-02],\n",
      "           [ 1.3827e-01,  1.2062e-01,  1.1834e-01],\n",
      "           [-1.1384e-01, -1.6444e-01, -7.5754e-02]],\n",
      "\n",
      "          [[-1.1351e-03,  4.9103e-02, -1.2975e-01],\n",
      "           [-2.8640e-02, -6.0584e-02, -1.0041e-02],\n",
      "           [ 1.7769e-01,  1.0169e-02, -8.4904e-02]],\n",
      "\n",
      "          [[-4.2594e-02,  4.8299e-03,  1.1657e-01],\n",
      "           [-1.5412e-01, -6.9124e-02,  1.0333e-01],\n",
      "           [ 1.9167e-01, -1.4409e-01, -1.2211e-01]]]],\n",
      "\n",
      "\n",
      "\n",
      "        [[[[ 1.0808e-01, -1.5328e-01,  1.6695e-01],\n",
      "           [ 1.1375e-01, -2.3950e-02, -8.9047e-02],\n",
      "           [-1.2222e-01,  7.6446e-02, -1.0417e-01]],\n",
      "\n",
      "          [[ 1.5512e-01,  1.0751e-01,  1.8326e-01],\n",
      "           [ 8.6162e-02, -1.7778e-01,  1.3233e-01],\n",
      "           [ 8.3926e-02, -1.5939e-01,  7.0022e-03]],\n",
      "\n",
      "          [[-1.6549e-01,  9.1440e-03,  3.5617e-02],\n",
      "           [-8.4249e-02, -1.0222e-01, -8.4032e-02],\n",
      "           [ 1.2729e-01, -1.2761e-01, -2.1833e-02]]]],\n",
      "\n",
      "\n",
      "\n",
      "        [[[[-1.0280e-01,  5.8108e-02, -4.7356e-02],\n",
      "           [-2.1234e-02, -5.4369e-02, -1.3292e-01],\n",
      "           [-3.0278e-02, -1.7266e-02,  1.8077e-01]],\n",
      "\n",
      "          [[ 4.3015e-02,  1.2677e-01, -1.5501e-01],\n",
      "           [-1.1403e-01, -3.0086e-02,  1.5388e-01],\n",
      "           [ 7.8063e-02,  2.1588e-02,  1.9014e-01]],\n",
      "\n",
      "          [[ 1.2140e-01, -1.7903e-01,  4.7153e-02],\n",
      "           [-1.3766e-02, -1.4638e-01,  8.8218e-02],\n",
      "           [ 3.3643e-02,  1.2890e-01, -1.3681e-02]]]],\n",
      "\n",
      "\n",
      "\n",
      "        [[[[ 1.0154e-01, -2.0425e-01,  1.5471e-01],\n",
      "           [-2.1533e-01,  1.6014e-01,  1.1606e-01],\n",
      "           [-1.6920e-01, -1.2609e-01, -8.0469e-02]],\n",
      "\n",
      "          [[-6.6240e-02,  7.9742e-02,  1.1584e-01],\n",
      "           [-5.5269e-02,  9.4759e-02, -1.8053e-01],\n",
      "           [-4.1799e-02,  5.5560e-02, -1.5446e-01]],\n",
      "\n",
      "          [[-1.9155e-01,  1.3007e-01, -1.4921e-01],\n",
      "           [-1.0010e-01, -6.3510e-02, -1.3485e-01],\n",
      "           [ 1.1028e-01, -7.1508e-03, -9.0578e-02]]]],\n",
      "\n",
      "\n",
      "\n",
      "        [[[[ 1.6729e-01, -4.0654e-02, -9.0976e-02],\n",
      "           [-4.2880e-02,  2.9427e-02,  1.9956e-02],\n",
      "           [-9.0032e-02,  3.9110e-02, -1.9079e-01]],\n",
      "\n",
      "          [[-4.7610e-02,  6.4033e-02,  1.4999e-01],\n",
      "           [-1.7914e-01,  1.7446e-02,  5.3153e-02],\n",
      "           [ 1.6803e-01,  2.0257e-01, -5.4521e-02]],\n",
      "\n",
      "          [[-2.5085e-02,  1.7926e-01,  9.4162e-03],\n",
      "           [-2.0980e-02, -1.3987e-01, -7.3303e-03],\n",
      "           [-2.5533e-02, -8.0278e-02,  1.0830e-02]]]],\n",
      "\n",
      "\n",
      "\n",
      "        [[[[ 2.6699e-02, -6.7346e-02, -1.2532e-01],\n",
      "           [-6.7707e-02, -2.0106e-01,  2.9745e-02],\n",
      "           [ 1.0627e-01,  7.7827e-02,  2.2725e-02]],\n",
      "\n",
      "          [[-1.4677e-01, -1.7787e-01, -7.5190e-02],\n",
      "           [ 6.3829e-02,  3.0659e-02,  1.2370e-01],\n",
      "           [-3.3480e-03,  1.4386e-01, -1.2943e-01]],\n",
      "\n",
      "          [[ 1.5956e-01, -2.9439e-02,  1.3234e-01],\n",
      "           [-1.5319e-01, -9.1719e-02,  6.8679e-02],\n",
      "           [-1.6306e-01,  3.0923e-02, -3.2642e-02]]]],\n",
      "\n",
      "\n",
      "\n",
      "        [[[[ 2.5969e-02,  9.3561e-02, -1.7849e-01],\n",
      "           [ 1.2736e-01,  2.5388e-02,  1.3061e-03],\n",
      "           [ 1.7029e-01,  3.5152e-03,  1.2914e-01]],\n",
      "\n",
      "          [[ 1.8158e-01,  1.9692e-01,  1.3121e-01],\n",
      "           [-9.2259e-02, -3.5340e-02, -1.1621e-01],\n",
      "           [-1.9135e-02, -7.5065e-03,  2.1666e-02]],\n",
      "\n",
      "          [[ 4.9905e-02,  7.1161e-02,  8.7149e-02],\n",
      "           [ 1.8038e-01,  6.3527e-02, -8.9447e-02],\n",
      "           [-1.3343e-02, -1.4413e-01,  9.1749e-02]]]],\n",
      "\n",
      "\n",
      "\n",
      "        [[[[ 1.1632e-01,  8.1138e-02, -2.0796e-01],\n",
      "           [-6.9179e-02, -6.3509e-02,  1.8382e-01],\n",
      "           [-1.2941e-01, -1.6008e-01, -1.6855e-01]],\n",
      "\n",
      "          [[ 9.3266e-02,  1.7181e-01, -7.0310e-02],\n",
      "           [-1.3707e-01, -1.2195e-01, -3.0489e-02],\n",
      "           [-9.3541e-03,  1.7197e-01, -9.9768e-02]],\n",
      "\n",
      "          [[-4.7039e-02,  8.3354e-02, -1.2437e-02],\n",
      "           [-2.0631e-02, -1.7751e-01, -1.8700e-01],\n",
      "           [ 1.5158e-01,  1.5000e-02,  1.1115e-01]]]],\n",
      "\n",
      "\n",
      "\n",
      "        [[[[-1.2872e-01, -2.2011e-02,  7.3750e-02],\n",
      "           [ 8.5329e-02,  1.0294e-01,  8.1672e-02],\n",
      "           [ 1.6633e-01,  1.1071e-01,  1.7688e-01]],\n",
      "\n",
      "          [[ 1.4926e-01, -7.4073e-02, -1.6485e-01],\n",
      "           [-1.0464e-01,  1.9069e-01, -2.3608e-02],\n",
      "           [ 1.6218e-01,  2.1201e-01,  1.1694e-01]],\n",
      "\n",
      "          [[-4.5947e-02,  1.6515e-01,  1.2260e-01],\n",
      "           [ 2.5969e-02,  2.0909e-01, -2.5005e-02],\n",
      "           [ 1.2970e-01,  8.8054e-02, -1.3210e-01]]]],\n",
      "\n",
      "\n",
      "\n",
      "        [[[[-6.0584e-02, -1.5508e-01,  9.1845e-03],\n",
      "           [ 1.0860e-01,  1.2807e-02,  8.7359e-02],\n",
      "           [-1.3854e-01, -2.8436e-04, -3.8972e-02]],\n",
      "\n",
      "          [[ 9.9455e-02, -1.6272e-02,  6.0951e-02],\n",
      "           [ 3.8071e-02,  5.8348e-02,  9.3330e-02],\n",
      "           [ 1.3343e-01, -1.0958e-01,  1.4445e-01]],\n",
      "\n",
      "          [[-8.2896e-02,  8.5261e-02, -1.8463e-01],\n",
      "           [-1.0573e-01,  1.2898e-01,  1.7092e-01],\n",
      "           [-1.5937e-01, -1.1109e-01,  2.3695e-02]]]],\n",
      "\n",
      "\n",
      "\n",
      "        [[[[ 1.8933e-01,  7.1102e-02,  1.7938e-01],\n",
      "           [-1.5350e-01,  6.3037e-02,  7.3173e-02],\n",
      "           [-1.6868e-01,  2.4268e-02,  1.1825e-01]],\n",
      "\n",
      "          [[-1.3659e-01,  1.7972e-01,  9.1427e-02],\n",
      "           [ 5.5162e-02, -1.3871e-01,  1.2480e-01],\n",
      "           [-7.9338e-02, -1.7593e-01, -7.7453e-02]],\n",
      "\n",
      "          [[-1.1626e-01,  1.6073e-01,  1.0213e-01],\n",
      "           [ 1.1332e-01,  1.9307e-01,  1.3125e-01],\n",
      "           [ 6.4268e-02,  1.8403e-01, -9.5826e-02]]]],\n",
      "\n",
      "\n",
      "\n",
      "        [[[[ 1.1304e-01, -1.7358e-01, -9.8488e-02],\n",
      "           [ 7.2173e-02,  5.3183e-03, -6.9750e-02],\n",
      "           [ 3.9708e-02,  2.1014e-02, -1.0503e-02]],\n",
      "\n",
      "          [[ 5.0882e-02,  8.1888e-02,  1.4622e-01],\n",
      "           [ 8.3474e-02,  1.2061e-01,  3.5304e-02],\n",
      "           [ 7.9194e-02, -6.4586e-02,  1.3196e-01]],\n",
      "\n",
      "          [[ 7.0547e-02,  3.0089e-02, -1.9021e-01],\n",
      "           [ 3.2365e-02, -1.5732e-01,  1.6000e-01],\n",
      "           [-1.7686e-01,  5.2712e-02, -6.9980e-02]]]],\n",
      "\n",
      "\n",
      "\n",
      "        [[[[-1.8360e-01, -1.0132e-01, -7.2099e-02],\n",
      "           [ 9.6178e-02,  8.0265e-02, -4.7622e-02],\n",
      "           [-4.2563e-02,  1.4123e-01, -9.0513e-02]],\n",
      "\n",
      "          [[-1.2488e-01,  9.6699e-02,  6.6908e-02],\n",
      "           [ 1.0430e-01,  1.6942e-01, -1.4301e-01],\n",
      "           [ 5.8816e-03,  8.0593e-02, -1.8881e-01]],\n",
      "\n",
      "          [[-3.9530e-02, -6.3429e-02,  7.3423e-02],\n",
      "           [-1.7910e-01, -4.7823e-02, -9.5826e-02],\n",
      "           [ 1.7367e-01, -1.6816e-01,  9.8802e-02]]]],\n",
      "\n",
      "\n",
      "\n",
      "        [[[[-1.2257e-01,  1.0032e-01, -1.3405e-01],\n",
      "           [-8.0888e-03,  1.0697e-01,  3.2332e-02],\n",
      "           [ 1.0943e-01,  1.4684e-01, -1.3221e-01]],\n",
      "\n",
      "          [[-4.6472e-02,  5.8426e-03, -8.6582e-02],\n",
      "           [ 1.1513e-01, -3.3125e-02, -9.9702e-02],\n",
      "           [-1.6184e-02, -1.8273e-01, -1.7140e-01]],\n",
      "\n",
      "          [[ 1.0387e-01, -1.7409e-01,  2.1869e-01],\n",
      "           [ 1.4681e-01,  1.3406e-02,  4.1900e-02],\n",
      "           [ 1.7233e-01,  1.4470e-01, -6.0075e-02]]]],\n",
      "\n",
      "\n",
      "\n",
      "        [[[[ 1.4079e-01, -1.4168e-01,  9.2639e-02],\n",
      "           [ 1.9347e-01,  8.1581e-02,  1.3077e-01],\n",
      "           [-3.4125e-02, -3.3221e-02,  1.1617e-01]],\n",
      "\n",
      "          [[ 8.3236e-02, -1.7975e-01, -5.6108e-02],\n",
      "           [-6.3607e-02,  9.9973e-02,  1.3974e-01],\n",
      "           [ 1.8776e-01,  1.2732e-01,  5.7665e-02]],\n",
      "\n",
      "          [[-1.6696e-01,  1.1587e-01, -1.1142e-02],\n",
      "           [ 1.7083e-02, -1.1347e-01, -1.6325e-01],\n",
      "           [-1.2310e-01, -1.3845e-02, -1.5383e-01]]]],\n",
      "\n",
      "\n",
      "\n",
      "        [[[[-8.3297e-02, -8.0942e-02,  1.5303e-01],\n",
      "           [-1.8558e-01,  1.2274e-01,  1.1581e-01],\n",
      "           [-1.8625e-01,  1.7392e-01,  1.7101e-01]],\n",
      "\n",
      "          [[ 9.9461e-02,  1.2699e-01, -1.4369e-01],\n",
      "           [ 1.6581e-01,  8.3646e-02, -3.6338e-02],\n",
      "           [ 1.0084e-01, -1.3148e-01, -1.1860e-01]],\n",
      "\n",
      "          [[-2.4963e-02, -1.2168e-01,  3.5180e-02],\n",
      "           [ 1.2438e-01, -6.4780e-02,  1.6169e-01],\n",
      "           [ 1.8105e-01, -1.5993e-01, -7.8208e-02]]]],\n",
      "\n",
      "\n",
      "\n",
      "        [[[[ 1.0491e-02,  8.4204e-02, -1.8797e-01],\n",
      "           [ 6.6258e-02, -1.3995e-01, -5.3585e-02],\n",
      "           [ 6.4508e-02,  1.6339e-01,  1.8390e-01]],\n",
      "\n",
      "          [[ 1.4935e-01,  1.0224e-01, -6.6315e-02],\n",
      "           [ 1.0040e-01, -1.6416e-01,  1.9956e-01],\n",
      "           [-7.9920e-02, -1.0088e-01, -4.2135e-02]],\n",
      "\n",
      "          [[-8.7315e-02, -1.5632e-01,  1.5754e-01],\n",
      "           [-1.0260e-02, -1.1795e-01,  7.0284e-02],\n",
      "           [-1.8403e-01,  1.3602e-01,  1.5227e-01]]]],\n",
      "\n",
      "\n",
      "\n",
      "        [[[[-8.2926e-02, -2.1202e-02, -6.3706e-02],\n",
      "           [ 1.8959e-01,  1.5834e-01, -7.0618e-02],\n",
      "           [ 4.7311e-02,  1.9395e-01,  2.9232e-02]],\n",
      "\n",
      "          [[-1.6349e-01,  1.5617e-01,  9.6700e-02],\n",
      "           [ 1.2258e-01, -1.7135e-01, -5.3341e-02],\n",
      "           [-9.3795e-02,  7.3148e-02, -1.6490e-01]],\n",
      "\n",
      "          [[ 5.0910e-02,  6.3574e-02,  1.6162e-02],\n",
      "           [-4.0476e-02, -1.2293e-01,  1.9347e-01],\n",
      "           [-1.0065e-01,  6.2573e-03, -1.7584e-01]]]],\n",
      "\n",
      "\n",
      "\n",
      "        [[[[-9.0881e-02, -3.2010e-02,  1.0496e-01],\n",
      "           [-3.9656e-02, -1.1139e-01,  1.5854e-01],\n",
      "           [-8.4728e-02,  8.8470e-02, -1.4092e-02]],\n",
      "\n",
      "          [[-9.8988e-02, -1.4879e-02, -5.0337e-03],\n",
      "           [-1.3960e-01, -1.3887e-01, -8.8016e-03],\n",
      "           [-8.6354e-02, -1.2860e-01,  6.9006e-02]],\n",
      "\n",
      "          [[-1.3547e-01, -1.0198e-01, -3.2837e-02],\n",
      "           [-8.5281e-02, -9.4964e-03, -4.0139e-02],\n",
      "           [ 1.9688e-01, -1.3198e-01, -1.5804e-01]]]],\n",
      "\n",
      "\n",
      "\n",
      "        [[[[ 1.0964e-01,  5.5156e-02, -1.4597e-01],\n",
      "           [-9.5437e-03, -5.8524e-02,  1.1125e-01],\n",
      "           [-1.8459e-01, -5.0535e-02,  6.9929e-02]],\n",
      "\n",
      "          [[-1.7347e-01, -1.6750e-01,  1.0073e-01],\n",
      "           [-3.9639e-02,  3.6083e-02,  4.6747e-03],\n",
      "           [-1.0313e-01,  1.0823e-01, -1.4663e-02]],\n",
      "\n",
      "          [[ 1.5982e-01,  6.7882e-03, -4.5331e-02],\n",
      "           [ 2.0002e-01,  1.3670e-02, -1.2367e-01],\n",
      "           [ 4.0419e-02,  1.0014e-01,  1.5765e-01]]]],\n",
      "\n",
      "\n",
      "\n",
      "        [[[[-4.5017e-02,  1.6871e-01, -1.4324e-01],\n",
      "           [-1.6296e-01, -1.0981e-01,  1.2871e-01],\n",
      "           [ 3.3763e-02, -2.0071e-01, -1.3366e-02]],\n",
      "\n",
      "          [[-1.5271e-02,  9.0975e-02, -1.7696e-01],\n",
      "           [-1.5459e-01, -8.1864e-02, -8.7362e-02],\n",
      "           [-3.0939e-02,  1.4163e-01,  1.7010e-02]],\n",
      "\n",
      "          [[ 2.8684e-02, -1.7288e-01, -1.6528e-01],\n",
      "           [-1.1534e-01,  1.3584e-01, -2.7312e-02],\n",
      "           [ 7.5538e-02,  2.7979e-02,  8.2690e-02]]]],\n",
      "\n",
      "\n",
      "\n",
      "        [[[[-1.3315e-01,  2.5904e-02,  5.9759e-02],\n",
      "           [-1.7973e-01, -2.9496e-03,  5.4152e-02],\n",
      "           [ 6.0843e-02,  1.1952e-01,  4.8119e-02]],\n",
      "\n",
      "          [[-3.8400e-02, -1.1390e-01, -1.1489e-01],\n",
      "           [-8.5125e-02, -9.8433e-02,  1.4190e-01],\n",
      "           [-1.1881e-01,  7.0341e-02, -8.6846e-02]],\n",
      "\n",
      "          [[ 1.4132e-01,  1.4724e-01,  2.6041e-05],\n",
      "           [ 1.4566e-01, -1.0132e-01,  1.3444e-01],\n",
      "           [ 1.5720e-03, -1.6020e-01,  9.1076e-02]]]],\n",
      "\n",
      "\n",
      "\n",
      "        [[[[ 1.2222e-02, -1.8193e-01,  1.7277e-01],\n",
      "           [-8.7495e-03, -6.8568e-02,  7.9034e-02],\n",
      "           [-1.0461e-01,  8.9104e-02, -2.0484e-01]],\n",
      "\n",
      "          [[ 8.2478e-02, -1.4529e-01, -8.9239e-03],\n",
      "           [ 5.3723e-02,  9.0293e-02, -1.3041e-01],\n",
      "           [ 2.7490e-02,  1.5900e-01, -1.9244e-02]],\n",
      "\n",
      "          [[ 1.0071e-01, -1.4107e-01,  1.0725e-01],\n",
      "           [-1.3205e-01,  8.7225e-02, -1.2654e-01],\n",
      "           [-2.4691e-02, -8.3668e-02,  7.5388e-02]]]],\n",
      "\n",
      "\n",
      "\n",
      "        [[[[-1.8040e-01,  1.6517e-01, -1.5277e-02],\n",
      "           [-1.1498e-02, -2.6548e-02,  3.9107e-02],\n",
      "           [ 1.9006e-01, -1.2858e-01, -1.1972e-01]],\n",
      "\n",
      "          [[ 1.3519e-01, -1.7427e-01,  1.3611e-01],\n",
      "           [ 1.7871e-01, -3.4398e-03, -1.2697e-01],\n",
      "           [ 7.1221e-02,  1.3236e-01,  3.6137e-02]],\n",
      "\n",
      "          [[ 1.0420e-01,  1.5393e-01, -1.1648e-01],\n",
      "           [-1.8133e-01,  1.4886e-01, -7.6196e-02],\n",
      "           [ 8.6519e-02,  1.2143e-01, -1.8847e-01]]]]], device='cuda:0',\n",
      "       requires_grad=True)\n",
      "Parameter containing:\n",
      "tensor([1.0016, 1.0023, 0.9797, 1.0054, 0.9998, 1.0063, 0.9898, 1.0148, 1.0024,\n",
      "        1.0000, 0.9997, 0.9906, 1.0067, 0.9872, 0.9910, 0.9883, 0.9984, 1.0005,\n",
      "        1.0152, 1.0046, 1.0108, 1.0001, 0.9914, 0.9919, 0.9983, 1.0068, 0.9982,\n",
      "        1.0071, 0.9913, 1.0147, 0.9897, 1.0148], device='cuda:0',\n",
      "       requires_grad=True)\n",
      "Parameter containing:\n",
      "tensor([-0.0082, -0.0048, -0.0042, -0.0281, -0.0014, -0.0231,  0.0008, -0.0214,\n",
      "         0.0236,  0.0275, -0.0275, -0.0068, -0.0251, -0.0074, -0.0282, -0.0101,\n",
      "        -0.0295, -0.0015, -0.0192, -0.0259,  0.0048,  0.0361,  0.0163, -0.0139,\n",
      "        -0.0112,  0.0397, -0.0044, -0.0129, -0.0243,  0.0389, -0.0055, -0.0353],\n",
      "       device='cuda:0', requires_grad=True)\n",
      "Parameter containing:\n",
      "tensor([[[[[ 2.7873e-02,  4.1258e-02,  1.3176e-02],\n",
      "           [-1.5027e-03, -5.7534e-05,  2.0159e-02],\n",
      "           [-2.0431e-02,  1.1528e-02, -5.6525e-03]],\n",
      "\n",
      "          [[ 1.8103e-02,  2.4335e-03,  2.2667e-02],\n",
      "           [ 7.6933e-03,  2.6478e-02,  1.9644e-02],\n",
      "           [ 3.6172e-02,  1.8717e-02,  6.1720e-03]],\n",
      "\n",
      "          [[ 2.0302e-02,  1.7661e-03,  7.2106e-03],\n",
      "           [ 1.2104e-02,  3.6169e-02,  1.2991e-02],\n",
      "           [ 1.7979e-02,  1.0706e-02, -1.4721e-02]]],\n",
      "\n",
      "\n",
      "         [[[-3.0942e-02,  5.0498e-04, -2.1780e-02],\n",
      "           [-2.0226e-02, -4.2852e-02,  8.9738e-03],\n",
      "           [-4.0832e-02, -3.3622e-02, -2.4477e-02]],\n",
      "\n",
      "          [[-1.5844e-02, -2.6639e-02,  3.7459e-02],\n",
      "           [-2.6801e-02,  2.4180e-02,  3.0225e-02],\n",
      "           [-2.8338e-03,  7.3240e-03,  2.7914e-02]],\n",
      "\n",
      "          [[ 1.9808e-02,  2.0791e-02,  7.3688e-03],\n",
      "           [ 1.6658e-02,  2.7628e-03,  1.1501e-02],\n",
      "           [ 2.3170e-02,  1.9885e-02,  2.4075e-02]]],\n",
      "\n",
      "\n",
      "         [[[ 2.3545e-02,  1.5761e-02, -1.8548e-02],\n",
      "           [ 1.1888e-02, -2.8781e-02,  2.4285e-02],\n",
      "           [-2.5379e-02,  2.7926e-02, -2.1728e-02]],\n",
      "\n",
      "          [[ 5.6894e-03,  6.4246e-03,  2.7790e-02],\n",
      "           [ 1.1787e-02,  1.2423e-02, -1.4676e-02],\n",
      "           [ 1.7913e-02,  2.7856e-02,  3.4613e-02]],\n",
      "\n",
      "          [[ 1.6165e-02, -7.7318e-03, -1.1121e-02],\n",
      "           [ 1.2229e-02,  9.7103e-03, -2.3234e-02],\n",
      "           [ 3.2661e-02, -1.8988e-02, -3.1956e-03]]],\n",
      "\n",
      "\n",
      "         ...,\n",
      "\n",
      "\n",
      "         [[[-1.2787e-02, -4.1242e-03, -3.4528e-02],\n",
      "           [-4.2247e-02, -3.6305e-02, -1.1219e-02],\n",
      "           [-1.6684e-02,  8.7865e-03,  2.4878e-02]],\n",
      "\n",
      "          [[ 1.8505e-02, -2.8475e-02, -2.7599e-02],\n",
      "           [-4.8188e-02, -4.1476e-03,  2.8673e-02],\n",
      "           [-2.7948e-02, -3.9333e-02,  5.7152e-03]],\n",
      "\n",
      "          [[ 6.1630e-03, -1.7113e-02,  1.0825e-02],\n",
      "           [-4.9011e-02, -3.0367e-02, -1.2063e-02],\n",
      "           [-2.6978e-02, -4.3613e-02, -1.7557e-02]]],\n",
      "\n",
      "\n",
      "         [[[-1.2075e-02, -1.2961e-02, -2.5749e-02],\n",
      "           [ 8.2215e-03,  5.1135e-03,  1.4818e-02],\n",
      "           [ 3.1526e-02,  6.0769e-03, -4.5226e-03]],\n",
      "\n",
      "          [[-1.6225e-02, -4.7836e-03,  1.1591e-02],\n",
      "           [ 2.6855e-03,  4.9325e-03, -5.8830e-03],\n",
      "           [ 3.4549e-02, -8.7163e-03,  2.4507e-02]],\n",
      "\n",
      "          [[-5.8646e-03,  3.1870e-02,  2.8635e-02],\n",
      "           [-1.4694e-02,  3.4709e-02, -7.9195e-03],\n",
      "           [-1.1852e-03, -2.1039e-02,  1.9913e-02]]],\n",
      "\n",
      "\n",
      "         [[[ 8.4082e-03, -6.1378e-03, -7.7944e-03],\n",
      "           [ 1.8599e-02,  2.0539e-02, -1.1078e-02],\n",
      "           [ 3.0946e-02,  3.7700e-02,  3.2053e-02]],\n",
      "\n",
      "          [[-5.4360e-03,  2.4120e-02,  3.5165e-03],\n",
      "           [-1.5750e-02, -2.9072e-02,  2.6055e-02],\n",
      "           [-2.0772e-02, -7.1412e-03,  1.5031e-02]],\n",
      "\n",
      "          [[-2.0610e-02, -2.9332e-02,  1.6078e-02],\n",
      "           [ 1.6937e-03, -1.6961e-02, -2.8489e-02],\n",
      "           [ 2.3845e-02,  1.1714e-02,  2.1436e-02]]]],\n",
      "\n",
      "\n",
      "\n",
      "        [[[[ 6.3269e-03,  9.6457e-04,  2.0211e-02],\n",
      "           [ 9.2633e-04,  2.7034e-02, -1.4749e-02],\n",
      "           [ 4.5974e-02,  1.6055e-02, -1.0260e-02]],\n",
      "\n",
      "          [[-1.1531e-02, -1.1349e-02, -2.0980e-02],\n",
      "           [ 5.0377e-02,  2.0829e-02, -3.4680e-02],\n",
      "           [-1.9879e-02,  2.2157e-02,  3.0177e-03]],\n",
      "\n",
      "          [[-4.3851e-03,  3.1633e-02, -1.0035e-02],\n",
      "           [ 5.9262e-03,  7.6225e-03, -2.4372e-02],\n",
      "           [ 3.0828e-02, -2.3024e-02, -4.3596e-04]]],\n",
      "\n",
      "\n",
      "         [[[-2.7939e-02,  4.4067e-03, -6.4112e-04],\n",
      "           [-2.8554e-02,  5.3655e-04, -3.3975e-02],\n",
      "           [-2.2365e-03,  7.0095e-03,  1.9421e-03]],\n",
      "\n",
      "          [[-1.8891e-02, -1.7135e-02,  1.7097e-02],\n",
      "           [ 1.9285e-02,  2.6365e-02,  1.3731e-02],\n",
      "           [-8.2417e-04,  2.4422e-03, -2.0179e-02]],\n",
      "\n",
      "          [[ 1.6586e-03, -3.0298e-02,  2.8629e-02],\n",
      "           [ 2.1747e-02, -2.1631e-02, -1.1923e-03],\n",
      "           [-2.1366e-02,  1.8413e-02,  2.4590e-02]]],\n",
      "\n",
      "\n",
      "         [[[-1.7415e-03, -1.9975e-02, -6.0077e-03],\n",
      "           [ 1.1511e-02,  5.5331e-03,  1.7171e-02],\n",
      "           [-2.3418e-02,  3.1491e-02, -3.5000e-02]],\n",
      "\n",
      "          [[ 1.9462e-02, -2.8515e-02, -1.7779e-02],\n",
      "           [-3.1028e-02,  2.6145e-02, -3.0391e-02],\n",
      "           [-7.5592e-03, -4.7913e-03, -1.6992e-02]],\n",
      "\n",
      "          [[-1.4107e-03, -3.9085e-03,  9.0293e-03],\n",
      "           [ 1.1054e-02,  1.9837e-02, -1.6586e-02],\n",
      "           [-3.7011e-02,  2.9803e-02, -3.2596e-02]]],\n",
      "\n",
      "\n",
      "         ...,\n",
      "\n",
      "\n",
      "         [[[ 2.0500e-02, -1.5694e-03,  3.3992e-02],\n",
      "           [-3.0855e-02,  2.1002e-02,  1.6951e-02],\n",
      "           [ 1.4334e-02,  1.1931e-02,  2.6377e-02]],\n",
      "\n",
      "          [[-2.2393e-02, -3.1313e-02, -1.4729e-02],\n",
      "           [-4.0482e-02, -2.2134e-02,  7.6977e-03],\n",
      "           [-4.4628e-03, -3.1199e-02,  2.1027e-02]],\n",
      "\n",
      "          [[ 1.7116e-02,  1.5492e-02,  3.8694e-02],\n",
      "           [-2.7144e-02,  1.3402e-02,  1.9453e-02],\n",
      "           [-1.8968e-02, -3.6617e-02,  4.3744e-02]]],\n",
      "\n",
      "\n",
      "         [[[ 3.4453e-02, -2.4620e-02,  7.9227e-03],\n",
      "           [-1.9925e-02, -2.0777e-02, -8.3111e-03],\n",
      "           [-1.2679e-02, -1.1993e-02, -1.0339e-02]],\n",
      "\n",
      "          [[-3.8935e-03,  3.0297e-05, -3.3814e-02],\n",
      "           [ 2.8814e-02,  1.5126e-02, -3.4271e-02],\n",
      "           [-3.2658e-02, -1.8597e-02, -1.2948e-02]],\n",
      "\n",
      "          [[-1.6680e-02,  1.1344e-02,  1.9681e-02],\n",
      "           [-1.5005e-02, -2.2470e-02, -2.2971e-02],\n",
      "           [-6.5669e-03,  2.2648e-02, -7.6455e-03]]],\n",
      "\n",
      "\n",
      "         [[[ 4.4072e-02, -3.0036e-03,  1.1828e-02],\n",
      "           [ 5.2244e-02, -2.3004e-02,  9.8909e-03],\n",
      "           [ 2.5706e-02, -2.4382e-02,  5.2648e-03]],\n",
      "\n",
      "          [[ 4.3493e-02, -4.2300e-02,  6.6660e-03],\n",
      "           [-3.5538e-03,  1.1732e-02, -3.1184e-02],\n",
      "           [-2.0053e-03, -5.2710e-05, -3.8323e-03]],\n",
      "\n",
      "          [[ 1.6034e-03, -2.8493e-02, -4.1320e-02],\n",
      "           [ 1.6106e-03,  1.2098e-02, -8.4430e-03],\n",
      "           [ 4.0527e-02, -2.1053e-02, -2.8385e-02]]]],\n",
      "\n",
      "\n",
      "\n",
      "        [[[[ 2.5517e-02, -3.3353e-02,  1.2476e-03],\n",
      "           [ 1.8718e-02, -4.7681e-03, -2.1274e-02],\n",
      "           [-2.5226e-02,  1.6284e-02, -5.2643e-04]],\n",
      "\n",
      "          [[ 2.8638e-02,  1.3420e-02, -2.5976e-02],\n",
      "           [ 2.5108e-02, -9.5986e-03, -5.9945e-03],\n",
      "           [-1.1165e-02, -3.6676e-02, -4.9229e-03]],\n",
      "\n",
      "          [[ 1.5282e-02, -2.9796e-02, -5.0925e-03],\n",
      "           [ 9.2501e-03,  1.3300e-03, -3.3146e-02],\n",
      "           [-1.8730e-02, -1.4527e-02, -9.7724e-03]]],\n",
      "\n",
      "\n",
      "         [[[-2.2406e-02,  2.8672e-02, -2.2745e-02],\n",
      "           [ 1.5300e-02,  3.5560e-03,  4.5599e-03],\n",
      "           [-1.5066e-02,  3.1264e-02,  4.0661e-02]],\n",
      "\n",
      "          [[-3.9892e-03,  3.4700e-04,  7.5585e-03],\n",
      "           [ 2.4114e-02, -2.3791e-02,  1.2145e-02],\n",
      "           [-2.3054e-02,  1.7778e-02,  1.1686e-02]],\n",
      "\n",
      "          [[ 4.8635e-03, -1.1538e-02, -3.2769e-02],\n",
      "           [ 7.3177e-03,  2.1132e-02, -3.3751e-02],\n",
      "           [ 1.0668e-03, -2.5775e-02, -1.5271e-03]]],\n",
      "\n",
      "\n",
      "         [[[-3.4130e-02, -8.1892e-03,  1.1103e-02],\n",
      "           [-3.1621e-03, -2.2115e-02, -3.8380e-03],\n",
      "           [ 3.0124e-02, -3.5835e-02,  1.6967e-02]],\n",
      "\n",
      "          [[-2.5238e-02, -7.5955e-03,  1.2221e-02],\n",
      "           [-5.6626e-03, -2.9048e-02,  2.5524e-03],\n",
      "           [ 9.8425e-03,  6.4944e-03,  2.1980e-02]],\n",
      "\n",
      "          [[-1.2014e-02, -5.4022e-03,  7.2358e-03],\n",
      "           [-1.8977e-02,  9.5075e-05, -2.4734e-03],\n",
      "           [ 1.3487e-02, -3.0468e-02,  4.2239e-03]]],\n",
      "\n",
      "\n",
      "         ...,\n",
      "\n",
      "\n",
      "         [[[-2.8896e-02, -8.1394e-03, -3.8422e-02],\n",
      "           [ 4.7150e-03,  5.5858e-03, -1.2472e-02],\n",
      "           [-2.3908e-02, -5.2423e-02, -5.1384e-02]],\n",
      "\n",
      "          [[-1.1040e-02, -2.6728e-02, -2.9862e-02],\n",
      "           [ 3.2126e-03, -4.9387e-02, -1.5632e-02],\n",
      "           [ 1.9817e-02, -3.6739e-02,  6.2389e-03]],\n",
      "\n",
      "          [[ 5.4216e-03, -1.4976e-02,  1.3556e-02],\n",
      "           [ 5.1479e-03, -1.3034e-02,  5.7847e-03],\n",
      "           [-1.9504e-02,  2.4740e-02, -2.6717e-02]]],\n",
      "\n",
      "\n",
      "         [[[ 5.4336e-04, -2.2536e-02,  3.3158e-02],\n",
      "           [ 1.6465e-02,  5.2569e-03,  1.0772e-02],\n",
      "           [ 8.2706e-03,  1.6524e-02,  8.2740e-03]],\n",
      "\n",
      "          [[ 8.6725e-03,  2.8233e-02, -1.2286e-02],\n",
      "           [ 3.4836e-02,  1.2197e-02,  3.8033e-02],\n",
      "           [-1.0383e-02, -2.4596e-02,  1.8539e-02]],\n",
      "\n",
      "          [[ 1.4511e-02, -2.7615e-02,  7.8833e-03],\n",
      "           [ 2.1587e-02, -2.9351e-02, -3.6564e-02],\n",
      "           [ 2.5801e-02, -2.9501e-02, -3.6103e-03]]],\n",
      "\n",
      "\n",
      "         [[[ 3.8600e-02, -4.0011e-03,  1.8370e-02],\n",
      "           [-6.0938e-03, -1.0133e-02,  1.0092e-02],\n",
      "           [-1.4131e-02, -1.6164e-02,  1.1003e-02]],\n",
      "\n",
      "          [[ 1.5611e-02, -3.4671e-02, -2.7373e-02],\n",
      "           [-1.5570e-02,  9.8809e-03, -2.5088e-02],\n",
      "           [-3.8767e-02, -2.3692e-02, -1.8727e-02]],\n",
      "\n",
      "          [[-4.5192e-02, -4.3641e-02, -3.8228e-02],\n",
      "           [-4.2606e-02, -3.8474e-02, -4.0069e-02],\n",
      "           [-3.2398e-02,  1.5081e-02, -2.1611e-02]]]],\n",
      "\n",
      "\n",
      "\n",
      "        ...,\n",
      "\n",
      "\n",
      "\n",
      "        [[[[ 1.0182e-02,  1.5597e-02,  3.2334e-02],\n",
      "           [ 1.2560e-02,  2.8225e-02,  2.9324e-03],\n",
      "           [ 1.6807e-02, -2.3275e-02,  1.9079e-02]],\n",
      "\n",
      "          [[-3.2326e-03, -2.1594e-02,  3.6938e-02],\n",
      "           [-5.3167e-03,  1.8518e-02,  4.4595e-02],\n",
      "           [ 3.7428e-02, -2.2812e-02,  1.5980e-02]],\n",
      "\n",
      "          [[-1.9881e-02, -1.4340e-02, -5.7683e-03],\n",
      "           [-9.2253e-03,  2.8625e-02,  3.3570e-02],\n",
      "           [ 1.2873e-02, -9.9221e-03, -1.3126e-02]]],\n",
      "\n",
      "\n",
      "         [[[ 2.0606e-02,  2.4540e-02, -1.8436e-02],\n",
      "           [ 3.2681e-02,  2.5470e-02,  7.1670e-03],\n",
      "           [-1.0360e-02,  2.8307e-02,  7.7760e-03]],\n",
      "\n",
      "          [[ 5.5159e-03,  1.9814e-02,  9.1140e-03],\n",
      "           [ 9.4244e-03, -6.9504e-03, -2.4487e-02],\n",
      "           [ 1.2091e-02,  2.9450e-02, -1.1222e-02]],\n",
      "\n",
      "          [[-2.8572e-02, -3.2212e-03, -3.5260e-02],\n",
      "           [ 1.7938e-02,  1.4193e-02,  3.0929e-02],\n",
      "           [-2.1404e-02,  3.2602e-02, -3.1896e-02]]],\n",
      "\n",
      "\n",
      "         [[[-1.6652e-02, -1.9799e-03, -3.0840e-02],\n",
      "           [-5.8905e-03,  1.9197e-02, -2.3375e-02],\n",
      "           [-1.0897e-02,  4.4007e-02, -3.0462e-02]],\n",
      "\n",
      "          [[-9.2287e-03, -1.0053e-02, -2.3520e-02],\n",
      "           [-1.3451e-02,  3.8640e-02,  2.3634e-02],\n",
      "           [ 1.1865e-02,  1.0676e-03, -1.1238e-02]],\n",
      "\n",
      "          [[ 1.2124e-02,  1.9461e-02,  8.5735e-03],\n",
      "           [-4.6891e-03,  8.0762e-03, -1.2108e-02],\n",
      "           [-2.2929e-02, -5.7922e-03,  2.4291e-02]]],\n",
      "\n",
      "\n",
      "         ...,\n",
      "\n",
      "\n",
      "         [[[ 3.9981e-03, -1.8592e-02,  7.9272e-03],\n",
      "           [-2.9968e-02, -3.4775e-02,  2.2216e-02],\n",
      "           [-4.8827e-02,  2.5462e-02,  6.5073e-03]],\n",
      "\n",
      "          [[-9.7802e-03,  1.4383e-02,  3.5516e-02],\n",
      "           [-3.5712e-02, -8.7178e-04,  4.9943e-02],\n",
      "           [-1.7050e-02, -3.9842e-02,  3.2597e-02]],\n",
      "\n",
      "          [[-2.7217e-02,  1.9243e-02,  1.8601e-02],\n",
      "           [ 2.4181e-03,  2.1929e-02, -7.8337e-03],\n",
      "           [ 1.3006e-02, -2.9902e-02,  4.1150e-02]]],\n",
      "\n",
      "\n",
      "         [[[ 1.6740e-03,  2.9870e-02, -1.4850e-03],\n",
      "           [ 1.3037e-02, -8.9504e-03, -2.0764e-02],\n",
      "           [ 1.3202e-02,  1.5378e-02,  1.2905e-02]],\n",
      "\n",
      "          [[ 1.9802e-03, -1.3526e-02,  3.3096e-03],\n",
      "           [ 1.4030e-02,  9.1898e-03,  2.3245e-02],\n",
      "           [ 9.9346e-03,  3.9844e-02, -7.3603e-04]],\n",
      "\n",
      "          [[-6.9082e-04, -1.3258e-02,  1.3258e-02],\n",
      "           [ 7.2665e-03, -5.1235e-03,  2.5993e-02],\n",
      "           [-2.7135e-02, -1.4514e-02, -1.6478e-02]]],\n",
      "\n",
      "\n",
      "         [[[ 1.4910e-02, -1.7463e-02, -4.7313e-03],\n",
      "           [ 1.6000e-02, -2.8044e-02,  1.7948e-02],\n",
      "           [ 2.3028e-02, -3.1480e-02, -2.1436e-02]],\n",
      "\n",
      "          [[ 1.8742e-02,  1.0436e-02,  3.9737e-02],\n",
      "           [ 1.5079e-02, -1.5482e-02,  4.4431e-02],\n",
      "           [-1.7867e-02, -3.7192e-02,  4.2004e-02]],\n",
      "\n",
      "          [[-1.3464e-02,  8.1163e-03, -9.9949e-03],\n",
      "           [-2.3703e-02,  6.4403e-03,  3.2741e-02],\n",
      "           [ 2.3461e-03, -3.7574e-02,  2.9312e-02]]]],\n",
      "\n",
      "\n",
      "\n",
      "        [[[[-8.6738e-03,  3.3880e-02,  1.8686e-02],\n",
      "           [ 2.7338e-02,  3.8140e-02,  3.4074e-02],\n",
      "           [ 1.8945e-02, -1.2392e-02, -1.9752e-02]],\n",
      "\n",
      "          [[-2.7098e-02,  3.3359e-02,  7.6700e-03],\n",
      "           [ 1.5365e-03,  3.7810e-02,  8.5104e-03],\n",
      "           [ 2.6232e-02, -3.9480e-03,  3.7251e-02]],\n",
      "\n",
      "          [[ 2.6702e-02, -1.1304e-03,  9.7660e-03],\n",
      "           [-3.2756e-02, -1.5417e-02, -6.4541e-03],\n",
      "           [-1.9644e-02,  1.2322e-02, -2.4540e-02]]],\n",
      "\n",
      "\n",
      "         [[[-4.2192e-02, -2.0300e-03,  1.4818e-02],\n",
      "           [-3.1936e-02,  2.4757e-02,  2.1082e-02],\n",
      "           [-2.0117e-02,  9.9071e-03, -8.9487e-03]],\n",
      "\n",
      "          [[ 3.3166e-04, -8.3677e-03,  1.9536e-02],\n",
      "           [ 7.9637e-03,  2.4543e-02, -1.5795e-02],\n",
      "           [-3.4675e-02,  1.1810e-02, -4.1814e-02]],\n",
      "\n",
      "          [[-8.9444e-03,  5.2108e-03, -2.1785e-03],\n",
      "           [-2.9328e-02, -8.3324e-04, -3.6522e-03],\n",
      "           [-3.6267e-02,  1.8735e-02, -1.4453e-02]]],\n",
      "\n",
      "\n",
      "         [[[-9.4761e-03,  4.9117e-03,  1.9888e-02],\n",
      "           [-7.7902e-03,  3.2459e-02, -1.4987e-02],\n",
      "           [ 1.3323e-02, -9.8143e-03, -3.3323e-02]],\n",
      "\n",
      "          [[-1.2964e-02, -3.0702e-03, -1.6263e-02],\n",
      "           [-2.5605e-02,  2.4794e-02, -8.3222e-04],\n",
      "           [-1.8954e-02, -2.0884e-02,  9.1005e-03]],\n",
      "\n",
      "          [[ 2.0570e-02,  2.5889e-02,  8.5680e-03],\n",
      "           [ 2.3659e-03,  3.5646e-02,  8.0081e-03],\n",
      "           [-3.2495e-02, -1.5820e-02,  2.2351e-02]]],\n",
      "\n",
      "\n",
      "         ...,\n",
      "\n",
      "\n",
      "         [[[ 1.1153e-02,  2.6671e-02, -1.3340e-02],\n",
      "           [-4.8842e-03, -2.1640e-02, -6.2595e-04],\n",
      "           [-2.2585e-02, -1.8478e-02, -4.0265e-02]],\n",
      "\n",
      "          [[ 1.8626e-02, -7.9932e-04,  1.3464e-02],\n",
      "           [-2.0520e-02,  1.3097e-03, -4.9520e-02],\n",
      "           [-2.7489e-02, -2.6869e-03, -3.6173e-02]],\n",
      "\n",
      "          [[ 8.0929e-03, -2.7077e-03, -7.0832e-04],\n",
      "           [-3.1442e-02, -1.3446e-02, -3.3190e-02],\n",
      "           [-3.7242e-02,  1.1308e-02, -1.9959e-02]]],\n",
      "\n",
      "\n",
      "         [[[ 2.2654e-02,  3.6976e-03, -1.7434e-02],\n",
      "           [ 1.1201e-02,  2.2776e-02, -7.5963e-03],\n",
      "           [ 1.5319e-02, -1.7983e-02,  1.8364e-03]],\n",
      "\n",
      "          [[-1.4936e-02, -1.5635e-02, -2.8452e-03],\n",
      "           [ 2.6932e-02,  2.2816e-02,  2.7946e-02],\n",
      "           [-1.0712e-02, -1.3374e-02,  2.2069e-02]],\n",
      "\n",
      "          [[-6.5720e-04,  1.7281e-02,  5.7059e-04],\n",
      "           [-9.4066e-04, -9.8127e-03,  1.0846e-02],\n",
      "           [ 2.1254e-02,  8.9897e-04, -3.0657e-03]]],\n",
      "\n",
      "\n",
      "         [[[-1.3384e-02,  3.6071e-02,  2.5174e-03],\n",
      "           [ 3.9215e-02,  3.1081e-02, -6.9376e-03],\n",
      "           [ 1.3639e-02, -4.2616e-03, -1.0150e-02]],\n",
      "\n",
      "          [[-1.0526e-02,  2.0258e-02,  4.7224e-02],\n",
      "           [ 3.4666e-02,  2.0037e-02, -1.8683e-02],\n",
      "           [ 3.4481e-02,  1.2984e-03,  3.3510e-02]],\n",
      "\n",
      "          [[ 1.4017e-02,  2.4068e-02, -1.5348e-02],\n",
      "           [ 2.7228e-02,  4.0677e-03, -1.2438e-02],\n",
      "           [ 2.2765e-02,  1.2445e-02,  4.4607e-03]]]],\n",
      "\n",
      "\n",
      "\n",
      "        [[[[-3.1082e-02, -3.2994e-02, -2.7045e-02],\n",
      "           [-3.7109e-02,  2.9725e-03, -1.4393e-02],\n",
      "           [-1.0276e-02, -2.7185e-02, -5.7498e-03]],\n",
      "\n",
      "          [[-2.3820e-02,  1.7214e-02, -3.0317e-02],\n",
      "           [ 5.2463e-03, -2.3549e-02,  3.9554e-02],\n",
      "           [-8.6750e-03,  3.4717e-02,  7.8166e-03]],\n",
      "\n",
      "          [[-1.9872e-02,  1.3971e-02,  1.0830e-02],\n",
      "           [-1.8599e-02,  3.1401e-03,  2.2548e-02],\n",
      "           [ 1.4477e-03,  7.8410e-03,  4.0065e-02]]],\n",
      "\n",
      "\n",
      "         [[[ 7.2649e-03, -3.4424e-02, -3.2690e-02],\n",
      "           [ 2.4831e-02,  8.7180e-03, -2.3731e-02],\n",
      "           [ 2.7876e-02,  8.3504e-03, -2.3210e-02]],\n",
      "\n",
      "          [[-2.6372e-02,  2.0779e-02, -1.7558e-02],\n",
      "           [-1.1978e-02, -4.0808e-02,  2.8747e-02],\n",
      "           [-2.2393e-02,  2.0825e-02,  2.5833e-03]],\n",
      "\n",
      "          [[ 4.3918e-03,  6.8029e-04, -3.5836e-02],\n",
      "           [-9.0324e-03, -5.4712e-03,  1.4617e-02],\n",
      "           [ 3.0491e-03,  2.2118e-02,  2.1623e-02]]],\n",
      "\n",
      "\n",
      "         [[[-2.8080e-02, -3.4288e-03, -7.2510e-04],\n",
      "           [-9.2550e-03,  9.1164e-03, -1.9664e-02],\n",
      "           [ 2.2788e-02, -2.0318e-03, -2.7463e-02]],\n",
      "\n",
      "          [[ 2.7759e-02,  3.2963e-03, -7.4478e-03],\n",
      "           [ 2.2712e-02, -3.5441e-02, -1.7986e-02],\n",
      "           [ 2.8689e-02,  7.0638e-03, -2.6909e-02]],\n",
      "\n",
      "          [[-7.3464e-03,  2.2359e-02, -2.4502e-02],\n",
      "           [-2.6759e-02,  1.7956e-02,  2.5175e-02],\n",
      "           [-1.5163e-02, -1.1952e-02,  2.2447e-02]]],\n",
      "\n",
      "\n",
      "         ...,\n",
      "\n",
      "\n",
      "         [[[-3.1886e-02, -2.1100e-02, -3.6610e-02],\n",
      "           [-2.0074e-02,  1.3555e-02,  2.2241e-02],\n",
      "           [ 2.7570e-02, -3.4055e-03,  8.2214e-02]],\n",
      "\n",
      "          [[-2.6192e-02, -2.9162e-02, -6.1735e-02],\n",
      "           [ 3.6185e-02,  2.1331e-02,  2.8053e-02],\n",
      "           [-3.1869e-03, -6.3264e-03, -2.0309e-03]],\n",
      "\n",
      "          [[ 2.5407e-02,  2.3031e-02, -1.5544e-03],\n",
      "           [ 1.5397e-02, -3.2377e-02, -1.5528e-02],\n",
      "           [-1.0690e-02,  2.6699e-02, -4.5112e-02]]],\n",
      "\n",
      "\n",
      "         [[[-1.8054e-03,  1.1883e-02, -5.3312e-03],\n",
      "           [ 1.6480e-02, -2.7206e-02, -1.9434e-02],\n",
      "           [-7.2618e-03, -6.4660e-03,  5.7208e-04]],\n",
      "\n",
      "          [[-1.6337e-02,  2.4756e-02, -3.3599e-03],\n",
      "           [-4.4243e-03,  1.9357e-02,  2.7609e-02],\n",
      "           [ 3.2412e-02, -3.1053e-02, -2.9589e-02]],\n",
      "\n",
      "          [[-1.7071e-02,  3.1333e-02,  2.7637e-02],\n",
      "           [-1.2296e-02, -3.2387e-02, -2.6644e-03],\n",
      "           [ 5.2851e-03, -3.8843e-03, -3.7133e-02]]],\n",
      "\n",
      "\n",
      "         [[[ 1.5593e-02, -2.1800e-02,  3.5737e-02],\n",
      "           [-3.6480e-02, -4.8525e-03, -2.9303e-02],\n",
      "           [-1.7279e-02,  1.2274e-02,  7.3667e-03]],\n",
      "\n",
      "          [[ 2.7020e-02, -2.5456e-02,  3.7583e-02],\n",
      "           [-8.8325e-03, -1.3620e-03,  4.7083e-03],\n",
      "           [ 2.0872e-02, -1.3383e-02, -4.7511e-03]],\n",
      "\n",
      "          [[-1.8136e-02, -3.2367e-02, -4.0904e-03],\n",
      "           [-3.3724e-03,  2.4328e-02,  8.5764e-03],\n",
      "           [ 2.6566e-02,  1.5829e-03,  1.0338e-02]]]]], device='cuda:0',\n",
      "       requires_grad=True)\n",
      "Parameter containing:\n",
      "tensor([0.9894, 1.0053, 0.9956, 1.0148, 1.0035, 0.9998, 1.0113, 0.9648, 1.0079,\n",
      "        0.9857, 0.9912, 1.0077, 0.9893, 1.0145, 0.9935, 0.9779, 1.0030, 0.9789,\n",
      "        0.9931, 1.0064, 1.0054, 0.9936, 0.9909, 1.0064, 0.9945, 0.9771, 1.0087,\n",
      "        1.0039, 1.0001, 0.9973, 1.0072, 1.0138], device='cuda:0',\n",
      "       requires_grad=True)\n",
      "Parameter containing:\n",
      "tensor([-0.0083,  0.0263,  0.0019,  0.0204, -0.0409, -0.0108,  0.0136, -0.0238,\n",
      "        -0.0298,  0.0020,  0.0131,  0.0173, -0.0218,  0.0264, -0.0302, -0.0094,\n",
      "        -0.0152, -0.0356, -0.0281, -0.0376,  0.0061, -0.0048, -0.0211,  0.0059,\n",
      "        -0.0281, -0.0280, -0.0453, -0.0471, -0.0392, -0.0057, -0.0332,  0.0114],\n",
      "       device='cuda:0', requires_grad=True)\n",
      "Parameter containing:\n",
      "tensor([[[[[-2.2122e-02, -2.4996e-02,  2.4663e-02],\n",
      "           [-1.6252e-02, -6.9323e-03,  6.2513e-03],\n",
      "           [ 1.2754e-02,  3.6920e-02, -1.2731e-02]],\n",
      "\n",
      "          [[-2.4675e-02, -2.1463e-02, -2.9626e-02],\n",
      "           [-3.5660e-02,  7.1345e-03, -1.3109e-03],\n",
      "           [-1.0896e-02, -1.6200e-03,  1.0164e-02]],\n",
      "\n",
      "          [[-7.3066e-03,  2.8040e-02,  7.9451e-03],\n",
      "           [ 1.3321e-02,  1.9255e-02,  2.7105e-02],\n",
      "           [-1.1218e-04,  4.3164e-03,  1.2895e-02]]],\n",
      "\n",
      "\n",
      "         [[[-1.1094e-02, -6.1080e-04,  6.3343e-03],\n",
      "           [ 2.1602e-02, -1.9835e-02,  9.6510e-03],\n",
      "           [-1.1819e-02, -3.9037e-02, -1.1677e-02]],\n",
      "\n",
      "          [[-2.0886e-02,  1.7229e-02,  1.8398e-02],\n",
      "           [ 1.5884e-02, -3.4071e-03,  5.0799e-02],\n",
      "           [ 1.3226e-02,  5.1849e-03,  9.7284e-03]],\n",
      "\n",
      "          [[-8.7418e-03, -3.6593e-02,  2.2665e-02],\n",
      "           [ 1.5385e-02, -5.1660e-02, -2.5697e-02],\n",
      "           [-2.7162e-02, -8.7904e-04, -2.6999e-02]]],\n",
      "\n",
      "\n",
      "         [[[-9.4657e-03,  6.6571e-03,  2.9648e-02],\n",
      "           [-1.2692e-02, -3.8984e-02, -1.9044e-02],\n",
      "           [-1.9582e-02, -1.3542e-02,  3.7778e-02]],\n",
      "\n",
      "          [[-5.6724e-02, -2.2006e-02, -1.1225e-02],\n",
      "           [-4.4609e-02, -5.1980e-02,  1.5281e-03],\n",
      "           [-5.1083e-02, -7.8543e-03, -4.8353e-02]],\n",
      "\n",
      "          [[ 1.2311e-02, -1.6754e-02,  3.7073e-03],\n",
      "           [ 1.7762e-03,  1.6199e-02, -1.9296e-02],\n",
      "           [-2.5241e-02, -3.3848e-02,  1.7130e-02]]],\n",
      "\n",
      "\n",
      "         ...,\n",
      "\n",
      "\n",
      "         [[[ 8.6110e-03,  2.1021e-02,  1.3953e-02],\n",
      "           [-7.9619e-04, -1.8062e-02,  7.0350e-03],\n",
      "           [-2.0757e-02, -2.8540e-02,  1.0379e-02]],\n",
      "\n",
      "          [[ 1.9933e-02, -7.1954e-03, -2.8467e-02],\n",
      "           [ 2.0735e-02, -8.9516e-03, -2.9967e-02],\n",
      "           [-1.7935e-03,  2.4821e-02, -3.4440e-02]],\n",
      "\n",
      "          [[-4.2447e-02,  1.2069e-02, -1.3921e-02],\n",
      "           [ 1.8199e-02, -4.3856e-02,  6.7328e-03],\n",
      "           [ 4.3165e-03, -3.5295e-02,  6.5195e-03]]],\n",
      "\n",
      "\n",
      "         [[[-5.2455e-03,  2.7501e-02,  1.9482e-02],\n",
      "           [-1.3177e-02,  1.7687e-03, -8.0683e-03],\n",
      "           [-3.5459e-02, -2.5052e-02, -3.2641e-02]],\n",
      "\n",
      "          [[-2.6066e-02, -3.4505e-03,  3.9866e-02],\n",
      "           [ 9.0877e-03,  3.6533e-02,  2.1494e-02],\n",
      "           [ 5.6211e-03, -2.0717e-02,  3.0437e-02]],\n",
      "\n",
      "          [[-1.6306e-02,  3.4833e-02,  1.5775e-03],\n",
      "           [ 2.4110e-02,  8.1983e-03,  1.8106e-03],\n",
      "           [-8.5601e-03,  1.4360e-02,  2.4662e-02]]],\n",
      "\n",
      "\n",
      "         [[[ 3.8971e-04, -2.4767e-02, -2.0410e-02],\n",
      "           [ 2.0853e-02,  1.4701e-02, -1.4686e-02],\n",
      "           [-2.5194e-02, -2.7086e-02, -2.8096e-02]],\n",
      "\n",
      "          [[ 1.2390e-02, -6.2945e-03,  2.8327e-02],\n",
      "           [-7.0693e-03,  3.5163e-02, -2.4270e-02],\n",
      "           [-1.0317e-02, -3.8116e-03, -7.4897e-03]],\n",
      "\n",
      "          [[-4.0757e-03, -4.2969e-04,  2.9370e-02],\n",
      "           [ 1.9299e-02, -5.4751e-04, -1.8510e-02],\n",
      "           [ 3.2509e-02,  3.7375e-02, -3.1328e-02]]]],\n",
      "\n",
      "\n",
      "\n",
      "        [[[[ 5.8889e-03, -1.0819e-02,  6.4683e-03],\n",
      "           [ 8.4375e-03,  5.4390e-03,  2.0715e-02],\n",
      "           [ 6.9986e-03,  9.2303e-03,  1.8236e-02]],\n",
      "\n",
      "          [[-1.7717e-02, -2.2416e-02, -2.7296e-02],\n",
      "           [-3.9067e-02, -3.7008e-02,  2.7652e-02],\n",
      "           [ 5.9115e-03, -1.1883e-02, -2.2153e-02]],\n",
      "\n",
      "          [[-1.8957e-02,  3.3888e-03,  2.9848e-02],\n",
      "           [-3.0661e-02, -1.1057e-02, -8.7330e-03],\n",
      "           [ 1.4850e-02, -9.7940e-03, -2.6061e-03]]],\n",
      "\n",
      "\n",
      "         [[[ 4.7252e-02, -1.6357e-02, -3.4755e-02],\n",
      "           [-4.9871e-03, -3.0651e-02,  4.8589e-03],\n",
      "           [ 1.5263e-02, -2.9539e-03, -4.9904e-02]],\n",
      "\n",
      "          [[-1.3633e-02,  1.5701e-02, -1.5458e-02],\n",
      "           [ 1.9502e-03, -2.4093e-03, -4.7109e-02],\n",
      "           [-8.4877e-03, -1.1678e-02,  8.9507e-04]],\n",
      "\n",
      "          [[ 1.4686e-02, -1.2146e-02,  6.3962e-02],\n",
      "           [ 1.3141e-02,  5.0685e-04,  1.3538e-02],\n",
      "           [ 8.5311e-03,  3.1755e-02,  1.3917e-02]]],\n",
      "\n",
      "\n",
      "         [[[ 4.3030e-03, -2.0415e-02, -5.8123e-03],\n",
      "           [-3.3006e-02, -2.4834e-02, -9.2199e-03],\n",
      "           [-7.5429e-03, -1.7912e-02, -2.2036e-03]],\n",
      "\n",
      "          [[-1.8842e-02, -9.8821e-03,  1.3126e-02],\n",
      "           [ 4.3669e-03, -2.3055e-02,  2.3759e-02],\n",
      "           [-3.9452e-02,  6.4866e-03,  1.6583e-02]],\n",
      "\n",
      "          [[-2.9019e-02,  8.9123e-03, -1.6580e-02],\n",
      "           [-3.1050e-02,  5.1002e-03,  1.6780e-02],\n",
      "           [ 1.1670e-02, -8.5426e-03, -9.8119e-04]]],\n",
      "\n",
      "\n",
      "         ...,\n",
      "\n",
      "\n",
      "         [[[-4.0071e-02, -2.3420e-02, -1.4059e-02],\n",
      "           [-3.6748e-02, -8.8978e-03,  2.0770e-02],\n",
      "           [ 6.8187e-03, -1.4603e-02, -9.4659e-03]],\n",
      "\n",
      "          [[ 3.0625e-03, -2.0407e-04,  1.8960e-02],\n",
      "           [ 3.8168e-02,  2.3506e-02, -1.7223e-02],\n",
      "           [ 5.4976e-03, -1.0246e-02,  1.7382e-02]],\n",
      "\n",
      "          [[-2.2737e-02, -1.6003e-02, -1.7349e-02],\n",
      "           [-2.6228e-03, -1.2380e-02,  2.8098e-04],\n",
      "           [ 7.3431e-03, -6.7901e-03, -2.8754e-02]]],\n",
      "\n",
      "\n",
      "         [[[-1.1605e-02, -3.2825e-02,  4.0509e-02],\n",
      "           [-1.8713e-02,  3.7498e-02, -1.6916e-03],\n",
      "           [-1.6632e-02,  2.0580e-02,  1.8041e-02]],\n",
      "\n",
      "          [[ 1.9737e-02,  1.6118e-02,  3.7990e-02],\n",
      "           [ 6.7904e-03,  4.6931e-02,  4.2626e-02],\n",
      "           [ 2.1923e-02,  1.9880e-02,  3.0763e-02]],\n",
      "\n",
      "          [[ 1.0627e-02,  2.7330e-02,  1.8174e-02],\n",
      "           [ 3.4216e-02, -1.6339e-02, -1.0270e-02],\n",
      "           [-1.4795e-02, -6.2826e-03,  5.2527e-03]]],\n",
      "\n",
      "\n",
      "         [[[-5.4543e-02,  2.3770e-02, -2.8314e-02],\n",
      "           [-1.2217e-02,  8.2127e-03,  1.5980e-02],\n",
      "           [ 6.7967e-03,  1.7395e-02,  3.0892e-03]],\n",
      "\n",
      "          [[ 3.7749e-03,  3.4273e-02, -2.4991e-02],\n",
      "           [-1.9060e-02,  4.1843e-02,  1.9328e-02],\n",
      "           [-2.9774e-02,  3.4212e-02, -1.3076e-02]],\n",
      "\n",
      "          [[ 1.1068e-02, -2.6286e-02, -4.3878e-02],\n",
      "           [ 5.5655e-03, -1.7177e-02, -4.9632e-03],\n",
      "           [ 1.3773e-02, -7.1268e-04,  1.2118e-03]]]],\n",
      "\n",
      "\n",
      "\n",
      "        [[[[ 5.4381e-04,  9.4555e-04, -2.1873e-02],\n",
      "           [ 1.0747e-02, -4.9605e-03, -8.9740e-03],\n",
      "           [ 3.1012e-02, -2.0621e-02, -3.7813e-04]],\n",
      "\n",
      "          [[-2.7913e-02, -7.9200e-03,  9.6971e-03],\n",
      "           [-6.4706e-03,  3.1188e-02, -9.0849e-03],\n",
      "           [-2.0030e-02,  4.0280e-02, -2.4897e-02]],\n",
      "\n",
      "          [[ 7.0485e-03,  2.8263e-02, -7.9123e-03],\n",
      "           [ 5.5440e-03, -1.1175e-02,  1.2082e-02],\n",
      "           [-1.9272e-02,  3.4672e-02,  1.0318e-02]]],\n",
      "\n",
      "\n",
      "         [[[ 5.6446e-03, -3.5016e-02, -2.9159e-02],\n",
      "           [-1.9481e-02,  2.1422e-02, -1.1114e-02],\n",
      "           [-1.6597e-02,  3.7278e-03, -1.1208e-02]],\n",
      "\n",
      "          [[ 2.1701e-02,  2.6030e-02,  2.0263e-02],\n",
      "           [ 1.2926e-02,  4.2557e-02,  3.7600e-02],\n",
      "           [ 8.5546e-03,  3.0872e-02,  3.5708e-02]],\n",
      "\n",
      "          [[ 2.4588e-02, -1.4658e-02, -1.8143e-02],\n",
      "           [ 2.4392e-03,  1.2513e-02, -2.4832e-02],\n",
      "           [ 5.3908e-03,  2.0490e-02,  2.1416e-02]]],\n",
      "\n",
      "\n",
      "         [[[ 1.8906e-02,  1.5079e-02,  3.4186e-02],\n",
      "           [ 2.5981e-02,  1.0498e-02, -4.7504e-03],\n",
      "           [ 1.7657e-02, -1.0647e-02,  1.4517e-02]],\n",
      "\n",
      "          [[-1.1037e-02, -2.9668e-02, -5.1861e-02],\n",
      "           [-1.8063e-02, -3.2035e-02,  5.5101e-03],\n",
      "           [ 5.7926e-03, -1.2741e-02, -5.3972e-02]],\n",
      "\n",
      "          [[-2.9477e-02, -6.9100e-03, -1.8467e-02],\n",
      "           [-1.6119e-02, -8.4469e-03,  2.3277e-02],\n",
      "           [-1.5179e-02, -2.8225e-02, -3.1565e-02]]],\n",
      "\n",
      "\n",
      "         ...,\n",
      "\n",
      "\n",
      "         [[[ 9.6424e-03,  2.6760e-02,  1.7749e-04],\n",
      "           [ 7.9494e-03,  1.3071e-02,  2.5373e-02],\n",
      "           [-8.5470e-03, -7.2404e-03, -2.2357e-02]],\n",
      "\n",
      "          [[-1.2775e-02, -6.4646e-03, -2.6668e-02],\n",
      "           [ 2.4874e-03, -1.9814e-03, -4.6484e-03],\n",
      "           [ 2.9802e-02, -2.3613e-02,  1.7721e-02]],\n",
      "\n",
      "          [[-2.9655e-02, -2.6277e-02, -2.5861e-02],\n",
      "           [ 4.7806e-03,  1.9017e-02,  2.6628e-02],\n",
      "           [-2.5735e-02,  2.0819e-02, -3.6699e-02]]],\n",
      "\n",
      "\n",
      "         [[[-3.8151e-02, -8.4106e-03, -2.1795e-02],\n",
      "           [-1.6067e-02, -3.5003e-02,  7.9875e-03],\n",
      "           [-3.2166e-02,  8.9425e-03, -2.8423e-02]],\n",
      "\n",
      "          [[ 1.1404e-02,  2.1973e-02, -3.0172e-02],\n",
      "           [ 2.5138e-02, -1.5214e-02, -1.7817e-03],\n",
      "           [ 1.4582e-02,  3.8089e-02,  1.3358e-02]],\n",
      "\n",
      "          [[-8.9347e-03, -1.7572e-02, -1.5808e-02],\n",
      "           [ 2.8771e-02,  2.6841e-02,  1.1955e-02],\n",
      "           [ 2.2501e-02, -1.8211e-02,  1.7704e-02]]],\n",
      "\n",
      "\n",
      "         [[[ 2.2659e-02, -6.8951e-03, -3.1963e-02],\n",
      "           [-6.4512e-03, -5.4869e-03, -8.6844e-03],\n",
      "           [ 2.9104e-02,  2.7101e-02, -1.7622e-02]],\n",
      "\n",
      "          [[-1.4665e-02,  2.2115e-02,  8.8671e-03],\n",
      "           [ 3.6724e-02, -1.2032e-02, -2.6300e-02],\n",
      "           [ 2.0976e-02, -8.6902e-03, -3.5052e-03]],\n",
      "\n",
      "          [[ 3.1270e-03,  3.3418e-02,  1.9708e-02],\n",
      "           [-3.3444e-02, -2.5563e-02,  2.4944e-02],\n",
      "           [-1.7009e-02, -8.3867e-03, -2.9165e-02]]]],\n",
      "\n",
      "\n",
      "\n",
      "        ...,\n",
      "\n",
      "\n",
      "\n",
      "        [[[[ 1.9227e-02, -1.2903e-02,  2.0796e-02],\n",
      "           [ 2.9895e-02, -8.8207e-03, -3.5721e-02],\n",
      "           [-1.7345e-02,  2.7267e-02, -1.8321e-02]],\n",
      "\n",
      "          [[ 3.3079e-02,  9.3038e-03,  9.3882e-03],\n",
      "           [ 3.2122e-02, -1.1810e-02,  5.2767e-03],\n",
      "           [-1.3894e-03,  3.3447e-02, -1.8719e-02]],\n",
      "\n",
      "          [[ 2.0730e-02,  1.1589e-03,  2.0653e-02],\n",
      "           [ 3.0597e-02, -2.1194e-02, -3.4040e-02],\n",
      "           [ 2.4902e-02,  5.7852e-03,  4.0462e-03]]],\n",
      "\n",
      "\n",
      "         [[[-3.8947e-02, -1.7176e-02, -1.4840e-03],\n",
      "           [ 2.6947e-02, -9.9441e-03,  1.1730e-02],\n",
      "           [ 2.7196e-03,  2.4522e-03, -1.1287e-02]],\n",
      "\n",
      "          [[-1.4915e-02,  1.4896e-02, -4.1819e-02],\n",
      "           [ 1.7012e-02,  3.6522e-02,  2.4013e-03],\n",
      "           [-5.1312e-04,  6.0186e-03, -3.4494e-02]],\n",
      "\n",
      "          [[ 3.1462e-03, -8.1671e-03, -1.2735e-02],\n",
      "           [-4.0274e-03,  2.2443e-03, -4.2815e-02],\n",
      "           [-2.3803e-02, -3.8329e-02, -1.8001e-02]]],\n",
      "\n",
      "\n",
      "         [[[-2.3355e-02,  1.3226e-02,  2.9848e-03],\n",
      "           [ 1.7415e-02,  6.6405e-03,  2.5083e-02],\n",
      "           [-1.8871e-02,  8.0389e-03, -2.3917e-02]],\n",
      "\n",
      "          [[-3.7898e-02, -4.7300e-02, -1.7141e-03],\n",
      "           [-4.7647e-03, -5.0566e-03, -8.5760e-03],\n",
      "           [ 2.6533e-02,  3.9073e-03, -1.8325e-02]],\n",
      "\n",
      "          [[ 1.0900e-02, -9.1561e-03, -4.1035e-02],\n",
      "           [-8.3989e-04,  9.5671e-03, -4.7461e-03],\n",
      "           [ 6.9794e-03, -1.6617e-02, -2.1789e-02]]],\n",
      "\n",
      "\n",
      "         ...,\n",
      "\n",
      "\n",
      "         [[[-2.2949e-02,  9.3799e-03,  3.4836e-03],\n",
      "           [ 1.3348e-02,  9.2789e-03, -1.7063e-02],\n",
      "           [ 1.3472e-02, -9.1235e-03, -9.6221e-03]],\n",
      "\n",
      "          [[-1.1947e-02, -7.2176e-05,  1.2627e-02],\n",
      "           [ 2.4585e-02,  5.2220e-02,  2.6362e-02],\n",
      "           [-1.3841e-02,  3.8869e-02, -2.1412e-02]],\n",
      "\n",
      "          [[ 1.7265e-02, -1.5536e-02, -2.9438e-02],\n",
      "           [ 2.7641e-02,  3.8031e-02, -2.3714e-02],\n",
      "           [ 2.0305e-02, -1.4369e-02, -2.7430e-02]]],\n",
      "\n",
      "\n",
      "         [[[-1.0468e-02, -2.3829e-02, -1.5829e-02],\n",
      "           [-1.7901e-02,  2.5010e-02,  1.8160e-02],\n",
      "           [-3.4656e-02,  1.9001e-02,  4.3875e-03]],\n",
      "\n",
      "          [[-2.8239e-02, -2.4729e-02,  3.2377e-02],\n",
      "           [ 2.6525e-03,  1.6996e-02, -6.8072e-03],\n",
      "           [-1.6835e-02, -2.8784e-02, -2.4569e-02]],\n",
      "\n",
      "          [[-3.4783e-02, -2.0727e-02, -1.9916e-02],\n",
      "           [-1.8478e-02,  4.6007e-03,  6.7098e-03],\n",
      "           [-5.0372e-02, -3.6736e-02,  4.7593e-03]]],\n",
      "\n",
      "\n",
      "         [[[ 1.5832e-02, -2.2040e-03, -1.4540e-02],\n",
      "           [-1.9246e-02, -3.2644e-03,  1.0137e-02],\n",
      "           [ 1.8168e-02,  1.4108e-02,  2.2004e-02]],\n",
      "\n",
      "          [[ 1.4378e-02,  3.2712e-02, -4.5841e-03],\n",
      "           [-3.1246e-02, -1.0835e-02, -2.0437e-02],\n",
      "           [-4.9894e-03, -2.5396e-02,  2.0599e-02]],\n",
      "\n",
      "          [[-2.9916e-02,  1.9584e-02, -2.0124e-02],\n",
      "           [ 1.8158e-02,  1.8726e-02, -7.7901e-03],\n",
      "           [-3.9571e-02, -6.6648e-03, -2.3376e-02]]]],\n",
      "\n",
      "\n",
      "\n",
      "        [[[[-2.9488e-02,  2.8805e-02,  2.9572e-03],\n",
      "           [-4.2464e-02, -1.0517e-02,  1.7220e-02],\n",
      "           [-4.0744e-02, -3.2796e-02, -1.0562e-02]],\n",
      "\n",
      "          [[-3.2447e-02, -3.2266e-02,  9.3106e-03],\n",
      "           [ 2.7580e-02, -4.5511e-04, -3.2424e-02],\n",
      "           [-2.3880e-02,  5.7954e-03,  2.2908e-03]],\n",
      "\n",
      "          [[-1.8438e-02, -4.8044e-03, -2.2912e-02],\n",
      "           [ 1.5955e-02, -2.0583e-03, -3.2725e-02],\n",
      "           [-1.2421e-02,  5.4242e-03, -8.8375e-03]]],\n",
      "\n",
      "\n",
      "         [[[-9.4253e-03, -3.0743e-02,  1.2809e-02],\n",
      "           [-2.6443e-02,  2.1589e-03, -2.3773e-02],\n",
      "           [-8.0385e-03, -1.8208e-03,  2.4508e-02]],\n",
      "\n",
      "          [[-4.5449e-03,  1.6142e-02, -1.8269e-02],\n",
      "           [-1.0803e-02,  4.5235e-02,  1.5158e-02],\n",
      "           [ 7.1137e-03, -3.1697e-02, -3.8085e-02]],\n",
      "\n",
      "          [[-1.1017e-02,  4.9084e-03, -2.7014e-02],\n",
      "           [ 3.4082e-03,  1.9442e-02, -7.0612e-03],\n",
      "           [ 2.1320e-02, -1.0806e-02, -2.5639e-02]]],\n",
      "\n",
      "\n",
      "         [[[-4.4601e-02,  1.7600e-02, -1.0679e-03],\n",
      "           [-8.9835e-03, -3.0611e-02, -1.5573e-03],\n",
      "           [-1.3575e-02,  8.4505e-03,  5.4532e-03]],\n",
      "\n",
      "          [[ 2.9493e-02, -3.0851e-03, -1.7869e-02],\n",
      "           [ 3.4971e-03,  1.5116e-02, -9.7235e-03],\n",
      "           [ 3.5878e-02, -6.3602e-03, -4.9099e-02]],\n",
      "\n",
      "          [[ 1.3543e-02,  4.9168e-03,  4.5420e-03],\n",
      "           [ 2.2764e-02,  2.5746e-02, -2.5051e-02],\n",
      "           [-3.2864e-02, -2.7153e-02, -3.2273e-03]]],\n",
      "\n",
      "\n",
      "         ...,\n",
      "\n",
      "\n",
      "         [[[ 3.9697e-03,  1.2199e-02,  7.1015e-03],\n",
      "           [-1.4391e-02, -1.6946e-02,  2.0655e-02],\n",
      "           [ 7.8783e-03, -2.4327e-02, -1.2719e-02]],\n",
      "\n",
      "          [[ 3.0743e-02, -2.0315e-02,  3.2708e-02],\n",
      "           [ 4.2327e-03,  6.7034e-04,  1.8734e-02],\n",
      "           [ 2.2711e-02,  1.4540e-02, -2.0096e-02]],\n",
      "\n",
      "          [[ 6.2637e-03,  1.5730e-02, -3.3480e-02],\n",
      "           [ 1.3346e-02,  2.4035e-02, -3.2079e-02],\n",
      "           [-1.0025e-02,  1.1953e-02, -4.6790e-03]]],\n",
      "\n",
      "\n",
      "         [[[ 2.4419e-02,  2.0043e-02, -4.3346e-03],\n",
      "           [-3.7636e-02,  1.5107e-02,  2.1931e-02],\n",
      "           [-3.5291e-04,  1.3598e-02,  6.7605e-03]],\n",
      "\n",
      "          [[-2.4638e-02,  2.5533e-02,  2.5789e-02],\n",
      "           [-6.1880e-03,  1.1165e-02, -3.0613e-02],\n",
      "           [-1.5695e-02, -3.2956e-02,  2.8709e-02]],\n",
      "\n",
      "          [[ 3.5399e-02, -2.0138e-02, -3.1592e-02],\n",
      "           [ 1.9869e-02,  3.0910e-02,  3.0319e-02],\n",
      "           [-1.3477e-02, -1.5824e-02,  7.0486e-04]]],\n",
      "\n",
      "\n",
      "         [[[-3.0966e-02,  1.5664e-02, -4.1498e-03],\n",
      "           [ 5.1863e-03,  8.7592e-03,  5.2076e-03],\n",
      "           [-3.0546e-02,  2.1411e-02, -1.6454e-02]],\n",
      "\n",
      "          [[ 2.0461e-02,  2.4944e-02,  8.5250e-03],\n",
      "           [-1.1956e-02,  7.5403e-03, -3.1923e-02],\n",
      "           [ 2.9376e-03,  2.5614e-02,  1.5619e-02]],\n",
      "\n",
      "          [[ 7.6944e-04,  7.1132e-03, -1.0861e-02],\n",
      "           [-2.5080e-02, -2.1379e-02,  1.7928e-02],\n",
      "           [ 2.5931e-02,  1.5784e-02, -1.1565e-02]]]],\n",
      "\n",
      "\n",
      "\n",
      "        [[[[-3.1533e-02, -1.3628e-02, -1.4677e-03],\n",
      "           [-2.6394e-02, -1.5355e-02,  2.0641e-02],\n",
      "           [ 8.5669e-03, -2.1812e-03, -4.0974e-02]],\n",
      "\n",
      "          [[-1.7943e-02, -2.3136e-02, -3.6987e-02],\n",
      "           [ 1.2678e-02, -1.8634e-02, -2.0318e-02],\n",
      "           [-3.7552e-02,  9.7459e-03, -3.9707e-02]],\n",
      "\n",
      "          [[-2.3504e-02, -2.1032e-02,  2.0223e-02],\n",
      "           [ 3.0241e-03, -1.7430e-02, -3.0026e-02],\n",
      "           [-2.3476e-02,  2.1247e-02, -2.9549e-03]]],\n",
      "\n",
      "\n",
      "         [[[-4.8802e-02,  4.6986e-02,  9.8930e-03],\n",
      "           [-2.7517e-02,  2.9605e-02,  5.9060e-03],\n",
      "           [-3.2506e-02, -1.7332e-02,  3.7229e-02]],\n",
      "\n",
      "          [[ 4.1708e-02,  1.0745e-02, -1.0971e-04],\n",
      "           [-1.8266e-02,  3.1797e-02,  7.3410e-04],\n",
      "           [-2.4647e-02, -1.5994e-02,  3.4709e-02]],\n",
      "\n",
      "          [[-2.3080e-02, -1.7966e-02, -2.0541e-02],\n",
      "           [ 3.3887e-03,  1.0514e-02,  5.0884e-02],\n",
      "           [ 1.0506e-02, -1.7066e-03, -1.0229e-02]]],\n",
      "\n",
      "\n",
      "         [[[-1.4146e-02,  3.6880e-02,  1.4509e-02],\n",
      "           [-2.4011e-02,  1.4407e-03,  2.6584e-02],\n",
      "           [-2.3147e-03,  6.0253e-03,  4.1622e-02]],\n",
      "\n",
      "          [[ 4.3461e-03, -3.2759e-02, -1.5847e-02],\n",
      "           [ 2.1931e-03, -2.7462e-02,  4.5235e-03],\n",
      "           [-1.0702e-02,  3.6780e-03, -1.3389e-02]],\n",
      "\n",
      "          [[-2.8889e-02, -1.8770e-02, -4.0015e-03],\n",
      "           [-1.7862e-02,  1.5522e-02,  1.9792e-02],\n",
      "           [-1.9518e-02, -1.8021e-02, -7.2283e-03]]],\n",
      "\n",
      "\n",
      "         ...,\n",
      "\n",
      "\n",
      "         [[[ 3.3189e-03, -2.0741e-02, -9.9160e-03],\n",
      "           [ 2.3816e-02,  4.4278e-04,  2.7911e-02],\n",
      "           [-1.7152e-02, -1.4155e-02,  8.5575e-03]],\n",
      "\n",
      "          [[-2.3255e-02, -1.2924e-02,  1.5216e-02],\n",
      "           [ 2.0871e-02,  2.3223e-02, -1.4997e-02],\n",
      "           [ 3.7801e-03,  2.7738e-03, -2.7676e-02]],\n",
      "\n",
      "          [[-4.0010e-02,  1.5457e-02, -2.9868e-02],\n",
      "           [-3.4551e-02, -1.9048e-02,  2.0445e-02],\n",
      "           [ 1.3905e-02,  8.1243e-03,  2.6333e-03]]],\n",
      "\n",
      "\n",
      "         [[[-2.1104e-02,  1.2280e-03, -1.3131e-02],\n",
      "           [ 8.9047e-03, -3.6142e-03, -1.4041e-02],\n",
      "           [ 1.6467e-02,  1.4369e-02, -4.2840e-03]],\n",
      "\n",
      "          [[ 1.2519e-02, -1.0932e-02, -4.9359e-03],\n",
      "           [-7.9755e-04,  2.4784e-03,  2.9710e-02],\n",
      "           [ 3.8000e-02,  7.5542e-03,  7.7476e-03]],\n",
      "\n",
      "          [[-1.4958e-02, -1.8491e-02,  1.8975e-02],\n",
      "           [ 1.0322e-02,  4.2925e-02,  2.9292e-02],\n",
      "           [ 1.8929e-02, -1.8486e-02,  2.1571e-02]]],\n",
      "\n",
      "\n",
      "         [[[-3.6701e-02,  6.6457e-03,  1.1343e-02],\n",
      "           [ 2.6863e-04,  1.4241e-03, -2.5153e-02],\n",
      "           [-2.8221e-02, -2.3861e-02, -2.0854e-03]],\n",
      "\n",
      "          [[-2.5840e-02, -4.5901e-02,  4.0287e-02],\n",
      "           [-1.8831e-03,  1.8160e-02, -3.5272e-02],\n",
      "           [ 5.2303e-02, -5.9974e-03, -4.4110e-02]],\n",
      "\n",
      "          [[-6.6254e-03, -1.1577e-02, -2.4217e-02],\n",
      "           [ 1.8958e-02,  3.2056e-03,  1.7597e-02],\n",
      "           [ 8.2612e-03, -4.5227e-03,  2.1301e-02]]]]], device='cuda:0',\n",
      "       requires_grad=True)\n",
      "Parameter containing:\n",
      "tensor([0.9839, 1.0151, 1.0168, 0.9735, 0.9979, 0.9930, 0.9889, 0.9953, 1.0160,\n",
      "        1.0163, 0.9956, 0.9886, 1.0076, 0.9853, 1.0159, 1.0035],\n",
      "       device='cuda:0', requires_grad=True)\n",
      "Parameter containing:\n",
      "tensor([-0.0196, -0.0112, -0.0252, -0.0308,  0.0333, -0.0371, -0.0117, -0.0352,\n",
      "         0.0675, -0.0193, -0.0370, -0.0481, -0.0038, -0.0085, -0.0329, -0.0341],\n",
      "       device='cuda:0', requires_grad=True)\n",
      "Parameter containing:\n",
      "tensor([[[[[ 3.6793e-02,  1.5783e-03, -1.2137e-02],\n",
      "           [ 1.4490e-02,  5.3534e-02, -9.4813e-03],\n",
      "           [ 4.8931e-03,  7.5913e-03, -3.8272e-02]],\n",
      "\n",
      "          [[-7.3921e-03,  4.1320e-02,  1.8893e-02],\n",
      "           [ 1.2920e-02,  2.7115e-02,  4.2990e-02],\n",
      "           [ 1.9328e-02, -2.7245e-02,  1.4355e-03]],\n",
      "\n",
      "          [[ 2.1094e-03, -1.2237e-02, -7.2178e-03],\n",
      "           [ 5.3194e-04, -2.5672e-02, -5.7917e-02],\n",
      "           [ 1.7454e-02,  1.9430e-02,  1.8154e-04]]],\n",
      "\n",
      "\n",
      "         [[[-1.8356e-03, -5.4623e-02,  5.2840e-03],\n",
      "           [-3.0321e-02,  2.7103e-03, -2.7599e-02],\n",
      "           [-8.2690e-03,  2.7621e-02, -1.9353e-02]],\n",
      "\n",
      "          [[ 2.4125e-02, -8.4175e-04, -1.3748e-02],\n",
      "           [-2.4440e-03,  7.1485e-02, -1.7655e-04],\n",
      "           [ 1.0639e-02,  5.9376e-03, -3.6706e-03]],\n",
      "\n",
      "          [[-5.0348e-02, -1.3102e-03, -2.5016e-02],\n",
      "           [-1.0052e-02, -1.1706e-02,  3.2439e-02],\n",
      "           [-3.1287e-02,  2.7997e-02, -1.6814e-02]]],\n",
      "\n",
      "\n",
      "         [[[-1.6024e-02,  1.8341e-02, -4.1266e-02],\n",
      "           [ 4.2081e-03, -3.4534e-02,  4.2839e-03],\n",
      "           [ 3.3186e-02, -2.7045e-02, -1.2823e-02]],\n",
      "\n",
      "          [[-7.2485e-03,  1.4616e-02, -8.4459e-03],\n",
      "           [-2.5964e-02,  5.0764e-02,  2.6714e-02],\n",
      "           [ 3.1913e-02, -1.6608e-02, -2.4246e-02]],\n",
      "\n",
      "          [[ 2.6527e-02,  1.8106e-02, -2.1595e-02],\n",
      "           [ 3.9379e-02,  5.8858e-02, -1.0473e-02],\n",
      "           [-2.8207e-02, -2.5731e-02, -3.1543e-02]]],\n",
      "\n",
      "\n",
      "         ...,\n",
      "\n",
      "\n",
      "         [[[ 2.2170e-02, -6.1528e-03,  6.3705e-03],\n",
      "           [ 7.3346e-03,  1.9411e-02,  9.2980e-03],\n",
      "           [ 1.5454e-02, -2.1384e-02,  1.4343e-02]],\n",
      "\n",
      "          [[ 2.8165e-02, -1.0152e-02,  1.4682e-02],\n",
      "           [ 3.0056e-02, -3.8844e-02,  2.8259e-02],\n",
      "           [ 3.1645e-02,  2.9800e-02,  1.5553e-02]],\n",
      "\n",
      "          [[ 9.3217e-03,  2.3496e-02, -6.7640e-03],\n",
      "           [ 8.7922e-03,  2.4490e-02, -5.5040e-02],\n",
      "           [ 2.3367e-02, -2.2972e-02, -5.8286e-03]]],\n",
      "\n",
      "\n",
      "         [[[ 2.4949e-02, -8.2759e-03, -4.0821e-02],\n",
      "           [ 5.0049e-02,  5.8304e-03, -3.1817e-02],\n",
      "           [-3.2049e-02, -8.3253e-03,  4.2899e-02]],\n",
      "\n",
      "          [[ 3.1001e-03, -2.3501e-02, -1.8391e-02],\n",
      "           [ 2.2667e-02, -4.0122e-02, -2.1956e-02],\n",
      "           [-1.3709e-02,  4.2983e-02, -4.9008e-03]],\n",
      "\n",
      "          [[-3.2729e-02, -3.1372e-02,  5.6874e-03],\n",
      "           [ 2.3988e-03,  5.8699e-02, -3.2699e-02],\n",
      "           [-1.3920e-02,  9.6963e-03,  2.6619e-02]]],\n",
      "\n",
      "\n",
      "         [[[ 2.8730e-02,  6.2486e-03,  2.9200e-02],\n",
      "           [-8.9320e-03,  3.5122e-02,  3.4614e-02],\n",
      "           [ 1.5174e-03, -1.8096e-02, -1.5206e-02]],\n",
      "\n",
      "          [[-1.2240e-04,  3.0700e-02,  4.3564e-02],\n",
      "           [ 2.9853e-03, -1.6958e-02,  2.3335e-02],\n",
      "           [-2.4615e-02,  7.5152e-03,  4.9331e-02]],\n",
      "\n",
      "          [[-2.7072e-02,  2.9571e-04, -3.0072e-02],\n",
      "           [-3.1148e-02, -1.6862e-03, -3.3706e-02],\n",
      "           [-1.9927e-03, -4.5012e-02, -4.0838e-02]]]],\n",
      "\n",
      "\n",
      "\n",
      "        [[[[ 2.2315e-02,  2.7983e-02,  5.3696e-05],\n",
      "           [ 3.7758e-02,  2.2700e-02,  5.0917e-02],\n",
      "           [ 3.8217e-02,  4.8465e-02, -2.9093e-02]],\n",
      "\n",
      "          [[ 3.7942e-02,  5.9693e-03, -2.4443e-02],\n",
      "           [-3.8497e-04, -2.8327e-03,  1.9949e-02],\n",
      "           [ 5.2456e-02,  2.5049e-02,  4.2690e-02]],\n",
      "\n",
      "          [[-3.9894e-02,  3.1895e-02, -1.3383e-02],\n",
      "           [-3.3746e-02, -1.6265e-02, -4.6856e-03],\n",
      "           [ 2.8268e-02, -5.0327e-02, -1.2995e-02]]],\n",
      "\n",
      "\n",
      "         [[[-1.4275e-02,  2.8389e-02, -2.0627e-02],\n",
      "           [ 4.5779e-02,  2.4572e-02, -2.4098e-02],\n",
      "           [-1.2716e-02,  2.2296e-02,  3.3984e-02]],\n",
      "\n",
      "          [[-4.0079e-02,  2.2128e-02,  2.7558e-02],\n",
      "           [-1.2815e-02,  8.8511e-02,  4.1181e-02],\n",
      "           [ 3.9308e-03,  4.1732e-02,  4.8506e-02]],\n",
      "\n",
      "          [[-3.8226e-02,  1.7899e-02, -3.5995e-02],\n",
      "           [-5.2077e-03,  2.5635e-02, -2.6561e-02],\n",
      "           [ 1.7662e-02, -3.0655e-02,  1.4272e-02]]],\n",
      "\n",
      "\n",
      "         [[[ 2.8858e-02, -6.8695e-04,  4.1745e-03],\n",
      "           [ 6.8256e-03,  6.6711e-03,  2.0282e-02],\n",
      "           [ 3.4906e-02,  4.1243e-02, -3.3268e-02]],\n",
      "\n",
      "          [[-2.3911e-02,  4.7473e-02,  1.7935e-02],\n",
      "           [ 4.1851e-02, -5.9454e-03,  4.2097e-02],\n",
      "           [ 2.8415e-02,  1.4206e-02, -3.6671e-03]],\n",
      "\n",
      "          [[-1.1163e-02,  5.3029e-02,  4.5431e-02],\n",
      "           [ 4.6838e-02, -1.5210e-02,  3.7697e-03],\n",
      "           [ 1.8356e-03, -2.8278e-02, -2.8279e-02]]],\n",
      "\n",
      "\n",
      "         ...,\n",
      "\n",
      "\n",
      "         [[[-9.3837e-03, -5.0615e-02, -7.8172e-02],\n",
      "           [ 5.9779e-03, -4.6878e-02, -5.0304e-02],\n",
      "           [ 3.6704e-02,  2.4597e-02, -1.4829e-02]],\n",
      "\n",
      "          [[ 2.2162e-02, -5.5543e-02, -3.7569e-02],\n",
      "           [ 8.9770e-03, -9.1299e-02, -7.9137e-02],\n",
      "           [ 8.8681e-03,  2.2212e-02, -6.7539e-02]],\n",
      "\n",
      "          [[-4.8033e-02, -6.4471e-02, -5.1105e-02],\n",
      "           [-5.1553e-03, -1.5489e-02, -4.4555e-02],\n",
      "           [-1.8997e-02, -4.8643e-02, -6.7688e-02]]],\n",
      "\n",
      "\n",
      "         [[[ 3.6712e-02, -1.2329e-02, -2.7869e-02],\n",
      "           [ 3.9160e-02, -3.2853e-02,  5.2171e-02],\n",
      "           [-1.3915e-02,  2.2727e-02, -1.8795e-02]],\n",
      "\n",
      "          [[-1.6149e-02, -1.5749e-02,  3.8067e-02],\n",
      "           [-2.5357e-02,  2.5673e-02, -1.2639e-02],\n",
      "           [ 1.4333e-02, -1.6983e-02,  1.0658e-02]],\n",
      "\n",
      "          [[ 1.5909e-02, -4.6771e-02, -2.5616e-02],\n",
      "           [-3.7050e-02,  2.6376e-02,  2.3145e-02],\n",
      "           [-1.6078e-02, -4.8303e-02,  2.9132e-02]]],\n",
      "\n",
      "\n",
      "         [[[-1.6108e-02,  9.3992e-03,  1.5966e-02],\n",
      "           [ 1.1296e-03,  1.8571e-02,  1.7654e-02],\n",
      "           [-2.8487e-02,  2.7482e-02,  2.9091e-02]],\n",
      "\n",
      "          [[ 1.6697e-02,  4.2278e-02, -9.1850e-03],\n",
      "           [-4.2585e-03,  2.3387e-02,  2.3551e-02],\n",
      "           [-8.8003e-03,  2.1919e-03,  3.2138e-02]],\n",
      "\n",
      "          [[ 2.9950e-03, -5.0743e-02, -1.4332e-02],\n",
      "           [-3.0943e-02, -5.7735e-02,  2.2265e-02],\n",
      "           [-2.1054e-02, -1.7268e-02, -1.1789e-02]]]],\n",
      "\n",
      "\n",
      "\n",
      "        [[[[ 1.4316e-02, -4.3510e-03,  2.9168e-02],\n",
      "           [-2.5592e-02,  3.7746e-02, -5.6145e-02],\n",
      "           [ 3.4921e-02,  8.3100e-03,  9.8765e-03]],\n",
      "\n",
      "          [[ 5.0870e-02,  3.3264e-02,  2.4462e-02],\n",
      "           [ 1.0083e-02,  2.9236e-03, -3.8455e-03],\n",
      "           [ 4.6359e-02, -1.1430e-02, -2.4288e-02]],\n",
      "\n",
      "          [[ 2.3489e-02,  1.2441e-02,  1.1554e-02],\n",
      "           [ 7.1821e-03, -3.7875e-02,  9.0667e-03],\n",
      "           [-5.1583e-02,  2.7624e-02, -4.2542e-02]]],\n",
      "\n",
      "\n",
      "         [[[-4.1339e-02,  2.2942e-02, -6.2833e-03],\n",
      "           [ 2.7606e-02,  1.2711e-02, -3.4308e-02],\n",
      "           [-2.6354e-02, -2.9346e-02, -1.8690e-02]],\n",
      "\n",
      "          [[-2.9968e-02,  7.3371e-03,  9.8937e-03],\n",
      "           [-4.0359e-02,  1.5736e-02,  2.1049e-02],\n",
      "           [-3.0972e-02, -3.2349e-02, -1.1314e-03]],\n",
      "\n",
      "          [[-3.1809e-02,  1.9855e-02, -3.6090e-02],\n",
      "           [-2.0246e-03, -2.7897e-02,  3.1176e-02],\n",
      "           [-2.5486e-02,  1.0147e-02, -5.1803e-02]]],\n",
      "\n",
      "\n",
      "         [[[ 6.1560e-03,  4.1396e-02,  1.4769e-02],\n",
      "           [ 3.8520e-02,  1.1890e-02, -5.3282e-02],\n",
      "           [ 9.3269e-03,  3.1433e-02, -2.7856e-02]],\n",
      "\n",
      "          [[ 2.1159e-02, -2.2374e-02, -3.0247e-02],\n",
      "           [-2.9008e-02,  4.3300e-02, -1.6357e-02],\n",
      "           [-2.9540e-02,  5.6759e-02, -3.9207e-02]],\n",
      "\n",
      "          [[ 4.4501e-02, -1.1643e-02,  3.8627e-02],\n",
      "           [-4.2650e-03,  3.9199e-02, -5.7669e-02],\n",
      "           [-2.9534e-02, -2.7991e-05, -2.3868e-02]]],\n",
      "\n",
      "\n",
      "         ...,\n",
      "\n",
      "\n",
      "         [[[-3.6231e-02, -5.2615e-02, -6.3213e-02],\n",
      "           [ 3.0686e-02,  6.8660e-03,  1.3695e-02],\n",
      "           [-1.3943e-02, -5.8161e-02, -4.7480e-02]],\n",
      "\n",
      "          [[-6.6909e-03, -6.0440e-02, -6.0518e-02],\n",
      "           [ 2.4655e-02,  1.0051e-02, -4.8663e-03],\n",
      "           [-2.6753e-02, -7.6845e-02, -7.6794e-02]],\n",
      "\n",
      "          [[ 1.1615e-02, -5.7714e-02, -4.9302e-02],\n",
      "           [ 4.9797e-03, -8.5680e-02, -6.4180e-03],\n",
      "           [ 1.4480e-02, -4.2619e-02, -2.3394e-02]]],\n",
      "\n",
      "\n",
      "         [[[ 1.4949e-02,  3.7889e-02, -1.4337e-02],\n",
      "           [-4.3361e-02,  2.3714e-02, -3.6952e-02],\n",
      "           [ 2.5807e-03,  1.0449e-02, -7.2945e-02]],\n",
      "\n",
      "          [[ 1.4386e-02,  1.1763e-02,  2.4928e-02],\n",
      "           [ 3.3002e-02,  3.6155e-02, -5.8645e-03],\n",
      "           [ 3.1150e-02,  3.0135e-02, -7.9376e-03]],\n",
      "\n",
      "          [[ 1.2616e-02,  1.4034e-02,  6.0497e-03],\n",
      "           [ 1.2556e-02, -1.9629e-02, -2.0792e-02],\n",
      "           [ 5.9701e-02, -1.9691e-03,  7.6164e-04]]],\n",
      "\n",
      "\n",
      "         [[[-4.3904e-02, -7.5498e-03,  1.6465e-02],\n",
      "           [ 3.2316e-02, -2.5501e-02,  1.4129e-02],\n",
      "           [-3.7123e-02,  2.6907e-02, -4.7135e-02]],\n",
      "\n",
      "          [[ 7.6608e-03, -1.2303e-02,  5.8295e-03],\n",
      "           [ 6.3598e-03, -3.8796e-03,  1.3707e-02],\n",
      "           [-7.9292e-03, -2.7516e-02,  1.3904e-03]],\n",
      "\n",
      "          [[ 1.9142e-02, -3.2545e-03,  1.0955e-02],\n",
      "           [ 3.0365e-02, -1.5060e-02,  1.6282e-02],\n",
      "           [-3.9325e-03, -5.6423e-03,  2.4923e-02]]]],\n",
      "\n",
      "\n",
      "\n",
      "        ...,\n",
      "\n",
      "\n",
      "\n",
      "        [[[[ 2.4144e-02, -6.9501e-03,  2.4973e-02],\n",
      "           [ 2.7220e-02,  8.3876e-04, -3.3034e-02],\n",
      "           [ 7.2544e-02,  6.5012e-02,  5.4392e-02]],\n",
      "\n",
      "          [[ 4.9091e-03, -3.2014e-02,  9.6245e-03],\n",
      "           [-3.2015e-02, -1.6813e-02,  4.3245e-02],\n",
      "           [-2.1086e-02,  3.5702e-02,  4.2680e-02]],\n",
      "\n",
      "          [[ 5.7888e-02,  4.4347e-02,  3.1175e-02],\n",
      "           [-1.3061e-02,  3.6619e-02,  3.5734e-02],\n",
      "           [-2.4244e-02,  3.8101e-02, -7.0674e-03]]],\n",
      "\n",
      "\n",
      "         [[[ 1.1224e-03,  4.8548e-02, -1.8383e-02],\n",
      "           [-3.6847e-03,  3.7993e-02,  2.2090e-04],\n",
      "           [ 4.1461e-03,  1.2057e-02,  1.5684e-02]],\n",
      "\n",
      "          [[-7.7374e-03, -4.1650e-02, -3.1806e-02],\n",
      "           [-2.6875e-03, -1.5071e-02,  1.8508e-02],\n",
      "           [ 4.1242e-02,  3.1035e-02,  2.5777e-02]],\n",
      "\n",
      "          [[-2.9119e-02,  7.3510e-03,  3.7545e-02],\n",
      "           [-2.2269e-02,  1.8196e-02, -5.0230e-03],\n",
      "           [-3.6627e-02,  4.2866e-02,  3.1088e-02]]],\n",
      "\n",
      "\n",
      "         [[[ 3.2664e-02,  4.5091e-02, -3.4996e-02],\n",
      "           [ 1.4040e-02,  1.6009e-02,  4.3198e-02],\n",
      "           [ 8.9257e-03, -4.3695e-02,  1.6573e-03]],\n",
      "\n",
      "          [[ 2.9930e-02, -2.0322e-02, -2.9154e-02],\n",
      "           [-6.6252e-03, -4.9623e-02,  3.6005e-02],\n",
      "           [ 2.7168e-02,  3.7867e-02, -3.2735e-02]],\n",
      "\n",
      "          [[-1.1481e-03, -3.0451e-02,  6.0410e-03],\n",
      "           [ 3.8114e-02,  3.0805e-02, -1.0281e-02],\n",
      "           [ 5.3026e-02, -3.9434e-02,  2.8373e-02]]],\n",
      "\n",
      "\n",
      "         ...,\n",
      "\n",
      "\n",
      "         [[[-5.6846e-02,  3.3262e-02, -4.1079e-02],\n",
      "           [-5.0155e-02, -3.3796e-02, -3.5890e-02],\n",
      "           [-5.1869e-02, -1.9519e-02,  3.7173e-02]],\n",
      "\n",
      "          [[-5.0682e-02, -3.7981e-02,  2.3998e-02],\n",
      "           [-2.0387e-02,  4.4699e-02, -4.0947e-02],\n",
      "           [-5.3599e-02, -1.0691e-02,  2.2744e-02]],\n",
      "\n",
      "          [[-6.1110e-02, -4.5303e-02, -2.3400e-02],\n",
      "           [-2.4159e-03,  2.5898e-02, -6.3384e-03],\n",
      "           [-5.2739e-03,  1.4234e-02, -9.1288e-03]]],\n",
      "\n",
      "\n",
      "         [[[ 1.7296e-02,  4.1815e-02,  3.0830e-02],\n",
      "           [-4.6828e-02,  2.5229e-02,  3.8765e-02],\n",
      "           [ 2.7312e-02, -1.1081e-02, -5.6254e-02]],\n",
      "\n",
      "          [[ 6.5951e-03,  3.2658e-02, -1.3703e-03],\n",
      "           [-3.0585e-02, -1.4217e-02,  2.5767e-02],\n",
      "           [ 9.9966e-03,  1.1470e-02,  2.9228e-02]],\n",
      "\n",
      "          [[-4.4642e-02, -4.3704e-02, -2.9070e-02],\n",
      "           [-4.0167e-02, -3.9412e-02, -2.8176e-03],\n",
      "           [-9.0297e-03, -2.2312e-02,  2.0044e-02]]],\n",
      "\n",
      "\n",
      "         [[[ 6.2585e-02,  3.8927e-02, -8.0353e-03],\n",
      "           [ 5.0966e-02,  2.4282e-02, -8.0807e-03],\n",
      "           [ 2.2514e-03,  4.8358e-02,  5.7271e-03]],\n",
      "\n",
      "          [[-1.0036e-02, -2.4621e-03, -3.2557e-02],\n",
      "           [-6.1193e-02, -5.1195e-02,  3.8178e-02],\n",
      "           [-3.6682e-02,  8.6370e-04,  5.7503e-02]],\n",
      "\n",
      "          [[ 1.2361e-02,  2.1549e-02, -1.2264e-02],\n",
      "           [ 9.5997e-03,  2.8448e-02, -6.8056e-03],\n",
      "           [ 2.4442e-02, -2.9070e-04, -1.5083e-02]]]],\n",
      "\n",
      "\n",
      "\n",
      "        [[[[ 4.0467e-02,  2.9625e-02,  3.8336e-02],\n",
      "           [-2.8313e-02, -2.8830e-02,  2.1268e-03],\n",
      "           [ 5.5613e-02, -2.2188e-02,  1.2201e-02]],\n",
      "\n",
      "          [[-2.6883e-02,  9.7154e-03, -5.3775e-02],\n",
      "           [ 3.3600e-03, -6.1028e-03, -5.4414e-02],\n",
      "           [-3.9229e-02, -3.0901e-02, -4.0367e-02]],\n",
      "\n",
      "          [[ 3.5035e-02,  2.9502e-02, -3.6599e-02],\n",
      "           [ 1.1117e-03, -5.0322e-02,  1.4279e-02],\n",
      "           [-1.9710e-02, -3.3221e-02,  1.0074e-02]]],\n",
      "\n",
      "\n",
      "         [[[-6.3398e-03,  2.8189e-02,  1.0927e-03],\n",
      "           [ 1.6312e-02,  4.3318e-02, -4.0869e-02],\n",
      "           [-7.1840e-02, -2.9092e-02,  2.3014e-02]],\n",
      "\n",
      "          [[-5.0251e-02, -7.7466e-03,  1.0762e-03],\n",
      "           [-1.9334e-02, -4.5707e-02,  8.5129e-03],\n",
      "           [ 1.2471e-02,  1.1247e-03, -8.9279e-03]],\n",
      "\n",
      "          [[-1.9835e-02, -1.9958e-02, -5.2586e-03],\n",
      "           [-4.1953e-02, -1.1000e-02,  2.8042e-02],\n",
      "           [ 2.5500e-02, -1.5686e-03, -4.0792e-02]]],\n",
      "\n",
      "\n",
      "         [[[ 4.9393e-02,  5.5577e-05,  2.9947e-02],\n",
      "           [ 6.4383e-02,  4.0952e-02,  3.8584e-02],\n",
      "           [ 5.5688e-02, -7.1157e-03,  3.5355e-03]],\n",
      "\n",
      "          [[ 3.1730e-02, -3.0611e-02,  3.9628e-03],\n",
      "           [-3.7441e-02, -2.3664e-02, -1.6980e-02],\n",
      "           [ 2.3327e-02, -1.7339e-02, -3.7335e-02]],\n",
      "\n",
      "          [[ 3.7655e-02,  9.5621e-03, -1.1872e-02],\n",
      "           [ 2.5955e-02,  6.0735e-03,  2.6464e-02],\n",
      "           [ 2.7425e-03,  5.4631e-02,  3.2756e-02]]],\n",
      "\n",
      "\n",
      "         ...,\n",
      "\n",
      "\n",
      "         [[[-6.2963e-02,  3.0659e-03,  3.1323e-02],\n",
      "           [-2.8563e-02, -1.9340e-02, -9.1863e-03],\n",
      "           [-2.8702e-02, -1.6092e-02, -3.9641e-02]],\n",
      "\n",
      "          [[-4.3914e-02, -3.6860e-02, -5.4133e-02],\n",
      "           [ 9.9209e-03, -3.6229e-02, -2.1051e-02],\n",
      "           [-2.9437e-02, -3.1123e-02, -5.7239e-02]],\n",
      "\n",
      "          [[-1.3727e-02, -1.3311e-03, -1.3525e-02],\n",
      "           [ 1.2850e-02, -7.6423e-03,  4.3341e-02],\n",
      "           [-3.3902e-02,  2.2709e-02,  2.7898e-02]]],\n",
      "\n",
      "\n",
      "         [[[ 3.5580e-02, -3.4786e-02, -4.8294e-02],\n",
      "           [ 4.0181e-02,  5.6421e-04, -1.5446e-02],\n",
      "           [ 3.1762e-02,  2.6148e-02, -1.9694e-02]],\n",
      "\n",
      "          [[ 4.6989e-02,  5.5252e-02,  3.0700e-02],\n",
      "           [ 1.4440e-02,  9.1934e-03,  5.0551e-02],\n",
      "           [ 6.4653e-02,  2.1225e-02,  3.0144e-02]],\n",
      "\n",
      "          [[-5.7733e-03,  1.8642e-02,  3.7966e-03],\n",
      "           [ 2.9107e-03, -2.6236e-03, -2.3477e-02],\n",
      "           [ 1.0046e-02,  1.3157e-02, -3.3674e-02]]],\n",
      "\n",
      "\n",
      "         [[[-1.7613e-02, -3.9211e-03, -2.6641e-02],\n",
      "           [ 2.5935e-02,  1.8797e-02,  3.8488e-02],\n",
      "           [ 3.7958e-02,  1.5335e-02,  1.4238e-02]],\n",
      "\n",
      "          [[-1.1768e-02,  2.2797e-02, -1.5540e-02],\n",
      "           [-4.9678e-03, -2.3957e-02,  1.4172e-02],\n",
      "           [ 1.6394e-02,  5.3243e-02,  3.3413e-02]],\n",
      "\n",
      "          [[-3.0767e-02, -4.4641e-02,  2.7319e-02],\n",
      "           [ 2.8143e-02,  3.1323e-03,  1.6346e-02],\n",
      "           [ 5.0641e-03, -5.1717e-02, -2.7776e-02]]]],\n",
      "\n",
      "\n",
      "\n",
      "        [[[[ 2.3793e-02, -4.5723e-02,  2.6141e-02],\n",
      "           [-3.7562e-02,  3.2402e-02, -7.9568e-03],\n",
      "           [ 1.9731e-02,  3.6737e-02, -2.8838e-02]],\n",
      "\n",
      "          [[-5.1687e-03, -3.0387e-02,  9.1277e-04],\n",
      "           [ 2.9401e-02,  4.1607e-02,  2.6874e-02],\n",
      "           [-6.1563e-03, -4.8188e-02, -2.3503e-02]],\n",
      "\n",
      "          [[ 2.4008e-02, -6.5119e-02, -3.6826e-02],\n",
      "           [ 1.1641e-02, -3.7871e-02, -3.1991e-02],\n",
      "           [-6.3659e-02,  1.2072e-02, -5.2930e-02]]],\n",
      "\n",
      "\n",
      "         [[[ 2.3839e-02,  1.7240e-02,  3.8385e-02],\n",
      "           [ 5.8872e-02,  6.2826e-02, -1.8941e-02],\n",
      "           [-1.1465e-03, -1.3516e-02, -3.3205e-02]],\n",
      "\n",
      "          [[-1.2964e-02,  3.9607e-02,  1.5516e-02],\n",
      "           [ 1.7791e-02,  4.7690e-02, -1.9989e-02],\n",
      "           [-3.3456e-02,  3.7002e-03,  3.4047e-02]],\n",
      "\n",
      "          [[-1.8752e-02, -1.5284e-03,  4.7708e-02],\n",
      "           [-4.6416e-02, -3.8440e-02,  3.4540e-02],\n",
      "           [-3.0665e-02, -1.2525e-02,  2.1532e-02]]],\n",
      "\n",
      "\n",
      "         [[[ 4.5327e-02,  4.5783e-02,  1.0287e-02],\n",
      "           [ 1.5348e-02,  3.5342e-02,  4.6108e-02],\n",
      "           [ 4.9669e-02,  2.8452e-02, -3.3295e-02]],\n",
      "\n",
      "          [[ 6.5751e-02,  4.4782e-02,  5.6341e-02],\n",
      "           [ 4.3287e-03, -1.3117e-03,  2.2048e-02],\n",
      "           [ 6.0268e-02,  3.3958e-02,  3.5226e-03]],\n",
      "\n",
      "          [[ 7.7874e-03,  5.1804e-03,  3.0633e-03],\n",
      "           [ 4.9865e-02, -3.1955e-02,  1.1348e-02],\n",
      "           [ 3.3296e-02,  2.4764e-02,  4.7414e-02]]],\n",
      "\n",
      "\n",
      "         ...,\n",
      "\n",
      "\n",
      "         [[[ 5.1890e-03, -8.3280e-03,  1.1498e-02],\n",
      "           [ 4.5555e-03,  1.0699e-02, -2.6189e-02],\n",
      "           [-2.0710e-02, -1.3954e-02, -1.4008e-02]],\n",
      "\n",
      "          [[ 8.0179e-03, -6.4465e-02, -3.6812e-02],\n",
      "           [-2.0057e-03, -4.7706e-02, -5.6945e-02],\n",
      "           [-1.7497e-02,  1.3469e-02,  2.6904e-02]],\n",
      "\n",
      "          [[ 3.7783e-02,  1.1258e-02,  1.9235e-02],\n",
      "           [-4.0455e-02,  2.7657e-02, -1.3520e-02],\n",
      "           [ 2.9901e-02,  1.6483e-02, -1.7483e-02]]],\n",
      "\n",
      "\n",
      "         [[[ 1.3559e-02, -2.1658e-02, -2.4284e-02],\n",
      "           [ 2.2956e-02,  1.3195e-03, -3.3229e-02],\n",
      "           [-5.0836e-03, -3.4741e-02,  1.2421e-02]],\n",
      "\n",
      "          [[ 3.3710e-03,  3.0002e-03,  3.5195e-02],\n",
      "           [ 5.1939e-02,  6.8294e-02, -3.0441e-02],\n",
      "           [-4.1956e-03,  4.2181e-02,  4.2828e-02]],\n",
      "\n",
      "          [[-3.1974e-02,  4.3242e-02,  3.0798e-02],\n",
      "           [ 1.7694e-02, -2.1404e-02,  2.6761e-02],\n",
      "           [ 2.1633e-02,  9.2574e-03, -4.2965e-02]]],\n",
      "\n",
      "\n",
      "         [[[ 2.9574e-02, -7.9016e-03, -6.9615e-03],\n",
      "           [ 2.2060e-02,  2.5887e-02,  1.9330e-02],\n",
      "           [-2.2534e-02,  5.0792e-02, -2.6788e-02]],\n",
      "\n",
      "          [[ 4.9543e-02,  3.9730e-02,  1.5579e-02],\n",
      "           [ 1.2106e-02, -6.7994e-04, -2.5899e-02],\n",
      "           [ 6.5628e-02, -1.6512e-03,  1.5063e-02]],\n",
      "\n",
      "          [[-2.0655e-02,  1.3070e-02,  2.1617e-02],\n",
      "           [-6.6445e-03, -2.6136e-02,  4.3824e-02],\n",
      "           [-9.5035e-03, -5.0826e-02, -1.8230e-02]]]]], device='cuda:0',\n",
      "       requires_grad=True)\n",
      "Parameter containing:\n",
      "tensor([0.9892, 0.9866, 0.9876, 1.0082, 1.0092, 0.9805, 1.0088, 0.9772, 1.0027,\n",
      "        1.0069, 1.0020, 0.9916, 0.9950, 0.9868, 0.9957, 1.0024],\n",
      "       device='cuda:0', requires_grad=True)\n",
      "Parameter containing:\n",
      "tensor([-0.0299, -0.0423,  0.0013,  0.0495, -0.0521, -0.0544,  0.0464, -0.0510,\n",
      "         0.0613,  0.0518, -0.0556, -0.0447,  0.0318,  0.0134, -0.0355, -0.0569],\n",
      "       device='cuda:0', requires_grad=True)\n",
      "Parameter containing:\n",
      "tensor([[[[[-0.0289, -0.0230],\n",
      "           [ 0.0364,  0.0206]],\n",
      "\n",
      "          [[ 0.0210, -0.0227],\n",
      "           [ 0.0073, -0.0667]]],\n",
      "\n",
      "\n",
      "         [[[ 0.0018, -0.0060],\n",
      "           [-0.0551,  0.0131]],\n",
      "\n",
      "          [[-0.0087,  0.0132],\n",
      "           [ 0.0184, -0.0448]]],\n",
      "\n",
      "\n",
      "         [[[ 0.0054,  0.0411],\n",
      "           [ 0.0122, -0.0398]],\n",
      "\n",
      "          [[ 0.0330, -0.0247],\n",
      "           [-0.0210, -0.0056]]],\n",
      "\n",
      "\n",
      "         ...,\n",
      "\n",
      "\n",
      "         [[[-0.0802, -0.0338],\n",
      "           [-0.0562,  0.0403]],\n",
      "\n",
      "          [[ 0.0401,  0.0500],\n",
      "           [-0.0259, -0.0530]]],\n",
      "\n",
      "\n",
      "         [[[-0.0514, -0.0371],\n",
      "           [ 0.0138,  0.0282]],\n",
      "\n",
      "          [[ 0.0057,  0.0421],\n",
      "           [-0.0048, -0.0544]]],\n",
      "\n",
      "\n",
      "         [[[ 0.0109, -0.0158],\n",
      "           [ 0.0247,  0.0379]],\n",
      "\n",
      "          [[ 0.0365,  0.0583],\n",
      "           [ 0.0484,  0.0070]]]],\n",
      "\n",
      "\n",
      "\n",
      "        [[[[ 0.0328,  0.0537],\n",
      "           [ 0.0267, -0.0068]],\n",
      "\n",
      "          [[ 0.0473,  0.0120],\n",
      "           [ 0.0094,  0.0570]]],\n",
      "\n",
      "\n",
      "         [[[ 0.0140,  0.0043],\n",
      "           [-0.0482,  0.0104]],\n",
      "\n",
      "          [[ 0.0255, -0.0555],\n",
      "           [ 0.0595, -0.0248]]],\n",
      "\n",
      "\n",
      "         [[[ 0.0304,  0.0585],\n",
      "           [ 0.0240,  0.0151]],\n",
      "\n",
      "          [[ 0.0241,  0.0322],\n",
      "           [ 0.0075,  0.0194]]],\n",
      "\n",
      "\n",
      "         ...,\n",
      "\n",
      "\n",
      "         [[[ 0.0083,  0.0158],\n",
      "           [ 0.0321, -0.0395]],\n",
      "\n",
      "          [[-0.0091, -0.0583],\n",
      "           [-0.0700,  0.0463]]],\n",
      "\n",
      "\n",
      "         [[[-0.0570,  0.0328],\n",
      "           [ 0.0190, -0.0463]],\n",
      "\n",
      "          [[ 0.0452,  0.0395],\n",
      "           [-0.0211, -0.0099]]],\n",
      "\n",
      "\n",
      "         [[[-0.0136,  0.0306],\n",
      "           [ 0.0356, -0.0428]],\n",
      "\n",
      "          [[ 0.0246, -0.0199],\n",
      "           [-0.0218, -0.0311]]]],\n",
      "\n",
      "\n",
      "\n",
      "        [[[[ 0.0809, -0.0117],\n",
      "           [ 0.0527,  0.0070]],\n",
      "\n",
      "          [[-0.0177, -0.0299],\n",
      "           [ 0.0575, -0.0162]]],\n",
      "\n",
      "\n",
      "         [[[-0.0243, -0.0444],\n",
      "           [-0.0390,  0.0017]],\n",
      "\n",
      "          [[ 0.0059, -0.0081],\n",
      "           [-0.0084, -0.0003]]],\n",
      "\n",
      "\n",
      "         [[[ 0.0316,  0.0542],\n",
      "           [-0.0526, -0.0210]],\n",
      "\n",
      "          [[ 0.0333,  0.0487],\n",
      "           [-0.0316, -0.0063]]],\n",
      "\n",
      "\n",
      "         ...,\n",
      "\n",
      "\n",
      "         [[[-0.0519, -0.0456],\n",
      "           [-0.0236, -0.0131]],\n",
      "\n",
      "          [[-0.0582, -0.0247],\n",
      "           [-0.0377, -0.0054]]],\n",
      "\n",
      "\n",
      "         [[[-0.0022, -0.0073],\n",
      "           [ 0.0551,  0.0305]],\n",
      "\n",
      "          [[-0.0386, -0.0031],\n",
      "           [ 0.0180,  0.0133]]],\n",
      "\n",
      "\n",
      "         [[[-0.0337, -0.0412],\n",
      "           [ 0.0015, -0.0480]],\n",
      "\n",
      "          [[-0.0413, -0.0205],\n",
      "           [-0.0200, -0.0136]]]],\n",
      "\n",
      "\n",
      "\n",
      "        ...,\n",
      "\n",
      "\n",
      "\n",
      "        [[[[-0.0139, -0.0223],\n",
      "           [ 0.0120,  0.0305]],\n",
      "\n",
      "          [[-0.0090, -0.0705],\n",
      "           [-0.0425, -0.0098]]],\n",
      "\n",
      "\n",
      "         [[[ 0.0396,  0.0159],\n",
      "           [ 0.0013, -0.0101]],\n",
      "\n",
      "          [[ 0.0426, -0.0115],\n",
      "           [ 0.0398, -0.0011]]],\n",
      "\n",
      "\n",
      "         [[[ 0.0415, -0.0049],\n",
      "           [-0.0140,  0.0511]],\n",
      "\n",
      "          [[-0.0003, -0.0318],\n",
      "           [ 0.0500,  0.0170]]],\n",
      "\n",
      "\n",
      "         ...,\n",
      "\n",
      "\n",
      "         [[[-0.0671, -0.0098],\n",
      "           [-0.0291, -0.0695]],\n",
      "\n",
      "          [[-0.0314, -0.0538],\n",
      "           [-0.0205, -0.0436]]],\n",
      "\n",
      "\n",
      "         [[[ 0.0265, -0.0144],\n",
      "           [ 0.0206,  0.0269]],\n",
      "\n",
      "          [[-0.0159, -0.0556],\n",
      "           [ 0.0466, -0.0221]]],\n",
      "\n",
      "\n",
      "         [[[ 0.0637, -0.0012],\n",
      "           [-0.0242,  0.0350]],\n",
      "\n",
      "          [[-0.0367,  0.0164],\n",
      "           [ 0.0403, -0.0141]]]],\n",
      "\n",
      "\n",
      "\n",
      "        [[[[-0.0552, -0.0346],\n",
      "           [ 0.0397, -0.0244]],\n",
      "\n",
      "          [[ 0.0501,  0.0359],\n",
      "           [ 0.0248,  0.0364]]],\n",
      "\n",
      "\n",
      "         [[[ 0.0640, -0.0286],\n",
      "           [ 0.0612, -0.0007]],\n",
      "\n",
      "          [[-0.0494,  0.0016],\n",
      "           [ 0.0089,  0.0155]]],\n",
      "\n",
      "\n",
      "         [[[-0.0346,  0.0114],\n",
      "           [-0.0030, -0.0011]],\n",
      "\n",
      "          [[ 0.0113, -0.0435],\n",
      "           [ 0.0286,  0.0497]]],\n",
      "\n",
      "\n",
      "         ...,\n",
      "\n",
      "\n",
      "         [[[-0.0287,  0.0114],\n",
      "           [ 0.0262,  0.0484]],\n",
      "\n",
      "          [[-0.0546, -0.0218],\n",
      "           [ 0.0467, -0.0023]]],\n",
      "\n",
      "\n",
      "         [[[ 0.0530, -0.0233],\n",
      "           [ 0.0155, -0.0174]],\n",
      "\n",
      "          [[ 0.0226, -0.0563],\n",
      "           [-0.0180, -0.0636]]],\n",
      "\n",
      "\n",
      "         [[[-0.0261, -0.0068],\n",
      "           [ 0.0365,  0.0066]],\n",
      "\n",
      "          [[ 0.0300, -0.0506],\n",
      "           [ 0.0156, -0.0176]]]],\n",
      "\n",
      "\n",
      "\n",
      "        [[[[ 0.0155,  0.0059],\n",
      "           [-0.0376,  0.0656]],\n",
      "\n",
      "          [[ 0.0317,  0.0092],\n",
      "           [ 0.0338, -0.0522]]],\n",
      "\n",
      "\n",
      "         [[[ 0.0337,  0.0179],\n",
      "           [ 0.0263, -0.0365]],\n",
      "\n",
      "          [[-0.0370,  0.0228],\n",
      "           [ 0.0242,  0.0253]]],\n",
      "\n",
      "\n",
      "         [[[ 0.0608, -0.0456],\n",
      "           [ 0.0642, -0.0214]],\n",
      "\n",
      "          [[ 0.0493, -0.0156],\n",
      "           [ 0.0208, -0.0572]]],\n",
      "\n",
      "\n",
      "         ...,\n",
      "\n",
      "\n",
      "         [[[ 0.0585,  0.0256],\n",
      "           [ 0.0608,  0.0408]],\n",
      "\n",
      "          [[ 0.0533, -0.0084],\n",
      "           [-0.0287, -0.0070]]],\n",
      "\n",
      "\n",
      "         [[[ 0.0294, -0.0050],\n",
      "           [ 0.0198,  0.0595]],\n",
      "\n",
      "          [[ 0.0032,  0.0466],\n",
      "           [ 0.0212,  0.0393]]],\n",
      "\n",
      "\n",
      "         [[[ 0.0212,  0.0571],\n",
      "           [-0.0256, -0.0467]],\n",
      "\n",
      "          [[-0.0253,  0.0121],\n",
      "           [-0.0549,  0.0224]]]]], device='cuda:0', requires_grad=True)\n",
      "Parameter containing:\n",
      "tensor([ 0.0454,  0.0232, -0.0362, -0.0263,  0.0003,  0.0792, -0.0380,  0.0574,\n",
      "         0.0701,  0.0038,  0.0230, -0.0605,  0.0285,  0.0953, -0.0207,  0.0087,\n",
      "        -0.0311,  0.0634,  0.0464,  0.0431,  0.0510,  0.0405, -0.0459, -0.0078,\n",
      "         0.0604,  0.0634,  0.0067, -0.0843, -0.0035,  0.0252, -0.0789,  0.0152],\n",
      "       device='cuda:0', requires_grad=True)\n",
      "Parameter containing:\n",
      "tensor([[[[[ 1.2089e-02,  2.6581e-02,  1.9668e-02],\n",
      "           [ 2.6474e-02, -2.7524e-02, -2.1560e-02],\n",
      "           [ 3.0145e-02,  1.9305e-02, -2.8061e-02]],\n",
      "\n",
      "          [[-3.1095e-02,  4.3469e-03, -2.7178e-02],\n",
      "           [ 3.2746e-02,  5.5301e-03,  1.4475e-03],\n",
      "           [-2.8766e-02, -2.6669e-02, -1.0882e-02]],\n",
      "\n",
      "          [[ 8.7487e-03,  3.4562e-04, -9.6688e-03],\n",
      "           [ 1.0588e-02, -3.3488e-02, -2.4045e-02],\n",
      "           [-7.0118e-03,  3.2929e-02,  1.4625e-03]]],\n",
      "\n",
      "\n",
      "         [[[ 1.7822e-02,  3.5805e-02, -3.7684e-02],\n",
      "           [ 2.2656e-03,  7.4860e-03,  1.9537e-02],\n",
      "           [-7.2102e-03, -2.0207e-02, -3.3646e-02]],\n",
      "\n",
      "          [[-1.4495e-02,  2.7294e-02,  3.8304e-02],\n",
      "           [ 2.7632e-02,  6.5770e-03,  2.2399e-03],\n",
      "           [ 2.5260e-02, -8.8642e-03,  1.8592e-02]],\n",
      "\n",
      "          [[-4.1864e-03, -1.6195e-02, -9.7665e-03],\n",
      "           [ 1.0480e-02, -3.7106e-02, -1.5169e-02],\n",
      "           [-6.6561e-03,  1.0821e-03,  6.5263e-03]]],\n",
      "\n",
      "\n",
      "         [[[ 4.1118e-03, -1.4025e-03,  2.1126e-02],\n",
      "           [-1.6795e-02, -1.1469e-02,  1.2963e-02],\n",
      "           [ 7.6757e-03,  1.2842e-03,  2.5170e-02]],\n",
      "\n",
      "          [[ 2.1200e-02,  2.8942e-02,  1.1248e-02],\n",
      "           [ 3.6659e-02, -2.0849e-04,  2.1977e-02],\n",
      "           [ 5.4641e-03,  2.0177e-02,  1.3959e-02]],\n",
      "\n",
      "          [[ 2.1442e-02,  1.8220e-02,  2.2403e-02],\n",
      "           [ 2.4052e-02, -1.5588e-02,  1.8809e-02],\n",
      "           [-3.9324e-03,  3.2273e-02,  3.4237e-02]]],\n",
      "\n",
      "\n",
      "         ...,\n",
      "\n",
      "\n",
      "         [[[-3.7081e-04,  1.4599e-02,  1.4019e-02],\n",
      "           [-1.5312e-02,  2.8563e-02,  4.2083e-03],\n",
      "           [ 5.0775e-03,  3.3850e-02, -1.7833e-02]],\n",
      "\n",
      "          [[-3.2187e-02,  1.0168e-02,  9.2956e-03],\n",
      "           [-6.3422e-03, -2.7335e-02,  5.3042e-03],\n",
      "           [-2.1561e-02,  3.0551e-02, -2.3154e-03]],\n",
      "\n",
      "          [[-3.8670e-02, -4.9365e-02, -3.1919e-02],\n",
      "           [-5.0351e-02, -3.7151e-02, -3.0907e-02],\n",
      "           [ 5.0444e-03,  8.8819e-03,  2.3526e-03]]],\n",
      "\n",
      "\n",
      "         [[[ 1.1341e-02,  3.8613e-02, -2.7597e-02],\n",
      "           [-1.3340e-02, -9.5012e-03, -6.9947e-03],\n",
      "           [ 3.9757e-02,  2.9659e-02, -1.2597e-02]],\n",
      "\n",
      "          [[ 2.9434e-02,  7.1248e-03,  8.9649e-03],\n",
      "           [ 2.9524e-02,  4.9626e-02,  7.8289e-03],\n",
      "           [ 3.5636e-02,  2.7488e-02,  1.7916e-02]],\n",
      "\n",
      "          [[-1.5177e-02,  3.1798e-02,  2.2875e-02],\n",
      "           [ 3.2413e-02, -1.8566e-02,  2.3479e-02],\n",
      "           [ 1.6105e-02,  5.1083e-03, -7.9034e-03]]],\n",
      "\n",
      "\n",
      "         [[[-3.0619e-02,  2.2693e-02, -3.3488e-02],\n",
      "           [-3.5115e-02,  2.7829e-03,  6.0315e-04],\n",
      "           [-2.5282e-03, -2.6954e-02,  3.9002e-03]],\n",
      "\n",
      "          [[-2.7909e-03, -1.9583e-02,  1.5094e-02],\n",
      "           [ 3.0057e-02,  3.4874e-02,  3.1002e-02],\n",
      "           [ 1.5685e-02,  2.2375e-03,  2.7198e-02]],\n",
      "\n",
      "          [[ 1.3462e-03,  2.1847e-02,  3.7595e-03],\n",
      "           [-2.5202e-02, -3.4275e-02, -4.5518e-03],\n",
      "           [ 1.9055e-02, -1.2848e-02,  1.5037e-03]]]],\n",
      "\n",
      "\n",
      "\n",
      "        [[[[-1.3269e-02,  1.2879e-02, -1.8638e-02],\n",
      "           [ 2.4603e-02, -3.8843e-04, -1.3865e-02],\n",
      "           [-9.4829e-05,  2.2618e-02,  5.0221e-03]],\n",
      "\n",
      "          [[-1.2515e-02,  2.2011e-02, -2.8915e-02],\n",
      "           [ 1.6915e-02, -2.2500e-02, -2.5245e-02],\n",
      "           [ 9.7106e-03, -1.7911e-02,  2.3835e-02]],\n",
      "\n",
      "          [[ 2.4802e-02, -2.0093e-02, -1.4022e-02],\n",
      "           [ 1.4044e-02,  2.2869e-02, -8.9601e-03],\n",
      "           [-1.0239e-02,  1.6237e-02,  6.9746e-03]]],\n",
      "\n",
      "\n",
      "         [[[-2.1823e-02, -1.2755e-02, -4.5112e-04],\n",
      "           [-2.0521e-02,  3.4592e-02,  2.5594e-02],\n",
      "           [ 9.8471e-03,  3.2460e-02, -2.7260e-02]],\n",
      "\n",
      "          [[ 1.2109e-02, -2.1502e-02, -2.7287e-02],\n",
      "           [-3.2353e-02,  2.5290e-02, -2.3955e-02],\n",
      "           [-7.1702e-03,  5.0562e-03,  4.8797e-03]],\n",
      "\n",
      "          [[ 3.0186e-02,  8.1388e-03, -3.4222e-02],\n",
      "           [-1.4165e-02, -2.9302e-02,  3.9120e-02],\n",
      "           [ 1.7493e-02,  1.8779e-03, -1.7712e-04]]],\n",
      "\n",
      "\n",
      "         [[[-2.0277e-02, -1.7455e-02,  4.4120e-03],\n",
      "           [ 1.1984e-02, -3.9612e-02, -2.0292e-02],\n",
      "           [ 2.3568e-02, -2.5808e-02, -9.1444e-03]],\n",
      "\n",
      "          [[ 2.1608e-02, -1.3110e-02,  1.2368e-02],\n",
      "           [ 1.5413e-02, -1.8095e-02, -1.5435e-02],\n",
      "           [-2.0686e-02, -3.0104e-02,  1.0070e-02]],\n",
      "\n",
      "          [[ 1.7158e-02, -1.8741e-02, -1.7912e-02],\n",
      "           [-7.0350e-03,  1.7785e-02, -1.4245e-02],\n",
      "           [-2.0071e-02,  1.5772e-02, -2.3603e-03]]],\n",
      "\n",
      "\n",
      "         ...,\n",
      "\n",
      "\n",
      "         [[[ 3.0119e-02,  1.1848e-02, -2.5881e-02],\n",
      "           [-2.0808e-02, -1.6650e-02, -1.8008e-02],\n",
      "           [-2.9630e-02,  2.5555e-02, -2.5653e-02]],\n",
      "\n",
      "          [[-5.8707e-03, -2.8270e-02,  3.3314e-02],\n",
      "           [-1.4558e-02, -1.0390e-02,  2.7054e-02],\n",
      "           [-2.7384e-02,  1.4956e-02, -2.2042e-02]],\n",
      "\n",
      "          [[ 3.5316e-02,  2.9045e-02,  3.3298e-02],\n",
      "           [-3.5563e-03, -3.0768e-02,  2.2126e-02],\n",
      "           [ 2.0082e-02,  1.5285e-02, -9.7708e-03]]],\n",
      "\n",
      "\n",
      "         [[[ 2.2383e-02,  3.3985e-03,  2.0603e-02],\n",
      "           [-2.1077e-02,  2.8973e-02,  2.1338e-02],\n",
      "           [-2.4485e-02, -9.7104e-03, -3.1166e-02]],\n",
      "\n",
      "          [[-2.7716e-02, -1.8804e-02, -3.6738e-02],\n",
      "           [ 2.4455e-02,  2.2942e-02,  1.3664e-02],\n",
      "           [-3.1613e-02, -1.2976e-02, -1.7071e-02]],\n",
      "\n",
      "          [[-1.0193e-02,  2.5490e-02,  1.1464e-02],\n",
      "           [ 1.8049e-02, -3.2539e-02,  2.1384e-02],\n",
      "           [ 1.2467e-02,  5.3242e-03, -1.1063e-02]]],\n",
      "\n",
      "\n",
      "         [[[ 3.5011e-02, -1.5320e-02, -2.8621e-02],\n",
      "           [ 8.0635e-03, -2.0540e-02,  2.6993e-02],\n",
      "           [-2.6403e-02,  1.8252e-02,  1.1097e-02]],\n",
      "\n",
      "          [[-1.5194e-02,  7.6627e-03,  2.0379e-02],\n",
      "           [-1.7578e-02, -1.1244e-02,  5.7226e-03],\n",
      "           [ 1.0045e-02, -2.4068e-02,  1.2142e-02]],\n",
      "\n",
      "          [[ 4.3079e-02, -6.3037e-03,  2.2971e-02],\n",
      "           [ 9.2843e-03, -1.6344e-02, -7.6463e-03],\n",
      "           [-4.6269e-03, -3.9411e-03,  2.1090e-02]]]],\n",
      "\n",
      "\n",
      "\n",
      "        [[[[-2.2327e-02, -2.4951e-02,  1.7132e-02],\n",
      "           [-6.9608e-03, -1.7764e-02, -2.3990e-02],\n",
      "           [ 1.6579e-02, -1.9580e-02,  1.6227e-02]],\n",
      "\n",
      "          [[-2.3435e-02, -2.7918e-02,  2.3618e-02],\n",
      "           [ 3.1629e-02,  2.4436e-03,  3.2806e-03],\n",
      "           [ 5.9676e-04, -1.1341e-02,  2.0307e-02]],\n",
      "\n",
      "          [[ 2.1578e-02,  2.3462e-02,  2.0224e-02],\n",
      "           [-2.7571e-02,  1.0839e-03,  1.2327e-02],\n",
      "           [-2.5641e-02,  4.2133e-02, -1.0908e-02]]],\n",
      "\n",
      "\n",
      "         [[[-1.9341e-03, -8.8483e-03, -9.4137e-03],\n",
      "           [ 2.2557e-02,  2.3010e-02,  3.4286e-03],\n",
      "           [-1.1904e-02,  2.3326e-02,  8.1715e-04]],\n",
      "\n",
      "          [[-2.0061e-02,  1.2442e-03, -4.4420e-03],\n",
      "           [-3.1519e-02,  3.0165e-02, -1.0588e-02],\n",
      "           [ 3.3248e-03,  1.0260e-02, -2.7118e-02]],\n",
      "\n",
      "          [[ 1.7741e-04, -3.3310e-02, -2.3620e-02],\n",
      "           [ 3.9130e-02,  1.1932e-02,  3.8340e-02],\n",
      "           [-1.9430e-02,  1.4070e-02,  3.8165e-02]]],\n",
      "\n",
      "\n",
      "         [[[-3.5888e-02, -4.5093e-02,  1.4491e-02],\n",
      "           [-4.7073e-03, -2.9958e-02,  8.7466e-03],\n",
      "           [-8.1138e-03, -1.0995e-02, -7.8709e-04]],\n",
      "\n",
      "          [[-1.6875e-02, -8.8091e-03, -2.5331e-02],\n",
      "           [ 1.9406e-02, -1.3081e-02,  2.8959e-02],\n",
      "           [-1.1797e-04, -2.5929e-02, -5.2656e-03]],\n",
      "\n",
      "          [[-1.4521e-02,  2.7159e-02,  1.0414e-02],\n",
      "           [ 1.9470e-02, -1.8718e-02, -1.6749e-02],\n",
      "           [ 8.9014e-03,  3.2518e-02, -3.2177e-02]]],\n",
      "\n",
      "\n",
      "         ...,\n",
      "\n",
      "\n",
      "         [[[ 1.1890e-02, -2.1355e-02,  9.5250e-03],\n",
      "           [-5.0601e-02,  9.5607e-03,  1.5562e-02],\n",
      "           [ 8.3425e-03,  2.4514e-02,  2.6991e-02]],\n",
      "\n",
      "          [[ 4.2009e-02,  1.9568e-02,  7.6291e-03],\n",
      "           [-1.2785e-02,  3.9072e-02, -2.4672e-02],\n",
      "           [ 4.0038e-02, -1.5102e-02, -7.2308e-03]],\n",
      "\n",
      "          [[ 4.7943e-03,  2.6810e-02, -1.7748e-02],\n",
      "           [-1.2905e-02,  4.0488e-02,  2.9756e-02],\n",
      "           [-3.1827e-02, -1.9764e-02, -3.1883e-02]]],\n",
      "\n",
      "\n",
      "         [[[ 4.0247e-03,  1.5856e-02, -1.9669e-02],\n",
      "           [ 3.1367e-02, -2.6034e-03,  1.9593e-02],\n",
      "           [ 3.5919e-02,  4.0790e-02,  1.3212e-03]],\n",
      "\n",
      "          [[-2.5753e-02,  1.4887e-02, -1.2678e-02],\n",
      "           [ 2.7001e-02, -2.0684e-03,  2.8242e-02],\n",
      "           [ 2.6769e-02,  3.6568e-02,  1.0739e-02]],\n",
      "\n",
      "          [[ 7.9285e-03, -9.0952e-03,  1.8332e-02],\n",
      "           [ 3.0827e-02, -4.4739e-03,  1.2913e-02],\n",
      "           [ 3.0370e-03, -1.0045e-02, -1.6140e-02]]],\n",
      "\n",
      "\n",
      "         [[[-2.5454e-02,  1.4973e-02,  2.5245e-02],\n",
      "           [-4.4928e-03,  1.3501e-02, -3.6784e-02],\n",
      "           [ 1.0767e-02,  4.3333e-03,  6.6861e-03]],\n",
      "\n",
      "          [[-2.1975e-02,  1.4872e-02,  2.5126e-02],\n",
      "           [-3.0449e-03, -1.9680e-02, -4.6219e-04],\n",
      "           [ 2.5406e-02, -7.4964e-03,  3.5475e-02]],\n",
      "\n",
      "          [[-4.2608e-03, -2.0921e-02,  3.0679e-02],\n",
      "           [-1.5709e-02,  7.3443e-03,  3.6398e-03],\n",
      "           [ 2.7020e-02, -2.0658e-02, -4.5908e-03]]]],\n",
      "\n",
      "\n",
      "\n",
      "        ...,\n",
      "\n",
      "\n",
      "\n",
      "        [[[[ 1.1328e-02, -2.9230e-02, -1.3467e-02],\n",
      "           [ 2.5183e-02,  2.9830e-02,  2.0190e-02],\n",
      "           [-1.5434e-02,  2.7812e-03, -2.8108e-02]],\n",
      "\n",
      "          [[ 4.5520e-02, -2.5348e-03,  3.7381e-02],\n",
      "           [-1.5379e-02,  1.8025e-02, -1.7326e-02],\n",
      "           [-1.7419e-02,  2.0259e-02,  3.8424e-02]],\n",
      "\n",
      "          [[ 4.6042e-02,  1.0738e-02,  9.7620e-03],\n",
      "           [ 1.4689e-02, -1.5991e-02, -1.0063e-02],\n",
      "           [ 1.1580e-02,  2.2475e-02,  4.6230e-02]]],\n",
      "\n",
      "\n",
      "         [[[-2.5156e-02, -3.7421e-02, -2.2962e-02],\n",
      "           [-5.4947e-03, -1.5300e-03, -9.7823e-04],\n",
      "           [ 1.3872e-02,  1.4445e-02, -6.7156e-03]],\n",
      "\n",
      "          [[ 1.3166e-03,  1.0834e-02, -3.6424e-02],\n",
      "           [-2.0099e-02, -3.3127e-02,  2.0405e-02],\n",
      "           [-1.1459e-02,  1.6659e-02, -1.9875e-02]],\n",
      "\n",
      "          [[ 3.9240e-03,  1.4293e-02,  1.9317e-03],\n",
      "           [ 3.4732e-02,  4.8943e-03,  3.8526e-02],\n",
      "           [-1.5664e-02,  4.5229e-02, -5.3685e-03]]],\n",
      "\n",
      "\n",
      "         [[[-6.4057e-03,  1.5737e-02,  1.0925e-02],\n",
      "           [ 1.2934e-02, -1.9691e-02, -1.9838e-02],\n",
      "           [ 1.8450e-03, -2.8988e-02, -2.7944e-02]],\n",
      "\n",
      "          [[ 3.0785e-02, -2.5411e-02,  7.5234e-04],\n",
      "           [-1.0511e-02, -2.7221e-02, -3.0392e-02],\n",
      "           [ 1.7568e-02,  2.8842e-02, -8.6162e-03]],\n",
      "\n",
      "          [[-6.0293e-03, -2.8810e-03, -1.5313e-02],\n",
      "           [-1.8662e-02,  2.8051e-02, -6.5668e-03],\n",
      "           [-1.2030e-02, -2.3369e-02,  1.7674e-03]]],\n",
      "\n",
      "\n",
      "         ...,\n",
      "\n",
      "\n",
      "         [[[-2.6662e-03, -8.8717e-03, -6.2113e-03],\n",
      "           [-1.8566e-02,  6.4181e-04,  3.3691e-02],\n",
      "           [-4.0907e-02,  1.7813e-02,  1.8318e-02]],\n",
      "\n",
      "          [[ 9.8743e-03, -2.2144e-02,  1.9290e-03],\n",
      "           [ 1.5018e-02,  3.6432e-02,  1.6470e-02],\n",
      "           [ 3.9403e-03,  1.8490e-02,  9.0923e-03]],\n",
      "\n",
      "          [[ 1.0557e-02, -6.9962e-03, -2.3717e-02],\n",
      "           [ 5.2148e-03, -1.9483e-02,  3.5035e-02],\n",
      "           [-5.8893e-04,  7.8012e-05,  1.2592e-02]]],\n",
      "\n",
      "\n",
      "         [[[ 3.9637e-02, -1.5295e-02,  1.3763e-03],\n",
      "           [-6.1971e-03, -9.9872e-03, -1.2303e-02],\n",
      "           [ 1.8211e-02,  2.5193e-02,  7.0816e-03]],\n",
      "\n",
      "          [[-2.6467e-02, -1.9896e-02,  1.0211e-02],\n",
      "           [ 4.1728e-02,  1.0105e-02,  3.5216e-02],\n",
      "           [-3.2973e-02,  4.3249e-03,  3.3900e-02]],\n",
      "\n",
      "          [[ 4.2691e-02, -8.6937e-03,  1.1452e-02],\n",
      "           [-2.9085e-02, -1.1432e-02, -2.0714e-02],\n",
      "           [ 1.8736e-02,  2.5728e-02, -2.0911e-03]]],\n",
      "\n",
      "\n",
      "         [[[ 1.8417e-02, -9.4514e-03,  9.6162e-03],\n",
      "           [-2.8582e-03,  1.5369e-02,  1.2816e-02],\n",
      "           [-1.1610e-02, -2.5931e-02, -1.1077e-02]],\n",
      "\n",
      "          [[-1.0781e-02, -3.2086e-03, -1.6464e-02],\n",
      "           [-1.7822e-02, -4.4687e-04, -1.7532e-02],\n",
      "           [ 2.0731e-02, -1.0995e-02, -6.0488e-04]],\n",
      "\n",
      "          [[ 7.5774e-03, -1.8551e-03,  1.2538e-02],\n",
      "           [-1.7081e-02,  3.5178e-02,  3.3106e-02],\n",
      "           [-3.4272e-02,  3.9281e-02,  2.5912e-03]]]],\n",
      "\n",
      "\n",
      "\n",
      "        [[[[-1.3728e-02, -2.5018e-02,  2.4146e-02],\n",
      "           [-1.6451e-02, -1.6545e-02, -2.1505e-02],\n",
      "           [-7.2740e-03,  1.8474e-02, -2.6990e-02]],\n",
      "\n",
      "          [[ 1.8773e-02,  8.3247e-03, -1.4652e-02],\n",
      "           [-2.5226e-02,  5.0091e-03,  3.5613e-02],\n",
      "           [ 1.5081e-02, -2.6992e-02,  3.3676e-02]],\n",
      "\n",
      "          [[-2.0443e-02, -2.0708e-02, -1.4877e-02],\n",
      "           [ 1.5709e-02,  4.2846e-02, -4.6945e-04],\n",
      "           [-1.8772e-02,  3.8873e-02, -1.6972e-02]]],\n",
      "\n",
      "\n",
      "         [[[ 3.3368e-03,  3.3405e-02,  8.3048e-04],\n",
      "           [-1.0470e-02,  1.9175e-02, -3.6703e-03],\n",
      "           [-3.5636e-04,  5.3622e-03, -1.4752e-03]],\n",
      "\n",
      "          [[ 1.5679e-02,  5.8268e-03, -1.8327e-02],\n",
      "           [ 2.0223e-02, -4.4821e-02,  1.7205e-02],\n",
      "           [-1.3267e-02, -2.7409e-02,  2.3100e-02]],\n",
      "\n",
      "          [[-7.1697e-03,  7.0053e-03,  4.0515e-03],\n",
      "           [-1.9623e-02, -3.8272e-02,  2.6243e-02],\n",
      "           [-3.7823e-02,  4.8883e-02, -3.2063e-02]]],\n",
      "\n",
      "\n",
      "         [[[-3.6769e-03, -5.5255e-03, -2.4285e-02],\n",
      "           [ 2.2525e-02,  2.2347e-02, -2.5237e-02],\n",
      "           [ 2.0449e-02,  7.0298e-03, -2.1427e-02]],\n",
      "\n",
      "          [[ 1.0248e-02,  2.2495e-02, -3.6003e-02],\n",
      "           [ 3.8297e-02, -1.9592e-02, -1.9119e-02],\n",
      "           [ 2.5266e-02, -2.3072e-02,  1.9766e-02]],\n",
      "\n",
      "          [[-8.0441e-03, -2.4262e-02,  2.9451e-02],\n",
      "           [-4.8410e-03, -2.0372e-02, -3.0672e-02],\n",
      "           [-5.2764e-03, -2.4437e-02, -2.5344e-02]]],\n",
      "\n",
      "\n",
      "         ...,\n",
      "\n",
      "\n",
      "         [[[-1.0994e-02, -9.7334e-03, -3.3249e-02],\n",
      "           [ 2.1945e-03, -2.5691e-02, -1.6678e-02],\n",
      "           [ 1.7868e-02,  2.1284e-02,  1.9846e-02]],\n",
      "\n",
      "          [[ 2.9773e-02,  2.9850e-02,  2.6958e-02],\n",
      "           [-1.6229e-02, -4.4002e-03,  2.9991e-02],\n",
      "           [ 3.1235e-02, -3.3719e-03,  2.8380e-02]],\n",
      "\n",
      "          [[ 1.8621e-02, -2.6464e-02,  1.0416e-02],\n",
      "           [ 2.6362e-02, -2.6777e-02,  2.1354e-02],\n",
      "           [-3.4738e-02,  6.1445e-04, -1.1781e-02]]],\n",
      "\n",
      "\n",
      "         [[[-8.7642e-03, -9.6796e-03,  3.2793e-02],\n",
      "           [ 2.0535e-02, -4.4179e-03,  6.1496e-03],\n",
      "           [-9.3454e-03,  3.3054e-02,  3.8592e-02]],\n",
      "\n",
      "          [[-1.6149e-02,  1.9683e-02, -2.9466e-03],\n",
      "           [-1.2040e-02, -1.9011e-02,  2.5915e-03],\n",
      "           [-1.0256e-02,  1.8636e-02,  6.8267e-03]],\n",
      "\n",
      "          [[ 2.0922e-03, -1.7364e-02,  1.7541e-03],\n",
      "           [-2.6223e-02,  3.3490e-02,  3.3215e-02],\n",
      "           [ 2.1224e-02, -2.6789e-02,  4.0970e-02]]],\n",
      "\n",
      "\n",
      "         [[[-2.0483e-02,  1.1933e-03,  4.2818e-02],\n",
      "           [-6.8126e-04, -1.3081e-02, -1.6356e-02],\n",
      "           [ 2.1005e-02,  1.8494e-02, -1.8120e-02]],\n",
      "\n",
      "          [[ 2.0980e-02,  2.9396e-02,  1.2405e-02],\n",
      "           [ 9.0728e-03,  1.4916e-03, -2.8342e-02],\n",
      "           [-1.7746e-02, -2.5648e-03, -9.9329e-03]],\n",
      "\n",
      "          [[-1.7312e-02, -4.1595e-02, -4.2028e-02],\n",
      "           [ 2.2172e-02, -8.6403e-03,  1.1157e-02],\n",
      "           [-2.2142e-02, -1.2970e-02, -1.0436e-02]]]],\n",
      "\n",
      "\n",
      "\n",
      "        [[[[ 4.2853e-02,  2.7496e-02, -1.3902e-02],\n",
      "           [-2.2931e-02, -6.0686e-05, -1.9045e-02],\n",
      "           [ 3.5246e-02, -1.6954e-02,  1.5479e-02]],\n",
      "\n",
      "          [[-1.9193e-02, -1.1075e-03,  2.6643e-02],\n",
      "           [ 2.3181e-02,  1.6685e-02, -2.1067e-02],\n",
      "           [ 3.6012e-02, -2.1562e-02, -1.2078e-02]],\n",
      "\n",
      "          [[ 1.5755e-02,  1.4991e-02,  3.1185e-02],\n",
      "           [-1.8875e-03,  9.4231e-03, -4.5281e-03],\n",
      "           [ 2.1325e-02, -1.7225e-02,  8.5201e-03]]],\n",
      "\n",
      "\n",
      "         [[[-2.6491e-02,  3.8635e-02,  5.3411e-03],\n",
      "           [ 1.6864e-02, -3.8549e-02, -3.3465e-03],\n",
      "           [-1.1518e-02,  3.1585e-02,  1.0116e-02]],\n",
      "\n",
      "          [[-3.0726e-02,  1.4710e-02, -1.1725e-02],\n",
      "           [ 1.8307e-02,  1.0257e-02,  3.1638e-02],\n",
      "           [ 2.3343e-02,  2.4451e-02, -2.2972e-02]],\n",
      "\n",
      "          [[ 3.3697e-02,  1.0976e-02, -1.2424e-02],\n",
      "           [ 2.6230e-02,  8.1004e-03,  2.4755e-02],\n",
      "           [-2.2950e-02,  8.9004e-03,  4.1099e-02]]],\n",
      "\n",
      "\n",
      "         [[[ 2.9709e-02, -2.6135e-02, -9.5492e-03],\n",
      "           [ 1.1711e-02,  4.6606e-03, -1.6708e-02],\n",
      "           [-1.0967e-03, -3.4549e-02,  1.2980e-02]],\n",
      "\n",
      "          [[-1.5802e-03, -6.2803e-03,  2.9230e-02],\n",
      "           [-4.0263e-02, -4.3178e-02, -3.4625e-02],\n",
      "           [ 3.8810e-02, -1.5658e-02,  3.0734e-02]],\n",
      "\n",
      "          [[ 4.7723e-02,  2.2076e-02, -1.7598e-02],\n",
      "           [-1.3143e-02,  2.1034e-03, -5.4652e-03],\n",
      "           [ 2.1526e-02,  1.0193e-02, -1.5310e-02]]],\n",
      "\n",
      "\n",
      "         ...,\n",
      "\n",
      "\n",
      "         [[[ 1.9553e-02, -9.5253e-03,  8.2260e-03],\n",
      "           [-3.0685e-02,  7.2787e-03,  5.8180e-03],\n",
      "           [ 1.2929e-02,  3.2319e-03,  3.7973e-02]],\n",
      "\n",
      "          [[ 3.0061e-02,  3.7804e-02, -1.4358e-02],\n",
      "           [-3.8901e-03,  1.8492e-02,  3.7146e-02],\n",
      "           [-1.6312e-02, -3.4869e-03,  3.7032e-02]],\n",
      "\n",
      "          [[-3.7581e-02, -1.1194e-02,  2.9150e-02],\n",
      "           [ 1.8804e-02,  1.8032e-02,  1.6818e-02],\n",
      "           [-2.7809e-03,  2.3415e-02,  1.8516e-02]]],\n",
      "\n",
      "\n",
      "         [[[-3.2756e-04,  1.0704e-03, -8.3980e-03],\n",
      "           [-1.8346e-03,  1.9742e-02, -1.0075e-02],\n",
      "           [-4.2031e-05, -3.3917e-02, -2.0941e-02]],\n",
      "\n",
      "          [[-1.1472e-02, -2.1306e-02, -1.3612e-02],\n",
      "           [ 1.6220e-02,  2.5007e-02,  2.1072e-02],\n",
      "           [ 2.9502e-02,  2.9806e-02, -3.2211e-02]],\n",
      "\n",
      "          [[ 5.2267e-02, -1.8696e-04,  3.6625e-02],\n",
      "           [ 8.9678e-03, -2.2387e-02,  1.3247e-02],\n",
      "           [ 1.5761e-02,  3.8639e-02, -3.0758e-03]]],\n",
      "\n",
      "\n",
      "         [[[-4.6928e-03,  3.1907e-02,  2.2522e-03],\n",
      "           [ 3.8193e-02, -4.2510e-02,  4.6392e-02],\n",
      "           [ 8.8140e-03,  1.1235e-02, -2.8804e-02]],\n",
      "\n",
      "          [[-2.2078e-02,  3.9539e-02, -8.5793e-03],\n",
      "           [ 2.6281e-02, -1.6233e-02, -2.2802e-02],\n",
      "           [ 5.2374e-03,  1.3696e-02, -1.3364e-02]],\n",
      "\n",
      "          [[-4.2998e-03, -2.5203e-02, -4.7937e-02],\n",
      "           [-3.8714e-02, -2.2084e-02,  1.8501e-03],\n",
      "           [ 7.1595e-03, -2.1009e-02, -7.8453e-03]]]]], device='cuda:0',\n",
      "       requires_grad=True)\n",
      "Parameter containing:\n",
      "tensor([1.0006, 0.9857, 1.0063, 0.9946, 0.9947, 1.0001, 0.9841, 0.9644, 0.9826,\n",
      "        0.9952, 0.9968, 0.9773, 1.0038, 1.0075, 0.9844, 1.0085, 1.0205, 0.9952,\n",
      "        0.9872, 1.0176, 0.9834, 0.9991, 0.9947, 1.0117, 0.9904, 1.0306, 1.0317,\n",
      "        1.0164, 1.0077, 1.0066, 0.9842, 0.9918], device='cuda:0',\n",
      "       requires_grad=True)\n",
      "Parameter containing:\n",
      "tensor([ 0.0325, -0.0033, -0.0530,  0.0306, -0.0320, -0.0423, -0.0465, -0.0582,\n",
      "        -0.0417,  0.0417, -0.0365, -0.0345, -0.0592,  0.0214,  0.0118,  0.0215,\n",
      "         0.0466, -0.0361, -0.0334,  0.0343, -0.0084,  0.0244, -0.0160,  0.0102,\n",
      "        -0.0214,  0.0450,  0.0413,  0.0212, -0.0495, -0.0431, -0.0355, -0.0566],\n",
      "       device='cuda:0', requires_grad=True)\n",
      "Parameter containing:\n",
      "tensor([[[[[ 3.2500e-02,  2.0006e-02,  1.6310e-02],\n",
      "           [-9.6375e-03, -2.2104e-03,  3.1405e-02],\n",
      "           [-1.1158e-02,  1.5116e-02,  6.7902e-03]],\n",
      "\n",
      "          [[ 2.2386e-02, -1.6547e-02,  3.4175e-03],\n",
      "           [-1.8024e-02,  3.9277e-02, -3.3838e-04],\n",
      "           [ 2.5027e-02,  9.9809e-03, -1.2778e-02]],\n",
      "\n",
      "          [[ 3.6181e-03, -3.7502e-02,  1.3733e-02],\n",
      "           [-1.2051e-02, -3.6674e-02,  2.3487e-02],\n",
      "           [ 2.7909e-02,  8.6127e-03, -1.0006e-02]]],\n",
      "\n",
      "\n",
      "         [[[-1.9361e-02,  2.6713e-02,  3.0066e-02],\n",
      "           [ 2.5866e-02,  1.5734e-02, -2.7437e-02],\n",
      "           [ 2.5294e-02, -4.8427e-03, -3.3955e-03]],\n",
      "\n",
      "          [[ 1.3176e-02,  1.5414e-02,  2.9362e-02],\n",
      "           [-8.5100e-03, -5.1557e-03, -1.5208e-02],\n",
      "           [ 2.7699e-02,  2.5214e-02,  1.7623e-02]],\n",
      "\n",
      "          [[-1.3844e-02,  2.4997e-02, -3.1616e-02],\n",
      "           [ 3.0354e-02,  1.4848e-02,  1.4256e-03],\n",
      "           [-1.0495e-02, -1.4015e-02, -5.6540e-03]]],\n",
      "\n",
      "\n",
      "         [[[-1.1475e-02, -1.8739e-02, -4.4410e-02],\n",
      "           [-1.5389e-02, -1.1813e-02,  7.6797e-03],\n",
      "           [-1.5317e-02, -2.5295e-02, -4.3484e-02]],\n",
      "\n",
      "          [[-1.1395e-02, -2.9664e-02, -2.5312e-02],\n",
      "           [-2.1737e-02,  2.2006e-02,  3.4070e-02],\n",
      "           [-1.0753e-02,  1.3199e-03,  1.5388e-02]],\n",
      "\n",
      "          [[-7.5084e-03, -1.9231e-02,  2.8556e-02],\n",
      "           [-3.3704e-02,  6.1171e-04, -9.6475e-03],\n",
      "           [-1.4108e-02,  1.9703e-02,  8.0039e-03]]],\n",
      "\n",
      "\n",
      "         ...,\n",
      "\n",
      "\n",
      "         [[[ 1.3651e-02,  1.9027e-02,  5.1835e-04],\n",
      "           [-2.2715e-03, -8.1918e-03, -3.2363e-02],\n",
      "           [-2.1247e-02, -6.1917e-03,  1.1053e-02]],\n",
      "\n",
      "          [[-1.1342e-02, -2.5620e-02, -4.4701e-02],\n",
      "           [ 6.8230e-03, -1.3166e-02, -4.3441e-02],\n",
      "           [-3.9478e-02, -2.6917e-02, -4.9416e-02]],\n",
      "\n",
      "          [[ 9.9467e-03, -2.0307e-02,  3.7431e-02],\n",
      "           [-3.6788e-02,  6.8208e-03, -5.8408e-03],\n",
      "           [ 2.2344e-02,  1.5909e-02, -1.7841e-02]]],\n",
      "\n",
      "\n",
      "         [[[-2.6087e-02, -3.2103e-02,  6.2609e-03],\n",
      "           [ 1.8381e-02, -1.1339e-02, -1.6988e-02],\n",
      "           [ 9.7998e-03, -6.7924e-03, -7.6779e-03]],\n",
      "\n",
      "          [[-1.5851e-02,  3.2557e-02,  2.7843e-02],\n",
      "           [ 2.5482e-02,  1.8483e-02, -1.1616e-02],\n",
      "           [ 4.1944e-02,  1.0239e-02,  3.6614e-02]],\n",
      "\n",
      "          [[ 1.9905e-02, -4.8589e-02,  1.7570e-03],\n",
      "           [ 2.1966e-02,  1.8171e-02,  1.5795e-02],\n",
      "           [-2.2651e-02, -2.9530e-02,  1.3902e-02]]],\n",
      "\n",
      "\n",
      "         [[[ 1.5120e-02, -1.3821e-02,  2.8267e-03],\n",
      "           [-2.2982e-02, -3.3461e-02, -5.9801e-03],\n",
      "           [-3.8638e-03, -2.7689e-02, -2.7663e-04]],\n",
      "\n",
      "          [[-1.7070e-02, -9.6194e-03,  2.2434e-02],\n",
      "           [ 1.6541e-02, -1.1637e-02, -2.8200e-02],\n",
      "           [-3.4706e-03,  1.5541e-02, -7.6637e-03]],\n",
      "\n",
      "          [[ 2.7823e-03,  5.0641e-03,  6.6293e-03],\n",
      "           [ 1.4406e-02,  1.6386e-02, -2.4671e-02],\n",
      "           [ 1.2514e-02,  1.1569e-02, -1.1637e-02]]]],\n",
      "\n",
      "\n",
      "\n",
      "        [[[[ 5.0555e-03, -3.7537e-02, -2.7285e-02],\n",
      "           [-6.0019e-04, -4.0577e-02, -3.7867e-02],\n",
      "           [-4.5405e-03,  1.1439e-02,  1.6007e-02]],\n",
      "\n",
      "          [[ 2.0310e-02, -1.8122e-02, -3.0126e-02],\n",
      "           [ 1.4571e-02,  1.1000e-02, -2.4970e-02],\n",
      "           [-2.9130e-02,  6.4422e-03, -3.5688e-03]],\n",
      "\n",
      "          [[ 1.7841e-02, -2.9233e-02,  1.7443e-02],\n",
      "           [-3.8428e-02,  2.0317e-02,  1.2492e-02],\n",
      "           [-2.4748e-02,  1.2448e-02, -1.9024e-02]]],\n",
      "\n",
      "\n",
      "         [[[-1.5848e-02,  2.5280e-02, -6.5966e-03],\n",
      "           [-2.5493e-03,  1.0842e-02,  1.8356e-02],\n",
      "           [ 2.7545e-02,  1.0328e-02, -1.4072e-02]],\n",
      "\n",
      "          [[ 1.4716e-02, -6.2197e-03, -8.0552e-03],\n",
      "           [ 5.5094e-03, -1.1589e-02,  3.3885e-02],\n",
      "           [-3.9583e-03, -5.6961e-03, -7.2899e-03]],\n",
      "\n",
      "          [[ 7.1368e-03, -2.2470e-02,  1.9163e-02],\n",
      "           [-9.5491e-03, -4.2576e-03, -3.0558e-03],\n",
      "           [ 2.9335e-02,  7.9998e-03,  1.3840e-03]]],\n",
      "\n",
      "\n",
      "         [[[ 2.2546e-02,  2.1484e-02, -2.6301e-04],\n",
      "           [-3.4346e-03,  2.7695e-03,  3.3466e-02],\n",
      "           [-2.1215e-02,  7.8276e-03, -4.0925e-02]],\n",
      "\n",
      "          [[-2.6765e-02, -9.8623e-03, -4.6833e-03],\n",
      "           [-1.8743e-02,  6.3980e-03,  4.6831e-03],\n",
      "           [ 7.8178e-03,  3.3520e-02, -1.4808e-02]],\n",
      "\n",
      "          [[ 1.4005e-02, -3.0094e-02,  1.7857e-02],\n",
      "           [-2.6756e-02, -1.1967e-02,  2.3160e-03],\n",
      "           [-9.3504e-03, -3.8842e-03,  6.1783e-04]]],\n",
      "\n",
      "\n",
      "         ...,\n",
      "\n",
      "\n",
      "         [[[-2.4271e-02,  1.0544e-02,  1.7842e-02],\n",
      "           [-1.7648e-02, -6.4154e-03,  2.6383e-02],\n",
      "           [ 1.5383e-02, -1.8584e-02,  9.7946e-03]],\n",
      "\n",
      "          [[-1.8067e-02,  2.0715e-02, -1.7883e-02],\n",
      "           [ 2.2824e-02, -8.1928e-03, -7.0043e-03],\n",
      "           [-4.9639e-03,  2.3681e-02,  4.2893e-03]],\n",
      "\n",
      "          [[-1.5661e-02, -5.5829e-05,  3.4471e-02],\n",
      "           [-4.3035e-03, -4.1606e-04, -3.5979e-02],\n",
      "           [ 3.1367e-02,  1.6736e-02, -1.8192e-02]]],\n",
      "\n",
      "\n",
      "         [[[ 2.4874e-02, -2.0642e-03,  1.3548e-02],\n",
      "           [ 2.1474e-03, -3.1313e-03,  2.9691e-02],\n",
      "           [ 1.4762e-02, -1.3209e-02,  3.0405e-03]],\n",
      "\n",
      "          [[ 5.8207e-03,  9.8966e-03, -2.1742e-02],\n",
      "           [ 2.5115e-02, -1.2553e-02, -1.3562e-02],\n",
      "           [ 8.9754e-03, -8.5331e-03,  2.5349e-02]],\n",
      "\n",
      "          [[ 2.1252e-02, -3.8224e-02, -2.3303e-02],\n",
      "           [ 2.8751e-02, -1.7961e-02,  1.3911e-02],\n",
      "           [-2.2004e-03, -1.9220e-02, -1.9093e-02]]],\n",
      "\n",
      "\n",
      "         [[[ 6.9831e-04, -5.2425e-03, -8.6751e-03],\n",
      "           [-2.5856e-02,  3.5771e-02,  2.1318e-02],\n",
      "           [-1.5663e-02, -2.9697e-03, -1.4564e-02]],\n",
      "\n",
      "          [[-3.6397e-03, -7.2905e-03,  1.3563e-02],\n",
      "           [ 1.6198e-02,  3.0482e-02,  2.9448e-02],\n",
      "           [-2.7912e-03,  1.3356e-02, -8.0792e-03]],\n",
      "\n",
      "          [[-3.2742e-02, -2.8243e-03, -7.1278e-03],\n",
      "           [-4.8896e-03,  2.0217e-02,  1.8278e-02],\n",
      "           [ 2.5958e-02, -1.1505e-02, -3.3142e-02]]]],\n",
      "\n",
      "\n",
      "\n",
      "        [[[[ 5.2914e-03,  3.1928e-02, -1.1906e-02],\n",
      "           [-1.5008e-02,  4.7363e-03,  4.7553e-03],\n",
      "           [ 1.7455e-02,  2.2779e-02,  7.2356e-04]],\n",
      "\n",
      "          [[-2.1479e-02, -8.5918e-03,  2.5796e-02],\n",
      "           [ 2.9794e-02, -4.0279e-03,  1.7541e-02],\n",
      "           [-2.3721e-02,  8.8705e-03,  2.1752e-02]],\n",
      "\n",
      "          [[ 3.8226e-02,  2.0835e-02,  1.8722e-02],\n",
      "           [-1.4293e-02,  2.9638e-02,  1.2065e-02],\n",
      "           [ 2.2928e-02,  2.6553e-03, -7.2782e-03]]],\n",
      "\n",
      "\n",
      "         [[[-2.7887e-02,  2.3233e-02,  1.4600e-02],\n",
      "           [ 3.4020e-02, -2.0242e-02, -1.9465e-02],\n",
      "           [ 8.8687e-03,  6.4833e-04,  1.7141e-02]],\n",
      "\n",
      "          [[ 7.5864e-03, -1.6399e-03, -1.7024e-02],\n",
      "           [ 1.2920e-02,  2.7522e-02, -5.7424e-03],\n",
      "           [ 1.2116e-02, -2.9137e-02,  3.8578e-02]],\n",
      "\n",
      "          [[ 1.7949e-03, -3.1119e-02,  1.2699e-02],\n",
      "           [ 1.4334e-02, -1.6592e-02, -2.7188e-03],\n",
      "           [ 8.7018e-03, -2.6275e-02, -1.3107e-02]]],\n",
      "\n",
      "\n",
      "         [[[ 3.1754e-03,  1.6890e-02,  3.1055e-02],\n",
      "           [-2.3166e-02,  1.0892e-02, -1.6954e-03],\n",
      "           [-8.8661e-03,  2.8721e-02, -2.0925e-02]],\n",
      "\n",
      "          [[-7.6244e-04,  3.1825e-02, -4.1675e-03],\n",
      "           [-8.0128e-03, -2.4833e-02, -3.7823e-02],\n",
      "           [-3.5601e-02,  1.8872e-02, -8.5072e-04]],\n",
      "\n",
      "          [[-1.3182e-02,  8.3388e-03,  8.5753e-03],\n",
      "           [ 1.6568e-02,  2.5556e-02,  1.1848e-02],\n",
      "           [ 3.2976e-02, -9.6631e-03, -1.8374e-02]]],\n",
      "\n",
      "\n",
      "         ...,\n",
      "\n",
      "\n",
      "         [[[-3.9271e-02,  4.6826e-03,  1.8068e-03],\n",
      "           [-2.3367e-02, -3.4742e-02, -1.5671e-02],\n",
      "           [-2.4615e-03, -3.9053e-03, -1.2677e-02]],\n",
      "\n",
      "          [[-1.0653e-02,  9.1414e-04, -2.0179e-02],\n",
      "           [ 4.7024e-02,  2.0449e-02, -3.2020e-03],\n",
      "           [ 1.1693e-02, -1.2846e-02, -4.3463e-03]],\n",
      "\n",
      "          [[-1.7095e-02,  3.2154e-02, -8.6925e-03],\n",
      "           [ 2.2282e-02,  8.6859e-04,  7.7310e-03],\n",
      "           [-4.6682e-03,  3.7806e-02, -5.0850e-03]]],\n",
      "\n",
      "\n",
      "         [[[-4.0902e-02, -5.1107e-03, -4.9243e-03],\n",
      "           [ 1.2223e-02,  3.0096e-03,  4.0917e-02],\n",
      "           [ 1.5247e-02,  2.1881e-02,  1.4006e-02]],\n",
      "\n",
      "          [[ 8.7169e-03, -2.2427e-02,  9.4068e-03],\n",
      "           [-3.0232e-02, -2.5920e-02,  1.4127e-03],\n",
      "           [ 4.4524e-02,  1.7413e-02,  3.5718e-02]],\n",
      "\n",
      "          [[-3.5995e-03, -3.2352e-02,  1.5264e-02],\n",
      "           [ 3.1595e-03, -1.7218e-02,  4.2728e-02],\n",
      "           [ 1.1978e-02, -1.9489e-02, -2.1176e-03]]],\n",
      "\n",
      "\n",
      "         [[[ 2.5300e-02,  1.0532e-02,  3.5253e-02],\n",
      "           [-3.2745e-03, -9.8854e-03,  2.2004e-02],\n",
      "           [-1.7657e-02, -1.4869e-02, -4.5234e-06]],\n",
      "\n",
      "          [[ 4.1195e-02, -4.0799e-02,  2.9563e-03],\n",
      "           [ 5.1856e-05,  1.2995e-02, -7.5140e-03],\n",
      "           [ 2.4440e-02,  2.6829e-02,  1.2983e-02]],\n",
      "\n",
      "          [[ 2.0902e-02, -1.6157e-02,  1.7838e-02],\n",
      "           [-3.5767e-02,  1.2127e-02, -1.7472e-02],\n",
      "           [ 2.9948e-02,  1.6949e-02,  3.6173e-02]]]],\n",
      "\n",
      "\n",
      "\n",
      "        ...,\n",
      "\n",
      "\n",
      "\n",
      "        [[[[ 2.5774e-02,  2.7579e-02, -1.5064e-02],\n",
      "           [ 1.3946e-02, -1.6201e-02,  1.2869e-02],\n",
      "           [ 7.3526e-03,  2.4057e-02, -1.7316e-02]],\n",
      "\n",
      "          [[-3.0113e-02,  1.6046e-02, -2.3364e-02],\n",
      "           [-4.9447e-02, -1.2862e-02, -2.0877e-02],\n",
      "           [ 8.9223e-03,  1.9984e-02,  3.6241e-03]],\n",
      "\n",
      "          [[ 1.3369e-02,  1.4075e-02,  1.5955e-03],\n",
      "           [ 1.6944e-02,  4.3275e-02,  1.4634e-02],\n",
      "           [ 3.3586e-02, -1.8846e-02, -7.1150e-03]]],\n",
      "\n",
      "\n",
      "         [[[ 6.3206e-03, -1.4136e-02,  7.4929e-03],\n",
      "           [-1.5373e-02,  4.2932e-02, -1.8549e-03],\n",
      "           [-1.7524e-03, -1.1780e-02,  5.6746e-03]],\n",
      "\n",
      "          [[-9.1345e-03, -3.1822e-02, -2.0202e-02],\n",
      "           [-1.1313e-02,  4.3093e-03,  2.3660e-02],\n",
      "           [-3.2566e-03,  4.0315e-03, -2.5035e-02]],\n",
      "\n",
      "          [[ 3.0675e-02,  4.4081e-03,  1.5444e-02],\n",
      "           [ 3.2114e-02,  4.4593e-03, -5.4555e-03],\n",
      "           [-3.0761e-02,  1.2229e-03,  3.0549e-02]]],\n",
      "\n",
      "\n",
      "         [[[-1.4182e-02,  1.1944e-02,  6.6493e-03],\n",
      "           [ 2.8370e-02,  3.3032e-02, -8.3056e-03],\n",
      "           [-2.6744e-02,  3.5179e-02, -2.2753e-02]],\n",
      "\n",
      "          [[ 1.9704e-03,  3.1003e-02, -1.0839e-02],\n",
      "           [ 2.4380e-02, -2.6337e-02,  3.6663e-02],\n",
      "           [ 2.6839e-02,  1.0498e-02, -5.6828e-03]],\n",
      "\n",
      "          [[ 2.7493e-02, -3.9584e-03, -2.9947e-02],\n",
      "           [-2.7009e-02,  1.7780e-02, -2.6283e-02],\n",
      "           [ 1.9182e-02,  1.2519e-02,  2.6310e-02]]],\n",
      "\n",
      "\n",
      "         ...,\n",
      "\n",
      "\n",
      "         [[[-4.9815e-02, -2.8159e-02,  5.6506e-03],\n",
      "           [ 3.2066e-02,  1.1957e-03, -1.0167e-02],\n",
      "           [-4.9236e-02, -1.6671e-02, -2.7091e-02]],\n",
      "\n",
      "          [[ 2.0109e-02,  3.6055e-02,  8.6201e-03],\n",
      "           [ 1.1702e-02, -1.7438e-02,  4.9817e-03],\n",
      "           [ 1.4563e-02, -1.9013e-02,  2.7265e-02]],\n",
      "\n",
      "          [[ 2.6647e-02, -3.0538e-02,  1.3010e-02],\n",
      "           [-1.5311e-02,  3.9943e-02,  1.7012e-03],\n",
      "           [-2.6948e-02,  2.1242e-02,  2.1348e-02]]],\n",
      "\n",
      "\n",
      "         [[[ 1.9354e-02,  2.7978e-03, -4.0495e-03],\n",
      "           [ 2.8358e-02,  4.9943e-03,  1.9463e-02],\n",
      "           [ 1.4958e-02,  1.1041e-02,  3.0424e-02]],\n",
      "\n",
      "          [[-1.8846e-03,  3.1831e-02, -1.7573e-02],\n",
      "           [ 6.6769e-03, -8.4147e-03, -2.6653e-02],\n",
      "           [-1.5388e-02, -7.1342e-03, -1.6517e-02]],\n",
      "\n",
      "          [[-6.6993e-03,  9.4963e-03,  2.9345e-02],\n",
      "           [ 2.5136e-02, -3.1856e-02, -1.5717e-02],\n",
      "           [ 2.6056e-03,  2.3660e-02,  3.5269e-02]]],\n",
      "\n",
      "\n",
      "         [[[-1.8330e-04,  1.5973e-02, -4.3921e-03],\n",
      "           [ 8.8684e-04,  3.1286e-02, -2.3512e-02],\n",
      "           [ 2.2489e-02,  3.6845e-03,  2.2507e-02]],\n",
      "\n",
      "          [[ 1.5387e-02, -2.7959e-02, -1.6165e-02],\n",
      "           [-3.5524e-02, -6.6921e-03,  1.6383e-02],\n",
      "           [-1.5540e-02, -3.2737e-02, -1.8710e-03]],\n",
      "\n",
      "          [[ 2.5945e-03, -3.2969e-03, -1.3684e-03],\n",
      "           [ 3.5250e-02, -5.5995e-04,  4.6868e-03],\n",
      "           [-7.1418e-04, -7.4165e-03, -2.5091e-02]]]],\n",
      "\n",
      "\n",
      "\n",
      "        [[[[ 8.1023e-03, -3.2530e-02,  2.9932e-02],\n",
      "           [ 2.4938e-02, -1.1445e-02, -1.0979e-02],\n",
      "           [ 2.4511e-02,  1.6070e-03,  2.5552e-02]],\n",
      "\n",
      "          [[-2.0126e-02,  3.3276e-03,  1.6672e-02],\n",
      "           [-1.1770e-02, -1.4321e-02,  1.1264e-02],\n",
      "           [ 2.5515e-02, -5.9998e-03, -1.5310e-02]],\n",
      "\n",
      "          [[ 2.4784e-02, -5.4567e-04,  2.5545e-02],\n",
      "           [ 1.4023e-02, -7.0253e-03,  7.8394e-03],\n",
      "           [ 2.4743e-03,  2.2419e-02, -3.3869e-03]]],\n",
      "\n",
      "\n",
      "         [[[ 2.2570e-03,  1.7554e-02, -1.7417e-02],\n",
      "           [ 8.7511e-03, -2.7343e-02,  1.4976e-03],\n",
      "           [ 7.6019e-03, -1.4408e-02,  1.4773e-02]],\n",
      "\n",
      "          [[ 8.5939e-03,  7.3114e-03,  7.5414e-03],\n",
      "           [ 9.3836e-03, -2.2575e-02, -1.2881e-02],\n",
      "           [-6.2244e-03, -2.1747e-02,  3.7232e-02]],\n",
      "\n",
      "          [[-3.3939e-03, -1.2041e-02, -1.4413e-02],\n",
      "           [ 1.2174e-02, -2.2589e-02,  2.9599e-02],\n",
      "           [ 2.1741e-02,  3.1639e-02,  2.5825e-02]]],\n",
      "\n",
      "\n",
      "         [[[ 3.2361e-02,  1.1652e-03,  1.7764e-02],\n",
      "           [-2.0000e-02, -2.3949e-02,  4.4834e-03],\n",
      "           [ 1.0449e-02,  3.7927e-02,  1.0333e-02]],\n",
      "\n",
      "          [[-4.7606e-02, -1.5992e-02, -1.3325e-02],\n",
      "           [-1.3942e-02,  2.7391e-02,  2.4426e-02],\n",
      "           [ 5.6929e-04, -2.0991e-04, -2.8884e-05]],\n",
      "\n",
      "          [[ 3.1190e-03, -3.0209e-03, -6.1719e-03],\n",
      "           [-1.3927e-02,  1.6050e-02, -2.4359e-02],\n",
      "           [ 1.4574e-02, -1.0412e-02,  1.8291e-02]]],\n",
      "\n",
      "\n",
      "         ...,\n",
      "\n",
      "\n",
      "         [[[-1.2805e-02, -2.8757e-02, -2.9722e-02],\n",
      "           [ 2.9032e-02, -1.7251e-02, -1.9291e-02],\n",
      "           [-2.8447e-02,  2.3623e-02,  5.7153e-03]],\n",
      "\n",
      "          [[-2.6644e-02,  1.1739e-02,  4.6452e-03],\n",
      "           [ 2.6851e-02, -2.3172e-02,  2.6224e-02],\n",
      "           [-1.4186e-02,  2.9760e-02,  2.3062e-02]],\n",
      "\n",
      "          [[-4.2340e-02, -5.1710e-02, -5.3753e-03],\n",
      "           [-7.5367e-03,  4.1971e-02, -7.7987e-03],\n",
      "           [-2.0392e-02, -7.2422e-03, -3.0199e-02]]],\n",
      "\n",
      "\n",
      "         [[[-1.2468e-02, -1.6861e-02,  1.1445e-02],\n",
      "           [-2.6324e-02,  1.0503e-02,  1.4953e-02],\n",
      "           [-2.2000e-03,  1.3645e-03,  1.6631e-02]],\n",
      "\n",
      "          [[-4.5817e-02, -2.2620e-03, -2.8621e-02],\n",
      "           [-2.7394e-02,  1.2633e-02,  5.1945e-03],\n",
      "           [-4.3314e-02,  9.6430e-03, -3.5814e-03]],\n",
      "\n",
      "          [[ 3.9642e-02,  1.9204e-02,  1.5120e-02],\n",
      "           [ 3.4631e-03,  1.6034e-02,  7.5205e-04],\n",
      "           [ 3.5822e-02, -2.2271e-03,  7.8726e-03]]],\n",
      "\n",
      "\n",
      "         [[[ 2.7135e-02,  2.5165e-02,  2.7518e-02],\n",
      "           [ 2.5200e-02,  2.4374e-02,  3.7628e-02],\n",
      "           [ 2.8982e-04, -1.5467e-03, -2.0165e-02]],\n",
      "\n",
      "          [[ 4.8814e-03, -2.7602e-03,  1.8863e-02],\n",
      "           [ 1.0853e-02, -3.6893e-02, -2.4680e-02],\n",
      "           [-2.7103e-02,  3.6931e-02, -1.2603e-02]],\n",
      "\n",
      "          [[ 2.9557e-02,  2.1970e-02,  1.1200e-02],\n",
      "           [ 1.4496e-02, -7.2536e-03,  1.2609e-02],\n",
      "           [-1.2063e-02,  5.0855e-03, -1.8903e-02]]]],\n",
      "\n",
      "\n",
      "\n",
      "        [[[[ 3.6448e-02,  2.8782e-02, -1.7263e-02],\n",
      "           [-2.7649e-02, -1.4650e-02, -1.8560e-02],\n",
      "           [-8.7021e-03, -6.1870e-03, -8.2496e-03]],\n",
      "\n",
      "          [[-1.4563e-02,  1.9675e-02, -1.4764e-04],\n",
      "           [ 7.8155e-03,  3.3188e-02,  2.3992e-02],\n",
      "           [ 4.6594e-02, -2.3401e-02, -1.2173e-02]],\n",
      "\n",
      "          [[-8.8002e-03, -1.9820e-02, -5.9772e-03],\n",
      "           [ 3.4987e-02,  3.5390e-03, -4.3682e-02],\n",
      "           [-6.3805e-03, -1.9455e-02,  1.8073e-02]]],\n",
      "\n",
      "\n",
      "         [[[-2.4773e-02, -4.2963e-02,  7.9779e-04],\n",
      "           [-1.4887e-02, -2.5749e-02, -3.5663e-02],\n",
      "           [-4.2850e-02,  4.9772e-03, -1.2563e-02]],\n",
      "\n",
      "          [[ 2.3211e-03, -2.4936e-02,  1.7884e-02],\n",
      "           [ 1.1518e-02,  7.0897e-03, -3.8431e-02],\n",
      "           [-2.3476e-02, -2.4880e-02, -2.8170e-02]],\n",
      "\n",
      "          [[-2.6270e-02,  1.0575e-02,  3.0349e-02],\n",
      "           [ 2.3751e-02, -4.1722e-02, -1.0352e-02],\n",
      "           [ 1.3718e-02, -1.4379e-02,  3.4717e-02]]],\n",
      "\n",
      "\n",
      "         [[[-2.5799e-02,  2.6598e-02,  2.0270e-02],\n",
      "           [-1.3100e-03,  1.6618e-02,  3.7438e-03],\n",
      "           [ 1.5962e-02,  2.6393e-02,  4.8401e-03]],\n",
      "\n",
      "          [[ 5.2095e-03, -2.3206e-02, -2.1394e-02],\n",
      "           [-1.1351e-02,  2.6067e-02,  2.8473e-02],\n",
      "           [-1.7779e-02, -2.8392e-02, -2.3577e-02]],\n",
      "\n",
      "          [[ 2.3557e-03,  2.3858e-03,  1.5990e-02],\n",
      "           [-2.0653e-02, -2.0728e-02,  6.9031e-03],\n",
      "           [-8.6750e-03,  2.9408e-02,  2.5401e-02]]],\n",
      "\n",
      "\n",
      "         ...,\n",
      "\n",
      "\n",
      "         [[[ 2.1335e-03, -1.6227e-02, -5.2434e-03],\n",
      "           [ 1.3371e-02, -6.9791e-03,  2.8863e-02],\n",
      "           [ 3.8348e-03,  1.6887e-02, -8.8428e-03]],\n",
      "\n",
      "          [[ 3.2103e-02, -1.0555e-02, -1.5265e-02],\n",
      "           [-2.2221e-02, -1.9822e-02, -2.4285e-02],\n",
      "           [ 3.3627e-02,  2.9572e-02, -2.1078e-02]],\n",
      "\n",
      "          [[-1.1031e-02, -1.9738e-02, -3.3724e-02],\n",
      "           [-1.4208e-03, -5.1779e-03, -2.4262e-02],\n",
      "           [-7.6236e-04, -2.8344e-02, -3.4507e-02]]],\n",
      "\n",
      "\n",
      "         [[[-2.2907e-02,  2.1052e-03,  1.4059e-02],\n",
      "           [-1.5191e-02,  3.1285e-02,  9.8664e-03],\n",
      "           [-3.6417e-02,  3.1158e-02, -1.5214e-02]],\n",
      "\n",
      "          [[-4.1992e-02,  1.5740e-02, -1.0053e-02],\n",
      "           [ 4.1478e-03,  1.8096e-02,  3.2531e-03],\n",
      "           [-3.1397e-02, -5.1326e-03,  2.6595e-02]],\n",
      "\n",
      "          [[-1.0771e-02, -2.6083e-02,  3.1483e-03],\n",
      "           [ 4.1247e-04, -1.5758e-02,  6.2513e-03],\n",
      "           [ 4.7102e-03,  4.6817e-03,  3.0585e-02]]],\n",
      "\n",
      "\n",
      "         [[[ 1.3068e-02,  6.9442e-04, -1.3370e-02],\n",
      "           [ 3.9491e-02,  4.6827e-03,  2.9005e-02],\n",
      "           [ 8.1330e-03,  3.7812e-02, -1.9378e-02]],\n",
      "\n",
      "          [[ 1.3903e-02, -1.7138e-02,  1.8887e-02],\n",
      "           [-7.4385e-03, -3.2339e-02,  2.0498e-02],\n",
      "           [ 2.9906e-02, -1.9354e-03, -1.1710e-02]],\n",
      "\n",
      "          [[-1.9102e-02, -4.0613e-03, -1.1871e-03],\n",
      "           [-8.7257e-03, -4.2503e-02, -1.7228e-03],\n",
      "           [-1.6117e-02, -1.5319e-02,  1.2072e-02]]]]], device='cuda:0',\n",
      "       requires_grad=True)\n",
      "Parameter containing:\n",
      "tensor([0.9706, 1.0859, 0.9749, 0.9715, 0.9673, 0.9728, 0.9694, 1.0833, 0.9731,\n",
      "        0.9659, 0.9711, 1.0777, 1.0832, 1.1211, 0.9703, 1.0983, 1.0852, 0.9712,\n",
      "        1.0798, 1.1179, 0.9698, 1.0986, 0.9961, 0.9767, 1.0896, 1.0951, 1.1012,\n",
      "        0.9688, 1.0731, 0.9707, 0.9713, 1.1091], device='cuda:0',\n",
      "       requires_grad=True)\n",
      "Parameter containing:\n",
      "tensor([-0.0534,  0.0839, -0.0378, -0.0568, -0.0503, -0.0562, -0.0569,  0.0749,\n",
      "        -0.0388, -0.0392, -0.0531,  0.0726,  0.0783,  0.1226, -0.0578,  0.0929,\n",
      "         0.0854, -0.0555,  0.0602,  0.1187, -0.0585,  0.0881, -0.0091, -0.0440,\n",
      "         0.0904,  0.0937,  0.0942, -0.0509,  0.0747, -0.0464, -0.0561,  0.0991],\n",
      "       device='cuda:0', requires_grad=True)\n",
      "Parameter containing:\n",
      "tensor([[[[[ 0.0516]]],\n",
      "\n",
      "\n",
      "         [[[-0.1425]]],\n",
      "\n",
      "\n",
      "         [[[ 0.0033]]],\n",
      "\n",
      "\n",
      "         [[[ 0.1150]]],\n",
      "\n",
      "\n",
      "         [[[ 0.1097]]],\n",
      "\n",
      "\n",
      "         [[[ 0.0900]]],\n",
      "\n",
      "\n",
      "         [[[ 0.0879]]],\n",
      "\n",
      "\n",
      "         [[[-0.1720]]],\n",
      "\n",
      "\n",
      "         [[[ 0.0205]]],\n",
      "\n",
      "\n",
      "         [[[ 0.1072]]],\n",
      "\n",
      "\n",
      "         [[[ 0.0485]]],\n",
      "\n",
      "\n",
      "         [[[-0.2071]]],\n",
      "\n",
      "\n",
      "         [[[-0.0626]]],\n",
      "\n",
      "\n",
      "         [[[-0.0762]]],\n",
      "\n",
      "\n",
      "         [[[ 0.1025]]],\n",
      "\n",
      "\n",
      "         [[[-0.1041]]],\n",
      "\n",
      "\n",
      "         [[[-0.1497]]],\n",
      "\n",
      "\n",
      "         [[[ 0.0636]]],\n",
      "\n",
      "\n",
      "         [[[-0.0611]]],\n",
      "\n",
      "\n",
      "         [[[-0.0736]]],\n",
      "\n",
      "\n",
      "         [[[ 0.1226]]],\n",
      "\n",
      "\n",
      "         [[[-0.1077]]],\n",
      "\n",
      "\n",
      "         [[[-0.0249]]],\n",
      "\n",
      "\n",
      "         [[[ 0.0087]]],\n",
      "\n",
      "\n",
      "         [[[-0.1217]]],\n",
      "\n",
      "\n",
      "         [[[-0.1080]]],\n",
      "\n",
      "\n",
      "         [[[-0.0699]]],\n",
      "\n",
      "\n",
      "         [[[ 0.1152]]],\n",
      "\n",
      "\n",
      "         [[[-0.2446]]],\n",
      "\n",
      "\n",
      "         [[[ 0.1036]]],\n",
      "\n",
      "\n",
      "         [[[ 0.0970]]],\n",
      "\n",
      "\n",
      "         [[[-0.0858]]]]], device='cuda:0', requires_grad=True)\n",
      "Parameter containing:\n",
      "tensor([-0.0997], device='cuda:0', requires_grad=True)\n"
     ]
    }
   ],
   "source": [
    "for parameter in unet.parameters():\n",
    "    print(parameter)"
   ]
  },
  {
   "cell_type": "code",
   "execution_count": 34,
   "metadata": {},
   "outputs": [],
   "source": [
    "model_parameters = filter(lambda p: p.requires_grad, unet.parameters())\n",
    "params = sum([np.prod(p.size()) for p in model_parameters])"
   ]
  },
  {
   "cell_type": "code",
   "execution_count": 35,
   "metadata": {},
   "outputs": [
    {
     "name": "stdout",
     "output_type": "stream",
     "text": [
      "109025\n"
     ]
    }
   ],
   "source": [
    "print(params)"
   ]
  },
  {
   "cell_type": "code",
   "execution_count": null,
   "metadata": {},
   "outputs": [],
   "source": []
  }
 ],
 "metadata": {
  "kernelspec": {
   "display_name": "Python 3 (ipykernel)",
   "language": "python",
   "name": "python3"
  },
  "language_info": {
   "codemirror_mode": {
    "name": "ipython",
    "version": 3
   },
   "file_extension": ".py",
   "mimetype": "text/x-python",
   "name": "python",
   "nbconvert_exporter": "python",
   "pygments_lexer": "ipython3",
   "version": "3.8.12"
  }
 },
 "nbformat": 4,
 "nbformat_minor": 4
}
