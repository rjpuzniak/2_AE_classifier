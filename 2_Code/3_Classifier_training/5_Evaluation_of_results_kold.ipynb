{
 "cells": [
  {
   "cell_type": "markdown",
   "metadata": {},
   "source": [
    "# Evaluation"
   ]
  },
  {
   "cell_type": "markdown",
   "metadata": {},
   "source": [
    "## Loading libraries"
   ]
  },
  {
   "cell_type": "code",
   "execution_count": 1,
   "metadata": {},
   "outputs": [],
   "source": [
    "# Importing libraries\n",
    "import torchio as tio\n",
    "import glob\n",
    "import numpy as np\n",
    "import random\n",
    "import os\n",
    "import pickle\n",
    "\n",
    "from collections import OrderedDict\n",
    "from pathlib import Path\n",
    "\n",
    "from tqdm import tqdm\n",
    "import time\n",
    "\n",
    "import torchio as tio\n",
    "from torchio.transforms import (RescaleIntensity,RandomFlip,Compose, HistogramStandardization, CropOrPad, ToCanonical)\n",
    "\n",
    "from sklearn.metrics import accuracy_score,f1_score, recall_score, precision_score, roc_auc_score, RocCurveDisplay, roc_curve, confusion_matrix\n",
    "\n",
    "from torch.utils.data import DataLoader\n",
    "import torch\n",
    "import torch.nn as nn\n",
    "\n",
    "import matplotlib.pyplot as plt\n",
    "\n",
    "from scipy.ndimage import zoom\n",
    "\n",
    "from Functions_classification_training import UNet_1_layer, UNet_2_layer, Classifier\n",
    "\n",
    "import statistics"
   ]
  },
  {
   "cell_type": "code",
   "execution_count": 2,
   "metadata": {},
   "outputs": [],
   "source": [
    "from captum.attr import IntegratedGradients\n",
    "from captum.attr import Saliency\n",
    "from captum.attr import DeepLift\n",
    "from captum.attr import NoiseTunnel\n",
    "from captum.attr import GradientShap\n",
    "from captum.attr import Occlusion\n",
    "from captum.attr import visualization as viz"
   ]
  },
  {
   "cell_type": "markdown",
   "metadata": {},
   "source": [
    "## Functions"
   ]
  },
  {
   "cell_type": "code",
   "execution_count": 3,
   "metadata": {},
   "outputs": [],
   "source": [
    "# Plot the training progress\n",
    "def plot_training(folder_name):\n",
    "    \n",
    "    number_of_attempts=len(next(os.walk('../../1_Data/'+folder_name))[1])\n",
    "    \n",
    "    fig = plt.figure(figsize=(20,40))\n",
    "    plt.suptitle(os.path.basename(folder_name))\n",
    "    \n",
    "    for i in range(number_of_attempts):\n",
    "        \n",
    "        path_to_saved_output='../../1_Data/'+folder_name+'/'+str(i)+'/1_2_2_1_256_5e-05/'\n",
    "        \n",
    "        with open(path_to_saved_output+'train_loss.pkl', 'rb') as f:\n",
    "            train_loss=pickle.load(f)\n",
    "\n",
    "        with open(path_to_saved_output+'dev_train_loss.pkl', 'rb') as f:\n",
    "            dev_train_loss=pickle.load(f)\n",
    "\n",
    "        with open(path_to_saved_output+'test_loss.pkl', 'rb') as f:\n",
    "            dev_test_loss=pickle.load(f)\n",
    "\n",
    "        with open(path_to_saved_output+'train_f1.pkl', 'rb') as f:\n",
    "            train_f1=pickle.load(f)\n",
    "\n",
    "        with open(path_to_saved_output+'dev_train_f1.pkl', 'rb') as f:\n",
    "            dev_train_f1=pickle.load(f)\n",
    "\n",
    "        with open(path_to_saved_output+'test_f1.pkl', 'rb') as f:\n",
    "            test_f1=pickle.load(f)\n",
    "\n",
    "        plt.subplot(number_of_attempts,2,2*i+1)\n",
    "        plt.plot(train_loss, label='train')\n",
    "        plt.plot(dev_train_loss, label='train_dev')\n",
    "        plt.plot(dev_test_loss, label='test')\n",
    "        plt.title('Loss');\n",
    "        #plt.ylim([0, 5])   \n",
    "        if(i==0):\n",
    "            plt.legend();\n",
    "\n",
    "        plt.subplot(number_of_attempts,2,2*i+2)\n",
    "        plt.plot(train_f1, label='train')\n",
    "        plt.plot(dev_train_f1, label='train_dev')\n",
    "        plt.plot(test_f1, label='test')\n",
    "        plt.title('Accuracy');\n",
    "        plt.ylim([0, 1.05])"
   ]
  },
  {
   "cell_type": "code",
   "execution_count": 4,
   "metadata": {},
   "outputs": [],
   "source": [
    "# Create the dataloader\n",
    "def create_dataloader_combined(folder_name, iteration):\n",
    "    \n",
    "    with open('../../1_Data/'+folder_name+'/'+str(iteration)+'/kfold_design_'+str(iteration)+'.pkl','rb') as f:\n",
    "        design=pickle.load(f)\n",
    "        \n",
    "        \n",
    "    # Dict with file names\n",
    "    dict_design={}\n",
    "    \n",
    "    for group in ['test1','test2']:\n",
    "        dict_design[group]=[]\n",
    "        for dataset in design[group].keys():\n",
    "            for label in design[group][dataset].keys():\n",
    "                \n",
    "                if label=='albinism':\n",
    "                    label_as=1\n",
    "                elif label=='control':\n",
    "                    label_as=0\n",
    "                \n",
    "                dict_design[group]+=[tio.Subject(chiasm=tio.Image('../../1_Data/1_Input/'+dataset+'/'+subject+'/chiasm.nii.gz', type=tio.INTENSITY),\n",
    "                                                                        label=label_as) for subject in design[group][dataset][label]]\n",
    "\n",
    "    # Histogram standardization (to mitigate cross-site differences) - shared by all datasets\n",
    "    chiasm_paths=[]\n",
    "\n",
    "    # Obtain paths of all chiasm images\n",
    "    for group in design.keys():\n",
    "        for dataset in design[group].keys():\n",
    "            for label in design[group][dataset].keys():\n",
    "                for subject in design[group][dataset][label]:\n",
    "                    chiasm_paths.append('../../1_Data/1_Input/'+dataset+'/'+subject+'/chiasm.nii.gz')\n",
    "\n",
    "    chiasm_landmarks_path = Path('chiasm_landmarks.npy')    \n",
    "\n",
    "    chiasm_landmarks = HistogramStandardization.train(chiasm_paths)\n",
    "    torch.save(chiasm_landmarks, chiasm_landmarks_path)\n",
    "\n",
    "    landmarks={'chiasm': chiasm_landmarks}\n",
    "\n",
    "    standardize = HistogramStandardization(landmarks)\n",
    "    \n",
    "    # Data augmentation\n",
    "    \n",
    "    canonical = ToCanonical()\n",
    "    rescale = RescaleIntensity((0,1))\n",
    "    crop = CropOrPad((24,24,8))\n",
    "\n",
    "    transform_dev = Compose([canonical, standardize, rescale, crop])\n",
    "    \n",
    "    # dataset\n",
    "    dataset_list={}\n",
    "    for group in dict_design.keys():\n",
    "        dataset_list[group]= tio.SubjectsDataset(dict_design[group], transform=transform_dev)\n",
    "\n",
    "        \n",
    "    # Create dataloaders\n",
    "    dataloaders_chiasm={'test1': DataLoader(dataset=dataset_list['test1'], batch_size=10, shuffle=True, num_workers=8),\n",
    "                       'test2': DataLoader(dataset=dataset_list['test2'], batch_size=10, shuffle=True, num_workers=8)}\n",
    "\n",
    "    return dataloaders_chiasm"
   ]
  },
  {
   "cell_type": "code",
   "execution_count": 5,
   "metadata": {},
   "outputs": [],
   "source": [
    "# Create the dataloader\n",
    "def create_dataloader_separated(folder_name, iteration):\n",
    "    \n",
    "    with open('../../1_Data/'+folder_name+'/'+str(iteration)+'/kfold_design_'+str(iteration)+'.pkl','rb') as f:\n",
    "        design=pickle.load(f)\n",
    "        \n",
    "        \n",
    "    # Dict with file names\n",
    "    dict_design={}\n",
    "    \n",
    "    for group in ['dev_test','test1','test2']:\n",
    "        dict_design[group]=[]\n",
    "        for dataset in design[group].keys():\n",
    "            for label in design[group][dataset].keys():\n",
    "                \n",
    "                if label=='albinism':\n",
    "                    label_as=1\n",
    "                elif label=='control':\n",
    "                    label_as=0\n",
    "                \n",
    "                dict_design[group]+=[tio.Subject(chiasm=tio.Image('../../1_Data/1_Input/'+dataset+'/'+subject+'/chiasm.nii.gz', type=tio.INTENSITY),\n",
    "                                                                        label=label_as) for subject in design[group][dataset][label]]\n",
    "\n",
    "    # Histogram standardization (to mitigate cross-site differences) - shared by all datasets\n",
    "    chiasm_paths=[]\n",
    "\n",
    "    # Obtain paths of all chiasm images\n",
    "    for group in ['train']:\n",
    "        for dataset in design[group].keys():\n",
    "            for label in design[group][dataset].keys():\n",
    "                for subject in design[group][dataset][label]:\n",
    "                    chiasm_paths.append('../../1_Data/1_Input/'+dataset+'/'+subject+'/chiasm.nii.gz')\n",
    "\n",
    "    chiasm_landmarks_path = Path('chiasm_landmarks.npy')    \n",
    "\n",
    "    chiasm_landmarks = HistogramStandardization.train(chiasm_paths)\n",
    "    torch.save(chiasm_landmarks, chiasm_landmarks_path)\n",
    "\n",
    "    landmarks={'chiasm': chiasm_landmarks}\n",
    "\n",
    "    standardize = HistogramStandardization(landmarks)\n",
    "    \n",
    "    # Data augmentation\n",
    "    \n",
    "    canonical = ToCanonical()\n",
    "    rescale = RescaleIntensity((0,1))\n",
    "    crop = CropOrPad((24,24,8))\n",
    "\n",
    "    transform_dev = Compose([canonical, standardize, rescale, crop])\n",
    "    \n",
    "    # dataset\n",
    "    dataset_list={}\n",
    "    for group in dict_design.keys():\n",
    "        dataset_list[group]= tio.SubjectsDataset(dict_design[group], transform=transform_dev)\n",
    "\n",
    "        \n",
    "    # Create dataloaders\n",
    "    dataloaders_chiasm={'dev_test': DataLoader(dataset=dataset_list['dev_test'], batch_size=10, shuffle=True, num_workers=8),\n",
    "                        'test1': DataLoader(dataset=dataset_list['test1'], batch_size=10, shuffle=True, num_workers=8),\n",
    "                       'test2': DataLoader(dataset=dataset_list['test2'], batch_size=10, shuffle=True, num_workers=8)}\n",
    "\n",
    "    return dataloaders_chiasm"
   ]
  },
  {
   "cell_type": "code",
   "execution_count": 6,
   "metadata": {},
   "outputs": [],
   "source": [
    "# Visualize input\n",
    "def visualize_input(dataloader, group):\n",
    "    \n",
    "    classes=['control','albinism']\n",
    "    \n",
    "    batch = next(enumerate(dataloader[group]))\n",
    "\n",
    "    data = batch[1]['chiasm']['data']\n",
    "    labels = batch[1]['label']\n",
    "\n",
    "    inputs = data.cpu().numpy()\n",
    "\n",
    "\n",
    "    fig = plt.figure(figsize=(20,20))\n",
    "\n",
    "    for i in range(inputs.shape[0]):\n",
    "\n",
    "        \n",
    "        \n",
    "        plt.subplot(inputs.shape[0],2,2*i+1)\n",
    "        plt.imshow(inputs[i,0,:,:,5],cmap='gray');\n",
    "        plt.title(classes[labels[i]])#+batch[1]['chiasm']['path'][i])\n",
    "        plt.subplot(inputs.shape[0],2,2*i+2)\n",
    "        plt.hist(inputs[i,0].reshape(-1),density=True, bins=100);\n",
    "        plt.axis('on')\n",
    "\n",
    "    plt.show()"
   ]
  },
  {
   "cell_type": "code",
   "execution_count": 7,
   "metadata": {},
   "outputs": [],
   "source": [
    "# Detailed inspection of input\n",
    "def detailed_insight_into_input(dataloaders_chiasm, group):\n",
    "\n",
    "    average_control=np.zeros((24,24,8))\n",
    "    average_albinism = np.zeros((24,24,8))\n",
    "\n",
    "    for batch in dataloaders_chiasm[group]:    \n",
    "        average_control+=np.sum(np.array(batch['chiasm']['data'])[batch['label'].numpy()==0], axis=(0,1))\n",
    "        average_albinism+=np.sum(np.array(batch['chiasm']['data'])[batch['label'].numpy()==1], axis=(0,1))\n",
    "\n",
    "    # Normalize albinism\n",
    "    maximal = np.max(average_albinism)\n",
    "    minimal = np.min(average_albinism)\n",
    "    average_albinism = (average_albinism - minimal)/(maximal - minimal)\n",
    "\n",
    "    # Normalize control\n",
    "    maximal = np.max(average_control)\n",
    "    minimal = np.min(average_control)\n",
    "    average_control = (average_control - minimal)/(maximal - minimal)\n",
    "\n",
    "    plt.figure(figsize=(20,20))\n",
    "\n",
    "    num_of_columns=7\n",
    "\n",
    "    for i in range(8):\n",
    "\n",
    "        # Control\n",
    "        plt.subplot(8,num_of_columns,num_of_columns*i+1)\n",
    "        plt.imshow(average_control[:,:,i], cmap='gray')\n",
    "        plt.tick_params(axis='both', labelsize=0, length = 0)\n",
    "        if(i==0):\n",
    "            plt.title('Average control')\n",
    "\n",
    "        # Control masked\n",
    "        plt.subplot(8,num_of_columns,num_of_columns*i+2)\n",
    "        plt.imshow(average_control[:,:,i]>0.775, cmap='gray')\n",
    "        plt.tick_params(axis='both', labelsize=0, length = 0)\n",
    "        if(i==0):\n",
    "            plt.title('Masked average control')\n",
    "\n",
    "        # Difference masked by control\n",
    "        plt.subplot(8,num_of_columns,num_of_columns*i+3)\n",
    "        plt.imshow((average_control[:,:,i]-average_albinism[:,:,i])*(average_control[:,:,i]>0.775), cmap='jet')\n",
    "        plt.tick_params(axis='both', labelsize=0, length = 0)\n",
    "        if(i==0):\n",
    "            plt.title('Difference masked by control')\n",
    "\n",
    "        # Difference control - albinism\n",
    "        plt.subplot(8,num_of_columns,num_of_columns*i+4)\n",
    "        plt.imshow(average_control[:,:,i]-average_albinism[:,:,i], cmap='jet')\n",
    "        plt.tick_params(axis='both', labelsize=0, length = 0)\n",
    "        if(i==0):\n",
    "            plt.title('Difference')\n",
    "\n",
    "        # Difference masked by albinism\n",
    "        plt.subplot(8,num_of_columns,num_of_columns*i+5)\n",
    "        plt.imshow((average_albinism[:,:,i]-average_control[:,:,i])*(average_albinism[:,:,i]>0.7), cmap='jet')\n",
    "        plt.tick_params(axis='both', labelsize=0, length = 0)\n",
    "        if(i==0):\n",
    "            plt.title('Difference masked by albinism')\n",
    "\n",
    "        # Albinism masked\n",
    "        plt.subplot(8,num_of_columns,num_of_columns*i+6)\n",
    "        plt.imshow(average_albinism[:,:,i]>0.70, cmap='gray')\n",
    "        plt.tick_params(axis='both', labelsize=0, length = 0)\n",
    "        if(i==0):\n",
    "            plt.title('Masekd average albinism')\n",
    "\n",
    "\n",
    "        # Albinism\n",
    "        plt.subplot(8,num_of_columns,num_of_columns*i+7)\n",
    "        plt.imshow(average_albinism[:,:,i], cmap='gray')\n",
    "        plt.tick_params(axis='both', labelsize=0, length = 0)\n",
    "        if(i==0):\n",
    "            plt.title('Average albinism')"
   ]
  },
  {
   "cell_type": "code",
   "execution_count": 8,
   "metadata": {},
   "outputs": [],
   "source": [
    "# Collect predictions\n",
    "def collect_predictions(dataloader, path_to_weights, group):\n",
    "    \n",
    "    true=[]\n",
    "    predictions=[]\n",
    "    \n",
    "    # Load model\n",
    "    model=Classifier(1,2,2,1,256)\n",
    "    model.load_state_dict(torch.load(path_to_weights))  \n",
    "    model.eval()\n",
    "    \n",
    "    # Evaluate\n",
    "    for batch in dataloader[group]:\n",
    "        \n",
    "        data=batch['chiasm']['data']\n",
    "        \n",
    "        with torch.no_grad():\n",
    "            output=model(data)\n",
    "    \n",
    "        true+=batch['label'][:].numpy().tolist()\n",
    "        predictions+=output[:,0].cpu().detach().tolist()\n",
    "\n",
    "    return true, predictions"
   ]
  },
  {
   "cell_type": "code",
   "execution_count": 9,
   "metadata": {},
   "outputs": [],
   "source": [
    "def translate_group(index):\n",
    "    \n",
    "    if (index==0):\n",
    "        return 'control'\n",
    "    elif (index ==1):\n",
    "        return 'albinism'"
   ]
  },
  {
   "cell_type": "code",
   "execution_count": 10,
   "metadata": {},
   "outputs": [],
   "source": [
    "# XAI part\n",
    "def explain_predictions(dataloader, path_to_weights, group):\n",
    "    \n",
    "    # Load model\n",
    "    model=Classifier(1,2,2,1,256)\n",
    "    model.load_state_dict(torch.load(path_to_weights))  \n",
    "    model.eval()\n",
    "    \n",
    "    occlusion=Occlusion(model)\n",
    "    \n",
    "    plt.figure(figsize=(10,20))\n",
    "    \n",
    "    # Evaluate\n",
    "    for batch in dataloader[group]:\n",
    "        \n",
    "        data=batch['chiasm']['data']\n",
    "        \n",
    "        with torch.no_grad():\n",
    "            output=model(data)\n",
    "\n",
    "        plt.figure(figsize=(10,20))\n",
    "        for i in range(len(batch['label'])):\n",
    "            \n",
    "            input=batch['chiasm']['data'][i].unsqueeze(0)\n",
    "                        \n",
    "            attributions_occ_zero = occlusion.attribute(input,\n",
    "                                       target=0,\n",
    "                                       sliding_window_shapes=(1,3,3,1),\n",
    "                                       baselines=0)\n",
    "            \n",
    "            # original image\n",
    "            plt.subplot(len(batch['label']),2,2*i+1)\n",
    "            plt.imshow(batch['chiasm']['data'][i:(i+1)][0,0,:,:,3], cmap='gray', alpha=1)    \n",
    "            plt.ylabel(translate_group(batch['label'][i]))\n",
    "            plt.tick_params(axis='both', labelsize=0, length = 0)\n",
    "            \n",
    "            # explanation for control           \n",
    "            plt.subplot(len(batch['label']),2,2*i+2)\n",
    "            plt.imshow(attributions_occ_zero[0,0,:,:,3], cmap='jet', alpha=1)    \n",
    "            plt.tick_params(axis='both', labelsize=0, length = 0)\n",
    "            plt.xlabel(\"{:.2f}\".format(output[i].item()))\n",
    "            if(i==0):\n",
    "                plt.title('Predicted albinism (0-1)')       \n",
    "                \n",
    "        plt.show()"
   ]
  },
  {
   "cell_type": "code",
   "execution_count": 11,
   "metadata": {},
   "outputs": [],
   "source": [
    "def results(true, predictions):\n",
    "      \n",
    "    # Plot ROC AUC\n",
    "    RocCurveDisplay.from_predictions(true,predictions);\n",
    "    plt.show()\n",
    "    \n",
    "    # Values    \n",
    "    fpr, tpr, thresholds = roc_curve(true,predictions)\n",
    "    \n",
    "    best_threshold = thresholds[np.argmax(tpr - fpr)] \n",
    "    \n",
    "    print('ROC AUC \\t', roc_auc_score(true, predictions))\n",
    "    print('Best thr. \\t', best_threshold)\n",
    "    \n",
    "    thresholded_predictions = [x > best_threshold for x in predictions]\n",
    "    \n",
    "    print('\\n')\n",
    "    \n",
    "    print('Accuracy: \\t', accuracy_score(true, thresholded_predictions))\n",
    "    print('Precision: \\t', precision_score(true, thresholded_predictions))\n",
    "    print('Recall: \\t', recall_score(true, thresholded_predictions))\n",
    "    print('F1: \\t\\t', f1_score(true, thresholded_predictions))\n",
    "    print('CM: \\t\\t', confusion_matrix(true, thresholded_predictions))"
   ]
  },
  {
   "cell_type": "code",
   "execution_count": 12,
   "metadata": {},
   "outputs": [],
   "source": [
    "def aggregated_results(true, predictions):\n",
    "    \n",
    "    accuracy=[]\n",
    "    precision=[]\n",
    "    recall=[]\n",
    "    f1=[]\n",
    "    auc_list=[]\n",
    "    global_cm=np.zeros((2,2))\n",
    "    \n",
    "    plt.figure(figsize=(20,10))\n",
    "    \n",
    "    for i in range(len(true)):\n",
    "        \n",
    "        # Plot ROC\n",
    "        fpr, tpr, thresholds = roc_curve(true[i],predictions[i])\n",
    "        auc = roc_auc_score(true[i],predictions[i])\n",
    "        \n",
    "        plt.subplot(2,4,i+1)\n",
    "        plt.plot(fpr,tpr,label=\"Fold \"+str(i)+\" auc=\"+str(auc))\n",
    "        plt.title('Fold %s' % str(i))\n",
    "        plt.legend()\n",
    "        plt.xlabel('False Positive Rate')\n",
    "        plt.ylabel('True Positive Rate')\n",
    "        \n",
    "        # Values\n",
    "        best_threshold = thresholds[np.argmax(tpr - fpr)]    \n",
    "        thresholded_predictions = [x >= best_threshold for x in predictions[i]]\n",
    "        \n",
    "        auc_list.append(auc)\n",
    "        accuracy.append(accuracy_score(true[i],thresholded_predictions))\n",
    "        precision.append(precision_score(true[i],thresholded_predictions))\n",
    "        recall.append(recall_score(true[i],thresholded_predictions))\n",
    "        f1.append(f1_score(true[i],thresholded_predictions))\n",
    "        \n",
    "        print(confusion_matrix(true[i],thresholded_predictions))\n",
    "        global_cm += confusion_matrix(true[i],thresholded_predictions)\n",
    "    \n",
    "    \n",
    "    #plt.xlabel('False Positive Rate')\n",
    "    #plt.ylabel('True Positive Rate')\n",
    "    #plt.legend()\n",
    "    plt.show()\n",
    "    \n",
    "    \n",
    "    # Plot statistics\n",
    "    plt.figure(figsize=(20,10))\n",
    "    plt.subplot(4,1,1)\n",
    "    plt.scatter(range(len(true)),accuracy)\n",
    "    plt.ylabel('Accuracy')\n",
    "    plt.subplot(4,1,2)\n",
    "    plt.scatter(range(len(true)),precision)\n",
    "    plt.ylabel('Precision')\n",
    "    plt.subplot(4,1,3)\n",
    "    plt.scatter(range(len(true)),recall)\n",
    "    plt.ylabel('Recall')\n",
    "    plt.subplot(4,1,4)\n",
    "    plt.scatter(range(len(true)),f1)\n",
    "    plt.ylabel('f1')\n",
    "    plt.xlabel('Fold')\n",
    "    \n",
    "    print('AUC: \\t \\t {:.2f} {:.2f} \\t (mean +- std)'.format(statistics.mean(auc_list), statistics.stdev(auc_list)))\n",
    "    print('Accuracy: \\t {:.2f} {:.2f} \\t (mean +- std)'.format(statistics.mean(accuracy), statistics.stdev(accuracy)))\n",
    "    print('Precision: \\t {:.2f} {:.2f} \\t (mean +- std)'.format(statistics.mean(precision), statistics.stdev(precision)))\n",
    "    print('Recall: \\t {:.2f} {:.2f} \\t (mean +- std)'.format(statistics.mean(recall), statistics.stdev(recall)))\n",
    "    print('F1: \\t \\t {:.2f} {:.2f} \\t (mean +- std)'.format(statistics.mean(f1), statistics.stdev(f1)))\n",
    "    print(global_cm/8)"
   ]
  },
  {
   "cell_type": "code",
   "execution_count": 13,
   "metadata": {},
   "outputs": [],
   "source": [
    "def final_combined(folder_name, group):\n",
    "    \n",
    "    print(folder_name)\n",
    "    \n",
    "    print('Training plots')\n",
    "    #plot_training(folder_name)\n",
    "    #plt.show()\n",
    "    \n",
    "    global_true=[]\n",
    "    global_pred=[]\n",
    "    \n",
    "    for i in range(8):\n",
    "        dataloader = create_dataloader_combined(folder_name,i)\n",
    "        \n",
    "        #visualize_input(dataloader,group)\n",
    "        #detailed_insight_into_input(dataloader,group)\n",
    "        #plt.show()\n",
    "        \n",
    "        if folder_name=='4_K-fold_combined_extraction_learning_rate':\n",
    "            true, pred = collect_predictions(dataloader,'../../1_Data/'+folder_name+'/'+str(i)+'/1_2_2_1_256_0.0005/optimal_weights',group)    \n",
    "        else:\n",
    "            true, pred = collect_predictions(dataloader,'../../1_Data/'+folder_name+'/'+str(i)+'/1_2_2_1_256_5e-05/optimal_weights',group)    \n",
    "        \n",
    "        global_true.append(true)\n",
    "        global_pred.append(pred)\n",
    "        \n",
    "        #print('Partial_results '+str(i))\n",
    "        #results(true,pred)\n",
    "        \n",
    "    print('Global results')\n",
    "    aggregated_results(global_true, global_pred)"
   ]
  },
  {
   "cell_type": "code",
   "execution_count": 14,
   "metadata": {},
   "outputs": [],
   "source": [
    "def final_separated(folder_name, group):\n",
    "    \n",
    "    print(folder_name)\n",
    "    \n",
    "    print('Training plots')\n",
    "    #plot_training(folder_name)\n",
    "    #plt.show()\n",
    "    \n",
    "    global_true=[]\n",
    "    global_pred=[]\n",
    "    \n",
    "    for i in range(8):\n",
    "        dataloader = create_dataloader_separated(folder_name,i)\n",
    "        \n",
    "        #visualize_input(dataloader,group)\n",
    "        #detailed_insight_into_input(dataloader,group)\n",
    "        #plt.show()\n",
    "        \n",
    "        true, pred = collect_predictions(dataloader,'../../1_Data/'+folder_name+'/'+str(i)+'/1_2_2_1_256_5e-05/optimal_weights',group)\n",
    "        #explain_predictions(dataloader,'../../1_Data/'+folder_name+'/'+str(i)+'/1_2_2_1_256_5e-05/optimal_weights',group)\n",
    "        \n",
    "        global_true.append(true)\n",
    "        global_pred.append(pred)\n",
    "        \n",
    "        #print('Partial_results '+str(i))\n",
    "        #results(true,pred)\n",
    "        \n",
    "    print('Global results')\n",
    "    aggregated_results(global_true, global_pred)"
   ]
  },
  {
   "cell_type": "code",
   "execution_count": 76,
   "metadata": {},
   "outputs": [],
   "source": [
    "def aggregated_results(true, predictions):\n",
    "    \n",
    "    accuracy=[]\n",
    "    precision=[]\n",
    "    recall=[]\n",
    "    f1=[]\n",
    "    auc_list=[]\n",
    "    global_cm=np.zeros((2,2))\n",
    "    \n",
    "    plt.figure(figsize=(20,10))\n",
    "    \n",
    "    for i in range(len(true)):\n",
    "        \n",
    "        # Plot ROC\n",
    "        fpr, tpr, thresholds = roc_curve(true[i],predictions[i])\n",
    "        auc = roc_auc_score(true[i],predictions[i])\n",
    "        \n",
    "        plt.subplot(2,4,i+1)\n",
    "        plt.plot(fpr,tpr)#,label=\"Fold \"+str(i)+\" auc=\"+str(auc))\n",
    "        plt.plot([0,1],[0,1],color='#95a5a6', linestyle='--', linewidth=1, alpha=0.5)\n",
    "        plt.title(f\"Fold {i+1} (AUC = {auc:.2f})\", fontsize=14)\n",
    "        #plt.legend()\n",
    "        if (i>=4):\n",
    "            plt.xlabel('False Positive Rate', fontsize=14)\n",
    "        if (i%4==0):\n",
    "            plt.ylabel('True Positive Rate', fontsize=14)\n",
    "        \n",
    "        # Values\n",
    "        best_threshold = thresholds[np.argmax(tpr - fpr)]    \n",
    "        thresholded_predictions = [x >= best_threshold for x in predictions[i]]\n",
    "        \n",
    "        auc_list.append(auc)\n",
    "        accuracy.append(accuracy_score(true[i],thresholded_predictions))\n",
    "        precision.append(precision_score(true[i],thresholded_predictions))\n",
    "        recall.append(recall_score(true[i],thresholded_predictions))\n",
    "        f1.append(f1_score(true[i],thresholded_predictions))\n",
    "        \n",
    "        #print(confusion_matrix(true[i],thresholded_predictions))\n",
    "        global_cm += confusion_matrix(true[i],thresholded_predictions)\n",
    "    \n",
    "    \n",
    "    #plt.xlabel('False Positive Rate')\n",
    "    #plt.ylabel('True Positive Rate')\n",
    "    #plt.legend()\n",
    "    plt.show()\n",
    "    \n",
    "    \n",
    "    # Plot statistics\n",
    "    plt.figure(figsize=(15,10))\n",
    "    plt.subplot(4,1,1)\n",
    "    aesthetic_barplot(true,accuracy,'Accuracy')\n",
    "    plt.subplot(4,1,2)\n",
    "    aesthetic_barplot(true,precision,'Precision')\n",
    "    plt.subplot(4,1,3)\n",
    "    aesthetic_barplot(true,recall,'Recall')\n",
    "    plt.subplot(4,1,4)\n",
    "    aesthetic_barplot(true,f1,'F1-Score')\n",
    "    plt.xlabel('Fold', fontsize=14)\n",
    "    \n",
    "    print('AUC: \\t \\t {:.2f} {:.2f} \\t (mean +- std)'.format(statistics.mean(auc_list), statistics.stdev(auc_list)))\n",
    "    print('Accuracy: \\t {:.2f} {:.2f} \\t (mean +- std)'.format(statistics.mean(accuracy), statistics.stdev(accuracy)))\n",
    "    print('Precision: \\t {:.2f} {:.2f} \\t (mean +- std)'.format(statistics.mean(precision), statistics.stdev(precision)))\n",
    "    print('Recall: \\t {:.2f} {:.2f} \\t (mean +- std)'.format(statistics.mean(recall), statistics.stdev(recall)))\n",
    "    print('F1: \\t \\t {:.2f} {:.2f} \\t (mean +- std)'.format(statistics.mean(f1), statistics.stdev(f1)))\n",
    "    print(global_cm/8)"
   ]
  },
  {
   "cell_type": "code",
   "execution_count": 77,
   "metadata": {},
   "outputs": [],
   "source": [
    "def aesthetic_barplot(number_of_plots, values, name):\n",
    "    \n",
    "    plt.bar(range(1,len(number_of_plots)+1),values, alpha=0.75)\n",
    "    plt.ylim([0.0,1.10])\n",
    "    plt.yticks([0.25, 0.50, 0.75, 1.00])\n",
    "    plt.grid(color='#95a5a6', linestyle='--', linewidth=1, axis='y', alpha=0.5)\n",
    "    plt.ylabel(name, fontsize=14)"
   ]
  },
  {
   "cell_type": "markdown",
   "metadata": {},
   "source": [
    "## Results"
   ]
  },
  {
   "cell_type": "code",
   "execution_count": 78,
   "metadata": {},
   "outputs": [
    {
     "name": "stderr",
     "output_type": "stream",
     "text": [
      "  6%|██▏                                     | 97/1740 [00:00<00:01, 964.12it/s]"
     ]
    },
    {
     "name": "stdout",
     "output_type": "stream",
     "text": [
      "4_K-fold_combined\n",
      "Training plots\n"
     ]
    },
    {
     "name": "stderr",
     "output_type": "stream",
     "text": [
      "100%|█████████████████████████████████████| 1740/1740 [00:01<00:00, 1013.84it/s]\n",
      "100%|█████████████████████████████████████| 1740/1740 [00:01<00:00, 1015.48it/s]\n",
      "100%|██████████████████████████████████████| 1740/1740 [00:01<00:00, 997.70it/s]\n",
      "100%|█████████████████████████████████████| 1740/1740 [00:01<00:00, 1020.01it/s]\n",
      "100%|█████████████████████████████████████| 1740/1740 [00:01<00:00, 1018.01it/s]\n",
      "100%|█████████████████████████████████████| 1740/1740 [00:01<00:00, 1004.97it/s]\n",
      "100%|█████████████████████████████████████| 1740/1740 [00:01<00:00, 1036.94it/s]\n",
      "100%|█████████████████████████████████████| 1740/1740 [00:01<00:00, 1011.03it/s]\n"
     ]
    },
    {
     "name": "stdout",
     "output_type": "stream",
     "text": [
      "Global results\n"
     ]
    },
    {
     "data": {
      "image/png": "[encoded data removed]",
      "text/plain": [
       "<Figure size 1440x720 with 8 Axes>"
      ]
     },
     "metadata": {
      "needs_background": "light"
     },
     "output_type": "display_data"
    },
    {
     "name": "stdout",
     "output_type": "stream",
     "text": [
      "AUC: \t \t 0.78 0.23 \t (mean +- std)\n",
      "Accuracy: \t 0.85 0.14 \t (mean +- std)\n",
      "Precision: \t 0.90 0.14 \t (mean +- std)\n",
      "Recall: \t 0.81 0.18 \t (mean +- std)\n",
      "F1: \t \t 0.85 0.14 \t (mean +- std)\n",
      "[[3.125 0.375]\n",
      " [0.75  3.125]]\n"
     ]
    },
    {
     "data": {
      "image/png": "[encoded data removed]",
      "text/plain": [
       "<Figure size 1080x720 with 4 Axes>"
      ]
     },
     "metadata": {
      "needs_background": "light"
     },
     "output_type": "display_data"
    }
   ],
   "source": [
    "final_combined('4_K-fold_combined','test1')"
   ]
  },
  {
   "cell_type": "code",
   "execution_count": null,
   "metadata": {},
   "outputs": [],
   "source": [
    "final_combined('4_K-fold_combined','test2')"
   ]
  },
  {
   "cell_type": "code",
   "execution_count": null,
   "metadata": {},
   "outputs": [],
   "source": []
  },
  {
   "cell_type": "code",
   "execution_count": 64,
   "metadata": {},
   "outputs": [
    {
     "name": "stderr",
     "output_type": "stream",
     "text": [
      "  6%|██▏                                   | 103/1740 [00:00<00:01, 1029.04it/s]"
     ]
    },
    {
     "name": "stdout",
     "output_type": "stream",
     "text": [
      "4_K-fold_combined_extraction\n",
      "Training plots\n"
     ]
    },
    {
     "name": "stderr",
     "output_type": "stream",
     "text": [
      "100%|█████████████████████████████████████| 1740/1740 [00:01<00:00, 1029.92it/s]\n",
      "100%|█████████████████████████████████████| 1740/1740 [00:01<00:00, 1026.41it/s]\n",
      "100%|██████████████████████████████████████| 1740/1740 [00:01<00:00, 997.06it/s]\n",
      "100%|█████████████████████████████████████| 1740/1740 [00:01<00:00, 1028.10it/s]\n",
      "100%|█████████████████████████████████████| 1740/1740 [00:01<00:00, 1003.09it/s]\n",
      "100%|█████████████████████████████████████| 1740/1740 [00:01<00:00, 1036.81it/s]\n",
      "100%|█████████████████████████████████████| 1740/1740 [00:01<00:00, 1020.24it/s]\n",
      "100%|█████████████████████████████████████| 1740/1740 [00:01<00:00, 1026.71it/s]\n"
     ]
    },
    {
     "name": "stdout",
     "output_type": "stream",
     "text": [
      "Global results\n",
      "[[3 1]\n",
      " [0 4]]\n",
      "[[4 0]\n",
      " [3 1]]\n",
      "[[4 0]\n",
      " [1 3]]\n",
      "[[4 0]\n",
      " [1 3]]\n",
      "[[3 0]\n",
      " [0 4]]\n",
      "[[3 0]\n",
      " [2 2]]\n",
      "[[3 0]\n",
      " [0 4]]\n",
      "[[3 0]\n",
      " [0 3]]\n"
     ]
    },
    {
     "data": {
      "image/png": "[encoded data removed]",
      "text/plain": [
       "<Figure size 1440x720 with 8 Axes>"
      ]
     },
     "metadata": {
      "needs_background": "light"
     },
     "output_type": "display_data"
    },
    {
     "name": "stdout",
     "output_type": "stream",
     "text": [
      "AUC: \t \t 0.85 0.16 \t (mean +- std)\n",
      "Accuracy: \t 0.87 0.14 \t (mean +- std)\n",
      "Precision: \t 0.97 0.07 \t (mean +- std)\n",
      "Recall: \t 0.78 0.28 \t (mean +- std)\n",
      "F1: \t \t 0.83 0.21 \t (mean +- std)\n",
      "[[3.375 0.125]\n",
      " [0.875 3.   ]]\n"
     ]
    },
    {
     "data": {
      "image/png": "[encoded data removed]",
      "text/plain": [
       "<Figure size 1440x720 with 4 Axes>"
      ]
     },
     "metadata": {
      "needs_background": "light"
     },
     "output_type": "display_data"
    }
   ],
   "source": [
    "final_combined('4_K-fold_combined_extraction','test1')"
   ]
  },
  {
   "cell_type": "code",
   "execution_count": 65,
   "metadata": {},
   "outputs": [
    {
     "name": "stderr",
     "output_type": "stream",
     "text": [
      "\r",
      "  0%|                                                  | 0/1740 [00:00<?, ?it/s]"
     ]
    },
    {
     "name": "stdout",
     "output_type": "stream",
     "text": [
      "4_K-fold_combined_extraction\n",
      "Training plots\n"
     ]
    },
    {
     "name": "stderr",
     "output_type": "stream",
     "text": [
      "100%|█████████████████████████████████████| 1740/1740 [00:01<00:00, 1022.65it/s]\n",
      "100%|█████████████████████████████████████| 1740/1740 [00:01<00:00, 1045.92it/s]\n",
      "100%|█████████████████████████████████████| 1740/1740 [00:01<00:00, 1026.41it/s]\n",
      "100%|█████████████████████████████████████| 1740/1740 [00:01<00:00, 1013.76it/s]\n",
      "100%|█████████████████████████████████████| 1740/1740 [00:01<00:00, 1015.17it/s]\n",
      "100%|█████████████████████████████████████| 1740/1740 [00:01<00:00, 1006.08it/s]\n",
      "100%|█████████████████████████████████████| 1740/1740 [00:01<00:00, 1026.58it/s]\n",
      "100%|█████████████████████████████████████| 1740/1740 [00:01<00:00, 1025.59it/s]\n"
     ]
    },
    {
     "name": "stdout",
     "output_type": "stream",
     "text": [
      "Global results\n",
      "[[214   0]\n",
      " [  0   1]]\n",
      "[[208   4]\n",
      " [  0   1]]\n",
      "[[210   1]\n",
      " [  0   1]]\n",
      "[[210   0]\n",
      " [  0   1]]\n",
      "[[209   0]\n",
      " [  0   1]]\n",
      "[[208   0]\n",
      " [  0   1]]\n",
      "[[193  15]\n",
      " [  0   1]]\n",
      "[[208   0]\n",
      " [  0   1]]\n"
     ]
    },
    {
     "data": {
      "image/png": "[encoded data removed]",
      "text/plain": [
       "<Figure size 1440x720 with 8 Axes>"
      ]
     },
     "metadata": {
      "needs_background": "light"
     },
     "output_type": "display_data"
    },
    {
     "name": "stdout",
     "output_type": "stream",
     "text": [
      "AUC: \t \t 0.99 0.03 \t (mean +- std)\n",
      "Accuracy: \t 0.99 0.03 \t (mean +- std)\n",
      "Precision: \t 0.72 0.40 \t (mean +- std)\n",
      "Recall: \t 1.00 0.00 \t (mean +- std)\n",
      "F1: \t \t 0.76 0.36 \t (mean +- std)\n",
      "[[207.5   2.5]\n",
      " [  0.    1. ]]\n"
     ]
    },
    {
     "data": {
      "image/png": "[encoded data removed]",
      "text/plain": [
       "<Figure size 1440x720 with 4 Axes>"
      ]
     },
     "metadata": {
      "needs_background": "light"
     },
     "output_type": "display_data"
    }
   ],
   "source": [
    "final_combined('4_K-fold_combined_extraction','test2')"
   ]
  },
  {
   "cell_type": "code",
   "execution_count": null,
   "metadata": {},
   "outputs": [],
   "source": []
  },
  {
   "cell_type": "code",
   "execution_count": null,
   "metadata": {},
   "outputs": [],
   "source": []
  },
  {
   "cell_type": "code",
   "execution_count": null,
   "metadata": {},
   "outputs": [],
   "source": []
  },
  {
   "cell_type": "code",
   "execution_count": 49,
   "metadata": {},
   "outputs": [
    {
     "name": "stdout",
     "output_type": "stream",
     "text": [
      "4_K-fold_combined_extraction_learning_rate\n",
      "Training plots\n"
     ]
    },
    {
     "name": "stderr",
     "output_type": "stream",
     "text": [
      "100%|█████████████████████████████████████| 1740/1740 [00:01<00:00, 1025.05it/s]\n",
      "100%|██████████████████████████████████████| 1740/1740 [00:01<00:00, 998.53it/s]\n",
      "100%|█████████████████████████████████████| 1740/1740 [00:01<00:00, 1030.19it/s]\n",
      "100%|█████████████████████████████████████| 1740/1740 [00:01<00:00, 1011.92it/s]\n",
      "100%|█████████████████████████████████████| 1740/1740 [00:01<00:00, 1014.33it/s]\n",
      "100%|█████████████████████████████████████| 1740/1740 [00:01<00:00, 1020.17it/s]\n",
      "100%|█████████████████████████████████████| 1740/1740 [00:01<00:00, 1043.37it/s]\n",
      "100%|█████████████████████████████████████| 1740/1740 [00:01<00:00, 1019.37it/s]\n"
     ]
    },
    {
     "name": "stdout",
     "output_type": "stream",
     "text": [
      "Global results\n"
     ]
    },
    {
     "data": {
      "image/png": "[encoded data removed]",
      "text/plain": [
       "<Figure size 1440x720 with 8 Axes>"
      ]
     },
     "metadata": {
      "needs_background": "light"
     },
     "output_type": "display_data"
    },
    {
     "name": "stdout",
     "output_type": "stream",
     "text": [
      "AUC: \t \t 0.82 0.11 \t (mean +- std)\n",
      "Accuracy: \t 0.83 0.10 \t (mean +- std)\n",
      "Precision: \t 0.89 0.11 \t (mean +- std)\n",
      "Recall: \t 0.81 0.22 \t (mean +- std)\n",
      "F1: \t \t 0.83 0.12 \t (mean +- std)\n"
     ]
    },
    {
     "data": {
      "image/png": "[encoded data removed]",
      "text/plain": [
       "<Figure size 1440x720 with 4 Axes>"
      ]
     },
     "metadata": {
      "needs_background": "light"
     },
     "output_type": "display_data"
    }
   ],
   "source": [
    "final_combined('4_K-fold_combined_extraction_learning_rate','test1')"
   ]
  },
  {
   "cell_type": "code",
   "execution_count": 18,
   "metadata": {},
   "outputs": [
    {
     "name": "stderr",
     "output_type": "stream",
     "text": [
      "\r",
      "  0%|                                                                                     | 0/1291 [00:00<?, ?it/s]"
     ]
    },
    {
     "name": "stdout",
     "output_type": "stream",
     "text": [
      "4_K-fold_separated_classification\n",
      "Training plots\n"
     ]
    },
    {
     "name": "stderr",
     "output_type": "stream",
     "text": [
      "100%|████████████████████████████████████████████████████████████████████████| 1291/1291 [00:01<00:00, 1032.28it/s]\n",
      "100%|████████████████████████████████████████████████████████████████████████| 1294/1294 [00:01<00:00, 1028.85it/s]\n",
      "100%|████████████████████████████████████████████████████████████████████████| 1296/1296 [00:01<00:00, 1037.59it/s]\n",
      "100%|████████████████████████████████████████████████████████████████████████| 1298/1298 [00:01<00:00, 1017.93it/s]\n",
      "100%|████████████████████████████████████████████████████████████████████████| 1301/1301 [00:01<00:00, 1010.71it/s]\n",
      "100%|████████████████████████████████████████████████████████████████████████| 1302/1302 [00:01<00:00, 1010.22it/s]\n",
      "100%|████████████████████████████████████████████████████████████████████████| 1302/1302 [00:01<00:00, 1023.52it/s]\n",
      "100%|████████████████████████████████████████████████████████████████████████| 1297/1297 [00:01<00:00, 1036.09it/s]\n"
     ]
    },
    {
     "name": "stdout",
     "output_type": "stream",
     "text": [
      "Global results\n"
     ]
    },
    {
     "name": "stderr",
     "output_type": "stream",
     "text": [
      "/home/rjp/Software/anaconda3/envs/optic_chiasm/lib/python3.8/site-packages/sklearn/metrics/_classification.py:1318: UndefinedMetricWarning: Precision is ill-defined and being set to 0.0 due to no predicted samples. Use `zero_division` parameter to control this behavior.\n",
      "  _warn_prf(average, modifier, msg_start, len(result))\n"
     ]
    },
    {
     "data": {
      "image/png": "[encoded data removed]",
      "text/plain": [
       "<Figure size 432x288 with 1 Axes>"
      ]
     },
     "metadata": {
      "needs_background": "light"
     },
     "output_type": "display_data"
    },
    {
     "name": "stdout",
     "output_type": "stream",
     "text": [
      "AUC: \t \t 0.57 0.11 \t (mean +- std)\n",
      "Accuracy: \t 0.58 0.07 \t (mean +- std)\n",
      "Precision: \t 0.53 0.23 \t (mean +- std)\n",
      "Recall: \t 0.52 0.25 \t (mean +- std)\n",
      "F1: \t \t 0.51 0.22 \t (mean +- std)\n"
     ]
    },
    {
     "data": {
      "image/png": "[encoded data removed]",
      "text/plain": [
       "<Figure size 1440x1440 with 4 Axes>"
      ]
     },
     "metadata": {
      "needs_background": "light"
     },
     "output_type": "display_data"
    }
   ],
   "source": [
    "final_separated('4_K-fold_separated_classification','test1')"
   ]
  },
  {
   "cell_type": "code",
   "execution_count": null,
   "metadata": {},
   "outputs": [],
   "source": []
  },
  {
   "cell_type": "code",
   "execution_count": null,
   "metadata": {},
   "outputs": [],
   "source": []
  },
  {
   "cell_type": "code",
   "execution_count": null,
   "metadata": {},
   "outputs": [],
   "source": []
  },
  {
   "cell_type": "code",
   "execution_count": null,
   "metadata": {},
   "outputs": [],
   "source": []
  },
  {
   "cell_type": "code",
   "execution_count": null,
   "metadata": {},
   "outputs": [],
   "source": []
  },
  {
   "cell_type": "code",
   "execution_count": null,
   "metadata": {},
   "outputs": [],
   "source": []
  },
  {
   "cell_type": "code",
   "execution_count": null,
   "metadata": {},
   "outputs": [],
   "source": []
  },
  {
   "cell_type": "code",
   "execution_count": null,
   "metadata": {},
   "outputs": [],
   "source": []
  },
  {
   "cell_type": "code",
   "execution_count": null,
   "metadata": {},
   "outputs": [],
   "source": [
    "final_separated('4_K-fold_separated_classification','test1')"
   ]
  },
  {
   "cell_type": "code",
   "execution_count": null,
   "metadata": {},
   "outputs": [],
   "source": [
    "final_separated('4_K-fold_separated_extraction','test1')"
   ]
  },
  {
   "cell_type": "code",
   "execution_count": null,
   "metadata": {},
   "outputs": [],
   "source": []
  },
  {
   "cell_type": "code",
   "execution_count": null,
   "metadata": {},
   "outputs": [],
   "source": []
  },
  {
   "cell_type": "code",
   "execution_count": null,
   "metadata": {},
   "outputs": [],
   "source": []
  },
  {
   "cell_type": "code",
   "execution_count": null,
   "metadata": {},
   "outputs": [],
   "source": []
  },
  {
   "cell_type": "code",
   "execution_count": null,
   "metadata": {},
   "outputs": [],
   "source": []
  },
  {
   "cell_type": "code",
   "execution_count": null,
   "metadata": {},
   "outputs": [],
   "source": []
  },
  {
   "cell_type": "code",
   "execution_count": null,
   "metadata": {},
   "outputs": [],
   "source": []
  },
  {
   "cell_type": "code",
   "execution_count": null,
   "metadata": {},
   "outputs": [],
   "source": []
  },
  {
   "cell_type": "code",
   "execution_count": null,
   "metadata": {},
   "outputs": [],
   "source": []
  },
  {
   "cell_type": "code",
   "execution_count": null,
   "metadata": {},
   "outputs": [],
   "source": []
  },
  {
   "cell_type": "code",
   "execution_count": null,
   "metadata": {},
   "outputs": [],
   "source": []
  },
  {
   "cell_type": "code",
   "execution_count": null,
   "metadata": {},
   "outputs": [],
   "source": []
  },
  {
   "cell_type": "code",
   "execution_count": null,
   "metadata": {},
   "outputs": [],
   "source": []
  },
  {
   "cell_type": "code",
   "execution_count": null,
   "metadata": {},
   "outputs": [],
   "source": []
  },
  {
   "cell_type": "code",
   "execution_count": null,
   "metadata": {},
   "outputs": [],
   "source": []
  },
  {
   "cell_type": "code",
   "execution_count": null,
   "metadata": {},
   "outputs": [],
   "source": []
  },
  {
   "cell_type": "code",
   "execution_count": null,
   "metadata": {},
   "outputs": [],
   "source": []
  },
  {
   "cell_type": "markdown",
   "metadata": {},
   "source": [
    "# Performance evaluation"
   ]
  },
  {
   "cell_type": "code",
   "execution_count": null,
   "metadata": {},
   "outputs": [],
   "source": [
    "def evaluate_accuracy(folder_with_networks, dataloader, dataset, group_to_be_evaluated):\n",
    "    \n",
    "    criterion = nn.NLLLoss(reduction='sum')\n",
    "    \n",
    "    names=[]\n",
    "    loss=[]\n",
    "    accuracy=[]\n",
    "    f1=[]\n",
    "    precision=[]\n",
    "    recall=[]\n",
    "    \n",
    "    networks = [os.path.basename(x[0]) for x in os.walk(folder_with_networks)]\n",
    "    networks=networks[1:]\n",
    "     \n",
    "    for network in networks:\n",
    "\n",
    "        # Create network and load the weights\n",
    "        params=network.split('_')\n",
    "        \n",
    "        model = Classifier(int(params[0]),int(params[1]),int(params[2]),int(params[3]), int(params[4]))\n",
    "        model.load_state_dict(torch.load(folder_with_networks+network+'/optimal_weights'))\n",
    "\n",
    "        # Evaluate the network on desired dataset\n",
    "        tmp_loss=0.0\n",
    "        tmp_targets=[]\n",
    "        tmp_pred=[]\n",
    "        \n",
    "        for batch in dataloader[group_to_be_evaluated]:\n",
    "            \n",
    "            data=batch['chiasm']['data']\n",
    "                        \n",
    "            with torch.no_grad():\n",
    "                \n",
    "                output = model(data)\n",
    "                \n",
    "                tmp_loss +=(criterion(output.squeeze(),batch['label']).item())\n",
    "\n",
    "                tmp_targets+=batch['label'][:].numpy().tolist()\n",
    "                tmp_pred+=output.round().cpu().detach().numpy().tolist()\n",
    "\n",
    "        names.append(network)\n",
    "        loss.append(tmp_loss/len(dataset[group_to_be_evaluated]))\n",
    "        accuracy.append(accuracy_score(tmp_targets,tmp_pred))\n",
    "        f1.append(f1_score(tmp_targets,tmp_pred, average='weighted'))\n",
    "        precision.append(precision_score(tmp_targets,tmp_pred, average='weighted'))\n",
    "        recall.append(recall_score(tmp_targets,tmp_pred, average='weighted'))\n",
    "        \n",
    "    # Return the list with results\n",
    "    return names,loss,accuracy, f1, precision,recall"
   ]
  },
  {
   "cell_type": "code",
   "execution_count": null,
   "metadata": {},
   "outputs": [],
   "source": [
    "def plot_training(path_to_saved_output):\n",
    "    \n",
    "    with open(path_to_saved_output+'train_loss.pkl', 'rb') as f:\n",
    "        train_loss=pickle.load(f)\n",
    "\n",
    "    with open(path_to_saved_output+'dev_train_loss.pkl', 'rb') as f:\n",
    "        dev_train_loss=pickle.load(f)\n",
    "\n",
    "    with open(path_to_saved_output+'test_loss.pkl', 'rb') as f:\n",
    "        dev_test_loss=pickle.load(f)\n",
    "\n",
    "    with open(path_to_saved_output+'train_f1.pkl', 'rb') as f:\n",
    "        train_f1=pickle.load(f)\n",
    "\n",
    "    with open(path_to_saved_output+'dev_train_f1.pkl', 'rb') as f:\n",
    "        dev_train_f1=pickle.load(f)\n",
    "\n",
    "    with open(path_to_saved_output+'test_f1.pkl', 'rb') as f:\n",
    "        test_f1=pickle.load(f)\n",
    "                \n",
    "    fig = plt.figure(figsize=(20,5))\n",
    "    plt.suptitle(os.path.basename(path_to_saved_output))\n",
    "    \n",
    "    plt.subplot(1,2,1)\n",
    "    plt.plot(train_loss, label='train')\n",
    "    plt.plot(dev_train_loss, label='train_dev')\n",
    "    plt.plot(dev_test_loss, label='test')\n",
    "    plt.legend();\n",
    "    plt.title('Loss');\n",
    "    \n",
    "    plt.subplot(1,2,2)\n",
    "    plt.plot(train_f1, label='train')\n",
    "    plt.plot(dev_train_f1, label='train_dev')\n",
    "    plt.plot(test_f1, label='test')\n",
    "    plt.legend();\n",
    "    plt.title('Accuracy');"
   ]
  },
  {
   "cell_type": "code",
   "execution_count": null,
   "metadata": {},
   "outputs": [],
   "source": [
    "def plot_evaluation(names_list, loss_list, acc_list, f1_list, precision_list, recall_list, name):\n",
    "    \n",
    "    # order lists\n",
    "    loss_list, names_list, acc_list, f1_list, precision_list, recall_list = (list(t) for t in zip(*sorted(zip(loss_list, names_list, acc_list, f1_list, precision_list, recall_list))))\n",
    "    \n",
    "    # plot with subplots\n",
    "    fig = plt.figure(figsize=(16,12))\n",
    "    plt.suptitle(name)\n",
    "    \n",
    "    # Cross-entropy loss\n",
    "    ax1 = plt.subplot(511)\n",
    "    plt.scatter(names_list, loss_list)\n",
    "    plt.xticks(rotation=90);\n",
    "    plt.axhline(y=-0.5, color='r', linestyle='--')\n",
    "    plt.ylim([-1,0])\n",
    "    ax1.axes.get_xaxis().set_ticks([])\n",
    "    plt.title('Losses')\n",
    "    \n",
    "    # Accuracy\n",
    "    ax2 = plt.subplot(512)\n",
    "    plt.scatter(names_list, acc_list)\n",
    "    plt.xticks(rotation=90);\n",
    "    plt.axhline(y=0.9, color='r', linestyle='--')\n",
    "    plt.ylim([-0.05,1.05])\n",
    "    ax2.axes.get_xaxis().set_ticks([])\n",
    "    plt.title('Accuracy')\n",
    "    \n",
    "    # Precision\n",
    "    ax2 = plt.subplot(513)\n",
    "    plt.scatter(names_list, precision_list)\n",
    "    plt.xticks(rotation=90);\n",
    "    plt.axhline(y=0.9, color='r', linestyle='--')\n",
    "    plt.ylim([-0.05,1.05])\n",
    "    ax2.axes.get_xaxis().set_ticks([])\n",
    "    plt.title('Precision')\n",
    "    \n",
    "    # Recall\n",
    "    ax2 = plt.subplot(514)\n",
    "    plt.scatter(names_list, recall_list)\n",
    "    plt.xticks(rotation=90);\n",
    "    plt.axhline(y=0.9, color='r', linestyle='--')\n",
    "    plt.ylim([-0.05,1.05])\n",
    "    ax2.axes.get_xaxis().set_ticks([])\n",
    "    plt.title('Recall')\n",
    "    \n",
    "    # F1 score\n",
    "    ax3 = plt.subplot(515)\n",
    "    plt.scatter(names_list, f1_list)\n",
    "    plt.xticks(rotation=90);\n",
    "    plt.axhline(y=0.9, color='r', linestyle='--')\n",
    "    plt.ylim([-0.05,1.05])\n",
    "    plt.title('F1-score')"
   ]
  },
  {
   "cell_type": "markdown",
   "metadata": {},
   "source": [
    "## Training plots"
   ]
  },
  {
   "cell_type": "code",
   "execution_count": null,
   "metadata": {},
   "outputs": [],
   "source": [
    "plot_training('../../1_Data/4_K-fold_combined/2/1_2_2_1_256_1e-05/')"
   ]
  },
  {
   "cell_type": "code",
   "execution_count": null,
   "metadata": {},
   "outputs": [],
   "source": [
    "# Full retraining\n",
    "#networks=[os.path.basename(f) for f in glob.glob('../../1_Data/3_Trained_classifier_finetuning_classification/*')]\n",
    "#networks=networks[:-1]\n",
    "\n",
    "#networks.remove('2_32_1_1_256_1e-06')\n",
    "\n",
    "#print(networks)\n",
    "\n",
    "for i in range():\n",
    "    print(i)\n",
    "    plot_training('../../1_Data/3_Trained_classifier_finetuning_classification/'+i+'/')\n",
    "    plt.show()"
   ]
  },
  {
   "cell_type": "markdown",
   "metadata": {},
   "source": [
    "## Accuracy"
   ]
  },
  {
   "cell_type": "code",
   "execution_count": null,
   "metadata": {},
   "outputs": [],
   "source": [
    "# Full retraining\n",
    "plot_names, plot_loss, plot_accuracy, f1, precision, recall = evaluate_accuracy('../../1_Data/3_Trained_classifier_finetuning_classification/', dataloaders_chiasm, dict_expl_classifier_training, 'test')\n",
    "plot_evaluation(plot_names, plot_loss, plot_accuracy, f1, precision, recall, 'Fine tuning classification')"
   ]
  },
  {
   "cell_type": "markdown",
   "metadata": {},
   "source": [
    "## GradCAM"
   ]
  },
  {
   "cell_type": "code",
   "execution_count": null,
   "metadata": {},
   "outputs": [],
   "source": [
    "def translate_group(index):\n",
    "    \n",
    "    if (index==0):\n",
    "        return 'control'\n",
    "    elif (index ==1):\n",
    "        return 'albinism'"
   ]
  },
  {
   "cell_type": "code",
   "execution_count": null,
   "metadata": {},
   "outputs": [],
   "source": [
    "def plot_occlusion(folder_with_networks, dataloader, group_to_be_evaluated, slice_to_be_shown, architectures=None):\n",
    "    \n",
    "    if architectures==None:\n",
    "        networks = [os.path.basename(x[0]) for x in os.walk(folder_with_networks)]\n",
    "        networks=networks[1:]\n",
    "    else:\n",
    "        networks=architectures\n",
    "    \n",
    "    # Fetch data used for evaluation\n",
    "    batch=next(enumerate(dataloader[group_to_be_evaluated]))[1]\n",
    "    \n",
    "    for network in networks:#[0:1]:\n",
    "        \n",
    "        print(network)\n",
    "        \n",
    "        # Initialize the model\n",
    "        params=network.split('_')\n",
    "\n",
    "        model = Classifier(int(params[0]),int(params[1]),int(params[2]),int(params[3]),int(params[4]))\n",
    "        model.load_state_dict(torch.load(folder_with_networks+network+'/optimal_weights'))\n",
    "        \n",
    "        # Calculate the accuracy\n",
    "        prediction = model(batch['chiasm']['data']).squeeze()\n",
    "        accuracy = accuracy_score(batch['label'],prediction.detach().cpu().numpy().round())\n",
    "        print(accuracy)\n",
    "        \n",
    "        # Plot the explanation provided by occlusion model\n",
    "        occlusion = Occlusion(model)\n",
    "        \n",
    "        plt.figure(figsize=(10,20))\n",
    "        \n",
    "        print(batch['chiasm']['data'].shape)\n",
    "        \n",
    "        for i in range(len(batch['label'])):\n",
    "            \n",
    "            input=batch['chiasm']['data'][i].unsqueeze(0)\n",
    "                        \n",
    "            attributions_occ_zero = occlusion.attribute(input,\n",
    "                                       target=0,\n",
    "                                       sliding_window_shapes=(1,3,3,1),\n",
    "                                       baselines=0)\n",
    "            \n",
    "            # original image\n",
    "            plt.subplot(len(batch['label']),2,2*i+1)\n",
    "            plt.imshow(batch['chiasm']['data'][i:(i+1)][0,0,:,:,3], cmap='gray', alpha=1)    \n",
    "            plt.ylabel(translate_group(batch['label'][i]))\n",
    "            plt.tick_params(axis='both', labelsize=0, length = 0)\n",
    "            \n",
    "            # explanation for control           \n",
    "            plt.subplot(len(batch['label']),2,2*i+2)\n",
    "            plt.imshow(attributions_occ_zero[0,0,:,:,3], cmap='jet', alpha=1)    \n",
    "            plt.tick_params(axis='both', labelsize=0, length = 0)\n",
    "            plt.xlabel(\"{:.2f}\".format(prediction[i].item()))\n",
    "            if(i==0):\n",
    "                plt.title('Predicted albinism (0-1)')       \n",
    "                \n",
    "        plt.show()"
   ]
  },
  {
   "cell_type": "code",
   "execution_count": null,
   "metadata": {},
   "outputs": [],
   "source": [
    "# Full retraining\n",
    "#plot_gradcam('../../1_Data/3_Trained_classifier_full_retraining/',dataloaders_chiasm,'dev_test',3,['32_1_0_0_1e-06','32_1_1_32_0.0001','32_1_0_0_1e-05'])\n",
    "# chosen 32_1_0_0_1e-06\n",
    "plot_occlusion('../../1_Data/3_Trained_classifier_finetuning_classification/',dataloaders_chiasm,'test',3,['2_32_1_1_16_0.001'])"
   ]
  },
  {
   "cell_type": "markdown",
   "metadata": {},
   "source": [
    "# Performance on averaged data"
   ]
  },
  {
   "cell_type": "code",
   "execution_count": null,
   "metadata": {},
   "outputs": [],
   "source": [
    "# Calculate average input\n",
    "\n",
    "average_control=np.zeros((24,24,8))\n",
    "average_albinism = np.zeros((24,24,8))\n",
    "average_other = np.zeros((24,24,8))\n",
    "\n",
    "for batch in dataloaders_chiasm['train']:    \n",
    "    average_control+=np.sum(np.array(batch['chiasm']['data'])[batch['label'].numpy()==0], axis=(0,1))\n",
    "    average_albinism+=np.sum(np.array(batch['chiasm']['data'])[batch['label'].numpy()==1], axis=(0,1))\n",
    "    \n",
    "average_control /= np.max(average_control)\n",
    "average_albinism /= np.max(average_albinism)\n",
    "\n",
    "plt.figure(figsize=(20,20))\n",
    "\n",
    "for i in range(8):\n",
    "        \n",
    "    # Control\n",
    "    plt.subplot(8,3,3*i+1)\n",
    "    plt.imshow(average_control[:,:,i], cmap='gray')\n",
    "    plt.tick_params(axis='both', labelsize=0, length = 0)\n",
    "    if(i==0):\n",
    "        plt.title('Average control')\n",
    "    \n",
    "    # Albinism\n",
    "    plt.subplot(8,3,3*i+2)\n",
    "    plt.imshow(average_albinism[:,:,i], cmap='gray')\n",
    "    plt.tick_params(axis='both', labelsize=0, length = 0)\n",
    "    if(i==0):\n",
    "        plt.title('Average albinism')\n",
    "        \n",
    "    # Difference\n",
    "    plt.subplot(8,3,3*i+3)\n",
    "    plt.imshow(np.abs(average_control[:,:,i]-average_albinism[:,:,i]), cmap='jet')\n",
    "    plt.tick_params(axis='both', labelsize=0, length = 0)\n",
    "    if(i==0):\n",
    "        plt.title('Difference')\n"
   ]
  },
  {
   "cell_type": "code",
   "execution_count": null,
   "metadata": {},
   "outputs": [],
   "source": [
    "# Calculate average input after AE step\n",
    "\n",
    "ae = UNet_1_layer(1,1,2,2)\n",
    "ae.load_state_dict(torch.load('../../1_Data/2_Trained_AE/1_layer_2_2/optimal_weights'))\n",
    "\n",
    "average_control=np.zeros((24,24,8))\n",
    "average_albinism = np.zeros((24,24,8))\n",
    "average_other = np.zeros((24,24,8))\n",
    "\n",
    "for batch in dataloaders_chiasm['train']:  \n",
    "                              \n",
    "    output = ae(batch['chiasm']['data']).detach().numpy()                \n",
    "                                                       \n",
    "    average_control+=np.sum(output[batch['label'].numpy()==0], axis=(0,1))\n",
    "    average_albinism+=np.sum(output[batch['label'].numpy()==1], axis=(0,1))\n",
    "    average_other+=np.sum(output[batch['label'].numpy()==2], axis=(0,1))\n",
    "    \n",
    "average_control /= np.max(average_control)\n",
    "average_albinism /= np.max(average_albinism)\n",
    "\n",
    "plt.figure(figsize=(20,20))\n",
    "\n",
    "for i in range(8):\n",
    "        \n",
    "    # Control\n",
    "    plt.subplot(8,3,3*i+1)\n",
    "    plt.imshow(average_control[:,:,i], cmap='gray')\n",
    "    plt.tick_params(axis='both', labelsize=0, length = 0)\n",
    "    if(i==0):\n",
    "        plt.title('Average control')\n",
    "    \n",
    "    # Albinism\n",
    "    plt.subplot(8,3,3*i+2)\n",
    "    plt.imshow(average_albinism[:,:,i], cmap='gray')\n",
    "    plt.tick_params(axis='both', labelsize=0, length = 0)\n",
    "    if(i==0):\n",
    "        plt.title('Average albinism')\n",
    "        \n",
    "    # Difference\n",
    "    plt.subplot(8,3,3*i+3)\n",
    "    plt.imshow(np.abs(average_control[:,:,i]-average_albinism[:,:,i]), cmap='jet')\n",
    "    plt.tick_params(axis='both', labelsize=0, length = 0)\n",
    "    if(i==0):\n",
    "        plt.title('Difference')\n"
   ]
  },
  {
   "cell_type": "markdown",
   "metadata": {},
   "source": [
    "# Explanations with captum"
   ]
  },
  {
   "cell_type": "markdown",
   "metadata": {},
   "source": [
    "## Showcase on CIFAR"
   ]
  },
  {
   "cell_type": "code",
   "execution_count": null,
   "metadata": {},
   "outputs": [],
   "source": [
    "from captum.attr import IntegratedGradients\n",
    "from captum.attr import Saliency\n",
    "from captum.attr import DeepLift\n",
    "from captum.attr import NoiseTunnel\n",
    "from captum.attr import GradientShap\n",
    "from captum.attr import Occlusion\n",
    "from captum.attr import visualization as viz"
   ]
  },
  {
   "cell_type": "code",
   "execution_count": null,
   "metadata": {},
   "outputs": [],
   "source": [
    "# Works beautifully!\n",
    "model = Classifier(1,2,2,1,256)\n",
    "model.load_state_dict(torch.load('../../1_Data/3_Trained_classifier_finetuning_classification/1_2_2_1_256_1e-05/optimal_weights'))"
   ]
  },
  {
   "cell_type": "code",
   "execution_count": null,
   "metadata": {},
   "outputs": [],
   "source": [
    "for batch in dataloaders_chiasm['test']:\n",
    "    print('Works')"
   ]
  },
  {
   "cell_type": "code",
   "execution_count": null,
   "metadata": {},
   "outputs": [],
   "source": [
    "# Atribution algorithms on chosen input\n",
    "ind=0\n",
    "\n",
    "input = batch['chiasm']['data'][ind].unsqueeze(0)\n",
    "input.requires_grad = True"
   ]
  },
  {
   "cell_type": "code",
   "execution_count": null,
   "metadata": {},
   "outputs": [],
   "source": [
    "# Set model in evaluation mode\n",
    "model.eval();"
   ]
  },
  {
   "cell_type": "code",
   "execution_count": null,
   "metadata": {},
   "outputs": [],
   "source": [
    "def attribute_image_features(algorithm, input, **kwargs):\n",
    "    model.zero_grad()\n",
    "    tensor_attributions = algorithm.attribute(input,\n",
    "                                              target=labels[ind],\n",
    "                                              **kwargs\n",
    "                                             )\n",
    "    \n",
    "    return tensor_attributions"
   ]
  },
  {
   "cell_type": "code",
   "execution_count": null,
   "metadata": {},
   "outputs": [],
   "source": [
    "# computes gradients with respect to target class and transposes them for visualization purposes.\n",
    "saliency = Saliency(model)\n",
    "grads = saliency.attribute(input, target=labels[ind].item())"
   ]
  },
  {
   "cell_type": "code",
   "execution_count": null,
   "metadata": {},
   "outputs": [],
   "source": [
    "# Applies integrated gradients attribution algorithm on test image. Integrated Gradients computes the integral of the gradients of the output prediction for the class index ind with respect to the input image pixels. More details about integrated gradients can be found in the original paper\n",
    "ig = IntegratedGradients(model)\n",
    "attr_ig, delta = attribute_image_features(ig, input, baselines=input * 0, return_convergence_delta=True)\n",
    "print('Approximation delta: ', abs(delta))"
   ]
  },
  {
   "cell_type": "code",
   "execution_count": null,
   "metadata": {},
   "outputs": [],
   "source": [
    "# Below we demonstrate how to use integrated gradients and noise tunnel with smoothgrad square option on the test image. Noise tunnel with smoothgrad square option adds gaussian noise with a standard deviation of stdevs=0.2 to the input image nt_samples times, computes the attributions for nt_samples images and returns the mean of the squared attributions across nt_samples images.\n",
    "ig = IntegratedGradients(model)\n",
    "nt = NoiseTunnel(ig)\n",
    "attr_ig_nt = attribute_image_features(nt, input, baselines=input * 0, nt_type='smoothgrad_sq',\n",
    "                                      nt_samples=100, stdevs=0.2)"
   ]
  },
  {
   "cell_type": "code",
   "execution_count": null,
   "metadata": {},
   "outputs": [],
   "source": [
    "# Applies DeepLift on test image. Deeplift assigns attributions to each input pixel by looking at the differences of output and its reference in terms of the differences of the input from the reference.\n",
    "dl = DeepLift(model)\n",
    "attr_dl = attribute_image_features(dl, input, baselines=input * 0)"
   ]
  },
  {
   "cell_type": "code",
   "execution_count": null,
   "metadata": {},
   "outputs": [],
   "source": [
    "fig=plt.figure(figsize=(10,20))\n",
    "for i in range(input.shape[4]):\n",
    "    \n",
    "    plt.subplot(input.shape[4],5,5*i+1)\n",
    "    plt.imshow(input.detach()[0,0,:,:,i],cmap='gray')\n",
    "    plt.tick_params(axis='both', labelsize=0, length = 0)\n",
    "    if i==0:\n",
    "        plt.title('Original')\n",
    "    \n",
    "    plt.subplot(input.shape[4],5,5*i+2)\n",
    "    plt.imshow(grads.detach().numpy()[0,0,:,:,i],cmap='jet',alpha=1)\n",
    "    plt.tick_params(axis='both', labelsize=0, length = 0)\n",
    "    if i==0:\n",
    "        plt.title('Grads')\n",
    "    \n",
    "    plt.subplot(input.shape[4],5,5*i+3)\n",
    "    plt.imshow(attr_ig.detach().numpy()[0,0,:,:,i],cmap='jet')\n",
    "    plt.tick_params(axis='both', labelsize=0, length = 0)\n",
    "    if i==0:\n",
    "        plt.title('IG')\n",
    "        \n",
    "    plt.subplot(input.shape[4],5,5*i+4)\n",
    "    plt.imshow(attr_ig_nt.detach().numpy()[0,0,:,:,i],cmap='jet')\n",
    "    plt.tick_params(axis='both', labelsize=0, length = 0)\n",
    "    if i==0:\n",
    "        plt.title('IG_NT')\n",
    "    \n",
    "    plt.subplot(input.shape[4],5,5*i+5)\n",
    "    plt.imshow(attr_dl.detach().numpy()[0,0,:,:,i],cmap='jet')\n",
    "    plt.tick_params(axis='both', labelsize=0, length = 0)\n",
    "    if i==0:\n",
    "        plt.title('DL')\n"
   ]
  },
  {
   "cell_type": "markdown",
   "metadata": {},
   "source": [
    "## Pretrained ResNet model"
   ]
  },
  {
   "cell_type": "code",
   "execution_count": null,
   "metadata": {},
   "outputs": [],
   "source": [
    "# Integrated gradients\n",
    "integrated_gradients = IntegratedGradients(model)\n",
    "attributions_ig_zero = integrated_gradients.attribute(input, target=0, n_steps=200)\n",
    "attributions_ig_one = integrated_gradients.attribute(input, target=0, n_steps=200)\n",
    "\n",
    "fig=plt.figure(figsize=(10,20))\n",
    "for i in range(input.shape[4]):\n",
    "    \n",
    "    plt.subplot(input.shape[4],3,3*i+1)\n",
    "    plt.imshow(input.detach()[0,0,:,:,i],cmap='gray')\n",
    "    plt.tick_params(axis='both', labelsize=0, length = 0)\n",
    "    if i==0:\n",
    "        plt.title('Original')\n",
    "        \n",
    "    plt.subplot(input.shape[4],3,3*i+2)\n",
    "    plt.imshow(attributions_ig_zero.detach().numpy()[0,0,:,:,i],cmap='jet',alpha=1)\n",
    "    plt.tick_params(axis='both', labelsize=0, length = 0)\n",
    "    if i==0:\n",
    "        plt.title('IG 0')\n",
    "        \n",
    "    plt.subplot(input.shape[4],3,3*i+3)\n",
    "    plt.imshow(attributions_ig_one.detach().numpy()[0,0,:,:,i],cmap='jet',alpha=1)\n",
    "    plt.tick_params(axis='both', labelsize=0, length = 0)\n",
    "    if i==0:\n",
    "        plt.title('IG 1')"
   ]
  },
  {
   "cell_type": "code",
   "execution_count": null,
   "metadata": {},
   "outputs": [],
   "source": [
    "# IG + Noise Tunnel\n",
    "noise_tunnel = NoiseTunnel(integrated_gradients)\n",
    "\n",
    "attributions_ig_nt_zero = noise_tunnel.attribute(input, nt_samples=20, nt_type='smoothgrad_sq', target=0)\n",
    "attributions_ig_nt_one = noise_tunnel.attribute(input, nt_samples=20, nt_type='smoothgrad_sq', target=0)\n",
    "\n",
    "fig=plt.figure(figsize=(10,20))\n",
    "for i in range(input.shape[4]):\n",
    "    \n",
    "    plt.subplot(input.shape[4],3,3*i+1)\n",
    "    plt.imshow(input.detach()[0,0,:,:,i],cmap='gray')\n",
    "    plt.tick_params(axis='both', labelsize=0, length = 0)\n",
    "    if i==0:\n",
    "        plt.title('Original')\n",
    "        \n",
    "    plt.subplot(input.shape[4],3,3*i+2)\n",
    "    plt.imshow(attributions_ig_nt_zero.detach().numpy()[0,0,:,:,i],cmap='jet',alpha=1)\n",
    "    plt.tick_params(axis='both', labelsize=0, length = 0)\n",
    "    if i==0:\n",
    "        plt.title('IG NT 0')\n",
    "        \n",
    "    plt.subplot(input.shape[4],3,3*i+3)\n",
    "    plt.imshow(attributions_ig_nt_one.detach().numpy()[0,0,:,:,i],cmap='jet',alpha=1)\n",
    "    plt.tick_params(axis='both', labelsize=0, length = 0)\n",
    "    if i==0:\n",
    "        plt.title('IG NT 1')"
   ]
  },
  {
   "cell_type": "code",
   "execution_count": null,
   "metadata": {},
   "outputs": [],
   "source": [
    "torch.manual_seed(0)\n",
    "np.random.seed(0)\n",
    "\n",
    "gradient_shap = GradientShap(model)\n",
    "\n",
    "rand_img_dist = torch.cat([input * 0, input * 1])\n",
    "\n",
    "attributions_gs_zero = gradient_shap.attribute(input,\n",
    "                                          n_samples=50,\n",
    "                                          stdevs=0.0001,\n",
    "                                          baselines=rand_img_dist,\n",
    "                                          target=0)\n",
    "\n",
    "attributions_gs_one = gradient_shap.attribute(input,\n",
    "                                          n_samples=50,\n",
    "                                          stdevs=0.0001,\n",
    "                                          baselines=rand_img_dist,\n",
    "                                          target=0)\n",
    "\n",
    "fig=plt.figure(figsize=(10,20))\n",
    "for i in range(input.shape[4]):\n",
    "    \n",
    "    plt.subplot(input.shape[4],3,3*i+1)\n",
    "    plt.imshow(input.detach()[0,0,:,:,i],cmap='gray')\n",
    "    plt.tick_params(axis='both', labelsize=0, length = 0)\n",
    "    if i==0:\n",
    "        plt.title('Original')\n",
    "        \n",
    "    plt.subplot(input.shape[4],3,3*i+2)\n",
    "    plt.imshow(attributions_gs_zero.detach().numpy()[0,0,:,:,i],cmap='jet',alpha=1)\n",
    "    plt.tick_params(axis='both', labelsize=0, length = 0)\n",
    "    if i==0:\n",
    "        plt.title('SHAP 0')\n",
    "        \n",
    "    plt.subplot(input.shape[4],3,3*i+3)\n",
    "    plt.imshow(attributions_gs_one.detach().numpy()[0,0,:,:,i],cmap='jet',alpha=1)\n",
    "    plt.tick_params(axis='both', labelsize=0, length = 0)\n",
    "    if i==0:\n",
    "        plt.title('SHAP 1')"
   ]
  },
  {
   "cell_type": "code",
   "execution_count": null,
   "metadata": {},
   "outputs": [],
   "source": [
    "# Occlusion\n",
    "occlusion = Occlusion(model)\n",
    "\n",
    "attributions_occ_zero = occlusion.attribute(input,\n",
    "                                       target=0,\n",
    "                                       sliding_window_shapes=(1,2,2,1),\n",
    "                                       baselines=0)\n",
    "\n",
    "\n",
    "attributions_occ_one = occlusion.attribute(input,\n",
    "                                       target=0,\n",
    "                                       sliding_window_shapes=(1,2,2,1),\n",
    "                                       baselines=0)"
   ]
  },
  {
   "cell_type": "code",
   "execution_count": null,
   "metadata": {},
   "outputs": [],
   "source": [
    "fig=plt.figure(figsize=(10,20))\n",
    "for i in range(input.shape[4]):\n",
    "    \n",
    "    plt.subplot(input.shape[4],4,4*i+1)\n",
    "    plt.imshow(input.detach()[0,0,:,:,i],cmap='gray')\n",
    "    plt.tick_params(axis='both', labelsize=0, length = 0)\n",
    "    if i==0:\n",
    "        plt.title('Original')\n",
    "                \n",
    "    plt.subplot(input.shape[4],3,3*i+2)\n",
    "    plt.imshow(attributions_occ_zero.detach().numpy()[0,0,:,:,i],cmap='jet',alpha=1)\n",
    "    plt.tick_params(axis='both', labelsize=0, length = 0)\n",
    "    if i==0:\n",
    "        plt.title('Occlusion 0')\n",
    "        \n",
    "    plt.subplot(input.shape[4],3,3*i+3)\n",
    "    plt.imshow(attributions_occ_one.detach().numpy()[0,0,:,:,i],cmap='jet',alpha=1)\n",
    "    plt.tick_params(axis='both', labelsize=0, length = 0)\n",
    "    if i==0:\n",
    "        plt.title('Occlusion 1')"
   ]
  },
  {
   "cell_type": "code",
   "execution_count": null,
   "metadata": {},
   "outputs": [],
   "source": []
  }
 ],
 "metadata": {
  "kernelspec": {
   "display_name": "Python 3 (ipykernel)",
   "language": "python",
   "name": "python3"
  },
  "language_info": {
   "codemirror_mode": {
    "name": "ipython",
    "version": 3
   },
   "file_extension": ".py",
   "mimetype": "text/x-python",
   "name": "python",
   "nbconvert_exporter": "python",
   "pygments_lexer": "ipython3",
   "version": "3.8.12"
  }
 },
 "nbformat": 4,
 "nbformat_minor": 4
}
