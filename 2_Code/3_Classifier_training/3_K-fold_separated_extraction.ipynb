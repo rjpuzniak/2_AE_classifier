{
 "cells": [
  {
   "cell_type": "markdown",
   "metadata": {},
   "source": [
    "# Dataloaders"
   ]
  },
  {
   "cell_type": "code",
   "execution_count": 7,
   "metadata": {},
   "outputs": [],
   "source": [
    "# Importing libraries\n",
    "import torchio as tio\n",
    "import glob\n",
    "import numpy as np\n",
    "import random\n",
    "import os\n",
    "import pickle\n",
    "\n",
    "from collections import OrderedDict\n",
    "from pathlib import Path\n",
    "\n",
    "from tqdm import tqdm\n",
    "import time\n",
    "\n",
    "import torchio as tio\n",
    "from torchio.transforms import (RescaleIntensity,RandomFlip,Compose, HistogramStandardization, CropOrPad, ToCanonical)\n",
    "\n",
    "from sklearn.metrics import f1_score\n",
    "\n",
    "from torch.utils.data import DataLoader\n",
    "import torch\n",
    "import torch.nn as nn\n",
    "\n",
    "import matplotlib.pyplot as plt\n",
    "\n",
    "from Functions_classification_training import UNet_1_layer, UNet_2_layer, Classifier"
   ]
  },
  {
   "cell_type": "code",
   "execution_count": 8,
   "metadata": {},
   "outputs": [],
   "source": [
    "with open('../subjects_dict.pkl', 'rb') as f:\n",
    "    subjects_dict = pickle.load(f)\n",
    "    \n",
    "# Remove CHP1 and ACH1 from dictionary\n",
    "subjects_dict['CHIASM']['control'].remove('CHP1')\n",
    "subjects_dict['CHIASM']['control'].remove('ACH1')"
   ]
  },
  {
   "cell_type": "code",
   "execution_count": 9,
   "metadata": {},
   "outputs": [],
   "source": [
    "# Function used for splitting the list\n",
    "def splitter(list_to_be_splitted, number_of_groups):\n",
    "    a, b = divmod(len(list_to_be_splitted), number_of_groups)\n",
    "    return (list_to_be_splitted[i*a+min(i,b):(i+1)*a+min(i+1,b)] for i in range(number_of_groups))"
   ]
  },
  {
   "cell_type": "code",
   "execution_count": 10,
   "metadata": {},
   "outputs": [],
   "source": [
    "# Function returning trained model\n",
    "def train_network(n_epochs, dataloaders, model, optimizer, criterion, device, save_path):\n",
    "    \n",
    "    track_train_loss = []\n",
    "    track_dev_train_loss = []\n",
    "    track_test_loss = []\n",
    "    \n",
    "    track_train_f1 = []\n",
    "    track_dev_train_f1 = []\n",
    "    track_test_f1 = []\n",
    "    \n",
    "    valid_loss_min = np.Inf\n",
    "    \n",
    "    model.to(device)\n",
    "        \n",
    "    for epoch in tqdm(range(1, n_epochs+1)):\n",
    "        \n",
    "        # Initialize loss monitoring variables\n",
    "        train_loss = 0.0\n",
    "        dev_train_loss = 0.0\n",
    "        test_loss = 0.0\n",
    "                \n",
    "        # Training\n",
    "        model.train()\n",
    "        \n",
    "        acc_targets=[]\n",
    "        acc_predictions=[]\n",
    "        \n",
    "        for batch in dataloaders['train']:\n",
    "            \n",
    "            data = batch['chiasm']['data'].to(device)\n",
    "            data.requires_grad = True\n",
    "            \n",
    "            optimizer.zero_grad()\n",
    "            \n",
    "            output=model(data)\n",
    "            \n",
    "            loss = criterion(output[:,0], batch['label'].to(device).float())\n",
    "            loss.backward()\n",
    "            \n",
    "            optimizer.step()\n",
    "            \n",
    "            train_loss+= (loss.item()*len(batch['label']))\n",
    "            \n",
    "            acc_targets+=batch['label'][:].numpy().tolist()\n",
    "            acc_predictions+=output.round().detach().cpu().numpy().tolist()\n",
    "            \n",
    "        track_train_loss.append(train_loss/len(dict_kfold_combined_training['train']))        \n",
    "        track_train_f1.append(f1_score(acc_targets, acc_predictions, average='weighted')) \n",
    "            \n",
    "        # Validation on dev_train dataset\n",
    "        model.eval()\n",
    "        \n",
    "        acc_targets=[]\n",
    "        acc_predictions=[]\n",
    "        \n",
    "        for batch in dataloaders['dev_train']:\n",
    "            \n",
    "            data = batch['chiasm']['data'].to(device)\n",
    "            data.requires_grad = True\n",
    "            \n",
    "            with torch.no_grad():\n",
    "                \n",
    "                output = model(data)\n",
    "                loss = criterion(output[:,0], batch['label'].to(device).float())\n",
    "                \n",
    "                dev_train_loss+= (loss.item()*len(batch['label']))\n",
    "                \n",
    "                acc_targets+=batch['label'][:].numpy().tolist()\n",
    "                acc_predictions+=output.round().detach().cpu().numpy().tolist()\n",
    "                \n",
    "        track_dev_train_loss.append(dev_train_loss/len(dict_kfold_combined_training['dev_train']))\n",
    "        track_dev_train_f1.append(f1_score(acc_targets, acc_predictions, average='weighted')) \n",
    "        \n",
    "        acc_targets=[]\n",
    "        acc_predictions=[]\n",
    "        \n",
    "        for batch in dataloaders['dev_test']:\n",
    "            \n",
    "            data = batch['chiasm']['data'].to(device)\n",
    "            data.requires_grad = True\n",
    "            \n",
    "            with torch.no_grad():\n",
    "                \n",
    "                output = model(data)\n",
    "                loss = criterion(output[:,0], batch['label'].to(device).float())\n",
    "                \n",
    "                test_loss+= (loss.item()*len(batch['label']))\n",
    "                \n",
    "                acc_targets+=batch['label'][:].numpy().tolist()\n",
    "                acc_predictions+=output.round().detach().cpu().numpy().tolist()\n",
    "                \n",
    "        track_test_loss.append(test_loss/len(dict_kfold_combined_training['dev_test']))\n",
    "        track_test_f1.append(f1_score(acc_targets, acc_predictions, average='weighted')) \n",
    "        \n",
    "        if epoch%500 ==0:\n",
    "            print('END OF EPOCH: {} \\n Training loss per image: {:.6f}\\n Training_dev loss per image: {:.6f}\\n Test_dev loss per image: {:.6f}'.format(epoch, train_loss/len(dict_kfold_combined_training['train']),dev_train_loss/len(dict_kfold_combined_training['dev_train']),test_loss/len(dict_kfold_combined_training['dev_test'])))\n",
    "            \n",
    "        ## Save the model if reached min validation loss and save the number of epoch               \n",
    "        if dev_train_loss < valid_loss_min:\n",
    "            valid_loss_min = dev_train_loss\n",
    "            torch.save(model.state_dict(),save_path+'optimal_weights')\n",
    "            last_updated_epoch = epoch\n",
    "        \n",
    "            with open(save_path+'number_epochs.txt','w') as f:\n",
    "                print('Epoch:', str(epoch), file=f)  \n",
    "                \n",
    "        # Early stopping\n",
    "        if (epoch - last_updated_epoch) == 1000:\n",
    "            break\n",
    "                                \n",
    "    # return trained model\n",
    "    return track_train_loss, track_dev_train_loss, track_test_loss, track_train_f1, track_dev_train_f1, track_test_f1"
   ]
  },
  {
   "cell_type": "code",
   "execution_count": 11,
   "metadata": {},
   "outputs": [
    {
     "data": {
      "text/plain": [
       "\"\\nfor dataset in subjects_dict.keys():\\n    for label in subjects_dict[dataset].keys():\\n        if(dataset=='CHIASM' and label=='albinism'):\\n            subjects_dict[dataset][label]=list(splitter(subjects_dict[dataset][label],9))\\n        else:\\n            subjects_dict[dataset][label]=list(splitter(subjects_dict[dataset][label],8))\\n            \\n# Save the dictionary\\nwith open('design_kfold.pkl','wb') as f:\\n    pickle.dump(subjects_dict,f)\\n\""
      ]
     },
     "execution_count": 11,
     "metadata": {},
     "output_type": "execute_result"
    }
   ],
   "source": [
    "# Dictionary with splits\n",
    "'''\n",
    "for dataset in subjects_dict.keys():\n",
    "    for label in subjects_dict[dataset].keys():\n",
    "        if(dataset=='CHIASM' and label=='albinism'):\n",
    "            subjects_dict[dataset][label]=list(splitter(subjects_dict[dataset][label],9))\n",
    "        else:\n",
    "            subjects_dict[dataset][label]=list(splitter(subjects_dict[dataset][label],8))\n",
    "            \n",
    "# Save the dictionary\n",
    "with open('design_kfold.pkl','wb') as f:\n",
    "    pickle.dump(subjects_dict,f)\n",
    "'''"
   ]
  },
  {
   "cell_type": "code",
   "execution_count": 14,
   "metadata": {},
   "outputs": [
    {
     "name": "stderr",
     "output_type": "stream",
     "text": [
      "  8%|▊         | 105/1291 [00:00<00:01, 1041.89it/s]"
     ]
    },
    {
     "name": "stdout",
     "output_type": "stream",
     "text": [
      "0\n"
     ]
    },
    {
     "name": "stderr",
     "output_type": "stream",
     "text": [
      "100%|██████████| 1291/1291 [00:01<00:00, 1041.38it/s]\n",
      "  6%|▋         | 500/8000 [23:55<5:54:10,  2.83s/it]"
     ]
    },
    {
     "name": "stdout",
     "output_type": "stream",
     "text": [
      "END OF EPOCH: 500 \n",
      " Training loss per image: 0.036729\n",
      " Training_dev loss per image: 0.025932\n",
      " Test_dev loss per image: 0.012847\n"
     ]
    },
    {
     "name": "stderr",
     "output_type": "stream",
     "text": [
      " 12%|█▎        | 1000/8000 [47:34<5:25:35,  2.79s/it]"
     ]
    },
    {
     "name": "stdout",
     "output_type": "stream",
     "text": [
      "END OF EPOCH: 1000 \n",
      " Training loss per image: 0.026934\n",
      " Training_dev loss per image: 0.042019\n",
      " Test_dev loss per image: 0.001040\n"
     ]
    },
    {
     "name": "stderr",
     "output_type": "stream",
     "text": [
      " 15%|█▌        | 1213/8000 [57:33<5:22:03,  2.85s/it]\n",
      "  8%|▊         | 102/1294 [00:00<00:01, 1016.89it/s]"
     ]
    },
    {
     "name": "stdout",
     "output_type": "stream",
     "text": [
      "1\n"
     ]
    },
    {
     "name": "stderr",
     "output_type": "stream",
     "text": [
      "100%|██████████| 1294/1294 [00:01<00:00, 1038.57it/s]\n",
      "  6%|▋         | 500/8000 [23:20<5:48:56,  2.79s/it]"
     ]
    },
    {
     "name": "stdout",
     "output_type": "stream",
     "text": [
      "END OF EPOCH: 500 \n",
      " Training loss per image: 0.034849\n",
      " Training_dev loss per image: 0.036494\n",
      " Test_dev loss per image: 0.009379\n"
     ]
    },
    {
     "name": "stderr",
     "output_type": "stream",
     "text": [
      " 12%|█▎        | 1000/8000 [46:44<5:30:02,  2.83s/it]"
     ]
    },
    {
     "name": "stdout",
     "output_type": "stream",
     "text": [
      "END OF EPOCH: 1000 \n",
      " Training loss per image: 0.015745\n",
      " Training_dev loss per image: 0.088793\n",
      " Test_dev loss per image: 0.061945\n"
     ]
    },
    {
     "name": "stderr",
     "output_type": "stream",
     "text": [
      " 15%|█▌        | 1201/8000 [56:14<5:18:20,  2.81s/it]\n",
      "  8%|▊         | 103/1296 [00:00<00:01, 1026.88it/s]"
     ]
    },
    {
     "name": "stdout",
     "output_type": "stream",
     "text": [
      "2\n"
     ]
    },
    {
     "name": "stderr",
     "output_type": "stream",
     "text": [
      "100%|██████████| 1296/1296 [00:01<00:00, 1039.33it/s]\n",
      "  6%|▋         | 500/8000 [23:31<5:52:04,  2.82s/it]"
     ]
    },
    {
     "name": "stdout",
     "output_type": "stream",
     "text": [
      "END OF EPOCH: 500 \n",
      " Training loss per image: 0.030525\n",
      " Training_dev loss per image: 0.058441\n",
      " Test_dev loss per image: 0.000544\n"
     ]
    },
    {
     "name": "stderr",
     "output_type": "stream",
     "text": [
      " 12%|█▎        | 1000/8000 [47:03<5:28:38,  2.82s/it]"
     ]
    },
    {
     "name": "stdout",
     "output_type": "stream",
     "text": [
      "END OF EPOCH: 1000 \n",
      " Training loss per image: 0.030885\n",
      " Training_dev loss per image: 0.107709\n",
      " Test_dev loss per image: 0.002748\n"
     ]
    },
    {
     "name": "stderr",
     "output_type": "stream",
     "text": [
      " 13%|█▎        | 1039/8000 [48:56<5:27:56,  2.83s/it]\n",
      "  8%|▊         | 104/1298 [00:00<00:01, 1033.04it/s]"
     ]
    },
    {
     "name": "stdout",
     "output_type": "stream",
     "text": [
      "3\n"
     ]
    },
    {
     "name": "stderr",
     "output_type": "stream",
     "text": [
      "100%|██████████| 1298/1298 [00:01<00:00, 1033.93it/s]\n",
      "  6%|▋         | 500/8000 [23:32<5:52:19,  2.82s/it]"
     ]
    },
    {
     "name": "stdout",
     "output_type": "stream",
     "text": [
      "END OF EPOCH: 500 \n",
      " Training loss per image: 0.037483\n",
      " Training_dev loss per image: 0.017299\n",
      " Test_dev loss per image: 0.003349\n"
     ]
    },
    {
     "name": "stderr",
     "output_type": "stream",
     "text": [
      " 12%|█▎        | 1000/8000 [47:03<5:29:35,  2.83s/it]"
     ]
    },
    {
     "name": "stdout",
     "output_type": "stream",
     "text": [
      "END OF EPOCH: 1000 \n",
      " Training loss per image: 0.026274\n",
      " Training_dev loss per image: 0.039141\n",
      " Test_dev loss per image: 0.009028\n"
     ]
    },
    {
     "name": "stderr",
     "output_type": "stream",
     "text": [
      " 17%|█▋        | 1363/8000 [1:04:11<5:12:32,  2.83s/it]\n",
      "  8%|▊         | 102/1301 [00:00<00:01, 1010.18it/s]"
     ]
    },
    {
     "name": "stdout",
     "output_type": "stream",
     "text": [
      "4\n"
     ]
    },
    {
     "name": "stderr",
     "output_type": "stream",
     "text": [
      "100%|██████████| 1301/1301 [00:01<00:00, 1030.74it/s]\n",
      "  6%|▋         | 500/8000 [23:42<5:56:19,  2.85s/it]"
     ]
    },
    {
     "name": "stdout",
     "output_type": "stream",
     "text": [
      "END OF EPOCH: 500 \n",
      " Training loss per image: 0.032606\n",
      " Training_dev loss per image: 0.017501\n",
      " Test_dev loss per image: 0.000356\n"
     ]
    },
    {
     "name": "stderr",
     "output_type": "stream",
     "text": [
      " 12%|█▎        | 1000/8000 [47:24<5:33:15,  2.86s/it]"
     ]
    },
    {
     "name": "stdout",
     "output_type": "stream",
     "text": [
      "END OF EPOCH: 1000 \n",
      " Training loss per image: 0.029100\n",
      " Training_dev loss per image: 0.067923\n",
      " Test_dev loss per image: 0.000281\n"
     ]
    },
    {
     "name": "stderr",
     "output_type": "stream",
     "text": [
      " 18%|█▊        | 1476/8000 [1:10:01<5:09:30,  2.85s/it]\n",
      "  8%|▊         | 103/1302 [00:00<00:01, 1021.14it/s]"
     ]
    },
    {
     "name": "stdout",
     "output_type": "stream",
     "text": [
      "5\n"
     ]
    },
    {
     "name": "stderr",
     "output_type": "stream",
     "text": [
      "100%|██████████| 1302/1302 [00:01<00:00, 1034.22it/s]\n",
      "  6%|▋         | 500/8000 [23:43<5:54:40,  2.84s/it]"
     ]
    },
    {
     "name": "stdout",
     "output_type": "stream",
     "text": [
      "END OF EPOCH: 500 \n",
      " Training loss per image: 0.035746\n",
      " Training_dev loss per image: 0.006634\n",
      " Test_dev loss per image: 0.024507\n"
     ]
    },
    {
     "name": "stderr",
     "output_type": "stream",
     "text": [
      " 12%|█▎        | 1000/8000 [47:27<5:32:01,  2.85s/it]"
     ]
    },
    {
     "name": "stdout",
     "output_type": "stream",
     "text": [
      "END OF EPOCH: 1000 \n",
      " Training loss per image: 0.025396\n",
      " Training_dev loss per image: 0.023611\n",
      " Test_dev loss per image: 0.008222\n"
     ]
    },
    {
     "name": "stderr",
     "output_type": "stream",
     "text": [
      " 17%|█▋        | 1363/8000 [1:04:44<5:15:13,  2.85s/it]\n",
      "  8%|▊         | 105/1302 [00:00<00:01, 1043.01it/s]"
     ]
    },
    {
     "name": "stdout",
     "output_type": "stream",
     "text": [
      "6\n"
     ]
    },
    {
     "name": "stderr",
     "output_type": "stream",
     "text": [
      "100%|██████████| 1302/1302 [00:01<00:00, 1039.66it/s]\n",
      "  6%|▋         | 500/8000 [23:49<5:56:55,  2.86s/it]"
     ]
    },
    {
     "name": "stdout",
     "output_type": "stream",
     "text": [
      "END OF EPOCH: 500 \n",
      " Training loss per image: 0.038894\n",
      " Training_dev loss per image: 0.025930\n",
      " Test_dev loss per image: 0.119879\n"
     ]
    },
    {
     "name": "stderr",
     "output_type": "stream",
     "text": [
      " 12%|█▎        | 1000/8000 [47:35<5:31:26,  2.84s/it]"
     ]
    },
    {
     "name": "stdout",
     "output_type": "stream",
     "text": [
      "END OF EPOCH: 1000 \n",
      " Training loss per image: 0.031867\n",
      " Training_dev loss per image: 0.081459\n",
      " Test_dev loss per image: 0.006846\n"
     ]
    },
    {
     "name": "stderr",
     "output_type": "stream",
     "text": [
      " 13%|█▎        | 1055/8000 [50:14<5:30:43,  2.86s/it]\n",
      "  0%|          | 0/1297 [00:00<?, ?it/s]"
     ]
    },
    {
     "name": "stdout",
     "output_type": "stream",
     "text": [
      "7\n"
     ]
    },
    {
     "name": "stderr",
     "output_type": "stream",
     "text": [
      "100%|██████████| 1297/1297 [00:01<00:00, 1041.72it/s]\n",
      "  6%|▋         | 500/8000 [23:35<5:52:27,  2.82s/it]"
     ]
    },
    {
     "name": "stdout",
     "output_type": "stream",
     "text": [
      "END OF EPOCH: 500 \n",
      " Training loss per image: 0.048302\n",
      " Training_dev loss per image: 0.023377\n",
      " Test_dev loss per image: 0.000561\n"
     ]
    },
    {
     "name": "stderr",
     "output_type": "stream",
     "text": [
      " 12%|█▎        | 1000/8000 [47:11<5:29:50,  2.83s/it]"
     ]
    },
    {
     "name": "stdout",
     "output_type": "stream",
     "text": [
      "END OF EPOCH: 1000 \n",
      " Training loss per image: 0.026689\n",
      " Training_dev loss per image: 0.043085\n",
      " Test_dev loss per image: 0.004461\n"
     ]
    },
    {
     "name": "stderr",
     "output_type": "stream",
     "text": [
      " 15%|█▌        | 1209/8000 [57:05<5:20:42,  2.83s/it]\n"
     ]
    }
   ],
   "source": [
    "# Split the participants into 8 equal groups\n",
    "\n",
    "#              train dev_train dev_test test1 test2\n",
    "# control        6/8    1/8                     1/8\n",
    "# UoN            7/8    1/8\n",
    "# CHIASM                         1/8     6/8    1/8\n",
    "\n",
    "groups=['train','dev_train','dev_test','test1','test2']\n",
    "\n",
    "if not os.path.exists('../../1_Data/4_K-fold_combined'):\n",
    "    os.makedirs('../../1_Data/4_K-fold_combined')\n",
    "\n",
    "for i in range(8):\n",
    "    \n",
    "    output_folder='../../1_Data/4_K-fold_separated_extraction'+'/'+str(i)\n",
    "\n",
    "    if not os.path.exists(output_folder):\n",
    "        os.makedirs(output_folder)\n",
    "\n",
    "    # Load the dictionary\n",
    "    with open('design_kfold.pkl','rb') as f:\n",
    "        kfold_design = pickle.load(f)\n",
    "\n",
    "    design_kfold_combined={}\n",
    "\n",
    "    \n",
    "    # test2 - (i+1)-th group from CHIASM albinism + i-th group from all control groups\n",
    "\n",
    "    design_kfold_combined['test2']={}\n",
    "    design_kfold_combined['test2']['CHIASM']={}\n",
    "\n",
    "    # CHIASM albinism\n",
    "    design_kfold_combined['test2']['CHIASM']={}\n",
    "    design_kfold_combined['test2']['CHIASM']['albinism']=kfold_design['CHIASM']['albinism'][i]\n",
    "    design_kfold_combined['test2']['CHIASM']['control']=[]\n",
    "    kfold_design['CHIASM']['albinism'].pop(i)\n",
    "    \n",
    "    # Other publicly available datasets of controls\n",
    "    for dataset in ['ABIDE', 'Athletes', 'HCP', 'COBRE', 'Leipzig', 'MCIC']:\n",
    "        design_kfold_combined['test2'][dataset]={}\n",
    "        design_kfold_combined['test2'][dataset]['control']=kfold_design[dataset]['control'][i]\n",
    "        kfold_design[dataset]['control'].pop(i)\n",
    "    \n",
    "    \n",
    "    # dev_test\n",
    "\n",
    "    design_kfold_combined['dev_test']={}\n",
    "\n",
    "    # CHIASM albinism\n",
    "    design_kfold_combined['dev_test']['CHIASM']={}\n",
    "    if i==7:\n",
    "        design_kfold_combined['dev_test']['CHIASM']['albinism']=kfold_design['CHIASM']['albinism'][0]\n",
    "        design_kfold_combined['dev_test']['CHIASM']['control']=kfold_design['CHIASM']['control'][0]\n",
    "        kfold_design['CHIASM']['albinism'].pop(0)\n",
    "        kfold_design['CHIASM']['control'].pop(0)\n",
    "    else:\n",
    "        design_kfold_combined['dev_test']['CHIASM']['albinism']=kfold_design['CHIASM']['albinism'][i]\n",
    "        design_kfold_combined['dev_test']['CHIASM']['control']=kfold_design['CHIASM']['control'][i]\n",
    "        kfold_design['CHIASM']['albinism'].pop(i)\n",
    "        kfold_design['CHIASM']['control'].pop(i)\n",
    "    \n",
    "    \n",
    "    # test1\n",
    "    \n",
    "    design_kfold_combined['test1']={}\n",
    "    design_kfold_combined['test1']['CHIASM']={}\n",
    "\n",
    "    design_kfold_combined['test1']['CHIASM']['albinism']=[item for sublist in kfold_design['CHIASM']['albinism'] for item in sublist]\n",
    "    design_kfold_combined['test1']['CHIASM']['control']=[item for sublist in kfold_design['CHIASM']['control'] for item in sublist]\n",
    "\n",
    "\n",
    "    # dev_test\n",
    "\n",
    "    design_kfold_combined['dev_train']={}\n",
    "\n",
    "    design_kfold_combined['dev_train']['UoN']={}\n",
    "    for label in kfold_design['UoN'].keys():\n",
    "        design_kfold_combined['dev_train']['UoN'][label]=kfold_design['UoN'][label][i]\n",
    "        kfold_design['UoN'][label].pop(i)\n",
    "        \n",
    "    for dataset in ['ABIDE', 'Athletes', 'HCP', 'COBRE', 'Leipzig', 'MCIC']:\n",
    "        design_kfold_combined['dev_train'][dataset]={}\n",
    "        if i==7:\n",
    "            design_kfold_combined['dev_train'][dataset]['control']=kfold_design[dataset]['control'][0]\n",
    "            kfold_design[dataset]['control'].pop(0)\n",
    "        else:\n",
    "            design_kfold_combined['dev_train'][dataset]['control']=kfold_design[dataset]['control'][i]\n",
    "            kfold_design[dataset]['control'].pop(i)\n",
    "\n",
    "\n",
    "    # train\n",
    "\n",
    "    design_kfold_combined['train']={}\n",
    "\n",
    "    for dataset in kfold_design.keys():\n",
    "        \n",
    "        if dataset=='CHIASM':\n",
    "            continue\n",
    "        else:   \n",
    "            design_kfold_combined['train'][dataset]={}\n",
    "            for label in kfold_design[dataset].keys():            \n",
    "                design_kfold_combined['train'][dataset][label]=[item for sublist in kfold_design[dataset][label] for item in sublist]\n",
    "\n",
    "    # Save the design\n",
    "    with open(output_folder+'/kfold_design_'+str(i)+'.pkl','wb') as f:\n",
    "        pickle.dump(design_kfold_combined, f)\n",
    "\n",
    "    # Torchio's subjects' dictionary + upsample the albinism group, so it matches controls in train and dev_train + add labels\n",
    "\n",
    "    print(i)\n",
    "    #for group in design_kfold_combined.keys():\n",
    "    #    total_con=0\n",
    "    #    total_alb=0\n",
    "    #    for dataset in design_kfold_combined[group].keys():\n",
    "    #        for label in design_kfold_combined[group][dataset].keys():\n",
    "    #            if label == 'control':\n",
    "    #                total_con += len(design_kfold_combined[group][dataset][label])\n",
    "    #            else:\n",
    "    #                total_alb += len(design_kfold_combined[group][dataset][label])\n",
    "    #            #print(group,dataset,label, len(design_kfold_combined[group][dataset][label]) )\n",
    "    #    print(group, total_con, total_alb)\n",
    "    #print('\\n')\n",
    "    \n",
    "    dict_kfold_combined_training={}\n",
    "\n",
    "    for group in design_kfold_combined.keys():\n",
    "\n",
    "        dict_kfold_combined_training[group]=[]\n",
    "\n",
    "        # Calculate the number of albinism and controls, calculate the scaling coefficient\n",
    "        num_control=0\n",
    "        num_albinism=0\n",
    "\n",
    "        for dataset in design_kfold_combined[group].keys():\n",
    "\n",
    "            num_control+=len(design_kfold_combined[group][dataset]['control'])\n",
    "\n",
    "            if dataset in ['CHIASM', 'UoN']:\n",
    "                num_albinism+=len(design_kfold_combined[group][dataset]['albinism'])\n",
    "\n",
    "        scaling_factor=int(num_control/num_albinism)\n",
    "\n",
    "        # Create Torchio's subject for listed IDs, for train & dev_train upsample the albinism\n",
    "        for dataset in design_kfold_combined[group].keys():\n",
    "\n",
    "            # If test just aggregate all the data\n",
    "            if (group=='test2' or group == 'test1' or group =='dev_test'):\n",
    "\n",
    "                for label in design_kfold_combined[group][dataset].keys():\n",
    "\n",
    "                    if label=='albinism':\n",
    "                        label_as=1\n",
    "                    elif label=='control':\n",
    "                        label_as=0\n",
    "\n",
    "                    dict_kfold_combined_training[group]+=[tio.Subject(chiasm=tio.Image('../../1_Data/1_Input/'+dataset+'/'+subject+'/chiasm.nii.gz', type=tio.INTENSITY),\n",
    "                                                                        label=label_as) for subject in design_kfold_combined[group][dataset][label]]\n",
    "\n",
    "            # otherwise upsample albinism by calculated scaling_factor\n",
    "            else:\n",
    "\n",
    "                for label in design_kfold_combined[group][dataset].keys():\n",
    "\n",
    "                    if label=='control':\n",
    "\n",
    "                        label_as=0\n",
    "\n",
    "                        dict_kfold_combined_training[group]+=[tio.Subject(chiasm=tio.Image('../../1_Data/1_Input/'+dataset+'/'+subject+'/chiasm.nii.gz', type=tio.INTENSITY),\n",
    "                                                                        label=label_as) for subject in design_kfold_combined[group][dataset][label]]\n",
    "\n",
    "                    if label=='albinism':\n",
    "\n",
    "                        label_as=1\n",
    "\n",
    "                        for i in range(scaling_factor):\n",
    "\n",
    "                            dict_kfold_combined_training[group]+=[tio.Subject(chiasm=tio.Image('../../1_Data/1_Input/'+dataset+'/'+subject+'/chiasm.nii.gz', type=tio.INTENSITY),\n",
    "                                                                              label=label_as) for subject in design_kfold_combined[group][dataset][label]] \n",
    "\n",
    "                            \n",
    "    #for group in dict_kfold_combined_training.keys():\n",
    "    #    print(len(dict_kfold_combined_training[group]))\n",
    "    #print('\\n')\n",
    "    \n",
    "    # Histogram standardization (to mitigate cross-site differences) - shared by all datasets\n",
    "    chiasm_paths=[]\n",
    "\n",
    "    # Obtain paths of all chiasm images\n",
    "    for dataset in design_kfold_combined['train'].keys():\n",
    "        for label in design_kfold_combined['train'][dataset].keys():\n",
    "            for subject in design_kfold_combined['train'][dataset][label]:\n",
    "                chiasm_paths.append('../../1_Data/1_Input/'+dataset+'/'+subject+'/chiasm.nii.gz')\n",
    "\n",
    "    chiasm_landmarks_path = Path('chiasm_landmarks.npy')    \n",
    "\n",
    "    chiasm_landmarks = HistogramStandardization.train(chiasm_paths)\n",
    "    torch.save(chiasm_landmarks, chiasm_landmarks_path)\n",
    "\n",
    "    landmarks={'chiasm': chiasm_landmarks}\n",
    "\n",
    "    standardize = HistogramStandardization(landmarks)\n",
    "    \n",
    "    \n",
    "    # Data preprocessing and augmentation - shared by all datasets\n",
    "\n",
    "    # Canonical\n",
    "    canonical = ToCanonical()\n",
    "\n",
    "    # Rescale\n",
    "    rescale = RescaleIntensity((0,1))\n",
    "\n",
    "    # Flip\n",
    "    flip = RandomFlip((0,1,2), flip_probability=0.5, p=0.5)\n",
    "\n",
    "    # Affine transformations\n",
    "    affine = tio.RandomAffine(degrees=5, translation=(2,2,2), center='image')\n",
    "\n",
    "    crop = CropOrPad((24,24,8))\n",
    "\n",
    "    # Elastic deformation\n",
    "    #elastic = tio.transforms.RandomElasticDeformation(num_control_points=4, max_displacement=4, locked_borders=1)\n",
    "\n",
    "    # Composing transforms - flip serves as data augmentation and is used only for training\n",
    "    transform_train = Compose([canonical, standardize, rescale, affine, flip, crop])\n",
    "    transform_dev = Compose([canonical, standardize, rescale, crop])\n",
    "    \n",
    "\n",
    "    \n",
    "    datasets_list={}\n",
    "\n",
    "    for group in dict_kfold_combined_training.keys():\n",
    "\n",
    "        if group =='train':\n",
    "\n",
    "            datasets_list[group] = tio.SubjectsDataset(dict_kfold_combined_training[group], transform=transform_train)\n",
    "\n",
    "        else:\n",
    "\n",
    "            datasets_list[group] = tio.SubjectsDataset(dict_kfold_combined_training[group], transform=transform_dev)\n",
    "\n",
    "\n",
    "    # Create dataloaders\n",
    "    dataloaders_chiasm={'train': DataLoader(dataset=datasets_list['train'], batch_size=10, shuffle=True, num_workers=8),\n",
    "                       'dev_train': DataLoader(dataset=datasets_list['dev_train'], batch_size=10, shuffle=True, num_workers=8),\n",
    "                       'dev_test': DataLoader(dataset=datasets_list['dev_test'], batch_size=10, shuffle=True, num_workers=8),\n",
    "                       'test1': DataLoader(dataset=datasets_list['test1'], batch_size=10, shuffle=True, num_workers=8),\n",
    "                       'test2': DataLoader(dataset=datasets_list['test2'], batch_size=10, shuffle=True, num_workers=8)}\n",
    "\n",
    "    # Try setting CUDA if possible\n",
    "    if torch.cuda.is_available():\n",
    "        device = torch.device(\"cuda\")\n",
    "    else:\n",
    "        device = torch.device(\"cpu\") \n",
    "\n",
    "    # Criterion\n",
    "    criterion = nn.BCELoss()\n",
    "\n",
    "    model_parameters=[[1,2,2,1,256]]\n",
    "    learning_rates = [0.00005]\n",
    "    n_epochs=8000\n",
    "\n",
    "    folder=output_folder\n",
    "\n",
    "    for parameters in model_parameters:\n",
    "        for learning_rate in learning_rates:\n",
    "\n",
    "            # Initialize the proper model\n",
    "            classifying_network = Classifier(parameters[0],parameters[1], parameters[2], parameters[3], parameters[4])\n",
    "            classifying_network.load_state_dict(torch.load('../../1_Data/3_Trained_classifier_finetuning_classification/1_2_2_1_256_1e-05/optimal_weights'))\n",
    "            classifying_network.freeze_classification()\n",
    "\n",
    "            # Optimizer    \n",
    "            optimizer = torch.optim.Adam(params=filter(lambda p: p.requires_grad, classifying_network.parameters()), lr=learning_rate)\n",
    "            #optimizer = torch.optim.Adam(params=classifying_network.parameters(), lr=0.00005)\n",
    "\n",
    "            # Create output folder\n",
    "            data_folder = folder+'/'+str(parameters[0])+'_'+str(parameters[1])+'_'+str(parameters[2])+'_'+str(parameters[3])+'_'+str(parameters[4])+'_'+str(learning_rate)+'/'\n",
    "            os.makedirs(data_folder, exist_ok=True)\n",
    "\n",
    "            # Train & save weights\n",
    "            train_loss, dev_train_loss, test_loss, train_f1, dev_train_f1, test_f1 = train_network(n_epochs, dataloaders_chiasm, classifying_network, optimizer, criterion, device, data_folder)\n",
    "\n",
    "            # Save losses\n",
    "            with open(data_folder+'train_loss.pkl', 'wb') as f:\n",
    "                pickle.dump(train_loss, f)\n",
    "\n",
    "            with open(data_folder+'dev_train_loss.pkl', 'wb') as f:\n",
    "                pickle.dump(dev_train_loss, f)\n",
    "\n",
    "            with open(data_folder+'test_loss.pkl', 'wb') as f:\n",
    "                pickle.dump(test_loss, f)\n",
    "\n",
    "            with open(data_folder+'train_f1.pkl', 'wb') as f:\n",
    "                pickle.dump(train_f1, f)\n",
    "\n",
    "            with open(data_folder+'dev_train_f1.pkl', 'wb') as f:\n",
    "                pickle.dump(dev_train_f1, f)\n",
    "\n",
    "            with open(data_folder+'test_f1.pkl', 'wb') as f:\n",
    "                pickle.dump(test_f1, f)\n",
    "                "
   ]
  },
  {
   "cell_type": "code",
   "execution_count": null,
   "metadata": {},
   "outputs": [],
   "source": []
  }
 ],
 "metadata": {
  "kernelspec": {
   "display_name": "Python 3 (ipykernel)",
   "language": "python",
   "name": "python3"
  },
  "language_info": {
   "codemirror_mode": {
    "name": "ipython",
    "version": 3
   },
   "file_extension": ".py",
   "mimetype": "text/x-python",
   "name": "python",
   "nbconvert_exporter": "python",
   "pygments_lexer": "ipython3",
   "version": "3.8.12"
  }
 },
 "nbformat": 4,
 "nbformat_minor": 4
}
