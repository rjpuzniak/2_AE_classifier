{
 "cells": [
  {
   "cell_type": "markdown",
   "metadata": {},
   "source": [
    "# Dataloaders"
   ]
  },
  {
   "cell_type": "code",
   "execution_count": 1,
   "metadata": {},
   "outputs": [],
   "source": [
    "# Importing libraries\n",
    "import torchio as tio\n",
    "import glob\n",
    "import numpy as np\n",
    "import random\n",
    "import os\n",
    "import pickle\n",
    "\n",
    "from collections import OrderedDict\n",
    "from pathlib import Path\n",
    "\n",
    "from tqdm import tqdm\n",
    "import time\n",
    "\n",
    "import torchio as tio\n",
    "from torchio.transforms import (RescaleIntensity,RandomFlip,Compose, HistogramStandardization)\n",
    "\n",
    "from sklearn.metrics import accuracy_score\n",
    "\n",
    "from torch.utils.data import DataLoader\n",
    "import torch\n",
    "import torch.nn as nn\n",
    "\n",
    "import matplotlib.pyplot as plt"
   ]
  },
  {
   "cell_type": "code",
   "execution_count": 2,
   "metadata": {},
   "outputs": [],
   "source": [
    "with open('../3_Classifier_training/study_test_design', 'rb') as f:\n",
    "    study_design = pickle.load(f)"
   ]
  },
  {
   "cell_type": "code",
   "execution_count": 3,
   "metadata": {},
   "outputs": [],
   "source": [
    "# Torchio's subjects' dictionary\n",
    "subjects_list={}\n",
    "\n",
    "for group in study_design.keys():\n",
    "    subjects_list[group]={}\n",
    "    for dataset in study_design[group].keys():\n",
    "        subjects_list[group][dataset]={}\n",
    "        for types in study_design[group][dataset].keys():\n",
    "            if types=='other':\n",
    "                continue\n",
    "                \n",
    "            subjects_list[group][dataset][types]=[tio.Subject(chiasm=tio.Image(study_design[group][dataset][types][sub]['chiasm'], type=tio.INTENSITY), label=study_design[group][dataset][types][sub]['class']) for sub in study_design[group][dataset][types].keys()]\n",
    "            # remove if doesn't exist\n",
    "            if not subjects_list[group][dataset][types]:\n",
    "                del subjects_list[group][dataset][types]"
   ]
  },
  {
   "cell_type": "code",
   "execution_count": 4,
   "metadata": {},
   "outputs": [
    {
     "name": "stderr",
     "output_type": "stream",
     "text": [
      "100%|██████████| 1642/1642 [00:01<00:00, 1412.03it/s]\n"
     ]
    }
   ],
   "source": [
    "# Histogram standardization (to mitigate cross-site differences)\n",
    "chiasm_paths=[]\n",
    "\n",
    "# Obtain paths of all chiasm images\n",
    "for group in study_design.keys():\n",
    "    #print(group)\n",
    "    for dataset in study_design[group]:\n",
    "        #print(dataset)\n",
    "        for types in study_design[group][dataset]:\n",
    "            if types != 'other':\n",
    "                for subjects in study_design[group][dataset][types]:\n",
    "                    chiasm_paths.append(study_design[group][dataset][types][subjects]['chiasm'])\n",
    "\n",
    "chiasm_landmarks_path = Path('chiasm_landmarks.npy')    \n",
    "\n",
    "chiasm_landmarks = HistogramStandardization.train(chiasm_paths)\n",
    "torch.save(chiasm_landmarks, chiasm_landmarks_path)\n",
    "\n",
    "landmarks={'chiasm': chiasm_landmarks}\n",
    "\n",
    "standardize = HistogramStandardization(landmarks)"
   ]
  },
  {
   "cell_type": "code",
   "execution_count": 5,
   "metadata": {},
   "outputs": [],
   "source": [
    "# Data preprocessing and augmentation\n",
    "\n",
    "# Rescale\n",
    "rescale = RescaleIntensity((0,1))\n",
    "\n",
    "# Flip\n",
    "#flip = RandomFlip((0,1,2), flip_probability=0.5, p=0.5)\n",
    "flip = RandomFlip((0,1,2), flip_probability=0.5, p=0.5)\n",
    "\n",
    "# Affine transformations\n",
    "affine = tio.RandomAffine(degrees=10)\n",
    "\n",
    "# Elastic deformation\n",
    "elastic = tio.transforms.RandomElasticDeformation(num_control_points=4, max_displacement=4, locked_borders=1)\n",
    "\n",
    "# Bias field (???)\n",
    "\n",
    "# Composing transforms - flip serves as data augmentation and is used only for training\n",
    "transform_train = Compose([affine, standardize, rescale, flip])\n",
    "\n",
    "transform_dev = Compose([standardize, rescale])"
   ]
  },
  {
   "cell_type": "code",
   "execution_count": 6,
   "metadata": {},
   "outputs": [],
   "source": [
    "# Define datasets\n",
    "\n",
    "# Torchio's subjects' dictionary\n",
    "datasets_list={}\n",
    "\n",
    "for group in subjects_list.keys():\n",
    "    \n",
    "    datasets_list[group]={}\n",
    "    \n",
    "    for dataset in subjects_list[group].keys():\n",
    "        \n",
    "        datasets_list[group][dataset]={}\n",
    "        \n",
    "        for types in subjects_list[group][dataset].keys():\n",
    "            \n",
    "            # Selection of the right transformation\n",
    "            if (group =='train'):\n",
    "                applied_transformation = transform_train\n",
    "            else:\n",
    "                applied_transformation = transform_dev\n",
    "            \n",
    "            #print(group, dataset,types, applied_transformation)\n",
    "            datasets_list[group][dataset][types]=tio.SubjectsDataset(subjects_list[group][dataset][types], transform = applied_transformation) "
   ]
  },
  {
   "cell_type": "code",
   "execution_count": 7,
   "metadata": {},
   "outputs": [],
   "source": [
    "# Concatenate required datasets\n",
    "concatenated_datasets={}\n",
    "\n",
    "for group in datasets_list:\n",
    "\n",
    "    entry=[]\n",
    "    \n",
    "    for dataset in datasets_list[group].keys():\n",
    "    \n",
    "    \n",
    "        for types in datasets_list[group][dataset].keys():\n",
    "            \n",
    "            #print(group, dataset, types)\n",
    "            \n",
    "            entry.append(datasets_list[group][dataset][types])\n",
    "    \n",
    "    concatenated_datasets[group]=torch.utils.data.ConcatDataset(entry)"
   ]
  },
  {
   "cell_type": "code",
   "execution_count": 8,
   "metadata": {},
   "outputs": [],
   "source": [
    "# Create dataloaders\n",
    "dataloaders_chiasm={'train': DataLoader(dataset=concatenated_datasets['train'], batch_size=10, shuffle=True, num_workers=8),\n",
    "                   'dev_train': DataLoader(dataset=concatenated_datasets['dev_train'], batch_size=10, shuffle=True, num_workers=8),\n",
    "                   'dev_test': DataLoader(dataset=concatenated_datasets['dev_test'], batch_size=10, shuffle=True, num_workers=8),\n",
    "                   'test_1': DataLoader(dataset=concatenated_datasets['test_1'], batch_size=10, shuffle=True, num_workers=8),\n",
    "                   'test_2': DataLoader(dataset=concatenated_datasets['test_2'], batch_size=10, shuffle=True, num_workers=8),\n",
    "                   }\n"
   ]
  },
  {
   "cell_type": "markdown",
   "metadata": {},
   "source": [
    "## Input sample"
   ]
  },
  {
   "cell_type": "code",
   "execution_count": 9,
   "metadata": {},
   "outputs": [
    {
     "name": "stdout",
     "output_type": "stream",
     "text": [
      "train\n"
     ]
    },
    {
     "data": {
      "image/png": "[encoded data removed]",
      "text/plain": [
       "<Figure size 1080x2880 with 20 Axes>"
      ]
     },
     "metadata": {
      "needs_background": "light"
     },
     "output_type": "display_data"
    },
    {
     "name": "stdout",
     "output_type": "stream",
     "text": [
      "dev_train\n"
     ]
    },
    {
     "data": {
      "image/png": "[encoded data removed]",
      "text/plain": [
       "<Figure size 1080x2880 with 20 Axes>"
      ]
     },
     "metadata": {
      "needs_background": "light"
     },
     "output_type": "display_data"
    },
    {
     "name": "stdout",
     "output_type": "stream",
     "text": [
      "dev_test\n"
     ]
    },
    {
     "data": {
      "image/png": "[encoded data removed]",
      "text/plain": [
       "<Figure size 1080x2880 with 8 Axes>"
      ]
     },
     "metadata": {
      "needs_background": "light"
     },
     "output_type": "display_data"
    }
   ],
   "source": [
    "# Visualize results\n",
    "classes=['control','albinism','other']\n",
    "\n",
    "for group in ['train', 'dev_train', 'dev_test']:\n",
    "    \n",
    "    print(group)\n",
    "    \n",
    "    batch = next(enumerate(dataloaders_chiasm[group]))\n",
    "    \n",
    "    data = batch[1]['chiasm']['data']\n",
    "    labels = batch[1]['label']\n",
    "    \n",
    "    inputs = data.cpu().numpy()\n",
    "\n",
    "        \n",
    "    fig = plt.figure(figsize=(15,40))\n",
    "    \n",
    "    for i in range(inputs.shape[0]):\n",
    "        \n",
    "        plt.subplot(inputs.shape[0],2,2*i+1)\n",
    "        plt.imshow(inputs[i,0,:,:,5],cmap='gray');\n",
    "        plt.title(classes[labels[i]])    \n",
    "        plt.subplot(inputs.shape[0],2,2*i+2)\n",
    "        plt.hist(inputs[i,0].reshape(-1),density=True, bins=100);\n",
    "        plt.axis('on')\n",
    "    \n",
    "    plt.show()"
   ]
  },
  {
   "cell_type": "markdown",
   "metadata": {},
   "source": [
    "## Average input"
   ]
  },
  {
   "cell_type": "code",
   "execution_count": 10,
   "metadata": {},
   "outputs": [
    {
     "data": {
      "image/png": "[encoded data removed]",
      "text/plain": [
       "<Figure size 1440x1440 with 24 Axes>"
      ]
     },
     "metadata": {
      "needs_background": "light"
     },
     "output_type": "display_data"
    }
   ],
   "source": [
    "# Calculate average input\n",
    "\n",
    "average_control=np.zeros((24,24,8))\n",
    "average_albinism = np.zeros((24,24,8))\n",
    "\n",
    "for batch in dataloaders_chiasm['train']:    \n",
    "    average_control+=np.sum(np.array(batch['chiasm']['data'])[batch['label'].numpy()==0], axis=(0,1))\n",
    "    average_albinism+=np.sum(np.array(batch['chiasm']['data'])[batch['label'].numpy()==1], axis=(0,1))\n",
    "\n",
    "plt.figure(figsize=(20,20))\n",
    "\n",
    "for i in range(8):\n",
    "        \n",
    "    # Control\n",
    "    plt.subplot(8,3,3*i+1)\n",
    "    plt.imshow(average_control[:,:,i], cmap='gray')\n",
    "    plt.tick_params(axis='both', labelsize=0, length = 0)\n",
    "    if(i==0):\n",
    "        plt.title('Average control')\n",
    "    \n",
    "    # Albinism\n",
    "    plt.subplot(8,3,3*i+2)\n",
    "    plt.imshow(average_albinism[:,:,i], cmap='gray')\n",
    "    plt.tick_params(axis='both', labelsize=0, length = 0)\n",
    "    if(i==0):\n",
    "        plt.title('Average albinism')\n",
    "        \n",
    "    # Difference control - albinism\n",
    "    plt.subplot(8,3,3*i+3)\n",
    "    plt.imshow(average_control[:,:,i]-average_albinism[:,:,i], cmap='gray')\n",
    "    plt.tick_params(axis='both', labelsize=0, length = 0)\n",
    "    if(i==0):\n",
    "        plt.title('Difference')"
   ]
  },
  {
   "cell_type": "markdown",
   "metadata": {},
   "source": [
    "## Average encoded input"
   ]
  },
  {
   "cell_type": "code",
   "execution_count": 11,
   "metadata": {},
   "outputs": [
    {
     "data": {
      "text/plain": [
       "\"\\nae = UNet(1,1,32,1)\\nae.load_state_dict(torch.load('../../1_Data/2_Trained_AE/32_1/optimal_weights'))\\n\\naverage_control=np.zeros((24,24,8))\\naverage_albinism = np.zeros((24,24,8))\\n\\nfor batch in dataloaders_chiasm['train']:  \\n                              \\n    output = ae(batch['chiasm']['data']).detach().numpy()                \\n                                                       \\n    average_control+=np.sum(output[batch['label'].numpy()==0], axis=(0,1))\\n    average_albinism+=np.sum(output[batch['label'].numpy()==1], axis=(0,1))\\n\\nplt.figure(figsize=(20,20))\\n\\nfor i in range(8):\\n        \\n    # Control\\n    plt.subplot(8,2,2*i+1)\\n    plt.imshow(average_control[:,:,i], cmap='gray')\\n    plt.tick_params(axis='both', labelsize=0, length = 0)\\n    if(i==0):\\n        plt.title('Average control')\\n    \\n    # Albinism\\n    plt.subplot(8,2,2*i+2)\\n    plt.imshow(average_albinism[:,:,i], cmap='gray')\\n    plt.tick_params(axis='both', labelsize=0, length = 0)\\n    if(i==0):\\n        plt.title('Average albinism')\\n\""
      ]
     },
     "execution_count": 11,
     "metadata": {},
     "output_type": "execute_result"
    }
   ],
   "source": [
    "# Calculate average input after AE step\n",
    "'''\n",
    "ae = UNet(1,1,32,1)\n",
    "ae.load_state_dict(torch.load('../../1_Data/2_Trained_AE/32_1/optimal_weights'))\n",
    "\n",
    "average_control=np.zeros((24,24,8))\n",
    "average_albinism = np.zeros((24,24,8))\n",
    "\n",
    "for batch in dataloaders_chiasm['train']:  \n",
    "                              \n",
    "    output = ae(batch['chiasm']['data']).detach().numpy()                \n",
    "                                                       \n",
    "    average_control+=np.sum(output[batch['label'].numpy()==0], axis=(0,1))\n",
    "    average_albinism+=np.sum(output[batch['label'].numpy()==1], axis=(0,1))\n",
    "\n",
    "plt.figure(figsize=(20,20))\n",
    "\n",
    "for i in range(8):\n",
    "        \n",
    "    # Control\n",
    "    plt.subplot(8,2,2*i+1)\n",
    "    plt.imshow(average_control[:,:,i], cmap='gray')\n",
    "    plt.tick_params(axis='both', labelsize=0, length = 0)\n",
    "    if(i==0):\n",
    "        plt.title('Average control')\n",
    "    \n",
    "    # Albinism\n",
    "    plt.subplot(8,2,2*i+2)\n",
    "    plt.imshow(average_albinism[:,:,i], cmap='gray')\n",
    "    plt.tick_params(axis='both', labelsize=0, length = 0)\n",
    "    if(i==0):\n",
    "        plt.title('Average albinism')\n",
    "'''"
   ]
  },
  {
   "cell_type": "markdown",
   "metadata": {},
   "source": [
    "# Network"
   ]
  },
  {
   "cell_type": "code",
   "execution_count": 12,
   "metadata": {},
   "outputs": [],
   "source": [
    "# Cropped U-Net copied from Overfitting Model\n",
    "\n",
    "class UNet(nn.Module):\n",
    "    \n",
    "    def __init__(self, in_channels=1, out_channels=1, init_features=10, scaling=2):\n",
    "        super(UNet, self).__init__()\n",
    "                \n",
    "        # Encoding layers\n",
    "        self.encoder1 = self.unet_block(in_channels, init_features, \"enc1\")\n",
    "        self.pool1 = nn.AvgPool3d(kernel_size=2, stride=2, padding=0)\n",
    "        self.encoder2 = self.unet_block(init_features, init_features*scaling, name='enc2')\n",
    "        self.pool2 = nn.AvgPool3d(kernel_size=2, stride=2, padding=0)\n",
    "\n",
    "        # Bottleneck layer\n",
    "        self.bottleneck = self.unet_block(init_features*scaling, init_features*scaling**2, name='bottleneck')\n",
    "        \n",
    "        # Decoding layers (where merge with prevois encoding layers occurs)        \n",
    "        self.upconv2 = nn.ConvTranspose3d(init_features*scaling**2, init_features*scaling, kernel_size=2, stride=2)\n",
    "        self.decoder2 = self.unet_block(init_features*scaling, init_features*scaling, name='dec2')\n",
    "                \n",
    "        self.upconv1 = nn.ConvTranspose3d(init_features*scaling, init_features, kernel_size=2, stride=2)\n",
    "        self.decoder1 = self.unet_block(init_features, init_features, name='dec1')\n",
    "        \n",
    "        # Final convolution - output equals number of output channels\n",
    "        self.conv = nn.Conv3d(init_features, out_channels, kernel_size=1) \n",
    "        \n",
    "    def forward(self,x):\n",
    "        \n",
    "        # Encoding\n",
    "        enc1 = self.encoder1(x)\n",
    "        enc2 = self.encoder2(self.pool1(enc1))\n",
    "\n",
    "        # Bottleneck\n",
    "        bottleneck = self.bottleneck(self.pool2(enc2))\n",
    "\n",
    "        # Upconvolving, concatenating data from respective encoding phase and executing UNet block\n",
    "        dec2 = self.upconv2(bottleneck)\n",
    "        dec2 = self.decoder2(dec2)\n",
    "        dec1 = self.upconv1(dec2)\n",
    "        dec1 = self.decoder1(dec1)\n",
    "        \n",
    "        out_conv = self.conv(dec1)\n",
    "        \n",
    "        return torch.sigmoid(out_conv)\n",
    "    \n",
    "    def unet_block(self, in_channels, features, name):\n",
    "        \n",
    "        return nn.Sequential(OrderedDict([(name+'conv1',nn.Conv3d(in_channels=in_channels, out_channels=features, kernel_size=3, padding=1, bias=False)),\n",
    "                             (name+'bnorm1', nn.BatchNorm3d(num_features=features)),\n",
    "                             (name+'relu1', nn.ReLU(inplace=True)),\n",
    "                             (name+'conv2', nn.Conv3d(in_channels=features, out_channels=features, kernel_size=3, padding=1, bias=False)),\n",
    "                             (name+'bnorm2', nn.BatchNorm3d(num_features=features)),\n",
    "                             (name+'relu2', nn.ReLU(inplace=True))])\n",
    "                            )\n",
    "\n",
    "    def output_latent_representations(self,x):\n",
    "        \n",
    "        print(x.shape)\n",
    "\n",
    "        # Encoding\n",
    "        enc1 = self.encoder1(x)\n",
    "        enc2 = self.encoder2(self.pool1(enc1))\n",
    "\n",
    "        # Bottleneck\n",
    "        bottleneck = self.bottleneck(self.pool2(enc2))\n",
    "        \n",
    "        print(bottleneck.shape)\n",
    "        \n",
    "        return bottleneck"
   ]
  },
  {
   "cell_type": "code",
   "execution_count": 13,
   "metadata": {},
   "outputs": [],
   "source": [
    "class Classify_chiasm(nn.Module):\n",
    "    \n",
    "    def __init__(self, init_features, scaling, num_fc_layers, num_hidden_nodes, weights_path='../../1_Data/2_Trained_AE/'):\n",
    "        super(Classify_chiasm, self).__init__()\n",
    "        \n",
    "        self.init_features = init_features\n",
    "        self.scaling = scaling\n",
    "        self.num_fc_layers = num_fc_layers\n",
    "        self.num_hidden_nodes = num_hidden_nodes\n",
    "        \n",
    "        # Initialize the network_extracting_features and load its weights\n",
    "        network_extracting_features = UNet(1,1,init_features,scaling)\n",
    "        network_extracting_features.load_state_dict(torch.load(weights_path+'/'+str(init_features)+'_'+str(scaling)+'/optimal_weights'))\n",
    "        \n",
    "        child = network_extracting_features.children()\n",
    "        \n",
    "        # Copying the desired components (analysis stream) from network_extracting_features\n",
    "        self.feature_extraction = nn.Sequential(*list(child)[:5])\n",
    "        \n",
    "        # Classification layers\n",
    "        if self.num_fc_layers==0:\n",
    "            self.classifier = nn.Linear(self.init_features*(self.scaling**2)*6*6*2,3)\n",
    "        elif self.num_fc_layers==1:\n",
    "            self.classifier = nn.Sequential(nn.Linear(self.init_features*(self.scaling**2)*6*6*2,self.num_hidden_nodes),nn.ReLU(),nn.Linear(self.num_hidden_nodes,3))\n",
    "        \n",
    "        # Placeholder for gradients\n",
    "        self.gradients = None\n",
    "    \n",
    "    # Freeze all the layers apart from the classifying one\n",
    "    def freeze_feature_extraction(self):\n",
    "        \n",
    "        counter = 0\n",
    "        for layer in classifying_network.children():\n",
    "            counter += 1\n",
    "            if counter < 2:\n",
    "                #print(layer)\n",
    "                for param in layer.parameters():\n",
    "                    param.requires_grad = False\n",
    "                    \n",
    "    # Freeze feature selection layers only\n",
    "    def freeze_classification(self):\n",
    "        \n",
    "        counter = 0\n",
    "        for layer in classifying_network.children():\n",
    "            counter += 1\n",
    "            if counter == 2:\n",
    "                #print(layer)\n",
    "                for param in layer.parameters():\n",
    "                    param.requires_grad = False\n",
    "            \n",
    "    # Hook for the activations' gradients\n",
    "    def activations_hook(self, grad):\n",
    "        self.gradients = grad\n",
    "        \n",
    "    def forward(self,x):\n",
    "        \n",
    "        # To ensure that gradients will be tracked\n",
    "        #x.requires_grad = True\n",
    "        \n",
    "        # Feature extraction\n",
    "        x = self.feature_extraction(x)\n",
    "        \n",
    "        # Register the hook\n",
    "        if self.train and x.requires_grad:\n",
    "            h = x.register_hook(self.activations_hook)\n",
    "\n",
    "        # Flatten the image\n",
    "        #x = torch.flatten(x, start_dim=1)\n",
    "        x = x.view((x.shape[0], -1))        \n",
    "\n",
    "        # Classifying FC layer and activation function\n",
    "        x = self.classifier(x)\n",
    "        \n",
    "        return torch.softmax(x, dim=1)\n",
    "\n",
    "    # Output latent representations (or activations) of the last CNN layer\n",
    "    def output_latent_representations(self,x):        \n",
    "        return self.feature_extraction(x)     \n",
    "    \n",
    "    # Output gradient\n",
    "    def output_activation_gradient(self):\n",
    "        return self.gradients\n",
    "    \n",
    "    def gradcam_backup(self, x):\n",
    "        \n",
    "        # Calculate prediction\n",
    "        pred = self.forward(x)\n",
    "        \n",
    "        # Get the gradient from the prediction\n",
    "        pred.backward()\n",
    "         \n",
    "        # Extract the gradients from final layer extracting features\n",
    "        gradients = self.output_activation_gradient()\n",
    "        print(gradients.shape)\n",
    "        \n",
    "        # Pool the gradients\n",
    "        pooled_gradients = torch.mean(gradients, dim=[0,2,3,4])\n",
    "        \n",
    "        # Extract activations\n",
    "        activations = self.output_latent_representations(x).detach()\n",
    "        \n",
    "        # Weight activations by the gradients\n",
    "        activations[:, i, :, :, :] *= pooled_gradients[i]\n",
    "        \n",
    "        # Average the channels of the activations\n",
    "        heatmap = torch.mean(activations, dim=1).squeeze()\n",
    "        \n",
    "        heatmap = np.maximum(heatmap, 0)\n",
    "        \n",
    "        heatmap /= torch.max(heatmap)\n",
    "        \n",
    "        return heatmap    \n",
    "        \n",
    "    def gradcam(self, x, class_id):\n",
    "\n",
    "        # Calculate prediction\n",
    "        pred = self.forward(x)\n",
    "\n",
    "        # Get the gradient from the prediction\n",
    "        pred[:,class_id].backward()\n",
    "\n",
    "        # Extract the gradients from final layer extracting features\n",
    "        gradients = self.output_activation_gradient()\n",
    "        print(gradients.shape)\n",
    "\n",
    "        # Pool the gradients\n",
    "        pooled_gradients = torch.mean(gradients, dim=[0,2,3,4])\n",
    "\n",
    "        # Extract activations\n",
    "        activations = self.output_latent_representations(x).detach()\n",
    "\n",
    "        # Weight activations by the gradients\n",
    "        for i in range(self.init_features * self.scaling**2):\n",
    "            activations[:, i, :, :, :] *= pooled_gradients[i]\n",
    "\n",
    "        # Average the channels of the activations\n",
    "        heatmap = torch.mean(activations, dim=1).squeeze()\n",
    "\n",
    "        heatmap = np.maximum(heatmap, 0)\n",
    "\n",
    "        heatmap /= torch.max(heatmap)\n",
    "\n",
    "        return heatmap    "
   ]
  },
  {
   "cell_type": "markdown",
   "metadata": {},
   "source": [
    "# Training"
   ]
  },
  {
   "cell_type": "code",
   "execution_count": 14,
   "metadata": {},
   "outputs": [
    {
     "name": "stdout",
     "output_type": "stream",
     "text": [
      "cuda\n"
     ]
    }
   ],
   "source": [
    "# Try setting CUDA if possible\n",
    "if torch.cuda.is_available():\n",
    "    device = torch.device(\"cuda\")\n",
    "else:\n",
    "    device = torch.device(\"cpu\") \n",
    "    \n",
    "print(device)"
   ]
  },
  {
   "cell_type": "code",
   "execution_count": 15,
   "metadata": {},
   "outputs": [],
   "source": [
    "# Criterion\n",
    "criterion = nn.NLLLoss()\n",
    "#criterion = nn.BCELoss()"
   ]
  },
  {
   "cell_type": "code",
   "execution_count": 16,
   "metadata": {},
   "outputs": [],
   "source": [
    "# Function returning trained model\n",
    "def train_network(n_epochs, dataloaders, model, optimizer, criterion, device, save_path):\n",
    "    \n",
    "    track_train_loss = []\n",
    "    track_dev_train_loss = []\n",
    "    track_dev_test_loss = []\n",
    "    \n",
    "    track_train_acc = []\n",
    "    track_dev_train_acc = []\n",
    "    track_dev_test_acc = []\n",
    "    \n",
    "    valid_loss_min = np.Inf\n",
    "    \n",
    "    model.to(device)\n",
    "        \n",
    "    for epoch in tqdm(range(1, n_epochs+1)):\n",
    "        \n",
    "        # Initialize loss monitoring variables\n",
    "        train_loss = 0.0\n",
    "        dev_train_loss = 0.0\n",
    "        dev_test_loss = 0.0\n",
    "                \n",
    "        # Training\n",
    "        model.train()\n",
    "        \n",
    "        acc_targets=[]\n",
    "        acc_predictions=[]\n",
    "        \n",
    "        for batch in dataloaders['train']:\n",
    "            \n",
    "            data = batch['chiasm']['data'].to(device)\n",
    "            data.requires_grad = True\n",
    "            \n",
    "            optimizer.zero_grad()\n",
    "            \n",
    "            output=model(data)\n",
    "            \n",
    "            loss = criterion(output, batch['label'].to(device))\n",
    "            loss.backward()\n",
    "            \n",
    "            optimizer.step()\n",
    "            \n",
    "            train_loss+= (loss.item()*len(batch['label']))\n",
    "            \n",
    "            acc_targets+=batch['label'][:].numpy().tolist()\n",
    "            acc_predictions+=output.argmax(dim=1).cpu().numpy().tolist()\n",
    "            \n",
    "        track_train_loss.append(train_loss/len(concatenated_datasets['train']))        \n",
    "        track_train_acc.append(accuracy_score(acc_targets, acc_predictions)) \n",
    "            \n",
    "        # Validation on two datasets\n",
    "        model.eval()\n",
    "        \n",
    "        acc_targets=[]\n",
    "        acc_predictions=[]\n",
    "        \n",
    "        for batch in dataloaders['dev_train']:\n",
    "            \n",
    "            data = batch['chiasm']['data'].to(device)\n",
    "            data.requires_grad = True\n",
    "            \n",
    "            with torch.no_grad():\n",
    "                \n",
    "                output = model(data)\n",
    "                loss = criterion(output, batch['label'].to(device))\n",
    "                \n",
    "                dev_train_loss+= (loss.item()*len(batch['label']))\n",
    "                \n",
    "                acc_targets+=batch['label'][:].numpy().tolist()\n",
    "                acc_predictions+=output.argmax(dim=1).cpu().numpy().tolist()\n",
    "                \n",
    "        track_dev_train_loss.append(dev_train_loss/len(concatenated_datasets['dev_train']))\n",
    "        track_dev_train_acc.append(accuracy_score(acc_targets, acc_predictions)) \n",
    "        \n",
    "        acc_targets=[]\n",
    "        acc_predictions=[]\n",
    "        \n",
    "        for batch in dataloaders['dev_test']:\n",
    "            \n",
    "            data = batch['chiasm']['data'].to(device)\n",
    "            data.requires_grad = True\n",
    "            \n",
    "            with torch.no_grad():\n",
    "                \n",
    "                output = model(data)\n",
    "                loss = criterion(output, batch['label'].to(device))\n",
    "                \n",
    "                dev_test_loss+= (loss.item()*len(batch['label']))\n",
    "                \n",
    "                acc_targets+=batch['label'][:].numpy().tolist()\n",
    "                acc_predictions+=output.argmax(dim=1).cpu().numpy().tolist()\n",
    "                \n",
    "        track_dev_test_loss.append(dev_test_loss/len(concatenated_datasets['dev_test']))\n",
    "        track_dev_test_acc.append(accuracy_score(acc_targets, acc_predictions)) \n",
    "        \n",
    "        if epoch%1000 ==0:\n",
    "            print('END OF EPOCH: {} \\n Training loss per image: {:.6f}\\n Training_dev loss per image: {:.6f}\\n Test_dev loss per image: {:.6f}'.format(epoch, train_loss/len(concatenated_datasets['train']),dev_train_loss/len(concatenated_datasets['dev_train']),dev_test_loss/len(concatenated_datasets['dev_test'])))\n",
    "            \n",
    "        ## Save the model if reached min validation loss and save the number of epoch               \n",
    "        if dev_train_loss < valid_loss_min:\n",
    "            valid_loss_min = dev_train_loss\n",
    "            torch.save(model.state_dict(),save_path+'optimal_weights')\n",
    "            last_updated_epoch = epoch\n",
    "        \n",
    "            with open(save_path+'number_epochs.txt','w') as f:\n",
    "                print('Epoch:', str(epoch), file=f)  \n",
    "                \n",
    "        # Early stopping\n",
    "        if (epoch - last_updated_epoch) == 2000:\n",
    "            break\n",
    "                                \n",
    "    # return trained model\n",
    "    return track_train_loss, track_dev_train_loss, track_dev_test_loss, track_train_acc, track_dev_train_acc, track_dev_test_acc"
   ]
  },
  {
   "cell_type": "markdown",
   "metadata": {},
   "source": [
    "### Training classification layers only"
   ]
  },
  {
   "cell_type": "code",
   "execution_count": 17,
   "metadata": {},
   "outputs": [
    {
     "name": "stderr",
     "output_type": "stream",
     "text": [
      " 10%|█         | 1000/10000 [13:07<1:55:05,  1.30it/s]"
     ]
    },
    {
     "name": "stdout",
     "output_type": "stream",
     "text": [
      "END OF EPOCH: 1000 \n",
      " Training loss per image: -0.911122\n",
      " Training_dev loss per image: -0.838504\n",
      " Test_dev loss per image: -0.500975\n"
     ]
    },
    {
     "name": "stderr",
     "output_type": "stream",
     "text": [
      " 20%|██        | 2000/10000 [27:24<1:53:22,  1.18it/s]"
     ]
    },
    {
     "name": "stdout",
     "output_type": "stream",
     "text": [
      "END OF EPOCH: 2000 \n",
      " Training loss per image: -0.937945\n",
      " Training_dev loss per image: -0.772026\n",
      " Test_dev loss per image: -0.500138\n"
     ]
    },
    {
     "name": "stderr",
     "output_type": "stream",
     "text": [
      " 26%|██▌       | 2609/10000 [36:02<1:42:06,  1.21it/s]\n",
      " 10%|█         | 1000/10000 [13:42<1:57:57,  1.27it/s]"
     ]
    },
    {
     "name": "stdout",
     "output_type": "stream",
     "text": [
      "END OF EPOCH: 1000 \n",
      " Training loss per image: -0.832615\n",
      " Training_dev loss per image: -0.814596\n",
      " Test_dev loss per image: -0.527266\n"
     ]
    },
    {
     "name": "stderr",
     "output_type": "stream",
     "text": [
      " 20%|██        | 2000/10000 [27:10<1:49:25,  1.22it/s]"
     ]
    },
    {
     "name": "stdout",
     "output_type": "stream",
     "text": [
      "END OF EPOCH: 2000 \n",
      " Training loss per image: -0.833392\n",
      " Training_dev loss per image: -0.833273\n",
      " Test_dev loss per image: -0.518184\n"
     ]
    },
    {
     "name": "stderr",
     "output_type": "stream",
     "text": [
      " 30%|███       | 3000/10000 [40:34<1:37:34,  1.20it/s]"
     ]
    },
    {
     "name": "stdout",
     "output_type": "stream",
     "text": [
      "END OF EPOCH: 3000 \n",
      " Training loss per image: -0.860566\n",
      " Training_dev loss per image: -0.840199\n",
      " Test_dev loss per image: -0.515510\n"
     ]
    },
    {
     "name": "stderr",
     "output_type": "stream",
     "text": [
      " 40%|████      | 4000/10000 [54:14<1:17:48,  1.29it/s]"
     ]
    },
    {
     "name": "stdout",
     "output_type": "stream",
     "text": [
      "END OF EPOCH: 4000 \n",
      " Training loss per image: -0.861910\n",
      " Training_dev loss per image: -0.831994\n",
      " Test_dev loss per image: -0.507720\n"
     ]
    },
    {
     "name": "stderr",
     "output_type": "stream",
     "text": [
      " 50%|█████     | 5000/10000 [1:08:21<1:13:01,  1.14it/s]"
     ]
    },
    {
     "name": "stdout",
     "output_type": "stream",
     "text": [
      "END OF EPOCH: 5000 \n",
      " Training loss per image: -0.893296\n",
      " Training_dev loss per image: -0.846250\n",
      " Test_dev loss per image: -0.504984\n"
     ]
    },
    {
     "name": "stderr",
     "output_type": "stream",
     "text": [
      " 60%|██████    | 6000/10000 [1:22:09<52:45,  1.26it/s]  "
     ]
    },
    {
     "name": "stdout",
     "output_type": "stream",
     "text": [
      "END OF EPOCH: 6000 \n",
      " Training loss per image: -0.885010\n",
      " Training_dev loss per image: -0.844004\n",
      " Test_dev loss per image: -0.505609\n"
     ]
    },
    {
     "name": "stderr",
     "output_type": "stream",
     "text": [
      " 70%|███████   | 7000/10000 [1:35:33<39:08,  1.28it/s]"
     ]
    },
    {
     "name": "stdout",
     "output_type": "stream",
     "text": [
      "END OF EPOCH: 7000 \n",
      " Training loss per image: -0.879918\n",
      " Training_dev loss per image: -0.846780\n",
      " Test_dev loss per image: -0.502560\n"
     ]
    },
    {
     "name": "stderr",
     "output_type": "stream",
     "text": [
      " 75%|███████▌  | 7515/10000 [1:42:17<33:49,  1.22it/s]\n",
      " 10%|█         | 1000/10000 [13:02<1:56:59,  1.28it/s]"
     ]
    },
    {
     "name": "stdout",
     "output_type": "stream",
     "text": [
      "END OF EPOCH: 1000 \n",
      " Training loss per image: -0.632881\n",
      " Training_dev loss per image: -0.686632\n",
      " Test_dev loss per image: -0.505451\n"
     ]
    },
    {
     "name": "stderr",
     "output_type": "stream",
     "text": [
      " 20%|██        | 2000/10000 [26:03<1:43:55,  1.28it/s]"
     ]
    },
    {
     "name": "stdout",
     "output_type": "stream",
     "text": [
      "END OF EPOCH: 2000 \n",
      " Training loss per image: -0.656387\n",
      " Training_dev loss per image: -0.734880\n",
      " Test_dev loss per image: -0.505252\n"
     ]
    },
    {
     "name": "stderr",
     "output_type": "stream",
     "text": [
      " 30%|███       | 3000/10000 [39:07<1:34:31,  1.23it/s]"
     ]
    },
    {
     "name": "stdout",
     "output_type": "stream",
     "text": [
      "END OF EPOCH: 3000 \n",
      " Training loss per image: -0.743851\n",
      " Training_dev loss per image: -0.746316\n",
      " Test_dev loss per image: -0.505129\n"
     ]
    },
    {
     "name": "stderr",
     "output_type": "stream",
     "text": [
      " 40%|████      | 4000/10000 [52:51<1:24:49,  1.18it/s]"
     ]
    },
    {
     "name": "stdout",
     "output_type": "stream",
     "text": [
      "END OF EPOCH: 4000 \n",
      " Training loss per image: -0.725898\n",
      " Training_dev loss per image: -0.758907\n",
      " Test_dev loss per image: -0.506792\n"
     ]
    },
    {
     "name": "stderr",
     "output_type": "stream",
     "text": [
      " 50%|█████     | 5000/10000 [1:06:06<1:09:45,  1.19it/s]"
     ]
    },
    {
     "name": "stdout",
     "output_type": "stream",
     "text": [
      "END OF EPOCH: 5000 \n",
      " Training loss per image: -0.780622\n",
      " Training_dev loss per image: -0.766638\n",
      " Test_dev loss per image: -0.509221\n"
     ]
    },
    {
     "name": "stderr",
     "output_type": "stream",
     "text": [
      " 60%|██████    | 6000/10000 [1:19:38<52:08,  1.28it/s]  "
     ]
    },
    {
     "name": "stdout",
     "output_type": "stream",
     "text": [
      "END OF EPOCH: 6000 \n",
      " Training loss per image: -0.785270\n",
      " Training_dev loss per image: -0.776465\n",
      " Test_dev loss per image: -0.511455\n"
     ]
    },
    {
     "name": "stderr",
     "output_type": "stream",
     "text": [
      " 70%|███████   | 7000/10000 [1:32:45<39:14,  1.27it/s]"
     ]
    },
    {
     "name": "stdout",
     "output_type": "stream",
     "text": [
      "END OF EPOCH: 7000 \n",
      " Training loss per image: -0.794941\n",
      " Training_dev loss per image: -0.782697\n",
      " Test_dev loss per image: -0.513608\n"
     ]
    },
    {
     "name": "stderr",
     "output_type": "stream",
     "text": [
      " 80%|████████  | 8000/10000 [1:46:41<29:17,  1.14it/s]"
     ]
    },
    {
     "name": "stdout",
     "output_type": "stream",
     "text": [
      "END OF EPOCH: 8000 \n",
      " Training loss per image: -0.798469\n",
      " Training_dev loss per image: -0.792197\n",
      " Test_dev loss per image: -0.515211\n"
     ]
    },
    {
     "name": "stderr",
     "output_type": "stream",
     "text": [
      " 90%|█████████ | 9000/10000 [2:00:39<13:27,  1.24it/s]"
     ]
    },
    {
     "name": "stdout",
     "output_type": "stream",
     "text": [
      "END OF EPOCH: 9000 \n",
      " Training loss per image: -0.794880\n",
      " Training_dev loss per image: -0.783880\n",
      " Test_dev loss per image: -0.512094\n"
     ]
    },
    {
     "name": "stderr",
     "output_type": "stream",
     "text": [
      "100%|██████████| 10000/10000 [2:14:30<00:00,  1.24it/s]\n",
      "  0%|          | 0/10000 [00:00<?, ?it/s]"
     ]
    },
    {
     "name": "stdout",
     "output_type": "stream",
     "text": [
      "END OF EPOCH: 10000 \n",
      " Training loss per image: -0.828227\n",
      " Training_dev loss per image: -0.786757\n",
      " Test_dev loss per image: -0.510691\n"
     ]
    },
    {
     "name": "stderr",
     "output_type": "stream",
     "text": [
      " 10%|█         | 1000/10000 [13:31<2:00:00,  1.25it/s]"
     ]
    },
    {
     "name": "stdout",
     "output_type": "stream",
     "text": [
      "END OF EPOCH: 1000 \n",
      " Training loss per image: -0.894338\n",
      " Training_dev loss per image: -0.696670\n",
      " Test_dev loss per image: -0.500807\n"
     ]
    },
    {
     "name": "stderr",
     "output_type": "stream",
     "text": [
      " 20%|██        | 2000/10000 [27:07<1:54:30,  1.16it/s]"
     ]
    },
    {
     "name": "stdout",
     "output_type": "stream",
     "text": [
      "END OF EPOCH: 2000 \n",
      " Training loss per image: -0.907497\n",
      " Training_dev loss per image: -0.780478\n",
      " Test_dev loss per image: -0.500281\n"
     ]
    },
    {
     "name": "stderr",
     "output_type": "stream",
     "text": [
      " 30%|███       | 3000/10000 [40:52<1:33:33,  1.25it/s]"
     ]
    },
    {
     "name": "stdout",
     "output_type": "stream",
     "text": [
      "END OF EPOCH: 3000 \n",
      " Training loss per image: -0.932337\n",
      " Training_dev loss per image: -0.677538\n",
      " Test_dev loss per image: -0.500015\n"
     ]
    },
    {
     "name": "stderr",
     "output_type": "stream",
     "text": [
      " 37%|███▋      | 3658/10000 [49:52<1:26:27,  1.22it/s]\n",
      " 10%|█         | 1000/10000 [13:41<2:04:49,  1.20it/s]"
     ]
    },
    {
     "name": "stdout",
     "output_type": "stream",
     "text": [
      "END OF EPOCH: 1000 \n",
      " Training loss per image: -0.757920\n",
      " Training_dev loss per image: -0.755120\n",
      " Test_dev loss per image: -0.517237\n"
     ]
    },
    {
     "name": "stderr",
     "output_type": "stream",
     "text": [
      " 20%|██        | 2000/10000 [27:41<1:51:12,  1.20it/s]"
     ]
    },
    {
     "name": "stdout",
     "output_type": "stream",
     "text": [
      "END OF EPOCH: 2000 \n",
      " Training loss per image: -0.821424\n",
      " Training_dev loss per image: -0.733609\n",
      " Test_dev loss per image: -0.530586\n"
     ]
    },
    {
     "name": "stderr",
     "output_type": "stream",
     "text": [
      " 30%|███       | 3000/10000 [41:23<1:35:00,  1.23it/s]"
     ]
    },
    {
     "name": "stdout",
     "output_type": "stream",
     "text": [
      "END OF EPOCH: 3000 \n",
      " Training loss per image: -0.829230\n",
      " Training_dev loss per image: -0.755441\n",
      " Test_dev loss per image: -0.511582\n"
     ]
    },
    {
     "name": "stderr",
     "output_type": "stream",
     "text": [
      " 33%|███▎      | 3272/10000 [45:06<1:32:45,  1.21it/s]\n",
      " 10%|█         | 1000/10000 [13:49<2:06:03,  1.19it/s]"
     ]
    },
    {
     "name": "stdout",
     "output_type": "stream",
     "text": [
      "END OF EPOCH: 1000 \n",
      " Training loss per image: -0.631207\n",
      " Training_dev loss per image: -0.632767\n",
      " Test_dev loss per image: -0.522802\n"
     ]
    },
    {
     "name": "stderr",
     "output_type": "stream",
     "text": [
      " 20%|██        | 2000/10000 [27:10<1:47:00,  1.25it/s]"
     ]
    },
    {
     "name": "stdout",
     "output_type": "stream",
     "text": [
      "END OF EPOCH: 2000 \n",
      " Training loss per image: -0.648726\n",
      " Training_dev loss per image: -0.699584\n",
      " Test_dev loss per image: -0.535875\n"
     ]
    },
    {
     "name": "stderr",
     "output_type": "stream",
     "text": [
      " 30%|███       | 3000/10000 [40:30<1:32:25,  1.26it/s]"
     ]
    },
    {
     "name": "stdout",
     "output_type": "stream",
     "text": [
      "END OF EPOCH: 3000 \n",
      " Training loss per image: -0.692346\n",
      " Training_dev loss per image: -0.727093\n",
      " Test_dev loss per image: -0.519021\n"
     ]
    },
    {
     "name": "stderr",
     "output_type": "stream",
     "text": [
      " 40%|████      | 4000/10000 [53:49<1:20:09,  1.25it/s]"
     ]
    },
    {
     "name": "stdout",
     "output_type": "stream",
     "text": [
      "END OF EPOCH: 4000 \n",
      " Training loss per image: -0.687776\n",
      " Training_dev loss per image: -0.747654\n",
      " Test_dev loss per image: -0.533345\n"
     ]
    },
    {
     "name": "stderr",
     "output_type": "stream",
     "text": [
      " 50%|█████     | 5000/10000 [1:07:07<1:06:04,  1.26it/s]"
     ]
    },
    {
     "name": "stdout",
     "output_type": "stream",
     "text": [
      "END OF EPOCH: 5000 \n",
      " Training loss per image: -0.702544\n",
      " Training_dev loss per image: -0.755980\n",
      " Test_dev loss per image: -0.520829\n"
     ]
    },
    {
     "name": "stderr",
     "output_type": "stream",
     "text": [
      " 60%|██████    | 6000/10000 [1:20:34<53:29,  1.25it/s]  "
     ]
    },
    {
     "name": "stdout",
     "output_type": "stream",
     "text": [
      "END OF EPOCH: 6000 \n",
      " Training loss per image: -0.755812\n",
      " Training_dev loss per image: -0.760260\n",
      " Test_dev loss per image: -0.515569\n"
     ]
    },
    {
     "name": "stderr",
     "output_type": "stream",
     "text": [
      " 70%|███████   | 7000/10000 [1:33:57<39:54,  1.25it/s]"
     ]
    },
    {
     "name": "stdout",
     "output_type": "stream",
     "text": [
      "END OF EPOCH: 7000 \n",
      " Training loss per image: -0.746982\n",
      " Training_dev loss per image: -0.755062\n",
      " Test_dev loss per image: -0.528388\n"
     ]
    },
    {
     "name": "stderr",
     "output_type": "stream",
     "text": [
      " 80%|████████  | 8000/10000 [1:47:19<26:40,  1.25it/s]"
     ]
    },
    {
     "name": "stdout",
     "output_type": "stream",
     "text": [
      "END OF EPOCH: 8000 \n",
      " Training loss per image: -0.744582\n",
      " Training_dev loss per image: -0.759895\n",
      " Test_dev loss per image: -0.535849\n"
     ]
    },
    {
     "name": "stderr",
     "output_type": "stream",
     "text": [
      " 90%|████████▉ | 8993/10000 [2:00:37<13:30,  1.24it/s]\n",
      " 10%|█         | 1000/10000 [13:16<1:59:18,  1.26it/s]"
     ]
    },
    {
     "name": "stdout",
     "output_type": "stream",
     "text": [
      "END OF EPOCH: 1000 \n",
      " Training loss per image: -0.913226\n",
      " Training_dev loss per image: -0.722774\n",
      " Test_dev loss per image: -0.500001\n"
     ]
    },
    {
     "name": "stderr",
     "output_type": "stream",
     "text": [
      " 20%|██        | 2000/10000 [26:33<1:45:56,  1.26it/s]"
     ]
    },
    {
     "name": "stdout",
     "output_type": "stream",
     "text": [
      "END OF EPOCH: 2000 \n",
      " Training loss per image: -0.958304\n",
      " Training_dev loss per image: -0.773849\n",
      " Test_dev loss per image: -0.500000\n"
     ]
    },
    {
     "name": "stderr",
     "output_type": "stream",
     "text": [
      " 22%|██▏       | 2236/10000 [29:41<1:43:07,  1.25it/s]\n",
      " 10%|█         | 1000/10000 [13:19<1:59:25,  1.26it/s]"
     ]
    },
    {
     "name": "stdout",
     "output_type": "stream",
     "text": [
      "END OF EPOCH: 1000 \n",
      " Training loss per image: -0.861261\n",
      " Training_dev loss per image: -0.851352\n",
      " Test_dev loss per image: -0.521246\n"
     ]
    },
    {
     "name": "stderr",
     "output_type": "stream",
     "text": [
      " 20%|██        | 2000/10000 [26:38<1:48:43,  1.23it/s]"
     ]
    },
    {
     "name": "stdout",
     "output_type": "stream",
     "text": [
      "END OF EPOCH: 2000 \n",
      " Training loss per image: -0.888197\n",
      " Training_dev loss per image: -0.839544\n",
      " Test_dev loss per image: -0.503891\n"
     ]
    },
    {
     "name": "stderr",
     "output_type": "stream",
     "text": [
      " 30%|███       | 3000/10000 [40:16<1:36:06,  1.21it/s]"
     ]
    },
    {
     "name": "stdout",
     "output_type": "stream",
     "text": [
      "END OF EPOCH: 3000 \n",
      " Training loss per image: -0.916137\n",
      " Training_dev loss per image: -0.834452\n",
      " Test_dev loss per image: -0.500474\n"
     ]
    },
    {
     "name": "stderr",
     "output_type": "stream",
     "text": [
      " 40%|████      | 4000/10000 [53:54<1:21:58,  1.22it/s]"
     ]
    },
    {
     "name": "stdout",
     "output_type": "stream",
     "text": [
      "END OF EPOCH: 4000 \n",
      " Training loss per image: -0.919410\n",
      " Training_dev loss per image: -0.831913\n",
      " Test_dev loss per image: -0.500216\n"
     ]
    },
    {
     "name": "stderr",
     "output_type": "stream",
     "text": [
      " 48%|████▊     | 4758/10000 [1:04:16<1:10:48,  1.23it/s]\n",
      " 10%|█         | 1000/10000 [13:38<2:02:35,  1.22it/s]"
     ]
    },
    {
     "name": "stdout",
     "output_type": "stream",
     "text": [
      "END OF EPOCH: 1000 \n",
      " Training loss per image: -0.679380\n",
      " Training_dev loss per image: -0.717913\n",
      " Test_dev loss per image: -0.517142\n"
     ]
    },
    {
     "name": "stderr",
     "output_type": "stream",
     "text": [
      " 20%|██        | 2000/10000 [27:16<1:48:28,  1.23it/s]"
     ]
    },
    {
     "name": "stdout",
     "output_type": "stream",
     "text": [
      "END OF EPOCH: 2000 \n",
      " Training loss per image: -0.757463\n",
      " Training_dev loss per image: -0.741922\n",
      " Test_dev loss per image: -0.512574\n"
     ]
    },
    {
     "name": "stderr",
     "output_type": "stream",
     "text": [
      " 30%|███       | 3000/10000 [40:53<1:35:06,  1.23it/s]"
     ]
    },
    {
     "name": "stdout",
     "output_type": "stream",
     "text": [
      "END OF EPOCH: 3000 \n",
      " Training loss per image: -0.781984\n",
      " Training_dev loss per image: -0.763552\n",
      " Test_dev loss per image: -0.516730\n"
     ]
    },
    {
     "name": "stderr",
     "output_type": "stream",
     "text": [
      " 40%|████      | 4000/10000 [54:29<1:21:06,  1.23it/s]"
     ]
    },
    {
     "name": "stdout",
     "output_type": "stream",
     "text": [
      "END OF EPOCH: 4000 \n",
      " Training loss per image: -0.814242\n",
      " Training_dev loss per image: -0.803448\n",
      " Test_dev loss per image: -0.527428\n"
     ]
    },
    {
     "name": "stderr",
     "output_type": "stream",
     "text": [
      " 50%|█████     | 5000/10000 [1:08:05<1:07:58,  1.23it/s]"
     ]
    },
    {
     "name": "stdout",
     "output_type": "stream",
     "text": [
      "END OF EPOCH: 5000 \n",
      " Training loss per image: -0.821336\n",
      " Training_dev loss per image: -0.818225\n",
      " Test_dev loss per image: -0.525875\n"
     ]
    },
    {
     "name": "stderr",
     "output_type": "stream",
     "text": [
      " 60%|██████    | 6000/10000 [1:21:41<53:59,  1.23it/s]  "
     ]
    },
    {
     "name": "stdout",
     "output_type": "stream",
     "text": [
      "END OF EPOCH: 6000 \n",
      " Training loss per image: -0.839773\n",
      " Training_dev loss per image: -0.822577\n",
      " Test_dev loss per image: -0.523629\n"
     ]
    },
    {
     "name": "stderr",
     "output_type": "stream",
     "text": [
      " 70%|███████   | 7000/10000 [1:35:16<40:27,  1.24it/s]"
     ]
    },
    {
     "name": "stdout",
     "output_type": "stream",
     "text": [
      "END OF EPOCH: 7000 \n",
      " Training loss per image: -0.831739\n",
      " Training_dev loss per image: -0.832789\n",
      " Test_dev loss per image: -0.520730\n"
     ]
    },
    {
     "name": "stderr",
     "output_type": "stream",
     "text": [
      " 80%|████████  | 8000/10000 [1:48:52<27:17,  1.22it/s]"
     ]
    },
    {
     "name": "stdout",
     "output_type": "stream",
     "text": [
      "END OF EPOCH: 8000 \n",
      " Training loss per image: -0.843276\n",
      " Training_dev loss per image: -0.829352\n",
      " Test_dev loss per image: -0.515433\n"
     ]
    },
    {
     "name": "stderr",
     "output_type": "stream",
     "text": [
      " 90%|█████████ | 9000/10000 [2:02:27<13:35,  1.23it/s]"
     ]
    },
    {
     "name": "stdout",
     "output_type": "stream",
     "text": [
      "END OF EPOCH: 9000 \n",
      " Training loss per image: -0.872704\n",
      " Training_dev loss per image: -0.833159\n",
      " Test_dev loss per image: -0.514385\n"
     ]
    },
    {
     "name": "stderr",
     "output_type": "stream",
     "text": [
      "100%|██████████| 10000/10000 [2:16:02<00:00,  1.23it/s]\n",
      "  0%|          | 0/10000 [00:00<?, ?it/s]"
     ]
    },
    {
     "name": "stdout",
     "output_type": "stream",
     "text": [
      "END OF EPOCH: 10000 \n",
      " Training loss per image: -0.890498\n",
      " Training_dev loss per image: -0.833688\n",
      " Test_dev loss per image: -0.508515\n"
     ]
    },
    {
     "name": "stderr",
     "output_type": "stream",
     "text": [
      " 10%|█         | 1000/10000 [13:45<2:04:00,  1.21it/s]"
     ]
    },
    {
     "name": "stdout",
     "output_type": "stream",
     "text": [
      "END OF EPOCH: 1000 \n",
      " Training loss per image: -0.916830\n",
      " Training_dev loss per image: -0.752715\n",
      " Test_dev loss per image: -0.500002\n"
     ]
    },
    {
     "name": "stderr",
     "output_type": "stream",
     "text": [
      " 20%|██        | 2000/10000 [27:28<1:50:14,  1.21it/s]"
     ]
    },
    {
     "name": "stdout",
     "output_type": "stream",
     "text": [
      "END OF EPOCH: 2000 \n",
      " Training loss per image: -0.936831\n",
      " Training_dev loss per image: -0.592072\n",
      " Test_dev loss per image: -0.500000\n"
     ]
    },
    {
     "name": "stderr",
     "output_type": "stream",
     "text": [
      " 30%|███       | 3000/10000 [41:13<1:36:58,  1.20it/s]"
     ]
    },
    {
     "name": "stdout",
     "output_type": "stream",
     "text": [
      "END OF EPOCH: 3000 \n",
      " Training loss per image: -0.953565\n",
      " Training_dev loss per image: -0.582962\n",
      " Test_dev loss per image: -0.500000\n"
     ]
    },
    {
     "name": "stderr",
     "output_type": "stream",
     "text": [
      " 40%|████      | 4000/10000 [54:58<1:22:45,  1.21it/s]"
     ]
    },
    {
     "name": "stdout",
     "output_type": "stream",
     "text": [
      "END OF EPOCH: 4000 \n",
      " Training loss per image: -0.970978\n",
      " Training_dev loss per image: -0.805308\n",
      " Test_dev loss per image: -0.500000\n"
     ]
    },
    {
     "name": "stderr",
     "output_type": "stream",
     "text": [
      " 50%|█████     | 5000/10000 [1:08:43<1:08:24,  1.22it/s]"
     ]
    },
    {
     "name": "stdout",
     "output_type": "stream",
     "text": [
      "END OF EPOCH: 5000 \n",
      " Training loss per image: -0.949695\n",
      " Training_dev loss per image: -0.721717\n",
      " Test_dev loss per image: -0.500000\n"
     ]
    },
    {
     "name": "stderr",
     "output_type": "stream",
     "text": [
      " 60%|██████    | 6000/10000 [1:22:28<54:41,  1.22it/s]  "
     ]
    },
    {
     "name": "stdout",
     "output_type": "stream",
     "text": [
      "END OF EPOCH: 6000 \n",
      " Training loss per image: -0.972623\n",
      " Training_dev loss per image: -0.659986\n",
      " Test_dev loss per image: -0.500000\n"
     ]
    },
    {
     "name": "stderr",
     "output_type": "stream",
     "text": [
      " 70%|███████   | 7000/10000 [1:36:13<41:46,  1.20it/s]"
     ]
    },
    {
     "name": "stdout",
     "output_type": "stream",
     "text": [
      "END OF EPOCH: 7000 \n",
      " Training loss per image: -0.946176\n",
      " Training_dev loss per image: -0.637248\n",
      " Test_dev loss per image: -0.500000\n"
     ]
    },
    {
     "name": "stderr",
     "output_type": "stream",
     "text": [
      " 80%|████████  | 8000/10000 [1:49:57<27:36,  1.21it/s]"
     ]
    },
    {
     "name": "stdout",
     "output_type": "stream",
     "text": [
      "END OF EPOCH: 8000 \n",
      " Training loss per image: -0.980068\n",
      " Training_dev loss per image: -0.660299\n",
      " Test_dev loss per image: -0.500000\n"
     ]
    },
    {
     "name": "stderr",
     "output_type": "stream",
     "text": [
      " 90%|█████████ | 9000/10000 [2:03:43<13:51,  1.20it/s]"
     ]
    },
    {
     "name": "stdout",
     "output_type": "stream",
     "text": [
      "END OF EPOCH: 9000 \n",
      " Training loss per image: -0.973375\n",
      " Training_dev loss per image: -0.604652\n",
      " Test_dev loss per image: -0.500000\n"
     ]
    },
    {
     "name": "stderr",
     "output_type": "stream",
     "text": [
      " 93%|█████████▎| 9266/10000 [2:07:23<10:05,  1.21it/s]\n",
      " 10%|█         | 1000/10000 [13:43<2:03:29,  1.21it/s]"
     ]
    },
    {
     "name": "stdout",
     "output_type": "stream",
     "text": [
      "END OF EPOCH: 1000 \n",
      " Training loss per image: -0.813473\n",
      " Training_dev loss per image: -0.758698\n",
      " Test_dev loss per image: -0.513141\n"
     ]
    },
    {
     "name": "stderr",
     "output_type": "stream",
     "text": [
      " 20%|██        | 2000/10000 [27:27<1:49:45,  1.21it/s]"
     ]
    },
    {
     "name": "stdout",
     "output_type": "stream",
     "text": [
      "END OF EPOCH: 2000 \n",
      " Training loss per image: -0.866036\n",
      " Training_dev loss per image: -0.750170\n",
      " Test_dev loss per image: -0.502583\n"
     ]
    },
    {
     "name": "stderr",
     "output_type": "stream",
     "text": [
      " 30%|███       | 3000/10000 [41:13<1:36:32,  1.21it/s]"
     ]
    },
    {
     "name": "stdout",
     "output_type": "stream",
     "text": [
      "END OF EPOCH: 3000 \n",
      " Training loss per image: -0.903940\n",
      " Training_dev loss per image: -0.747383\n",
      " Test_dev loss per image: -0.500171\n"
     ]
    },
    {
     "name": "stderr",
     "output_type": "stream",
     "text": [
      " 40%|████      | 4000/10000 [54:57<1:22:14,  1.22it/s]"
     ]
    },
    {
     "name": "stdout",
     "output_type": "stream",
     "text": [
      "END OF EPOCH: 4000 \n",
      " Training loss per image: -0.905708\n",
      " Training_dev loss per image: -0.683235\n",
      " Test_dev loss per image: -0.500010\n"
     ]
    },
    {
     "name": "stderr",
     "output_type": "stream",
     "text": [
      " 50%|█████     | 5000/10000 [1:08:41<1:08:35,  1.22it/s]"
     ]
    },
    {
     "name": "stdout",
     "output_type": "stream",
     "text": [
      "END OF EPOCH: 5000 \n",
      " Training loss per image: -0.917599\n",
      " Training_dev loss per image: -0.698158\n",
      " Test_dev loss per image: -0.500002\n"
     ]
    },
    {
     "name": "stderr",
     "output_type": "stream",
     "text": [
      " 54%|█████▍    | 5410/10000 [1:14:20<1:03:04,  1.21it/s]\n",
      " 10%|█         | 1000/10000 [13:47<2:04:05,  1.21it/s]"
     ]
    },
    {
     "name": "stdout",
     "output_type": "stream",
     "text": [
      "END OF EPOCH: 1000 \n",
      " Training loss per image: -0.624980\n",
      " Training_dev loss per image: -0.663892\n",
      " Test_dev loss per image: -0.549379\n"
     ]
    },
    {
     "name": "stderr",
     "output_type": "stream",
     "text": [
      " 20%|██        | 2000/10000 [27:33<1:49:51,  1.21it/s]"
     ]
    },
    {
     "name": "stdout",
     "output_type": "stream",
     "text": [
      "END OF EPOCH: 2000 \n",
      " Training loss per image: -0.667704\n",
      " Training_dev loss per image: -0.709703\n",
      " Test_dev loss per image: -0.533521\n"
     ]
    },
    {
     "name": "stderr",
     "output_type": "stream",
     "text": [
      " 30%|███       | 3000/10000 [41:22<1:37:00,  1.20it/s]"
     ]
    },
    {
     "name": "stdout",
     "output_type": "stream",
     "text": [
      "END OF EPOCH: 3000 \n",
      " Training loss per image: -0.706775\n",
      " Training_dev loss per image: -0.748855\n",
      " Test_dev loss per image: -0.522876\n"
     ]
    },
    {
     "name": "stderr",
     "output_type": "stream",
     "text": [
      " 40%|████      | 4000/10000 [55:08<1:21:58,  1.22it/s]"
     ]
    },
    {
     "name": "stdout",
     "output_type": "stream",
     "text": [
      "END OF EPOCH: 4000 \n",
      " Training loss per image: -0.725188\n",
      " Training_dev loss per image: -0.762230\n",
      " Test_dev loss per image: -0.516147\n"
     ]
    },
    {
     "name": "stderr",
     "output_type": "stream",
     "text": [
      " 50%|█████     | 5000/10000 [1:08:54<1:08:53,  1.21it/s]"
     ]
    },
    {
     "name": "stdout",
     "output_type": "stream",
     "text": [
      "END OF EPOCH: 5000 \n",
      " Training loss per image: -0.758568\n",
      " Training_dev loss per image: -0.768943\n",
      " Test_dev loss per image: -0.520772\n"
     ]
    },
    {
     "name": "stderr",
     "output_type": "stream",
     "text": [
      " 60%|██████    | 6000/10000 [1:22:41<55:04,  1.21it/s]  "
     ]
    },
    {
     "name": "stdout",
     "output_type": "stream",
     "text": [
      "END OF EPOCH: 6000 \n",
      " Training loss per image: -0.776427\n",
      " Training_dev loss per image: -0.765668\n",
      " Test_dev loss per image: -0.526334\n"
     ]
    },
    {
     "name": "stderr",
     "output_type": "stream",
     "text": [
      " 70%|███████   | 7000/10000 [1:36:26<41:27,  1.21it/s]"
     ]
    },
    {
     "name": "stdout",
     "output_type": "stream",
     "text": [
      "END OF EPOCH: 7000 \n",
      " Training loss per image: -0.794553\n",
      " Training_dev loss per image: -0.766382\n",
      " Test_dev loss per image: -0.525059\n"
     ]
    },
    {
     "name": "stderr",
     "output_type": "stream",
     "text": [
      " 80%|████████  | 8000/10000 [1:50:12<27:41,  1.20it/s]"
     ]
    },
    {
     "name": "stdout",
     "output_type": "stream",
     "text": [
      "END OF EPOCH: 8000 \n",
      " Training loss per image: -0.802377\n",
      " Training_dev loss per image: -0.768417\n",
      " Test_dev loss per image: -0.526910\n"
     ]
    },
    {
     "name": "stderr",
     "output_type": "stream",
     "text": [
      " 83%|████████▎ | 8302/10000 [1:54:22<23:23,  1.21it/s]\n"
     ]
    }
   ],
   "source": [
    "model_parameters=[[8,2,0,0],[32,1,0,0], [8,2,1,32], [32,1,1,32]]#\n",
    "learning_rates = [0.0001,0.00001,0.000001]\n",
    "\n",
    "n_epochs=10000\n",
    "\n",
    "folder='../../1_Data/3_Trained_classifier_finetuning_classification/'\n",
    "\n",
    "for parameters in model_parameters:\n",
    "    for learning_rate in learning_rates:\n",
    "\n",
    "        # Initialize the proper model\n",
    "        classifying_network = Classify_chiasm(parameters[0],parameters[1], parameters[2], parameters[3])\n",
    "        classifying_network.freeze_feature_extraction()\n",
    "\n",
    "        # Optimizer    \n",
    "        optimizer = torch.optim.Adam(params=filter(lambda p: p.requires_grad, classifying_network.parameters()), lr=learning_rate)\n",
    "        #optimizer = torch.optim.Adam(params=classifying_network.parameters(), lr=0.00005)\n",
    "\n",
    "        # Create output folder\n",
    "        data_folder = folder+'/'+str(parameters[0])+'_'+str(parameters[1])+'_'+str(parameters[2])+'_'+str(parameters[3])+'_'+str(learning_rate)+'/'\n",
    "        os.makedirs(data_folder, exist_ok=True)\n",
    "\n",
    "        # Train & save weights\n",
    "        train_loss, dev_train_loss, dev_test_loss, train_acc, dev_train_acc, dev_test_acc = train_network(n_epochs, dataloaders_chiasm, classifying_network, optimizer, criterion, device, data_folder)\n",
    "\n",
    "        # Save losses\n",
    "        with open(data_folder+'train_loss.pkl', 'wb') as f:\n",
    "            pickle.dump(train_loss, f)\n",
    "\n",
    "        with open(data_folder+'dev_train_loss.pkl', 'wb') as f:\n",
    "            pickle.dump(dev_train_loss, f)\n",
    "\n",
    "        with open(data_folder+'dev_test_loss.pkl', 'wb') as f:\n",
    "            pickle.dump(dev_test_loss, f)\n",
    "\n",
    "        with open(data_folder+'train_acc.pkl', 'wb') as f:\n",
    "            pickle.dump(train_acc, f)\n",
    "\n",
    "        with open(data_folder+'dev_train_acc.pkl', 'wb') as f:\n",
    "            pickle.dump(dev_train_acc, f)\n",
    "\n",
    "        with open(data_folder+'dev_test_acc.pkl', 'wb') as f:\n",
    "            pickle.dump(dev_test_acc, f)"
   ]
  },
  {
   "cell_type": "markdown",
   "metadata": {},
   "source": [
    "### Full retraining"
   ]
  },
  {
   "cell_type": "code",
   "execution_count": 18,
   "metadata": {},
   "outputs": [
    {
     "name": "stderr",
     "output_type": "stream",
     "text": [
      " 10%|█         | 1000/10000 [14:02<2:06:15,  1.19it/s]"
     ]
    },
    {
     "name": "stdout",
     "output_type": "stream",
     "text": [
      "END OF EPOCH: 1000 \n",
      " Training loss per image: -0.993951\n",
      " Training_dev loss per image: -0.809374\n",
      " Test_dev loss per image: -0.500000\n"
     ]
    },
    {
     "name": "stderr",
     "output_type": "stream",
     "text": [
      " 20%|██        | 2000/10000 [28:05<1:52:48,  1.18it/s]"
     ]
    },
    {
     "name": "stdout",
     "output_type": "stream",
     "text": [
      "END OF EPOCH: 2000 \n",
      " Training loss per image: -0.998690\n",
      " Training_dev loss per image: -0.828175\n",
      " Test_dev loss per image: -0.500000\n"
     ]
    },
    {
     "name": "stderr",
     "output_type": "stream",
     "text": [
      " 30%|███       | 3000/10000 [42:06<1:37:38,  1.19it/s]"
     ]
    },
    {
     "name": "stdout",
     "output_type": "stream",
     "text": [
      "END OF EPOCH: 3000 \n",
      " Training loss per image: -0.998138\n",
      " Training_dev loss per image: -0.858357\n",
      " Test_dev loss per image: -0.500000\n"
     ]
    },
    {
     "name": "stderr",
     "output_type": "stream",
     "text": [
      " 40%|████      | 4000/10000 [56:10<1:24:38,  1.18it/s]"
     ]
    },
    {
     "name": "stdout",
     "output_type": "stream",
     "text": [
      "END OF EPOCH: 4000 \n",
      " Training loss per image: -0.998828\n",
      " Training_dev loss per image: -0.780590\n",
      " Test_dev loss per image: -0.500000\n"
     ]
    },
    {
     "name": "stderr",
     "output_type": "stream",
     "text": [
      " 50%|█████     | 5000/10000 [1:10:15<1:10:56,  1.17it/s]"
     ]
    },
    {
     "name": "stdout",
     "output_type": "stream",
     "text": [
      "END OF EPOCH: 5000 \n",
      " Training loss per image: -0.999479\n",
      " Training_dev loss per image: -0.887074\n",
      " Test_dev loss per image: -0.500000\n"
     ]
    },
    {
     "name": "stderr",
     "output_type": "stream",
     "text": [
      " 60%|██████    | 6000/10000 [1:24:18<56:26,  1.18it/s]  "
     ]
    },
    {
     "name": "stdout",
     "output_type": "stream",
     "text": [
      "END OF EPOCH: 6000 \n",
      " Training loss per image: -0.998504\n",
      " Training_dev loss per image: -0.812323\n",
      " Test_dev loss per image: -0.500000\n"
     ]
    },
    {
     "name": "stderr",
     "output_type": "stream",
     "text": [
      " 66%|██████▋   | 6632/10000 [1:33:12<47:19,  1.19it/s]\n",
      " 10%|█         | 1000/10000 [14:01<2:06:15,  1.19it/s]"
     ]
    },
    {
     "name": "stdout",
     "output_type": "stream",
     "text": [
      "END OF EPOCH: 1000 \n",
      " Training loss per image: -0.873333\n",
      " Training_dev loss per image: -0.838850\n",
      " Test_dev loss per image: -0.500000\n"
     ]
    },
    {
     "name": "stderr",
     "output_type": "stream",
     "text": [
      " 20%|██        | 2000/10000 [28:02<1:50:54,  1.20it/s]"
     ]
    },
    {
     "name": "stdout",
     "output_type": "stream",
     "text": [
      "END OF EPOCH: 2000 \n",
      " Training loss per image: -0.915291\n",
      " Training_dev loss per image: -0.832792\n",
      " Test_dev loss per image: -0.500000\n"
     ]
    },
    {
     "name": "stderr",
     "output_type": "stream",
     "text": [
      " 30%|███       | 3000/10000 [42:03<1:38:18,  1.19it/s]"
     ]
    },
    {
     "name": "stdout",
     "output_type": "stream",
     "text": [
      "END OF EPOCH: 3000 \n",
      " Training loss per image: -0.971368\n",
      " Training_dev loss per image: -0.798695\n",
      " Test_dev loss per image: -0.500000\n"
     ]
    },
    {
     "name": "stderr",
     "output_type": "stream",
     "text": [
      " 40%|████      | 4000/10000 [56:04<1:23:52,  1.19it/s]"
     ]
    },
    {
     "name": "stdout",
     "output_type": "stream",
     "text": [
      "END OF EPOCH: 4000 \n",
      " Training loss per image: -0.970503\n",
      " Training_dev loss per image: -0.798122\n",
      " Test_dev loss per image: -0.500000\n"
     ]
    },
    {
     "name": "stderr",
     "output_type": "stream",
     "text": [
      " 41%|████▏     | 4141/10000 [58:04<1:22:09,  1.19it/s]\n",
      " 10%|█         | 1000/10000 [14:00<2:05:20,  1.20it/s]"
     ]
    },
    {
     "name": "stdout",
     "output_type": "stream",
     "text": [
      "END OF EPOCH: 1000 \n",
      " Training loss per image: -0.671642\n",
      " Training_dev loss per image: -0.724726\n",
      " Test_dev loss per image: -0.515821\n"
     ]
    },
    {
     "name": "stderr",
     "output_type": "stream",
     "text": [
      " 20%|██        | 2000/10000 [28:07<1:53:18,  1.18it/s]"
     ]
    },
    {
     "name": "stdout",
     "output_type": "stream",
     "text": [
      "END OF EPOCH: 2000 \n",
      " Training loss per image: -0.711277\n",
      " Training_dev loss per image: -0.766014\n",
      " Test_dev loss per image: -0.505947\n"
     ]
    },
    {
     "name": "stderr",
     "output_type": "stream",
     "text": [
      " 30%|███       | 3000/10000 [42:48<1:40:50,  1.16it/s]"
     ]
    },
    {
     "name": "stdout",
     "output_type": "stream",
     "text": [
      "END OF EPOCH: 3000 \n",
      " Training loss per image: -0.769307\n",
      " Training_dev loss per image: -0.788855\n",
      " Test_dev loss per image: -0.503425\n"
     ]
    },
    {
     "name": "stderr",
     "output_type": "stream",
     "text": [
      " 40%|████      | 4000/10000 [57:32<1:32:17,  1.08it/s]"
     ]
    },
    {
     "name": "stdout",
     "output_type": "stream",
     "text": [
      "END OF EPOCH: 4000 \n",
      " Training loss per image: -0.801892\n",
      " Training_dev loss per image: -0.808991\n",
      " Test_dev loss per image: -0.502524\n"
     ]
    },
    {
     "name": "stderr",
     "output_type": "stream",
     "text": [
      " 50%|█████     | 5000/10000 [1:12:25<1:10:55,  1.18it/s]"
     ]
    },
    {
     "name": "stdout",
     "output_type": "stream",
     "text": [
      "END OF EPOCH: 5000 \n",
      " Training loss per image: -0.834803\n",
      " Training_dev loss per image: -0.813374\n",
      " Test_dev loss per image: -0.500527\n"
     ]
    },
    {
     "name": "stderr",
     "output_type": "stream",
     "text": [
      " 60%|██████    | 6000/10000 [1:27:07<55:55,  1.19it/s]  "
     ]
    },
    {
     "name": "stdout",
     "output_type": "stream",
     "text": [
      "END OF EPOCH: 6000 \n",
      " Training loss per image: -0.855339\n",
      " Training_dev loss per image: -0.820247\n",
      " Test_dev loss per image: -0.500163\n"
     ]
    },
    {
     "name": "stderr",
     "output_type": "stream",
     "text": [
      " 70%|███████   | 7000/10000 [1:41:11<42:40,  1.17it/s]"
     ]
    },
    {
     "name": "stdout",
     "output_type": "stream",
     "text": [
      "END OF EPOCH: 7000 \n",
      " Training loss per image: -0.878643\n",
      " Training_dev loss per image: -0.824459\n",
      " Test_dev loss per image: -0.500070\n"
     ]
    },
    {
     "name": "stderr",
     "output_type": "stream",
     "text": [
      " 80%|████████  | 8000/10000 [1:55:24<29:01,  1.15it/s]"
     ]
    },
    {
     "name": "stdout",
     "output_type": "stream",
     "text": [
      "END OF EPOCH: 8000 \n",
      " Training loss per image: -0.867799\n",
      " Training_dev loss per image: -0.829472\n",
      " Test_dev loss per image: -0.500032\n"
     ]
    },
    {
     "name": "stderr",
     "output_type": "stream",
     "text": [
      " 90%|█████████ | 9000/10000 [2:10:07<14:44,  1.13it/s]"
     ]
    },
    {
     "name": "stdout",
     "output_type": "stream",
     "text": [
      "END OF EPOCH: 9000 \n",
      " Training loss per image: -0.896081\n",
      " Training_dev loss per image: -0.822837\n",
      " Test_dev loss per image: -0.500002\n"
     ]
    },
    {
     "name": "stderr",
     "output_type": "stream",
     "text": [
      "100%|██████████| 10000/10000 [2:24:45<00:00,  1.15it/s]\n",
      "  0%|          | 0/10000 [00:00<?, ?it/s]"
     ]
    },
    {
     "name": "stdout",
     "output_type": "stream",
     "text": [
      "END OF EPOCH: 10000 \n",
      " Training loss per image: -0.888820\n",
      " Training_dev loss per image: -0.827272\n",
      " Test_dev loss per image: -0.500001\n"
     ]
    },
    {
     "name": "stderr",
     "output_type": "stream",
     "text": [
      " 10%|█         | 1000/10000 [14:26<2:09:50,  1.16it/s]"
     ]
    },
    {
     "name": "stdout",
     "output_type": "stream",
     "text": [
      "END OF EPOCH: 1000 \n",
      " Training loss per image: -0.953936\n",
      " Training_dev loss per image: -0.613589\n",
      " Test_dev loss per image: -0.500000\n"
     ]
    },
    {
     "name": "stderr",
     "output_type": "stream",
     "text": [
      " 20%|██        | 2000/10000 [29:03<1:54:35,  1.16it/s]"
     ]
    },
    {
     "name": "stdout",
     "output_type": "stream",
     "text": [
      "END OF EPOCH: 2000 \n",
      " Training loss per image: -0.980297\n",
      " Training_dev loss per image: -0.645747\n",
      " Test_dev loss per image: -0.500000\n"
     ]
    },
    {
     "name": "stderr",
     "output_type": "stream",
     "text": [
      " 20%|██        | 2024/10000 [29:25<1:55:56,  1.15it/s]\n",
      " 10%|█         | 1000/10000 [14:38<2:13:27,  1.12it/s]"
     ]
    },
    {
     "name": "stdout",
     "output_type": "stream",
     "text": [
      "END OF EPOCH: 1000 \n",
      " Training loss per image: -0.830259\n",
      " Training_dev loss per image: -0.727837\n",
      " Test_dev loss per image: -0.510480\n"
     ]
    },
    {
     "name": "stderr",
     "output_type": "stream",
     "text": [
      " 20%|██        | 2000/10000 [29:34<1:57:22,  1.14it/s]"
     ]
    },
    {
     "name": "stdout",
     "output_type": "stream",
     "text": [
      "END OF EPOCH: 2000 \n",
      " Training loss per image: -0.876975\n",
      " Training_dev loss per image: -0.669699\n",
      " Test_dev loss per image: -0.500078\n"
     ]
    },
    {
     "name": "stderr",
     "output_type": "stream",
     "text": [
      " 25%|██▌       | 2507/10000 [36:58<1:50:29,  1.13it/s]\n",
      " 10%|█         | 1000/10000 [14:30<2:08:27,  1.17it/s]"
     ]
    },
    {
     "name": "stdout",
     "output_type": "stream",
     "text": [
      "END OF EPOCH: 1000 \n",
      " Training loss per image: -0.619345\n",
      " Training_dev loss per image: -0.671420\n",
      " Test_dev loss per image: -0.515902\n"
     ]
    },
    {
     "name": "stderr",
     "output_type": "stream",
     "text": [
      " 20%|██        | 2000/10000 [28:45<1:52:48,  1.18it/s]"
     ]
    },
    {
     "name": "stdout",
     "output_type": "stream",
     "text": [
      "END OF EPOCH: 2000 \n",
      " Training loss per image: -0.675469\n",
      " Training_dev loss per image: -0.748868\n",
      " Test_dev loss per image: -0.504720\n"
     ]
    },
    {
     "name": "stderr",
     "output_type": "stream",
     "text": [
      " 30%|███       | 3000/10000 [43:14<1:39:26,  1.17it/s]"
     ]
    },
    {
     "name": "stdout",
     "output_type": "stream",
     "text": [
      "END OF EPOCH: 3000 \n",
      " Training loss per image: -0.737505\n",
      " Training_dev loss per image: -0.777947\n",
      " Test_dev loss per image: -0.502364\n"
     ]
    },
    {
     "name": "stderr",
     "output_type": "stream",
     "text": [
      " 40%|████      | 4000/10000 [57:22<1:24:38,  1.18it/s]"
     ]
    },
    {
     "name": "stdout",
     "output_type": "stream",
     "text": [
      "END OF EPOCH: 4000 \n",
      " Training loss per image: -0.737952\n",
      " Training_dev loss per image: -0.789127\n",
      " Test_dev loss per image: -0.501967\n"
     ]
    },
    {
     "name": "stderr",
     "output_type": "stream",
     "text": [
      " 50%|█████     | 5000/10000 [1:11:27<1:10:37,  1.18it/s]"
     ]
    },
    {
     "name": "stdout",
     "output_type": "stream",
     "text": [
      "END OF EPOCH: 5000 \n",
      " Training loss per image: -0.768258\n",
      " Training_dev loss per image: -0.791305\n",
      " Test_dev loss per image: -0.501877\n"
     ]
    },
    {
     "name": "stderr",
     "output_type": "stream",
     "text": [
      " 60%|██████    | 6000/10000 [1:25:33<56:14,  1.19it/s]  "
     ]
    },
    {
     "name": "stdout",
     "output_type": "stream",
     "text": [
      "END OF EPOCH: 6000 \n",
      " Training loss per image: -0.772227\n",
      " Training_dev loss per image: -0.798016\n",
      " Test_dev loss per image: -0.502500\n"
     ]
    },
    {
     "name": "stderr",
     "output_type": "stream",
     "text": [
      " 70%|███████   | 7000/10000 [1:39:40<42:29,  1.18it/s]"
     ]
    },
    {
     "name": "stdout",
     "output_type": "stream",
     "text": [
      "END OF EPOCH: 7000 \n",
      " Training loss per image: -0.793251\n",
      " Training_dev loss per image: -0.794573\n",
      " Test_dev loss per image: -0.502662\n"
     ]
    },
    {
     "name": "stderr",
     "output_type": "stream",
     "text": [
      " 76%|███████▌  | 7558/10000 [1:47:33<34:45,  1.17it/s]\n",
      " 10%|█         | 1000/10000 [13:56<2:05:30,  1.20it/s]"
     ]
    },
    {
     "name": "stdout",
     "output_type": "stream",
     "text": [
      "END OF EPOCH: 1000 \n",
      " Training loss per image: -0.998573\n",
      " Training_dev loss per image: -0.856715\n",
      " Test_dev loss per image: -0.500000\n"
     ]
    },
    {
     "name": "stderr",
     "output_type": "stream",
     "text": [
      " 20%|██        | 2000/10000 [27:54<1:52:17,  1.19it/s]"
     ]
    },
    {
     "name": "stdout",
     "output_type": "stream",
     "text": [
      "END OF EPOCH: 2000 \n",
      " Training loss per image: -0.999790\n",
      " Training_dev loss per image: -0.823370\n",
      " Test_dev loss per image: -0.500000\n"
     ]
    },
    {
     "name": "stderr",
     "output_type": "stream",
     "text": [
      " 30%|███       | 3000/10000 [41:51<1:37:36,  1.20it/s]"
     ]
    },
    {
     "name": "stdout",
     "output_type": "stream",
     "text": [
      "END OF EPOCH: 3000 \n",
      " Training loss per image: -0.999924\n",
      " Training_dev loss per image: -0.794081\n",
      " Test_dev loss per image: -0.500000\n"
     ]
    },
    {
     "name": "stderr",
     "output_type": "stream",
     "text": [
      " 40%|████      | 4000/10000 [55:47<1:23:34,  1.20it/s]"
     ]
    },
    {
     "name": "stdout",
     "output_type": "stream",
     "text": [
      "END OF EPOCH: 4000 \n",
      " Training loss per image: -0.999996\n",
      " Training_dev loss per image: -0.787624\n",
      " Test_dev loss per image: -0.500000\n"
     ]
    },
    {
     "name": "stderr",
     "output_type": "stream",
     "text": [
      " 43%|████▎     | 4257/10000 [59:23<1:20:07,  1.19it/s]\n",
      " 10%|█         | 1000/10000 [14:30<2:10:43,  1.15it/s]"
     ]
    },
    {
     "name": "stdout",
     "output_type": "stream",
     "text": [
      "END OF EPOCH: 1000 \n",
      " Training loss per image: -0.921320\n",
      " Training_dev loss per image: -0.848451\n",
      " Test_dev loss per image: -0.500000\n"
     ]
    },
    {
     "name": "stderr",
     "output_type": "stream",
     "text": [
      " 20%|██        | 2000/10000 [29:18<1:52:23,  1.19it/s]"
     ]
    },
    {
     "name": "stdout",
     "output_type": "stream",
     "text": [
      "END OF EPOCH: 2000 \n",
      " Training loss per image: -0.951178\n",
      " Training_dev loss per image: -0.803471\n",
      " Test_dev loss per image: -0.500000\n"
     ]
    },
    {
     "name": "stderr",
     "output_type": "stream",
     "text": [
      " 27%|██▋       | 2658/10000 [38:56<1:47:33,  1.14it/s]\n",
      " 10%|█         | 1000/10000 [14:19<2:07:19,  1.18it/s]"
     ]
    },
    {
     "name": "stdout",
     "output_type": "stream",
     "text": [
      "END OF EPOCH: 1000 \n",
      " Training loss per image: -0.673844\n",
      " Training_dev loss per image: -0.735431\n",
      " Test_dev loss per image: -0.508639\n"
     ]
    },
    {
     "name": "stderr",
     "output_type": "stream",
     "text": [
      " 20%|██        | 2000/10000 [28:31<1:53:13,  1.18it/s]"
     ]
    },
    {
     "name": "stdout",
     "output_type": "stream",
     "text": [
      "END OF EPOCH: 2000 \n",
      " Training loss per image: -0.757940\n",
      " Training_dev loss per image: -0.795146\n",
      " Test_dev loss per image: -0.505337\n"
     ]
    },
    {
     "name": "stderr",
     "output_type": "stream",
     "text": [
      " 30%|███       | 3000/10000 [42:42<1:39:30,  1.17it/s]"
     ]
    },
    {
     "name": "stdout",
     "output_type": "stream",
     "text": [
      "END OF EPOCH: 3000 \n",
      " Training loss per image: -0.819601\n",
      " Training_dev loss per image: -0.813732\n",
      " Test_dev loss per image: -0.502455\n"
     ]
    },
    {
     "name": "stderr",
     "output_type": "stream",
     "text": [
      " 40%|████      | 4000/10000 [56:53<1:25:02,  1.18it/s]"
     ]
    },
    {
     "name": "stdout",
     "output_type": "stream",
     "text": [
      "END OF EPOCH: 4000 \n",
      " Training loss per image: -0.850551\n",
      " Training_dev loss per image: -0.837722\n",
      " Test_dev loss per image: -0.500730\n"
     ]
    },
    {
     "name": "stderr",
     "output_type": "stream",
     "text": [
      " 50%|█████     | 5000/10000 [1:11:10<1:11:51,  1.16it/s]"
     ]
    },
    {
     "name": "stdout",
     "output_type": "stream",
     "text": [
      "END OF EPOCH: 5000 \n",
      " Training loss per image: -0.864494\n",
      " Training_dev loss per image: -0.843786\n",
      " Test_dev loss per image: -0.500094\n"
     ]
    },
    {
     "name": "stderr",
     "output_type": "stream",
     "text": [
      " 60%|██████    | 6000/10000 [1:25:44<59:56,  1.11it/s]  "
     ]
    },
    {
     "name": "stdout",
     "output_type": "stream",
     "text": [
      "END OF EPOCH: 6000 \n",
      " Training loss per image: -0.884757\n",
      " Training_dev loss per image: -0.839045\n",
      " Test_dev loss per image: -0.500007\n"
     ]
    },
    {
     "name": "stderr",
     "output_type": "stream",
     "text": [
      " 70%|███████   | 7000/10000 [1:40:16<45:29,  1.10it/s]  "
     ]
    },
    {
     "name": "stdout",
     "output_type": "stream",
     "text": [
      "END OF EPOCH: 7000 \n",
      " Training loss per image: -0.897564\n",
      " Training_dev loss per image: -0.842193\n",
      " Test_dev loss per image: -0.500003\n"
     ]
    },
    {
     "name": "stderr",
     "output_type": "stream",
     "text": [
      " 72%|███████▏  | 7240/10000 [1:43:56<39:37,  1.16it/s]\n",
      " 10%|█         | 1000/10000 [14:44<2:07:49,  1.17it/s]"
     ]
    },
    {
     "name": "stdout",
     "output_type": "stream",
     "text": [
      "END OF EPOCH: 1000 \n",
      " Training loss per image: -0.982703\n",
      " Training_dev loss per image: -0.598849\n",
      " Test_dev loss per image: -0.500000\n"
     ]
    },
    {
     "name": "stderr",
     "output_type": "stream",
     "text": [
      " 20%|██        | 2000/10000 [29:26<2:00:32,  1.11it/s]"
     ]
    },
    {
     "name": "stdout",
     "output_type": "stream",
     "text": [
      "END OF EPOCH: 2000 \n",
      " Training loss per image: -0.984078\n",
      " Training_dev loss per image: -0.679347\n",
      " Test_dev loss per image: -0.500000\n"
     ]
    },
    {
     "name": "stderr",
     "output_type": "stream",
     "text": [
      " 20%|██        | 2048/10000 [30:11<1:57:14,  1.13it/s]\n",
      " 10%|█         | 1000/10000 [14:53<2:16:21,  1.10it/s]"
     ]
    },
    {
     "name": "stdout",
     "output_type": "stream",
     "text": [
      "END OF EPOCH: 1000 \n",
      " Training loss per image: -0.880177\n",
      " Training_dev loss per image: -0.715847\n",
      " Test_dev loss per image: -0.500174\n"
     ]
    },
    {
     "name": "stderr",
     "output_type": "stream",
     "text": [
      " 20%|██        | 2000/10000 [29:43<1:54:37,  1.16it/s]"
     ]
    },
    {
     "name": "stdout",
     "output_type": "stream",
     "text": [
      "END OF EPOCH: 2000 \n",
      " Training loss per image: -0.920277\n",
      " Training_dev loss per image: -0.647011\n",
      " Test_dev loss per image: -0.500000\n"
     ]
    },
    {
     "name": "stderr",
     "output_type": "stream",
     "text": [
      " 23%|██▎       | 2339/10000 [35:03<1:54:49,  1.11it/s]\n",
      " 10%|█         | 1000/10000 [14:47<2:09:01,  1.16it/s]"
     ]
    },
    {
     "name": "stdout",
     "output_type": "stream",
     "text": [
      "END OF EPOCH: 1000 \n",
      " Training loss per image: -0.637799\n",
      " Training_dev loss per image: -0.692406\n",
      " Test_dev loss per image: -0.510675\n"
     ]
    },
    {
     "name": "stderr",
     "output_type": "stream",
     "text": [
      " 20%|██        | 2000/10000 [29:11<1:54:31,  1.16it/s]"
     ]
    },
    {
     "name": "stdout",
     "output_type": "stream",
     "text": [
      "END OF EPOCH: 2000 \n",
      " Training loss per image: -0.723683\n",
      " Training_dev loss per image: -0.757574\n",
      " Test_dev loss per image: -0.504192\n"
     ]
    },
    {
     "name": "stderr",
     "output_type": "stream",
     "text": [
      " 30%|███       | 3000/10000 [43:23<1:39:30,  1.17it/s]"
     ]
    },
    {
     "name": "stdout",
     "output_type": "stream",
     "text": [
      "END OF EPOCH: 3000 \n",
      " Training loss per image: -0.767023\n",
      " Training_dev loss per image: -0.784232\n",
      " Test_dev loss per image: -0.505668\n"
     ]
    },
    {
     "name": "stderr",
     "output_type": "stream",
     "text": [
      " 40%|████      | 4000/10000 [57:33<1:24:47,  1.18it/s]"
     ]
    },
    {
     "name": "stdout",
     "output_type": "stream",
     "text": [
      "END OF EPOCH: 4000 \n",
      " Training loss per image: -0.778778\n",
      " Training_dev loss per image: -0.771515\n",
      " Test_dev loss per image: -0.508545\n"
     ]
    },
    {
     "name": "stderr",
     "output_type": "stream",
     "text": [
      " 50%|█████     | 5000/10000 [1:11:44<1:11:27,  1.17it/s]"
     ]
    },
    {
     "name": "stdout",
     "output_type": "stream",
     "text": [
      "END OF EPOCH: 5000 \n",
      " Training loss per image: -0.806221\n",
      " Training_dev loss per image: -0.771277\n",
      " Test_dev loss per image: -0.508780\n"
     ]
    },
    {
     "name": "stderr",
     "output_type": "stream",
     "text": [
      " 60%|██████    | 6000/10000 [1:25:55<57:14,  1.16it/s]  "
     ]
    },
    {
     "name": "stdout",
     "output_type": "stream",
     "text": [
      "END OF EPOCH: 6000 \n",
      " Training loss per image: -0.806230\n",
      " Training_dev loss per image: -0.755691\n",
      " Test_dev loss per image: -0.509324\n"
     ]
    },
    {
     "name": "stderr",
     "output_type": "stream",
     "text": [
      " 62%|██████▏   | 6158/10000 [1:28:11<55:01,  1.16it/s]\n"
     ]
    }
   ],
   "source": [
    "model_parameters=[[8,2,0,0],[32,1,0,0], [8,2,1,32], [32,1,1,32]]#\n",
    "learning_rates = [0.0001,0.00001,0.000001]\n",
    "\n",
    "n_epochs=10000\n",
    "\n",
    "folder='../../1_Data/3_Trained_classifier_full_retraining/'\n",
    "\n",
    "for parameters in model_parameters:\n",
    "    for learning_rate in learning_rates:\n",
    "\n",
    "        # Initialize the proper model\n",
    "        classifying_network = Classify_chiasm(parameters[0],parameters[1], parameters[2], parameters[3])\n",
    "\n",
    "        # Optimizer    \n",
    "        optimizer = torch.optim.Adam(params=filter(lambda p: p.requires_grad, classifying_network.parameters()), lr=learning_rate)\n",
    "        #optimizer = torch.optim.Adam(params=classifying_network.parameters(), lr=0.00005)\n",
    "\n",
    "        # Create output folder\n",
    "        data_folder = folder+'/'+str(parameters[0])+'_'+str(parameters[1])+'_'+str(parameters[2])+'_'+str(parameters[3])+'_'+str(learning_rate)+'/'\n",
    "        os.makedirs(data_folder, exist_ok=True)\n",
    "\n",
    "        # Train & save weights\n",
    "        train_loss, dev_train_loss, dev_test_loss, train_acc, dev_train_acc, dev_test_acc = train_network(n_epochs, dataloaders_chiasm, classifying_network, optimizer, criterion, device, data_folder)\n",
    "\n",
    "        # Save losses\n",
    "        with open(data_folder+'train_loss.pkl', 'wb') as f:\n",
    "            pickle.dump(train_loss, f)\n",
    "\n",
    "        with open(data_folder+'dev_train_loss.pkl', 'wb') as f:\n",
    "            pickle.dump(dev_train_loss, f)\n",
    "\n",
    "        with open(data_folder+'dev_test_loss.pkl', 'wb') as f:\n",
    "            pickle.dump(dev_test_loss, f)\n",
    "\n",
    "        with open(data_folder+'train_acc.pkl', 'wb') as f:\n",
    "            pickle.dump(train_acc, f)\n",
    "\n",
    "        with open(data_folder+'dev_train_acc.pkl', 'wb') as f:\n",
    "            pickle.dump(dev_train_acc, f)\n",
    "\n",
    "        with open(data_folder+'dev_test_acc.pkl', 'wb') as f:\n",
    "            pickle.dump(dev_test_acc, f)"
   ]
  },
  {
   "cell_type": "markdown",
   "metadata": {},
   "source": [
    "### Fine-tuning of feature selection"
   ]
  },
  {
   "cell_type": "code",
   "execution_count": 30,
   "metadata": {},
   "outputs": [
    {
     "name": "stdout",
     "output_type": "stream",
     "text": [
      "['8', '2', '0', '0', '1e-06']\n",
      "['32', '1', '0', '0', '1e-06']\n",
      "['32', '1', '0', '0', '0.0001']\n",
      "['8', '2', '1', '32', '0.0001']\n",
      "['8', '2', '0', '0', '0.0001']\n",
      "['32', '1', '1', '32', '1e-06']\n",
      "['8', '2', '1', '32', '1e-06']\n",
      "['32', '1', '1', '32', '0.0001']\n",
      "['8', '2', '1', '32', '1e-05']\n",
      "['8', '2', '0', '0', '1e-05']\n",
      "['32', '1', '1', '32', '1e-05']\n",
      "['32', '1', '0', '0', '1e-05']\n"
     ]
    }
   ],
   "source": [
    "input_folder='../../1_Data/3_Trained_classifier_finetuning_classification/'\n",
    "output_folder='../../1_Data/3_Trained_classifier_finetuning_classification_feature_extraction/'\n",
    "\n",
    "networks = [os.path.basename(x[0]) for x in os.walk(input_folder)]\n",
    "networks=networks[1:]\n",
    "\n",
    "for network in networks:\n",
    "    \n",
    "    params=network.split('_')\n",
    "    print(params)"
   ]
  },
  {
   "cell_type": "code",
   "execution_count": 31,
   "metadata": {},
   "outputs": [
    {
     "name": "stderr",
     "output_type": "stream",
     "text": [
      "\r",
      "  0%|          | 0/10000 [00:00<?, ?it/s]"
     ]
    },
    {
     "name": "stdout",
     "output_type": "stream",
     "text": [
      "8_2_1_32_1e-06\n"
     ]
    },
    {
     "name": "stderr",
     "output_type": "stream",
     "text": [
      " 10%|█         | 1000/10000 [16:30<2:28:20,  1.01it/s]"
     ]
    },
    {
     "name": "stdout",
     "output_type": "stream",
     "text": [
      "END OF EPOCH: 1000 \n",
      " Training loss per image: -0.999307\n",
      " Training_dev loss per image: -0.887357\n",
      " Test_dev loss per image: -0.500000\n"
     ]
    },
    {
     "name": "stderr",
     "output_type": "stream",
     "text": [
      " 20%|██        | 2000/10000 [33:09<2:10:02,  1.03it/s]"
     ]
    },
    {
     "name": "stdout",
     "output_type": "stream",
     "text": [
      "END OF EPOCH: 2000 \n",
      " Training loss per image: -0.999912\n",
      " Training_dev loss per image: -0.906494\n",
      " Test_dev loss per image: -0.500000\n"
     ]
    },
    {
     "name": "stderr",
     "output_type": "stream",
     "text": [
      " 30%|███       | 3000/10000 [49:48<1:55:11,  1.01it/s]"
     ]
    },
    {
     "name": "stdout",
     "output_type": "stream",
     "text": [
      "END OF EPOCH: 3000 \n",
      " Training loss per image: -1.000000\n",
      " Training_dev loss per image: -0.892843\n",
      " Test_dev loss per image: -0.500000\n"
     ]
    },
    {
     "name": "stderr",
     "output_type": "stream",
     "text": [
      " 40%|████      | 4000/10000 [1:06:20<1:39:20,  1.01it/s]"
     ]
    },
    {
     "name": "stdout",
     "output_type": "stream",
     "text": [
      "END OF EPOCH: 4000 \n",
      " Training loss per image: -0.999977\n",
      " Training_dev loss per image: -0.893777\n",
      " Test_dev loss per image: -0.500000\n"
     ]
    },
    {
     "name": "stderr",
     "output_type": "stream",
     "text": [
      " 48%|████▊     | 4776/10000 [1:19:09<1:26:35,  1.01it/s]\n",
      "  0%|          | 0/10000 [00:00<?, ?it/s]"
     ]
    },
    {
     "name": "stdout",
     "output_type": "stream",
     "text": [
      "8_2_1_32_0.0001\n"
     ]
    },
    {
     "name": "stderr",
     "output_type": "stream",
     "text": [
      " 10%|█         | 1000/10000 [16:45<2:35:33,  1.04s/it]"
     ]
    },
    {
     "name": "stdout",
     "output_type": "stream",
     "text": [
      "END OF EPOCH: 1000 \n",
      " Training loss per image: -0.999987\n",
      " Training_dev loss per image: -0.884138\n",
      " Test_dev loss per image: -0.500000\n"
     ]
    },
    {
     "name": "stderr",
     "output_type": "stream",
     "text": [
      " 20%|██        | 2000/10000 [34:33<2:16:08,  1.02s/it]"
     ]
    },
    {
     "name": "stdout",
     "output_type": "stream",
     "text": [
      "END OF EPOCH: 2000 \n",
      " Training loss per image: -0.999878\n",
      " Training_dev loss per image: -0.884352\n",
      " Test_dev loss per image: -0.500000\n"
     ]
    },
    {
     "name": "stderr",
     "output_type": "stream",
     "text": [
      " 30%|███       | 3000/10000 [51:26<1:55:34,  1.01it/s]"
     ]
    },
    {
     "name": "stdout",
     "output_type": "stream",
     "text": [
      "END OF EPOCH: 3000 \n",
      " Training loss per image: -0.999996\n",
      " Training_dev loss per image: -0.814591\n",
      " Test_dev loss per image: -0.500000\n"
     ]
    },
    {
     "name": "stderr",
     "output_type": "stream",
     "text": [
      " 32%|███▏      | 3233/10000 [55:17<1:55:43,  1.03s/it]\n",
      "  0%|          | 0/10000 [00:00<?, ?it/s]"
     ]
    },
    {
     "name": "stdout",
     "output_type": "stream",
     "text": [
      "8_2_0_0_0.0001\n"
     ]
    },
    {
     "name": "stderr",
     "output_type": "stream",
     "text": [
      " 10%|█         | 1000/10000 [16:24<2:26:40,  1.02it/s]"
     ]
    },
    {
     "name": "stdout",
     "output_type": "stream",
     "text": [
      "END OF EPOCH: 1000 \n",
      " Training loss per image: -0.999962\n",
      " Training_dev loss per image: -0.880040\n",
      " Test_dev loss per image: -0.500000\n"
     ]
    },
    {
     "name": "stderr",
     "output_type": "stream",
     "text": [
      " 20%|██        | 2000/10000 [32:44<2:09:50,  1.03it/s]"
     ]
    },
    {
     "name": "stdout",
     "output_type": "stream",
     "text": [
      "END OF EPOCH: 2000 \n",
      " Training loss per image: -0.995703\n",
      " Training_dev loss per image: -0.861269\n",
      " Test_dev loss per image: -0.500000\n"
     ]
    },
    {
     "name": "stderr",
     "output_type": "stream",
     "text": [
      " 30%|███       | 3000/10000 [49:02<1:54:00,  1.02it/s]"
     ]
    },
    {
     "name": "stdout",
     "output_type": "stream",
     "text": [
      "END OF EPOCH: 3000 \n",
      " Training loss per image: -0.999999\n",
      " Training_dev loss per image: -0.893573\n",
      " Test_dev loss per image: -0.500000\n"
     ]
    },
    {
     "name": "stderr",
     "output_type": "stream",
     "text": [
      " 40%|████      | 4000/10000 [1:05:24<1:37:36,  1.02it/s]"
     ]
    },
    {
     "name": "stdout",
     "output_type": "stream",
     "text": [
      "END OF EPOCH: 4000 \n",
      " Training loss per image: -0.999992\n",
      " Training_dev loss per image: -0.954667\n",
      " Test_dev loss per image: -0.500000\n"
     ]
    },
    {
     "name": "stderr",
     "output_type": "stream",
     "text": [
      " 50%|█████     | 5000/10000 [1:21:42<1:21:35,  1.02it/s]"
     ]
    },
    {
     "name": "stdout",
     "output_type": "stream",
     "text": [
      "END OF EPOCH: 5000 \n",
      " Training loss per image: -1.000000\n",
      " Training_dev loss per image: -0.887467\n",
      " Test_dev loss per image: -0.500000\n"
     ]
    },
    {
     "name": "stderr",
     "output_type": "stream",
     "text": [
      " 54%|█████▍    | 5402/10000 [1:28:15<1:15:06,  1.02it/s]\n",
      "  0%|          | 0/10000 [00:00<?, ?it/s]"
     ]
    },
    {
     "name": "stdout",
     "output_type": "stream",
     "text": [
      "32_1_0_0_1e-05\n"
     ]
    },
    {
     "name": "stderr",
     "output_type": "stream",
     "text": [
      " 10%|█         | 1000/10000 [16:27<2:28:33,  1.01it/s]"
     ]
    },
    {
     "name": "stdout",
     "output_type": "stream",
     "text": [
      "END OF EPOCH: 1000 \n",
      " Training loss per image: -0.994998\n",
      " Training_dev loss per image: -0.849124\n",
      " Test_dev loss per image: -0.500000\n"
     ]
    },
    {
     "name": "stderr",
     "output_type": "stream",
     "text": [
      " 20%|██        | 2000/10000 [32:55<2:11:17,  1.02it/s]"
     ]
    },
    {
     "name": "stdout",
     "output_type": "stream",
     "text": [
      "END OF EPOCH: 2000 \n",
      " Training loss per image: -0.999973\n",
      " Training_dev loss per image: -0.770230\n",
      " Test_dev loss per image: -0.500000\n"
     ]
    },
    {
     "name": "stderr",
     "output_type": "stream",
     "text": [
      " 30%|███       | 3000/10000 [49:22<1:55:15,  1.01it/s]"
     ]
    },
    {
     "name": "stdout",
     "output_type": "stream",
     "text": [
      "END OF EPOCH: 3000 \n",
      " Training loss per image: -0.999997\n",
      " Training_dev loss per image: -0.759958\n",
      " Test_dev loss per image: -0.500000\n"
     ]
    },
    {
     "name": "stderr",
     "output_type": "stream",
     "text": [
      " 33%|███▎      | 3340/10000 [54:59<1:49:39,  1.01it/s]\n",
      "  0%|          | 0/10000 [00:00<?, ?it/s]"
     ]
    },
    {
     "name": "stdout",
     "output_type": "stream",
     "text": [
      "32_1_1_32_1e-06\n"
     ]
    },
    {
     "name": "stderr",
     "output_type": "stream",
     "text": [
      " 10%|█         | 1000/10000 [16:27<2:27:35,  1.02it/s]"
     ]
    },
    {
     "name": "stdout",
     "output_type": "stream",
     "text": [
      "END OF EPOCH: 1000 \n",
      " Training loss per image: -0.995984\n",
      " Training_dev loss per image: -0.568907\n",
      " Test_dev loss per image: -0.500000\n"
     ]
    },
    {
     "name": "stderr",
     "output_type": "stream",
     "text": [
      " 20%|██        | 2000/10000 [32:54<2:11:42,  1.01it/s]"
     ]
    },
    {
     "name": "stdout",
     "output_type": "stream",
     "text": [
      "END OF EPOCH: 2000 \n",
      " Training loss per image: -0.998596\n",
      " Training_dev loss per image: -0.594735\n",
      " Test_dev loss per image: -0.500000\n"
     ]
    },
    {
     "name": "stderr",
     "output_type": "stream",
     "text": [
      " 30%|███       | 3000/10000 [49:23<1:55:22,  1.01it/s]"
     ]
    },
    {
     "name": "stdout",
     "output_type": "stream",
     "text": [
      "END OF EPOCH: 3000 \n",
      " Training loss per image: -0.999989\n",
      " Training_dev loss per image: -0.761921\n",
      " Test_dev loss per image: -0.500000\n"
     ]
    },
    {
     "name": "stderr",
     "output_type": "stream",
     "text": [
      " 40%|████      | 4000/10000 [1:05:51<1:38:31,  1.01it/s]"
     ]
    },
    {
     "name": "stdout",
     "output_type": "stream",
     "text": [
      "END OF EPOCH: 4000 \n",
      " Training loss per image: -0.999988\n",
      " Training_dev loss per image: -0.602469\n",
      " Test_dev loss per image: -0.500000\n"
     ]
    },
    {
     "name": "stderr",
     "output_type": "stream",
     "text": [
      " 50%|█████     | 5000/10000 [1:22:19<1:22:07,  1.01it/s]"
     ]
    },
    {
     "name": "stdout",
     "output_type": "stream",
     "text": [
      "END OF EPOCH: 5000 \n",
      " Training loss per image: -0.999996\n",
      " Training_dev loss per image: -0.766055\n",
      " Test_dev loss per image: -0.500000\n"
     ]
    },
    {
     "name": "stderr",
     "output_type": "stream",
     "text": [
      " 60%|██████    | 6000/10000 [1:38:47<1:05:50,  1.01it/s]"
     ]
    },
    {
     "name": "stdout",
     "output_type": "stream",
     "text": [
      "END OF EPOCH: 6000 \n",
      " Training loss per image: -0.999990\n",
      " Training_dev loss per image: -0.766114\n",
      " Test_dev loss per image: -0.500000\n"
     ]
    },
    {
     "name": "stderr",
     "output_type": "stream",
     "text": [
      " 63%|██████▎   | 6315/10000 [1:43:59<1:00:40,  1.01it/s]\n",
      "  0%|          | 0/10000 [00:00<?, ?it/s]"
     ]
    },
    {
     "name": "stdout",
     "output_type": "stream",
     "text": [
      "8_2_0_0_1e-05\n"
     ]
    },
    {
     "name": "stderr",
     "output_type": "stream",
     "text": [
      " 10%|█         | 1000/10000 [16:19<2:27:13,  1.02it/s]"
     ]
    },
    {
     "name": "stdout",
     "output_type": "stream",
     "text": [
      "END OF EPOCH: 1000 \n",
      " Training loss per image: -0.999679\n",
      " Training_dev loss per image: -0.891193\n",
      " Test_dev loss per image: -0.500000\n"
     ]
    },
    {
     "name": "stderr",
     "output_type": "stream",
     "text": [
      " 20%|██        | 2000/10000 [32:40<2:12:05,  1.01it/s]"
     ]
    },
    {
     "name": "stdout",
     "output_type": "stream",
     "text": [
      "END OF EPOCH: 2000 \n",
      " Training loss per image: -0.999959\n",
      " Training_dev loss per image: -0.893798\n",
      " Test_dev loss per image: -0.500000\n"
     ]
    },
    {
     "name": "stderr",
     "output_type": "stream",
     "text": [
      " 30%|███       | 3000/10000 [49:02<1:54:42,  1.02it/s]"
     ]
    },
    {
     "name": "stdout",
     "output_type": "stream",
     "text": [
      "END OF EPOCH: 3000 \n",
      " Training loss per image: -0.999989\n",
      " Training_dev loss per image: -0.995048\n",
      " Test_dev loss per image: -0.500000\n"
     ]
    },
    {
     "name": "stderr",
     "output_type": "stream",
     "text": [
      " 40%|████      | 4000/10000 [1:05:21<1:37:51,  1.02it/s]"
     ]
    },
    {
     "name": "stdout",
     "output_type": "stream",
     "text": [
      "END OF EPOCH: 4000 \n",
      " Training loss per image: -0.999999\n",
      " Training_dev loss per image: -0.969315\n",
      " Test_dev loss per image: -0.500000\n"
     ]
    },
    {
     "name": "stderr",
     "output_type": "stream",
     "text": [
      " 50%|█████     | 5000/10000 [1:21:41<1:22:11,  1.01it/s]"
     ]
    },
    {
     "name": "stdout",
     "output_type": "stream",
     "text": [
      "END OF EPOCH: 5000 \n",
      " Training loss per image: -1.000000\n",
      " Training_dev loss per image: -0.791290\n",
      " Test_dev loss per image: -0.500000\n"
     ]
    },
    {
     "name": "stderr",
     "output_type": "stream",
     "text": [
      " 50%|█████     | 5003/10000 [1:21:45<1:21:39,  1.02it/s]\n",
      "  0%|          | 0/10000 [00:00<?, ?it/s]"
     ]
    },
    {
     "name": "stdout",
     "output_type": "stream",
     "text": [
      "8_2_1_32_1e-06\n"
     ]
    },
    {
     "name": "stderr",
     "output_type": "stream",
     "text": [
      " 10%|█         | 1000/10000 [16:19<2:26:52,  1.02it/s]"
     ]
    },
    {
     "name": "stdout",
     "output_type": "stream",
     "text": [
      "END OF EPOCH: 1000 \n",
      " Training loss per image: -0.961851\n",
      " Training_dev loss per image: -0.815858\n",
      " Test_dev loss per image: -0.500000\n"
     ]
    },
    {
     "name": "stderr",
     "output_type": "stream",
     "text": [
      " 20%|██        | 2000/10000 [32:38<2:09:54,  1.03it/s]"
     ]
    },
    {
     "name": "stdout",
     "output_type": "stream",
     "text": [
      "END OF EPOCH: 2000 \n",
      " Training loss per image: -0.990215\n",
      " Training_dev loss per image: -0.858190\n",
      " Test_dev loss per image: -0.500000\n"
     ]
    },
    {
     "name": "stderr",
     "output_type": "stream",
     "text": [
      " 30%|███       | 3000/10000 [48:56<1:54:02,  1.02it/s]"
     ]
    },
    {
     "name": "stdout",
     "output_type": "stream",
     "text": [
      "END OF EPOCH: 3000 \n",
      " Training loss per image: -0.990258\n",
      " Training_dev loss per image: -0.841443\n",
      " Test_dev loss per image: -0.500000\n"
     ]
    },
    {
     "name": "stderr",
     "output_type": "stream",
     "text": [
      " 34%|███▍      | 3445/10000 [56:14<1:47:00,  1.02it/s]\n",
      "  0%|          | 0/10000 [00:00<?, ?it/s]"
     ]
    },
    {
     "name": "stdout",
     "output_type": "stream",
     "text": [
      "8_2_1_32_0.0001\n"
     ]
    },
    {
     "name": "stderr",
     "output_type": "stream",
     "text": [
      " 10%|█         | 1000/10000 [16:19<2:27:16,  1.02it/s]"
     ]
    },
    {
     "name": "stdout",
     "output_type": "stream",
     "text": [
      "END OF EPOCH: 1000 \n",
      " Training loss per image: -0.973073\n",
      " Training_dev loss per image: -0.836649\n",
      " Test_dev loss per image: -0.500000\n"
     ]
    },
    {
     "name": "stderr",
     "output_type": "stream",
     "text": [
      " 20%|██        | 2000/10000 [32:39<2:10:10,  1.02it/s]"
     ]
    },
    {
     "name": "stdout",
     "output_type": "stream",
     "text": [
      "END OF EPOCH: 2000 \n",
      " Training loss per image: -0.992003\n",
      " Training_dev loss per image: -0.867387\n",
      " Test_dev loss per image: -0.500000\n"
     ]
    },
    {
     "name": "stderr",
     "output_type": "stream",
     "text": [
      " 20%|██        | 2000/10000 [32:40<2:10:43,  1.02it/s]\n",
      "  0%|          | 0/10000 [00:00<?, ?it/s]"
     ]
    },
    {
     "name": "stdout",
     "output_type": "stream",
     "text": [
      "8_2_0_0_0.0001\n"
     ]
    },
    {
     "name": "stderr",
     "output_type": "stream",
     "text": [
      " 10%|█         | 1000/10000 [16:17<2:26:51,  1.02it/s]"
     ]
    },
    {
     "name": "stdout",
     "output_type": "stream",
     "text": [
      "END OF EPOCH: 1000 \n",
      " Training loss per image: -0.973010\n",
      " Training_dev loss per image: -0.843256\n",
      " Test_dev loss per image: -0.500000\n"
     ]
    },
    {
     "name": "stderr",
     "output_type": "stream",
     "text": [
      " 20%|██        | 2000/10000 [32:33<2:10:23,  1.02it/s]"
     ]
    },
    {
     "name": "stdout",
     "output_type": "stream",
     "text": [
      "END OF EPOCH: 2000 \n",
      " Training loss per image: -0.998075\n",
      " Training_dev loss per image: -0.833154\n",
      " Test_dev loss per image: -0.500000\n"
     ]
    },
    {
     "name": "stderr",
     "output_type": "stream",
     "text": [
      " 20%|██        | 2000/10000 [32:34<2:10:19,  1.02it/s]\n",
      "  0%|          | 0/10000 [00:00<?, ?it/s]"
     ]
    },
    {
     "name": "stdout",
     "output_type": "stream",
     "text": [
      "32_1_0_0_1e-05\n"
     ]
    },
    {
     "name": "stderr",
     "output_type": "stream",
     "text": [
      " 10%|█         | 1000/10000 [16:26<2:27:53,  1.01it/s]"
     ]
    },
    {
     "name": "stdout",
     "output_type": "stream",
     "text": [
      "END OF EPOCH: 1000 \n",
      " Training loss per image: -0.936573\n",
      " Training_dev loss per image: -0.613460\n",
      " Test_dev loss per image: -0.500000\n"
     ]
    },
    {
     "name": "stderr",
     "output_type": "stream",
     "text": [
      " 20%|██        | 2000/10000 [32:51<2:10:50,  1.02it/s]"
     ]
    },
    {
     "name": "stdout",
     "output_type": "stream",
     "text": [
      "END OF EPOCH: 2000 \n",
      " Training loss per image: -0.973132\n",
      " Training_dev loss per image: -0.581780\n",
      " Test_dev loss per image: -0.500000\n"
     ]
    },
    {
     "name": "stderr",
     "output_type": "stream",
     "text": [
      " 21%|██        | 2054/10000 [33:45<2:10:37,  1.01it/s]\n",
      "  0%|          | 0/10000 [00:00<?, ?it/s]"
     ]
    },
    {
     "name": "stdout",
     "output_type": "stream",
     "text": [
      "32_1_1_32_1e-06\n"
     ]
    },
    {
     "name": "stderr",
     "output_type": "stream",
     "text": [
      " 10%|█         | 1000/10000 [16:26<2:28:17,  1.01it/s]"
     ]
    },
    {
     "name": "stdout",
     "output_type": "stream",
     "text": [
      "END OF EPOCH: 1000 \n",
      " Training loss per image: -0.943164\n",
      " Training_dev loss per image: -0.612594\n",
      " Test_dev loss per image: -0.500000\n"
     ]
    },
    {
     "name": "stderr",
     "output_type": "stream",
     "text": [
      " 20%|██        | 2000/10000 [32:51<2:10:32,  1.02it/s]"
     ]
    },
    {
     "name": "stdout",
     "output_type": "stream",
     "text": [
      "END OF EPOCH: 2000 \n",
      " Training loss per image: -0.979236\n",
      " Training_dev loss per image: -0.596918\n",
      " Test_dev loss per image: -0.500000\n"
     ]
    },
    {
     "name": "stderr",
     "output_type": "stream",
     "text": [
      " 21%|██        | 2086/10000 [34:17<2:10:05,  1.01it/s]\n",
      "  0%|          | 0/10000 [00:00<?, ?it/s]"
     ]
    },
    {
     "name": "stdout",
     "output_type": "stream",
     "text": [
      "8_2_0_0_1e-05\n"
     ]
    },
    {
     "name": "stderr",
     "output_type": "stream",
     "text": [
      " 10%|█         | 1000/10000 [16:11<2:26:00,  1.03it/s]"
     ]
    },
    {
     "name": "stdout",
     "output_type": "stream",
     "text": [
      "END OF EPOCH: 1000 \n",
      " Training loss per image: -0.967608\n",
      " Training_dev loss per image: -0.817055\n",
      " Test_dev loss per image: -0.500000\n"
     ]
    },
    {
     "name": "stderr",
     "output_type": "stream",
     "text": [
      " 20%|██        | 2000/10000 [32:24<2:09:16,  1.03it/s]"
     ]
    },
    {
     "name": "stdout",
     "output_type": "stream",
     "text": [
      "END OF EPOCH: 2000 \n",
      " Training loss per image: -0.986773\n",
      " Training_dev loss per image: -0.850734\n",
      " Test_dev loss per image: -0.500000\n"
     ]
    },
    {
     "name": "stderr",
     "output_type": "stream",
     "text": [
      " 30%|███       | 3000/10000 [48:35<1:53:05,  1.03it/s]"
     ]
    },
    {
     "name": "stdout",
     "output_type": "stream",
     "text": [
      "END OF EPOCH: 3000 \n",
      " Training loss per image: -0.993482\n",
      " Training_dev loss per image: -0.862983\n",
      " Test_dev loss per image: -0.500000\n"
     ]
    },
    {
     "name": "stderr",
     "output_type": "stream",
     "text": [
      " 40%|████      | 4000/10000 [1:04:46<1:36:51,  1.03it/s]"
     ]
    },
    {
     "name": "stdout",
     "output_type": "stream",
     "text": [
      "END OF EPOCH: 4000 \n",
      " Training loss per image: -0.997903\n",
      " Training_dev loss per image: -0.856037\n",
      " Test_dev loss per image: -0.500000\n"
     ]
    },
    {
     "name": "stderr",
     "output_type": "stream",
     "text": [
      " 45%|████▌     | 4542/10000 [1:13:35<1:28:25,  1.03it/s]\n",
      "  0%|          | 0/10000 [00:00<?, ?it/s]"
     ]
    },
    {
     "name": "stdout",
     "output_type": "stream",
     "text": [
      "8_2_1_32_1e-06\n"
     ]
    },
    {
     "name": "stderr",
     "output_type": "stream",
     "text": [
      " 10%|█         | 1000/10000 [16:14<2:25:07,  1.03it/s]"
     ]
    },
    {
     "name": "stdout",
     "output_type": "stream",
     "text": [
      "END OF EPOCH: 1000 \n",
      " Training loss per image: -0.906087\n",
      " Training_dev loss per image: -0.845815\n",
      " Test_dev loss per image: -0.500185\n"
     ]
    },
    {
     "name": "stderr",
     "output_type": "stream",
     "text": [
      " 20%|██        | 2000/10000 [32:27<2:09:11,  1.03it/s]"
     ]
    },
    {
     "name": "stdout",
     "output_type": "stream",
     "text": [
      "END OF EPOCH: 2000 \n",
      " Training loss per image: -0.938231\n",
      " Training_dev loss per image: -0.849510\n",
      " Test_dev loss per image: -0.500018\n"
     ]
    },
    {
     "name": "stderr",
     "output_type": "stream",
     "text": [
      " 24%|██▍       | 2377/10000 [38:35<2:03:46,  1.03it/s]\n",
      "  0%|          | 0/10000 [00:00<?, ?it/s]"
     ]
    },
    {
     "name": "stdout",
     "output_type": "stream",
     "text": [
      "8_2_1_32_0.0001\n"
     ]
    },
    {
     "name": "stderr",
     "output_type": "stream",
     "text": [
      " 10%|█         | 1000/10000 [16:10<2:24:50,  1.04it/s]"
     ]
    },
    {
     "name": "stdout",
     "output_type": "stream",
     "text": [
      "END OF EPOCH: 1000 \n",
      " Training loss per image: -0.921130\n",
      " Training_dev loss per image: -0.838955\n",
      " Test_dev loss per image: -0.500018\n"
     ]
    },
    {
     "name": "stderr",
     "output_type": "stream",
     "text": [
      " 20%|██        | 2000/10000 [32:20<2:09:52,  1.03it/s]"
     ]
    },
    {
     "name": "stdout",
     "output_type": "stream",
     "text": [
      "END OF EPOCH: 2000 \n",
      " Training loss per image: -0.954297\n",
      " Training_dev loss per image: -0.840738\n",
      " Test_dev loss per image: -0.500004\n"
     ]
    },
    {
     "name": "stderr",
     "output_type": "stream",
     "text": [
      " 20%|██        | 2001/10000 [32:22<2:09:23,  1.03it/s]\n",
      "  0%|          | 0/10000 [00:00<?, ?it/s]"
     ]
    },
    {
     "name": "stdout",
     "output_type": "stream",
     "text": [
      "8_2_0_0_0.0001\n"
     ]
    },
    {
     "name": "stderr",
     "output_type": "stream",
     "text": [
      " 10%|█         | 1000/10000 [16:12<2:25:27,  1.03it/s]"
     ]
    },
    {
     "name": "stdout",
     "output_type": "stream",
     "text": [
      "END OF EPOCH: 1000 \n",
      " Training loss per image: -0.921976\n",
      " Training_dev loss per image: -0.851010\n",
      " Test_dev loss per image: -0.500030\n"
     ]
    },
    {
     "name": "stderr",
     "output_type": "stream",
     "text": [
      " 20%|██        | 2000/10000 [32:25<2:09:54,  1.03it/s]"
     ]
    },
    {
     "name": "stdout",
     "output_type": "stream",
     "text": [
      "END OF EPOCH: 2000 \n",
      " Training loss per image: -0.954118\n",
      " Training_dev loss per image: -0.833511\n",
      " Test_dev loss per image: -0.500002\n"
     ]
    },
    {
     "name": "stderr",
     "output_type": "stream",
     "text": [
      " 20%|██        | 2001/10000 [32:27<2:09:43,  1.03it/s]\n",
      "  0%|          | 0/10000 [00:00<?, ?it/s]"
     ]
    },
    {
     "name": "stdout",
     "output_type": "stream",
     "text": [
      "32_1_0_0_1e-05\n"
     ]
    },
    {
     "name": "stderr",
     "output_type": "stream",
     "text": [
      " 10%|█         | 1000/10000 [16:23<2:26:30,  1.02it/s]"
     ]
    },
    {
     "name": "stdout",
     "output_type": "stream",
     "text": [
      "END OF EPOCH: 1000 \n",
      " Training loss per image: -0.808000\n",
      " Training_dev loss per image: -0.771670\n",
      " Test_dev loss per image: -0.503030\n"
     ]
    },
    {
     "name": "stderr",
     "output_type": "stream",
     "text": [
      " 20%|██        | 2000/10000 [32:47<2:11:25,  1.01it/s]"
     ]
    },
    {
     "name": "stdout",
     "output_type": "stream",
     "text": [
      "END OF EPOCH: 2000 \n",
      " Training loss per image: -0.847363\n",
      " Training_dev loss per image: -0.744576\n",
      " Test_dev loss per image: -0.500196\n"
     ]
    },
    {
     "name": "stderr",
     "output_type": "stream",
     "text": [
      " 21%|██        | 2071/10000 [33:58<2:10:04,  1.02it/s]\n",
      "  0%|          | 0/10000 [00:00<?, ?it/s]"
     ]
    },
    {
     "name": "stdout",
     "output_type": "stream",
     "text": [
      "32_1_1_32_1e-06\n"
     ]
    },
    {
     "name": "stderr",
     "output_type": "stream",
     "text": [
      " 10%|█         | 1000/10000 [16:23<2:27:33,  1.02it/s]"
     ]
    },
    {
     "name": "stdout",
     "output_type": "stream",
     "text": [
      "END OF EPOCH: 1000 \n",
      " Training loss per image: -0.825392\n",
      " Training_dev loss per image: -0.774793\n",
      " Test_dev loss per image: -0.503782\n"
     ]
    },
    {
     "name": "stderr",
     "output_type": "stream",
     "text": [
      " 20%|██        | 2000/10000 [32:46<2:11:16,  1.02it/s]"
     ]
    },
    {
     "name": "stdout",
     "output_type": "stream",
     "text": [
      "END OF EPOCH: 2000 \n",
      " Training loss per image: -0.873448\n",
      " Training_dev loss per image: -0.745875\n",
      " Test_dev loss per image: -0.500349\n"
     ]
    },
    {
     "name": "stderr",
     "output_type": "stream",
     "text": [
      " 26%|██▌       | 2552/10000 [41:49<2:02:03,  1.02it/s]\n",
      "  0%|          | 0/10000 [00:00<?, ?it/s]"
     ]
    },
    {
     "name": "stdout",
     "output_type": "stream",
     "text": [
      "8_2_0_0_1e-05\n"
     ]
    },
    {
     "name": "stderr",
     "output_type": "stream",
     "text": [
      " 10%|█         | 1000/10000 [16:13<2:26:26,  1.02it/s]"
     ]
    },
    {
     "name": "stdout",
     "output_type": "stream",
     "text": [
      "END OF EPOCH: 1000 \n",
      " Training loss per image: -0.913222\n",
      " Training_dev loss per image: -0.855539\n",
      " Test_dev loss per image: -0.500057\n"
     ]
    },
    {
     "name": "stderr",
     "output_type": "stream",
     "text": [
      " 20%|██        | 2000/10000 [32:28<2:11:29,  1.01it/s]"
     ]
    },
    {
     "name": "stdout",
     "output_type": "stream",
     "text": [
      "END OF EPOCH: 2000 \n",
      " Training loss per image: -0.940003\n",
      " Training_dev loss per image: -0.833535\n",
      " Test_dev loss per image: -0.500001\n"
     ]
    },
    {
     "name": "stderr",
     "output_type": "stream",
     "text": [
      " 20%|██        | 2000/10000 [32:29<2:09:59,  1.03it/s]\n"
     ]
    }
   ],
   "source": [
    "input_folder='../../1_Data/3_Trained_classifier_finetuning_classification/'\n",
    "output_folder='../../1_Data/3_Trained_classifier_finetuning_classification_feature_extraction/'\n",
    "\n",
    "learning_rates = [0.001,0.0001,0.00001]\n",
    "\n",
    "for learning_rate in learning_rates:\n",
    "\n",
    "    #networks = [os.path.basename(x[0]) for x in os.walk(input_folder)]\n",
    "    #networks=networks[1:]\n",
    "    networks=['8_2_1_32_1e-06', '8_2_1_32_0.0001', '8_2_0_0_0.0001', '32_1_0_0_1e-05', '32_1_1_32_1e-06', '8_2_0_0_1e-05']\n",
    "    \n",
    "    for network in networks:\n",
    "        \n",
    "        print(network)\n",
    "\n",
    "        params=network.split('_')\n",
    "\n",
    "        # Initalize network\n",
    "        classifying_network = Classify_chiasm(int(params[0]),int(params[1]), int(params[2]), int(params[3])) \n",
    "        # Load the weights\n",
    "        classifying_network.load_state_dict(torch.load(input_folder+network+'/optimal_weights'))\n",
    "        # Freeze classifying layer\n",
    "        classifying_network.freeze_classification()\n",
    "\n",
    "        # Optimizer    \n",
    "        optimizer = torch.optim.Adam(params=filter(lambda p: p.requires_grad, classifying_network.parameters()), lr=learning_rate)\n",
    "\n",
    "        # Create output folder\n",
    "        data_folder = output_folder+'/'+str(params[0])+'_'+str(params[1])+'_'+str(params[2])+'_'+str(params[3])+'_'+str(params[4])+'_'+str(learning_rate)+'/'\n",
    "        os.makedirs(data_folder, exist_ok=True)\n",
    "\n",
    "         # Train & save weights\n",
    "        train_loss, dev_train_loss, dev_test_loss, train_acc, dev_train_acc, dev_test_acc = train_network(n_epochs, dataloaders_chiasm, classifying_network, optimizer, criterion, device, data_folder)\n",
    "\n",
    "        # Save losses\n",
    "        with open(data_folder+'train_loss.pkl', 'wb') as f:\n",
    "            pickle.dump(train_loss, f)\n",
    "\n",
    "        with open(data_folder+'dev_train_loss.pkl', 'wb') as f:\n",
    "            pickle.dump(dev_train_loss, f)\n",
    "\n",
    "        with open(data_folder+'dev_test_loss.pkl', 'wb') as f:\n",
    "            pickle.dump(dev_test_loss, f)\n",
    "\n",
    "        with open(data_folder+'train_acc.pkl', 'wb') as f:\n",
    "            pickle.dump(train_acc, f)\n",
    "\n",
    "        with open(data_folder+'dev_train_acc.pkl', 'wb') as f:\n",
    "            pickle.dump(dev_train_acc, f)\n",
    "\n",
    "        with open(data_folder+'dev_test_acc.pkl', 'wb') as f:\n",
    "            pickle.dump(dev_test_acc, f)\n"
   ]
  },
  {
   "cell_type": "code",
   "execution_count": 32,
   "metadata": {},
   "outputs": [
    {
     "name": "stderr",
     "output_type": "stream",
     "text": [
      "\r",
      "  0%|          | 0/10000 [00:00<?, ?it/s]"
     ]
    },
    {
     "name": "stdout",
     "output_type": "stream",
     "text": [
      "8_2_0_0_1e-06\n"
     ]
    },
    {
     "name": "stderr",
     "output_type": "stream",
     "text": [
      " 10%|█         | 1000/10000 [16:27<2:26:18,  1.03it/s]"
     ]
    },
    {
     "name": "stdout",
     "output_type": "stream",
     "text": [
      "END OF EPOCH: 1000 \n",
      " Training loss per image: -0.999767\n",
      " Training_dev loss per image: -0.886792\n",
      " Test_dev loss per image: -0.500000\n"
     ]
    },
    {
     "name": "stderr",
     "output_type": "stream",
     "text": [
      " 20%|██        | 2000/10000 [32:43<2:10:14,  1.02it/s]"
     ]
    },
    {
     "name": "stdout",
     "output_type": "stream",
     "text": [
      "END OF EPOCH: 2000 \n",
      " Training loss per image: -0.999999\n",
      " Training_dev loss per image: -0.890079\n",
      " Test_dev loss per image: -0.500000\n"
     ]
    },
    {
     "name": "stderr",
     "output_type": "stream",
     "text": [
      " 29%|██▊       | 2871/10000 [46:55<1:56:31,  1.02it/s]\n",
      "  0%|          | 0/10000 [00:00<?, ?it/s]"
     ]
    },
    {
     "name": "stdout",
     "output_type": "stream",
     "text": [
      "32_1_0_0_1e-06\n"
     ]
    },
    {
     "name": "stderr",
     "output_type": "stream",
     "text": [
      " 10%|█         | 1000/10000 [16:22<2:28:02,  1.01it/s]"
     ]
    },
    {
     "name": "stdout",
     "output_type": "stream",
     "text": [
      "END OF EPOCH: 1000 \n",
      " Training loss per image: -0.999276\n",
      " Training_dev loss per image: -0.605022\n",
      " Test_dev loss per image: -0.500000\n"
     ]
    },
    {
     "name": "stderr",
     "output_type": "stream",
     "text": [
      " 20%|██        | 2000/10000 [32:45<2:11:29,  1.01it/s]"
     ]
    },
    {
     "name": "stdout",
     "output_type": "stream",
     "text": [
      "END OF EPOCH: 2000 \n",
      " Training loss per image: -0.999994\n",
      " Training_dev loss per image: -0.768637\n",
      " Test_dev loss per image: -0.500000\n"
     ]
    },
    {
     "name": "stderr",
     "output_type": "stream",
     "text": [
      " 30%|███       | 3000/10000 [49:12<1:54:11,  1.02it/s]"
     ]
    },
    {
     "name": "stdout",
     "output_type": "stream",
     "text": [
      "END OF EPOCH: 3000 \n",
      " Training loss per image: -0.999828\n",
      " Training_dev loss per image: -0.728851\n",
      " Test_dev loss per image: -0.500000\n"
     ]
    },
    {
     "name": "stderr",
     "output_type": "stream",
     "text": [
      " 40%|████      | 4000/10000 [1:05:36<1:38:17,  1.02it/s]"
     ]
    },
    {
     "name": "stdout",
     "output_type": "stream",
     "text": [
      "END OF EPOCH: 4000 \n",
      " Training loss per image: -0.999923\n",
      " Training_dev loss per image: -0.765975\n",
      " Test_dev loss per image: -0.500000\n"
     ]
    },
    {
     "name": "stderr",
     "output_type": "stream",
     "text": [
      " 50%|█████     | 5000/10000 [1:21:59<1:21:48,  1.02it/s]"
     ]
    },
    {
     "name": "stdout",
     "output_type": "stream",
     "text": [
      "END OF EPOCH: 5000 \n",
      " Training loss per image: -1.000000\n",
      " Training_dev loss per image: -0.762778\n",
      " Test_dev loss per image: -0.500000\n"
     ]
    },
    {
     "name": "stderr",
     "output_type": "stream",
     "text": [
      " 54%|█████▍    | 5415/10000 [1:28:48<1:15:11,  1.02it/s]\n",
      "  0%|          | 0/10000 [00:00<?, ?it/s]"
     ]
    },
    {
     "name": "stdout",
     "output_type": "stream",
     "text": [
      "8_2_1_32_1e-05\n"
     ]
    },
    {
     "name": "stderr",
     "output_type": "stream",
     "text": [
      " 10%|█         | 1000/10000 [16:17<2:26:27,  1.02it/s]"
     ]
    },
    {
     "name": "stdout",
     "output_type": "stream",
     "text": [
      "END OF EPOCH: 1000 \n",
      " Training loss per image: -0.999915\n",
      " Training_dev loss per image: -0.882887\n",
      " Test_dev loss per image: -0.500000\n"
     ]
    },
    {
     "name": "stderr",
     "output_type": "stream",
     "text": [
      " 20%|██        | 2000/10000 [32:34<2:10:33,  1.02it/s]"
     ]
    },
    {
     "name": "stdout",
     "output_type": "stream",
     "text": [
      "END OF EPOCH: 2000 \n",
      " Training loss per image: -0.999762\n",
      " Training_dev loss per image: -0.844256\n",
      " Test_dev loss per image: -0.500000\n"
     ]
    },
    {
     "name": "stderr",
     "output_type": "stream",
     "text": [
      " 26%|██▌       | 2583/10000 [42:06<2:00:56,  1.02it/s]\n"
     ]
    },
    {
     "ename": "KeyboardInterrupt",
     "evalue": "",
     "output_type": "error",
     "traceback": [
      "\u001b[0;31m---------------------------------------------------------------------------\u001b[0m",
      "\u001b[0;31mKeyboardInterrupt\u001b[0m                         Traceback (most recent call last)",
      "\u001b[0;32m<ipython-input-32-23b4eaff9edc>\u001b[0m in \u001b[0;36m<module>\u001b[0;34m\u001b[0m\n\u001b[1;32m     31\u001b[0m \u001b[0;34m\u001b[0m\u001b[0m\n\u001b[1;32m     32\u001b[0m          \u001b[0;31m# Train & save weights\u001b[0m\u001b[0;34m\u001b[0m\u001b[0;34m\u001b[0m\u001b[0;34m\u001b[0m\u001b[0m\n\u001b[0;32m---> 33\u001b[0;31m         \u001b[0mtrain_loss\u001b[0m\u001b[0;34m,\u001b[0m \u001b[0mdev_train_loss\u001b[0m\u001b[0;34m,\u001b[0m \u001b[0mdev_test_loss\u001b[0m\u001b[0;34m,\u001b[0m \u001b[0mtrain_acc\u001b[0m\u001b[0;34m,\u001b[0m \u001b[0mdev_train_acc\u001b[0m\u001b[0;34m,\u001b[0m \u001b[0mdev_test_acc\u001b[0m \u001b[0;34m=\u001b[0m \u001b[0mtrain_network\u001b[0m\u001b[0;34m(\u001b[0m\u001b[0mn_epochs\u001b[0m\u001b[0;34m,\u001b[0m \u001b[0mdataloaders_chiasm\u001b[0m\u001b[0;34m,\u001b[0m \u001b[0mclassifying_network\u001b[0m\u001b[0;34m,\u001b[0m \u001b[0moptimizer\u001b[0m\u001b[0;34m,\u001b[0m \u001b[0mcriterion\u001b[0m\u001b[0;34m,\u001b[0m \u001b[0mdevice\u001b[0m\u001b[0;34m,\u001b[0m \u001b[0mdata_folder\u001b[0m\u001b[0;34m)\u001b[0m\u001b[0;34m\u001b[0m\u001b[0;34m\u001b[0m\u001b[0m\n\u001b[0m\u001b[1;32m     34\u001b[0m \u001b[0;34m\u001b[0m\u001b[0m\n\u001b[1;32m     35\u001b[0m         \u001b[0;31m# Save losses\u001b[0m\u001b[0;34m\u001b[0m\u001b[0;34m\u001b[0m\u001b[0;34m\u001b[0m\u001b[0m\n",
      "\u001b[0;32m<ipython-input-16-e38dc81644ce>\u001b[0m in \u001b[0;36mtrain_network\u001b[0;34m(n_epochs, dataloaders, model, optimizer, criterion, device, save_path)\u001b[0m\n\u001b[1;32m     55\u001b[0m         \u001b[0macc_predictions\u001b[0m\u001b[0;34m=\u001b[0m\u001b[0;34m[\u001b[0m\u001b[0;34m]\u001b[0m\u001b[0;34m\u001b[0m\u001b[0;34m\u001b[0m\u001b[0m\n\u001b[1;32m     56\u001b[0m \u001b[0;34m\u001b[0m\u001b[0m\n\u001b[0;32m---> 57\u001b[0;31m         \u001b[0;32mfor\u001b[0m \u001b[0mbatch\u001b[0m \u001b[0;32min\u001b[0m \u001b[0mdataloaders\u001b[0m\u001b[0;34m[\u001b[0m\u001b[0;34m'dev_train'\u001b[0m\u001b[0;34m]\u001b[0m\u001b[0;34m:\u001b[0m\u001b[0;34m\u001b[0m\u001b[0;34m\u001b[0m\u001b[0m\n\u001b[0m\u001b[1;32m     58\u001b[0m \u001b[0;34m\u001b[0m\u001b[0m\n\u001b[1;32m     59\u001b[0m             \u001b[0mdata\u001b[0m \u001b[0;34m=\u001b[0m \u001b[0mbatch\u001b[0m\u001b[0;34m[\u001b[0m\u001b[0;34m'chiasm'\u001b[0m\u001b[0;34m]\u001b[0m\u001b[0;34m[\u001b[0m\u001b[0;34m'data'\u001b[0m\u001b[0;34m]\u001b[0m\u001b[0;34m.\u001b[0m\u001b[0mto\u001b[0m\u001b[0;34m(\u001b[0m\u001b[0mdevice\u001b[0m\u001b[0;34m)\u001b[0m\u001b[0;34m\u001b[0m\u001b[0;34m\u001b[0m\u001b[0m\n",
      "\u001b[0;32m~/Software/anaconda3/envs/optic_chiasm/lib/python3.8/site-packages/torch/utils/data/dataloader.py\u001b[0m in \u001b[0;36m__next__\u001b[0;34m(self)\u001b[0m\n\u001b[1;32m    519\u001b[0m             \u001b[0;32mif\u001b[0m \u001b[0mself\u001b[0m\u001b[0;34m.\u001b[0m\u001b[0m_sampler_iter\u001b[0m \u001b[0;32mis\u001b[0m \u001b[0;32mNone\u001b[0m\u001b[0;34m:\u001b[0m\u001b[0;34m\u001b[0m\u001b[0;34m\u001b[0m\u001b[0m\n\u001b[1;32m    520\u001b[0m                 \u001b[0mself\u001b[0m\u001b[0;34m.\u001b[0m\u001b[0m_reset\u001b[0m\u001b[0;34m(\u001b[0m\u001b[0;34m)\u001b[0m\u001b[0;34m\u001b[0m\u001b[0;34m\u001b[0m\u001b[0m\n\u001b[0;32m--> 521\u001b[0;31m             \u001b[0mdata\u001b[0m \u001b[0;34m=\u001b[0m \u001b[0mself\u001b[0m\u001b[0;34m.\u001b[0m\u001b[0m_next_data\u001b[0m\u001b[0;34m(\u001b[0m\u001b[0;34m)\u001b[0m\u001b[0;34m\u001b[0m\u001b[0;34m\u001b[0m\u001b[0m\n\u001b[0m\u001b[1;32m    522\u001b[0m             \u001b[0mself\u001b[0m\u001b[0;34m.\u001b[0m\u001b[0m_num_yielded\u001b[0m \u001b[0;34m+=\u001b[0m \u001b[0;36m1\u001b[0m\u001b[0;34m\u001b[0m\u001b[0;34m\u001b[0m\u001b[0m\n\u001b[1;32m    523\u001b[0m             \u001b[0;32mif\u001b[0m \u001b[0mself\u001b[0m\u001b[0;34m.\u001b[0m\u001b[0m_dataset_kind\u001b[0m \u001b[0;34m==\u001b[0m \u001b[0m_DatasetKind\u001b[0m\u001b[0;34m.\u001b[0m\u001b[0mIterable\u001b[0m \u001b[0;32mand\u001b[0m\u001b[0;31m \u001b[0m\u001b[0;31m\\\u001b[0m\u001b[0;34m\u001b[0m\u001b[0;34m\u001b[0m\u001b[0m\n",
      "\u001b[0;32m~/Software/anaconda3/envs/optic_chiasm/lib/python3.8/site-packages/torch/utils/data/dataloader.py\u001b[0m in \u001b[0;36m_next_data\u001b[0;34m(self)\u001b[0m\n\u001b[1;32m   1173\u001b[0m                 \u001b[0;31m# no valid `self._rcvd_idx` is found (i.e., didn't break)\u001b[0m\u001b[0;34m\u001b[0m\u001b[0;34m\u001b[0m\u001b[0;34m\u001b[0m\u001b[0m\n\u001b[1;32m   1174\u001b[0m                 \u001b[0;32mif\u001b[0m \u001b[0;32mnot\u001b[0m \u001b[0mself\u001b[0m\u001b[0;34m.\u001b[0m\u001b[0m_persistent_workers\u001b[0m\u001b[0;34m:\u001b[0m\u001b[0;34m\u001b[0m\u001b[0;34m\u001b[0m\u001b[0m\n\u001b[0;32m-> 1175\u001b[0;31m                     \u001b[0mself\u001b[0m\u001b[0;34m.\u001b[0m\u001b[0m_shutdown_workers\u001b[0m\u001b[0;34m(\u001b[0m\u001b[0;34m)\u001b[0m\u001b[0;34m\u001b[0m\u001b[0;34m\u001b[0m\u001b[0m\n\u001b[0m\u001b[1;32m   1176\u001b[0m                 \u001b[0;32mraise\u001b[0m \u001b[0mStopIteration\u001b[0m\u001b[0;34m\u001b[0m\u001b[0;34m\u001b[0m\u001b[0m\n\u001b[1;32m   1177\u001b[0m \u001b[0;34m\u001b[0m\u001b[0m\n",
      "\u001b[0;32m~/Software/anaconda3/envs/optic_chiasm/lib/python3.8/site-packages/torch/utils/data/dataloader.py\u001b[0m in \u001b[0;36m_shutdown_workers\u001b[0;34m(self)\u001b[0m\n\u001b[1;32m   1299\u001b[0m                     \u001b[0;31m# wrong, we set a timeout and if the workers fail to join,\u001b[0m\u001b[0;34m\u001b[0m\u001b[0;34m\u001b[0m\u001b[0;34m\u001b[0m\u001b[0m\n\u001b[1;32m   1300\u001b[0m                     \u001b[0;31m# they are killed in the `finally` block.\u001b[0m\u001b[0;34m\u001b[0m\u001b[0;34m\u001b[0m\u001b[0;34m\u001b[0m\u001b[0m\n\u001b[0;32m-> 1301\u001b[0;31m                     \u001b[0mw\u001b[0m\u001b[0;34m.\u001b[0m\u001b[0mjoin\u001b[0m\u001b[0;34m(\u001b[0m\u001b[0mtimeout\u001b[0m\u001b[0;34m=\u001b[0m\u001b[0m_utils\u001b[0m\u001b[0;34m.\u001b[0m\u001b[0mMP_STATUS_CHECK_INTERVAL\u001b[0m\u001b[0;34m)\u001b[0m\u001b[0;34m\u001b[0m\u001b[0;34m\u001b[0m\u001b[0m\n\u001b[0m\u001b[1;32m   1302\u001b[0m                 \u001b[0;32mfor\u001b[0m \u001b[0mq\u001b[0m \u001b[0;32min\u001b[0m \u001b[0mself\u001b[0m\u001b[0;34m.\u001b[0m\u001b[0m_index_queues\u001b[0m\u001b[0;34m:\u001b[0m\u001b[0;34m\u001b[0m\u001b[0;34m\u001b[0m\u001b[0m\n\u001b[1;32m   1303\u001b[0m                     \u001b[0mq\u001b[0m\u001b[0;34m.\u001b[0m\u001b[0mcancel_join_thread\u001b[0m\u001b[0;34m(\u001b[0m\u001b[0;34m)\u001b[0m\u001b[0;34m\u001b[0m\u001b[0;34m\u001b[0m\u001b[0m\n",
      "\u001b[0;32m~/Software/anaconda3/envs/optic_chiasm/lib/python3.8/multiprocessing/process.py\u001b[0m in \u001b[0;36mjoin\u001b[0;34m(self, timeout)\u001b[0m\n\u001b[1;32m    147\u001b[0m         \u001b[0;32massert\u001b[0m \u001b[0mself\u001b[0m\u001b[0;34m.\u001b[0m\u001b[0m_parent_pid\u001b[0m \u001b[0;34m==\u001b[0m \u001b[0mos\u001b[0m\u001b[0;34m.\u001b[0m\u001b[0mgetpid\u001b[0m\u001b[0;34m(\u001b[0m\u001b[0;34m)\u001b[0m\u001b[0;34m,\u001b[0m \u001b[0;34m'can only join a child process'\u001b[0m\u001b[0;34m\u001b[0m\u001b[0;34m\u001b[0m\u001b[0m\n\u001b[1;32m    148\u001b[0m         \u001b[0;32massert\u001b[0m \u001b[0mself\u001b[0m\u001b[0;34m.\u001b[0m\u001b[0m_popen\u001b[0m \u001b[0;32mis\u001b[0m \u001b[0;32mnot\u001b[0m \u001b[0;32mNone\u001b[0m\u001b[0;34m,\u001b[0m \u001b[0;34m'can only join a started process'\u001b[0m\u001b[0;34m\u001b[0m\u001b[0;34m\u001b[0m\u001b[0m\n\u001b[0;32m--> 149\u001b[0;31m         \u001b[0mres\u001b[0m \u001b[0;34m=\u001b[0m \u001b[0mself\u001b[0m\u001b[0;34m.\u001b[0m\u001b[0m_popen\u001b[0m\u001b[0;34m.\u001b[0m\u001b[0mwait\u001b[0m\u001b[0;34m(\u001b[0m\u001b[0mtimeout\u001b[0m\u001b[0;34m)\u001b[0m\u001b[0;34m\u001b[0m\u001b[0;34m\u001b[0m\u001b[0m\n\u001b[0m\u001b[1;32m    150\u001b[0m         \u001b[0;32mif\u001b[0m \u001b[0mres\u001b[0m \u001b[0;32mis\u001b[0m \u001b[0;32mnot\u001b[0m \u001b[0;32mNone\u001b[0m\u001b[0;34m:\u001b[0m\u001b[0;34m\u001b[0m\u001b[0;34m\u001b[0m\u001b[0m\n\u001b[1;32m    151\u001b[0m             \u001b[0m_children\u001b[0m\u001b[0;34m.\u001b[0m\u001b[0mdiscard\u001b[0m\u001b[0;34m(\u001b[0m\u001b[0mself\u001b[0m\u001b[0;34m)\u001b[0m\u001b[0;34m\u001b[0m\u001b[0;34m\u001b[0m\u001b[0m\n",
      "\u001b[0;32m~/Software/anaconda3/envs/optic_chiasm/lib/python3.8/multiprocessing/popen_fork.py\u001b[0m in \u001b[0;36mwait\u001b[0;34m(self, timeout)\u001b[0m\n\u001b[1;32m     42\u001b[0m             \u001b[0;32mif\u001b[0m \u001b[0mtimeout\u001b[0m \u001b[0;32mis\u001b[0m \u001b[0;32mnot\u001b[0m \u001b[0;32mNone\u001b[0m\u001b[0;34m:\u001b[0m\u001b[0;34m\u001b[0m\u001b[0;34m\u001b[0m\u001b[0m\n\u001b[1;32m     43\u001b[0m                 \u001b[0;32mfrom\u001b[0m \u001b[0mmultiprocessing\u001b[0m\u001b[0;34m.\u001b[0m\u001b[0mconnection\u001b[0m \u001b[0;32mimport\u001b[0m \u001b[0mwait\u001b[0m\u001b[0;34m\u001b[0m\u001b[0;34m\u001b[0m\u001b[0m\n\u001b[0;32m---> 44\u001b[0;31m                 \u001b[0;32mif\u001b[0m \u001b[0;32mnot\u001b[0m \u001b[0mwait\u001b[0m\u001b[0;34m(\u001b[0m\u001b[0;34m[\u001b[0m\u001b[0mself\u001b[0m\u001b[0;34m.\u001b[0m\u001b[0msentinel\u001b[0m\u001b[0;34m]\u001b[0m\u001b[0;34m,\u001b[0m \u001b[0mtimeout\u001b[0m\u001b[0;34m)\u001b[0m\u001b[0;34m:\u001b[0m\u001b[0;34m\u001b[0m\u001b[0;34m\u001b[0m\u001b[0m\n\u001b[0m\u001b[1;32m     45\u001b[0m                     \u001b[0;32mreturn\u001b[0m \u001b[0;32mNone\u001b[0m\u001b[0;34m\u001b[0m\u001b[0;34m\u001b[0m\u001b[0m\n\u001b[1;32m     46\u001b[0m             \u001b[0;31m# This shouldn't block if wait() returned successfully.\u001b[0m\u001b[0;34m\u001b[0m\u001b[0;34m\u001b[0m\u001b[0;34m\u001b[0m\u001b[0m\n",
      "\u001b[0;32m~/Software/anaconda3/envs/optic_chiasm/lib/python3.8/multiprocessing/connection.py\u001b[0m in \u001b[0;36mwait\u001b[0;34m(object_list, timeout)\u001b[0m\n\u001b[1;32m    929\u001b[0m \u001b[0;34m\u001b[0m\u001b[0m\n\u001b[1;32m    930\u001b[0m             \u001b[0;32mwhile\u001b[0m \u001b[0;32mTrue\u001b[0m\u001b[0;34m:\u001b[0m\u001b[0;34m\u001b[0m\u001b[0;34m\u001b[0m\u001b[0m\n\u001b[0;32m--> 931\u001b[0;31m                 \u001b[0mready\u001b[0m \u001b[0;34m=\u001b[0m \u001b[0mselector\u001b[0m\u001b[0;34m.\u001b[0m\u001b[0mselect\u001b[0m\u001b[0;34m(\u001b[0m\u001b[0mtimeout\u001b[0m\u001b[0;34m)\u001b[0m\u001b[0;34m\u001b[0m\u001b[0;34m\u001b[0m\u001b[0m\n\u001b[0m\u001b[1;32m    932\u001b[0m                 \u001b[0;32mif\u001b[0m \u001b[0mready\u001b[0m\u001b[0;34m:\u001b[0m\u001b[0;34m\u001b[0m\u001b[0;34m\u001b[0m\u001b[0m\n\u001b[1;32m    933\u001b[0m                     \u001b[0;32mreturn\u001b[0m \u001b[0;34m[\u001b[0m\u001b[0mkey\u001b[0m\u001b[0;34m.\u001b[0m\u001b[0mfileobj\u001b[0m \u001b[0;32mfor\u001b[0m \u001b[0;34m(\u001b[0m\u001b[0mkey\u001b[0m\u001b[0;34m,\u001b[0m \u001b[0mevents\u001b[0m\u001b[0;34m)\u001b[0m \u001b[0;32min\u001b[0m \u001b[0mready\u001b[0m\u001b[0;34m]\u001b[0m\u001b[0;34m\u001b[0m\u001b[0;34m\u001b[0m\u001b[0m\n",
      "\u001b[0;32m~/Software/anaconda3/envs/optic_chiasm/lib/python3.8/selectors.py\u001b[0m in \u001b[0;36mselect\u001b[0;34m(self, timeout)\u001b[0m\n\u001b[1;32m    413\u001b[0m         \u001b[0mready\u001b[0m \u001b[0;34m=\u001b[0m \u001b[0;34m[\u001b[0m\u001b[0;34m]\u001b[0m\u001b[0;34m\u001b[0m\u001b[0;34m\u001b[0m\u001b[0m\n\u001b[1;32m    414\u001b[0m         \u001b[0;32mtry\u001b[0m\u001b[0;34m:\u001b[0m\u001b[0;34m\u001b[0m\u001b[0;34m\u001b[0m\u001b[0m\n\u001b[0;32m--> 415\u001b[0;31m             \u001b[0mfd_event_list\u001b[0m \u001b[0;34m=\u001b[0m \u001b[0mself\u001b[0m\u001b[0;34m.\u001b[0m\u001b[0m_selector\u001b[0m\u001b[0;34m.\u001b[0m\u001b[0mpoll\u001b[0m\u001b[0;34m(\u001b[0m\u001b[0mtimeout\u001b[0m\u001b[0;34m)\u001b[0m\u001b[0;34m\u001b[0m\u001b[0;34m\u001b[0m\u001b[0m\n\u001b[0m\u001b[1;32m    416\u001b[0m         \u001b[0;32mexcept\u001b[0m \u001b[0mInterruptedError\u001b[0m\u001b[0;34m:\u001b[0m\u001b[0;34m\u001b[0m\u001b[0;34m\u001b[0m\u001b[0m\n\u001b[1;32m    417\u001b[0m             \u001b[0;32mreturn\u001b[0m \u001b[0mready\u001b[0m\u001b[0;34m\u001b[0m\u001b[0;34m\u001b[0m\u001b[0m\n",
      "\u001b[0;31mKeyboardInterrupt\u001b[0m: "
     ]
    }
   ],
   "source": [
    "input_folder='../../1_Data/3_Trained_classifier_finetuning_classification/'\n",
    "output_folder='../../1_Data/3_Trained_classifier_finetuning_classification_feature_extraction/'\n",
    "\n",
    "networks=['8_2_0_0_1e-06', '32_1_0_0_1e-06', '8_2_1_32_1e-05', '32_1_0_0_0.0001', '32_1_1_32_1e-05', '32_1_1_32_0.0001']    \n",
    "\n",
    "learning_rates = [0.001,0.0001,0.00001]\n",
    "\n",
    "for network in networks:\n",
    "\n",
    "    for learning_rate in learning_rates:\n",
    "\n",
    "    #networks = [os.path.basename(x[0]) for x in os.walk(input_folder)]\n",
    "    #networks=networks[1:]\n",
    "    \n",
    "        print(network)\n",
    "\n",
    "        params=network.split('_')\n",
    "\n",
    "        # Initalize network\n",
    "        classifying_network = Classify_chiasm(int(params[0]),int(params[1]), int(params[2]), int(params[3])) \n",
    "        # Load the weights\n",
    "        classifying_network.load_state_dict(torch.load(input_folder+network+'/optimal_weights'))\n",
    "        # Freeze classifying layer\n",
    "        classifying_network.freeze_classification()\n",
    "\n",
    "        # Optimizer    \n",
    "        optimizer = torch.optim.Adam(params=filter(lambda p: p.requires_grad, classifying_network.parameters()), lr=learning_rate)\n",
    "\n",
    "        # Create output folder\n",
    "        data_folder = output_folder+'/'+str(params[0])+'_'+str(params[1])+'_'+str(params[2])+'_'+str(params[3])+'_'+str(params[4])+'_'+str(learning_rate)+'/'\n",
    "        os.makedirs(data_folder, exist_ok=True)\n",
    "\n",
    "         # Train & save weights\n",
    "        train_loss, dev_train_loss, dev_test_loss, train_acc, dev_train_acc, dev_test_acc = train_network(n_epochs, dataloaders_chiasm, classifying_network, optimizer, criterion, device, data_folder)\n",
    "\n",
    "        # Save losses\n",
    "        with open(data_folder+'train_loss.pkl', 'wb') as f:\n",
    "            pickle.dump(train_loss, f)\n",
    "\n",
    "        with open(data_folder+'dev_train_loss.pkl', 'wb') as f:\n",
    "            pickle.dump(dev_train_loss, f)\n",
    "\n",
    "        with open(data_folder+'dev_test_loss.pkl', 'wb') as f:\n",
    "            pickle.dump(dev_test_loss, f)\n",
    "\n",
    "        with open(data_folder+'train_acc.pkl', 'wb') as f:\n",
    "            pickle.dump(train_acc, f)\n",
    "\n",
    "        with open(data_folder+'dev_train_acc.pkl', 'wb') as f:\n",
    "            pickle.dump(dev_train_acc, f)\n",
    "\n",
    "        with open(data_folder+'dev_test_acc.pkl', 'wb') as f:\n",
    "            pickle.dump(dev_test_acc, f)\n"
   ]
  },
  {
   "cell_type": "markdown",
   "metadata": {},
   "source": [
    "# Secondary functions"
   ]
  },
  {
   "cell_type": "code",
   "execution_count": null,
   "metadata": {},
   "outputs": [],
   "source": [
    "classifying_network=Classify_chiasm(32,1,1,64)"
   ]
  },
  {
   "cell_type": "code",
   "execution_count": null,
   "metadata": {},
   "outputs": [],
   "source": [
    "# Count layers where require_grad = True\n",
    "counter = 0\n",
    "for layer in classifying_network.children():\n",
    "    for param in layer.parameters():\n",
    "        if param.requires_grad == True:\n",
    "            counter += 1\n",
    "\n",
    "print(counter)\n",
    "            "
   ]
  },
  {
   "cell_type": "code",
   "execution_count": null,
   "metadata": {},
   "outputs": [],
   "source": [
    "# Freeze the network\n",
    "classifying_network.freeze_feature_extraction()\n",
    "classifying_network.freeze_classification()"
   ]
  },
  {
   "cell_type": "code",
   "execution_count": null,
   "metadata": {},
   "outputs": [],
   "source": [
    "# Count layers where require_grad = True\n",
    "counter = 0\n",
    "for layer in classifying_network.children():\n",
    "    for param in layer.parameters():\n",
    "        if param.requires_grad == True:\n",
    "            counter += 1\n",
    "\n",
    "print(counter)\n",
    "            "
   ]
  },
  {
   "cell_type": "code",
   "execution_count": null,
   "metadata": {},
   "outputs": [],
   "source": []
  }
 ],
 "metadata": {
  "kernelspec": {
   "display_name": "Python 3",
   "language": "python",
   "name": "python3"
  },
  "language_info": {
   "codemirror_mode": {
    "name": "ipython",
    "version": 3
   },
   "file_extension": ".py",
   "mimetype": "text/x-python",
   "name": "python",
   "nbconvert_exporter": "python",
   "pygments_lexer": "ipython3",
   "version": "3.8.12"
  }
 },
 "nbformat": 4,
 "nbformat_minor": 4
}
