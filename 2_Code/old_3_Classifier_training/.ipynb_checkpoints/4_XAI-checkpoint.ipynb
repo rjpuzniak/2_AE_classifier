{
 "cells": [
  {
   "cell_type": "raw",
   "metadata": {},
   "source": [
    "Pre-model methods: PCA, tSNE"
   ]
  },
  {
   "cell_type": "raw",
   "metadata": {},
   "source": [
    "Deep Explain [17]"
   ]
  },
  {
   "cell_type": "raw",
   "metadata": {},
   "source": [
    "iNNvestigate toolbox"
   ]
  },
  {
   "cell_type": "raw",
   "metadata": {},
   "source": [
    "DeepLIFT"
   ]
  },
  {
   "cell_type": "raw",
   "metadata": {},
   "source": [
    "DeepSHAP"
   ]
  },
  {
   "cell_type": "markdown",
   "metadata": {},
   "source": [
    "GBP"
   ]
  },
  {
   "cell_type": "raw",
   "metadata": {},
   "source": [
    "### Perturbation"
   ]
  },
  {
   "cell_type": "raw",
   "metadata": {},
   "source": [
    "Occluding features with pathces (say 3x3)"
   ]
  },
  {
   "cell_type": "raw",
   "metadata": {},
   "source": [
    "Transformation between alb and con (mulitple steps) and run network on it"
   ]
  },
  {
   "cell_type": "raw",
   "metadata": {},
   "source": [
    "SHAP"
   ]
  },
  {
   "cell_type": "raw",
   "metadata": {},
   "source": [
    "How to identify which features contribute to the decision?"
   ]
  },
  {
   "cell_type": "raw",
   "metadata": {},
   "source": [
    "SAUNet"
   ]
  },
  {
   "cell_type": "raw",
   "metadata": {},
   "source": [
    "Combine embeddings with SVM or DT"
   ]
  },
  {
   "cell_type": "raw",
   "metadata": {},
   "source": []
  },
  {
   "cell_type": "raw",
   "metadata": {},
   "source": [
    "Table:\n",
    "GBP, LRP, occlusion\n",
    "GradCAM\n",
    "Deep Hierarchical Generative Models\n",
    "\n",
    "\n",
    "\n",
    "CAPTUM"
   ]
  }
 ],
 "metadata": {
  "kernelspec": {
   "display_name": "Python 3",
   "language": "python",
   "name": "python3"
  },
  "language_info": {
   "codemirror_mode": {
    "name": "ipython",
    "version": 3
   },
   "file_extension": ".py",
   "mimetype": "text/x-python",
   "name": "python",
   "nbconvert_exporter": "python",
   "pygments_lexer": "ipython3",
   "version": "3.8.12"
  }
 },
 "nbformat": 4,
 "nbformat_minor": 4
}
