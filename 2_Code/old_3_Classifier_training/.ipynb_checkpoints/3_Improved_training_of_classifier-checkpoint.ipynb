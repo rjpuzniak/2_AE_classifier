{
 "cells": [
  {
   "cell_type": "markdown",
   "metadata": {},
   "source": [
    "# Dataloaders"
   ]
  },
  {
   "cell_type": "code",
   "execution_count": 1,
   "metadata": {},
   "outputs": [],
   "source": [
    "# Importing libraries\n",
    "import torchio as tio\n",
    "import glob\n",
    "import numpy as np\n",
    "import random\n",
    "import os\n",
    "import pickle\n",
    "\n",
    "from collections import OrderedDict\n",
    "from pathlib import Path\n",
    "\n",
    "from tqdm import tqdm\n",
    "import time\n",
    "\n",
    "import torchio as tio\n",
    "from torchio.transforms import (RescaleIntensity,RandomFlip,Compose, HistogramStandardization)\n",
    "\n",
    "from sklearn.metrics import accuracy_score\n",
    "\n",
    "from torch.utils.data import DataLoader\n",
    "import torch\n",
    "import torch.nn as nn\n",
    "\n",
    "import matplotlib.pyplot as plt"
   ]
  },
  {
   "cell_type": "code",
   "execution_count": 2,
   "metadata": {},
   "outputs": [],
   "source": [
    "with open('../3_Classifier_training/study_test_design', 'rb') as f:\n",
    "    study_design = pickle.load(f)"
   ]
  },
  {
   "cell_type": "code",
   "execution_count": 3,
   "metadata": {},
   "outputs": [],
   "source": [
    "# Torchio's subjects' dictionary\n",
    "subjects_list={}\n",
    "\n",
    "for group in study_design.keys():\n",
    "    subjects_list[group]={}\n",
    "    for dataset in study_design[group].keys():\n",
    "        subjects_list[group][dataset]={}\n",
    "        for types in study_design[group][dataset].keys():\n",
    "            if types=='other':\n",
    "                continue\n",
    "                \n",
    "            subjects_list[group][dataset][types]=[tio.Subject(chiasm=tio.Image(study_design[group][dataset][types][sub]['chiasm'], type=tio.INTENSITY), label=study_design[group][dataset][types][sub]['class']) for sub in study_design[group][dataset][types].keys()]\n",
    "            # remove if doesn't exist\n",
    "            if not subjects_list[group][dataset][types]:\n",
    "                del subjects_list[group][dataset][types]"
   ]
  },
  {
   "cell_type": "code",
   "execution_count": 4,
   "metadata": {},
   "outputs": [
    {
     "name": "stderr",
     "output_type": "stream",
     "text": [
      "100%|██████████| 1665/1665 [00:01<00:00, 1417.39it/s]\n"
     ]
    }
   ],
   "source": [
    "# Histogram standardization (to mitigate cross-site differences)\n",
    "chiasm_paths=[]\n",
    "\n",
    "# Obtain paths of all chiasm images\n",
    "for group in study_design.keys():\n",
    "    #print(group)\n",
    "    for dataset in study_design[group]:\n",
    "        #print(dataset)\n",
    "        for types in study_design[group][dataset]:\n",
    "            if types != 'other':\n",
    "                for subjects in study_design[group][dataset][types]:\n",
    "                    chiasm_paths.append(study_design[group][dataset][types][subjects]['chiasm'])\n",
    "\n",
    "chiasm_landmarks_path = Path('chiasm_landmarks.npy')    \n",
    "\n",
    "chiasm_landmarks = HistogramStandardization.train(chiasm_paths)\n",
    "torch.save(chiasm_landmarks, chiasm_landmarks_path)\n",
    "\n",
    "landmarks={'chiasm': chiasm_landmarks}\n",
    "\n",
    "standardize = HistogramStandardization(landmarks)"
   ]
  },
  {
   "cell_type": "code",
   "execution_count": 5,
   "metadata": {},
   "outputs": [],
   "source": [
    "# Data preprocessing and augmentation\n",
    "\n",
    "# Rescale\n",
    "rescale = RescaleIntensity((0,1))\n",
    "\n",
    "# Flip\n",
    "#flip = RandomFlip((0,1,2), flip_probability=0.5, p=0.5)\n",
    "flip = RandomFlip((0,1,2), flip_probability=0.5, p=0.5)\n",
    "\n",
    "# Affine transformations\n",
    "affine = tio.RandomAffine(degrees=10)\n",
    "\n",
    "# Elastic deformation\n",
    "elastic = tio.transforms.RandomElasticDeformation(num_control_points=4, max_displacement=4, locked_borders=1)\n",
    "\n",
    "# Bias field (???)\n",
    "\n",
    "# Composing transforms - flip serves as data augmentation and is used only for training\n",
    "transform_train = Compose([affine, standardize, rescale, flip])\n",
    "\n",
    "transform_dev = Compose([standardize, rescale])"
   ]
  },
  {
   "cell_type": "code",
   "execution_count": 6,
   "metadata": {},
   "outputs": [],
   "source": [
    "# Define datasets\n",
    "\n",
    "# Torchio's subjects' dictionary\n",
    "datasets_list={}\n",
    "\n",
    "for group in subjects_list.keys():\n",
    "    \n",
    "    datasets_list[group]={}\n",
    "    \n",
    "    for dataset in subjects_list[group].keys():\n",
    "        \n",
    "        datasets_list[group][dataset]={}\n",
    "        \n",
    "        for types in subjects_list[group][dataset].keys():\n",
    "            \n",
    "            # Selection of the right transformation\n",
    "            if (group =='train'):\n",
    "                applied_transformation = transform_train\n",
    "            else:\n",
    "                applied_transformation = transform_dev\n",
    "            \n",
    "            #print(group, dataset,types, applied_transformation)\n",
    "            datasets_list[group][dataset][types]=tio.SubjectsDataset(subjects_list[group][dataset][types], transform = applied_transformation) "
   ]
  },
  {
   "cell_type": "code",
   "execution_count": 7,
   "metadata": {},
   "outputs": [],
   "source": [
    "# Concatenate required datasets\n",
    "concatenated_datasets={}\n",
    "\n",
    "for group in datasets_list:\n",
    "\n",
    "    entry=[]\n",
    "    \n",
    "    for dataset in datasets_list[group].keys():\n",
    "    \n",
    "    \n",
    "        for types in datasets_list[group][dataset].keys():\n",
    "            \n",
    "            #print(group, dataset, types)\n",
    "            \n",
    "            entry.append(datasets_list[group][dataset][types])\n",
    "    \n",
    "    concatenated_datasets[group]=torch.utils.data.ConcatDataset(entry)"
   ]
  },
  {
   "cell_type": "code",
   "execution_count": 8,
   "metadata": {},
   "outputs": [],
   "source": [
    "# Create dataloaders\n",
    "dataloaders_chiasm={'train': DataLoader(dataset=concatenated_datasets['train'], batch_size=10, shuffle=True, num_workers=8),\n",
    "                   'dev_train': DataLoader(dataset=concatenated_datasets['dev_train'], batch_size=10, shuffle=True, num_workers=8),\n",
    "                   'dev_test': DataLoader(dataset=concatenated_datasets['dev_test'], batch_size=10, shuffle=True, num_workers=8),\n",
    "                   'test_1': DataLoader(dataset=concatenated_datasets['test_1'], batch_size=10, shuffle=True, num_workers=8),\n",
    "                   'test_2': DataLoader(dataset=concatenated_datasets['test_2'], batch_size=10, shuffle=True, num_workers=8),\n",
    "                   }\n"
   ]
  },
  {
   "cell_type": "markdown",
   "metadata": {},
   "source": [
    "## Input sample"
   ]
  },
  {
   "cell_type": "code",
   "execution_count": 9,
   "metadata": {},
   "outputs": [
    {
     "name": "stdout",
     "output_type": "stream",
     "text": [
      "train\n"
     ]
    },
    {
     "data": {
      "image/png": "[encoded data removed]",
      "text/plain": [
       "<Figure size 1080x2880 with 20 Axes>"
      ]
     },
     "metadata": {
      "needs_background": "light"
     },
     "output_type": "display_data"
    },
    {
     "name": "stdout",
     "output_type": "stream",
     "text": [
      "dev_train\n"
     ]
    },
    {
     "data": {
      "image/png": "[encoded data removed]",
      "text/plain": [
       "<Figure size 1080x2880 with 20 Axes>"
      ]
     },
     "metadata": {
      "needs_background": "light"
     },
     "output_type": "display_data"
    },
    {
     "name": "stdout",
     "output_type": "stream",
     "text": [
      "dev_test\n"
     ]
    },
    {
     "data": {
      "image/png": "[encoded data removed]",
      "text/plain": [
       "<Figure size 1080x2880 with 8 Axes>"
      ]
     },
     "metadata": {
      "needs_background": "light"
     },
     "output_type": "display_data"
    }
   ],
   "source": [
    "# Visualize results\n",
    "classes=['control','albinism','other']\n",
    "\n",
    "for group in ['train', 'dev_train', 'dev_test']:\n",
    "    \n",
    "    print(group)\n",
    "    \n",
    "    batch = next(enumerate(dataloaders_chiasm[group]))\n",
    "    \n",
    "    data = batch[1]['chiasm']['data']\n",
    "    labels = batch[1]['label']\n",
    "    \n",
    "    inputs = data.cpu().numpy()\n",
    "\n",
    "        \n",
    "    fig = plt.figure(figsize=(15,40))\n",
    "    \n",
    "    for i in range(inputs.shape[0]):\n",
    "        \n",
    "        plt.subplot(inputs.shape[0],2,2*i+1)\n",
    "        plt.imshow(inputs[i,0,:,:,5],cmap='gray');\n",
    "        plt.title(classes[labels[i]])    \n",
    "        plt.subplot(inputs.shape[0],2,2*i+2)\n",
    "        plt.hist(inputs[i,0].reshape(-1),density=True, bins=100);\n",
    "        plt.axis('on')\n",
    "    \n",
    "    plt.show()"
   ]
  },
  {
   "cell_type": "markdown",
   "metadata": {},
   "source": [
    "## Average input"
   ]
  },
  {
   "cell_type": "code",
   "execution_count": 10,
   "metadata": {},
   "outputs": [
    {
     "data": {
      "image/png": "[encoded data removed]",
      "text/plain": [
       "<Figure size 1440x1440 with 16 Axes>"
      ]
     },
     "metadata": {
      "needs_background": "light"
     },
     "output_type": "display_data"
    }
   ],
   "source": [
    "# Calculate average input\n",
    "\n",
    "average_control=np.zeros((24,24,8))\n",
    "average_albinism = np.zeros((24,24,8))\n",
    "\n",
    "for batch in dataloaders_chiasm['train']:    \n",
    "    average_control+=np.sum(np.array(batch['chiasm']['data'])[batch['label'].numpy()==0], axis=(0,1))\n",
    "    average_albinism+=np.sum(np.array(batch['chiasm']['data'])[batch['label'].numpy()==1], axis=(0,1))\n",
    "\n",
    "plt.figure(figsize=(20,20))\n",
    "\n",
    "for i in range(8):\n",
    "        \n",
    "    # Control\n",
    "    plt.subplot(8,2,2*i+1)\n",
    "    plt.imshow(average_control[:,:,i], cmap='gray')\n",
    "    plt.tick_params(axis='both', labelsize=0, length = 0)\n",
    "    if(i==0):\n",
    "        plt.title('Average control')\n",
    "    \n",
    "    # Albinism\n",
    "    plt.subplot(8,2,2*i+2)\n",
    "    plt.imshow(average_albinism[:,:,i], cmap='gray')\n",
    "    plt.tick_params(axis='both', labelsize=0, length = 0)\n",
    "    if(i==0):\n",
    "        plt.title('Average albinism')\n"
   ]
  },
  {
   "cell_type": "markdown",
   "metadata": {},
   "source": [
    "## Average encoded input"
   ]
  },
  {
   "cell_type": "code",
   "execution_count": 11,
   "metadata": {},
   "outputs": [
    {
     "ename": "NameError",
     "evalue": "name 'UNet' is not defined",
     "output_type": "error",
     "traceback": [
      "\u001b[0;31m---------------------------------------------------------------------------\u001b[0m",
      "\u001b[0;31mNameError\u001b[0m                                 Traceback (most recent call last)",
      "\u001b[0;32m<ipython-input-11-0427385e280d>\u001b[0m in \u001b[0;36m<module>\u001b[0;34m\u001b[0m\n\u001b[1;32m      1\u001b[0m \u001b[0;31m# Calculate average input after AE step\u001b[0m\u001b[0;34m\u001b[0m\u001b[0;34m\u001b[0m\u001b[0;34m\u001b[0m\u001b[0m\n\u001b[1;32m      2\u001b[0m \u001b[0;34m\u001b[0m\u001b[0m\n\u001b[0;32m----> 3\u001b[0;31m \u001b[0mae\u001b[0m \u001b[0;34m=\u001b[0m \u001b[0mUNet\u001b[0m\u001b[0;34m(\u001b[0m\u001b[0;36m1\u001b[0m\u001b[0;34m,\u001b[0m\u001b[0;36m1\u001b[0m\u001b[0;34m,\u001b[0m\u001b[0;36m32\u001b[0m\u001b[0;34m,\u001b[0m\u001b[0;36m1\u001b[0m\u001b[0;34m)\u001b[0m\u001b[0;34m\u001b[0m\u001b[0;34m\u001b[0m\u001b[0m\n\u001b[0m\u001b[1;32m      4\u001b[0m \u001b[0mae\u001b[0m\u001b[0;34m.\u001b[0m\u001b[0mload_state_dict\u001b[0m\u001b[0;34m(\u001b[0m\u001b[0mtorch\u001b[0m\u001b[0;34m.\u001b[0m\u001b[0mload\u001b[0m\u001b[0;34m(\u001b[0m\u001b[0;34m'../../1_Data/2_Trained_AE/32_1/optimal_weights'\u001b[0m\u001b[0;34m)\u001b[0m\u001b[0;34m)\u001b[0m\u001b[0;34m\u001b[0m\u001b[0;34m\u001b[0m\u001b[0m\n\u001b[1;32m      5\u001b[0m \u001b[0;34m\u001b[0m\u001b[0m\n",
      "\u001b[0;31mNameError\u001b[0m: name 'UNet' is not defined"
     ]
    }
   ],
   "source": [
    "# Calculate average input after AE step\n",
    "\n",
    "ae = UNet(1,1,32,1)\n",
    "ae.load_state_dict(torch.load('../../1_Data/2_Trained_AE/32_1/optimal_weights'))\n",
    "\n",
    "average_control=np.zeros((24,24,8))\n",
    "average_albinism = np.zeros((24,24,8))\n",
    "\n",
    "for batch in dataloaders_chiasm['train']:  \n",
    "                              \n",
    "    output = ae(batch['chiasm']['data']).detach().numpy()                \n",
    "                                                       \n",
    "    average_control+=np.sum(output[batch['label'].numpy()==0], axis=(0,1))\n",
    "    average_albinism+=np.sum(output[batch['label'].numpy()==1], axis=(0,1))\n",
    "\n",
    "plt.figure(figsize=(20,20))\n",
    "\n",
    "for i in range(8):\n",
    "        \n",
    "    # Control\n",
    "    plt.subplot(8,2,2*i+1)\n",
    "    plt.imshow(average_control[:,:,i], cmap='gray')\n",
    "    plt.tick_params(axis='both', labelsize=0, length = 0)\n",
    "    if(i==0):\n",
    "        plt.title('Average control')\n",
    "    \n",
    "    # Albinism\n",
    "    plt.subplot(8,2,2*i+2)\n",
    "    plt.imshow(average_albinism[:,:,i], cmap='gray')\n",
    "    plt.tick_params(axis='both', labelsize=0, length = 0)\n",
    "    if(i==0):\n",
    "        plt.title('Average albinism')"
   ]
  },
  {
   "cell_type": "markdown",
   "metadata": {},
   "source": [
    "# Network"
   ]
  },
  {
   "cell_type": "code",
   "execution_count": 13,
   "metadata": {},
   "outputs": [],
   "source": [
    "# Cropped U-Net copied from Overfitting Model\n",
    "\n",
    "class UNet(nn.Module):\n",
    "    \n",
    "    def __init__(self, in_channels=1, out_channels=1, init_features=10, scaling=2):\n",
    "        super(UNet, self).__init__()\n",
    "                \n",
    "        # Encoding layers\n",
    "        self.encoder1 = self.unet_block(in_channels, init_features, \"enc1\")\n",
    "        self.pool1 = nn.AvgPool3d(kernel_size=2, stride=2, padding=0)\n",
    "        self.encoder2 = self.unet_block(init_features, init_features*scaling, name='enc2')\n",
    "        self.pool2 = nn.AvgPool3d(kernel_size=2, stride=2, padding=0)\n",
    "\n",
    "        # Bottleneck layer\n",
    "        self.bottleneck = self.unet_block(init_features*scaling, init_features*scaling**2, name='bottleneck')\n",
    "        \n",
    "        # Decoding layers (where merge with prevois encoding layers occurs)        \n",
    "        self.upconv2 = nn.ConvTranspose3d(init_features*scaling**2, init_features*scaling, kernel_size=2, stride=2)\n",
    "        self.decoder2 = self.unet_block(init_features*scaling, init_features*scaling, name='dec2')\n",
    "                \n",
    "        self.upconv1 = nn.ConvTranspose3d(init_features*scaling, init_features, kernel_size=2, stride=2)\n",
    "        self.decoder1 = self.unet_block(init_features, init_features, name='dec1')\n",
    "        \n",
    "        # Final convolution - output equals number of output channels\n",
    "        self.conv = nn.Conv3d(init_features, out_channels, kernel_size=1) \n",
    "        \n",
    "    def forward(self,x):\n",
    "        \n",
    "        # Encoding\n",
    "        enc1 = self.encoder1(x)\n",
    "        enc2 = self.encoder2(self.pool1(enc1))\n",
    "\n",
    "        # Bottleneck\n",
    "        bottleneck = self.bottleneck(self.pool2(enc2))\n",
    "\n",
    "        # Upconvolving, concatenating data from respective encoding phase and executing UNet block\n",
    "        dec2 = self.upconv2(bottleneck)\n",
    "        dec2 = self.decoder2(dec2)\n",
    "        dec1 = self.upconv1(dec2)\n",
    "        dec1 = self.decoder1(dec1)\n",
    "        \n",
    "        out_conv = self.conv(dec1)\n",
    "        \n",
    "        return torch.sigmoid(out_conv)\n",
    "    \n",
    "    def unet_block(self, in_channels, features, name):\n",
    "        \n",
    "        return nn.Sequential(OrderedDict([(name+'conv1',nn.Conv3d(in_channels=in_channels, out_channels=features, kernel_size=3, padding=1, bias=False)),\n",
    "                             (name+'bnorm1', nn.BatchNorm3d(num_features=features)),\n",
    "                             (name+'relu1', nn.ReLU(inplace=True)),\n",
    "                             (name+'conv2', nn.Conv3d(in_channels=features, out_channels=features, kernel_size=3, padding=1, bias=False)),\n",
    "                             (name+'bnorm2', nn.BatchNorm3d(num_features=features)),\n",
    "                             (name+'relu2', nn.ReLU(inplace=True))])\n",
    "                            )\n",
    "\n",
    "    def output_latent_representations(self,x):\n",
    "        \n",
    "        print(x.shape)\n",
    "\n",
    "        # Encoding\n",
    "        enc1 = self.encoder1(x)\n",
    "        enc2 = self.encoder2(self.pool1(enc1))\n",
    "\n",
    "        # Bottleneck\n",
    "        bottleneck = self.bottleneck(self.pool2(enc2))\n",
    "        \n",
    "        print(bottleneck.shape)\n",
    "        \n",
    "        return bottleneck"
   ]
  },
  {
   "cell_type": "code",
   "execution_count": 34,
   "metadata": {},
   "outputs": [],
   "source": [
    "class Classify_chiasm(nn.Module):\n",
    "    \n",
    "    def __init__(self, init_features, scaling, num_fc_layers, num_hidden_nodes, weights_path='../../1_Data/2_Trained_AE/'):\n",
    "        super(Classify_chiasm, self).__init__()\n",
    "        \n",
    "        self.init_features = init_features\n",
    "        self.scaling = scaling\n",
    "        self.num_fc_layers = num_fc_layers\n",
    "        self.num_hidden_nodes = num_hidden_nodes\n",
    "        \n",
    "        # Initialize the network_extracting_features and load its weights\n",
    "        network_extracting_features = UNet(1,1,init_features,scaling)\n",
    "        network_extracting_features.load_state_dict(torch.load(weights_path+'/'+str(init_features)+'_'+str(scaling)+'/optimal_weights'))\n",
    "        \n",
    "        child = network_extracting_features.children()\n",
    "        \n",
    "        # Copying the desired components (analysis stream) from network_extracting_features\n",
    "        self.feature_extraction = nn.Sequential(*list(child)[:5])\n",
    "        \n",
    "        # Classification layers\n",
    "        if self.num_fc_layers==0:\n",
    "            self.classifier = nn.Linear(self.init_features*(self.scaling**2)*6*6*2,3)\n",
    "        elif self.num_fc_layers==1:\n",
    "            self.classifier = nn.Sequential(nn.Linear(self.init_features*(self.scaling**2)*6*6*2,self.num_hidden_nodes),nn.ReLU(),nn.Linear(self.num_hidden_nodes,3))\n",
    "        \n",
    "        # Placeholder for gradients\n",
    "        self.gradients = None\n",
    "    \n",
    "    # Freeze all the layers apart from the classifying one\n",
    "    def freeze_feature_extraction(self):\n",
    "        \n",
    "        counter = 0\n",
    "        for layer in classifying_network.children():\n",
    "            counter += 1\n",
    "            if counter < 2:\n",
    "                #print(layer)\n",
    "                for param in layer.parameters():\n",
    "                    param.requires_grad = False\n",
    "                    \n",
    "    # Freeze feature selection layers only\n",
    "    def freeze_classification(self):\n",
    "        \n",
    "        counter = 0\n",
    "        for layer in classifying_network.children():\n",
    "            counter += 1\n",
    "            if counter == 2:\n",
    "                #print(layer)\n",
    "                for param in layer.parameters():\n",
    "                    param.requires_grad = False\n",
    "            \n",
    "    # Hook for the activations' gradients\n",
    "    def activations_hook(self, grad):\n",
    "        self.gradients = grad\n",
    "        \n",
    "    def forward(self,x):\n",
    "        \n",
    "        # To ensure that gradients will be tracked\n",
    "        #x.requires_grad = True\n",
    "        \n",
    "        # Feature extraction\n",
    "        x = self.feature_extraction(x)\n",
    "        \n",
    "        # Register the hook\n",
    "        if self.train and x.requires_grad:\n",
    "            h = x.register_hook(self.activations_hook)\n",
    "\n",
    "        # Flatten the image\n",
    "        #x = torch.flatten(x, start_dim=1)\n",
    "        x = x.view((x.shape[0], -1))        \n",
    "\n",
    "        # Classifying FC layer and activation function\n",
    "        x = self.classifier(x)\n",
    "        \n",
    "        return torch.softmax(x, dim=1)\n",
    "\n",
    "    # Output latent representations (or activations) of the last CNN layer\n",
    "    def output_latent_representations(self,x):        \n",
    "        return self.feature_extraction(x)     \n",
    "    \n",
    "    # Output gradient\n",
    "    def output_activation_gradient(self):\n",
    "        return self.gradients\n",
    "    \n",
    "    def gradcam_backup(self, x):\n",
    "        \n",
    "        # Calculate prediction\n",
    "        pred = self.forward(x)\n",
    "        \n",
    "        # Get the gradient from the prediction\n",
    "        pred.backward()\n",
    "         \n",
    "        # Extract the gradients from final layer extracting features\n",
    "        gradients = self.output_activation_gradient()\n",
    "        print(gradients.shape)\n",
    "        \n",
    "        # Pool the gradients\n",
    "        pooled_gradients = torch.mean(gradients, dim=[0,2,3,4])\n",
    "        \n",
    "        # Extract activations\n",
    "        activations = self.output_latent_representations(x).detach()\n",
    "        \n",
    "        # Weight activations by the gradients\n",
    "        activations[:, i, :, :, :] *= pooled_gradients[i]\n",
    "        \n",
    "        # Average the channels of the activations\n",
    "        heatmap = torch.mean(activations, dim=1).squeeze()\n",
    "        \n",
    "        heatmap = np.maximum(heatmap, 0)\n",
    "        \n",
    "        heatmap /= torch.max(heatmap)\n",
    "        \n",
    "        return heatmap    \n",
    "        \n",
    "    def gradcam(self, x, class_id):\n",
    "\n",
    "        # Calculate prediction\n",
    "        pred = self.forward(x)\n",
    "\n",
    "        # Get the gradient from the prediction\n",
    "        pred[:,class_id].backward()\n",
    "\n",
    "        # Extract the gradients from final layer extracting features\n",
    "        gradients = self.output_activation_gradient()\n",
    "        print(gradients.shape)\n",
    "\n",
    "        # Pool the gradients\n",
    "        pooled_gradients = torch.mean(gradients, dim=[0,2,3,4])\n",
    "\n",
    "        # Extract activations\n",
    "        activations = self.output_latent_representations(x).detach()\n",
    "\n",
    "        # Weight activations by the gradients\n",
    "        for i in range(self.init_features * self.scaling**2):\n",
    "            activations[:, i, :, :, :] *= pooled_gradients[i]\n",
    "\n",
    "        # Average the channels of the activations\n",
    "        heatmap = torch.mean(activations, dim=1).squeeze()\n",
    "\n",
    "        heatmap = np.maximum(heatmap, 0)\n",
    "\n",
    "        heatmap /= torch.max(heatmap)\n",
    "\n",
    "        return heatmap    "
   ]
  },
  {
   "cell_type": "markdown",
   "metadata": {},
   "source": [
    "# Training"
   ]
  },
  {
   "cell_type": "code",
   "execution_count": 15,
   "metadata": {},
   "outputs": [
    {
     "name": "stdout",
     "output_type": "stream",
     "text": [
      "cuda\n"
     ]
    }
   ],
   "source": [
    "# Try setting CUDA if possible\n",
    "if torch.cuda.is_available():\n",
    "    device = torch.device(\"cuda\")\n",
    "else:\n",
    "    device = torch.device(\"cpu\") \n",
    "    \n",
    "print(device)"
   ]
  },
  {
   "cell_type": "code",
   "execution_count": 16,
   "metadata": {},
   "outputs": [],
   "source": [
    "# Criterion\n",
    "criterion = nn.NLLLoss()"
   ]
  },
  {
   "cell_type": "code",
   "execution_count": 17,
   "metadata": {},
   "outputs": [],
   "source": [
    "# Function returning trained model\n",
    "def train_network(n_epochs, dataloaders, model, optimizer, criterion, device, save_path):\n",
    "    \n",
    "    track_train_loss = []\n",
    "    track_dev_train_loss = []\n",
    "    track_dev_test_loss = []\n",
    "    \n",
    "    track_train_acc = []\n",
    "    track_dev_train_acc = []\n",
    "    track_dev_test_acc = []\n",
    "    \n",
    "    valid_loss_min = np.Inf\n",
    "    \n",
    "    model.to(device)\n",
    "        \n",
    "    for epoch in tqdm(range(1, n_epochs+1)):\n",
    "        \n",
    "        # Initialize loss monitoring variables\n",
    "        train_loss = 0.0\n",
    "        dev_train_loss = 0.0\n",
    "        dev_test_loss = 0.0\n",
    "                \n",
    "        # Training\n",
    "        model.train()\n",
    "        \n",
    "        acc_targets=[]\n",
    "        acc_predictions=[]\n",
    "        \n",
    "        for batch in dataloaders['train']:\n",
    "            \n",
    "            data = batch['chiasm']['data'].to(device)\n",
    "            data.requires_grad = True\n",
    "            \n",
    "            optimizer.zero_grad()\n",
    "            \n",
    "            output=model(data)\n",
    "            \n",
    "            loss = criterion(output, batch['label'].to(device))\n",
    "            loss.backward()\n",
    "            \n",
    "            optimizer.step()\n",
    "            \n",
    "            train_loss+= (loss.item()*len(batch['label']))\n",
    "            \n",
    "            acc_targets+=batch['label'][:].numpy().tolist()\n",
    "            acc_predictions+=output.argmax(dim=1).cpu().numpy().tolist()\n",
    "            \n",
    "        track_train_loss.append(train_loss/len(concatenated_datasets['train']))        \n",
    "        track_train_acc.append(accuracy_score(acc_targets, acc_predictions)) \n",
    "            \n",
    "        # Validation on two datasets\n",
    "        model.eval()\n",
    "        \n",
    "        acc_targets=[]\n",
    "        acc_predictions=[]\n",
    "        \n",
    "        for batch in dataloaders['dev_train']:\n",
    "            \n",
    "            data = batch['chiasm']['data'].to(device)\n",
    "            data.requires_grad = True\n",
    "            \n",
    "            with torch.no_grad():\n",
    "                \n",
    "                output = model(data)\n",
    "                loss = criterion(output, batch['label'].to(device))\n",
    "                \n",
    "                dev_train_loss+= (loss.item()*len(batch['label']))\n",
    "                \n",
    "                acc_targets+=batch['label'][:].numpy().tolist()\n",
    "                acc_predictions+=output.argmax(dim=1).cpu().numpy().tolist()\n",
    "                \n",
    "        track_dev_train_loss.append(dev_train_loss/len(concatenated_datasets['dev_train']))\n",
    "        track_dev_train_acc.append(accuracy_score(acc_targets, acc_predictions)) \n",
    "        \n",
    "        acc_targets=[]\n",
    "        acc_predictions=[]\n",
    "        \n",
    "        for batch in dataloaders['dev_test']:\n",
    "            \n",
    "            data = batch['chiasm']['data'].to(device)\n",
    "            data.requires_grad = True\n",
    "            \n",
    "            with torch.no_grad():\n",
    "                \n",
    "                output = model(data)\n",
    "                loss = criterion(output, batch['label'].to(device))\n",
    "                \n",
    "                dev_test_loss+= (loss.item()*len(batch['label']))\n",
    "                \n",
    "                acc_targets+=batch['label'][:].numpy().tolist()\n",
    "                acc_predictions+=output.argmax(dim=1).cpu().numpy().tolist()\n",
    "                \n",
    "        track_dev_test_loss.append(dev_test_loss/len(concatenated_datasets['dev_test']))\n",
    "        track_dev_test_acc.append(accuracy_score(acc_targets, acc_predictions)) \n",
    "        \n",
    "        if epoch%1000 ==0:\n",
    "            print('END OF EPOCH: {} \\n Training loss per image: {:.6f}\\n Training_dev loss per image: {:.6f}\\n Test_dev loss per image: {:.6f}'.format(epoch, train_loss/len(concatenated_datasets['train']),dev_train_loss/len(concatenated_datasets['dev_train']),dev_test_loss/len(concatenated_datasets['dev_test'])))\n",
    "            \n",
    "        ## Save the model if reached min validation loss and save the number of epoch               \n",
    "        if dev_train_loss < valid_loss_min:\n",
    "            valid_loss_min = dev_train_loss\n",
    "            torch.save(model.state_dict(),save_path+'optimal_weights')\n",
    "            last_updated_epoch = epoch\n",
    "        \n",
    "            with open(save_path+'number_epochs.txt','w') as f:\n",
    "                print('Epoch:', str(epoch), file=f)  \n",
    "                \n",
    "        # Early stopping\n",
    "        if (epoch - last_updated_epoch) == 2000:\n",
    "            break\n",
    "                                \n",
    "    # return trained model\n",
    "    return track_train_loss, track_dev_train_loss, track_dev_test_loss, track_train_acc, track_dev_train_acc, track_dev_test_acc"
   ]
  },
  {
   "cell_type": "markdown",
   "metadata": {},
   "source": [
    "### Training classification layers only"
   ]
  },
  {
   "cell_type": "code",
   "execution_count": 18,
   "metadata": {},
   "outputs": [
    {
     "name": "stderr",
     "output_type": "stream",
     "text": [
      " 10%|█         | 1000/10000 [09:24<1:33:45,  1.60it/s]"
     ]
    },
    {
     "name": "stdout",
     "output_type": "stream",
     "text": [
      "END OF EPOCH: 1000 \n",
      " Training loss per image: -0.957989\n",
      " Training_dev loss per image: -0.757203\n",
      " Test_dev loss per image: -0.500005\n"
     ]
    },
    {
     "name": "stderr",
     "output_type": "stream",
     "text": [
      " 20%|██        | 2000/10000 [18:54<1:12:35,  1.84it/s]"
     ]
    },
    {
     "name": "stdout",
     "output_type": "stream",
     "text": [
      "END OF EPOCH: 2000 \n",
      " Training loss per image: -0.977157\n",
      " Training_dev loss per image: -0.694201\n",
      " Test_dev loss per image: -0.500000\n"
     ]
    },
    {
     "name": "stderr",
     "output_type": "stream",
     "text": [
      " 20%|██        | 2009/10000 [19:00<1:15:35,  1.76it/s]\n",
      " 10%|█         | 1000/10000 [09:42<1:27:43,  1.71it/s]"
     ]
    },
    {
     "name": "stdout",
     "output_type": "stream",
     "text": [
      "END OF EPOCH: 1000 \n",
      " Training loss per image: -0.942308\n",
      " Training_dev loss per image: -0.729630\n",
      " Test_dev loss per image: -0.500410\n"
     ]
    },
    {
     "name": "stderr",
     "output_type": "stream",
     "text": [
      " 20%|██        | 2000/10000 [19:39<1:22:04,  1.62it/s]"
     ]
    },
    {
     "name": "stdout",
     "output_type": "stream",
     "text": [
      "END OF EPOCH: 2000 \n",
      " Training loss per image: -0.947202\n",
      " Training_dev loss per image: -0.731456\n",
      " Test_dev loss per image: -0.500350\n"
     ]
    },
    {
     "name": "stderr",
     "output_type": "stream",
     "text": [
      " 21%|██        | 2064/10000 [20:19<1:18:09,  1.69it/s]\n",
      " 10%|█         | 1000/10000 [10:19<1:32:30,  1.62it/s]"
     ]
    },
    {
     "name": "stdout",
     "output_type": "stream",
     "text": [
      "END OF EPOCH: 1000 \n",
      " Training loss per image: -0.867594\n",
      " Training_dev loss per image: -0.852962\n",
      " Test_dev loss per image: -0.535258\n"
     ]
    },
    {
     "name": "stderr",
     "output_type": "stream",
     "text": [
      " 20%|██        | 2000/10000 [20:19<1:13:59,  1.80it/s]"
     ]
    },
    {
     "name": "stdout",
     "output_type": "stream",
     "text": [
      "END OF EPOCH: 2000 \n",
      " Training loss per image: -0.901004\n",
      " Training_dev loss per image: -0.785172\n",
      " Test_dev loss per image: -0.517004\n"
     ]
    },
    {
     "name": "stderr",
     "output_type": "stream",
     "text": [
      " 25%|██▌       | 2537/10000 [25:22<1:14:40,  1.67it/s]\n",
      " 10%|█         | 1000/10000 [09:25<1:25:17,  1.76it/s]"
     ]
    },
    {
     "name": "stdout",
     "output_type": "stream",
     "text": [
      "END OF EPOCH: 1000 \n",
      " Training loss per image: -0.650147\n",
      " Training_dev loss per image: -0.712647\n",
      " Test_dev loss per image: -0.543287\n"
     ]
    },
    {
     "name": "stderr",
     "output_type": "stream",
     "text": [
      " 20%|██        | 2000/10000 [18:51<1:16:17,  1.75it/s]"
     ]
    },
    {
     "name": "stdout",
     "output_type": "stream",
     "text": [
      "END OF EPOCH: 2000 \n",
      " Training loss per image: -0.717421\n",
      " Training_dev loss per image: -0.782916\n",
      " Test_dev loss per image: -0.520670\n"
     ]
    },
    {
     "name": "stderr",
     "output_type": "stream",
     "text": [
      " 30%|███       | 3000/10000 [28:32<1:11:06,  1.64it/s]"
     ]
    },
    {
     "name": "stdout",
     "output_type": "stream",
     "text": [
      "END OF EPOCH: 3000 \n",
      " Training loss per image: -0.747928\n",
      " Training_dev loss per image: -0.817142\n",
      " Test_dev loss per image: -0.517431\n"
     ]
    },
    {
     "name": "stderr",
     "output_type": "stream",
     "text": [
      " 40%|████      | 4000/10000 [38:45<57:30,  1.74it/s]  "
     ]
    },
    {
     "name": "stdout",
     "output_type": "stream",
     "text": [
      "END OF EPOCH: 4000 \n",
      " Training loss per image: -0.772218\n",
      " Training_dev loss per image: -0.836289\n",
      " Test_dev loss per image: -0.518963\n"
     ]
    },
    {
     "name": "stderr",
     "output_type": "stream",
     "text": [
      " 50%|█████     | 5000/10000 [48:27<49:09,  1.70it/s]  "
     ]
    },
    {
     "name": "stdout",
     "output_type": "stream",
     "text": [
      "END OF EPOCH: 5000 \n",
      " Training loss per image: -0.794878\n",
      " Training_dev loss per image: -0.840001\n",
      " Test_dev loss per image: -0.518056\n"
     ]
    },
    {
     "name": "stderr",
     "output_type": "stream",
     "text": [
      " 60%|██████    | 6000/10000 [58:01<38:10,  1.75it/s]"
     ]
    },
    {
     "name": "stdout",
     "output_type": "stream",
     "text": [
      "END OF EPOCH: 6000 \n",
      " Training loss per image: -0.834494\n",
      " Training_dev loss per image: -0.852511\n",
      " Test_dev loss per image: -0.526010\n"
     ]
    },
    {
     "name": "stderr",
     "output_type": "stream",
     "text": [
      " 70%|███████   | 7000/10000 [1:07:33<29:07,  1.72it/s]"
     ]
    },
    {
     "name": "stdout",
     "output_type": "stream",
     "text": [
      "END OF EPOCH: 7000 \n",
      " Training loss per image: -0.820017\n",
      " Training_dev loss per image: -0.852115\n",
      " Test_dev loss per image: -0.526327\n"
     ]
    },
    {
     "name": "stderr",
     "output_type": "stream",
     "text": [
      " 80%|████████  | 8000/10000 [1:17:12<19:21,  1.72it/s]"
     ]
    },
    {
     "name": "stdout",
     "output_type": "stream",
     "text": [
      "END OF EPOCH: 8000 \n",
      " Training loss per image: -0.822860\n",
      " Training_dev loss per image: -0.844725\n",
      " Test_dev loss per image: -0.526026\n"
     ]
    },
    {
     "name": "stderr",
     "output_type": "stream",
     "text": [
      " 83%|████████▎ | 8265/10000 [1:19:45<16:44,  1.73it/s]\n",
      " 10%|█         | 1000/10000 [10:03<1:28:08,  1.70it/s]"
     ]
    },
    {
     "name": "stdout",
     "output_type": "stream",
     "text": [
      "END OF EPOCH: 1000 \n",
      " Training loss per image: -0.503041\n",
      " Training_dev loss per image: -0.534184\n",
      " Test_dev loss per image: -0.510083\n"
     ]
    },
    {
     "name": "stderr",
     "output_type": "stream",
     "text": [
      " 20%|██        | 2000/10000 [19:46<1:15:40,  1.76it/s]"
     ]
    },
    {
     "name": "stdout",
     "output_type": "stream",
     "text": [
      "END OF EPOCH: 2000 \n",
      " Training loss per image: -0.546040\n",
      " Training_dev loss per image: -0.591434\n",
      " Test_dev loss per image: -0.527053\n"
     ]
    },
    {
     "name": "stderr",
     "output_type": "stream",
     "text": [
      " 30%|███       | 3000/10000 [29:39<1:06:01,  1.77it/s]"
     ]
    },
    {
     "name": "stdout",
     "output_type": "stream",
     "text": [
      "END OF EPOCH: 3000 \n",
      " Training loss per image: -0.563409\n",
      " Training_dev loss per image: -0.625899\n",
      " Test_dev loss per image: -0.537187\n"
     ]
    },
    {
     "name": "stderr",
     "output_type": "stream",
     "text": [
      " 40%|████      | 4000/10000 [39:22<58:06,  1.72it/s]  "
     ]
    },
    {
     "name": "stdout",
     "output_type": "stream",
     "text": [
      "END OF EPOCH: 4000 \n",
      " Training loss per image: -0.574878\n",
      " Training_dev loss per image: -0.654375\n",
      " Test_dev loss per image: -0.534891\n"
     ]
    },
    {
     "name": "stderr",
     "output_type": "stream",
     "text": [
      " 50%|█████     | 5000/10000 [48:55<47:16,  1.76it/s]"
     ]
    },
    {
     "name": "stdout",
     "output_type": "stream",
     "text": [
      "END OF EPOCH: 5000 \n",
      " Training loss per image: -0.603030\n",
      " Training_dev loss per image: -0.666891\n",
      " Test_dev loss per image: -0.528548\n"
     ]
    },
    {
     "name": "stderr",
     "output_type": "stream",
     "text": [
      " 60%|██████    | 6000/10000 [58:38<40:20,  1.65it/s]"
     ]
    },
    {
     "name": "stdout",
     "output_type": "stream",
     "text": [
      "END OF EPOCH: 6000 \n",
      " Training loss per image: -0.630250\n",
      " Training_dev loss per image: -0.678344\n",
      " Test_dev loss per image: -0.522118\n"
     ]
    },
    {
     "name": "stderr",
     "output_type": "stream",
     "text": [
      " 70%|███████   | 7000/10000 [1:08:33<31:32,  1.58it/s]"
     ]
    },
    {
     "name": "stdout",
     "output_type": "stream",
     "text": [
      "END OF EPOCH: 7000 \n",
      " Training loss per image: -0.628128\n",
      " Training_dev loss per image: -0.692401\n",
      " Test_dev loss per image: -0.519796\n"
     ]
    },
    {
     "name": "stderr",
     "output_type": "stream",
     "text": [
      " 80%|████████  | 8000/10000 [1:18:47<18:56,  1.76it/s]"
     ]
    },
    {
     "name": "stdout",
     "output_type": "stream",
     "text": [
      "END OF EPOCH: 8000 \n",
      " Training loss per image: -0.644496\n",
      " Training_dev loss per image: -0.702053\n",
      " Test_dev loss per image: -0.517587\n"
     ]
    },
    {
     "name": "stderr",
     "output_type": "stream",
     "text": [
      " 90%|█████████ | 9000/10000 [1:28:29<09:33,  1.74it/s]"
     ]
    },
    {
     "name": "stdout",
     "output_type": "stream",
     "text": [
      "END OF EPOCH: 9000 \n",
      " Training loss per image: -0.658763\n",
      " Training_dev loss per image: -0.714268\n",
      " Test_dev loss per image: -0.516194\n"
     ]
    },
    {
     "name": "stderr",
     "output_type": "stream",
     "text": [
      "100%|██████████| 10000/10000 [1:38:10<00:00,  1.70it/s]\n",
      "  0%|          | 0/10000 [00:00<?, ?it/s]"
     ]
    },
    {
     "name": "stdout",
     "output_type": "stream",
     "text": [
      "END OF EPOCH: 10000 \n",
      " Training loss per image: -0.645602\n",
      " Training_dev loss per image: -0.715963\n",
      " Test_dev loss per image: -0.512891\n"
     ]
    },
    {
     "name": "stderr",
     "output_type": "stream",
     "text": [
      " 10%|█         | 1000/10000 [09:57<1:27:47,  1.71it/s]"
     ]
    },
    {
     "name": "stdout",
     "output_type": "stream",
     "text": [
      "END OF EPOCH: 1000 \n",
      " Training loss per image: -0.545455\n",
      " Training_dev loss per image: -0.576923\n",
      " Test_dev loss per image: -0.500000\n"
     ]
    },
    {
     "name": "stderr",
     "output_type": "stream",
     "text": [
      " 20%|██        | 2000/10000 [20:34<1:24:40,  1.57it/s]"
     ]
    },
    {
     "name": "stdout",
     "output_type": "stream",
     "text": [
      "END OF EPOCH: 2000 \n",
      " Training loss per image: -0.545455\n",
      " Training_dev loss per image: -0.576923\n",
      " Test_dev loss per image: -0.500000\n"
     ]
    },
    {
     "name": "stderr",
     "output_type": "stream",
     "text": [
      " 24%|██▍       | 2439/10000 [25:10<1:18:02,  1.61it/s]\n",
      " 10%|█         | 1000/10000 [09:56<1:33:58,  1.60it/s]"
     ]
    },
    {
     "name": "stdout",
     "output_type": "stream",
     "text": [
      "END OF EPOCH: 1000 \n",
      " Training loss per image: -0.932670\n",
      " Training_dev loss per image: -0.742660\n",
      " Test_dev loss per image: -0.659332\n"
     ]
    },
    {
     "name": "stderr",
     "output_type": "stream",
     "text": [
      " 20%|██        | 2000/10000 [19:46<1:18:33,  1.70it/s]"
     ]
    },
    {
     "name": "stdout",
     "output_type": "stream",
     "text": [
      "END OF EPOCH: 2000 \n",
      " Training loss per image: -0.942357\n",
      " Training_dev loss per image: -0.720682\n",
      " Test_dev loss per image: -0.682525\n"
     ]
    },
    {
     "name": "stderr",
     "output_type": "stream",
     "text": [
      " 21%|██▏       | 2149/10000 [21:14<1:17:37,  1.69it/s]\n",
      " 10%|█         | 1000/10000 [09:36<1:26:07,  1.74it/s]"
     ]
    },
    {
     "name": "stdout",
     "output_type": "stream",
     "text": [
      "END OF EPOCH: 1000 \n",
      " Training loss per image: -0.764991\n",
      " Training_dev loss per image: -0.845819\n",
      " Test_dev loss per image: -0.602416\n"
     ]
    },
    {
     "name": "stderr",
     "output_type": "stream",
     "text": [
      " 20%|██        | 2000/10000 [19:09<1:15:24,  1.77it/s]"
     ]
    },
    {
     "name": "stdout",
     "output_type": "stream",
     "text": [
      "END OF EPOCH: 2000 \n",
      " Training loss per image: -0.832545\n",
      " Training_dev loss per image: -0.823336\n",
      " Test_dev loss per image: -0.655303\n"
     ]
    },
    {
     "name": "stderr",
     "output_type": "stream",
     "text": [
      " 30%|███       | 3000/10000 [28:44<1:07:42,  1.72it/s]"
     ]
    },
    {
     "name": "stdout",
     "output_type": "stream",
     "text": [
      "END OF EPOCH: 3000 \n",
      " Training loss per image: -0.854357\n",
      " Training_dev loss per image: -0.790748\n",
      " Test_dev loss per image: -0.676752\n"
     ]
    },
    {
     "name": "stderr",
     "output_type": "stream",
     "text": [
      " 32%|███▏      | 3215/10000 [30:48<1:05:00,  1.74it/s]\n",
      " 10%|█         | 1000/10000 [09:35<1:25:35,  1.75it/s]"
     ]
    },
    {
     "name": "stdout",
     "output_type": "stream",
     "text": [
      "END OF EPOCH: 1000 \n",
      " Training loss per image: -0.628690\n",
      " Training_dev loss per image: -0.682184\n",
      " Test_dev loss per image: -0.541009\n"
     ]
    },
    {
     "name": "stderr",
     "output_type": "stream",
     "text": [
      " 20%|██        | 2000/10000 [19:10<1:16:24,  1.74it/s]"
     ]
    },
    {
     "name": "stdout",
     "output_type": "stream",
     "text": [
      "END OF EPOCH: 2000 \n",
      " Training loss per image: -0.673574\n",
      " Training_dev loss per image: -0.732267\n",
      " Test_dev loss per image: -0.527145\n"
     ]
    },
    {
     "name": "stderr",
     "output_type": "stream",
     "text": [
      " 30%|███       | 3000/10000 [29:16<1:09:39,  1.67it/s]"
     ]
    },
    {
     "name": "stdout",
     "output_type": "stream",
     "text": [
      "END OF EPOCH: 3000 \n",
      " Training loss per image: -0.704155\n",
      " Training_dev loss per image: -0.763001\n",
      " Test_dev loss per image: -0.534375\n"
     ]
    },
    {
     "name": "stderr",
     "output_type": "stream",
     "text": [
      " 40%|████      | 4000/10000 [39:21<1:01:33,  1.62it/s]"
     ]
    },
    {
     "name": "stdout",
     "output_type": "stream",
     "text": [
      "END OF EPOCH: 4000 \n",
      " Training loss per image: -0.738976\n",
      " Training_dev loss per image: -0.776748\n",
      " Test_dev loss per image: -0.542577\n"
     ]
    },
    {
     "name": "stderr",
     "output_type": "stream",
     "text": [
      " 50%|█████     | 5000/10000 [49:31<49:54,  1.67it/s]  "
     ]
    },
    {
     "name": "stdout",
     "output_type": "stream",
     "text": [
      "END OF EPOCH: 5000 \n",
      " Training loss per image: -0.758676\n",
      " Training_dev loss per image: -0.792827\n",
      " Test_dev loss per image: -0.536085\n"
     ]
    },
    {
     "name": "stderr",
     "output_type": "stream",
     "text": [
      " 60%|██████    | 6000/10000 [59:49<43:30,  1.53it/s]  "
     ]
    },
    {
     "name": "stdout",
     "output_type": "stream",
     "text": [
      "END OF EPOCH: 6000 \n",
      " Training loss per image: -0.759415\n",
      " Training_dev loss per image: -0.810004\n",
      " Test_dev loss per image: -0.551046\n"
     ]
    },
    {
     "name": "stderr",
     "output_type": "stream",
     "text": [
      " 70%|███████   | 7000/10000 [1:09:46<28:43,  1.74it/s]"
     ]
    },
    {
     "name": "stdout",
     "output_type": "stream",
     "text": [
      "END OF EPOCH: 7000 \n",
      " Training loss per image: -0.774255\n",
      " Training_dev loss per image: -0.814935\n",
      " Test_dev loss per image: -0.543768\n"
     ]
    },
    {
     "name": "stderr",
     "output_type": "stream",
     "text": [
      " 80%|████████  | 8000/10000 [1:19:37<19:35,  1.70it/s]"
     ]
    },
    {
     "name": "stdout",
     "output_type": "stream",
     "text": [
      "END OF EPOCH: 8000 \n",
      " Training loss per image: -0.759260\n",
      " Training_dev loss per image: -0.830831\n",
      " Test_dev loss per image: -0.545607\n"
     ]
    },
    {
     "name": "stderr",
     "output_type": "stream",
     "text": [
      " 90%|█████████ | 9000/10000 [1:29:17<09:29,  1.76it/s]"
     ]
    },
    {
     "name": "stdout",
     "output_type": "stream",
     "text": [
      "END OF EPOCH: 9000 \n",
      " Training loss per image: -0.795593\n",
      " Training_dev loss per image: -0.838629\n",
      " Test_dev loss per image: -0.567938\n"
     ]
    },
    {
     "name": "stderr",
     "output_type": "stream",
     "text": [
      "100%|██████████| 10000/10000 [1:38:51<00:00,  1.69it/s]\n",
      "  0%|          | 0/10000 [00:00<?, ?it/s]"
     ]
    },
    {
     "name": "stdout",
     "output_type": "stream",
     "text": [
      "END OF EPOCH: 10000 \n",
      " Training loss per image: -0.788701\n",
      " Training_dev loss per image: -0.841337\n",
      " Test_dev loss per image: -0.610918\n"
     ]
    },
    {
     "name": "stderr",
     "output_type": "stream",
     "text": [
      " 10%|█         | 1000/10000 [09:38<1:27:24,  1.72it/s]"
     ]
    },
    {
     "name": "stdout",
     "output_type": "stream",
     "text": [
      "END OF EPOCH: 1000 \n",
      " Training loss per image: -0.542074\n",
      " Training_dev loss per image: -0.568033\n",
      " Test_dev loss per image: -0.500113\n"
     ]
    },
    {
     "name": "stderr",
     "output_type": "stream",
     "text": [
      " 20%|██        | 2000/10000 [19:20<1:17:00,  1.73it/s]"
     ]
    },
    {
     "name": "stdout",
     "output_type": "stream",
     "text": [
      "END OF EPOCH: 2000 \n",
      " Training loss per image: -0.545147\n",
      " Training_dev loss per image: -0.576187\n",
      " Test_dev loss per image: -0.500006\n"
     ]
    },
    {
     "name": "stderr",
     "output_type": "stream",
     "text": [
      " 30%|███       | 3000/10000 [29:20<1:13:39,  1.58it/s]"
     ]
    },
    {
     "name": "stdout",
     "output_type": "stream",
     "text": [
      "END OF EPOCH: 3000 \n",
      " Training loss per image: -0.545433\n",
      " Training_dev loss per image: -0.576855\n",
      " Test_dev loss per image: -0.500000\n"
     ]
    },
    {
     "name": "stderr",
     "output_type": "stream",
     "text": [
      " 40%|████      | 4000/10000 [39:34<57:47,  1.73it/s]  "
     ]
    },
    {
     "name": "stdout",
     "output_type": "stream",
     "text": [
      "END OF EPOCH: 4000 \n",
      " Training loss per image: -0.545452\n",
      " Training_dev loss per image: -0.576917\n",
      " Test_dev loss per image: -0.500000\n"
     ]
    },
    {
     "name": "stderr",
     "output_type": "stream",
     "text": [
      " 50%|█████     | 5000/10000 [49:29<49:41,  1.68it/s]"
     ]
    },
    {
     "name": "stdout",
     "output_type": "stream",
     "text": [
      "END OF EPOCH: 5000 \n",
      " Training loss per image: -0.545454\n",
      " Training_dev loss per image: -0.576922\n",
      " Test_dev loss per image: -0.500000\n"
     ]
    },
    {
     "name": "stderr",
     "output_type": "stream",
     "text": [
      " 60%|██████    | 6000/10000 [59:39<39:46,  1.68it/s]"
     ]
    },
    {
     "name": "stdout",
     "output_type": "stream",
     "text": [
      "END OF EPOCH: 6000 \n",
      " Training loss per image: -0.545455\n",
      " Training_dev loss per image: -0.576923\n",
      " Test_dev loss per image: -0.500000\n"
     ]
    },
    {
     "name": "stderr",
     "output_type": "stream",
     "text": [
      " 70%|███████   | 7000/10000 [1:09:41<28:27,  1.76it/s]"
     ]
    },
    {
     "name": "stdout",
     "output_type": "stream",
     "text": [
      "END OF EPOCH: 7000 \n",
      " Training loss per image: -0.545455\n",
      " Training_dev loss per image: -0.576923\n",
      " Test_dev loss per image: -0.500000\n"
     ]
    },
    {
     "name": "stderr",
     "output_type": "stream",
     "text": [
      " 80%|████████  | 8000/10000 [1:19:15<19:20,  1.72it/s]"
     ]
    },
    {
     "name": "stdout",
     "output_type": "stream",
     "text": [
      "END OF EPOCH: 8000 \n",
      " Training loss per image: -0.545455\n",
      " Training_dev loss per image: -0.576923\n",
      " Test_dev loss per image: -0.500000\n"
     ]
    },
    {
     "name": "stderr",
     "output_type": "stream",
     "text": [
      " 90%|█████████ | 9000/10000 [1:28:50<09:33,  1.74it/s]"
     ]
    },
    {
     "name": "stdout",
     "output_type": "stream",
     "text": [
      "END OF EPOCH: 9000 \n",
      " Training loss per image: -0.545455\n",
      " Training_dev loss per image: -0.576923\n",
      " Test_dev loss per image: -0.500000\n"
     ]
    },
    {
     "name": "stderr",
     "output_type": "stream",
     "text": [
      "100%|██████████| 10000/10000 [1:38:51<00:00,  1.69it/s]\n",
      "  0%|          | 0/10000 [00:00<?, ?it/s]"
     ]
    },
    {
     "name": "stdout",
     "output_type": "stream",
     "text": [
      "END OF EPOCH: 10000 \n",
      " Training loss per image: -0.545455\n",
      " Training_dev loss per image: -0.576923\n",
      " Test_dev loss per image: -0.500000\n"
     ]
    },
    {
     "name": "stderr",
     "output_type": "stream",
     "text": [
      " 10%|█         | 1000/10000 [09:29<1:25:55,  1.75it/s]"
     ]
    },
    {
     "name": "stdout",
     "output_type": "stream",
     "text": [
      "END OF EPOCH: 1000 \n",
      " Training loss per image: -0.960126\n",
      " Training_dev loss per image: -0.764645\n",
      " Test_dev loss per image: -0.500001\n"
     ]
    },
    {
     "name": "stderr",
     "output_type": "stream",
     "text": [
      " 20%|██        | 2000/10000 [18:57<1:16:04,  1.75it/s]"
     ]
    },
    {
     "name": "stdout",
     "output_type": "stream",
     "text": [
      "END OF EPOCH: 2000 \n",
      " Training loss per image: -0.965891\n",
      " Training_dev loss per image: -0.753728\n",
      " Test_dev loss per image: -0.500000\n"
     ]
    },
    {
     "name": "stderr",
     "output_type": "stream",
     "text": [
      " 23%|██▎       | 2261/10000 [21:26<1:13:23,  1.76it/s]\n",
      " 10%|█         | 1000/10000 [09:28<1:24:35,  1.77it/s]"
     ]
    },
    {
     "name": "stdout",
     "output_type": "stream",
     "text": [
      "END OF EPOCH: 1000 \n",
      " Training loss per image: -0.970169\n",
      " Training_dev loss per image: -0.706931\n",
      " Test_dev loss per image: -0.500004\n"
     ]
    },
    {
     "name": "stderr",
     "output_type": "stream",
     "text": [
      " 20%|██        | 2000/10000 [18:58<1:17:02,  1.73it/s]"
     ]
    },
    {
     "name": "stdout",
     "output_type": "stream",
     "text": [
      "END OF EPOCH: 2000 \n",
      " Training loss per image: -0.976276\n",
      " Training_dev loss per image: -0.677177\n",
      " Test_dev loss per image: -0.500000\n"
     ]
    },
    {
     "name": "stderr",
     "output_type": "stream",
     "text": [
      " 21%|██        | 2073/10000 [19:40<1:15:15,  1.76it/s]\n",
      " 10%|█         | 1000/10000 [09:27<1:25:40,  1.75it/s]"
     ]
    },
    {
     "name": "stdout",
     "output_type": "stream",
     "text": [
      "END OF EPOCH: 1000 \n",
      " Training loss per image: -0.887424\n",
      " Training_dev loss per image: -0.788512\n",
      " Test_dev loss per image: -0.509886\n"
     ]
    },
    {
     "name": "stderr",
     "output_type": "stream",
     "text": [
      " 20%|██        | 2000/10000 [18:55<1:14:42,  1.78it/s]"
     ]
    },
    {
     "name": "stdout",
     "output_type": "stream",
     "text": [
      "END OF EPOCH: 2000 \n",
      " Training loss per image: -0.917481\n",
      " Training_dev loss per image: -0.751492\n",
      " Test_dev loss per image: -0.502528\n"
     ]
    },
    {
     "name": "stderr",
     "output_type": "stream",
     "text": [
      " 24%|██▍       | 2422/10000 [22:56<1:11:46,  1.76it/s]\n",
      " 10%|█         | 1000/10000 [09:30<1:26:25,  1.74it/s]"
     ]
    },
    {
     "name": "stdout",
     "output_type": "stream",
     "text": [
      "END OF EPOCH: 1000 \n",
      " Training loss per image: -0.661967\n",
      " Training_dev loss per image: -0.702186\n",
      " Test_dev loss per image: -0.521193\n"
     ]
    },
    {
     "name": "stderr",
     "output_type": "stream",
     "text": [
      " 20%|██        | 2000/10000 [19:05<1:17:17,  1.73it/s]"
     ]
    },
    {
     "name": "stdout",
     "output_type": "stream",
     "text": [
      "END OF EPOCH: 2000 \n",
      " Training loss per image: -0.724314\n",
      " Training_dev loss per image: -0.778102\n",
      " Test_dev loss per image: -0.510821\n"
     ]
    },
    {
     "name": "stderr",
     "output_type": "stream",
     "text": [
      " 30%|███       | 3000/10000 [28:45<1:07:52,  1.72it/s]"
     ]
    },
    {
     "name": "stdout",
     "output_type": "stream",
     "text": [
      "END OF EPOCH: 3000 \n",
      " Training loss per image: -0.772404\n",
      " Training_dev loss per image: -0.829369\n",
      " Test_dev loss per image: -0.512351\n"
     ]
    },
    {
     "name": "stderr",
     "output_type": "stream",
     "text": [
      " 40%|████      | 4000/10000 [38:22<58:15,  1.72it/s]  "
     ]
    },
    {
     "name": "stdout",
     "output_type": "stream",
     "text": [
      "END OF EPOCH: 4000 \n",
      " Training loss per image: -0.810894\n",
      " Training_dev loss per image: -0.856079\n",
      " Test_dev loss per image: -0.517282\n"
     ]
    },
    {
     "name": "stderr",
     "output_type": "stream",
     "text": [
      " 50%|█████     | 5000/10000 [48:01<48:16,  1.73it/s]"
     ]
    },
    {
     "name": "stdout",
     "output_type": "stream",
     "text": [
      "END OF EPOCH: 5000 \n",
      " Training loss per image: -0.853414\n",
      " Training_dev loss per image: -0.851065\n",
      " Test_dev loss per image: -0.515440\n"
     ]
    },
    {
     "name": "stderr",
     "output_type": "stream",
     "text": [
      " 60%|██████    | 6000/10000 [57:40<38:57,  1.71it/s]"
     ]
    },
    {
     "name": "stdout",
     "output_type": "stream",
     "text": [
      "END OF EPOCH: 6000 \n",
      " Training loss per image: -0.844262\n",
      " Training_dev loss per image: -0.846434\n",
      " Test_dev loss per image: -0.518180\n"
     ]
    },
    {
     "name": "stderr",
     "output_type": "stream",
     "text": [
      " 64%|██████▍   | 6379/10000 [1:01:20<34:49,  1.73it/s]\n",
      " 10%|█         | 1000/10000 [09:38<1:26:14,  1.74it/s]"
     ]
    },
    {
     "name": "stdout",
     "output_type": "stream",
     "text": [
      "END OF EPOCH: 1000 \n",
      " Training loss per image: -0.498287\n",
      " Training_dev loss per image: -0.507969\n",
      " Test_dev loss per image: -0.478250\n"
     ]
    },
    {
     "name": "stderr",
     "output_type": "stream",
     "text": [
      " 20%|██        | 2000/10000 [19:16<1:18:40,  1.69it/s]"
     ]
    },
    {
     "name": "stdout",
     "output_type": "stream",
     "text": [
      "END OF EPOCH: 2000 \n",
      " Training loss per image: -0.528498\n",
      " Training_dev loss per image: -0.542398\n",
      " Test_dev loss per image: -0.489456\n"
     ]
    },
    {
     "name": "stderr",
     "output_type": "stream",
     "text": [
      " 30%|███       | 3000/10000 [28:54<1:08:41,  1.70it/s]"
     ]
    },
    {
     "name": "stdout",
     "output_type": "stream",
     "text": [
      "END OF EPOCH: 3000 \n",
      " Training loss per image: -0.539630\n",
      " Training_dev loss per image: -0.560628\n",
      " Test_dev loss per image: -0.493455\n"
     ]
    },
    {
     "name": "stderr",
     "output_type": "stream",
     "text": [
      " 40%|████      | 4000/10000 [38:57<1:02:01,  1.61it/s]"
     ]
    },
    {
     "name": "stdout",
     "output_type": "stream",
     "text": [
      "END OF EPOCH: 4000 \n",
      " Training loss per image: -0.550363\n",
      " Training_dev loss per image: -0.575213\n",
      " Test_dev loss per image: -0.494561\n"
     ]
    },
    {
     "name": "stderr",
     "output_type": "stream",
     "text": [
      " 50%|█████     | 5000/10000 [49:09<50:17,  1.66it/s]  "
     ]
    },
    {
     "name": "stdout",
     "output_type": "stream",
     "text": [
      "END OF EPOCH: 5000 \n",
      " Training loss per image: -0.560516\n",
      " Training_dev loss per image: -0.593767\n",
      " Test_dev loss per image: -0.499429\n"
     ]
    },
    {
     "name": "stderr",
     "output_type": "stream",
     "text": [
      " 60%|██████    | 6000/10000 [59:20<40:56,  1.63it/s]"
     ]
    },
    {
     "name": "stdout",
     "output_type": "stream",
     "text": [
      "END OF EPOCH: 6000 \n",
      " Training loss per image: -0.570604\n",
      " Training_dev loss per image: -0.617160\n",
      " Test_dev loss per image: -0.510223\n"
     ]
    },
    {
     "name": "stderr",
     "output_type": "stream",
     "text": [
      " 70%|███████   | 7000/10000 [1:09:31<30:41,  1.63it/s]"
     ]
    },
    {
     "name": "stdout",
     "output_type": "stream",
     "text": [
      "END OF EPOCH: 7000 \n",
      " Training loss per image: -0.590740\n",
      " Training_dev loss per image: -0.630359\n",
      " Test_dev loss per image: -0.518981\n"
     ]
    },
    {
     "name": "stderr",
     "output_type": "stream",
     "text": [
      " 80%|████████  | 8000/10000 [1:19:43<20:08,  1.66it/s]"
     ]
    },
    {
     "name": "stdout",
     "output_type": "stream",
     "text": [
      "END OF EPOCH: 8000 \n",
      " Training loss per image: -0.607506\n",
      " Training_dev loss per image: -0.646122\n",
      " Test_dev loss per image: -0.518648\n"
     ]
    },
    {
     "name": "stderr",
     "output_type": "stream",
     "text": [
      " 90%|█████████ | 9000/10000 [1:29:55<10:14,  1.63it/s]"
     ]
    },
    {
     "name": "stdout",
     "output_type": "stream",
     "text": [
      "END OF EPOCH: 9000 \n",
      " Training loss per image: -0.616407\n",
      " Training_dev loss per image: -0.665508\n",
      " Test_dev loss per image: -0.518423\n"
     ]
    },
    {
     "name": "stderr",
     "output_type": "stream",
     "text": [
      "100%|██████████| 10000/10000 [1:40:08<00:00,  1.66it/s]\n",
      "  0%|          | 0/10000 [00:00<?, ?it/s]"
     ]
    },
    {
     "name": "stdout",
     "output_type": "stream",
     "text": [
      "END OF EPOCH: 10000 \n",
      " Training loss per image: -0.646162\n",
      " Training_dev loss per image: -0.682903\n",
      " Test_dev loss per image: -0.516792\n"
     ]
    },
    {
     "name": "stderr",
     "output_type": "stream",
     "text": [
      " 10%|█         | 1000/10000 [10:21<1:33:19,  1.61it/s]"
     ]
    },
    {
     "name": "stdout",
     "output_type": "stream",
     "text": [
      "END OF EPOCH: 1000 \n",
      " Training loss per image: -0.545455\n",
      " Training_dev loss per image: -0.576923\n",
      " Test_dev loss per image: -0.500000\n"
     ]
    },
    {
     "name": "stderr",
     "output_type": "stream",
     "text": [
      " 20%|██        | 2000/10000 [20:49<1:24:40,  1.57it/s]"
     ]
    },
    {
     "name": "stdout",
     "output_type": "stream",
     "text": [
      "END OF EPOCH: 2000 \n",
      " Training loss per image: -0.545455\n",
      " Training_dev loss per image: -0.576923\n",
      " Test_dev loss per image: -0.500000\n"
     ]
    },
    {
     "name": "stderr",
     "output_type": "stream",
     "text": [
      " 22%|██▏       | 2187/10000 [22:48<1:21:28,  1.60it/s]\n",
      " 10%|█         | 1000/10000 [10:29<1:34:06,  1.59it/s]"
     ]
    },
    {
     "name": "stdout",
     "output_type": "stream",
     "text": [
      "END OF EPOCH: 1000 \n",
      " Training loss per image: -0.545455\n",
      " Training_dev loss per image: -0.576923\n",
      " Test_dev loss per image: -0.500000\n"
     ]
    },
    {
     "name": "stderr",
     "output_type": "stream",
     "text": [
      " 20%|██        | 2000/10000 [20:58<1:24:23,  1.58it/s]"
     ]
    },
    {
     "name": "stdout",
     "output_type": "stream",
     "text": [
      "END OF EPOCH: 2000 \n",
      " Training loss per image: -0.950893\n",
      " Training_dev loss per image: -0.745475\n",
      " Test_dev loss per image: -0.651814\n"
     ]
    },
    {
     "name": "stderr",
     "output_type": "stream",
     "text": [
      " 30%|███       | 3000/10000 [31:53<1:14:56,  1.56it/s]"
     ]
    },
    {
     "name": "stdout",
     "output_type": "stream",
     "text": [
      "END OF EPOCH: 3000 \n",
      " Training loss per image: -0.972934\n",
      " Training_dev loss per image: -0.732727\n",
      " Test_dev loss per image: -0.699710\n"
     ]
    },
    {
     "name": "stderr",
     "output_type": "stream",
     "text": [
      " 31%|███▏      | 3134/10000 [33:21<1:13:05,  1.57it/s]\n",
      " 10%|█         | 1000/10000 [10:54<1:36:58,  1.55it/s]"
     ]
    },
    {
     "name": "stdout",
     "output_type": "stream",
     "text": [
      "END OF EPOCH: 1000 \n",
      " Training loss per image: -0.845013\n",
      " Training_dev loss per image: -0.854021\n",
      " Test_dev loss per image: -0.637217\n"
     ]
    },
    {
     "name": "stderr",
     "output_type": "stream",
     "text": [
      " 20%|██        | 2000/10000 [21:47<1:27:24,  1.53it/s]"
     ]
    },
    {
     "name": "stdout",
     "output_type": "stream",
     "text": [
      "END OF EPOCH: 2000 \n",
      " Training loss per image: -0.897477\n",
      " Training_dev loss per image: -0.770107\n",
      " Test_dev loss per image: -0.603166\n"
     ]
    },
    {
     "name": "stderr",
     "output_type": "stream",
     "text": [
      " 29%|██▉       | 2880/10000 [31:24<1:17:38,  1.53it/s]\n",
      " 10%|█         | 1000/10000 [10:56<1:36:34,  1.55it/s]"
     ]
    },
    {
     "name": "stdout",
     "output_type": "stream",
     "text": [
      "END OF EPOCH: 1000 \n",
      " Training loss per image: -0.613661\n",
      " Training_dev loss per image: -0.638018\n",
      " Test_dev loss per image: -0.576336\n"
     ]
    },
    {
     "name": "stderr",
     "output_type": "stream",
     "text": [
      " 20%|██        | 2000/10000 [21:50<1:26:32,  1.54it/s]"
     ]
    },
    {
     "name": "stdout",
     "output_type": "stream",
     "text": [
      "END OF EPOCH: 2000 \n",
      " Training loss per image: -0.668085\n",
      " Training_dev loss per image: -0.720698\n",
      " Test_dev loss per image: -0.544021\n"
     ]
    },
    {
     "name": "stderr",
     "output_type": "stream",
     "text": [
      " 30%|███       | 3000/10000 [32:45<1:16:55,  1.52it/s]"
     ]
    },
    {
     "name": "stdout",
     "output_type": "stream",
     "text": [
      "END OF EPOCH: 3000 \n",
      " Training loss per image: -0.719998\n",
      " Training_dev loss per image: -0.754651\n",
      " Test_dev loss per image: -0.535565\n"
     ]
    },
    {
     "name": "stderr",
     "output_type": "stream",
     "text": [
      " 40%|████      | 4000/10000 [43:39<1:05:56,  1.52it/s]"
     ]
    },
    {
     "name": "stdout",
     "output_type": "stream",
     "text": [
      "END OF EPOCH: 4000 \n",
      " Training loss per image: -0.748180\n",
      " Training_dev loss per image: -0.785202\n",
      " Test_dev loss per image: -0.532339\n"
     ]
    },
    {
     "name": "stderr",
     "output_type": "stream",
     "text": [
      " 50%|█████     | 5000/10000 [54:31<53:41,  1.55it/s]  "
     ]
    },
    {
     "name": "stdout",
     "output_type": "stream",
     "text": [
      "END OF EPOCH: 5000 \n",
      " Training loss per image: -0.756415\n",
      " Training_dev loss per image: -0.809978\n",
      " Test_dev loss per image: -0.549913\n"
     ]
    },
    {
     "name": "stderr",
     "output_type": "stream",
     "text": [
      " 60%|██████    | 6000/10000 [1:05:25<42:54,  1.55it/s]"
     ]
    },
    {
     "name": "stdout",
     "output_type": "stream",
     "text": [
      "END OF EPOCH: 6000 \n",
      " Training loss per image: -0.758249\n",
      " Training_dev loss per image: -0.823799\n",
      " Test_dev loss per image: -0.567046\n"
     ]
    },
    {
     "name": "stderr",
     "output_type": "stream",
     "text": [
      " 70%|███████   | 7000/10000 [1:16:18<32:43,  1.53it/s]"
     ]
    },
    {
     "name": "stdout",
     "output_type": "stream",
     "text": [
      "END OF EPOCH: 7000 \n",
      " Training loss per image: -0.800610\n",
      " Training_dev loss per image: -0.834560\n",
      " Test_dev loss per image: -0.607924\n"
     ]
    },
    {
     "name": "stderr",
     "output_type": "stream",
     "text": [
      " 80%|████████  | 8000/10000 [1:27:13<21:52,  1.52it/s]"
     ]
    },
    {
     "name": "stdout",
     "output_type": "stream",
     "text": [
      "END OF EPOCH: 8000 \n",
      " Training loss per image: -0.812707\n",
      " Training_dev loss per image: -0.841631\n",
      " Test_dev loss per image: -0.566833\n"
     ]
    },
    {
     "name": "stderr",
     "output_type": "stream",
     "text": [
      " 90%|█████████ | 9000/10000 [1:38:07<10:49,  1.54it/s]"
     ]
    },
    {
     "name": "stdout",
     "output_type": "stream",
     "text": [
      "END OF EPOCH: 9000 \n",
      " Training loss per image: -0.800058\n",
      " Training_dev loss per image: -0.850553\n",
      " Test_dev loss per image: -0.583371\n"
     ]
    },
    {
     "name": "stderr",
     "output_type": "stream",
     "text": [
      "100%|██████████| 10000/10000 [1:49:02<00:00,  1.53it/s]\n",
      "  0%|          | 0/10000 [00:00<?, ?it/s]"
     ]
    },
    {
     "name": "stdout",
     "output_type": "stream",
     "text": [
      "END OF EPOCH: 10000 \n",
      " Training loss per image: -0.810654\n",
      " Training_dev loss per image: -0.845717\n",
      " Test_dev loss per image: -0.597222\n"
     ]
    },
    {
     "name": "stderr",
     "output_type": "stream",
     "text": [
      " 10%|█         | 1000/10000 [10:57<1:37:49,  1.53it/s]"
     ]
    },
    {
     "name": "stdout",
     "output_type": "stream",
     "text": [
      "END OF EPOCH: 1000 \n",
      " Training loss per image: -0.467243\n",
      " Training_dev loss per image: -0.470227\n",
      " Test_dev loss per image: -0.470879\n"
     ]
    },
    {
     "name": "stderr",
     "output_type": "stream",
     "text": [
      " 20%|██        | 2000/10000 [21:53<1:26:55,  1.53it/s]"
     ]
    },
    {
     "name": "stdout",
     "output_type": "stream",
     "text": [
      "END OF EPOCH: 2000 \n",
      " Training loss per image: -0.515772\n",
      " Training_dev loss per image: -0.535541\n",
      " Test_dev loss per image: -0.485441\n"
     ]
    },
    {
     "name": "stderr",
     "output_type": "stream",
     "text": [
      " 30%|███       | 3000/10000 [32:47<1:15:52,  1.54it/s]"
     ]
    },
    {
     "name": "stdout",
     "output_type": "stream",
     "text": [
      "END OF EPOCH: 3000 \n",
      " Training loss per image: -0.547405\n",
      " Training_dev loss per image: -0.582934\n",
      " Test_dev loss per image: -0.513580\n"
     ]
    },
    {
     "name": "stderr",
     "output_type": "stream",
     "text": [
      " 40%|████      | 4000/10000 [43:43<1:05:34,  1.53it/s]"
     ]
    },
    {
     "name": "stdout",
     "output_type": "stream",
     "text": [
      "END OF EPOCH: 4000 \n",
      " Training loss per image: -0.561400\n",
      " Training_dev loss per image: -0.618127\n",
      " Test_dev loss per image: -0.524677\n"
     ]
    },
    {
     "name": "stderr",
     "output_type": "stream",
     "text": [
      " 50%|█████     | 5000/10000 [54:38<53:48,  1.55it/s]  "
     ]
    },
    {
     "name": "stdout",
     "output_type": "stream",
     "text": [
      "END OF EPOCH: 5000 \n",
      " Training loss per image: -0.594110\n",
      " Training_dev loss per image: -0.641965\n",
      " Test_dev loss per image: -0.523048\n"
     ]
    },
    {
     "name": "stderr",
     "output_type": "stream",
     "text": [
      " 60%|██████    | 6000/10000 [1:05:33<43:01,  1.55it/s]"
     ]
    },
    {
     "name": "stdout",
     "output_type": "stream",
     "text": [
      "END OF EPOCH: 6000 \n",
      " Training loss per image: -0.608575\n",
      " Training_dev loss per image: -0.666374\n",
      " Test_dev loss per image: -0.528275\n"
     ]
    },
    {
     "name": "stderr",
     "output_type": "stream",
     "text": [
      " 70%|███████   | 7000/10000 [1:16:27<32:11,  1.55it/s]"
     ]
    },
    {
     "name": "stdout",
     "output_type": "stream",
     "text": [
      "END OF EPOCH: 7000 \n",
      " Training loss per image: -0.619662\n",
      " Training_dev loss per image: -0.680902\n",
      " Test_dev loss per image: -0.520359\n"
     ]
    },
    {
     "name": "stderr",
     "output_type": "stream",
     "text": [
      " 80%|████████  | 8000/10000 [1:27:22<22:09,  1.50it/s]"
     ]
    },
    {
     "name": "stdout",
     "output_type": "stream",
     "text": [
      "END OF EPOCH: 8000 \n",
      " Training loss per image: -0.635954\n",
      " Training_dev loss per image: -0.691888\n",
      " Test_dev loss per image: -0.521449\n"
     ]
    },
    {
     "name": "stderr",
     "output_type": "stream",
     "text": [
      " 90%|█████████ | 9000/10000 [1:38:16<10:48,  1.54it/s]"
     ]
    },
    {
     "name": "stdout",
     "output_type": "stream",
     "text": [
      "END OF EPOCH: 9000 \n",
      " Training loss per image: -0.653496\n",
      " Training_dev loss per image: -0.704126\n",
      " Test_dev loss per image: -0.525031\n"
     ]
    },
    {
     "name": "stderr",
     "output_type": "stream",
     "text": [
      "100%|██████████| 10000/10000 [1:49:09<00:00,  1.53it/s]"
     ]
    },
    {
     "name": "stdout",
     "output_type": "stream",
     "text": [
      "END OF EPOCH: 10000 \n",
      " Training loss per image: -0.645325\n",
      " Training_dev loss per image: -0.710244\n",
      " Test_dev loss per image: -0.524911\n"
     ]
    },
    {
     "name": "stderr",
     "output_type": "stream",
     "text": [
      "\n"
     ]
    }
   ],
   "source": [
    "model_parameters=[[8,2,0,0],[32,1,0,0], [8,2,1,16], [32,1,1,16]]#\n",
    "learning_rates = [0.001, 0.0001,0.00001,0.000001,0.0000001]\n",
    "\n",
    "n_epochs=10000\n",
    "\n",
    "folder='../../1_Data/3_Trained_classifier/'\n",
    "\n",
    "for parameters in model_parameters:\n",
    "    for learning_rate in learning_rates:\n",
    "\n",
    "        # Initialize the proper model\n",
    "        classifying_network = Classify_chiasm(parameters[0],parameters[1], parameters[2], parameters[3])\n",
    "        classifying_network.freeze_feature_extraction()\n",
    "\n",
    "        # Optimizer    \n",
    "        optimizer = torch.optim.Adam(params=filter(lambda p: p.requires_grad, classifying_network.parameters()), lr=learning_rate)\n",
    "        #optimizer = torch.optim.Adam(params=classifying_network.parameters(), lr=0.00005)\n",
    "\n",
    "        # Create output folder\n",
    "        data_folder = folder+'/'+str(parameters[0])+'_'+str(parameters[1])+'_'+str(parameters[2])+'_'+str(parameters[3])+'_'+str(learning_rate)+'/'\n",
    "        os.makedirs(data_folder, exist_ok=True)\n",
    "\n",
    "        # Train & save weights\n",
    "        train_loss, dev_train_loss, dev_test_loss, train_acc, dev_train_acc, dev_test_acc = train_network(n_epochs, dataloaders_chiasm, classifying_network, optimizer, criterion, device, data_folder)\n",
    "\n",
    "        # Save losses\n",
    "        with open(data_folder+'train_loss.pkl', 'wb') as f:\n",
    "            pickle.dump(train_loss, f)\n",
    "\n",
    "        with open(data_folder+'dev_train_loss.pkl', 'wb') as f:\n",
    "            pickle.dump(dev_train_loss, f)\n",
    "\n",
    "        with open(data_folder+'dev_test_loss.pkl', 'wb') as f:\n",
    "            pickle.dump(dev_test_loss, f)\n",
    "\n",
    "        with open(data_folder+'train_acc.pkl', 'wb') as f:\n",
    "            pickle.dump(train_acc, f)\n",
    "\n",
    "        with open(data_folder+'dev_train_acc.pkl', 'wb') as f:\n",
    "            pickle.dump(dev_train_acc, f)\n",
    "\n",
    "        with open(data_folder+'dev_test_acc.pkl', 'wb') as f:\n",
    "            pickle.dump(dev_test_acc, f)"
   ]
  },
  {
   "cell_type": "markdown",
   "metadata": {},
   "source": [
    "### Training of the whole network"
   ]
  },
  {
   "cell_type": "code",
   "execution_count": null,
   "metadata": {},
   "outputs": [],
   "source": [
    "model_parameters=[[8,2,0,0],[32,1,0,0], [8,2,1,16], [32,1,1,16]]#\n",
    "learning_rates = [0.001, 0.0001,0.00001,0.000001,0.0000001]\n",
    "\n",
    "n_epochs=10000\n",
    "\n",
    "folder='../../1_Data/3_Trained_classifier_fully_retrained//'\n",
    "\n",
    "for parameters in model_parameters:\n",
    "    for learning_rate in learning_rates:\n",
    "\n",
    "        # Initialize the proper model\n",
    "        classifying_network = Classify_chiasm(parameters[0],parameters[1], parameters[2], parameters[3])\n",
    "\n",
    "        # Optimizer    \n",
    "        optimizer = torch.optim.Adam(params=filter(lambda p: p.requires_grad, classifying_network.parameters()), lr=learning_rate)\n",
    "        #optimizer = torch.optim.Adam(params=classifying_network.parameters(), lr=0.00005)\n",
    "\n",
    "        # Create output folder\n",
    "        data_folder = folder+'/'+str(parameters[0])+'_'+str(parameters[1])+'_'+str(parameters[2])+'_'+str(parameters[3])+'_'+str(learning_rate)+'/'\n",
    "        os.makedirs(data_folder, exist_ok=True)\n",
    "\n",
    "        # Train & save weights\n",
    "        train_loss, dev_train_loss, dev_test_loss, train_acc, dev_train_acc, dev_test_acc = train_network(n_epochs, dataloaders_chiasm, classifying_network, optimizer, criterion, device, data_folder)\n",
    "\n",
    "        # Save losses\n",
    "        with open(data_folder+'train_loss.pkl', 'wb') as f:\n",
    "            pickle.dump(train_loss, f)\n",
    "\n",
    "        with open(data_folder+'dev_train_loss.pkl', 'wb') as f:\n",
    "            pickle.dump(dev_train_loss, f)\n",
    "\n",
    "        with open(data_folder+'dev_test_loss.pkl', 'wb') as f:\n",
    "            pickle.dump(dev_test_loss, f)\n",
    "\n",
    "        with open(data_folder+'train_acc.pkl', 'wb') as f:\n",
    "            pickle.dump(train_acc, f)\n",
    "\n",
    "        with open(data_folder+'dev_train_acc.pkl', 'wb') as f:\n",
    "            pickle.dump(dev_train_acc, f)\n",
    "\n",
    "        with open(data_folder+'dev_test_acc.pkl', 'wb') as f:\n",
    "            pickle.dump(dev_test_acc, f)"
   ]
  },
  {
   "cell_type": "markdown",
   "metadata": {},
   "source": [
    "### Fine-tuning of feature selection"
   ]
  },
  {
   "cell_type": "code",
   "execution_count": null,
   "metadata": {},
   "outputs": [],
   "source": [
    "model_parameters=[[8,2,0,0],[32,1,0,0], [8,2,1,16], [32,1,1,16]]#\n",
    "learning_rates = [0.001, 0.0001,0.00001,0.000001,0.0000001]\n",
    "\n",
    "n_epochs=10000\n",
    "\n",
    "folder='../../1_Data/3_Trained_classifier/'\n",
    "\n",
    "for parameters in model_parameters:\n",
    "    for learning_rate in learning_rates:\n",
    "\n",
    "        # Initialize the proper model\n",
    "        classifying_network = Classify_chiasm(parameters[0],parameters[1], parameters[2], parameters[3]) \n",
    "        # LOAD\n",
    "        classifying_network.freeze_classification()\n",
    "\n",
    "        # Optimizer    \n",
    "        optimizer = torch.optim.Adam(params=filter(lambda p: p.requires_grad, classifying_network.parameters()), lr=learning_rate)\n",
    "        #optimizer = torch.optim.Adam(params=classifying_network.parameters(), lr=0.00005)\n",
    "\n",
    "        # Create output folder\n",
    "        data_folder = folder+'/'+str(parameters[0])+'_'+str(parameters[1])+'_'+str(parameters[2])+'_'+str(parameters[3])+'_'+str(learning_rate)+'/'\n",
    "        os.makedirs(data_folder, exist_ok=True)\n",
    "\n",
    "        # Train & save weights\n",
    "        train_loss, dev_train_loss, dev_test_loss, train_acc, dev_train_acc, dev_test_acc = train_network(n_epochs, dataloaders_chiasm, classifying_network, optimizer, criterion, device, data_folder)\n",
    "\n",
    "        # Save losses\n",
    "        with open(data_folder+'train_loss.pkl', 'wb') as f:\n",
    "            pickle.dump(train_loss, f)\n",
    "\n",
    "        with open(data_folder+'dev_train_loss.pkl', 'wb') as f:\n",
    "            pickle.dump(dev_train_loss, f)\n",
    "\n",
    "        with open(data_folder+'dev_test_loss.pkl', 'wb') as f:\n",
    "            pickle.dump(dev_test_loss, f)\n",
    "\n",
    "        with open(data_folder+'train_acc.pkl', 'wb') as f:\n",
    "            pickle.dump(train_acc, f)\n",
    "\n",
    "        with open(data_folder+'dev_train_acc.pkl', 'wb') as f:\n",
    "            pickle.dump(dev_train_acc, f)\n",
    "\n",
    "        with open(data_folder+'dev_test_acc.pkl', 'wb') as f:\n",
    "            pickle.dump(dev_test_acc, f)"
   ]
  },
  {
   "cell_type": "markdown",
   "metadata": {},
   "source": [
    "# Secondary functions"
   ]
  },
  {
   "cell_type": "code",
   "execution_count": 46,
   "metadata": {},
   "outputs": [],
   "source": [
    "classifying_network=Classify_chiasm(32,1,1,64)"
   ]
  },
  {
   "cell_type": "code",
   "execution_count": 47,
   "metadata": {},
   "outputs": [
    {
     "name": "stdout",
     "output_type": "stream",
     "text": [
      "22\n"
     ]
    }
   ],
   "source": [
    "# Count layers where require_grad = True\n",
    "counter = 0\n",
    "for layer in classifying_network.children():\n",
    "    for param in layer.parameters():\n",
    "        if param.requires_grad == True:\n",
    "            counter += 1\n",
    "\n",
    "print(counter)\n",
    "            "
   ]
  },
  {
   "cell_type": "code",
   "execution_count": 48,
   "metadata": {},
   "outputs": [],
   "source": [
    "# Freeze the network\n",
    "classifying_network.freeze_feature_extraction()\n",
    "classifying_network.freeze_classification()"
   ]
  },
  {
   "cell_type": "code",
   "execution_count": 49,
   "metadata": {},
   "outputs": [
    {
     "name": "stdout",
     "output_type": "stream",
     "text": [
      "0\n"
     ]
    }
   ],
   "source": [
    "# Count layers where require_grad = True\n",
    "counter = 0\n",
    "for layer in classifying_network.children():\n",
    "    for param in layer.parameters():\n",
    "        if param.requires_grad == True:\n",
    "            counter += 1\n",
    "\n",
    "print(counter)\n",
    "            "
   ]
  },
  {
   "cell_type": "code",
   "execution_count": null,
   "metadata": {},
   "outputs": [],
   "source": []
  }
 ],
 "metadata": {
  "kernelspec": {
   "display_name": "Python 3",
   "language": "python",
   "name": "python3"
  },
  "language_info": {
   "codemirror_mode": {
    "name": "ipython",
    "version": 3
   },
   "file_extension": ".py",
   "mimetype": "text/x-python",
   "name": "python",
   "nbconvert_exporter": "python",
   "pygments_lexer": "ipython3",
   "version": "3.8.12"
  }
 },
 "nbformat": 4,
 "nbformat_minor": 4
}
